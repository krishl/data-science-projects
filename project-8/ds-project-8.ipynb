{
  "nbformat": 4,
  "nbformat_minor": 0,
  "metadata": {
    "kernelspec": {
      "display_name": "Python 3",
      "language": "python",
      "name": "python3"
    },
    "language_info": {
      "codemirror_mode": {
        "name": "ipython",
        "version": 3
      },
      "file_extension": ".py",
      "mimetype": "text/x-python",
      "name": "python",
      "nbconvert_exporter": "python",
      "pygments_lexer": "ipython3",
      "version": "3.7.6"
    },
    "colab": {
      "name": "ds-project-8.ipynb",
      "provenance": []
    }
  },
  "cells": [
    {
      "cell_type": "markdown",
      "metadata": {
        "id": "dyXjfAM0mEBd"
      },
      "source": [
        "## Finding the best place for a new oil well"
      ]
    },
    {
      "cell_type": "markdown",
      "metadata": {
        "id": "DCdXRhbrmEBk"
      },
      "source": [
        "Data on oil samples from three regions will be used to create a model that will help pick the region with the highest profit margin. The Bootstrapping technique will be used to analyze potential profit and risks.\n",
        "\n",
        "Conditions:\n",
        "\n",
        "- Only linear regression is suitable for model training (the rest are not sufficiently predictable).\n",
        "- When exploring the region, a study of 500 points is carried with picking the best 200 points for the profit calculation.\n",
        "- The budget for development of 200 oil wells is 100 USD million.\n",
        "- One barrel of raw materials brings 4.5 USD of revenue The revenue from one unit of product is 4,500 dollars (volume of reserves is in thousand barrels).\n",
        "- After the risk evaluation, keep only the regions with the risk of losses lower than 2.5%. From the ones that fit the criteria, the region with the highest average profit should be selected."
      ]
    },
    {
      "cell_type": "markdown",
      "metadata": {
        "id": "i1QxzDfGmEBp"
      },
      "source": [
        "### Step 1 - Downloading and preparing the data"
      ]
    },
    {
      "cell_type": "code",
      "metadata": {
        "id": "iPw9-WzFmEBq"
      },
      "source": [
        "import pandas as pd\n",
        "import numpy as np\n",
        "from sklearn.preprocessing import StandardScaler\n",
        "from sklearn.model_selection import train_test_split\n",
        "from sklearn.linear_model import LinearRegression\n",
        "from sklearn.metrics import mean_squared_error"
      ],
      "execution_count": null,
      "outputs": []
    },
    {
      "cell_type": "code",
      "metadata": {
        "id": "j74kZyGPmEB8"
      },
      "source": [
        "df0 = pd.read_csv(\"/datasets/geo_data_0.csv\")"
      ],
      "execution_count": null,
      "outputs": []
    },
    {
      "cell_type": "code",
      "metadata": {
        "id": "ISRmEwI-mECF"
      },
      "source": [
        "df1 = pd.read_csv(\"/datasets/geo_data_1.csv\")"
      ],
      "execution_count": null,
      "outputs": []
    },
    {
      "cell_type": "code",
      "metadata": {
        "id": "l0UQ79HXmECP"
      },
      "source": [
        "df2 = pd.read_csv(\"/datasets/geo_data_2.csv\")"
      ],
      "execution_count": null,
      "outputs": []
    },
    {
      "cell_type": "code",
      "metadata": {
        "id": "3DvulhX4mECW",
        "outputId": "986f538c-4f3b-4d31-b56e-ec4bde052528"
      },
      "source": [
        "df0.head()"
      ],
      "execution_count": null,
      "outputs": [
        {
          "output_type": "execute_result",
          "data": {
            "text/html": [
              "<div>\n",
              "<style scoped>\n",
              "    .dataframe tbody tr th:only-of-type {\n",
              "        vertical-align: middle;\n",
              "    }\n",
              "\n",
              "    .dataframe tbody tr th {\n",
              "        vertical-align: top;\n",
              "    }\n",
              "\n",
              "    .dataframe thead th {\n",
              "        text-align: right;\n",
              "    }\n",
              "</style>\n",
              "<table border=\"1\" class=\"dataframe\">\n",
              "  <thead>\n",
              "    <tr style=\"text-align: right;\">\n",
              "      <th></th>\n",
              "      <th>id</th>\n",
              "      <th>f0</th>\n",
              "      <th>f1</th>\n",
              "      <th>f2</th>\n",
              "      <th>product</th>\n",
              "    </tr>\n",
              "  </thead>\n",
              "  <tbody>\n",
              "    <tr>\n",
              "      <td>0</td>\n",
              "      <td>txEyH</td>\n",
              "      <td>0.705745</td>\n",
              "      <td>-0.497823</td>\n",
              "      <td>1.221170</td>\n",
              "      <td>105.280062</td>\n",
              "    </tr>\n",
              "    <tr>\n",
              "      <td>1</td>\n",
              "      <td>2acmU</td>\n",
              "      <td>1.334711</td>\n",
              "      <td>-0.340164</td>\n",
              "      <td>4.365080</td>\n",
              "      <td>73.037750</td>\n",
              "    </tr>\n",
              "    <tr>\n",
              "      <td>2</td>\n",
              "      <td>409Wp</td>\n",
              "      <td>1.022732</td>\n",
              "      <td>0.151990</td>\n",
              "      <td>1.419926</td>\n",
              "      <td>85.265647</td>\n",
              "    </tr>\n",
              "    <tr>\n",
              "      <td>3</td>\n",
              "      <td>iJLyR</td>\n",
              "      <td>-0.032172</td>\n",
              "      <td>0.139033</td>\n",
              "      <td>2.978566</td>\n",
              "      <td>168.620776</td>\n",
              "    </tr>\n",
              "    <tr>\n",
              "      <td>4</td>\n",
              "      <td>Xdl7t</td>\n",
              "      <td>1.988431</td>\n",
              "      <td>0.155413</td>\n",
              "      <td>4.751769</td>\n",
              "      <td>154.036647</td>\n",
              "    </tr>\n",
              "  </tbody>\n",
              "</table>\n",
              "</div>"
            ],
            "text/plain": [
              "      id        f0        f1        f2     product\n",
              "0  txEyH  0.705745 -0.497823  1.221170  105.280062\n",
              "1  2acmU  1.334711 -0.340164  4.365080   73.037750\n",
              "2  409Wp  1.022732  0.151990  1.419926   85.265647\n",
              "3  iJLyR -0.032172  0.139033  2.978566  168.620776\n",
              "4  Xdl7t  1.988431  0.155413  4.751769  154.036647"
            ]
          },
          "metadata": {
            "tags": []
          },
          "execution_count": 5
        }
      ]
    },
    {
      "cell_type": "code",
      "metadata": {
        "id": "m1zxogv-mECg",
        "outputId": "784c5f8b-691c-453e-b541-24b123b4af2a"
      },
      "source": [
        "df1.head()"
      ],
      "execution_count": null,
      "outputs": [
        {
          "output_type": "execute_result",
          "data": {
            "text/html": [
              "<div>\n",
              "<style scoped>\n",
              "    .dataframe tbody tr th:only-of-type {\n",
              "        vertical-align: middle;\n",
              "    }\n",
              "\n",
              "    .dataframe tbody tr th {\n",
              "        vertical-align: top;\n",
              "    }\n",
              "\n",
              "    .dataframe thead th {\n",
              "        text-align: right;\n",
              "    }\n",
              "</style>\n",
              "<table border=\"1\" class=\"dataframe\">\n",
              "  <thead>\n",
              "    <tr style=\"text-align: right;\">\n",
              "      <th></th>\n",
              "      <th>id</th>\n",
              "      <th>f0</th>\n",
              "      <th>f1</th>\n",
              "      <th>f2</th>\n",
              "      <th>product</th>\n",
              "    </tr>\n",
              "  </thead>\n",
              "  <tbody>\n",
              "    <tr>\n",
              "      <td>0</td>\n",
              "      <td>kBEdx</td>\n",
              "      <td>-15.001348</td>\n",
              "      <td>-8.276000</td>\n",
              "      <td>-0.005876</td>\n",
              "      <td>3.179103</td>\n",
              "    </tr>\n",
              "    <tr>\n",
              "      <td>1</td>\n",
              "      <td>62mP7</td>\n",
              "      <td>14.272088</td>\n",
              "      <td>-3.475083</td>\n",
              "      <td>0.999183</td>\n",
              "      <td>26.953261</td>\n",
              "    </tr>\n",
              "    <tr>\n",
              "      <td>2</td>\n",
              "      <td>vyE1P</td>\n",
              "      <td>6.263187</td>\n",
              "      <td>-5.948386</td>\n",
              "      <td>5.001160</td>\n",
              "      <td>134.766305</td>\n",
              "    </tr>\n",
              "    <tr>\n",
              "      <td>3</td>\n",
              "      <td>KcrkZ</td>\n",
              "      <td>-13.081196</td>\n",
              "      <td>-11.506057</td>\n",
              "      <td>4.999415</td>\n",
              "      <td>137.945408</td>\n",
              "    </tr>\n",
              "    <tr>\n",
              "      <td>4</td>\n",
              "      <td>AHL4O</td>\n",
              "      <td>12.702195</td>\n",
              "      <td>-8.147433</td>\n",
              "      <td>5.004363</td>\n",
              "      <td>134.766305</td>\n",
              "    </tr>\n",
              "  </tbody>\n",
              "</table>\n",
              "</div>"
            ],
            "text/plain": [
              "      id         f0         f1        f2     product\n",
              "0  kBEdx -15.001348  -8.276000 -0.005876    3.179103\n",
              "1  62mP7  14.272088  -3.475083  0.999183   26.953261\n",
              "2  vyE1P   6.263187  -5.948386  5.001160  134.766305\n",
              "3  KcrkZ -13.081196 -11.506057  4.999415  137.945408\n",
              "4  AHL4O  12.702195  -8.147433  5.004363  134.766305"
            ]
          },
          "metadata": {
            "tags": []
          },
          "execution_count": 6
        }
      ]
    },
    {
      "cell_type": "code",
      "metadata": {
        "id": "a1_J4emdmECo",
        "outputId": "0248bb1e-5394-4993-cb5f-54bb9ac080f9"
      },
      "source": [
        "df2.head()"
      ],
      "execution_count": null,
      "outputs": [
        {
          "output_type": "execute_result",
          "data": {
            "text/html": [
              "<div>\n",
              "<style scoped>\n",
              "    .dataframe tbody tr th:only-of-type {\n",
              "        vertical-align: middle;\n",
              "    }\n",
              "\n",
              "    .dataframe tbody tr th {\n",
              "        vertical-align: top;\n",
              "    }\n",
              "\n",
              "    .dataframe thead th {\n",
              "        text-align: right;\n",
              "    }\n",
              "</style>\n",
              "<table border=\"1\" class=\"dataframe\">\n",
              "  <thead>\n",
              "    <tr style=\"text-align: right;\">\n",
              "      <th></th>\n",
              "      <th>id</th>\n",
              "      <th>f0</th>\n",
              "      <th>f1</th>\n",
              "      <th>f2</th>\n",
              "      <th>product</th>\n",
              "    </tr>\n",
              "  </thead>\n",
              "  <tbody>\n",
              "    <tr>\n",
              "      <td>0</td>\n",
              "      <td>fwXo0</td>\n",
              "      <td>-1.146987</td>\n",
              "      <td>0.963328</td>\n",
              "      <td>-0.828965</td>\n",
              "      <td>27.758673</td>\n",
              "    </tr>\n",
              "    <tr>\n",
              "      <td>1</td>\n",
              "      <td>WJtFt</td>\n",
              "      <td>0.262778</td>\n",
              "      <td>0.269839</td>\n",
              "      <td>-2.530187</td>\n",
              "      <td>56.069697</td>\n",
              "    </tr>\n",
              "    <tr>\n",
              "      <td>2</td>\n",
              "      <td>ovLUW</td>\n",
              "      <td>0.194587</td>\n",
              "      <td>0.289035</td>\n",
              "      <td>-5.586433</td>\n",
              "      <td>62.871910</td>\n",
              "    </tr>\n",
              "    <tr>\n",
              "      <td>3</td>\n",
              "      <td>q6cA6</td>\n",
              "      <td>2.236060</td>\n",
              "      <td>-0.553760</td>\n",
              "      <td>0.930038</td>\n",
              "      <td>114.572842</td>\n",
              "    </tr>\n",
              "    <tr>\n",
              "      <td>4</td>\n",
              "      <td>WPMUX</td>\n",
              "      <td>-0.515993</td>\n",
              "      <td>1.716266</td>\n",
              "      <td>5.899011</td>\n",
              "      <td>149.600746</td>\n",
              "    </tr>\n",
              "  </tbody>\n",
              "</table>\n",
              "</div>"
            ],
            "text/plain": [
              "      id        f0        f1        f2     product\n",
              "0  fwXo0 -1.146987  0.963328 -0.828965   27.758673\n",
              "1  WJtFt  0.262778  0.269839 -2.530187   56.069697\n",
              "2  ovLUW  0.194587  0.289035 -5.586433   62.871910\n",
              "3  q6cA6  2.236060 -0.553760  0.930038  114.572842\n",
              "4  WPMUX -0.515993  1.716266  5.899011  149.600746"
            ]
          },
          "metadata": {
            "tags": []
          },
          "execution_count": 7
        }
      ]
    },
    {
      "cell_type": "code",
      "metadata": {
        "id": "dqNIyRofmECu",
        "outputId": "bae5e206-9051-4a7d-e5ef-dac231b346be"
      },
      "source": [
        "df0.info()"
      ],
      "execution_count": null,
      "outputs": [
        {
          "output_type": "stream",
          "text": [
            "<class 'pandas.core.frame.DataFrame'>\n",
            "RangeIndex: 100000 entries, 0 to 99999\n",
            "Data columns (total 5 columns):\n",
            "id         100000 non-null object\n",
            "f0         100000 non-null float64\n",
            "f1         100000 non-null float64\n",
            "f2         100000 non-null float64\n",
            "product    100000 non-null float64\n",
            "dtypes: float64(4), object(1)\n",
            "memory usage: 3.8+ MB\n"
          ],
          "name": "stdout"
        }
      ]
    },
    {
      "cell_type": "code",
      "metadata": {
        "id": "p607R6EqmEC0",
        "outputId": "40185851-1678-49aa-95ea-536502f435e6"
      },
      "source": [
        "df1.info()"
      ],
      "execution_count": null,
      "outputs": [
        {
          "output_type": "stream",
          "text": [
            "<class 'pandas.core.frame.DataFrame'>\n",
            "RangeIndex: 100000 entries, 0 to 99999\n",
            "Data columns (total 5 columns):\n",
            "id         100000 non-null object\n",
            "f0         100000 non-null float64\n",
            "f1         100000 non-null float64\n",
            "f2         100000 non-null float64\n",
            "product    100000 non-null float64\n",
            "dtypes: float64(4), object(1)\n",
            "memory usage: 3.8+ MB\n"
          ],
          "name": "stdout"
        }
      ]
    },
    {
      "cell_type": "code",
      "metadata": {
        "id": "rPQU-LTwmEC6",
        "outputId": "ac563e1a-b363-40a7-8dfa-999066443a8f"
      },
      "source": [
        "df2.info()"
      ],
      "execution_count": null,
      "outputs": [
        {
          "output_type": "stream",
          "text": [
            "<class 'pandas.core.frame.DataFrame'>\n",
            "RangeIndex: 100000 entries, 0 to 99999\n",
            "Data columns (total 5 columns):\n",
            "id         100000 non-null object\n",
            "f0         100000 non-null float64\n",
            "f1         100000 non-null float64\n",
            "f2         100000 non-null float64\n",
            "product    100000 non-null float64\n",
            "dtypes: float64(4), object(1)\n",
            "memory usage: 3.8+ MB\n"
          ],
          "name": "stdout"
        }
      ]
    },
    {
      "cell_type": "code",
      "metadata": {
        "id": "vsC_2AgGmEDA",
        "outputId": "10b09380-397b-4679-e1fe-445134900285"
      },
      "source": [
        "df0.describe()"
      ],
      "execution_count": null,
      "outputs": [
        {
          "output_type": "execute_result",
          "data": {
            "text/html": [
              "<div>\n",
              "<style scoped>\n",
              "    .dataframe tbody tr th:only-of-type {\n",
              "        vertical-align: middle;\n",
              "    }\n",
              "\n",
              "    .dataframe tbody tr th {\n",
              "        vertical-align: top;\n",
              "    }\n",
              "\n",
              "    .dataframe thead th {\n",
              "        text-align: right;\n",
              "    }\n",
              "</style>\n",
              "<table border=\"1\" class=\"dataframe\">\n",
              "  <thead>\n",
              "    <tr style=\"text-align: right;\">\n",
              "      <th></th>\n",
              "      <th>f0</th>\n",
              "      <th>f1</th>\n",
              "      <th>f2</th>\n",
              "      <th>product</th>\n",
              "    </tr>\n",
              "  </thead>\n",
              "  <tbody>\n",
              "    <tr>\n",
              "      <td>count</td>\n",
              "      <td>100000.000000</td>\n",
              "      <td>100000.000000</td>\n",
              "      <td>100000.000000</td>\n",
              "      <td>100000.000000</td>\n",
              "    </tr>\n",
              "    <tr>\n",
              "      <td>mean</td>\n",
              "      <td>0.500419</td>\n",
              "      <td>0.250143</td>\n",
              "      <td>2.502647</td>\n",
              "      <td>92.500000</td>\n",
              "    </tr>\n",
              "    <tr>\n",
              "      <td>std</td>\n",
              "      <td>0.871832</td>\n",
              "      <td>0.504433</td>\n",
              "      <td>3.248248</td>\n",
              "      <td>44.288691</td>\n",
              "    </tr>\n",
              "    <tr>\n",
              "      <td>min</td>\n",
              "      <td>-1.408605</td>\n",
              "      <td>-0.848218</td>\n",
              "      <td>-12.088328</td>\n",
              "      <td>0.000000</td>\n",
              "    </tr>\n",
              "    <tr>\n",
              "      <td>25%</td>\n",
              "      <td>-0.072580</td>\n",
              "      <td>-0.200881</td>\n",
              "      <td>0.287748</td>\n",
              "      <td>56.497507</td>\n",
              "    </tr>\n",
              "    <tr>\n",
              "      <td>50%</td>\n",
              "      <td>0.502360</td>\n",
              "      <td>0.250252</td>\n",
              "      <td>2.515969</td>\n",
              "      <td>91.849972</td>\n",
              "    </tr>\n",
              "    <tr>\n",
              "      <td>75%</td>\n",
              "      <td>1.073581</td>\n",
              "      <td>0.700646</td>\n",
              "      <td>4.715088</td>\n",
              "      <td>128.564089</td>\n",
              "    </tr>\n",
              "    <tr>\n",
              "      <td>max</td>\n",
              "      <td>2.362331</td>\n",
              "      <td>1.343769</td>\n",
              "      <td>16.003790</td>\n",
              "      <td>185.364347</td>\n",
              "    </tr>\n",
              "  </tbody>\n",
              "</table>\n",
              "</div>"
            ],
            "text/plain": [
              "                  f0             f1             f2        product\n",
              "count  100000.000000  100000.000000  100000.000000  100000.000000\n",
              "mean        0.500419       0.250143       2.502647      92.500000\n",
              "std         0.871832       0.504433       3.248248      44.288691\n",
              "min        -1.408605      -0.848218     -12.088328       0.000000\n",
              "25%        -0.072580      -0.200881       0.287748      56.497507\n",
              "50%         0.502360       0.250252       2.515969      91.849972\n",
              "75%         1.073581       0.700646       4.715088     128.564089\n",
              "max         2.362331       1.343769      16.003790     185.364347"
            ]
          },
          "metadata": {
            "tags": []
          },
          "execution_count": 11
        }
      ]
    },
    {
      "cell_type": "code",
      "metadata": {
        "id": "B3C-Jb1cmEDG",
        "outputId": "6953bca5-74c8-4c13-d83f-00f49346030b"
      },
      "source": [
        "df1.describe()"
      ],
      "execution_count": null,
      "outputs": [
        {
          "output_type": "execute_result",
          "data": {
            "text/html": [
              "<div>\n",
              "<style scoped>\n",
              "    .dataframe tbody tr th:only-of-type {\n",
              "        vertical-align: middle;\n",
              "    }\n",
              "\n",
              "    .dataframe tbody tr th {\n",
              "        vertical-align: top;\n",
              "    }\n",
              "\n",
              "    .dataframe thead th {\n",
              "        text-align: right;\n",
              "    }\n",
              "</style>\n",
              "<table border=\"1\" class=\"dataframe\">\n",
              "  <thead>\n",
              "    <tr style=\"text-align: right;\">\n",
              "      <th></th>\n",
              "      <th>f0</th>\n",
              "      <th>f1</th>\n",
              "      <th>f2</th>\n",
              "      <th>product</th>\n",
              "    </tr>\n",
              "  </thead>\n",
              "  <tbody>\n",
              "    <tr>\n",
              "      <td>count</td>\n",
              "      <td>100000.000000</td>\n",
              "      <td>100000.000000</td>\n",
              "      <td>100000.000000</td>\n",
              "      <td>100000.000000</td>\n",
              "    </tr>\n",
              "    <tr>\n",
              "      <td>mean</td>\n",
              "      <td>1.141296</td>\n",
              "      <td>-4.796579</td>\n",
              "      <td>2.494541</td>\n",
              "      <td>68.825000</td>\n",
              "    </tr>\n",
              "    <tr>\n",
              "      <td>std</td>\n",
              "      <td>8.965932</td>\n",
              "      <td>5.119872</td>\n",
              "      <td>1.703572</td>\n",
              "      <td>45.944423</td>\n",
              "    </tr>\n",
              "    <tr>\n",
              "      <td>min</td>\n",
              "      <td>-31.609576</td>\n",
              "      <td>-26.358598</td>\n",
              "      <td>-0.018144</td>\n",
              "      <td>0.000000</td>\n",
              "    </tr>\n",
              "    <tr>\n",
              "      <td>25%</td>\n",
              "      <td>-6.298551</td>\n",
              "      <td>-8.267985</td>\n",
              "      <td>1.000021</td>\n",
              "      <td>26.953261</td>\n",
              "    </tr>\n",
              "    <tr>\n",
              "      <td>50%</td>\n",
              "      <td>1.153055</td>\n",
              "      <td>-4.813172</td>\n",
              "      <td>2.011479</td>\n",
              "      <td>57.085625</td>\n",
              "    </tr>\n",
              "    <tr>\n",
              "      <td>75%</td>\n",
              "      <td>8.621015</td>\n",
              "      <td>-1.332816</td>\n",
              "      <td>3.999904</td>\n",
              "      <td>107.813044</td>\n",
              "    </tr>\n",
              "    <tr>\n",
              "      <td>max</td>\n",
              "      <td>29.421755</td>\n",
              "      <td>18.734063</td>\n",
              "      <td>5.019721</td>\n",
              "      <td>137.945408</td>\n",
              "    </tr>\n",
              "  </tbody>\n",
              "</table>\n",
              "</div>"
            ],
            "text/plain": [
              "                  f0             f1             f2        product\n",
              "count  100000.000000  100000.000000  100000.000000  100000.000000\n",
              "mean        1.141296      -4.796579       2.494541      68.825000\n",
              "std         8.965932       5.119872       1.703572      45.944423\n",
              "min       -31.609576     -26.358598      -0.018144       0.000000\n",
              "25%        -6.298551      -8.267985       1.000021      26.953261\n",
              "50%         1.153055      -4.813172       2.011479      57.085625\n",
              "75%         8.621015      -1.332816       3.999904     107.813044\n",
              "max        29.421755      18.734063       5.019721     137.945408"
            ]
          },
          "metadata": {
            "tags": []
          },
          "execution_count": 12
        }
      ]
    },
    {
      "cell_type": "code",
      "metadata": {
        "id": "ZsgURwKamEDN",
        "outputId": "a019dcca-485b-4a1a-a67e-bcb7978024c1"
      },
      "source": [
        "df2.describe()"
      ],
      "execution_count": null,
      "outputs": [
        {
          "output_type": "execute_result",
          "data": {
            "text/html": [
              "<div>\n",
              "<style scoped>\n",
              "    .dataframe tbody tr th:only-of-type {\n",
              "        vertical-align: middle;\n",
              "    }\n",
              "\n",
              "    .dataframe tbody tr th {\n",
              "        vertical-align: top;\n",
              "    }\n",
              "\n",
              "    .dataframe thead th {\n",
              "        text-align: right;\n",
              "    }\n",
              "</style>\n",
              "<table border=\"1\" class=\"dataframe\">\n",
              "  <thead>\n",
              "    <tr style=\"text-align: right;\">\n",
              "      <th></th>\n",
              "      <th>f0</th>\n",
              "      <th>f1</th>\n",
              "      <th>f2</th>\n",
              "      <th>product</th>\n",
              "    </tr>\n",
              "  </thead>\n",
              "  <tbody>\n",
              "    <tr>\n",
              "      <td>count</td>\n",
              "      <td>100000.000000</td>\n",
              "      <td>100000.000000</td>\n",
              "      <td>100000.000000</td>\n",
              "      <td>100000.000000</td>\n",
              "    </tr>\n",
              "    <tr>\n",
              "      <td>mean</td>\n",
              "      <td>0.002023</td>\n",
              "      <td>-0.002081</td>\n",
              "      <td>2.495128</td>\n",
              "      <td>95.000000</td>\n",
              "    </tr>\n",
              "    <tr>\n",
              "      <td>std</td>\n",
              "      <td>1.732045</td>\n",
              "      <td>1.730417</td>\n",
              "      <td>3.473445</td>\n",
              "      <td>44.749921</td>\n",
              "    </tr>\n",
              "    <tr>\n",
              "      <td>min</td>\n",
              "      <td>-8.760004</td>\n",
              "      <td>-7.084020</td>\n",
              "      <td>-11.970335</td>\n",
              "      <td>0.000000</td>\n",
              "    </tr>\n",
              "    <tr>\n",
              "      <td>25%</td>\n",
              "      <td>-1.162288</td>\n",
              "      <td>-1.174820</td>\n",
              "      <td>0.130359</td>\n",
              "      <td>59.450441</td>\n",
              "    </tr>\n",
              "    <tr>\n",
              "      <td>50%</td>\n",
              "      <td>0.009424</td>\n",
              "      <td>-0.009482</td>\n",
              "      <td>2.484236</td>\n",
              "      <td>94.925613</td>\n",
              "    </tr>\n",
              "    <tr>\n",
              "      <td>75%</td>\n",
              "      <td>1.158535</td>\n",
              "      <td>1.163678</td>\n",
              "      <td>4.858794</td>\n",
              "      <td>130.595027</td>\n",
              "    </tr>\n",
              "    <tr>\n",
              "      <td>max</td>\n",
              "      <td>7.238262</td>\n",
              "      <td>7.844801</td>\n",
              "      <td>16.739402</td>\n",
              "      <td>190.029838</td>\n",
              "    </tr>\n",
              "  </tbody>\n",
              "</table>\n",
              "</div>"
            ],
            "text/plain": [
              "                  f0             f1             f2        product\n",
              "count  100000.000000  100000.000000  100000.000000  100000.000000\n",
              "mean        0.002023      -0.002081       2.495128      95.000000\n",
              "std         1.732045       1.730417       3.473445      44.749921\n",
              "min        -8.760004      -7.084020     -11.970335       0.000000\n",
              "25%        -1.162288      -1.174820       0.130359      59.450441\n",
              "50%         0.009424      -0.009482       2.484236      94.925613\n",
              "75%         1.158535       1.163678       4.858794     130.595027\n",
              "max         7.238262       7.844801      16.739402     190.029838"
            ]
          },
          "metadata": {
            "tags": []
          },
          "execution_count": 13
        }
      ]
    },
    {
      "cell_type": "markdown",
      "metadata": {
        "id": "9tIprzjwmEDT"
      },
      "source": [
        "#### Checking for duplicates"
      ]
    },
    {
      "cell_type": "code",
      "metadata": {
        "id": "ImxU4KXTmEDU",
        "outputId": "b7ca98a6-aeed-496d-aa6e-160ca4a4079a"
      },
      "source": [
        "df0.loc[df0.duplicated(['id'], keep=False)]"
      ],
      "execution_count": null,
      "outputs": [
        {
          "output_type": "execute_result",
          "data": {
            "text/html": [
              "<div>\n",
              "<style scoped>\n",
              "    .dataframe tbody tr th:only-of-type {\n",
              "        vertical-align: middle;\n",
              "    }\n",
              "\n",
              "    .dataframe tbody tr th {\n",
              "        vertical-align: top;\n",
              "    }\n",
              "\n",
              "    .dataframe thead th {\n",
              "        text-align: right;\n",
              "    }\n",
              "</style>\n",
              "<table border=\"1\" class=\"dataframe\">\n",
              "  <thead>\n",
              "    <tr style=\"text-align: right;\">\n",
              "      <th></th>\n",
              "      <th>id</th>\n",
              "      <th>f0</th>\n",
              "      <th>f1</th>\n",
              "      <th>f2</th>\n",
              "      <th>product</th>\n",
              "    </tr>\n",
              "  </thead>\n",
              "  <tbody>\n",
              "    <tr>\n",
              "      <td>931</td>\n",
              "      <td>HZww2</td>\n",
              "      <td>0.755284</td>\n",
              "      <td>0.368511</td>\n",
              "      <td>1.863211</td>\n",
              "      <td>30.681774</td>\n",
              "    </tr>\n",
              "    <tr>\n",
              "      <td>1364</td>\n",
              "      <td>bxg6G</td>\n",
              "      <td>0.411645</td>\n",
              "      <td>0.856830</td>\n",
              "      <td>-3.653440</td>\n",
              "      <td>73.604260</td>\n",
              "    </tr>\n",
              "    <tr>\n",
              "      <td>1949</td>\n",
              "      <td>QcMuo</td>\n",
              "      <td>0.506563</td>\n",
              "      <td>-0.323775</td>\n",
              "      <td>-2.215583</td>\n",
              "      <td>75.496502</td>\n",
              "    </tr>\n",
              "    <tr>\n",
              "      <td>3389</td>\n",
              "      <td>A5aEY</td>\n",
              "      <td>-0.039949</td>\n",
              "      <td>0.156872</td>\n",
              "      <td>0.209861</td>\n",
              "      <td>89.249364</td>\n",
              "    </tr>\n",
              "    <tr>\n",
              "      <td>7530</td>\n",
              "      <td>HZww2</td>\n",
              "      <td>1.061194</td>\n",
              "      <td>-0.373969</td>\n",
              "      <td>10.430210</td>\n",
              "      <td>158.828695</td>\n",
              "    </tr>\n",
              "    <tr>\n",
              "      <td>16633</td>\n",
              "      <td>fiKDv</td>\n",
              "      <td>0.157341</td>\n",
              "      <td>1.028359</td>\n",
              "      <td>5.585586</td>\n",
              "      <td>95.817889</td>\n",
              "    </tr>\n",
              "    <tr>\n",
              "      <td>21426</td>\n",
              "      <td>Tdehs</td>\n",
              "      <td>0.829407</td>\n",
              "      <td>0.298807</td>\n",
              "      <td>-0.049563</td>\n",
              "      <td>96.035308</td>\n",
              "    </tr>\n",
              "    <tr>\n",
              "      <td>41724</td>\n",
              "      <td>bxg6G</td>\n",
              "      <td>-0.823752</td>\n",
              "      <td>0.546319</td>\n",
              "      <td>3.630479</td>\n",
              "      <td>93.007798</td>\n",
              "    </tr>\n",
              "    <tr>\n",
              "      <td>42529</td>\n",
              "      <td>AGS9W</td>\n",
              "      <td>1.454747</td>\n",
              "      <td>-0.479651</td>\n",
              "      <td>0.683380</td>\n",
              "      <td>126.370504</td>\n",
              "    </tr>\n",
              "    <tr>\n",
              "      <td>51970</td>\n",
              "      <td>A5aEY</td>\n",
              "      <td>-0.180335</td>\n",
              "      <td>0.935548</td>\n",
              "      <td>-2.094773</td>\n",
              "      <td>33.020205</td>\n",
              "    </tr>\n",
              "    <tr>\n",
              "      <td>60140</td>\n",
              "      <td>TtcGQ</td>\n",
              "      <td>0.569276</td>\n",
              "      <td>-0.104876</td>\n",
              "      <td>6.440215</td>\n",
              "      <td>85.350186</td>\n",
              "    </tr>\n",
              "    <tr>\n",
              "      <td>63593</td>\n",
              "      <td>QcMuo</td>\n",
              "      <td>0.635635</td>\n",
              "      <td>-0.473422</td>\n",
              "      <td>0.862670</td>\n",
              "      <td>64.578675</td>\n",
              "    </tr>\n",
              "    <tr>\n",
              "      <td>64022</td>\n",
              "      <td>74z30</td>\n",
              "      <td>0.741456</td>\n",
              "      <td>0.459229</td>\n",
              "      <td>5.153109</td>\n",
              "      <td>140.771492</td>\n",
              "    </tr>\n",
              "    <tr>\n",
              "      <td>66136</td>\n",
              "      <td>74z30</td>\n",
              "      <td>1.084962</td>\n",
              "      <td>-0.312358</td>\n",
              "      <td>6.990771</td>\n",
              "      <td>127.643327</td>\n",
              "    </tr>\n",
              "    <tr>\n",
              "      <td>69163</td>\n",
              "      <td>AGS9W</td>\n",
              "      <td>-0.933795</td>\n",
              "      <td>0.116194</td>\n",
              "      <td>-3.655896</td>\n",
              "      <td>19.230453</td>\n",
              "    </tr>\n",
              "    <tr>\n",
              "      <td>75715</td>\n",
              "      <td>Tdehs</td>\n",
              "      <td>0.112079</td>\n",
              "      <td>0.430296</td>\n",
              "      <td>3.218993</td>\n",
              "      <td>60.964018</td>\n",
              "    </tr>\n",
              "    <tr>\n",
              "      <td>89582</td>\n",
              "      <td>bsk9y</td>\n",
              "      <td>0.398908</td>\n",
              "      <td>-0.400253</td>\n",
              "      <td>10.122376</td>\n",
              "      <td>163.433078</td>\n",
              "    </tr>\n",
              "    <tr>\n",
              "      <td>90815</td>\n",
              "      <td>fiKDv</td>\n",
              "      <td>0.049883</td>\n",
              "      <td>0.841313</td>\n",
              "      <td>6.394613</td>\n",
              "      <td>137.346586</td>\n",
              "    </tr>\n",
              "    <tr>\n",
              "      <td>92341</td>\n",
              "      <td>TtcGQ</td>\n",
              "      <td>0.110711</td>\n",
              "      <td>1.022689</td>\n",
              "      <td>0.911381</td>\n",
              "      <td>101.318008</td>\n",
              "    </tr>\n",
              "    <tr>\n",
              "      <td>97785</td>\n",
              "      <td>bsk9y</td>\n",
              "      <td>0.378429</td>\n",
              "      <td>0.005837</td>\n",
              "      <td>0.160827</td>\n",
              "      <td>160.637302</td>\n",
              "    </tr>\n",
              "  </tbody>\n",
              "</table>\n",
              "</div>"
            ],
            "text/plain": [
              "          id        f0        f1         f2     product\n",
              "931    HZww2  0.755284  0.368511   1.863211   30.681774\n",
              "1364   bxg6G  0.411645  0.856830  -3.653440   73.604260\n",
              "1949   QcMuo  0.506563 -0.323775  -2.215583   75.496502\n",
              "3389   A5aEY -0.039949  0.156872   0.209861   89.249364\n",
              "7530   HZww2  1.061194 -0.373969  10.430210  158.828695\n",
              "16633  fiKDv  0.157341  1.028359   5.585586   95.817889\n",
              "21426  Tdehs  0.829407  0.298807  -0.049563   96.035308\n",
              "41724  bxg6G -0.823752  0.546319   3.630479   93.007798\n",
              "42529  AGS9W  1.454747 -0.479651   0.683380  126.370504\n",
              "51970  A5aEY -0.180335  0.935548  -2.094773   33.020205\n",
              "60140  TtcGQ  0.569276 -0.104876   6.440215   85.350186\n",
              "63593  QcMuo  0.635635 -0.473422   0.862670   64.578675\n",
              "64022  74z30  0.741456  0.459229   5.153109  140.771492\n",
              "66136  74z30  1.084962 -0.312358   6.990771  127.643327\n",
              "69163  AGS9W -0.933795  0.116194  -3.655896   19.230453\n",
              "75715  Tdehs  0.112079  0.430296   3.218993   60.964018\n",
              "89582  bsk9y  0.398908 -0.400253  10.122376  163.433078\n",
              "90815  fiKDv  0.049883  0.841313   6.394613  137.346586\n",
              "92341  TtcGQ  0.110711  1.022689   0.911381  101.318008\n",
              "97785  bsk9y  0.378429  0.005837   0.160827  160.637302"
            ]
          },
          "metadata": {
            "tags": []
          },
          "execution_count": 14
        }
      ]
    },
    {
      "cell_type": "code",
      "metadata": {
        "id": "FYBkjRM-mEDZ",
        "outputId": "4a5e9c75-c45b-4d50-f997-2e651120e47e"
      },
      "source": [
        "df1.loc[df1.duplicated(['id'], keep=False)]"
      ],
      "execution_count": null,
      "outputs": [
        {
          "output_type": "execute_result",
          "data": {
            "text/html": [
              "<div>\n",
              "<style scoped>\n",
              "    .dataframe tbody tr th:only-of-type {\n",
              "        vertical-align: middle;\n",
              "    }\n",
              "\n",
              "    .dataframe tbody tr th {\n",
              "        vertical-align: top;\n",
              "    }\n",
              "\n",
              "    .dataframe thead th {\n",
              "        text-align: right;\n",
              "    }\n",
              "</style>\n",
              "<table border=\"1\" class=\"dataframe\">\n",
              "  <thead>\n",
              "    <tr style=\"text-align: right;\">\n",
              "      <th></th>\n",
              "      <th>id</th>\n",
              "      <th>f0</th>\n",
              "      <th>f1</th>\n",
              "      <th>f2</th>\n",
              "      <th>product</th>\n",
              "    </tr>\n",
              "  </thead>\n",
              "  <tbody>\n",
              "    <tr>\n",
              "      <td>1305</td>\n",
              "      <td>LHZR0</td>\n",
              "      <td>11.170835</td>\n",
              "      <td>-1.945066</td>\n",
              "      <td>3.002872</td>\n",
              "      <td>80.859783</td>\n",
              "    </tr>\n",
              "    <tr>\n",
              "      <td>2721</td>\n",
              "      <td>bfPNe</td>\n",
              "      <td>-9.494442</td>\n",
              "      <td>-5.463692</td>\n",
              "      <td>4.006042</td>\n",
              "      <td>110.992147</td>\n",
              "    </tr>\n",
              "    <tr>\n",
              "      <td>5849</td>\n",
              "      <td>5ltQ6</td>\n",
              "      <td>-3.435401</td>\n",
              "      <td>-12.296043</td>\n",
              "      <td>1.999796</td>\n",
              "      <td>57.085625</td>\n",
              "    </tr>\n",
              "    <tr>\n",
              "      <td>41906</td>\n",
              "      <td>LHZR0</td>\n",
              "      <td>-8.989672</td>\n",
              "      <td>-4.286607</td>\n",
              "      <td>2.009139</td>\n",
              "      <td>57.085625</td>\n",
              "    </tr>\n",
              "    <tr>\n",
              "      <td>47591</td>\n",
              "      <td>wt4Uk</td>\n",
              "      <td>-9.091098</td>\n",
              "      <td>-8.109279</td>\n",
              "      <td>-0.002314</td>\n",
              "      <td>3.179103</td>\n",
              "    </tr>\n",
              "    <tr>\n",
              "      <td>82178</td>\n",
              "      <td>bfPNe</td>\n",
              "      <td>-6.202799</td>\n",
              "      <td>-4.820045</td>\n",
              "      <td>2.995107</td>\n",
              "      <td>84.038886</td>\n",
              "    </tr>\n",
              "    <tr>\n",
              "      <td>82873</td>\n",
              "      <td>wt4Uk</td>\n",
              "      <td>10.259972</td>\n",
              "      <td>-9.376355</td>\n",
              "      <td>4.994297</td>\n",
              "      <td>134.766305</td>\n",
              "    </tr>\n",
              "    <tr>\n",
              "      <td>84461</td>\n",
              "      <td>5ltQ6</td>\n",
              "      <td>18.213839</td>\n",
              "      <td>2.191999</td>\n",
              "      <td>3.993869</td>\n",
              "      <td>107.813044</td>\n",
              "    </tr>\n",
              "  </tbody>\n",
              "</table>\n",
              "</div>"
            ],
            "text/plain": [
              "          id         f0         f1        f2     product\n",
              "1305   LHZR0  11.170835  -1.945066  3.002872   80.859783\n",
              "2721   bfPNe  -9.494442  -5.463692  4.006042  110.992147\n",
              "5849   5ltQ6  -3.435401 -12.296043  1.999796   57.085625\n",
              "41906  LHZR0  -8.989672  -4.286607  2.009139   57.085625\n",
              "47591  wt4Uk  -9.091098  -8.109279 -0.002314    3.179103\n",
              "82178  bfPNe  -6.202799  -4.820045  2.995107   84.038886\n",
              "82873  wt4Uk  10.259972  -9.376355  4.994297  134.766305\n",
              "84461  5ltQ6  18.213839   2.191999  3.993869  107.813044"
            ]
          },
          "metadata": {
            "tags": []
          },
          "execution_count": 15
        }
      ]
    },
    {
      "cell_type": "code",
      "metadata": {
        "id": "pACz9dnymEDh",
        "outputId": "104b2d1d-5b0f-41ee-b784-49ce74190395"
      },
      "source": [
        "df2.loc[df2.duplicated(['id'], keep=False)]"
      ],
      "execution_count": null,
      "outputs": [
        {
          "output_type": "execute_result",
          "data": {
            "text/html": [
              "<div>\n",
              "<style scoped>\n",
              "    .dataframe tbody tr th:only-of-type {\n",
              "        vertical-align: middle;\n",
              "    }\n",
              "\n",
              "    .dataframe tbody tr th {\n",
              "        vertical-align: top;\n",
              "    }\n",
              "\n",
              "    .dataframe thead th {\n",
              "        text-align: right;\n",
              "    }\n",
              "</style>\n",
              "<table border=\"1\" class=\"dataframe\">\n",
              "  <thead>\n",
              "    <tr style=\"text-align: right;\">\n",
              "      <th></th>\n",
              "      <th>id</th>\n",
              "      <th>f0</th>\n",
              "      <th>f1</th>\n",
              "      <th>f2</th>\n",
              "      <th>product</th>\n",
              "    </tr>\n",
              "  </thead>\n",
              "  <tbody>\n",
              "    <tr>\n",
              "      <td>11449</td>\n",
              "      <td>VF7Jo</td>\n",
              "      <td>2.122656</td>\n",
              "      <td>-0.858275</td>\n",
              "      <td>5.746001</td>\n",
              "      <td>181.716817</td>\n",
              "    </tr>\n",
              "    <tr>\n",
              "      <td>28039</td>\n",
              "      <td>xCHr8</td>\n",
              "      <td>1.633027</td>\n",
              "      <td>0.368135</td>\n",
              "      <td>-2.378367</td>\n",
              "      <td>6.120525</td>\n",
              "    </tr>\n",
              "    <tr>\n",
              "      <td>43233</td>\n",
              "      <td>xCHr8</td>\n",
              "      <td>-0.847066</td>\n",
              "      <td>2.101796</td>\n",
              "      <td>5.597130</td>\n",
              "      <td>184.388641</td>\n",
              "    </tr>\n",
              "    <tr>\n",
              "      <td>44378</td>\n",
              "      <td>Vcm5J</td>\n",
              "      <td>-1.229484</td>\n",
              "      <td>-2.439204</td>\n",
              "      <td>1.222909</td>\n",
              "      <td>137.968290</td>\n",
              "    </tr>\n",
              "    <tr>\n",
              "      <td>45404</td>\n",
              "      <td>KUPhW</td>\n",
              "      <td>0.231846</td>\n",
              "      <td>-1.698941</td>\n",
              "      <td>4.990775</td>\n",
              "      <td>11.716299</td>\n",
              "    </tr>\n",
              "    <tr>\n",
              "      <td>49564</td>\n",
              "      <td>VF7Jo</td>\n",
              "      <td>-0.883115</td>\n",
              "      <td>0.560537</td>\n",
              "      <td>0.723601</td>\n",
              "      <td>136.233420</td>\n",
              "    </tr>\n",
              "    <tr>\n",
              "      <td>55967</td>\n",
              "      <td>KUPhW</td>\n",
              "      <td>1.211150</td>\n",
              "      <td>3.176408</td>\n",
              "      <td>5.543540</td>\n",
              "      <td>132.831802</td>\n",
              "    </tr>\n",
              "    <tr>\n",
              "      <td>95090</td>\n",
              "      <td>Vcm5J</td>\n",
              "      <td>2.587702</td>\n",
              "      <td>1.986875</td>\n",
              "      <td>2.482245</td>\n",
              "      <td>92.327572</td>\n",
              "    </tr>\n",
              "  </tbody>\n",
              "</table>\n",
              "</div>"
            ],
            "text/plain": [
              "          id        f0        f1        f2     product\n",
              "11449  VF7Jo  2.122656 -0.858275  5.746001  181.716817\n",
              "28039  xCHr8  1.633027  0.368135 -2.378367    6.120525\n",
              "43233  xCHr8 -0.847066  2.101796  5.597130  184.388641\n",
              "44378  Vcm5J -1.229484 -2.439204  1.222909  137.968290\n",
              "45404  KUPhW  0.231846 -1.698941  4.990775   11.716299\n",
              "49564  VF7Jo -0.883115  0.560537  0.723601  136.233420\n",
              "55967  KUPhW  1.211150  3.176408  5.543540  132.831802\n",
              "95090  Vcm5J  2.587702  1.986875  2.482245   92.327572"
            ]
          },
          "metadata": {
            "tags": []
          },
          "execution_count": 16
        }
      ]
    },
    {
      "cell_type": "markdown",
      "metadata": {
        "id": "atoF_U_LmEDm"
      },
      "source": [
        "#### Counting duplicate rows"
      ]
    },
    {
      "cell_type": "code",
      "metadata": {
        "id": "3FGZw6u8mEDn",
        "outputId": "cb1f5afa-7d80-4eb1-f1ee-2f70aedc9854"
      },
      "source": [
        "len(df0.loc[df0.duplicated(['id'], keep=False)].index)"
      ],
      "execution_count": null,
      "outputs": [
        {
          "output_type": "execute_result",
          "data": {
            "text/plain": [
              "20"
            ]
          },
          "metadata": {
            "tags": []
          },
          "execution_count": 17
        }
      ]
    },
    {
      "cell_type": "code",
      "metadata": {
        "id": "Lk_T9ubymEDs",
        "outputId": "678bdda0-8311-44f8-fcef-d183463e33b6"
      },
      "source": [
        "len(df1.loc[df1.duplicated(['id'], keep=False)].index)"
      ],
      "execution_count": null,
      "outputs": [
        {
          "output_type": "execute_result",
          "data": {
            "text/plain": [
              "8"
            ]
          },
          "metadata": {
            "tags": []
          },
          "execution_count": 18
        }
      ]
    },
    {
      "cell_type": "code",
      "metadata": {
        "id": "fem6vS5omEDx",
        "outputId": "87f94cec-1667-47e2-eeb5-0339b982f819"
      },
      "source": [
        "len(df2.loc[df2.duplicated(['id'], keep=False)].index)"
      ],
      "execution_count": null,
      "outputs": [
        {
          "output_type": "execute_result",
          "data": {
            "text/plain": [
              "8"
            ]
          },
          "metadata": {
            "tags": []
          },
          "execution_count": 19
        }
      ]
    },
    {
      "cell_type": "markdown",
      "metadata": {
        "id": "-YWWDfy_mED2"
      },
      "source": [
        "#### Dropping duplicate rows"
      ]
    },
    {
      "cell_type": "code",
      "metadata": {
        "id": "E6ZOoCULmED3"
      },
      "source": [
        "for df in [df0, df1, df2]:\n",
        "    df.drop_duplicates(subset=['id'], keep=False, inplace=True)\n",
        "    df.reset_index(drop=True, inplace=True)"
      ],
      "execution_count": null,
      "outputs": []
    },
    {
      "cell_type": "markdown",
      "metadata": {
        "id": "0TaUlIz5mED8"
      },
      "source": [
        "### Conclusion"
      ]
    },
    {
      "cell_type": "markdown",
      "metadata": {
        "id": "lVy5YTKfmED9"
      },
      "source": [
        "3 files were opened and examined for general information: `geo_data_0.csv`, `geo_data_1.csv`, and `geo_data_2.csv`. \n",
        "\n",
        "The columns for all three datasets contain 100,000 observations and are described as follows:\n",
        "\n",
        "`id` — unique oil well identifier\n",
        "\n",
        "`f0`, `f1`, `f2` — three features of points (their specific meaning is unimportant, but the features themselves are significant)\n",
        "\n",
        "`product` — volume of reserves in the oil well (thousand barrels).\n",
        "\n",
        "All datatypes are correctly assigned, and there are 0 null values.\n",
        "\n",
        "10 IDs in `geo_data_0.csv`, 4 IDs in `geo_data_1.csv`, and 4 IDs in `geo_data_2.csv` were found to have a duplicate. The duplicated IDs have non-matching values for `f0`, `f1`, `f2`, and `product`. Since these duplicates only comprise 0.0002, 0.00008, and 0.00008 of the dataset observations respectively, and it is not known which of the rows contain correct data, the duplicates are dropped from each dataset."
      ]
    },
    {
      "cell_type": "markdown",
      "metadata": {
        "id": "I7YxSdM_mED_"
      },
      "source": [
        "### Step 2 - Train and test the model for each region:"
      ]
    },
    {
      "cell_type": "code",
      "metadata": {
        "id": "P9X0SvoGmEEG",
        "outputId": "99b75d23-4646-46cf-d166-424171c4e098"
      },
      "source": [
        "saved_predictions_valid = []\n",
        "saved_target_valid = []\n",
        "\n",
        "for df, name in [(df0, \"df0\"), (df1, \"df1\"), (df2, \"df2\")]:\n",
        "    target = df['product']\n",
        "    features = df.drop(['id', 'product'], axis=1)\n",
        "\n",
        "    features_train, features_valid, target_train, target_valid = train_test_split(features, target, test_size=0.25, random_state = 12345)\n",
        "    \n",
        "    scaler = StandardScaler()\n",
        "    scaler.fit(features_train)\n",
        "    scaler.transform(features_train, copy=False)\n",
        "    scaler.transform(features_valid, copy=False)\n",
        "    \n",
        "    model = LinearRegression()\n",
        "    model.fit(features_train, target_train)\n",
        "    \n",
        "    predictions_valid = model.predict(features_valid)\n",
        "    \n",
        "    saved_predictions_valid.append(predictions_valid)\n",
        "    saved_target_valid.append(target_valid)\n",
        "\n",
        "    rmse = mean_squared_error(target_valid, predictions_valid) ** 0.5\n",
        "\n",
        "    print('')\n",
        "    print(name, \"has an average volume of predicted reserves of\", round(predictions_valid.mean(), 2), \"thousand barrels and a RMSE of\", round(rmse, 2))"
      ],
      "execution_count": null,
      "outputs": [
        {
          "output_type": "stream",
          "text": [
            "\n",
            "df0 has an average volume of predicted reserves of 92.42 thousand barrels and a RMSE of 37.72\n",
            "\n",
            "df1 has an average volume of predicted reserves of 68.98 thousand barrels and a RMSE of 0.89\n",
            "\n",
            "df2 has an average volume of predicted reserves of 95.12 thousand barrels and a RMSE of 39.98\n"
          ],
          "name": "stdout"
        }
      ]
    },
    {
      "cell_type": "markdown",
      "metadata": {
        "id": "Afb4v5PFmEEP"
      },
      "source": [
        "### Conclusion"
      ]
    },
    {
      "cell_type": "markdown",
      "metadata": {
        "id": "2YIGVCgomEEQ"
      },
      "source": [
        "The three dataframes were split using train_test_split() into a 75:25 ratio: a training dataset (75%), and a validating dataset (25%).\n",
        "\n",
        "Numerical values were scaled using `StandardScaler` to standardize the data. Next, the model was trained as a Linear Regression.\n",
        "\n",
        "`predictions_valid` and `target_valid` for each model was saved in `saved_predictions_valid` and `saved_target_valid` for easy retrieval.\n",
        "\n",
        "Among the three datasets, it appears that `df0` and `df2` have similar statistics to each other than `df1`. The region represented by `df1` has the lowest RMSE, indicating better fit."
      ]
    },
    {
      "cell_type": "markdown",
      "metadata": {
        "id": "ebgDszRlmEES"
      },
      "source": [
        "### Step 3 - Preparing for profit calculation:"
      ]
    },
    {
      "cell_type": "code",
      "metadata": {
        "id": "AlJZ7g0qmEEZ"
      },
      "source": [
        "budget_200_wells = 100000000\n",
        "num_wells = 200\n",
        "revenue_1000_barrels = 4500"
      ],
      "execution_count": null,
      "outputs": []
    },
    {
      "cell_type": "code",
      "metadata": {
        "id": "mvFD1DwHmEEh",
        "outputId": "e7d460f1-4d2c-4e10-df67-558bd88a964d"
      },
      "source": [
        "# 0 < (x * revenue_1000_barrels) - budget_200_wells / 200\n",
        "\n",
        "break_even_vol = budget_200_wells / num_wells / revenue_1000_barrels\n",
        "print(\"Volume of reserves sufficient for developing a new well without losses:\", round(break_even_vol, 2))"
      ],
      "execution_count": null,
      "outputs": [
        {
          "output_type": "stream",
          "text": [
            "Volume of reserves sufficient for developing a new well without losses: 111.11\n"
          ],
          "name": "stdout"
        }
      ]
    },
    {
      "cell_type": "code",
      "metadata": {
        "id": "iIGoTBZsmEEn",
        "outputId": "d6b2d72f-a946-468a-f929-7aff208e182a"
      },
      "source": [
        "for df, name in [(df0, \"df0\"), (df1, \"df1\"), (df2, \"df2\")]:\n",
        "    print(\"Average volume of reserves in\", name, \":\", df['product'].mean())"
      ],
      "execution_count": null,
      "outputs": [
        {
          "output_type": "stream",
          "text": [
            "Average volume of reserves in df0 : 92.49916597893447\n",
            "Average volume of reserves in df1 : 68.82414772665173\n",
            "Average volume of reserves in df2 : 94.99876686768079\n"
          ],
          "name": "stdout"
        }
      ]
    },
    {
      "cell_type": "markdown",
      "metadata": {
        "id": "4tLORxtHmEEy"
      },
      "source": [
        "### Conclusion"
      ]
    },
    {
      "cell_type": "markdown",
      "metadata": {
        "id": "raiWLt7smEEy"
      },
      "source": [
        "`budget_200_wells` and `revenue_1000_barrels` were created based on the initial given information.\n",
        "\n",
        "Algebra was used to calculate the break-even point for developing a new well, which was found to be 111.11 thousand barrels. This number is higher the average volume of reserves in all three regions."
      ]
    },
    {
      "cell_type": "markdown",
      "metadata": {
        "id": "ErW-f0k1mEE0"
      },
      "source": [
        "### Step 4 - Writing a function to calculate profit from a set of selected oil wells and model predictions:"
      ]
    },
    {
      "cell_type": "code",
      "metadata": {
        "id": "hksjVd38mEE4"
      },
      "source": [
        "def profit(target, predictions):\n",
        "    preds_sorted = pd.Series(predictions, index=target.index).sort_values(ascending=False)\n",
        "    selected = target[preds_sorted.index][:200]\n",
        "    \n",
        "    return selected.sum(), selected.sum() * revenue_1000_barrels - budget_200_wells"
      ],
      "execution_count": null,
      "outputs": []
    },
    {
      "cell_type": "code",
      "metadata": {
        "id": "-NW0Czj9mEE8",
        "outputId": "d570b262-642c-4f9d-c100-04889876d855"
      },
      "source": [
        "for num in range(3):\n",
        "    x, y = profit(saved_target_valid[num], saved_predictions_valid[num])\n",
        "    print(f\"--- df{num} ---\")\n",
        "    print(\"Target reserve sum:\", round(x, 2), \"thousand barrels\")\n",
        "    print('Profit:', round(y, 2), \"USD\")\n",
        "    print(\"\")"
      ],
      "execution_count": null,
      "outputs": [
        {
          "output_type": "stream",
          "text": [
            "--- df0 ---\n",
            "Target reserve sum: 29191.17 thousand barrels\n",
            "Profit: 31360260.57 USD\n",
            "\n",
            "--- df1 ---\n",
            "Target reserve sum: 27589.08 thousand barrels\n",
            "Profit: 24150866.97 USD\n",
            "\n",
            "--- df2 ---\n",
            "Target reserve sum: 27702.1 thousand barrels\n",
            "Profit: 24659457.92 USD\n",
            "\n"
          ],
          "name": "stdout"
        }
      ]
    },
    {
      "cell_type": "markdown",
      "metadata": {
        "id": "dlsONtX5mEFB"
      },
      "source": [
        "### Conclusion"
      ]
    },
    {
      "cell_type": "markdown",
      "metadata": {
        "id": "vWzvhtcWmEFB"
      },
      "source": [
        "A function was created to calculate profit by sorting model predictions in descending order and using their index to select the top 200 targets. Next, the targets were summed up. This value was then multiplied by the revenue from one unit of product and lastly the budget is subtracted to find the profit.\n",
        "\n",
        "The region represented by `df0` yielded the highest profit here, due to the higher volume of oil reserves."
      ]
    },
    {
      "cell_type": "markdown",
      "metadata": {
        "id": "osBNlx-JmEFC"
      },
      "source": [
        "### Part 5 - Calculate risks and profit for each region:"
      ]
    },
    {
      "cell_type": "code",
      "metadata": {
        "id": "EkdAq0nfmEFG",
        "outputId": "df5a4680-e37b-4049-c2b6-2d55ef550505"
      },
      "source": [
        "state = np.random.RandomState(12345)\n",
        "\n",
        "for num in range(3):\n",
        "    values = []\n",
        "    for i in range(1000):\n",
        "        subsample = saved_target_valid[num].sample(n=500, replace=True, random_state=state)\n",
        "        preds_subsample = pd.Series(saved_predictions_valid[num], index=saved_target_valid[num].index)[subsample.index]\n",
        "        target.reset_index(drop=True)\n",
        "        values.append(profit(subsample, preds_subsample)[1])\n",
        "    \n",
        "    values = pd.Series(values)\n",
        "    lower = values.quantile(.025)\n",
        "    upper = values.quantile(.975)\n",
        "    loss = round(values.loc[lambda x : x < 0].count() / len(values) * 100, 2)\n",
        "\n",
        "    print(f\"--- df{num} ---\")\n",
        "    print(\"Average profit:\", values.mean())\n",
        "    print(\"2.5% percentile:\", lower)\n",
        "    print(\"97.5% percentile:\", upper)\n",
        "    print(\"Risk of losses:\", loss)\n",
        "    print(\"\")"
      ],
      "execution_count": null,
      "outputs": [
        {
          "output_type": "stream",
          "text": [
            "--- df0 ---\n",
            "Average profit: 4590856.134113576\n",
            "2.5% percentile: -902340.6710362419\n",
            "97.5% percentile: 9879538.83110182\n",
            "Risk of losses: 4.7\n",
            "\n",
            "--- df1 ---\n",
            "Average profit: 5235793.832267862\n",
            "2.5% percentile: 1337911.9122885156\n",
            "97.5% percentile: 9614501.610437708\n",
            "Risk of losses: 0.6\n",
            "\n",
            "--- df2 ---\n",
            "Average profit: 3414720.0526126255\n",
            "2.5% percentile: -1983559.341135003\n",
            "97.5% percentile: 8527085.807650132\n",
            "Risk of losses: 11.6\n",
            "\n"
          ],
          "name": "stdout"
        }
      ]
    },
    {
      "cell_type": "markdown",
      "metadata": {
        "id": "-G2Hy5NLmEFM"
      },
      "source": [
        "### Conclusion"
      ]
    },
    {
      "cell_type": "markdown",
      "metadata": {
        "id": "z1WmQeh9mEFM"
      },
      "source": [
        "The bootstrapping technique was used with 1000 samples to find the distribution of profit. \n",
        "\n",
        "The region represented by `df1` is the best region for development of oil wells since it has the highest average profit of $5,235,793.83 and the lowest risk of loss of 0.6%.\n",
        "\n",
        "Regions `df0` and `df2` exceed the risk cap requirement of 2.5%, so these two regions cannot be considered under the given criteria."
      ]
    }
  ]
}