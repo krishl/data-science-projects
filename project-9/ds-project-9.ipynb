{
  "nbformat": 4,
  "nbformat_minor": 0,
  "metadata": {
    "kernelspec": {
      "display_name": "Python 3",
      "language": "python",
      "name": "python3"
    },
    "language_info": {
      "codemirror_mode": {
        "name": "ipython",
        "version": 3
      },
      "file_extension": ".py",
      "mimetype": "text/x-python",
      "name": "python",
      "nbconvert_exporter": "python",
      "pygments_lexer": "ipython3",
      "version": "3.7.6"
    },
    "colab": {
      "name": "ds-project-9.ipynb",
      "provenance": []
    }
  },
  "cells": [
    {
      "cell_type": "markdown",
      "metadata": {
        "id": "9EIBu_KFoJP6"
      },
      "source": [
        "##  Predicting the amount of gold recovered from gold ore"
      ]
    },
    {
      "cell_type": "markdown",
      "metadata": {
        "id": "w3L7F1LjoJP-"
      },
      "source": [
        "Data is provided on gold ore extraction and purification. A machine learning model will be built to help optimize the production and eliminate unprofitable parameters."
      ]
    },
    {
      "cell_type": "markdown",
      "metadata": {
        "id": "wx9EP_T8oJP_"
      },
      "source": [
        "### 1. Preparing the data"
      ]
    },
    {
      "cell_type": "code",
      "metadata": {
        "id": "SLaoxm-uoJQE"
      },
      "source": [
        "import pandas as pd\n",
        "import numpy as np\n",
        "from sklearn.metrics import mean_absolute_error\n",
        "import matplotlib.pyplot as plt\n",
        "from sklearn.model_selection import train_test_split\n",
        "from sklearn.preprocessing import StandardScaler\n",
        "from sklearn.metrics import make_scorer\n",
        "from sklearn.model_selection import cross_validate\n",
        "from sklearn.model_selection import cross_val_score\n",
        "from sklearn.tree import DecisionTreeRegressor\n",
        "from sklearn.ensemble import RandomForestRegressor\n",
        "from sklearn.linear_model import LinearRegression\n",
        "from sklearn.linear_model import Lasso\n",
        "from sklearn.linear_model import ElasticNet\n",
        "from sklearn.dummy import DummyRegressor"
      ],
      "execution_count": null,
      "outputs": []
    },
    {
      "cell_type": "code",
      "metadata": {
        "id": "cSs-32IloJQT"
      },
      "source": [
        "df_train = pd.read_csv(\"/datasets/gold_recovery_train.csv\")"
      ],
      "execution_count": null,
      "outputs": []
    },
    {
      "cell_type": "code",
      "metadata": {
        "id": "UcgYZ3IDoJQb"
      },
      "source": [
        "df_test = pd.read_csv(\"/datasets/gold_recovery_test.csv\")"
      ],
      "execution_count": null,
      "outputs": []
    },
    {
      "cell_type": "code",
      "metadata": {
        "id": "WiO5Us_DoJQi"
      },
      "source": [
        "df_full = pd.read_csv(\"/datasets/gold_recovery_full.csv\")"
      ],
      "execution_count": null,
      "outputs": []
    },
    {
      "cell_type": "code",
      "metadata": {
        "id": "3HyofbPVoJQo",
        "outputId": "c4a87bdc-611d-43c8-dbd3-1404a0aa3187"
      },
      "source": [
        "df_train.head()"
      ],
      "execution_count": null,
      "outputs": [
        {
          "output_type": "execute_result",
          "data": {
            "text/html": [
              "<div>\n",
              "<style scoped>\n",
              "    .dataframe tbody tr th:only-of-type {\n",
              "        vertical-align: middle;\n",
              "    }\n",
              "\n",
              "    .dataframe tbody tr th {\n",
              "        vertical-align: top;\n",
              "    }\n",
              "\n",
              "    .dataframe thead th {\n",
              "        text-align: right;\n",
              "    }\n",
              "</style>\n",
              "<table border=\"1\" class=\"dataframe\">\n",
              "  <thead>\n",
              "    <tr style=\"text-align: right;\">\n",
              "      <th></th>\n",
              "      <th>date</th>\n",
              "      <th>final.output.concentrate_ag</th>\n",
              "      <th>final.output.concentrate_pb</th>\n",
              "      <th>final.output.concentrate_sol</th>\n",
              "      <th>final.output.concentrate_au</th>\n",
              "      <th>final.output.recovery</th>\n",
              "      <th>final.output.tail_ag</th>\n",
              "      <th>final.output.tail_pb</th>\n",
              "      <th>final.output.tail_sol</th>\n",
              "      <th>final.output.tail_au</th>\n",
              "      <th>...</th>\n",
              "      <th>secondary_cleaner.state.floatbank4_a_air</th>\n",
              "      <th>secondary_cleaner.state.floatbank4_a_level</th>\n",
              "      <th>secondary_cleaner.state.floatbank4_b_air</th>\n",
              "      <th>secondary_cleaner.state.floatbank4_b_level</th>\n",
              "      <th>secondary_cleaner.state.floatbank5_a_air</th>\n",
              "      <th>secondary_cleaner.state.floatbank5_a_level</th>\n",
              "      <th>secondary_cleaner.state.floatbank5_b_air</th>\n",
              "      <th>secondary_cleaner.state.floatbank5_b_level</th>\n",
              "      <th>secondary_cleaner.state.floatbank6_a_air</th>\n",
              "      <th>secondary_cleaner.state.floatbank6_a_level</th>\n",
              "    </tr>\n",
              "  </thead>\n",
              "  <tbody>\n",
              "    <tr>\n",
              "      <td>0</td>\n",
              "      <td>2016-01-15 00:00:00</td>\n",
              "      <td>6.055403</td>\n",
              "      <td>9.889648</td>\n",
              "      <td>5.507324</td>\n",
              "      <td>42.192020</td>\n",
              "      <td>70.541216</td>\n",
              "      <td>10.411962</td>\n",
              "      <td>0.895447</td>\n",
              "      <td>16.904297</td>\n",
              "      <td>2.143149</td>\n",
              "      <td>...</td>\n",
              "      <td>14.016835</td>\n",
              "      <td>-502.488007</td>\n",
              "      <td>12.099931</td>\n",
              "      <td>-504.715942</td>\n",
              "      <td>9.925633</td>\n",
              "      <td>-498.310211</td>\n",
              "      <td>8.079666</td>\n",
              "      <td>-500.470978</td>\n",
              "      <td>14.151341</td>\n",
              "      <td>-605.841980</td>\n",
              "    </tr>\n",
              "    <tr>\n",
              "      <td>1</td>\n",
              "      <td>2016-01-15 01:00:00</td>\n",
              "      <td>6.029369</td>\n",
              "      <td>9.968944</td>\n",
              "      <td>5.257781</td>\n",
              "      <td>42.701629</td>\n",
              "      <td>69.266198</td>\n",
              "      <td>10.462676</td>\n",
              "      <td>0.927452</td>\n",
              "      <td>16.634514</td>\n",
              "      <td>2.224930</td>\n",
              "      <td>...</td>\n",
              "      <td>13.992281</td>\n",
              "      <td>-505.503262</td>\n",
              "      <td>11.950531</td>\n",
              "      <td>-501.331529</td>\n",
              "      <td>10.039245</td>\n",
              "      <td>-500.169983</td>\n",
              "      <td>7.984757</td>\n",
              "      <td>-500.582168</td>\n",
              "      <td>13.998353</td>\n",
              "      <td>-599.787184</td>\n",
              "    </tr>\n",
              "    <tr>\n",
              "      <td>2</td>\n",
              "      <td>2016-01-15 02:00:00</td>\n",
              "      <td>6.055926</td>\n",
              "      <td>10.213995</td>\n",
              "      <td>5.383759</td>\n",
              "      <td>42.657501</td>\n",
              "      <td>68.116445</td>\n",
              "      <td>10.507046</td>\n",
              "      <td>0.953716</td>\n",
              "      <td>16.208849</td>\n",
              "      <td>2.257889</td>\n",
              "      <td>...</td>\n",
              "      <td>14.015015</td>\n",
              "      <td>-502.520901</td>\n",
              "      <td>11.912783</td>\n",
              "      <td>-501.133383</td>\n",
              "      <td>10.070913</td>\n",
              "      <td>-500.129135</td>\n",
              "      <td>8.013877</td>\n",
              "      <td>-500.517572</td>\n",
              "      <td>14.028663</td>\n",
              "      <td>-601.427363</td>\n",
              "    </tr>\n",
              "    <tr>\n",
              "      <td>3</td>\n",
              "      <td>2016-01-15 03:00:00</td>\n",
              "      <td>6.047977</td>\n",
              "      <td>9.977019</td>\n",
              "      <td>4.858634</td>\n",
              "      <td>42.689819</td>\n",
              "      <td>68.347543</td>\n",
              "      <td>10.422762</td>\n",
              "      <td>0.883763</td>\n",
              "      <td>16.532835</td>\n",
              "      <td>2.146849</td>\n",
              "      <td>...</td>\n",
              "      <td>14.036510</td>\n",
              "      <td>-500.857308</td>\n",
              "      <td>11.999550</td>\n",
              "      <td>-501.193686</td>\n",
              "      <td>9.970366</td>\n",
              "      <td>-499.201640</td>\n",
              "      <td>7.977324</td>\n",
              "      <td>-500.255908</td>\n",
              "      <td>14.005551</td>\n",
              "      <td>-599.996129</td>\n",
              "    </tr>\n",
              "    <tr>\n",
              "      <td>4</td>\n",
              "      <td>2016-01-15 04:00:00</td>\n",
              "      <td>6.148599</td>\n",
              "      <td>10.142511</td>\n",
              "      <td>4.939416</td>\n",
              "      <td>42.774141</td>\n",
              "      <td>66.927016</td>\n",
              "      <td>10.360302</td>\n",
              "      <td>0.792826</td>\n",
              "      <td>16.525686</td>\n",
              "      <td>2.055292</td>\n",
              "      <td>...</td>\n",
              "      <td>14.027298</td>\n",
              "      <td>-499.838632</td>\n",
              "      <td>11.953070</td>\n",
              "      <td>-501.053894</td>\n",
              "      <td>9.925709</td>\n",
              "      <td>-501.686727</td>\n",
              "      <td>7.894242</td>\n",
              "      <td>-500.356035</td>\n",
              "      <td>13.996647</td>\n",
              "      <td>-601.496691</td>\n",
              "    </tr>\n",
              "  </tbody>\n",
              "</table>\n",
              "<p>5 rows × 87 columns</p>\n",
              "</div>"
            ],
            "text/plain": [
              "                  date  final.output.concentrate_ag  \\\n",
              "0  2016-01-15 00:00:00                     6.055403   \n",
              "1  2016-01-15 01:00:00                     6.029369   \n",
              "2  2016-01-15 02:00:00                     6.055926   \n",
              "3  2016-01-15 03:00:00                     6.047977   \n",
              "4  2016-01-15 04:00:00                     6.148599   \n",
              "\n",
              "   final.output.concentrate_pb  final.output.concentrate_sol  \\\n",
              "0                     9.889648                      5.507324   \n",
              "1                     9.968944                      5.257781   \n",
              "2                    10.213995                      5.383759   \n",
              "3                     9.977019                      4.858634   \n",
              "4                    10.142511                      4.939416   \n",
              "\n",
              "   final.output.concentrate_au  final.output.recovery  final.output.tail_ag  \\\n",
              "0                    42.192020              70.541216             10.411962   \n",
              "1                    42.701629              69.266198             10.462676   \n",
              "2                    42.657501              68.116445             10.507046   \n",
              "3                    42.689819              68.347543             10.422762   \n",
              "4                    42.774141              66.927016             10.360302   \n",
              "\n",
              "   final.output.tail_pb  final.output.tail_sol  final.output.tail_au  ...  \\\n",
              "0              0.895447              16.904297              2.143149  ...   \n",
              "1              0.927452              16.634514              2.224930  ...   \n",
              "2              0.953716              16.208849              2.257889  ...   \n",
              "3              0.883763              16.532835              2.146849  ...   \n",
              "4              0.792826              16.525686              2.055292  ...   \n",
              "\n",
              "   secondary_cleaner.state.floatbank4_a_air  \\\n",
              "0                                 14.016835   \n",
              "1                                 13.992281   \n",
              "2                                 14.015015   \n",
              "3                                 14.036510   \n",
              "4                                 14.027298   \n",
              "\n",
              "   secondary_cleaner.state.floatbank4_a_level  \\\n",
              "0                                 -502.488007   \n",
              "1                                 -505.503262   \n",
              "2                                 -502.520901   \n",
              "3                                 -500.857308   \n",
              "4                                 -499.838632   \n",
              "\n",
              "   secondary_cleaner.state.floatbank4_b_air  \\\n",
              "0                                 12.099931   \n",
              "1                                 11.950531   \n",
              "2                                 11.912783   \n",
              "3                                 11.999550   \n",
              "4                                 11.953070   \n",
              "\n",
              "   secondary_cleaner.state.floatbank4_b_level  \\\n",
              "0                                 -504.715942   \n",
              "1                                 -501.331529   \n",
              "2                                 -501.133383   \n",
              "3                                 -501.193686   \n",
              "4                                 -501.053894   \n",
              "\n",
              "   secondary_cleaner.state.floatbank5_a_air  \\\n",
              "0                                  9.925633   \n",
              "1                                 10.039245   \n",
              "2                                 10.070913   \n",
              "3                                  9.970366   \n",
              "4                                  9.925709   \n",
              "\n",
              "   secondary_cleaner.state.floatbank5_a_level  \\\n",
              "0                                 -498.310211   \n",
              "1                                 -500.169983   \n",
              "2                                 -500.129135   \n",
              "3                                 -499.201640   \n",
              "4                                 -501.686727   \n",
              "\n",
              "   secondary_cleaner.state.floatbank5_b_air  \\\n",
              "0                                  8.079666   \n",
              "1                                  7.984757   \n",
              "2                                  8.013877   \n",
              "3                                  7.977324   \n",
              "4                                  7.894242   \n",
              "\n",
              "   secondary_cleaner.state.floatbank5_b_level  \\\n",
              "0                                 -500.470978   \n",
              "1                                 -500.582168   \n",
              "2                                 -500.517572   \n",
              "3                                 -500.255908   \n",
              "4                                 -500.356035   \n",
              "\n",
              "   secondary_cleaner.state.floatbank6_a_air  \\\n",
              "0                                 14.151341   \n",
              "1                                 13.998353   \n",
              "2                                 14.028663   \n",
              "3                                 14.005551   \n",
              "4                                 13.996647   \n",
              "\n",
              "   secondary_cleaner.state.floatbank6_a_level  \n",
              "0                                 -605.841980  \n",
              "1                                 -599.787184  \n",
              "2                                 -601.427363  \n",
              "3                                 -599.996129  \n",
              "4                                 -601.496691  \n",
              "\n",
              "[5 rows x 87 columns]"
            ]
          },
          "metadata": {
            "tags": []
          },
          "execution_count": 5
        }
      ]
    },
    {
      "cell_type": "code",
      "metadata": {
        "id": "l41c8oEPoJQy",
        "outputId": "dc67e750-1c40-40d8-b910-372f76c31614"
      },
      "source": [
        "df_test.head()"
      ],
      "execution_count": null,
      "outputs": [
        {
          "output_type": "execute_result",
          "data": {
            "text/html": [
              "<div>\n",
              "<style scoped>\n",
              "    .dataframe tbody tr th:only-of-type {\n",
              "        vertical-align: middle;\n",
              "    }\n",
              "\n",
              "    .dataframe tbody tr th {\n",
              "        vertical-align: top;\n",
              "    }\n",
              "\n",
              "    .dataframe thead th {\n",
              "        text-align: right;\n",
              "    }\n",
              "</style>\n",
              "<table border=\"1\" class=\"dataframe\">\n",
              "  <thead>\n",
              "    <tr style=\"text-align: right;\">\n",
              "      <th></th>\n",
              "      <th>date</th>\n",
              "      <th>primary_cleaner.input.sulfate</th>\n",
              "      <th>primary_cleaner.input.depressant</th>\n",
              "      <th>primary_cleaner.input.feed_size</th>\n",
              "      <th>primary_cleaner.input.xanthate</th>\n",
              "      <th>primary_cleaner.state.floatbank8_a_air</th>\n",
              "      <th>primary_cleaner.state.floatbank8_a_level</th>\n",
              "      <th>primary_cleaner.state.floatbank8_b_air</th>\n",
              "      <th>primary_cleaner.state.floatbank8_b_level</th>\n",
              "      <th>primary_cleaner.state.floatbank8_c_air</th>\n",
              "      <th>...</th>\n",
              "      <th>secondary_cleaner.state.floatbank4_a_air</th>\n",
              "      <th>secondary_cleaner.state.floatbank4_a_level</th>\n",
              "      <th>secondary_cleaner.state.floatbank4_b_air</th>\n",
              "      <th>secondary_cleaner.state.floatbank4_b_level</th>\n",
              "      <th>secondary_cleaner.state.floatbank5_a_air</th>\n",
              "      <th>secondary_cleaner.state.floatbank5_a_level</th>\n",
              "      <th>secondary_cleaner.state.floatbank5_b_air</th>\n",
              "      <th>secondary_cleaner.state.floatbank5_b_level</th>\n",
              "      <th>secondary_cleaner.state.floatbank6_a_air</th>\n",
              "      <th>secondary_cleaner.state.floatbank6_a_level</th>\n",
              "    </tr>\n",
              "  </thead>\n",
              "  <tbody>\n",
              "    <tr>\n",
              "      <td>0</td>\n",
              "      <td>2016-09-01 00:59:59</td>\n",
              "      <td>210.800909</td>\n",
              "      <td>14.993118</td>\n",
              "      <td>8.080000</td>\n",
              "      <td>1.005021</td>\n",
              "      <td>1398.981301</td>\n",
              "      <td>-500.225577</td>\n",
              "      <td>1399.144926</td>\n",
              "      <td>-499.919735</td>\n",
              "      <td>1400.102998</td>\n",
              "      <td>...</td>\n",
              "      <td>12.023554</td>\n",
              "      <td>-497.795834</td>\n",
              "      <td>8.016656</td>\n",
              "      <td>-501.289139</td>\n",
              "      <td>7.946562</td>\n",
              "      <td>-432.317850</td>\n",
              "      <td>4.872511</td>\n",
              "      <td>-500.037437</td>\n",
              "      <td>26.705889</td>\n",
              "      <td>-499.709414</td>\n",
              "    </tr>\n",
              "    <tr>\n",
              "      <td>1</td>\n",
              "      <td>2016-09-01 01:59:59</td>\n",
              "      <td>215.392455</td>\n",
              "      <td>14.987471</td>\n",
              "      <td>8.080000</td>\n",
              "      <td>0.990469</td>\n",
              "      <td>1398.777912</td>\n",
              "      <td>-500.057435</td>\n",
              "      <td>1398.055362</td>\n",
              "      <td>-499.778182</td>\n",
              "      <td>1396.151033</td>\n",
              "      <td>...</td>\n",
              "      <td>12.058140</td>\n",
              "      <td>-498.695773</td>\n",
              "      <td>8.130979</td>\n",
              "      <td>-499.634209</td>\n",
              "      <td>7.958270</td>\n",
              "      <td>-525.839648</td>\n",
              "      <td>4.878850</td>\n",
              "      <td>-500.162375</td>\n",
              "      <td>25.019940</td>\n",
              "      <td>-499.819438</td>\n",
              "    </tr>\n",
              "    <tr>\n",
              "      <td>2</td>\n",
              "      <td>2016-09-01 02:59:59</td>\n",
              "      <td>215.259946</td>\n",
              "      <td>12.884934</td>\n",
              "      <td>7.786667</td>\n",
              "      <td>0.996043</td>\n",
              "      <td>1398.493666</td>\n",
              "      <td>-500.868360</td>\n",
              "      <td>1398.860436</td>\n",
              "      <td>-499.764529</td>\n",
              "      <td>1398.075709</td>\n",
              "      <td>...</td>\n",
              "      <td>11.962366</td>\n",
              "      <td>-498.767484</td>\n",
              "      <td>8.096893</td>\n",
              "      <td>-500.827423</td>\n",
              "      <td>8.071056</td>\n",
              "      <td>-500.801673</td>\n",
              "      <td>4.905125</td>\n",
              "      <td>-499.828510</td>\n",
              "      <td>24.994862</td>\n",
              "      <td>-500.622559</td>\n",
              "    </tr>\n",
              "    <tr>\n",
              "      <td>3</td>\n",
              "      <td>2016-09-01 03:59:59</td>\n",
              "      <td>215.336236</td>\n",
              "      <td>12.006805</td>\n",
              "      <td>7.640000</td>\n",
              "      <td>0.863514</td>\n",
              "      <td>1399.618111</td>\n",
              "      <td>-498.863574</td>\n",
              "      <td>1397.440120</td>\n",
              "      <td>-499.211024</td>\n",
              "      <td>1400.129303</td>\n",
              "      <td>...</td>\n",
              "      <td>12.033091</td>\n",
              "      <td>-498.350935</td>\n",
              "      <td>8.074946</td>\n",
              "      <td>-499.474407</td>\n",
              "      <td>7.897085</td>\n",
              "      <td>-500.868509</td>\n",
              "      <td>4.931400</td>\n",
              "      <td>-499.963623</td>\n",
              "      <td>24.948919</td>\n",
              "      <td>-498.709987</td>\n",
              "    </tr>\n",
              "    <tr>\n",
              "      <td>4</td>\n",
              "      <td>2016-09-01 04:59:59</td>\n",
              "      <td>199.099327</td>\n",
              "      <td>10.682530</td>\n",
              "      <td>7.530000</td>\n",
              "      <td>0.805575</td>\n",
              "      <td>1401.268123</td>\n",
              "      <td>-500.808305</td>\n",
              "      <td>1398.128818</td>\n",
              "      <td>-499.504543</td>\n",
              "      <td>1402.172226</td>\n",
              "      <td>...</td>\n",
              "      <td>12.025367</td>\n",
              "      <td>-500.786497</td>\n",
              "      <td>8.054678</td>\n",
              "      <td>-500.397500</td>\n",
              "      <td>8.107890</td>\n",
              "      <td>-509.526725</td>\n",
              "      <td>4.957674</td>\n",
              "      <td>-500.360026</td>\n",
              "      <td>25.003331</td>\n",
              "      <td>-500.856333</td>\n",
              "    </tr>\n",
              "  </tbody>\n",
              "</table>\n",
              "<p>5 rows × 53 columns</p>\n",
              "</div>"
            ],
            "text/plain": [
              "                  date  primary_cleaner.input.sulfate  \\\n",
              "0  2016-09-01 00:59:59                     210.800909   \n",
              "1  2016-09-01 01:59:59                     215.392455   \n",
              "2  2016-09-01 02:59:59                     215.259946   \n",
              "3  2016-09-01 03:59:59                     215.336236   \n",
              "4  2016-09-01 04:59:59                     199.099327   \n",
              "\n",
              "   primary_cleaner.input.depressant  primary_cleaner.input.feed_size  \\\n",
              "0                         14.993118                         8.080000   \n",
              "1                         14.987471                         8.080000   \n",
              "2                         12.884934                         7.786667   \n",
              "3                         12.006805                         7.640000   \n",
              "4                         10.682530                         7.530000   \n",
              "\n",
              "   primary_cleaner.input.xanthate  primary_cleaner.state.floatbank8_a_air  \\\n",
              "0                        1.005021                             1398.981301   \n",
              "1                        0.990469                             1398.777912   \n",
              "2                        0.996043                             1398.493666   \n",
              "3                        0.863514                             1399.618111   \n",
              "4                        0.805575                             1401.268123   \n",
              "\n",
              "   primary_cleaner.state.floatbank8_a_level  \\\n",
              "0                               -500.225577   \n",
              "1                               -500.057435   \n",
              "2                               -500.868360   \n",
              "3                               -498.863574   \n",
              "4                               -500.808305   \n",
              "\n",
              "   primary_cleaner.state.floatbank8_b_air  \\\n",
              "0                             1399.144926   \n",
              "1                             1398.055362   \n",
              "2                             1398.860436   \n",
              "3                             1397.440120   \n",
              "4                             1398.128818   \n",
              "\n",
              "   primary_cleaner.state.floatbank8_b_level  \\\n",
              "0                               -499.919735   \n",
              "1                               -499.778182   \n",
              "2                               -499.764529   \n",
              "3                               -499.211024   \n",
              "4                               -499.504543   \n",
              "\n",
              "   primary_cleaner.state.floatbank8_c_air  ...  \\\n",
              "0                             1400.102998  ...   \n",
              "1                             1396.151033  ...   \n",
              "2                             1398.075709  ...   \n",
              "3                             1400.129303  ...   \n",
              "4                             1402.172226  ...   \n",
              "\n",
              "   secondary_cleaner.state.floatbank4_a_air  \\\n",
              "0                                 12.023554   \n",
              "1                                 12.058140   \n",
              "2                                 11.962366   \n",
              "3                                 12.033091   \n",
              "4                                 12.025367   \n",
              "\n",
              "   secondary_cleaner.state.floatbank4_a_level  \\\n",
              "0                                 -497.795834   \n",
              "1                                 -498.695773   \n",
              "2                                 -498.767484   \n",
              "3                                 -498.350935   \n",
              "4                                 -500.786497   \n",
              "\n",
              "   secondary_cleaner.state.floatbank4_b_air  \\\n",
              "0                                  8.016656   \n",
              "1                                  8.130979   \n",
              "2                                  8.096893   \n",
              "3                                  8.074946   \n",
              "4                                  8.054678   \n",
              "\n",
              "   secondary_cleaner.state.floatbank4_b_level  \\\n",
              "0                                 -501.289139   \n",
              "1                                 -499.634209   \n",
              "2                                 -500.827423   \n",
              "3                                 -499.474407   \n",
              "4                                 -500.397500   \n",
              "\n",
              "   secondary_cleaner.state.floatbank5_a_air  \\\n",
              "0                                  7.946562   \n",
              "1                                  7.958270   \n",
              "2                                  8.071056   \n",
              "3                                  7.897085   \n",
              "4                                  8.107890   \n",
              "\n",
              "   secondary_cleaner.state.floatbank5_a_level  \\\n",
              "0                                 -432.317850   \n",
              "1                                 -525.839648   \n",
              "2                                 -500.801673   \n",
              "3                                 -500.868509   \n",
              "4                                 -509.526725   \n",
              "\n",
              "   secondary_cleaner.state.floatbank5_b_air  \\\n",
              "0                                  4.872511   \n",
              "1                                  4.878850   \n",
              "2                                  4.905125   \n",
              "3                                  4.931400   \n",
              "4                                  4.957674   \n",
              "\n",
              "   secondary_cleaner.state.floatbank5_b_level  \\\n",
              "0                                 -500.037437   \n",
              "1                                 -500.162375   \n",
              "2                                 -499.828510   \n",
              "3                                 -499.963623   \n",
              "4                                 -500.360026   \n",
              "\n",
              "   secondary_cleaner.state.floatbank6_a_air  \\\n",
              "0                                 26.705889   \n",
              "1                                 25.019940   \n",
              "2                                 24.994862   \n",
              "3                                 24.948919   \n",
              "4                                 25.003331   \n",
              "\n",
              "   secondary_cleaner.state.floatbank6_a_level  \n",
              "0                                 -499.709414  \n",
              "1                                 -499.819438  \n",
              "2                                 -500.622559  \n",
              "3                                 -498.709987  \n",
              "4                                 -500.856333  \n",
              "\n",
              "[5 rows x 53 columns]"
            ]
          },
          "metadata": {
            "tags": []
          },
          "execution_count": 6
        }
      ]
    },
    {
      "cell_type": "code",
      "metadata": {
        "id": "Cizc5PpnoJQ4",
        "outputId": "36fb721b-6941-4bef-c6c4-13c20a8c99e8"
      },
      "source": [
        "df_full.head()"
      ],
      "execution_count": null,
      "outputs": [
        {
          "output_type": "execute_result",
          "data": {
            "text/html": [
              "<div>\n",
              "<style scoped>\n",
              "    .dataframe tbody tr th:only-of-type {\n",
              "        vertical-align: middle;\n",
              "    }\n",
              "\n",
              "    .dataframe tbody tr th {\n",
              "        vertical-align: top;\n",
              "    }\n",
              "\n",
              "    .dataframe thead th {\n",
              "        text-align: right;\n",
              "    }\n",
              "</style>\n",
              "<table border=\"1\" class=\"dataframe\">\n",
              "  <thead>\n",
              "    <tr style=\"text-align: right;\">\n",
              "      <th></th>\n",
              "      <th>date</th>\n",
              "      <th>final.output.concentrate_ag</th>\n",
              "      <th>final.output.concentrate_pb</th>\n",
              "      <th>final.output.concentrate_sol</th>\n",
              "      <th>final.output.concentrate_au</th>\n",
              "      <th>final.output.recovery</th>\n",
              "      <th>final.output.tail_ag</th>\n",
              "      <th>final.output.tail_pb</th>\n",
              "      <th>final.output.tail_sol</th>\n",
              "      <th>final.output.tail_au</th>\n",
              "      <th>...</th>\n",
              "      <th>secondary_cleaner.state.floatbank4_a_air</th>\n",
              "      <th>secondary_cleaner.state.floatbank4_a_level</th>\n",
              "      <th>secondary_cleaner.state.floatbank4_b_air</th>\n",
              "      <th>secondary_cleaner.state.floatbank4_b_level</th>\n",
              "      <th>secondary_cleaner.state.floatbank5_a_air</th>\n",
              "      <th>secondary_cleaner.state.floatbank5_a_level</th>\n",
              "      <th>secondary_cleaner.state.floatbank5_b_air</th>\n",
              "      <th>secondary_cleaner.state.floatbank5_b_level</th>\n",
              "      <th>secondary_cleaner.state.floatbank6_a_air</th>\n",
              "      <th>secondary_cleaner.state.floatbank6_a_level</th>\n",
              "    </tr>\n",
              "  </thead>\n",
              "  <tbody>\n",
              "    <tr>\n",
              "      <td>0</td>\n",
              "      <td>2016-01-15 00:00:00</td>\n",
              "      <td>6.055403</td>\n",
              "      <td>9.889648</td>\n",
              "      <td>5.507324</td>\n",
              "      <td>42.192020</td>\n",
              "      <td>70.541216</td>\n",
              "      <td>10.411962</td>\n",
              "      <td>0.895447</td>\n",
              "      <td>16.904297</td>\n",
              "      <td>2.143149</td>\n",
              "      <td>...</td>\n",
              "      <td>14.016835</td>\n",
              "      <td>-502.488007</td>\n",
              "      <td>12.099931</td>\n",
              "      <td>-504.715942</td>\n",
              "      <td>9.925633</td>\n",
              "      <td>-498.310211</td>\n",
              "      <td>8.079666</td>\n",
              "      <td>-500.470978</td>\n",
              "      <td>14.151341</td>\n",
              "      <td>-605.841980</td>\n",
              "    </tr>\n",
              "    <tr>\n",
              "      <td>1</td>\n",
              "      <td>2016-01-15 01:00:00</td>\n",
              "      <td>6.029369</td>\n",
              "      <td>9.968944</td>\n",
              "      <td>5.257781</td>\n",
              "      <td>42.701629</td>\n",
              "      <td>69.266198</td>\n",
              "      <td>10.462676</td>\n",
              "      <td>0.927452</td>\n",
              "      <td>16.634514</td>\n",
              "      <td>2.224930</td>\n",
              "      <td>...</td>\n",
              "      <td>13.992281</td>\n",
              "      <td>-505.503262</td>\n",
              "      <td>11.950531</td>\n",
              "      <td>-501.331529</td>\n",
              "      <td>10.039245</td>\n",
              "      <td>-500.169983</td>\n",
              "      <td>7.984757</td>\n",
              "      <td>-500.582168</td>\n",
              "      <td>13.998353</td>\n",
              "      <td>-599.787184</td>\n",
              "    </tr>\n",
              "    <tr>\n",
              "      <td>2</td>\n",
              "      <td>2016-01-15 02:00:00</td>\n",
              "      <td>6.055926</td>\n",
              "      <td>10.213995</td>\n",
              "      <td>5.383759</td>\n",
              "      <td>42.657501</td>\n",
              "      <td>68.116445</td>\n",
              "      <td>10.507046</td>\n",
              "      <td>0.953716</td>\n",
              "      <td>16.208849</td>\n",
              "      <td>2.257889</td>\n",
              "      <td>...</td>\n",
              "      <td>14.015015</td>\n",
              "      <td>-502.520901</td>\n",
              "      <td>11.912783</td>\n",
              "      <td>-501.133383</td>\n",
              "      <td>10.070913</td>\n",
              "      <td>-500.129135</td>\n",
              "      <td>8.013877</td>\n",
              "      <td>-500.517572</td>\n",
              "      <td>14.028663</td>\n",
              "      <td>-601.427363</td>\n",
              "    </tr>\n",
              "    <tr>\n",
              "      <td>3</td>\n",
              "      <td>2016-01-15 03:00:00</td>\n",
              "      <td>6.047977</td>\n",
              "      <td>9.977019</td>\n",
              "      <td>4.858634</td>\n",
              "      <td>42.689819</td>\n",
              "      <td>68.347543</td>\n",
              "      <td>10.422762</td>\n",
              "      <td>0.883763</td>\n",
              "      <td>16.532835</td>\n",
              "      <td>2.146849</td>\n",
              "      <td>...</td>\n",
              "      <td>14.036510</td>\n",
              "      <td>-500.857308</td>\n",
              "      <td>11.999550</td>\n",
              "      <td>-501.193686</td>\n",
              "      <td>9.970366</td>\n",
              "      <td>-499.201640</td>\n",
              "      <td>7.977324</td>\n",
              "      <td>-500.255908</td>\n",
              "      <td>14.005551</td>\n",
              "      <td>-599.996129</td>\n",
              "    </tr>\n",
              "    <tr>\n",
              "      <td>4</td>\n",
              "      <td>2016-01-15 04:00:00</td>\n",
              "      <td>6.148599</td>\n",
              "      <td>10.142511</td>\n",
              "      <td>4.939416</td>\n",
              "      <td>42.774141</td>\n",
              "      <td>66.927016</td>\n",
              "      <td>10.360302</td>\n",
              "      <td>0.792826</td>\n",
              "      <td>16.525686</td>\n",
              "      <td>2.055292</td>\n",
              "      <td>...</td>\n",
              "      <td>14.027298</td>\n",
              "      <td>-499.838632</td>\n",
              "      <td>11.953070</td>\n",
              "      <td>-501.053894</td>\n",
              "      <td>9.925709</td>\n",
              "      <td>-501.686727</td>\n",
              "      <td>7.894242</td>\n",
              "      <td>-500.356035</td>\n",
              "      <td>13.996647</td>\n",
              "      <td>-601.496691</td>\n",
              "    </tr>\n",
              "  </tbody>\n",
              "</table>\n",
              "<p>5 rows × 87 columns</p>\n",
              "</div>"
            ],
            "text/plain": [
              "                  date  final.output.concentrate_ag  \\\n",
              "0  2016-01-15 00:00:00                     6.055403   \n",
              "1  2016-01-15 01:00:00                     6.029369   \n",
              "2  2016-01-15 02:00:00                     6.055926   \n",
              "3  2016-01-15 03:00:00                     6.047977   \n",
              "4  2016-01-15 04:00:00                     6.148599   \n",
              "\n",
              "   final.output.concentrate_pb  final.output.concentrate_sol  \\\n",
              "0                     9.889648                      5.507324   \n",
              "1                     9.968944                      5.257781   \n",
              "2                    10.213995                      5.383759   \n",
              "3                     9.977019                      4.858634   \n",
              "4                    10.142511                      4.939416   \n",
              "\n",
              "   final.output.concentrate_au  final.output.recovery  final.output.tail_ag  \\\n",
              "0                    42.192020              70.541216             10.411962   \n",
              "1                    42.701629              69.266198             10.462676   \n",
              "2                    42.657501              68.116445             10.507046   \n",
              "3                    42.689819              68.347543             10.422762   \n",
              "4                    42.774141              66.927016             10.360302   \n",
              "\n",
              "   final.output.tail_pb  final.output.tail_sol  final.output.tail_au  ...  \\\n",
              "0              0.895447              16.904297              2.143149  ...   \n",
              "1              0.927452              16.634514              2.224930  ...   \n",
              "2              0.953716              16.208849              2.257889  ...   \n",
              "3              0.883763              16.532835              2.146849  ...   \n",
              "4              0.792826              16.525686              2.055292  ...   \n",
              "\n",
              "   secondary_cleaner.state.floatbank4_a_air  \\\n",
              "0                                 14.016835   \n",
              "1                                 13.992281   \n",
              "2                                 14.015015   \n",
              "3                                 14.036510   \n",
              "4                                 14.027298   \n",
              "\n",
              "   secondary_cleaner.state.floatbank4_a_level  \\\n",
              "0                                 -502.488007   \n",
              "1                                 -505.503262   \n",
              "2                                 -502.520901   \n",
              "3                                 -500.857308   \n",
              "4                                 -499.838632   \n",
              "\n",
              "   secondary_cleaner.state.floatbank4_b_air  \\\n",
              "0                                 12.099931   \n",
              "1                                 11.950531   \n",
              "2                                 11.912783   \n",
              "3                                 11.999550   \n",
              "4                                 11.953070   \n",
              "\n",
              "   secondary_cleaner.state.floatbank4_b_level  \\\n",
              "0                                 -504.715942   \n",
              "1                                 -501.331529   \n",
              "2                                 -501.133383   \n",
              "3                                 -501.193686   \n",
              "4                                 -501.053894   \n",
              "\n",
              "   secondary_cleaner.state.floatbank5_a_air  \\\n",
              "0                                  9.925633   \n",
              "1                                 10.039245   \n",
              "2                                 10.070913   \n",
              "3                                  9.970366   \n",
              "4                                  9.925709   \n",
              "\n",
              "   secondary_cleaner.state.floatbank5_a_level  \\\n",
              "0                                 -498.310211   \n",
              "1                                 -500.169983   \n",
              "2                                 -500.129135   \n",
              "3                                 -499.201640   \n",
              "4                                 -501.686727   \n",
              "\n",
              "   secondary_cleaner.state.floatbank5_b_air  \\\n",
              "0                                  8.079666   \n",
              "1                                  7.984757   \n",
              "2                                  8.013877   \n",
              "3                                  7.977324   \n",
              "4                                  7.894242   \n",
              "\n",
              "   secondary_cleaner.state.floatbank5_b_level  \\\n",
              "0                                 -500.470978   \n",
              "1                                 -500.582168   \n",
              "2                                 -500.517572   \n",
              "3                                 -500.255908   \n",
              "4                                 -500.356035   \n",
              "\n",
              "   secondary_cleaner.state.floatbank6_a_air  \\\n",
              "0                                 14.151341   \n",
              "1                                 13.998353   \n",
              "2                                 14.028663   \n",
              "3                                 14.005551   \n",
              "4                                 13.996647   \n",
              "\n",
              "   secondary_cleaner.state.floatbank6_a_level  \n",
              "0                                 -605.841980  \n",
              "1                                 -599.787184  \n",
              "2                                 -601.427363  \n",
              "3                                 -599.996129  \n",
              "4                                 -601.496691  \n",
              "\n",
              "[5 rows x 87 columns]"
            ]
          },
          "metadata": {
            "tags": []
          },
          "execution_count": 7
        }
      ]
    },
    {
      "cell_type": "code",
      "metadata": {
        "id": "1JPIhuxEoJQ-",
        "outputId": "ae8d9bc3-df24-47e8-949a-6c555e810694"
      },
      "source": [
        "df_train.info()"
      ],
      "execution_count": null,
      "outputs": [
        {
          "output_type": "stream",
          "text": [
            "<class 'pandas.core.frame.DataFrame'>\n",
            "RangeIndex: 16860 entries, 0 to 16859\n",
            "Data columns (total 87 columns):\n",
            "date                                                  16860 non-null object\n",
            "final.output.concentrate_ag                           16788 non-null float64\n",
            "final.output.concentrate_pb                           16788 non-null float64\n",
            "final.output.concentrate_sol                          16490 non-null float64\n",
            "final.output.concentrate_au                           16789 non-null float64\n",
            "final.output.recovery                                 15339 non-null float64\n",
            "final.output.tail_ag                                  16794 non-null float64\n",
            "final.output.tail_pb                                  16677 non-null float64\n",
            "final.output.tail_sol                                 16715 non-null float64\n",
            "final.output.tail_au                                  16794 non-null float64\n",
            "primary_cleaner.input.sulfate                         15553 non-null float64\n",
            "primary_cleaner.input.depressant                      15598 non-null float64\n",
            "primary_cleaner.input.feed_size                       16860 non-null float64\n",
            "primary_cleaner.input.xanthate                        15875 non-null float64\n",
            "primary_cleaner.output.concentrate_ag                 16778 non-null float64\n",
            "primary_cleaner.output.concentrate_pb                 16502 non-null float64\n",
            "primary_cleaner.output.concentrate_sol                16224 non-null float64\n",
            "primary_cleaner.output.concentrate_au                 16778 non-null float64\n",
            "primary_cleaner.output.tail_ag                        16777 non-null float64\n",
            "primary_cleaner.output.tail_pb                        16761 non-null float64\n",
            "primary_cleaner.output.tail_sol                       16579 non-null float64\n",
            "primary_cleaner.output.tail_au                        16777 non-null float64\n",
            "primary_cleaner.state.floatbank8_a_air                16820 non-null float64\n",
            "primary_cleaner.state.floatbank8_a_level              16827 non-null float64\n",
            "primary_cleaner.state.floatbank8_b_air                16820 non-null float64\n",
            "primary_cleaner.state.floatbank8_b_level              16833 non-null float64\n",
            "primary_cleaner.state.floatbank8_c_air                16822 non-null float64\n",
            "primary_cleaner.state.floatbank8_c_level              16833 non-null float64\n",
            "primary_cleaner.state.floatbank8_d_air                16821 non-null float64\n",
            "primary_cleaner.state.floatbank8_d_level              16833 non-null float64\n",
            "rougher.calculation.sulfate_to_au_concentrate         16833 non-null float64\n",
            "rougher.calculation.floatbank10_sulfate_to_au_feed    16833 non-null float64\n",
            "rougher.calculation.floatbank11_sulfate_to_au_feed    16833 non-null float64\n",
            "rougher.calculation.au_pb_ratio                       15618 non-null float64\n",
            "rougher.input.feed_ag                                 16778 non-null float64\n",
            "rougher.input.feed_pb                                 16632 non-null float64\n",
            "rougher.input.feed_rate                               16347 non-null float64\n",
            "rougher.input.feed_size                               16443 non-null float64\n",
            "rougher.input.feed_sol                                16568 non-null float64\n",
            "rougher.input.feed_au                                 16777 non-null float64\n",
            "rougher.input.floatbank10_sulfate                     15816 non-null float64\n",
            "rougher.input.floatbank10_xanthate                    16514 non-null float64\n",
            "rougher.input.floatbank11_sulfate                     16237 non-null float64\n",
            "rougher.input.floatbank11_xanthate                    14956 non-null float64\n",
            "rougher.output.concentrate_ag                         16778 non-null float64\n",
            "rougher.output.concentrate_pb                         16778 non-null float64\n",
            "rougher.output.concentrate_sol                        16698 non-null float64\n",
            "rougher.output.concentrate_au                         16778 non-null float64\n",
            "rougher.output.recovery                               14287 non-null float64\n",
            "rougher.output.tail_ag                                14610 non-null float64\n",
            "rougher.output.tail_pb                                16778 non-null float64\n",
            "rougher.output.tail_sol                               14611 non-null float64\n",
            "rougher.output.tail_au                                14611 non-null float64\n",
            "rougher.state.floatbank10_a_air                       16807 non-null float64\n",
            "rougher.state.floatbank10_a_level                     16807 non-null float64\n",
            "rougher.state.floatbank10_b_air                       16807 non-null float64\n",
            "rougher.state.floatbank10_b_level                     16807 non-null float64\n",
            "rougher.state.floatbank10_c_air                       16807 non-null float64\n",
            "rougher.state.floatbank10_c_level                     16814 non-null float64\n",
            "rougher.state.floatbank10_d_air                       16802 non-null float64\n",
            "rougher.state.floatbank10_d_level                     16809 non-null float64\n",
            "rougher.state.floatbank10_e_air                       16257 non-null float64\n",
            "rougher.state.floatbank10_e_level                     16809 non-null float64\n",
            "rougher.state.floatbank10_f_air                       16802 non-null float64\n",
            "rougher.state.floatbank10_f_level                     16802 non-null float64\n",
            "secondary_cleaner.output.tail_ag                      16776 non-null float64\n",
            "secondary_cleaner.output.tail_pb                      16764 non-null float64\n",
            "secondary_cleaner.output.tail_sol                     14874 non-null float64\n",
            "secondary_cleaner.output.tail_au                      16778 non-null float64\n",
            "secondary_cleaner.state.floatbank2_a_air              16497 non-null float64\n",
            "secondary_cleaner.state.floatbank2_a_level            16751 non-null float64\n",
            "secondary_cleaner.state.floatbank2_b_air              16705 non-null float64\n",
            "secondary_cleaner.state.floatbank2_b_level            16748 non-null float64\n",
            "secondary_cleaner.state.floatbank3_a_air              16763 non-null float64\n",
            "secondary_cleaner.state.floatbank3_a_level            16747 non-null float64\n",
            "secondary_cleaner.state.floatbank3_b_air              16752 non-null float64\n",
            "secondary_cleaner.state.floatbank3_b_level            16750 non-null float64\n",
            "secondary_cleaner.state.floatbank4_a_air              16731 non-null float64\n",
            "secondary_cleaner.state.floatbank4_a_level            16747 non-null float64\n",
            "secondary_cleaner.state.floatbank4_b_air              16768 non-null float64\n",
            "secondary_cleaner.state.floatbank4_b_level            16767 non-null float64\n",
            "secondary_cleaner.state.floatbank5_a_air              16775 non-null float64\n",
            "secondary_cleaner.state.floatbank5_a_level            16775 non-null float64\n",
            "secondary_cleaner.state.floatbank5_b_air              16775 non-null float64\n",
            "secondary_cleaner.state.floatbank5_b_level            16776 non-null float64\n",
            "secondary_cleaner.state.floatbank6_a_air              16757 non-null float64\n",
            "secondary_cleaner.state.floatbank6_a_level            16775 non-null float64\n",
            "dtypes: float64(86), object(1)\n",
            "memory usage: 11.2+ MB\n"
          ],
          "name": "stdout"
        }
      ]
    },
    {
      "cell_type": "code",
      "metadata": {
        "id": "aYg50b_aoJRD",
        "outputId": "396f3fa7-b11a-47d5-c906-f5f22d7577c8"
      },
      "source": [
        "df_test.info()"
      ],
      "execution_count": null,
      "outputs": [
        {
          "output_type": "stream",
          "text": [
            "<class 'pandas.core.frame.DataFrame'>\n",
            "RangeIndex: 5856 entries, 0 to 5855\n",
            "Data columns (total 53 columns):\n",
            "date                                          5856 non-null object\n",
            "primary_cleaner.input.sulfate                 5554 non-null float64\n",
            "primary_cleaner.input.depressant              5572 non-null float64\n",
            "primary_cleaner.input.feed_size               5856 non-null float64\n",
            "primary_cleaner.input.xanthate                5690 non-null float64\n",
            "primary_cleaner.state.floatbank8_a_air        5840 non-null float64\n",
            "primary_cleaner.state.floatbank8_a_level      5840 non-null float64\n",
            "primary_cleaner.state.floatbank8_b_air        5840 non-null float64\n",
            "primary_cleaner.state.floatbank8_b_level      5840 non-null float64\n",
            "primary_cleaner.state.floatbank8_c_air        5840 non-null float64\n",
            "primary_cleaner.state.floatbank8_c_level      5840 non-null float64\n",
            "primary_cleaner.state.floatbank8_d_air        5840 non-null float64\n",
            "primary_cleaner.state.floatbank8_d_level      5840 non-null float64\n",
            "rougher.input.feed_ag                         5840 non-null float64\n",
            "rougher.input.feed_pb                         5840 non-null float64\n",
            "rougher.input.feed_rate                       5816 non-null float64\n",
            "rougher.input.feed_size                       5834 non-null float64\n",
            "rougher.input.feed_sol                        5789 non-null float64\n",
            "rougher.input.feed_au                         5840 non-null float64\n",
            "rougher.input.floatbank10_sulfate             5599 non-null float64\n",
            "rougher.input.floatbank10_xanthate            5733 non-null float64\n",
            "rougher.input.floatbank11_sulfate             5801 non-null float64\n",
            "rougher.input.floatbank11_xanthate            5503 non-null float64\n",
            "rougher.state.floatbank10_a_air               5839 non-null float64\n",
            "rougher.state.floatbank10_a_level             5840 non-null float64\n",
            "rougher.state.floatbank10_b_air               5839 non-null float64\n",
            "rougher.state.floatbank10_b_level             5840 non-null float64\n",
            "rougher.state.floatbank10_c_air               5839 non-null float64\n",
            "rougher.state.floatbank10_c_level             5840 non-null float64\n",
            "rougher.state.floatbank10_d_air               5839 non-null float64\n",
            "rougher.state.floatbank10_d_level             5840 non-null float64\n",
            "rougher.state.floatbank10_e_air               5839 non-null float64\n",
            "rougher.state.floatbank10_e_level             5840 non-null float64\n",
            "rougher.state.floatbank10_f_air               5839 non-null float64\n",
            "rougher.state.floatbank10_f_level             5840 non-null float64\n",
            "secondary_cleaner.state.floatbank2_a_air      5836 non-null float64\n",
            "secondary_cleaner.state.floatbank2_a_level    5840 non-null float64\n",
            "secondary_cleaner.state.floatbank2_b_air      5833 non-null float64\n",
            "secondary_cleaner.state.floatbank2_b_level    5840 non-null float64\n",
            "secondary_cleaner.state.floatbank3_a_air      5822 non-null float64\n",
            "secondary_cleaner.state.floatbank3_a_level    5840 non-null float64\n",
            "secondary_cleaner.state.floatbank3_b_air      5840 non-null float64\n",
            "secondary_cleaner.state.floatbank3_b_level    5840 non-null float64\n",
            "secondary_cleaner.state.floatbank4_a_air      5840 non-null float64\n",
            "secondary_cleaner.state.floatbank4_a_level    5840 non-null float64\n",
            "secondary_cleaner.state.floatbank4_b_air      5840 non-null float64\n",
            "secondary_cleaner.state.floatbank4_b_level    5840 non-null float64\n",
            "secondary_cleaner.state.floatbank5_a_air      5840 non-null float64\n",
            "secondary_cleaner.state.floatbank5_a_level    5840 non-null float64\n",
            "secondary_cleaner.state.floatbank5_b_air      5840 non-null float64\n",
            "secondary_cleaner.state.floatbank5_b_level    5840 non-null float64\n",
            "secondary_cleaner.state.floatbank6_a_air      5840 non-null float64\n",
            "secondary_cleaner.state.floatbank6_a_level    5840 non-null float64\n",
            "dtypes: float64(52), object(1)\n",
            "memory usage: 2.4+ MB\n"
          ],
          "name": "stdout"
        }
      ]
    },
    {
      "cell_type": "code",
      "metadata": {
        "id": "9bOBRfWwoJRJ",
        "outputId": "e9e23666-15b5-44e9-fc5c-9005a5cb240c"
      },
      "source": [
        "df_full.info()"
      ],
      "execution_count": null,
      "outputs": [
        {
          "output_type": "stream",
          "text": [
            "<class 'pandas.core.frame.DataFrame'>\n",
            "RangeIndex: 22716 entries, 0 to 22715\n",
            "Data columns (total 87 columns):\n",
            "date                                                  22716 non-null object\n",
            "final.output.concentrate_ag                           22627 non-null float64\n",
            "final.output.concentrate_pb                           22629 non-null float64\n",
            "final.output.concentrate_sol                          22331 non-null float64\n",
            "final.output.concentrate_au                           22630 non-null float64\n",
            "final.output.recovery                                 20753 non-null float64\n",
            "final.output.tail_ag                                  22633 non-null float64\n",
            "final.output.tail_pb                                  22516 non-null float64\n",
            "final.output.tail_sol                                 22445 non-null float64\n",
            "final.output.tail_au                                  22635 non-null float64\n",
            "primary_cleaner.input.sulfate                         21107 non-null float64\n",
            "primary_cleaner.input.depressant                      21170 non-null float64\n",
            "primary_cleaner.input.feed_size                       22716 non-null float64\n",
            "primary_cleaner.input.xanthate                        21565 non-null float64\n",
            "primary_cleaner.output.concentrate_ag                 22618 non-null float64\n",
            "primary_cleaner.output.concentrate_pb                 22268 non-null float64\n",
            "primary_cleaner.output.concentrate_sol                21918 non-null float64\n",
            "primary_cleaner.output.concentrate_au                 22618 non-null float64\n",
            "primary_cleaner.output.tail_ag                        22614 non-null float64\n",
            "primary_cleaner.output.tail_pb                        22594 non-null float64\n",
            "primary_cleaner.output.tail_sol                       22365 non-null float64\n",
            "primary_cleaner.output.tail_au                        22617 non-null float64\n",
            "primary_cleaner.state.floatbank8_a_air                22660 non-null float64\n",
            "primary_cleaner.state.floatbank8_a_level              22667 non-null float64\n",
            "primary_cleaner.state.floatbank8_b_air                22660 non-null float64\n",
            "primary_cleaner.state.floatbank8_b_level              22673 non-null float64\n",
            "primary_cleaner.state.floatbank8_c_air                22662 non-null float64\n",
            "primary_cleaner.state.floatbank8_c_level              22673 non-null float64\n",
            "primary_cleaner.state.floatbank8_d_air                22661 non-null float64\n",
            "primary_cleaner.state.floatbank8_d_level              22673 non-null float64\n",
            "rougher.calculation.sulfate_to_au_concentrate         22672 non-null float64\n",
            "rougher.calculation.floatbank10_sulfate_to_au_feed    22672 non-null float64\n",
            "rougher.calculation.floatbank11_sulfate_to_au_feed    22672 non-null float64\n",
            "rougher.calculation.au_pb_ratio                       21089 non-null float64\n",
            "rougher.input.feed_ag                                 22618 non-null float64\n",
            "rougher.input.feed_pb                                 22472 non-null float64\n",
            "rougher.input.feed_rate                               22163 non-null float64\n",
            "rougher.input.feed_size                               22277 non-null float64\n",
            "rougher.input.feed_sol                                22357 non-null float64\n",
            "rougher.input.feed_au                                 22617 non-null float64\n",
            "rougher.input.floatbank10_sulfate                     21415 non-null float64\n",
            "rougher.input.floatbank10_xanthate                    22247 non-null float64\n",
            "rougher.input.floatbank11_sulfate                     22038 non-null float64\n",
            "rougher.input.floatbank11_xanthate                    20459 non-null float64\n",
            "rougher.output.concentrate_ag                         22618 non-null float64\n",
            "rougher.output.concentrate_pb                         22618 non-null float64\n",
            "rougher.output.concentrate_sol                        22526 non-null float64\n",
            "rougher.output.concentrate_au                         22618 non-null float64\n",
            "rougher.output.recovery                               19597 non-null float64\n",
            "rougher.output.tail_ag                                19979 non-null float64\n",
            "rougher.output.tail_pb                                22618 non-null float64\n",
            "rougher.output.tail_sol                               19980 non-null float64\n",
            "rougher.output.tail_au                                19980 non-null float64\n",
            "rougher.state.floatbank10_a_air                       22646 non-null float64\n",
            "rougher.state.floatbank10_a_level                     22647 non-null float64\n",
            "rougher.state.floatbank10_b_air                       22646 non-null float64\n",
            "rougher.state.floatbank10_b_level                     22647 non-null float64\n",
            "rougher.state.floatbank10_c_air                       22646 non-null float64\n",
            "rougher.state.floatbank10_c_level                     22654 non-null float64\n",
            "rougher.state.floatbank10_d_air                       22641 non-null float64\n",
            "rougher.state.floatbank10_d_level                     22649 non-null float64\n",
            "rougher.state.floatbank10_e_air                       22096 non-null float64\n",
            "rougher.state.floatbank10_e_level                     22649 non-null float64\n",
            "rougher.state.floatbank10_f_air                       22641 non-null float64\n",
            "rougher.state.floatbank10_f_level                     22642 non-null float64\n",
            "secondary_cleaner.output.tail_ag                      22616 non-null float64\n",
            "secondary_cleaner.output.tail_pb                      22600 non-null float64\n",
            "secondary_cleaner.output.tail_sol                     20501 non-null float64\n",
            "secondary_cleaner.output.tail_au                      22618 non-null float64\n",
            "secondary_cleaner.state.floatbank2_a_air              22333 non-null float64\n",
            "secondary_cleaner.state.floatbank2_a_level            22591 non-null float64\n",
            "secondary_cleaner.state.floatbank2_b_air              22538 non-null float64\n",
            "secondary_cleaner.state.floatbank2_b_level            22588 non-null float64\n",
            "secondary_cleaner.state.floatbank3_a_air              22585 non-null float64\n",
            "secondary_cleaner.state.floatbank3_a_level            22587 non-null float64\n",
            "secondary_cleaner.state.floatbank3_b_air              22592 non-null float64\n",
            "secondary_cleaner.state.floatbank3_b_level            22590 non-null float64\n",
            "secondary_cleaner.state.floatbank4_a_air              22571 non-null float64\n",
            "secondary_cleaner.state.floatbank4_a_level            22587 non-null float64\n",
            "secondary_cleaner.state.floatbank4_b_air              22608 non-null float64\n",
            "secondary_cleaner.state.floatbank4_b_level            22607 non-null float64\n",
            "secondary_cleaner.state.floatbank5_a_air              22615 non-null float64\n",
            "secondary_cleaner.state.floatbank5_a_level            22615 non-null float64\n",
            "secondary_cleaner.state.floatbank5_b_air              22615 non-null float64\n",
            "secondary_cleaner.state.floatbank5_b_level            22616 non-null float64\n",
            "secondary_cleaner.state.floatbank6_a_air              22597 non-null float64\n",
            "secondary_cleaner.state.floatbank6_a_level            22615 non-null float64\n",
            "dtypes: float64(86), object(1)\n",
            "memory usage: 15.1+ MB\n"
          ],
          "name": "stdout"
        }
      ]
    },
    {
      "cell_type": "code",
      "metadata": {
        "id": "GR6yccmvoJRR",
        "outputId": "2a4b0900-94a7-42e7-a8ff-0e782b5aff97"
      },
      "source": [
        "df_train.describe()"
      ],
      "execution_count": null,
      "outputs": [
        {
          "output_type": "execute_result",
          "data": {
            "text/html": [
              "<div>\n",
              "<style scoped>\n",
              "    .dataframe tbody tr th:only-of-type {\n",
              "        vertical-align: middle;\n",
              "    }\n",
              "\n",
              "    .dataframe tbody tr th {\n",
              "        vertical-align: top;\n",
              "    }\n",
              "\n",
              "    .dataframe thead th {\n",
              "        text-align: right;\n",
              "    }\n",
              "</style>\n",
              "<table border=\"1\" class=\"dataframe\">\n",
              "  <thead>\n",
              "    <tr style=\"text-align: right;\">\n",
              "      <th></th>\n",
              "      <th>final.output.concentrate_ag</th>\n",
              "      <th>final.output.concentrate_pb</th>\n",
              "      <th>final.output.concentrate_sol</th>\n",
              "      <th>final.output.concentrate_au</th>\n",
              "      <th>final.output.recovery</th>\n",
              "      <th>final.output.tail_ag</th>\n",
              "      <th>final.output.tail_pb</th>\n",
              "      <th>final.output.tail_sol</th>\n",
              "      <th>final.output.tail_au</th>\n",
              "      <th>primary_cleaner.input.sulfate</th>\n",
              "      <th>...</th>\n",
              "      <th>secondary_cleaner.state.floatbank4_a_air</th>\n",
              "      <th>secondary_cleaner.state.floatbank4_a_level</th>\n",
              "      <th>secondary_cleaner.state.floatbank4_b_air</th>\n",
              "      <th>secondary_cleaner.state.floatbank4_b_level</th>\n",
              "      <th>secondary_cleaner.state.floatbank5_a_air</th>\n",
              "      <th>secondary_cleaner.state.floatbank5_a_level</th>\n",
              "      <th>secondary_cleaner.state.floatbank5_b_air</th>\n",
              "      <th>secondary_cleaner.state.floatbank5_b_level</th>\n",
              "      <th>secondary_cleaner.state.floatbank6_a_air</th>\n",
              "      <th>secondary_cleaner.state.floatbank6_a_level</th>\n",
              "    </tr>\n",
              "  </thead>\n",
              "  <tbody>\n",
              "    <tr>\n",
              "      <td>count</td>\n",
              "      <td>16788.000000</td>\n",
              "      <td>16788.000000</td>\n",
              "      <td>16490.000000</td>\n",
              "      <td>16789.000000</td>\n",
              "      <td>15339.000000</td>\n",
              "      <td>16794.000000</td>\n",
              "      <td>16677.000000</td>\n",
              "      <td>16715.000000</td>\n",
              "      <td>16794.000000</td>\n",
              "      <td>15553.000000</td>\n",
              "      <td>...</td>\n",
              "      <td>16731.000000</td>\n",
              "      <td>16747.000000</td>\n",
              "      <td>16768.000000</td>\n",
              "      <td>16767.000000</td>\n",
              "      <td>16775.000000</td>\n",
              "      <td>16775.000000</td>\n",
              "      <td>16775.000000</td>\n",
              "      <td>16776.000000</td>\n",
              "      <td>16757.000000</td>\n",
              "      <td>16775.000000</td>\n",
              "    </tr>\n",
              "    <tr>\n",
              "      <td>mean</td>\n",
              "      <td>4.716907</td>\n",
              "      <td>9.113559</td>\n",
              "      <td>8.301123</td>\n",
              "      <td>39.467217</td>\n",
              "      <td>67.213166</td>\n",
              "      <td>8.757048</td>\n",
              "      <td>2.360327</td>\n",
              "      <td>9.303932</td>\n",
              "      <td>2.687512</td>\n",
              "      <td>129.479789</td>\n",
              "      <td>...</td>\n",
              "      <td>19.101874</td>\n",
              "      <td>-494.164481</td>\n",
              "      <td>14.778164</td>\n",
              "      <td>-476.600082</td>\n",
              "      <td>15.779488</td>\n",
              "      <td>-500.230146</td>\n",
              "      <td>12.377241</td>\n",
              "      <td>-498.956257</td>\n",
              "      <td>18.429208</td>\n",
              "      <td>-521.801826</td>\n",
              "    </tr>\n",
              "    <tr>\n",
              "      <td>std</td>\n",
              "      <td>2.096718</td>\n",
              "      <td>3.389495</td>\n",
              "      <td>3.825760</td>\n",
              "      <td>13.917227</td>\n",
              "      <td>11.960446</td>\n",
              "      <td>3.634103</td>\n",
              "      <td>1.215576</td>\n",
              "      <td>4.263208</td>\n",
              "      <td>1.272757</td>\n",
              "      <td>45.386931</td>\n",
              "      <td>...</td>\n",
              "      <td>6.883163</td>\n",
              "      <td>84.803334</td>\n",
              "      <td>5.999149</td>\n",
              "      <td>89.381172</td>\n",
              "      <td>6.834703</td>\n",
              "      <td>76.983542</td>\n",
              "      <td>6.219989</td>\n",
              "      <td>82.146207</td>\n",
              "      <td>6.958294</td>\n",
              "      <td>77.170888</td>\n",
              "    </tr>\n",
              "    <tr>\n",
              "      <td>min</td>\n",
              "      <td>0.000000</td>\n",
              "      <td>0.000000</td>\n",
              "      <td>0.000000</td>\n",
              "      <td>0.000000</td>\n",
              "      <td>0.000000</td>\n",
              "      <td>0.000000</td>\n",
              "      <td>0.000000</td>\n",
              "      <td>0.000000</td>\n",
              "      <td>0.000000</td>\n",
              "      <td>0.000003</td>\n",
              "      <td>...</td>\n",
              "      <td>0.000000</td>\n",
              "      <td>-799.920713</td>\n",
              "      <td>0.000000</td>\n",
              "      <td>-800.021781</td>\n",
              "      <td>-0.423260</td>\n",
              "      <td>-799.741097</td>\n",
              "      <td>0.427084</td>\n",
              "      <td>-800.258209</td>\n",
              "      <td>0.024270</td>\n",
              "      <td>-810.473526</td>\n",
              "    </tr>\n",
              "    <tr>\n",
              "      <td>25%</td>\n",
              "      <td>3.971262</td>\n",
              "      <td>8.825748</td>\n",
              "      <td>6.939185</td>\n",
              "      <td>42.055722</td>\n",
              "      <td>62.625685</td>\n",
              "      <td>7.610544</td>\n",
              "      <td>1.641604</td>\n",
              "      <td>7.870275</td>\n",
              "      <td>2.172953</td>\n",
              "      <td>103.064021</td>\n",
              "      <td>...</td>\n",
              "      <td>14.508299</td>\n",
              "      <td>-500.837689</td>\n",
              "      <td>10.741388</td>\n",
              "      <td>-500.269182</td>\n",
              "      <td>10.977713</td>\n",
              "      <td>-500.530594</td>\n",
              "      <td>8.925586</td>\n",
              "      <td>-500.147603</td>\n",
              "      <td>13.977626</td>\n",
              "      <td>-501.080595</td>\n",
              "    </tr>\n",
              "    <tr>\n",
              "      <td>50%</td>\n",
              "      <td>4.869346</td>\n",
              "      <td>10.065316</td>\n",
              "      <td>8.557228</td>\n",
              "      <td>44.498874</td>\n",
              "      <td>67.644601</td>\n",
              "      <td>9.220393</td>\n",
              "      <td>2.453690</td>\n",
              "      <td>10.021968</td>\n",
              "      <td>2.781132</td>\n",
              "      <td>131.783108</td>\n",
              "      <td>...</td>\n",
              "      <td>19.986958</td>\n",
              "      <td>-499.778379</td>\n",
              "      <td>14.943933</td>\n",
              "      <td>-499.593286</td>\n",
              "      <td>15.998340</td>\n",
              "      <td>-499.784231</td>\n",
              "      <td>11.092839</td>\n",
              "      <td>-499.933330</td>\n",
              "      <td>18.034960</td>\n",
              "      <td>-500.109898</td>\n",
              "    </tr>\n",
              "    <tr>\n",
              "      <td>75%</td>\n",
              "      <td>5.821176</td>\n",
              "      <td>11.054809</td>\n",
              "      <td>10.289741</td>\n",
              "      <td>45.976222</td>\n",
              "      <td>72.824595</td>\n",
              "      <td>10.971110</td>\n",
              "      <td>3.192404</td>\n",
              "      <td>11.648573</td>\n",
              "      <td>3.416936</td>\n",
              "      <td>159.539839</td>\n",
              "      <td>...</td>\n",
              "      <td>24.983961</td>\n",
              "      <td>-494.648754</td>\n",
              "      <td>20.023751</td>\n",
              "      <td>-400.137948</td>\n",
              "      <td>20.000701</td>\n",
              "      <td>-496.531781</td>\n",
              "      <td>15.979467</td>\n",
              "      <td>-498.418000</td>\n",
              "      <td>24.984992</td>\n",
              "      <td>-499.565540</td>\n",
              "    </tr>\n",
              "    <tr>\n",
              "      <td>max</td>\n",
              "      <td>16.001945</td>\n",
              "      <td>17.031899</td>\n",
              "      <td>18.124851</td>\n",
              "      <td>53.611374</td>\n",
              "      <td>100.000000</td>\n",
              "      <td>19.552149</td>\n",
              "      <td>6.086532</td>\n",
              "      <td>22.317730</td>\n",
              "      <td>9.789625</td>\n",
              "      <td>251.999948</td>\n",
              "      <td>...</td>\n",
              "      <td>60.000000</td>\n",
              "      <td>-127.692333</td>\n",
              "      <td>28.003828</td>\n",
              "      <td>-71.472472</td>\n",
              "      <td>63.116298</td>\n",
              "      <td>-275.073125</td>\n",
              "      <td>39.846228</td>\n",
              "      <td>-120.190931</td>\n",
              "      <td>54.876806</td>\n",
              "      <td>-39.784927</td>\n",
              "    </tr>\n",
              "  </tbody>\n",
              "</table>\n",
              "<p>8 rows × 86 columns</p>\n",
              "</div>"
            ],
            "text/plain": [
              "       final.output.concentrate_ag  final.output.concentrate_pb  \\\n",
              "count                 16788.000000                 16788.000000   \n",
              "mean                      4.716907                     9.113559   \n",
              "std                       2.096718                     3.389495   \n",
              "min                       0.000000                     0.000000   \n",
              "25%                       3.971262                     8.825748   \n",
              "50%                       4.869346                    10.065316   \n",
              "75%                       5.821176                    11.054809   \n",
              "max                      16.001945                    17.031899   \n",
              "\n",
              "       final.output.concentrate_sol  final.output.concentrate_au  \\\n",
              "count                  16490.000000                 16789.000000   \n",
              "mean                       8.301123                    39.467217   \n",
              "std                        3.825760                    13.917227   \n",
              "min                        0.000000                     0.000000   \n",
              "25%                        6.939185                    42.055722   \n",
              "50%                        8.557228                    44.498874   \n",
              "75%                       10.289741                    45.976222   \n",
              "max                       18.124851                    53.611374   \n",
              "\n",
              "       final.output.recovery  final.output.tail_ag  final.output.tail_pb  \\\n",
              "count           15339.000000          16794.000000          16677.000000   \n",
              "mean               67.213166              8.757048              2.360327   \n",
              "std                11.960446              3.634103              1.215576   \n",
              "min                 0.000000              0.000000              0.000000   \n",
              "25%                62.625685              7.610544              1.641604   \n",
              "50%                67.644601              9.220393              2.453690   \n",
              "75%                72.824595             10.971110              3.192404   \n",
              "max               100.000000             19.552149              6.086532   \n",
              "\n",
              "       final.output.tail_sol  final.output.tail_au  \\\n",
              "count           16715.000000          16794.000000   \n",
              "mean                9.303932              2.687512   \n",
              "std                 4.263208              1.272757   \n",
              "min                 0.000000              0.000000   \n",
              "25%                 7.870275              2.172953   \n",
              "50%                10.021968              2.781132   \n",
              "75%                11.648573              3.416936   \n",
              "max                22.317730              9.789625   \n",
              "\n",
              "       primary_cleaner.input.sulfate  ...  \\\n",
              "count                   15553.000000  ...   \n",
              "mean                      129.479789  ...   \n",
              "std                        45.386931  ...   \n",
              "min                         0.000003  ...   \n",
              "25%                       103.064021  ...   \n",
              "50%                       131.783108  ...   \n",
              "75%                       159.539839  ...   \n",
              "max                       251.999948  ...   \n",
              "\n",
              "       secondary_cleaner.state.floatbank4_a_air  \\\n",
              "count                              16731.000000   \n",
              "mean                                  19.101874   \n",
              "std                                    6.883163   \n",
              "min                                    0.000000   \n",
              "25%                                   14.508299   \n",
              "50%                                   19.986958   \n",
              "75%                                   24.983961   \n",
              "max                                   60.000000   \n",
              "\n",
              "       secondary_cleaner.state.floatbank4_a_level  \\\n",
              "count                                16747.000000   \n",
              "mean                                  -494.164481   \n",
              "std                                     84.803334   \n",
              "min                                   -799.920713   \n",
              "25%                                   -500.837689   \n",
              "50%                                   -499.778379   \n",
              "75%                                   -494.648754   \n",
              "max                                   -127.692333   \n",
              "\n",
              "       secondary_cleaner.state.floatbank4_b_air  \\\n",
              "count                              16768.000000   \n",
              "mean                                  14.778164   \n",
              "std                                    5.999149   \n",
              "min                                    0.000000   \n",
              "25%                                   10.741388   \n",
              "50%                                   14.943933   \n",
              "75%                                   20.023751   \n",
              "max                                   28.003828   \n",
              "\n",
              "       secondary_cleaner.state.floatbank4_b_level  \\\n",
              "count                                16767.000000   \n",
              "mean                                  -476.600082   \n",
              "std                                     89.381172   \n",
              "min                                   -800.021781   \n",
              "25%                                   -500.269182   \n",
              "50%                                   -499.593286   \n",
              "75%                                   -400.137948   \n",
              "max                                    -71.472472   \n",
              "\n",
              "       secondary_cleaner.state.floatbank5_a_air  \\\n",
              "count                              16775.000000   \n",
              "mean                                  15.779488   \n",
              "std                                    6.834703   \n",
              "min                                   -0.423260   \n",
              "25%                                   10.977713   \n",
              "50%                                   15.998340   \n",
              "75%                                   20.000701   \n",
              "max                                   63.116298   \n",
              "\n",
              "       secondary_cleaner.state.floatbank5_a_level  \\\n",
              "count                                16775.000000   \n",
              "mean                                  -500.230146   \n",
              "std                                     76.983542   \n",
              "min                                   -799.741097   \n",
              "25%                                   -500.530594   \n",
              "50%                                   -499.784231   \n",
              "75%                                   -496.531781   \n",
              "max                                   -275.073125   \n",
              "\n",
              "       secondary_cleaner.state.floatbank5_b_air  \\\n",
              "count                              16775.000000   \n",
              "mean                                  12.377241   \n",
              "std                                    6.219989   \n",
              "min                                    0.427084   \n",
              "25%                                    8.925586   \n",
              "50%                                   11.092839   \n",
              "75%                                   15.979467   \n",
              "max                                   39.846228   \n",
              "\n",
              "       secondary_cleaner.state.floatbank5_b_level  \\\n",
              "count                                16776.000000   \n",
              "mean                                  -498.956257   \n",
              "std                                     82.146207   \n",
              "min                                   -800.258209   \n",
              "25%                                   -500.147603   \n",
              "50%                                   -499.933330   \n",
              "75%                                   -498.418000   \n",
              "max                                   -120.190931   \n",
              "\n",
              "       secondary_cleaner.state.floatbank6_a_air  \\\n",
              "count                              16757.000000   \n",
              "mean                                  18.429208   \n",
              "std                                    6.958294   \n",
              "min                                    0.024270   \n",
              "25%                                   13.977626   \n",
              "50%                                   18.034960   \n",
              "75%                                   24.984992   \n",
              "max                                   54.876806   \n",
              "\n",
              "       secondary_cleaner.state.floatbank6_a_level  \n",
              "count                                16775.000000  \n",
              "mean                                  -521.801826  \n",
              "std                                     77.170888  \n",
              "min                                   -810.473526  \n",
              "25%                                   -501.080595  \n",
              "50%                                   -500.109898  \n",
              "75%                                   -499.565540  \n",
              "max                                    -39.784927  \n",
              "\n",
              "[8 rows x 86 columns]"
            ]
          },
          "metadata": {
            "tags": []
          },
          "execution_count": 11
        }
      ]
    },
    {
      "cell_type": "code",
      "metadata": {
        "id": "DsrJ4TQmoJRX",
        "outputId": "f57590b0-9665-4c5c-b7fa-198f58fe531e"
      },
      "source": [
        "df_test.describe()"
      ],
      "execution_count": null,
      "outputs": [
        {
          "output_type": "execute_result",
          "data": {
            "text/html": [
              "<div>\n",
              "<style scoped>\n",
              "    .dataframe tbody tr th:only-of-type {\n",
              "        vertical-align: middle;\n",
              "    }\n",
              "\n",
              "    .dataframe tbody tr th {\n",
              "        vertical-align: top;\n",
              "    }\n",
              "\n",
              "    .dataframe thead th {\n",
              "        text-align: right;\n",
              "    }\n",
              "</style>\n",
              "<table border=\"1\" class=\"dataframe\">\n",
              "  <thead>\n",
              "    <tr style=\"text-align: right;\">\n",
              "      <th></th>\n",
              "      <th>primary_cleaner.input.sulfate</th>\n",
              "      <th>primary_cleaner.input.depressant</th>\n",
              "      <th>primary_cleaner.input.feed_size</th>\n",
              "      <th>primary_cleaner.input.xanthate</th>\n",
              "      <th>primary_cleaner.state.floatbank8_a_air</th>\n",
              "      <th>primary_cleaner.state.floatbank8_a_level</th>\n",
              "      <th>primary_cleaner.state.floatbank8_b_air</th>\n",
              "      <th>primary_cleaner.state.floatbank8_b_level</th>\n",
              "      <th>primary_cleaner.state.floatbank8_c_air</th>\n",
              "      <th>primary_cleaner.state.floatbank8_c_level</th>\n",
              "      <th>...</th>\n",
              "      <th>secondary_cleaner.state.floatbank4_a_air</th>\n",
              "      <th>secondary_cleaner.state.floatbank4_a_level</th>\n",
              "      <th>secondary_cleaner.state.floatbank4_b_air</th>\n",
              "      <th>secondary_cleaner.state.floatbank4_b_level</th>\n",
              "      <th>secondary_cleaner.state.floatbank5_a_air</th>\n",
              "      <th>secondary_cleaner.state.floatbank5_a_level</th>\n",
              "      <th>secondary_cleaner.state.floatbank5_b_air</th>\n",
              "      <th>secondary_cleaner.state.floatbank5_b_level</th>\n",
              "      <th>secondary_cleaner.state.floatbank6_a_air</th>\n",
              "      <th>secondary_cleaner.state.floatbank6_a_level</th>\n",
              "    </tr>\n",
              "  </thead>\n",
              "  <tbody>\n",
              "    <tr>\n",
              "      <td>count</td>\n",
              "      <td>5554.000000</td>\n",
              "      <td>5572.000000</td>\n",
              "      <td>5856.000000</td>\n",
              "      <td>5690.000000</td>\n",
              "      <td>5840.000000</td>\n",
              "      <td>5840.000000</td>\n",
              "      <td>5840.000000</td>\n",
              "      <td>5840.000000</td>\n",
              "      <td>5840.000000</td>\n",
              "      <td>5840.000000</td>\n",
              "      <td>...</td>\n",
              "      <td>5840.000000</td>\n",
              "      <td>5840.000000</td>\n",
              "      <td>5840.000000</td>\n",
              "      <td>5840.000000</td>\n",
              "      <td>5840.000000</td>\n",
              "      <td>5840.000000</td>\n",
              "      <td>5840.000000</td>\n",
              "      <td>5840.000000</td>\n",
              "      <td>5840.000000</td>\n",
              "      <td>5840.000000</td>\n",
              "    </tr>\n",
              "    <tr>\n",
              "      <td>mean</td>\n",
              "      <td>170.515243</td>\n",
              "      <td>8.482873</td>\n",
              "      <td>7.264651</td>\n",
              "      <td>1.321420</td>\n",
              "      <td>1481.990241</td>\n",
              "      <td>-509.057796</td>\n",
              "      <td>1486.908670</td>\n",
              "      <td>-511.743956</td>\n",
              "      <td>1468.495216</td>\n",
              "      <td>-509.741212</td>\n",
              "      <td>...</td>\n",
              "      <td>15.636031</td>\n",
              "      <td>-516.266074</td>\n",
              "      <td>13.145702</td>\n",
              "      <td>-476.338907</td>\n",
              "      <td>12.308967</td>\n",
              "      <td>-512.208126</td>\n",
              "      <td>9.470986</td>\n",
              "      <td>-505.017827</td>\n",
              "      <td>16.678722</td>\n",
              "      <td>-512.351694</td>\n",
              "    </tr>\n",
              "    <tr>\n",
              "      <td>std</td>\n",
              "      <td>49.608602</td>\n",
              "      <td>3.353105</td>\n",
              "      <td>0.611526</td>\n",
              "      <td>0.693246</td>\n",
              "      <td>310.453166</td>\n",
              "      <td>61.339256</td>\n",
              "      <td>313.224286</td>\n",
              "      <td>67.139074</td>\n",
              "      <td>309.980748</td>\n",
              "      <td>62.671873</td>\n",
              "      <td>...</td>\n",
              "      <td>4.660835</td>\n",
              "      <td>62.756748</td>\n",
              "      <td>4.304086</td>\n",
              "      <td>105.549424</td>\n",
              "      <td>3.762827</td>\n",
              "      <td>58.864651</td>\n",
              "      <td>3.312471</td>\n",
              "      <td>68.785898</td>\n",
              "      <td>5.404514</td>\n",
              "      <td>69.919839</td>\n",
              "    </tr>\n",
              "    <tr>\n",
              "      <td>min</td>\n",
              "      <td>0.000103</td>\n",
              "      <td>0.000031</td>\n",
              "      <td>5.650000</td>\n",
              "      <td>0.000003</td>\n",
              "      <td>0.000000</td>\n",
              "      <td>-799.773788</td>\n",
              "      <td>0.000000</td>\n",
              "      <td>-800.029078</td>\n",
              "      <td>0.000000</td>\n",
              "      <td>-799.995127</td>\n",
              "      <td>...</td>\n",
              "      <td>0.000000</td>\n",
              "      <td>-799.798523</td>\n",
              "      <td>0.000000</td>\n",
              "      <td>-800.836914</td>\n",
              "      <td>-0.223393</td>\n",
              "      <td>-799.661076</td>\n",
              "      <td>0.528083</td>\n",
              "      <td>-800.220337</td>\n",
              "      <td>-0.079426</td>\n",
              "      <td>-809.859706</td>\n",
              "    </tr>\n",
              "    <tr>\n",
              "      <td>25%</td>\n",
              "      <td>143.340022</td>\n",
              "      <td>6.411500</td>\n",
              "      <td>6.885625</td>\n",
              "      <td>0.888769</td>\n",
              "      <td>1497.190681</td>\n",
              "      <td>-500.455211</td>\n",
              "      <td>1497.150234</td>\n",
              "      <td>-500.936639</td>\n",
              "      <td>1437.050321</td>\n",
              "      <td>-501.300441</td>\n",
              "      <td>...</td>\n",
              "      <td>12.057838</td>\n",
              "      <td>-501.054741</td>\n",
              "      <td>11.880119</td>\n",
              "      <td>-500.419113</td>\n",
              "      <td>10.123459</td>\n",
              "      <td>-500.879383</td>\n",
              "      <td>7.991208</td>\n",
              "      <td>-500.223089</td>\n",
              "      <td>13.012422</td>\n",
              "      <td>-500.833821</td>\n",
              "    </tr>\n",
              "    <tr>\n",
              "      <td>50%</td>\n",
              "      <td>176.103893</td>\n",
              "      <td>8.023252</td>\n",
              "      <td>7.259333</td>\n",
              "      <td>1.183362</td>\n",
              "      <td>1554.659783</td>\n",
              "      <td>-499.997402</td>\n",
              "      <td>1553.268084</td>\n",
              "      <td>-500.066588</td>\n",
              "      <td>1546.160672</td>\n",
              "      <td>-500.079537</td>\n",
              "      <td>...</td>\n",
              "      <td>17.001867</td>\n",
              "      <td>-500.160145</td>\n",
              "      <td>14.952102</td>\n",
              "      <td>-499.644328</td>\n",
              "      <td>12.062877</td>\n",
              "      <td>-500.047621</td>\n",
              "      <td>9.980774</td>\n",
              "      <td>-500.001338</td>\n",
              "      <td>16.007242</td>\n",
              "      <td>-500.041085</td>\n",
              "    </tr>\n",
              "    <tr>\n",
              "      <td>75%</td>\n",
              "      <td>207.240761</td>\n",
              "      <td>10.017725</td>\n",
              "      <td>7.650000</td>\n",
              "      <td>1.763797</td>\n",
              "      <td>1601.681656</td>\n",
              "      <td>-499.575313</td>\n",
              "      <td>1601.784707</td>\n",
              "      <td>-499.323361</td>\n",
              "      <td>1600.785573</td>\n",
              "      <td>-499.009545</td>\n",
              "      <td>...</td>\n",
              "      <td>18.030985</td>\n",
              "      <td>-499.441529</td>\n",
              "      <td>15.940011</td>\n",
              "      <td>-401.523664</td>\n",
              "      <td>15.017881</td>\n",
              "      <td>-499.297033</td>\n",
              "      <td>11.992176</td>\n",
              "      <td>-499.722835</td>\n",
              "      <td>21.009076</td>\n",
              "      <td>-499.395621</td>\n",
              "    </tr>\n",
              "    <tr>\n",
              "      <td>max</td>\n",
              "      <td>274.409626</td>\n",
              "      <td>40.024582</td>\n",
              "      <td>15.500000</td>\n",
              "      <td>5.433169</td>\n",
              "      <td>2212.432090</td>\n",
              "      <td>-57.195404</td>\n",
              "      <td>1975.147923</td>\n",
              "      <td>-142.527229</td>\n",
              "      <td>1715.053773</td>\n",
              "      <td>-150.937035</td>\n",
              "      <td>...</td>\n",
              "      <td>30.051797</td>\n",
              "      <td>-401.565212</td>\n",
              "      <td>31.269706</td>\n",
              "      <td>-6.506986</td>\n",
              "      <td>25.258848</td>\n",
              "      <td>-244.483566</td>\n",
              "      <td>14.090194</td>\n",
              "      <td>-126.463446</td>\n",
              "      <td>26.705889</td>\n",
              "      <td>-29.093593</td>\n",
              "    </tr>\n",
              "  </tbody>\n",
              "</table>\n",
              "<p>8 rows × 52 columns</p>\n",
              "</div>"
            ],
            "text/plain": [
              "       primary_cleaner.input.sulfate  primary_cleaner.input.depressant  \\\n",
              "count                    5554.000000                       5572.000000   \n",
              "mean                      170.515243                          8.482873   \n",
              "std                        49.608602                          3.353105   \n",
              "min                         0.000103                          0.000031   \n",
              "25%                       143.340022                          6.411500   \n",
              "50%                       176.103893                          8.023252   \n",
              "75%                       207.240761                         10.017725   \n",
              "max                       274.409626                         40.024582   \n",
              "\n",
              "       primary_cleaner.input.feed_size  primary_cleaner.input.xanthate  \\\n",
              "count                      5856.000000                     5690.000000   \n",
              "mean                          7.264651                        1.321420   \n",
              "std                           0.611526                        0.693246   \n",
              "min                           5.650000                        0.000003   \n",
              "25%                           6.885625                        0.888769   \n",
              "50%                           7.259333                        1.183362   \n",
              "75%                           7.650000                        1.763797   \n",
              "max                          15.500000                        5.433169   \n",
              "\n",
              "       primary_cleaner.state.floatbank8_a_air  \\\n",
              "count                             5840.000000   \n",
              "mean                              1481.990241   \n",
              "std                                310.453166   \n",
              "min                                  0.000000   \n",
              "25%                               1497.190681   \n",
              "50%                               1554.659783   \n",
              "75%                               1601.681656   \n",
              "max                               2212.432090   \n",
              "\n",
              "       primary_cleaner.state.floatbank8_a_level  \\\n",
              "count                               5840.000000   \n",
              "mean                                -509.057796   \n",
              "std                                   61.339256   \n",
              "min                                 -799.773788   \n",
              "25%                                 -500.455211   \n",
              "50%                                 -499.997402   \n",
              "75%                                 -499.575313   \n",
              "max                                  -57.195404   \n",
              "\n",
              "       primary_cleaner.state.floatbank8_b_air  \\\n",
              "count                             5840.000000   \n",
              "mean                              1486.908670   \n",
              "std                                313.224286   \n",
              "min                                  0.000000   \n",
              "25%                               1497.150234   \n",
              "50%                               1553.268084   \n",
              "75%                               1601.784707   \n",
              "max                               1975.147923   \n",
              "\n",
              "       primary_cleaner.state.floatbank8_b_level  \\\n",
              "count                               5840.000000   \n",
              "mean                                -511.743956   \n",
              "std                                   67.139074   \n",
              "min                                 -800.029078   \n",
              "25%                                 -500.936639   \n",
              "50%                                 -500.066588   \n",
              "75%                                 -499.323361   \n",
              "max                                 -142.527229   \n",
              "\n",
              "       primary_cleaner.state.floatbank8_c_air  \\\n",
              "count                             5840.000000   \n",
              "mean                              1468.495216   \n",
              "std                                309.980748   \n",
              "min                                  0.000000   \n",
              "25%                               1437.050321   \n",
              "50%                               1546.160672   \n",
              "75%                               1600.785573   \n",
              "max                               1715.053773   \n",
              "\n",
              "       primary_cleaner.state.floatbank8_c_level  ...  \\\n",
              "count                               5840.000000  ...   \n",
              "mean                                -509.741212  ...   \n",
              "std                                   62.671873  ...   \n",
              "min                                 -799.995127  ...   \n",
              "25%                                 -501.300441  ...   \n",
              "50%                                 -500.079537  ...   \n",
              "75%                                 -499.009545  ...   \n",
              "max                                 -150.937035  ...   \n",
              "\n",
              "       secondary_cleaner.state.floatbank4_a_air  \\\n",
              "count                               5840.000000   \n",
              "mean                                  15.636031   \n",
              "std                                    4.660835   \n",
              "min                                    0.000000   \n",
              "25%                                   12.057838   \n",
              "50%                                   17.001867   \n",
              "75%                                   18.030985   \n",
              "max                                   30.051797   \n",
              "\n",
              "       secondary_cleaner.state.floatbank4_a_level  \\\n",
              "count                                 5840.000000   \n",
              "mean                                  -516.266074   \n",
              "std                                     62.756748   \n",
              "min                                   -799.798523   \n",
              "25%                                   -501.054741   \n",
              "50%                                   -500.160145   \n",
              "75%                                   -499.441529   \n",
              "max                                   -401.565212   \n",
              "\n",
              "       secondary_cleaner.state.floatbank4_b_air  \\\n",
              "count                               5840.000000   \n",
              "mean                                  13.145702   \n",
              "std                                    4.304086   \n",
              "min                                    0.000000   \n",
              "25%                                   11.880119   \n",
              "50%                                   14.952102   \n",
              "75%                                   15.940011   \n",
              "max                                   31.269706   \n",
              "\n",
              "       secondary_cleaner.state.floatbank4_b_level  \\\n",
              "count                                 5840.000000   \n",
              "mean                                  -476.338907   \n",
              "std                                    105.549424   \n",
              "min                                   -800.836914   \n",
              "25%                                   -500.419113   \n",
              "50%                                   -499.644328   \n",
              "75%                                   -401.523664   \n",
              "max                                     -6.506986   \n",
              "\n",
              "       secondary_cleaner.state.floatbank5_a_air  \\\n",
              "count                               5840.000000   \n",
              "mean                                  12.308967   \n",
              "std                                    3.762827   \n",
              "min                                   -0.223393   \n",
              "25%                                   10.123459   \n",
              "50%                                   12.062877   \n",
              "75%                                   15.017881   \n",
              "max                                   25.258848   \n",
              "\n",
              "       secondary_cleaner.state.floatbank5_a_level  \\\n",
              "count                                 5840.000000   \n",
              "mean                                  -512.208126   \n",
              "std                                     58.864651   \n",
              "min                                   -799.661076   \n",
              "25%                                   -500.879383   \n",
              "50%                                   -500.047621   \n",
              "75%                                   -499.297033   \n",
              "max                                   -244.483566   \n",
              "\n",
              "       secondary_cleaner.state.floatbank5_b_air  \\\n",
              "count                               5840.000000   \n",
              "mean                                   9.470986   \n",
              "std                                    3.312471   \n",
              "min                                    0.528083   \n",
              "25%                                    7.991208   \n",
              "50%                                    9.980774   \n",
              "75%                                   11.992176   \n",
              "max                                   14.090194   \n",
              "\n",
              "       secondary_cleaner.state.floatbank5_b_level  \\\n",
              "count                                 5840.000000   \n",
              "mean                                  -505.017827   \n",
              "std                                     68.785898   \n",
              "min                                   -800.220337   \n",
              "25%                                   -500.223089   \n",
              "50%                                   -500.001338   \n",
              "75%                                   -499.722835   \n",
              "max                                   -126.463446   \n",
              "\n",
              "       secondary_cleaner.state.floatbank6_a_air  \\\n",
              "count                               5840.000000   \n",
              "mean                                  16.678722   \n",
              "std                                    5.404514   \n",
              "min                                   -0.079426   \n",
              "25%                                   13.012422   \n",
              "50%                                   16.007242   \n",
              "75%                                   21.009076   \n",
              "max                                   26.705889   \n",
              "\n",
              "       secondary_cleaner.state.floatbank6_a_level  \n",
              "count                                 5840.000000  \n",
              "mean                                  -512.351694  \n",
              "std                                     69.919839  \n",
              "min                                   -809.859706  \n",
              "25%                                   -500.833821  \n",
              "50%                                   -500.041085  \n",
              "75%                                   -499.395621  \n",
              "max                                    -29.093593  \n",
              "\n",
              "[8 rows x 52 columns]"
            ]
          },
          "metadata": {
            "tags": []
          },
          "execution_count": 12
        }
      ]
    },
    {
      "cell_type": "code",
      "metadata": {
        "id": "3UYUjIwKoJRf",
        "outputId": "4df92c40-8db0-46ca-db88-35bc9b4da1c8"
      },
      "source": [
        "df_full.describe()"
      ],
      "execution_count": null,
      "outputs": [
        {
          "output_type": "execute_result",
          "data": {
            "text/html": [
              "<div>\n",
              "<style scoped>\n",
              "    .dataframe tbody tr th:only-of-type {\n",
              "        vertical-align: middle;\n",
              "    }\n",
              "\n",
              "    .dataframe tbody tr th {\n",
              "        vertical-align: top;\n",
              "    }\n",
              "\n",
              "    .dataframe thead th {\n",
              "        text-align: right;\n",
              "    }\n",
              "</style>\n",
              "<table border=\"1\" class=\"dataframe\">\n",
              "  <thead>\n",
              "    <tr style=\"text-align: right;\">\n",
              "      <th></th>\n",
              "      <th>final.output.concentrate_ag</th>\n",
              "      <th>final.output.concentrate_pb</th>\n",
              "      <th>final.output.concentrate_sol</th>\n",
              "      <th>final.output.concentrate_au</th>\n",
              "      <th>final.output.recovery</th>\n",
              "      <th>final.output.tail_ag</th>\n",
              "      <th>final.output.tail_pb</th>\n",
              "      <th>final.output.tail_sol</th>\n",
              "      <th>final.output.tail_au</th>\n",
              "      <th>primary_cleaner.input.sulfate</th>\n",
              "      <th>...</th>\n",
              "      <th>secondary_cleaner.state.floatbank4_a_air</th>\n",
              "      <th>secondary_cleaner.state.floatbank4_a_level</th>\n",
              "      <th>secondary_cleaner.state.floatbank4_b_air</th>\n",
              "      <th>secondary_cleaner.state.floatbank4_b_level</th>\n",
              "      <th>secondary_cleaner.state.floatbank5_a_air</th>\n",
              "      <th>secondary_cleaner.state.floatbank5_a_level</th>\n",
              "      <th>secondary_cleaner.state.floatbank5_b_air</th>\n",
              "      <th>secondary_cleaner.state.floatbank5_b_level</th>\n",
              "      <th>secondary_cleaner.state.floatbank6_a_air</th>\n",
              "      <th>secondary_cleaner.state.floatbank6_a_level</th>\n",
              "    </tr>\n",
              "  </thead>\n",
              "  <tbody>\n",
              "    <tr>\n",
              "      <td>count</td>\n",
              "      <td>22627.000000</td>\n",
              "      <td>22629.000000</td>\n",
              "      <td>22331.000000</td>\n",
              "      <td>22630.000000</td>\n",
              "      <td>20753.000000</td>\n",
              "      <td>22633.000000</td>\n",
              "      <td>22516.000000</td>\n",
              "      <td>22445.000000</td>\n",
              "      <td>22635.000000</td>\n",
              "      <td>21107.000000</td>\n",
              "      <td>...</td>\n",
              "      <td>22571.000000</td>\n",
              "      <td>22587.000000</td>\n",
              "      <td>22608.000000</td>\n",
              "      <td>22607.000000</td>\n",
              "      <td>22615.000000</td>\n",
              "      <td>22615.000000</td>\n",
              "      <td>22615.000000</td>\n",
              "      <td>22616.000000</td>\n",
              "      <td>22597.000000</td>\n",
              "      <td>22615.000000</td>\n",
              "    </tr>\n",
              "    <tr>\n",
              "      <td>mean</td>\n",
              "      <td>4.781559</td>\n",
              "      <td>9.095308</td>\n",
              "      <td>8.640317</td>\n",
              "      <td>40.001172</td>\n",
              "      <td>67.447488</td>\n",
              "      <td>8.923690</td>\n",
              "      <td>2.488252</td>\n",
              "      <td>9.523632</td>\n",
              "      <td>2.827459</td>\n",
              "      <td>140.277672</td>\n",
              "      <td>...</td>\n",
              "      <td>18.205125</td>\n",
              "      <td>-499.878977</td>\n",
              "      <td>14.356474</td>\n",
              "      <td>-476.532613</td>\n",
              "      <td>14.883276</td>\n",
              "      <td>-503.323288</td>\n",
              "      <td>11.626743</td>\n",
              "      <td>-500.521502</td>\n",
              "      <td>17.976810</td>\n",
              "      <td>-519.361465</td>\n",
              "    </tr>\n",
              "    <tr>\n",
              "      <td>std</td>\n",
              "      <td>2.030128</td>\n",
              "      <td>3.230797</td>\n",
              "      <td>3.785035</td>\n",
              "      <td>13.398062</td>\n",
              "      <td>11.616034</td>\n",
              "      <td>3.517917</td>\n",
              "      <td>1.189407</td>\n",
              "      <td>4.079739</td>\n",
              "      <td>1.262834</td>\n",
              "      <td>49.919004</td>\n",
              "      <td>...</td>\n",
              "      <td>6.560700</td>\n",
              "      <td>80.273964</td>\n",
              "      <td>5.655791</td>\n",
              "      <td>93.822791</td>\n",
              "      <td>6.372811</td>\n",
              "      <td>72.925589</td>\n",
              "      <td>5.757449</td>\n",
              "      <td>78.956292</td>\n",
              "      <td>6.636203</td>\n",
              "      <td>75.477151</td>\n",
              "    </tr>\n",
              "    <tr>\n",
              "      <td>min</td>\n",
              "      <td>0.000000</td>\n",
              "      <td>0.000000</td>\n",
              "      <td>0.000000</td>\n",
              "      <td>0.000000</td>\n",
              "      <td>0.000000</td>\n",
              "      <td>0.000000</td>\n",
              "      <td>0.000000</td>\n",
              "      <td>0.000000</td>\n",
              "      <td>0.000000</td>\n",
              "      <td>0.000003</td>\n",
              "      <td>...</td>\n",
              "      <td>0.000000</td>\n",
              "      <td>-799.920713</td>\n",
              "      <td>0.000000</td>\n",
              "      <td>-800.836914</td>\n",
              "      <td>-0.423260</td>\n",
              "      <td>-799.741097</td>\n",
              "      <td>0.427084</td>\n",
              "      <td>-800.258209</td>\n",
              "      <td>-0.079426</td>\n",
              "      <td>-810.473526</td>\n",
              "    </tr>\n",
              "    <tr>\n",
              "      <td>25%</td>\n",
              "      <td>4.018525</td>\n",
              "      <td>8.750171</td>\n",
              "      <td>7.116799</td>\n",
              "      <td>42.383721</td>\n",
              "      <td>63.282393</td>\n",
              "      <td>7.684016</td>\n",
              "      <td>1.805376</td>\n",
              "      <td>8.143576</td>\n",
              "      <td>2.303108</td>\n",
              "      <td>110.177081</td>\n",
              "      <td>...</td>\n",
              "      <td>14.095940</td>\n",
              "      <td>-500.896232</td>\n",
              "      <td>10.882675</td>\n",
              "      <td>-500.309169</td>\n",
              "      <td>10.941299</td>\n",
              "      <td>-500.628697</td>\n",
              "      <td>8.037533</td>\n",
              "      <td>-500.167897</td>\n",
              "      <td>13.968418</td>\n",
              "      <td>-500.981671</td>\n",
              "    </tr>\n",
              "    <tr>\n",
              "      <td>50%</td>\n",
              "      <td>4.953729</td>\n",
              "      <td>9.914519</td>\n",
              "      <td>8.908792</td>\n",
              "      <td>44.653436</td>\n",
              "      <td>68.322258</td>\n",
              "      <td>9.484369</td>\n",
              "      <td>2.653001</td>\n",
              "      <td>10.212998</td>\n",
              "      <td>2.913794</td>\n",
              "      <td>141.330501</td>\n",
              "      <td>...</td>\n",
              "      <td>18.007326</td>\n",
              "      <td>-499.917108</td>\n",
              "      <td>14.947646</td>\n",
              "      <td>-499.612292</td>\n",
              "      <td>14.859117</td>\n",
              "      <td>-499.865158</td>\n",
              "      <td>10.989756</td>\n",
              "      <td>-499.951980</td>\n",
              "      <td>18.004215</td>\n",
              "      <td>-500.095463</td>\n",
              "    </tr>\n",
              "    <tr>\n",
              "      <td>75%</td>\n",
              "      <td>5.862593</td>\n",
              "      <td>10.929839</td>\n",
              "      <td>10.705824</td>\n",
              "      <td>46.111999</td>\n",
              "      <td>72.950836</td>\n",
              "      <td>11.084557</td>\n",
              "      <td>3.287790</td>\n",
              "      <td>11.860824</td>\n",
              "      <td>3.555077</td>\n",
              "      <td>174.049914</td>\n",
              "      <td>...</td>\n",
              "      <td>22.998194</td>\n",
              "      <td>-498.361545</td>\n",
              "      <td>17.977502</td>\n",
              "      <td>-400.224147</td>\n",
              "      <td>18.014914</td>\n",
              "      <td>-498.489381</td>\n",
              "      <td>14.001193</td>\n",
              "      <td>-499.492354</td>\n",
              "      <td>23.009704</td>\n",
              "      <td>-499.526388</td>\n",
              "    </tr>\n",
              "    <tr>\n",
              "      <td>max</td>\n",
              "      <td>16.001945</td>\n",
              "      <td>17.031899</td>\n",
              "      <td>19.615720</td>\n",
              "      <td>53.611374</td>\n",
              "      <td>100.000000</td>\n",
              "      <td>19.552149</td>\n",
              "      <td>6.086532</td>\n",
              "      <td>22.861749</td>\n",
              "      <td>9.789625</td>\n",
              "      <td>274.409626</td>\n",
              "      <td>...</td>\n",
              "      <td>60.000000</td>\n",
              "      <td>-127.692333</td>\n",
              "      <td>31.269706</td>\n",
              "      <td>-6.506986</td>\n",
              "      <td>63.116298</td>\n",
              "      <td>-244.483566</td>\n",
              "      <td>39.846228</td>\n",
              "      <td>-120.190931</td>\n",
              "      <td>54.876806</td>\n",
              "      <td>-29.093593</td>\n",
              "    </tr>\n",
              "  </tbody>\n",
              "</table>\n",
              "<p>8 rows × 86 columns</p>\n",
              "</div>"
            ],
            "text/plain": [
              "       final.output.concentrate_ag  final.output.concentrate_pb  \\\n",
              "count                 22627.000000                 22629.000000   \n",
              "mean                      4.781559                     9.095308   \n",
              "std                       2.030128                     3.230797   \n",
              "min                       0.000000                     0.000000   \n",
              "25%                       4.018525                     8.750171   \n",
              "50%                       4.953729                     9.914519   \n",
              "75%                       5.862593                    10.929839   \n",
              "max                      16.001945                    17.031899   \n",
              "\n",
              "       final.output.concentrate_sol  final.output.concentrate_au  \\\n",
              "count                  22331.000000                 22630.000000   \n",
              "mean                       8.640317                    40.001172   \n",
              "std                        3.785035                    13.398062   \n",
              "min                        0.000000                     0.000000   \n",
              "25%                        7.116799                    42.383721   \n",
              "50%                        8.908792                    44.653436   \n",
              "75%                       10.705824                    46.111999   \n",
              "max                       19.615720                    53.611374   \n",
              "\n",
              "       final.output.recovery  final.output.tail_ag  final.output.tail_pb  \\\n",
              "count           20753.000000          22633.000000          22516.000000   \n",
              "mean               67.447488              8.923690              2.488252   \n",
              "std                11.616034              3.517917              1.189407   \n",
              "min                 0.000000              0.000000              0.000000   \n",
              "25%                63.282393              7.684016              1.805376   \n",
              "50%                68.322258              9.484369              2.653001   \n",
              "75%                72.950836             11.084557              3.287790   \n",
              "max               100.000000             19.552149              6.086532   \n",
              "\n",
              "       final.output.tail_sol  final.output.tail_au  \\\n",
              "count           22445.000000          22635.000000   \n",
              "mean                9.523632              2.827459   \n",
              "std                 4.079739              1.262834   \n",
              "min                 0.000000              0.000000   \n",
              "25%                 8.143576              2.303108   \n",
              "50%                10.212998              2.913794   \n",
              "75%                11.860824              3.555077   \n",
              "max                22.861749              9.789625   \n",
              "\n",
              "       primary_cleaner.input.sulfate  ...  \\\n",
              "count                   21107.000000  ...   \n",
              "mean                      140.277672  ...   \n",
              "std                        49.919004  ...   \n",
              "min                         0.000003  ...   \n",
              "25%                       110.177081  ...   \n",
              "50%                       141.330501  ...   \n",
              "75%                       174.049914  ...   \n",
              "max                       274.409626  ...   \n",
              "\n",
              "       secondary_cleaner.state.floatbank4_a_air  \\\n",
              "count                              22571.000000   \n",
              "mean                                  18.205125   \n",
              "std                                    6.560700   \n",
              "min                                    0.000000   \n",
              "25%                                   14.095940   \n",
              "50%                                   18.007326   \n",
              "75%                                   22.998194   \n",
              "max                                   60.000000   \n",
              "\n",
              "       secondary_cleaner.state.floatbank4_a_level  \\\n",
              "count                                22587.000000   \n",
              "mean                                  -499.878977   \n",
              "std                                     80.273964   \n",
              "min                                   -799.920713   \n",
              "25%                                   -500.896232   \n",
              "50%                                   -499.917108   \n",
              "75%                                   -498.361545   \n",
              "max                                   -127.692333   \n",
              "\n",
              "       secondary_cleaner.state.floatbank4_b_air  \\\n",
              "count                              22608.000000   \n",
              "mean                                  14.356474   \n",
              "std                                    5.655791   \n",
              "min                                    0.000000   \n",
              "25%                                   10.882675   \n",
              "50%                                   14.947646   \n",
              "75%                                   17.977502   \n",
              "max                                   31.269706   \n",
              "\n",
              "       secondary_cleaner.state.floatbank4_b_level  \\\n",
              "count                                22607.000000   \n",
              "mean                                  -476.532613   \n",
              "std                                     93.822791   \n",
              "min                                   -800.836914   \n",
              "25%                                   -500.309169   \n",
              "50%                                   -499.612292   \n",
              "75%                                   -400.224147   \n",
              "max                                     -6.506986   \n",
              "\n",
              "       secondary_cleaner.state.floatbank5_a_air  \\\n",
              "count                              22615.000000   \n",
              "mean                                  14.883276   \n",
              "std                                    6.372811   \n",
              "min                                   -0.423260   \n",
              "25%                                   10.941299   \n",
              "50%                                   14.859117   \n",
              "75%                                   18.014914   \n",
              "max                                   63.116298   \n",
              "\n",
              "       secondary_cleaner.state.floatbank5_a_level  \\\n",
              "count                                22615.000000   \n",
              "mean                                  -503.323288   \n",
              "std                                     72.925589   \n",
              "min                                   -799.741097   \n",
              "25%                                   -500.628697   \n",
              "50%                                   -499.865158   \n",
              "75%                                   -498.489381   \n",
              "max                                   -244.483566   \n",
              "\n",
              "       secondary_cleaner.state.floatbank5_b_air  \\\n",
              "count                              22615.000000   \n",
              "mean                                  11.626743   \n",
              "std                                    5.757449   \n",
              "min                                    0.427084   \n",
              "25%                                    8.037533   \n",
              "50%                                   10.989756   \n",
              "75%                                   14.001193   \n",
              "max                                   39.846228   \n",
              "\n",
              "       secondary_cleaner.state.floatbank5_b_level  \\\n",
              "count                                22616.000000   \n",
              "mean                                  -500.521502   \n",
              "std                                     78.956292   \n",
              "min                                   -800.258209   \n",
              "25%                                   -500.167897   \n",
              "50%                                   -499.951980   \n",
              "75%                                   -499.492354   \n",
              "max                                   -120.190931   \n",
              "\n",
              "       secondary_cleaner.state.floatbank6_a_air  \\\n",
              "count                              22597.000000   \n",
              "mean                                  17.976810   \n",
              "std                                    6.636203   \n",
              "min                                   -0.079426   \n",
              "25%                                   13.968418   \n",
              "50%                                   18.004215   \n",
              "75%                                   23.009704   \n",
              "max                                   54.876806   \n",
              "\n",
              "       secondary_cleaner.state.floatbank6_a_level  \n",
              "count                                22615.000000  \n",
              "mean                                  -519.361465  \n",
              "std                                     75.477151  \n",
              "min                                   -810.473526  \n",
              "25%                                   -500.981671  \n",
              "50%                                   -500.095463  \n",
              "75%                                   -499.526388  \n",
              "max                                    -29.093593  \n",
              "\n",
              "[8 rows x 86 columns]"
            ]
          },
          "metadata": {
            "tags": []
          },
          "execution_count": 13
        }
      ]
    },
    {
      "cell_type": "markdown",
      "metadata": {
        "id": "6NtM0-pWoJRl"
      },
      "source": [
        "#### 1.2. Checking that recovery is calculated correctly\n",
        "\n"
      ]
    },
    {
      "cell_type": "code",
      "metadata": {
        "id": "zgkzRs5qoJRm"
      },
      "source": [
        "C = df_train['rougher.output.concentrate_au'].dropna()\n",
        "F = df_train['rougher.input.feed_au'].dropna()\n",
        "T = df_train['rougher.output.tail_au'].dropna()"
      ],
      "execution_count": null,
      "outputs": []
    },
    {
      "cell_type": "code",
      "metadata": {
        "id": "s73y0s2IoJRr"
      },
      "source": [
        "df_train['recovery'] = ((C * (F - T)) / (F * (C - T))) * 100"
      ],
      "execution_count": null,
      "outputs": []
    },
    {
      "cell_type": "markdown",
      "metadata": {
        "id": "F_MhQN6ZoJRx"
      },
      "source": [
        "NA values are not included in the recovery calculation because they are not numbers and cannot be computed properly."
      ]
    },
    {
      "cell_type": "code",
      "metadata": {
        "id": "YM2wb-vLoJRy",
        "outputId": "3dc64813-1fa4-4a25-fb85-8aeb7378b844"
      },
      "source": [
        "print(\"MAE:\", np.sum(np.abs(df_train['recovery']-df_train['rougher.output.recovery'])) / len(df_train['rougher.output.recovery']))"
      ],
      "execution_count": null,
      "outputs": [
        {
          "output_type": "stream",
          "text": [
            "MAE: 8.00350954615662e-15\n"
          ],
          "name": "stdout"
        }
      ]
    },
    {
      "cell_type": "markdown",
      "metadata": {
        "id": "r-0V8mm6oJR1"
      },
      "source": [
        "The mean absolute error indicates the mean of the absolute values when calculating the differences between the forecasted value and the actual value. Absolute error is calculated to cancel out the difference between underfitting and overfitting. \n",
        "\n",
        "It measures accuracy for continuous variables. The resulting MAE here is a very small number, indicating that the error for recovery is low."
      ]
    },
    {
      "cell_type": "markdown",
      "metadata": {
        "id": "zqm1VVK3oJR5"
      },
      "source": [
        "#### 1.3. Analyzing the features not available in the test set"
      ]
    },
    {
      "cell_type": "code",
      "metadata": {
        "id": "2SloTwLYoJR5",
        "outputId": "dd57f771-62e6-412e-afda-8ebdc7c7b4a5"
      },
      "source": [
        "df_train.loc[:, sorted(set(df_train.columns).difference(set(df_test.columns)))].info()"
      ],
      "execution_count": null,
      "outputs": [
        {
          "output_type": "stream",
          "text": [
            "<class 'pandas.core.frame.DataFrame'>\n",
            "RangeIndex: 16860 entries, 0 to 16859\n",
            "Data columns (total 35 columns):\n",
            "final.output.concentrate_ag                           16788 non-null float64\n",
            "final.output.concentrate_au                           16789 non-null float64\n",
            "final.output.concentrate_pb                           16788 non-null float64\n",
            "final.output.concentrate_sol                          16490 non-null float64\n",
            "final.output.recovery                                 15339 non-null float64\n",
            "final.output.tail_ag                                  16794 non-null float64\n",
            "final.output.tail_au                                  16794 non-null float64\n",
            "final.output.tail_pb                                  16677 non-null float64\n",
            "final.output.tail_sol                                 16715 non-null float64\n",
            "primary_cleaner.output.concentrate_ag                 16778 non-null float64\n",
            "primary_cleaner.output.concentrate_au                 16778 non-null float64\n",
            "primary_cleaner.output.concentrate_pb                 16502 non-null float64\n",
            "primary_cleaner.output.concentrate_sol                16224 non-null float64\n",
            "primary_cleaner.output.tail_ag                        16777 non-null float64\n",
            "primary_cleaner.output.tail_au                        16777 non-null float64\n",
            "primary_cleaner.output.tail_pb                        16761 non-null float64\n",
            "primary_cleaner.output.tail_sol                       16579 non-null float64\n",
            "recovery                                              14577 non-null float64\n",
            "rougher.calculation.au_pb_ratio                       15618 non-null float64\n",
            "rougher.calculation.floatbank10_sulfate_to_au_feed    16833 non-null float64\n",
            "rougher.calculation.floatbank11_sulfate_to_au_feed    16833 non-null float64\n",
            "rougher.calculation.sulfate_to_au_concentrate         16833 non-null float64\n",
            "rougher.output.concentrate_ag                         16778 non-null float64\n",
            "rougher.output.concentrate_au                         16778 non-null float64\n",
            "rougher.output.concentrate_pb                         16778 non-null float64\n",
            "rougher.output.concentrate_sol                        16698 non-null float64\n",
            "rougher.output.recovery                               14287 non-null float64\n",
            "rougher.output.tail_ag                                14610 non-null float64\n",
            "rougher.output.tail_au                                14611 non-null float64\n",
            "rougher.output.tail_pb                                16778 non-null float64\n",
            "rougher.output.tail_sol                               14611 non-null float64\n",
            "secondary_cleaner.output.tail_ag                      16776 non-null float64\n",
            "secondary_cleaner.output.tail_au                      16778 non-null float64\n",
            "secondary_cleaner.output.tail_pb                      16764 non-null float64\n",
            "secondary_cleaner.output.tail_sol                     14874 non-null float64\n",
            "dtypes: float64(35)\n",
            "memory usage: 4.5 MB\n"
          ],
          "name": "stdout"
        }
      ]
    },
    {
      "cell_type": "markdown",
      "metadata": {
        "id": "nn781ZotoJR_"
      },
      "source": [
        "There are 35 columns on the training set that do not exist on the test set. Their datatypes are all float64 and consist of `output` and `calculation` features.\n",
        "\n",
        "Targets `rougher.output.recovery` and `final.output.recovery` do not exist on the test set and will be merged from the full set.\n",
        "\n",
        "The remaining features will be dropped from the training set to match the features available on the test set."
      ]
    },
    {
      "cell_type": "markdown",
      "metadata": {
        "id": "0WG4SO7coJSA"
      },
      "source": [
        "#### 1.4. Performing data preprocessing."
      ]
    },
    {
      "cell_type": "markdown",
      "metadata": {
        "id": "NphCPaBRoJSB"
      },
      "source": [
        "#### Fill NA values"
      ]
    },
    {
      "cell_type": "code",
      "metadata": {
        "id": "SImK8mqDoJSC"
      },
      "source": [
        "df_train.fillna(method='ffill', inplace=True)"
      ],
      "execution_count": null,
      "outputs": []
    },
    {
      "cell_type": "code",
      "metadata": {
        "id": "j5IM4m8PoJSH"
      },
      "source": [
        "df_test.fillna(method='ffill', inplace=True)"
      ],
      "execution_count": null,
      "outputs": []
    },
    {
      "cell_type": "code",
      "metadata": {
        "id": "CJt54-6LoJSM"
      },
      "source": [
        "df_full.fillna(method='ffill', inplace=True)"
      ],
      "execution_count": null,
      "outputs": []
    },
    {
      "cell_type": "markdown",
      "metadata": {
        "id": "CAo0i4gmoJSU"
      },
      "source": [
        "NA values are filled using the `ffill` method because the project description had stated that parameters that are next to each other in terms of time are often similar."
      ]
    },
    {
      "cell_type": "markdown",
      "metadata": {
        "id": "Ylc6PDvwoJSX"
      },
      "source": [
        "#### Merge `rougher.output.recovery` and `final.output.recovery` targets from full set into test set"
      ]
    },
    {
      "cell_type": "code",
      "metadata": {
        "id": "HYXPVpIdoJSZ"
      },
      "source": [
        "df_full_test = df_test.merge(df_full[['date', 'rougher.output.recovery', 'final.output.recovery']], how=\"left\", on=\"date\")"
      ],
      "execution_count": null,
      "outputs": []
    },
    {
      "cell_type": "code",
      "metadata": {
        "id": "KZhgxfMzoJSe",
        "outputId": "63de7a50-320b-4c0d-bba6-da3000eceb8f"
      },
      "source": [
        "df_full_test.shape"
      ],
      "execution_count": null,
      "outputs": [
        {
          "output_type": "execute_result",
          "data": {
            "text/plain": [
              "(5856, 55)"
            ]
          },
          "metadata": {
            "tags": []
          },
          "execution_count": 22
        }
      ]
    },
    {
      "cell_type": "markdown",
      "metadata": {
        "id": "0pDqsYnToJSk"
      },
      "source": [
        "#### Exclude columns in `df_train` that are not present in `df_full_test`"
      ]
    },
    {
      "cell_type": "code",
      "metadata": {
        "id": "KvHfCYBzoJSl"
      },
      "source": [
        "df_train_test = df_train[df_full_test.columns]"
      ],
      "execution_count": null,
      "outputs": []
    },
    {
      "cell_type": "code",
      "metadata": {
        "id": "Vmw9M0nPoJSt",
        "outputId": "451f690f-a26b-433d-ee12-5204d92aa5bb"
      },
      "source": [
        "df_train_test.shape"
      ],
      "execution_count": null,
      "outputs": [
        {
          "output_type": "execute_result",
          "data": {
            "text/plain": [
              "(16860, 55)"
            ]
          },
          "metadata": {
            "tags": []
          },
          "execution_count": 24
        }
      ]
    },
    {
      "cell_type": "markdown",
      "metadata": {
        "id": "wLwziFGcoJSx"
      },
      "source": [
        "### Conclusion"
      ]
    },
    {
      "cell_type": "markdown",
      "metadata": {
        "id": "oht5mjbvoJSy"
      },
      "source": [
        "3 datasets: `gold_recovery_train.csv`, `gold_recovery_test.csv`, and `gold_recovery_full.csv` were opened and examined.\n",
        "\n",
        "The MAE for recovery was checked to see if the `rougher.output.recovery` feature was calculated correctly. The resulting MAE was 8.00350954615662e-15.\n",
        "\n",
        "All datatypes were set correctly, and there were a few null values found for each column. The test dataset has less features than the other two datasets and is missing the two targets, `rougher.output.recovery` and `final.output.recovery`, which were soon obtained from `gold_recovery_full`.\n",
        "\n",
        "NA values were filled with the `ffill` method, because it was given that parameters that are next to each other in terms of time are often similar.\n",
        "\n",
        "Columns found in the training set that were not present in the test set were removed."
      ]
    },
    {
      "cell_type": "markdown",
      "metadata": {
        "id": "Fr3ugc2ToJSy"
      },
      "source": [
        "### 2. Analyzing the data"
      ]
    },
    {
      "cell_type": "markdown",
      "metadata": {
        "id": "EdhcQiU6oJSy"
      },
      "source": [
        "#### 2.1. Checking how the concentrations of metals (Au, Ag, Pb) change depending on the purification stage"
      ]
    },
    {
      "cell_type": "code",
      "metadata": {
        "id": "yC6U5s7voJS0",
        "outputId": "73ffc9fb-e436-41b3-e355-5b7272126bfa"
      },
      "source": [
        "elements = ['au', 'ag', 'pb']\n",
        "\n",
        "for ele in elements:\n",
        "    plt.figure(figsize=(12,5))\n",
        "    plt.title(f'{ele.capitalize()} Concentration by Purification Stage')\n",
        "    df_full[f'rougher.input.feed_{ele}'].hist(alpha=0.5, bins=50, label=f'rougher.input.feed_{ele}')\n",
        "    df_full[f'rougher.output.concentrate_{ele}'].hist(alpha=0.5, bins=50, label=f'rougher.output.concentrate_{ele}')\n",
        "    df_full[f'primary_cleaner.output.concentrate_{ele}'].hist(alpha=0.5, bins=50, label=f'primary_cleaner.output.concentrate_{ele}')\n",
        "    df_full[f'final.output.concentrate_{ele}'].hist(alpha=0.5, bins=50, label=f'final.output.concentrate_{ele}')\n",
        "    plt.legend()"
      ],
      "execution_count": null,
      "outputs": [
        {
          "output_type": "display_data",
          "data": {
            "image/png": "[encoded data removed]",
            "text/plain": [
              "<Figure size 864x360 with 1 Axes>"
            ]
          },
          "metadata": {
            "tags": [],
            "needs_background": "light"
          }
        },
        {
          "output_type": "display_data",
          "data": {
            "image/png": "[encoded data removed]",
            "text/plain": [
              "<Figure size 864x360 with 1 Axes>"
            ]
          },
          "metadata": {
            "tags": [],
            "needs_background": "light"
          }
        },
        {
          "output_type": "display_data",
          "data": {
            "image/png": "[encoded data removed]",
            "text/plain": [
              "<Figure size 864x360 with 1 Axes>"
            ]
          },
          "metadata": {
            "tags": [],
            "needs_background": "light"
          }
        }
      ]
    },
    {
      "cell_type": "markdown",
      "metadata": {
        "id": "cjVH1mA5oJS6"
      },
      "source": [
        "As the number of purification stages that Au undergoes increases, the more concentration is obtained.\n",
        "\n",
        "Ag has different results: Ag concentration is highest right after the Floation stage and decreases after each purification stage.\n",
        "\n",
        "The concentration of Pb increases after each purification stage, although the change from the primary cleaner to the final output is miniscule."
      ]
    },
    {
      "cell_type": "markdown",
      "metadata": {
        "id": "kcfc3RZwoJS6"
      },
      "source": [
        "#### 2.2. Comparing the feed particle size distributions in the training set and in the test set"
      ]
    },
    {
      "cell_type": "code",
      "metadata": {
        "id": "t5DouulaoJS7",
        "outputId": "2e1625ab-3a2b-42fc-f699-9de48af7036d"
      },
      "source": [
        "plt.figure(figsize=(12,5))\n",
        "plt.title('Feed Size')\n",
        "df_train_test['rougher.input.feed_size'].hist(alpha=0.5, bins=50, label='Training Feed Size', density=True)\n",
        "df_full_test['rougher.input.feed_size'].hist(alpha=0.5, bins=50, label='Test Feed Size', density=True)\n",
        "plt.legend()"
      ],
      "execution_count": null,
      "outputs": [
        {
          "output_type": "execute_result",
          "data": {
            "text/plain": [
              "<matplotlib.legend.Legend at 0x7f528e72b910>"
            ]
          },
          "metadata": {
            "tags": []
          },
          "execution_count": 26
        },
        {
          "output_type": "display_data",
          "data": {
            "image/png": "[encoded data removed]",
            "text/plain": [
              "<Figure size 864x360 with 1 Axes>"
            ]
          },
          "metadata": {
            "tags": [],
            "needs_background": "light"
          }
        }
      ]
    },
    {
      "cell_type": "code",
      "metadata": {
        "id": "2FGRyr_NoJTB",
        "outputId": "9e4378f0-3ad2-4556-fc06-29fb38cff4e7"
      },
      "source": [
        "df_train_test['rougher.input.feed_size'].describe()"
      ],
      "execution_count": null,
      "outputs": [
        {
          "output_type": "execute_result",
          "data": {
            "text/plain": [
              "count    16860.000000\n",
              "mean        60.188595\n",
              "std         30.522242\n",
              "min          9.659576\n",
              "25%         47.548897\n",
              "50%         54.066003\n",
              "75%         65.397249\n",
              "max        484.967466\n",
              "Name: rougher.input.feed_size, dtype: float64"
            ]
          },
          "metadata": {
            "tags": []
          },
          "execution_count": 27
        }
      ]
    },
    {
      "cell_type": "code",
      "metadata": {
        "id": "1ORDfKwkoJTE",
        "outputId": "cd9d6bcd-1919-4734-c91b-25d88f17ffc7"
      },
      "source": [
        "df_full_test['rougher.input.feed_size'].describe()"
      ],
      "execution_count": null,
      "outputs": [
        {
          "output_type": "execute_result",
          "data": {
            "text/plain": [
              "count    5856.000000\n",
              "mean       55.898866\n",
              "std        22.707969\n",
              "min         0.046369\n",
              "25%        43.852884\n",
              "50%        49.964796\n",
              "75%        61.628003\n",
              "max       477.445473\n",
              "Name: rougher.input.feed_size, dtype: float64"
            ]
          },
          "metadata": {
            "tags": []
          },
          "execution_count": 28
        }
      ]
    },
    {
      "cell_type": "markdown",
      "metadata": {
        "id": "A-TcbilsoJTI"
      },
      "source": [
        "After comparing the distributions, means, and medians, the training set and the test set do not appear to vary significantly."
      ]
    },
    {
      "cell_type": "markdown",
      "metadata": {
        "id": "g19YnBNZoJTI"
      },
      "source": [
        "#### 2.3. Examining the total concentrations of all substances at different stages: raw feed, rougher concentrate, and final concentrate"
      ]
    },
    {
      "cell_type": "code",
      "metadata": {
        "id": "neblmoexoJTK",
        "outputId": "07fdc254-b569-46c5-9855-12a80614b019"
      },
      "source": [
        "stages = ['rougher.input.feed_', \n",
        "           'rougher.output.concentrate_', \n",
        "           'primary_cleaner.output.concentrate_', \n",
        "           'final.output.concentrate_']\n",
        "\n",
        "for stage in stages:\n",
        "    plt.figure(figsize=(12,5))\n",
        "    plt.title(f'Total Substance Concentration During `{stage[:-1]}`')\n",
        "    df_full[[f'{stage}au', f'{stage}au', f'{stage}pb', f'{stage}sol']].sum(1).hist(bins=50)"
      ],
      "execution_count": null,
      "outputs": [
        {
          "output_type": "display_data",
          "data": {
            "image/png": "[encoded data removed]",
            "text/plain": [
              "<Figure size 864x360 with 1 Axes>"
            ]
          },
          "metadata": {
            "tags": [],
            "needs_background": "light"
          }
        },
        {
          "output_type": "display_data",
          "data": {
            "image/png": "[encoded data removed]",
            "text/plain": [
              "<Figure size 864x360 with 1 Axes>"
            ]
          },
          "metadata": {
            "tags": [],
            "needs_background": "light"
          }
        },
        {
          "output_type": "display_data",
          "data": {
            "image/png": "[encoded data removed]",
            "text/plain": [
              "<Figure size 864x360 with 1 Axes>"
            ]
          },
          "metadata": {
            "tags": [],
            "needs_background": "light"
          }
        },
        {
          "output_type": "display_data",
          "data": {
            "image/png": "[encoded data removed]",
            "text/plain": [
              "<Figure size 864x360 with 1 Axes>"
            ]
          },
          "metadata": {
            "tags": [],
            "needs_background": "light"
          }
        }
      ]
    },
    {
      "cell_type": "markdown",
      "metadata": {
        "id": "BATS_pkKoJTP"
      },
      "source": [
        "The histograms show that after each stage, total substance concentration increases.\n",
        "\n",
        "There are many 0 values in each graph that would be better if they were removed. It is possible that a few mixtures that were fed into the float banks actually did not contain any of the substances that are currently being analyzed, resulting in 0 values."
      ]
    },
    {
      "cell_type": "code",
      "metadata": {
        "id": "E40PB4LzoJTP",
        "outputId": "046124ad-6534-4375-c0ec-65b32fbd5d88"
      },
      "source": [
        "df_full.shape"
      ],
      "execution_count": null,
      "outputs": [
        {
          "output_type": "execute_result",
          "data": {
            "text/plain": [
              "(22716, 87)"
            ]
          },
          "metadata": {
            "tags": []
          },
          "execution_count": 30
        }
      ]
    },
    {
      "cell_type": "code",
      "metadata": {
        "id": "3S-07l-BoJTU"
      },
      "source": [
        "substances = ['au', 'ag', 'pb', 'sol']\n",
        "\n",
        "for substance in substances:\n",
        "    df_full = df_full.loc[(df_full[f'rougher.input.feed_{substance}'] >= 0.05) & \n",
        "                          (df_full[f'rougher.output.concentrate_{substance}'] >= 0.05) &\n",
        "                          (df_full[f'primary_cleaner.output.concentrate_{substance}'] >= 0.05) &\n",
        "                          (df_full[f'final.output.concentrate_{substance}'] >= 0.05)\n",
        "                         ]"
      ],
      "execution_count": null,
      "outputs": []
    },
    {
      "cell_type": "code",
      "metadata": {
        "id": "Uy0792yFoJTX",
        "outputId": "9c96cb58-831d-4e9e-8b6d-98166caa7efa"
      },
      "source": [
        "df_full.shape"
      ],
      "execution_count": null,
      "outputs": [
        {
          "output_type": "execute_result",
          "data": {
            "text/plain": [
              "(19468, 87)"
            ]
          },
          "metadata": {
            "tags": []
          },
          "execution_count": 32
        }
      ]
    },
    {
      "cell_type": "markdown",
      "metadata": {
        "id": "o0707EjtoJTa"
      },
      "source": [
        "Concentrations less than 0.05 were dropped, leaving 85.7% of the original `df_full` dataset."
      ]
    },
    {
      "cell_type": "code",
      "metadata": {
        "id": "NvcNoExKoJTb",
        "outputId": "162090ff-dc9e-46cb-ad43-c9028bab7b77"
      },
      "source": [
        "df_train_test.shape"
      ],
      "execution_count": null,
      "outputs": [
        {
          "output_type": "execute_result",
          "data": {
            "text/plain": [
              "(16860, 55)"
            ]
          },
          "metadata": {
            "tags": []
          },
          "execution_count": 33
        }
      ]
    },
    {
      "cell_type": "code",
      "metadata": {
        "id": "xhYrxEEKoJTf",
        "outputId": "3877f749-f6c8-4dfb-c08f-9f1d59a3f6df"
      },
      "source": [
        "df_full_test.shape"
      ],
      "execution_count": null,
      "outputs": [
        {
          "output_type": "execute_result",
          "data": {
            "text/plain": [
              "(5856, 55)"
            ]
          },
          "metadata": {
            "tags": []
          },
          "execution_count": 34
        }
      ]
    },
    {
      "cell_type": "code",
      "metadata": {
        "id": "As22QCkwoJTk"
      },
      "source": [
        "substances = ['au', 'ag', 'pb', 'sol']\n",
        "\n",
        "for substance in substances:\n",
        "    df_train_test = df_train_test.loc[df_train_test[f'rougher.input.feed_{substance}'] >= 0.05]\n",
        "    df_full_test = df_full_test.loc[df_full_test[f'rougher.input.feed_{substance}'] >= 0.05]"
      ],
      "execution_count": null,
      "outputs": []
    },
    {
      "cell_type": "code",
      "metadata": {
        "id": "PsZDE8NGoJTn",
        "outputId": "98cd904e-9286-49c2-d57b-7c43f3e58d86"
      },
      "source": [
        "df_train_test.shape"
      ],
      "execution_count": null,
      "outputs": [
        {
          "output_type": "execute_result",
          "data": {
            "text/plain": [
              "(15204, 55)"
            ]
          },
          "metadata": {
            "tags": []
          },
          "execution_count": 36
        }
      ]
    },
    {
      "cell_type": "code",
      "metadata": {
        "id": "9nPzFlfOoJTq",
        "outputId": "97c60ff9-b1d8-4a9c-8be9-a45ea5eb2616"
      },
      "source": [
        "df_full_test.shape"
      ],
      "execution_count": null,
      "outputs": [
        {
          "output_type": "execute_result",
          "data": {
            "text/plain": [
              "(5464, 55)"
            ]
          },
          "metadata": {
            "tags": []
          },
          "execution_count": 37
        }
      ]
    },
    {
      "cell_type": "markdown",
      "metadata": {
        "id": "-2EQK4xKoJTt"
      },
      "source": [
        "Likewise, concentrations of less than 0.05 were dropped for `df_train_test` and `df_full_test`, leaving 90.2% of the original `df_train_test` set and 93.3% of the originating `df_full_test`."
      ]
    },
    {
      "cell_type": "markdown",
      "metadata": {
        "id": "Rv6jJZ8hoJTu"
      },
      "source": [
        "#### Resulting histograms after removing concentrations less than 0.05:"
      ]
    },
    {
      "cell_type": "code",
      "metadata": {
        "id": "MnjF3myQoJTv",
        "outputId": "b6c904f1-2e0e-4f6f-95ec-26bc07d726ac"
      },
      "source": [
        "stages = ['rougher.input.feed_', \n",
        "           'rougher.output.concentrate_', \n",
        "           'primary_cleaner.output.concentrate_', \n",
        "           'final.output.concentrate_']\n",
        "\n",
        "for stage in stages:\n",
        "    plt.figure(figsize=(12,5))\n",
        "    plt.title(f'Total Substance Concentration During `{stage[:-1]}`')\n",
        "    df_full[[f'{stage}au', f'{stage}au', f'{stage}pb', f'{stage}sol']].sum(1).hist(bins=50)"
      ],
      "execution_count": null,
      "outputs": [
        {
          "output_type": "display_data",
          "data": {
            "image/png": "[encoded data removed]",
            "text/plain": [
              "<Figure size 864x360 with 1 Axes>"
            ]
          },
          "metadata": {
            "tags": [],
            "needs_background": "light"
          }
        },
        {
          "output_type": "display_data",
          "data": {
            "image/png": "[encoded data removed]",
            "text/plain": [
              "<Figure size 864x360 with 1 Axes>"
            ]
          },
          "metadata": {
            "tags": [],
            "needs_background": "light"
          }
        },
        {
          "output_type": "display_data",
          "data": {
            "image/png": "[encoded data removed]",
            "text/plain": [
              "<Figure size 864x360 with 1 Axes>"
            ]
          },
          "metadata": {
            "tags": [],
            "needs_background": "light"
          }
        },
        {
          "output_type": "display_data",
          "data": {
            "image/png": "[encoded data removed]",
            "text/plain": [
              "<Figure size 864x360 with 1 Axes>"
            ]
          },
          "metadata": {
            "tags": [],
            "needs_background": "light"
          }
        }
      ]
    },
    {
      "cell_type": "markdown",
      "metadata": {
        "id": "uZB5yCG0oJTz"
      },
      "source": [
        "#### Conclusion"
      ]
    },
    {
      "cell_type": "markdown",
      "metadata": {
        "id": "PVgVtXT3oJT0"
      },
      "source": [
        "The overall data was analyzed in this step.\n",
        "\n",
        "It was found that as the number of purification stages that Au undergoes increases, the more concentration is obtained.\n",
        "\n",
        "Ag had different results: Ag concentration is highest right after the Floation stage and decreases after each purification stage.\n",
        "\n",
        "The concentration of Pb increased after each purification stage, although the change from the primary cleaner to the final output wass miniscule.\n",
        "\n",
        "Next, the feed particle size distributions were compared and found to have similar distributions.\n",
        "\n",
        "The total concentrations of all substances at each processing stage increased after each stage. 0 values were discovered in the histograms and dropped from all three datasets."
      ]
    },
    {
      "cell_type": "markdown",
      "metadata": {
        "id": "r9L8QpBgoJT0"
      },
      "source": [
        "### 3. Build the model."
      ]
    },
    {
      "cell_type": "markdown",
      "metadata": {
        "id": "BKN1JKp7oJT1"
      },
      "source": [
        "#### 3.1. Writing a function to calculate the final sMAPE value"
      ]
    },
    {
      "cell_type": "code",
      "metadata": {
        "id": "FJ1uVPvYoJT2"
      },
      "source": [
        "def smape(y, y_pred):\n",
        "    def smape_stage(idx, name):\n",
        "        name = np.mean( ( np.abs(y.iloc[:, idx] -  y_pred[:, idx]) / ( (np.abs(y.iloc[:, idx]) + np.abs(y_pred[:, idx])) / 2) )) * 100\n",
        "        return name\n",
        "\n",
        "    final_smape = smape_stage(0, 'smape_rougher') * .25 + smape_stage(1, 'smape_final') * .75\n",
        "    return final_smape"
      ],
      "execution_count": null,
      "outputs": []
    },
    {
      "cell_type": "markdown",
      "metadata": {
        "id": "1aupqAxVoJT7"
      },
      "source": [
        "#### 3.2. Training different models and evaluating them using cross-validation"
      ]
    },
    {
      "cell_type": "code",
      "metadata": {
        "id": "hwtjSrQYoJT7"
      },
      "source": [
        "features_train = df_train_test.drop(['date', 'rougher.output.recovery', 'final.output.recovery'], axis=1)\n",
        "target_train = df_train_test[['rougher.output.recovery', 'final.output.recovery']]"
      ],
      "execution_count": null,
      "outputs": []
    },
    {
      "cell_type": "code",
      "metadata": {
        "id": "B3XmQO7-oJUK"
      },
      "source": [
        "features_test = df_full_test.drop(['date', 'rougher.output.recovery', 'final.output.recovery'], axis=1)\n",
        "target_test = df_full_test[['rougher.output.recovery', 'final.output.recovery']]"
      ],
      "execution_count": null,
      "outputs": []
    },
    {
      "cell_type": "code",
      "metadata": {
        "id": "rQj4dxj4oJUN",
        "outputId": "5138d2e5-28cf-4b7e-e3bf-83e2471d443d"
      },
      "source": [
        "scaler = StandardScaler()\n",
        "scaler.fit(features_train)\n",
        "scaler.transform(features_train, copy=False)\n",
        "scaler.transform(features_test, copy=False)"
      ],
      "execution_count": null,
      "outputs": [
        {
          "output_type": "execute_result",
          "data": {
            "text/plain": [
              "array([[ 1.86584722,  1.76079765,  1.25193333, ..., -0.36125391,\n",
              "         1.25832426,  0.18811947],\n",
              "       [ 1.97436761,  1.7591911 ,  1.25193333, ..., -0.36422771,\n",
              "         0.9678005 ,  0.18534325],\n",
              "       [ 1.9712358 ,  1.16096127,  0.77619109, ..., -0.35628099,\n",
              "         0.96347903,  0.16507815],\n",
              "       ...,\n",
              "       [ 0.92836727,  2.04548219,  1.23571446, ..., -0.36132558,\n",
              "        -1.79586043,  0.23655486],\n",
              "       [ 1.13071542,  1.88765751,  1.23571446, ..., -0.35888476,\n",
              "        -1.79058369,  0.17689409],\n",
              "       [ 1.17466907,  1.76157499,  1.23571446, ..., -0.36839817,\n",
              "        -1.79472418,  0.16148553]])"
            ]
          },
          "metadata": {
            "tags": []
          },
          "execution_count": 42
        }
      ]
    },
    {
      "cell_type": "code",
      "metadata": {
        "id": "MQ8jLZrXoJUR"
      },
      "source": [
        "smape_score = make_scorer(smape, greater_is_better=False)"
      ],
      "execution_count": null,
      "outputs": []
    },
    {
      "cell_type": "markdown",
      "metadata": {
        "id": "jJjW0WQZoJUU"
      },
      "source": [
        "#### Random Forest Regression"
      ]
    },
    {
      "cell_type": "code",
      "metadata": {
        "id": "dBTgG4DRoJUU",
        "outputId": "08c2928d-d610-45ab-a840-42416ec42c00"
      },
      "source": [
        "model_2 = RandomForestRegressor(random_state=99, n_estimators=10)\n",
        "cross_val_score(model_2, features_train, target_train, scoring=smape_score, cv=5).mean()"
      ],
      "execution_count": null,
      "outputs": [
        {
          "output_type": "execute_result",
          "data": {
            "text/plain": [
              "-14.09325069933833"
            ]
          },
          "metadata": {
            "tags": []
          },
          "execution_count": 44
        }
      ]
    },
    {
      "cell_type": "markdown",
      "metadata": {
        "id": "Q7_XyWcOoJUa"
      },
      "source": [
        "#### Linear Regression"
      ]
    },
    {
      "cell_type": "code",
      "metadata": {
        "id": "takmhX_ToJUa",
        "outputId": "d00c81a9-9446-423b-e5b6-7eb8f86daeea"
      },
      "source": [
        "model_3 = LinearRegression()\n",
        "cross_val_score(model_3, features_train, target_train, scoring=smape_score, cv=5).mean()"
      ],
      "execution_count": null,
      "outputs": [
        {
          "output_type": "execute_result",
          "data": {
            "text/plain": [
              "-13.752248072690207"
            ]
          },
          "metadata": {
            "tags": []
          },
          "execution_count": 45
        }
      ]
    },
    {
      "cell_type": "markdown",
      "metadata": {
        "id": "SycK_OhNoJUc"
      },
      "source": [
        "#### Lasso Regression"
      ]
    },
    {
      "cell_type": "code",
      "metadata": {
        "id": "8pY8792yoJUc",
        "outputId": "59a866b2-98a9-4dde-c786-ed01e7f53c79"
      },
      "source": [
        "lasso = Lasso().fit(features_train, target_train)\n",
        "cross_val_score(lasso, features_train, target_train, scoring=smape_score, cv=5).mean()"
      ],
      "execution_count": null,
      "outputs": [
        {
          "output_type": "execute_result",
          "data": {
            "text/plain": [
              "-11.575690367753158"
            ]
          },
          "metadata": {
            "tags": []
          },
          "execution_count": 46
        }
      ]
    },
    {
      "cell_type": "markdown",
      "metadata": {
        "id": "z1rHZNkkoJUg"
      },
      "source": [
        "#### Elastic-Net Regression"
      ]
    },
    {
      "cell_type": "code",
      "metadata": {
        "id": "0_2taXGooJUg",
        "outputId": "fcbadee5-ec47-45ba-bf5d-707da3d5b9e7"
      },
      "source": [
        "elastic_net = ElasticNet().fit(features_train, target_train)\n",
        "cross_val_score(elastic_net, features_train, target_train, scoring=smape_score, cv=5).mean()"
      ],
      "execution_count": null,
      "outputs": [
        {
          "output_type": "execute_result",
          "data": {
            "text/plain": [
              "-11.48645384878218"
            ]
          },
          "metadata": {
            "tags": []
          },
          "execution_count": 47
        }
      ]
    },
    {
      "cell_type": "markdown",
      "metadata": {
        "id": "lfGFYuSEoJUl"
      },
      "source": [
        "The model with the best cross-validation score here using default parameters is the Elastic-Net model, with a score of 11.49."
      ]
    },
    {
      "cell_type": "markdown",
      "metadata": {
        "id": "FxCDFfAQoJUm"
      },
      "source": [
        "#### Tuning Elastic-Net Regression"
      ]
    },
    {
      "cell_type": "code",
      "metadata": {
        "id": "S3veIz-KoJUm",
        "outputId": "33b3d0fa-4ac0-4684-d046-e62c9dd11c53"
      },
      "source": [
        "for l1 in [0.1, 0.2, 0.3, 0.4, 0.5, 0.6, 0.7, 0.8, 0.9, 1]:\n",
        "    tuned_elastic = ElasticNet(l1_ratio=l1)\n",
        "    print(\"---\", l1, \"---\")\n",
        "    print(cross_val_score(tuned_elastic, features_train, target_train, scoring=smape_score, cv=5).mean())"
      ],
      "execution_count": null,
      "outputs": [
        {
          "output_type": "stream",
          "text": [
            "--- 0.1 ---\n",
            "-11.510751111849373\n",
            "--- 0.2 ---\n",
            "-11.458375877425512\n",
            "--- 0.3 ---\n",
            "-11.46641522675019\n",
            "--- 0.4 ---\n",
            "-11.47996490300015\n",
            "--- 0.5 ---\n",
            "-11.48645384878218\n",
            "--- 0.6 ---\n",
            "-11.504910276948701\n",
            "--- 0.7 ---\n",
            "-11.526318062786336\n",
            "--- 0.8 ---\n",
            "-11.548517778228012\n",
            "--- 0.9 ---\n",
            "-11.568461433534562\n",
            "--- 1 ---\n",
            "-11.575690367753158\n"
          ],
          "name": "stdout"
        }
      ]
    },
    {
      "cell_type": "markdown",
      "metadata": {
        "id": "0vFuZbHboJUq"
      },
      "source": [
        "The best l1_ratio value found for the Elastic-Net regression is '0.2', yielding a cross-validation score of 11.46%."
      ]
    },
    {
      "cell_type": "markdown",
      "metadata": {
        "id": "Bix-dc-EoJUr"
      },
      "source": [
        "#### Checking the quality of the tuned model using the test set"
      ]
    },
    {
      "cell_type": "code",
      "metadata": {
        "id": "0EfYDa3EoJUs",
        "outputId": "883d1251-5d1f-4bef-9037-0438d3a25c04"
      },
      "source": [
        "elastic = ElasticNet(l1_ratio=0.2)\n",
        "elastic.fit(features_train, target_train)\n",
        "elastic_predict = elastic.predict(features_test)\n",
        "\n",
        "smape(target_test, elastic_predict)"
      ],
      "execution_count": null,
      "outputs": [
        {
          "output_type": "execute_result",
          "data": {
            "text/plain": [
              "9.791003543783788"
            ]
          },
          "metadata": {
            "tags": []
          },
          "execution_count": 49
        }
      ]
    },
    {
      "cell_type": "markdown",
      "metadata": {
        "id": "u7F-O8nqoJUu"
      },
      "source": [
        "#### Baseline Model"
      ]
    },
    {
      "cell_type": "code",
      "metadata": {
        "id": "YKsuHssroJUv",
        "outputId": "30a63d6f-546e-42a7-bb02-417f057628ae"
      },
      "source": [
        "dummy_score = DummyRegressor(strategy='mean')\n",
        "dummy_score.fit(features_train, target_train)\n",
        "dum_predict = dummy_score.predict(features_test)\n",
        "smape(target_test, dum_predict)"
      ],
      "execution_count": null,
      "outputs": [
        {
          "output_type": "execute_result",
          "data": {
            "text/plain": [
              "11.384818038486117"
            ]
          },
          "metadata": {
            "tags": []
          },
          "execution_count": 50
        }
      ]
    },
    {
      "cell_type": "markdown",
      "metadata": {
        "id": "xdewmE_2oJUy"
      },
      "source": [
        "### Conclusion"
      ]
    },
    {
      "cell_type": "markdown",
      "metadata": {
        "id": "8675YnTYoJUy"
      },
      "source": [
        "A function for the final sMAPE was created and used to evaluate the best model. \n",
        "\n",
        "Feature values were scaled and a scorer was created using the sMAPE function.\n",
        "\n",
        "The models were trained using `Random Forest Regression`, `Linear Regression`. `Lasso`, and `Elastic-Net`. \n",
        "\n",
        "The Elastic-Net model performed the best out of the four models, and hyperparameters were tuned to get the final sMAPE score of 9.79%. This is an improvement to the baseline sMAPE based on the mean, which is 11.38%."
      ]
    }
  ]
}
