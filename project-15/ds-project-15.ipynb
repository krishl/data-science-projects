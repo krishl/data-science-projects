{
  "nbformat": 4,
  "nbformat_minor": 0,
  "metadata": {
    "kernelspec": {
      "display_name": "Python 3",
      "language": "python",
      "name": "python3"
    },
    "language_info": {
      "codemirror_mode": {
        "name": "ipython",
        "version": 3
      },
      "file_extension": ".py",
      "mimetype": "text/x-python",
      "name": "python",
      "nbconvert_exporter": "python",
      "pygments_lexer": "ipython3",
      "version": "3.7.6"
    },
    "colab": {
      "name": "Project 15.ipynb",
      "provenance": []
    }
  },
  "cells": [
    {
      "cell_type": "markdown",
      "metadata": {
        "id": "WhxfqywS1NqI"
      },
      "source": [
        "# Predicting the temperature of steel"
      ]
    },
    {
      "cell_type": "markdown",
      "metadata": {
        "id": "WTdvV68w1NqK"
      },
      "source": [
        "In order to optimize production costs, the steel plant Steelproof decided to reduce their energy consumption at the steel processing stage. A model will be developed that will be able to predict the temperature of the metal."
      ]
    },
    {
      "cell_type": "markdown",
      "metadata": {
        "id": "lIo1Q9oX1NqL"
      },
      "source": [
        "## Importing the libraries"
      ]
    },
    {
      "cell_type": "code",
      "metadata": {
        "id": "NvIbZmmA1NqL"
      },
      "source": [
        "import pandas as pd\n",
        "import lightgbm as lgb\n",
        "from catboost import CatBoostRegressor\n",
        "from sklearn.model_selection import train_test_split\n",
        "from sklearn.linear_model import LinearRegression\n",
        "from sklearn.metrics import mean_absolute_error\n",
        "from sklearn.ensemble import RandomForestRegressor"
      ],
      "execution_count": null,
      "outputs": []
    },
    {
      "cell_type": "markdown",
      "metadata": {
        "id": "cPzzpu7E1NqN"
      },
      "source": [
        "## Loading the data"
      ]
    },
    {
      "cell_type": "code",
      "metadata": {
        "id": "MEeyRgt-1NqN"
      },
      "source": [
        "df_arc = pd.read_csv('/datasets/data_arc_en.csv')"
      ],
      "execution_count": null,
      "outputs": []
    },
    {
      "cell_type": "code",
      "metadata": {
        "id": "eGbNykA71NqO"
      },
      "source": [
        "df_bulk = pd.read_csv('/datasets/data_bulk_en.csv')"
      ],
      "execution_count": null,
      "outputs": []
    },
    {
      "cell_type": "code",
      "metadata": {
        "id": "WTb279Mu1NqP"
      },
      "source": [
        "df_bulk_time = pd.read_csv('/datasets/data_bulk_time_en.csv')"
      ],
      "execution_count": null,
      "outputs": []
    },
    {
      "cell_type": "code",
      "metadata": {
        "id": "Q_hn1dSQ1NqP"
      },
      "source": [
        "df_gas = pd.read_csv('/datasets/data_gas_en.csv')"
      ],
      "execution_count": null,
      "outputs": []
    },
    {
      "cell_type": "code",
      "metadata": {
        "id": "WHGLMFoc1NqR"
      },
      "source": [
        "df_temp = pd.read_csv('/datasets/data_temp_en.csv')"
      ],
      "execution_count": null,
      "outputs": []
    },
    {
      "cell_type": "code",
      "metadata": {
        "id": "5TAa_jS_1NqR"
      },
      "source": [
        "df_wire = pd.read_csv('/datasets/data_wire_en.csv')"
      ],
      "execution_count": null,
      "outputs": []
    },
    {
      "cell_type": "code",
      "metadata": {
        "id": "enjGwQg11NqS"
      },
      "source": [
        "df_wire_time = pd.read_csv('/datasets/data_wire_time_en.csv')"
      ],
      "execution_count": null,
      "outputs": []
    },
    {
      "cell_type": "markdown",
      "metadata": {
        "id": "aIGFmhPx1NqS"
      },
      "source": [
        "## Examining each file"
      ]
    },
    {
      "cell_type": "markdown",
      "metadata": {
        "id": "wTc9SYHC1NqT"
      },
      "source": [
        "### `df_arc`: electrode data"
      ]
    },
    {
      "cell_type": "code",
      "metadata": {
        "id": "cTZlTUAS1NqT",
        "outputId": "da8b96b1-80d5-4b30-c653-43eeeebc7309"
      },
      "source": [
        "df_arc.head()"
      ],
      "execution_count": null,
      "outputs": [
        {
          "output_type": "execute_result",
          "data": {
            "text/html": [
              "<div>\n",
              "<style scoped>\n",
              "    .dataframe tbody tr th:only-of-type {\n",
              "        vertical-align: middle;\n",
              "    }\n",
              "\n",
              "    .dataframe tbody tr th {\n",
              "        vertical-align: top;\n",
              "    }\n",
              "\n",
              "    .dataframe thead th {\n",
              "        text-align: right;\n",
              "    }\n",
              "</style>\n",
              "<table border=\"1\" class=\"dataframe\">\n",
              "  <thead>\n",
              "    <tr style=\"text-align: right;\">\n",
              "      <th></th>\n",
              "      <th>key</th>\n",
              "      <th>Arc heating start</th>\n",
              "      <th>Arc heating end</th>\n",
              "      <th>Active power</th>\n",
              "      <th>Reactive power</th>\n",
              "    </tr>\n",
              "  </thead>\n",
              "  <tbody>\n",
              "    <tr>\n",
              "      <td>0</td>\n",
              "      <td>1</td>\n",
              "      <td>2019-05-03 11:02:14</td>\n",
              "      <td>2019-05-03 11:06:02</td>\n",
              "      <td>0.976059</td>\n",
              "      <td>0.687084</td>\n",
              "    </tr>\n",
              "    <tr>\n",
              "      <td>1</td>\n",
              "      <td>1</td>\n",
              "      <td>2019-05-03 11:07:28</td>\n",
              "      <td>2019-05-03 11:10:33</td>\n",
              "      <td>0.805607</td>\n",
              "      <td>0.520285</td>\n",
              "    </tr>\n",
              "    <tr>\n",
              "      <td>2</td>\n",
              "      <td>1</td>\n",
              "      <td>2019-05-03 11:11:44</td>\n",
              "      <td>2019-05-03 11:14:36</td>\n",
              "      <td>0.744363</td>\n",
              "      <td>0.498805</td>\n",
              "    </tr>\n",
              "    <tr>\n",
              "      <td>3</td>\n",
              "      <td>1</td>\n",
              "      <td>2019-05-03 11:18:14</td>\n",
              "      <td>2019-05-03 11:24:19</td>\n",
              "      <td>1.659363</td>\n",
              "      <td>1.062669</td>\n",
              "    </tr>\n",
              "    <tr>\n",
              "      <td>4</td>\n",
              "      <td>1</td>\n",
              "      <td>2019-05-03 11:26:09</td>\n",
              "      <td>2019-05-03 11:28:37</td>\n",
              "      <td>0.692755</td>\n",
              "      <td>0.414397</td>\n",
              "    </tr>\n",
              "  </tbody>\n",
              "</table>\n",
              "</div>"
            ],
            "text/plain": [
              "   key    Arc heating start      Arc heating end  Active power  Reactive power\n",
              "0    1  2019-05-03 11:02:14  2019-05-03 11:06:02      0.976059        0.687084\n",
              "1    1  2019-05-03 11:07:28  2019-05-03 11:10:33      0.805607        0.520285\n",
              "2    1  2019-05-03 11:11:44  2019-05-03 11:14:36      0.744363        0.498805\n",
              "3    1  2019-05-03 11:18:14  2019-05-03 11:24:19      1.659363        1.062669\n",
              "4    1  2019-05-03 11:26:09  2019-05-03 11:28:37      0.692755        0.414397"
            ]
          },
          "metadata": {
            "tags": []
          },
          "execution_count": 9
        }
      ]
    },
    {
      "cell_type": "code",
      "metadata": {
        "id": "ptO6Y12X1NqV",
        "outputId": "22ee2d4b-cb4f-4eb7-bc53-5e401b18fc0f"
      },
      "source": [
        "df_arc.tail()"
      ],
      "execution_count": null,
      "outputs": [
        {
          "output_type": "execute_result",
          "data": {
            "text/html": [
              "<div>\n",
              "<style scoped>\n",
              "    .dataframe tbody tr th:only-of-type {\n",
              "        vertical-align: middle;\n",
              "    }\n",
              "\n",
              "    .dataframe tbody tr th {\n",
              "        vertical-align: top;\n",
              "    }\n",
              "\n",
              "    .dataframe thead th {\n",
              "        text-align: right;\n",
              "    }\n",
              "</style>\n",
              "<table border=\"1\" class=\"dataframe\">\n",
              "  <thead>\n",
              "    <tr style=\"text-align: right;\">\n",
              "      <th></th>\n",
              "      <th>key</th>\n",
              "      <th>Arc heating start</th>\n",
              "      <th>Arc heating end</th>\n",
              "      <th>Active power</th>\n",
              "      <th>Reactive power</th>\n",
              "    </tr>\n",
              "  </thead>\n",
              "  <tbody>\n",
              "    <tr>\n",
              "      <td>14871</td>\n",
              "      <td>3241</td>\n",
              "      <td>2019-09-01 03:58:58</td>\n",
              "      <td>2019-09-01 04:01:35</td>\n",
              "      <td>0.533670</td>\n",
              "      <td>0.354439</td>\n",
              "    </tr>\n",
              "    <tr>\n",
              "      <td>14872</td>\n",
              "      <td>3241</td>\n",
              "      <td>2019-09-01 04:05:04</td>\n",
              "      <td>2019-09-01 04:08:04</td>\n",
              "      <td>0.676604</td>\n",
              "      <td>0.523631</td>\n",
              "    </tr>\n",
              "    <tr>\n",
              "      <td>14873</td>\n",
              "      <td>3241</td>\n",
              "      <td>2019-09-01 04:16:41</td>\n",
              "      <td>2019-09-01 04:19:45</td>\n",
              "      <td>0.733899</td>\n",
              "      <td>0.475654</td>\n",
              "    </tr>\n",
              "    <tr>\n",
              "      <td>14874</td>\n",
              "      <td>3241</td>\n",
              "      <td>2019-09-01 04:31:51</td>\n",
              "      <td>2019-09-01 04:32:48</td>\n",
              "      <td>0.220694</td>\n",
              "      <td>0.145768</td>\n",
              "    </tr>\n",
              "    <tr>\n",
              "      <td>14875</td>\n",
              "      <td>3241</td>\n",
              "      <td>2019-09-01 04:34:47</td>\n",
              "      <td>2019-09-01 04:36:08</td>\n",
              "      <td>0.306580</td>\n",
              "      <td>0.196708</td>\n",
              "    </tr>\n",
              "  </tbody>\n",
              "</table>\n",
              "</div>"
            ],
            "text/plain": [
              "        key    Arc heating start      Arc heating end  Active power  \\\n",
              "14871  3241  2019-09-01 03:58:58  2019-09-01 04:01:35      0.533670   \n",
              "14872  3241  2019-09-01 04:05:04  2019-09-01 04:08:04      0.676604   \n",
              "14873  3241  2019-09-01 04:16:41  2019-09-01 04:19:45      0.733899   \n",
              "14874  3241  2019-09-01 04:31:51  2019-09-01 04:32:48      0.220694   \n",
              "14875  3241  2019-09-01 04:34:47  2019-09-01 04:36:08      0.306580   \n",
              "\n",
              "       Reactive power  \n",
              "14871        0.354439  \n",
              "14872        0.523631  \n",
              "14873        0.475654  \n",
              "14874        0.145768  \n",
              "14875        0.196708  "
            ]
          },
          "metadata": {
            "tags": []
          },
          "execution_count": 10
        }
      ]
    },
    {
      "cell_type": "code",
      "metadata": {
        "id": "JIVlUIxb1NqV",
        "outputId": "ea10bc8b-ac8b-4302-9316-8a173c60e279"
      },
      "source": [
        "df_arc.info()"
      ],
      "execution_count": null,
      "outputs": [
        {
          "output_type": "stream",
          "text": [
            "<class 'pandas.core.frame.DataFrame'>\n",
            "RangeIndex: 14876 entries, 0 to 14875\n",
            "Data columns (total 5 columns):\n",
            "key                  14876 non-null int64\n",
            "Arc heating start    14876 non-null object\n",
            "Arc heating end      14876 non-null object\n",
            "Active power         14876 non-null float64\n",
            "Reactive power       14876 non-null float64\n",
            "dtypes: float64(2), int64(1), object(2)\n",
            "memory usage: 581.2+ KB\n"
          ],
          "name": "stdout"
        }
      ]
    },
    {
      "cell_type": "code",
      "metadata": {
        "id": "J9qG-fcH1NqW",
        "outputId": "9fbb502a-f5ca-4961-fea1-c46c49e6d7a7"
      },
      "source": [
        "df_arc.describe()"
      ],
      "execution_count": null,
      "outputs": [
        {
          "output_type": "execute_result",
          "data": {
            "text/html": [
              "<div>\n",
              "<style scoped>\n",
              "    .dataframe tbody tr th:only-of-type {\n",
              "        vertical-align: middle;\n",
              "    }\n",
              "\n",
              "    .dataframe tbody tr th {\n",
              "        vertical-align: top;\n",
              "    }\n",
              "\n",
              "    .dataframe thead th {\n",
              "        text-align: right;\n",
              "    }\n",
              "</style>\n",
              "<table border=\"1\" class=\"dataframe\">\n",
              "  <thead>\n",
              "    <tr style=\"text-align: right;\">\n",
              "      <th></th>\n",
              "      <th>key</th>\n",
              "      <th>Active power</th>\n",
              "      <th>Reactive power</th>\n",
              "    </tr>\n",
              "  </thead>\n",
              "  <tbody>\n",
              "    <tr>\n",
              "      <td>count</td>\n",
              "      <td>14876.000000</td>\n",
              "      <td>14876.000000</td>\n",
              "      <td>14876.000000</td>\n",
              "    </tr>\n",
              "    <tr>\n",
              "      <td>mean</td>\n",
              "      <td>1615.220422</td>\n",
              "      <td>0.670441</td>\n",
              "      <td>0.452592</td>\n",
              "    </tr>\n",
              "    <tr>\n",
              "      <td>std</td>\n",
              "      <td>934.571502</td>\n",
              "      <td>0.408159</td>\n",
              "      <td>5.878702</td>\n",
              "    </tr>\n",
              "    <tr>\n",
              "      <td>min</td>\n",
              "      <td>1.000000</td>\n",
              "      <td>0.030002</td>\n",
              "      <td>-715.504924</td>\n",
              "    </tr>\n",
              "    <tr>\n",
              "      <td>25%</td>\n",
              "      <td>806.000000</td>\n",
              "      <td>0.395297</td>\n",
              "      <td>0.290991</td>\n",
              "    </tr>\n",
              "    <tr>\n",
              "      <td>50%</td>\n",
              "      <td>1617.000000</td>\n",
              "      <td>0.555517</td>\n",
              "      <td>0.415962</td>\n",
              "    </tr>\n",
              "    <tr>\n",
              "      <td>75%</td>\n",
              "      <td>2429.000000</td>\n",
              "      <td>0.857034</td>\n",
              "      <td>0.637371</td>\n",
              "    </tr>\n",
              "    <tr>\n",
              "      <td>max</td>\n",
              "      <td>3241.000000</td>\n",
              "      <td>3.731596</td>\n",
              "      <td>2.676388</td>\n",
              "    </tr>\n",
              "  </tbody>\n",
              "</table>\n",
              "</div>"
            ],
            "text/plain": [
              "                key  Active power  Reactive power\n",
              "count  14876.000000  14876.000000    14876.000000\n",
              "mean    1615.220422      0.670441        0.452592\n",
              "std      934.571502      0.408159        5.878702\n",
              "min        1.000000      0.030002     -715.504924\n",
              "25%      806.000000      0.395297        0.290991\n",
              "50%     1617.000000      0.555517        0.415962\n",
              "75%     2429.000000      0.857034        0.637371\n",
              "max     3241.000000      3.731596        2.676388"
            ]
          },
          "metadata": {
            "tags": []
          },
          "execution_count": 12
        }
      ]
    },
    {
      "cell_type": "code",
      "metadata": {
        "id": "sb8uFWJK1NqW",
        "outputId": "2a6b0ef5-4734-4a5d-d1e1-3ecc33dae6e5"
      },
      "source": [
        "df_arc[df_arc['Reactive power'] < 0]"
      ],
      "execution_count": null,
      "outputs": [
        {
          "output_type": "execute_result",
          "data": {
            "text/html": [
              "<div>\n",
              "<style scoped>\n",
              "    .dataframe tbody tr th:only-of-type {\n",
              "        vertical-align: middle;\n",
              "    }\n",
              "\n",
              "    .dataframe tbody tr th {\n",
              "        vertical-align: top;\n",
              "    }\n",
              "\n",
              "    .dataframe thead th {\n",
              "        text-align: right;\n",
              "    }\n",
              "</style>\n",
              "<table border=\"1\" class=\"dataframe\">\n",
              "  <thead>\n",
              "    <tr style=\"text-align: right;\">\n",
              "      <th></th>\n",
              "      <th>key</th>\n",
              "      <th>Arc heating start</th>\n",
              "      <th>Arc heating end</th>\n",
              "      <th>Active power</th>\n",
              "      <th>Reactive power</th>\n",
              "    </tr>\n",
              "  </thead>\n",
              "  <tbody>\n",
              "    <tr>\n",
              "      <td>9780</td>\n",
              "      <td>2116</td>\n",
              "      <td>2019-07-24 00:44:48</td>\n",
              "      <td>2019-07-24 00:46:37</td>\n",
              "      <td>0.495782</td>\n",
              "      <td>-715.504924</td>\n",
              "    </tr>\n",
              "  </tbody>\n",
              "</table>\n",
              "</div>"
            ],
            "text/plain": [
              "       key    Arc heating start      Arc heating end  Active power  \\\n",
              "9780  2116  2019-07-24 00:44:48  2019-07-24 00:46:37      0.495782   \n",
              "\n",
              "      Reactive power  \n",
              "9780     -715.504924  "
            ]
          },
          "metadata": {
            "tags": []
          },
          "execution_count": 13
        }
      ]
    },
    {
      "cell_type": "code",
      "metadata": {
        "id": "VnAXQjlS1NqX",
        "outputId": "fc389db5-d256-4b95-b5cb-929c0b410c17"
      },
      "source": [
        "df_arc.describe(include='object')"
      ],
      "execution_count": null,
      "outputs": [
        {
          "output_type": "execute_result",
          "data": {
            "text/html": [
              "<div>\n",
              "<style scoped>\n",
              "    .dataframe tbody tr th:only-of-type {\n",
              "        vertical-align: middle;\n",
              "    }\n",
              "\n",
              "    .dataframe tbody tr th {\n",
              "        vertical-align: top;\n",
              "    }\n",
              "\n",
              "    .dataframe thead th {\n",
              "        text-align: right;\n",
              "    }\n",
              "</style>\n",
              "<table border=\"1\" class=\"dataframe\">\n",
              "  <thead>\n",
              "    <tr style=\"text-align: right;\">\n",
              "      <th></th>\n",
              "      <th>Arc heating start</th>\n",
              "      <th>Arc heating end</th>\n",
              "    </tr>\n",
              "  </thead>\n",
              "  <tbody>\n",
              "    <tr>\n",
              "      <td>count</td>\n",
              "      <td>14876</td>\n",
              "      <td>14876</td>\n",
              "    </tr>\n",
              "    <tr>\n",
              "      <td>unique</td>\n",
              "      <td>14875</td>\n",
              "      <td>14876</td>\n",
              "    </tr>\n",
              "    <tr>\n",
              "      <td>top</td>\n",
              "      <td>2019-06-10 22:02:03</td>\n",
              "      <td>2019-08-10 04:39:05</td>\n",
              "    </tr>\n",
              "    <tr>\n",
              "      <td>freq</td>\n",
              "      <td>2</td>\n",
              "      <td>1</td>\n",
              "    </tr>\n",
              "  </tbody>\n",
              "</table>\n",
              "</div>"
            ],
            "text/plain": [
              "          Arc heating start      Arc heating end\n",
              "count                 14876                14876\n",
              "unique                14875                14876\n",
              "top     2019-06-10 22:02:03  2019-08-10 04:39:05\n",
              "freq                      2                    1"
            ]
          },
          "metadata": {
            "tags": []
          },
          "execution_count": 14
        }
      ]
    },
    {
      "cell_type": "code",
      "metadata": {
        "id": "m-1LLKZn1NqX",
        "outputId": "fe5ec0b3-e0b5-4507-b193-717efc6fe3ca"
      },
      "source": [
        "missing_keys_arc = []\n",
        "\n",
        "for i in range(1, 3242):\n",
        "    if i not in df_arc['key'].unique():\n",
        "        missing_keys_arc.append(i)\n",
        "len(missing_keys_arc)"
      ],
      "execution_count": null,
      "outputs": [
        {
          "output_type": "execute_result",
          "data": {
            "text/plain": [
              "27"
            ]
          },
          "metadata": {
            "tags": []
          },
          "execution_count": 15
        }
      ]
    },
    {
      "cell_type": "code",
      "metadata": {
        "id": "-GDHzfoo1NqZ",
        "outputId": "c6c1793e-850d-4cf6-ac45-13146015cabd"
      },
      "source": [
        "print(missing_keys_arc)"
      ],
      "execution_count": null,
      "outputs": [
        {
          "output_type": "stream",
          "text": [
            "[41, 42, 195, 279, 355, 382, 506, 529, 540, 607, 683, 710, 766, 1133, 1300, 1437, 2031, 2103, 2278, 2356, 2373, 2446, 2469, 2491, 2683, 3200, 3207]\n"
          ],
          "name": "stdout"
        }
      ]
    },
    {
      "cell_type": "code",
      "metadata": {
        "id": "etyrti1I1NqZ",
        "outputId": "3b4a22fb-a191-4892-976d-9c46cdf7aa59"
      },
      "source": [
        "df_arc.duplicated().sum()"
      ],
      "execution_count": null,
      "outputs": [
        {
          "output_type": "execute_result",
          "data": {
            "text/plain": [
              "0"
            ]
          },
          "metadata": {
            "tags": []
          },
          "execution_count": 17
        }
      ]
    },
    {
      "cell_type": "markdown",
      "metadata": {
        "id": "flZZQhqA1Nqb"
      },
      "source": [
        "There are no null values found in `df_arc`.\n",
        "\n",
        "`Arc heating start` and `Arc heating end` would be better suited as datetime columns.\n",
        "\n",
        "There is one negative value in `Reactive power`.\n",
        "\n",
        "27 keys are missing from `df_arc`.\n",
        "\n",
        "No duplicates were found."
      ]
    },
    {
      "cell_type": "markdown",
      "metadata": {
        "id": "noBPIBft1Nqb"
      },
      "source": [
        "### `df_bulk`: bulk material supply data (volume)"
      ]
    },
    {
      "cell_type": "code",
      "metadata": {
        "id": "qifIgM_f1Nqb",
        "outputId": "3000fa9e-1f5e-4b39-efa8-ba01af50fca6"
      },
      "source": [
        "df_bulk.head()"
      ],
      "execution_count": null,
      "outputs": [
        {
          "output_type": "execute_result",
          "data": {
            "text/html": [
              "<div>\n",
              "<style scoped>\n",
              "    .dataframe tbody tr th:only-of-type {\n",
              "        vertical-align: middle;\n",
              "    }\n",
              "\n",
              "    .dataframe tbody tr th {\n",
              "        vertical-align: top;\n",
              "    }\n",
              "\n",
              "    .dataframe thead th {\n",
              "        text-align: right;\n",
              "    }\n",
              "</style>\n",
              "<table border=\"1\" class=\"dataframe\">\n",
              "  <thead>\n",
              "    <tr style=\"text-align: right;\">\n",
              "      <th></th>\n",
              "      <th>key</th>\n",
              "      <th>Bulk 1</th>\n",
              "      <th>Bulk 2</th>\n",
              "      <th>Bulk 3</th>\n",
              "      <th>Bulk 4</th>\n",
              "      <th>Bulk 5</th>\n",
              "      <th>Bulk 6</th>\n",
              "      <th>Bulk 7</th>\n",
              "      <th>Bulk 8</th>\n",
              "      <th>Bulk 9</th>\n",
              "      <th>Bulk 10</th>\n",
              "      <th>Bulk 11</th>\n",
              "      <th>Bulk 12</th>\n",
              "      <th>Bulk 13</th>\n",
              "      <th>Bulk 14</th>\n",
              "      <th>Bulk 15</th>\n",
              "    </tr>\n",
              "  </thead>\n",
              "  <tbody>\n",
              "    <tr>\n",
              "      <td>0</td>\n",
              "      <td>1</td>\n",
              "      <td>NaN</td>\n",
              "      <td>NaN</td>\n",
              "      <td>NaN</td>\n",
              "      <td>43.0</td>\n",
              "      <td>NaN</td>\n",
              "      <td>NaN</td>\n",
              "      <td>NaN</td>\n",
              "      <td>NaN</td>\n",
              "      <td>NaN</td>\n",
              "      <td>NaN</td>\n",
              "      <td>NaN</td>\n",
              "      <td>206.0</td>\n",
              "      <td>NaN</td>\n",
              "      <td>150.0</td>\n",
              "      <td>154.0</td>\n",
              "    </tr>\n",
              "    <tr>\n",
              "      <td>1</td>\n",
              "      <td>2</td>\n",
              "      <td>NaN</td>\n",
              "      <td>NaN</td>\n",
              "      <td>NaN</td>\n",
              "      <td>73.0</td>\n",
              "      <td>NaN</td>\n",
              "      <td>NaN</td>\n",
              "      <td>NaN</td>\n",
              "      <td>NaN</td>\n",
              "      <td>NaN</td>\n",
              "      <td>NaN</td>\n",
              "      <td>NaN</td>\n",
              "      <td>206.0</td>\n",
              "      <td>NaN</td>\n",
              "      <td>149.0</td>\n",
              "      <td>154.0</td>\n",
              "    </tr>\n",
              "    <tr>\n",
              "      <td>2</td>\n",
              "      <td>3</td>\n",
              "      <td>NaN</td>\n",
              "      <td>NaN</td>\n",
              "      <td>NaN</td>\n",
              "      <td>34.0</td>\n",
              "      <td>NaN</td>\n",
              "      <td>NaN</td>\n",
              "      <td>NaN</td>\n",
              "      <td>NaN</td>\n",
              "      <td>NaN</td>\n",
              "      <td>NaN</td>\n",
              "      <td>NaN</td>\n",
              "      <td>205.0</td>\n",
              "      <td>NaN</td>\n",
              "      <td>152.0</td>\n",
              "      <td>153.0</td>\n",
              "    </tr>\n",
              "    <tr>\n",
              "      <td>3</td>\n",
              "      <td>4</td>\n",
              "      <td>NaN</td>\n",
              "      <td>NaN</td>\n",
              "      <td>NaN</td>\n",
              "      <td>81.0</td>\n",
              "      <td>NaN</td>\n",
              "      <td>NaN</td>\n",
              "      <td>NaN</td>\n",
              "      <td>NaN</td>\n",
              "      <td>NaN</td>\n",
              "      <td>NaN</td>\n",
              "      <td>NaN</td>\n",
              "      <td>207.0</td>\n",
              "      <td>NaN</td>\n",
              "      <td>153.0</td>\n",
              "      <td>154.0</td>\n",
              "    </tr>\n",
              "    <tr>\n",
              "      <td>4</td>\n",
              "      <td>5</td>\n",
              "      <td>NaN</td>\n",
              "      <td>NaN</td>\n",
              "      <td>NaN</td>\n",
              "      <td>78.0</td>\n",
              "      <td>NaN</td>\n",
              "      <td>NaN</td>\n",
              "      <td>NaN</td>\n",
              "      <td>NaN</td>\n",
              "      <td>NaN</td>\n",
              "      <td>NaN</td>\n",
              "      <td>NaN</td>\n",
              "      <td>203.0</td>\n",
              "      <td>NaN</td>\n",
              "      <td>151.0</td>\n",
              "      <td>152.0</td>\n",
              "    </tr>\n",
              "  </tbody>\n",
              "</table>\n",
              "</div>"
            ],
            "text/plain": [
              "   key  Bulk 1  Bulk 2  Bulk 3  Bulk 4  Bulk 5  Bulk 6  Bulk 7  Bulk 8  \\\n",
              "0    1     NaN     NaN     NaN    43.0     NaN     NaN     NaN     NaN   \n",
              "1    2     NaN     NaN     NaN    73.0     NaN     NaN     NaN     NaN   \n",
              "2    3     NaN     NaN     NaN    34.0     NaN     NaN     NaN     NaN   \n",
              "3    4     NaN     NaN     NaN    81.0     NaN     NaN     NaN     NaN   \n",
              "4    5     NaN     NaN     NaN    78.0     NaN     NaN     NaN     NaN   \n",
              "\n",
              "   Bulk 9  Bulk 10  Bulk 11  Bulk 12  Bulk 13  Bulk 14  Bulk 15  \n",
              "0     NaN      NaN      NaN    206.0      NaN    150.0    154.0  \n",
              "1     NaN      NaN      NaN    206.0      NaN    149.0    154.0  \n",
              "2     NaN      NaN      NaN    205.0      NaN    152.0    153.0  \n",
              "3     NaN      NaN      NaN    207.0      NaN    153.0    154.0  \n",
              "4     NaN      NaN      NaN    203.0      NaN    151.0    152.0  "
            ]
          },
          "metadata": {
            "tags": []
          },
          "execution_count": 18
        }
      ]
    },
    {
      "cell_type": "code",
      "metadata": {
        "id": "Ir6BBfz81Nqc",
        "outputId": "92084ec7-229a-4077-8459-76e8fd70e347"
      },
      "source": [
        "df_bulk.tail()"
      ],
      "execution_count": null,
      "outputs": [
        {
          "output_type": "execute_result",
          "data": {
            "text/html": [
              "<div>\n",
              "<style scoped>\n",
              "    .dataframe tbody tr th:only-of-type {\n",
              "        vertical-align: middle;\n",
              "    }\n",
              "\n",
              "    .dataframe tbody tr th {\n",
              "        vertical-align: top;\n",
              "    }\n",
              "\n",
              "    .dataframe thead th {\n",
              "        text-align: right;\n",
              "    }\n",
              "</style>\n",
              "<table border=\"1\" class=\"dataframe\">\n",
              "  <thead>\n",
              "    <tr style=\"text-align: right;\">\n",
              "      <th></th>\n",
              "      <th>key</th>\n",
              "      <th>Bulk 1</th>\n",
              "      <th>Bulk 2</th>\n",
              "      <th>Bulk 3</th>\n",
              "      <th>Bulk 4</th>\n",
              "      <th>Bulk 5</th>\n",
              "      <th>Bulk 6</th>\n",
              "      <th>Bulk 7</th>\n",
              "      <th>Bulk 8</th>\n",
              "      <th>Bulk 9</th>\n",
              "      <th>Bulk 10</th>\n",
              "      <th>Bulk 11</th>\n",
              "      <th>Bulk 12</th>\n",
              "      <th>Bulk 13</th>\n",
              "      <th>Bulk 14</th>\n",
              "      <th>Bulk 15</th>\n",
              "    </tr>\n",
              "  </thead>\n",
              "  <tbody>\n",
              "    <tr>\n",
              "      <td>3124</td>\n",
              "      <td>3237</td>\n",
              "      <td>NaN</td>\n",
              "      <td>NaN</td>\n",
              "      <td>170.0</td>\n",
              "      <td>NaN</td>\n",
              "      <td>NaN</td>\n",
              "      <td>NaN</td>\n",
              "      <td>NaN</td>\n",
              "      <td>NaN</td>\n",
              "      <td>NaN</td>\n",
              "      <td>NaN</td>\n",
              "      <td>NaN</td>\n",
              "      <td>252.0</td>\n",
              "      <td>NaN</td>\n",
              "      <td>130.0</td>\n",
              "      <td>206.0</td>\n",
              "    </tr>\n",
              "    <tr>\n",
              "      <td>3125</td>\n",
              "      <td>3238</td>\n",
              "      <td>NaN</td>\n",
              "      <td>NaN</td>\n",
              "      <td>126.0</td>\n",
              "      <td>NaN</td>\n",
              "      <td>NaN</td>\n",
              "      <td>NaN</td>\n",
              "      <td>NaN</td>\n",
              "      <td>NaN</td>\n",
              "      <td>NaN</td>\n",
              "      <td>NaN</td>\n",
              "      <td>NaN</td>\n",
              "      <td>254.0</td>\n",
              "      <td>NaN</td>\n",
              "      <td>108.0</td>\n",
              "      <td>106.0</td>\n",
              "    </tr>\n",
              "    <tr>\n",
              "      <td>3126</td>\n",
              "      <td>3239</td>\n",
              "      <td>NaN</td>\n",
              "      <td>NaN</td>\n",
              "      <td>NaN</td>\n",
              "      <td>NaN</td>\n",
              "      <td>NaN</td>\n",
              "      <td>114.0</td>\n",
              "      <td>NaN</td>\n",
              "      <td>NaN</td>\n",
              "      <td>NaN</td>\n",
              "      <td>NaN</td>\n",
              "      <td>NaN</td>\n",
              "      <td>158.0</td>\n",
              "      <td>NaN</td>\n",
              "      <td>270.0</td>\n",
              "      <td>88.0</td>\n",
              "    </tr>\n",
              "    <tr>\n",
              "      <td>3127</td>\n",
              "      <td>3240</td>\n",
              "      <td>NaN</td>\n",
              "      <td>NaN</td>\n",
              "      <td>NaN</td>\n",
              "      <td>NaN</td>\n",
              "      <td>NaN</td>\n",
              "      <td>26.0</td>\n",
              "      <td>NaN</td>\n",
              "      <td>NaN</td>\n",
              "      <td>NaN</td>\n",
              "      <td>NaN</td>\n",
              "      <td>NaN</td>\n",
              "      <td>NaN</td>\n",
              "      <td>NaN</td>\n",
              "      <td>192.0</td>\n",
              "      <td>54.0</td>\n",
              "    </tr>\n",
              "    <tr>\n",
              "      <td>3128</td>\n",
              "      <td>3241</td>\n",
              "      <td>NaN</td>\n",
              "      <td>NaN</td>\n",
              "      <td>NaN</td>\n",
              "      <td>NaN</td>\n",
              "      <td>NaN</td>\n",
              "      <td>NaN</td>\n",
              "      <td>NaN</td>\n",
              "      <td>NaN</td>\n",
              "      <td>NaN</td>\n",
              "      <td>NaN</td>\n",
              "      <td>NaN</td>\n",
              "      <td>NaN</td>\n",
              "      <td>NaN</td>\n",
              "      <td>180.0</td>\n",
              "      <td>52.0</td>\n",
              "    </tr>\n",
              "  </tbody>\n",
              "</table>\n",
              "</div>"
            ],
            "text/plain": [
              "       key  Bulk 1  Bulk 2  Bulk 3  Bulk 4  Bulk 5  Bulk 6  Bulk 7  Bulk 8  \\\n",
              "3124  3237     NaN     NaN   170.0     NaN     NaN     NaN     NaN     NaN   \n",
              "3125  3238     NaN     NaN   126.0     NaN     NaN     NaN     NaN     NaN   \n",
              "3126  3239     NaN     NaN     NaN     NaN     NaN   114.0     NaN     NaN   \n",
              "3127  3240     NaN     NaN     NaN     NaN     NaN    26.0     NaN     NaN   \n",
              "3128  3241     NaN     NaN     NaN     NaN     NaN     NaN     NaN     NaN   \n",
              "\n",
              "      Bulk 9  Bulk 10  Bulk 11  Bulk 12  Bulk 13  Bulk 14  Bulk 15  \n",
              "3124     NaN      NaN      NaN    252.0      NaN    130.0    206.0  \n",
              "3125     NaN      NaN      NaN    254.0      NaN    108.0    106.0  \n",
              "3126     NaN      NaN      NaN    158.0      NaN    270.0     88.0  \n",
              "3127     NaN      NaN      NaN      NaN      NaN    192.0     54.0  \n",
              "3128     NaN      NaN      NaN      NaN      NaN    180.0     52.0  "
            ]
          },
          "metadata": {
            "tags": []
          },
          "execution_count": 19
        }
      ]
    },
    {
      "cell_type": "code",
      "metadata": {
        "id": "DyLCJX3j1Nqd",
        "outputId": "ef3655d1-9790-45da-a163-837a2b841a2d"
      },
      "source": [
        "df_bulk.info()"
      ],
      "execution_count": null,
      "outputs": [
        {
          "output_type": "stream",
          "text": [
            "<class 'pandas.core.frame.DataFrame'>\n",
            "RangeIndex: 3129 entries, 0 to 3128\n",
            "Data columns (total 16 columns):\n",
            "key        3129 non-null int64\n",
            "Bulk 1     252 non-null float64\n",
            "Bulk 2     22 non-null float64\n",
            "Bulk 3     1298 non-null float64\n",
            "Bulk 4     1014 non-null float64\n",
            "Bulk 5     77 non-null float64\n",
            "Bulk 6     576 non-null float64\n",
            "Bulk 7     25 non-null float64\n",
            "Bulk 8     1 non-null float64\n",
            "Bulk 9     19 non-null float64\n",
            "Bulk 10    176 non-null float64\n",
            "Bulk 11    177 non-null float64\n",
            "Bulk 12    2450 non-null float64\n",
            "Bulk 13    18 non-null float64\n",
            "Bulk 14    2806 non-null float64\n",
            "Bulk 15    2248 non-null float64\n",
            "dtypes: float64(15), int64(1)\n",
            "memory usage: 391.2 KB\n"
          ],
          "name": "stdout"
        }
      ]
    },
    {
      "cell_type": "code",
      "metadata": {
        "id": "ZRFnOk9C1Nqd",
        "outputId": "e0078174-8be4-467c-b694-69ac82035f78"
      },
      "source": [
        "df_bulk.describe()"
      ],
      "execution_count": null,
      "outputs": [
        {
          "output_type": "execute_result",
          "data": {
            "text/html": [
              "<div>\n",
              "<style scoped>\n",
              "    .dataframe tbody tr th:only-of-type {\n",
              "        vertical-align: middle;\n",
              "    }\n",
              "\n",
              "    .dataframe tbody tr th {\n",
              "        vertical-align: top;\n",
              "    }\n",
              "\n",
              "    .dataframe thead th {\n",
              "        text-align: right;\n",
              "    }\n",
              "</style>\n",
              "<table border=\"1\" class=\"dataframe\">\n",
              "  <thead>\n",
              "    <tr style=\"text-align: right;\">\n",
              "      <th></th>\n",
              "      <th>key</th>\n",
              "      <th>Bulk 1</th>\n",
              "      <th>Bulk 2</th>\n",
              "      <th>Bulk 3</th>\n",
              "      <th>Bulk 4</th>\n",
              "      <th>Bulk 5</th>\n",
              "      <th>Bulk 6</th>\n",
              "      <th>Bulk 7</th>\n",
              "      <th>Bulk 8</th>\n",
              "      <th>Bulk 9</th>\n",
              "      <th>Bulk 10</th>\n",
              "      <th>Bulk 11</th>\n",
              "      <th>Bulk 12</th>\n",
              "      <th>Bulk 13</th>\n",
              "      <th>Bulk 14</th>\n",
              "      <th>Bulk 15</th>\n",
              "    </tr>\n",
              "  </thead>\n",
              "  <tbody>\n",
              "    <tr>\n",
              "      <td>count</td>\n",
              "      <td>3129.000000</td>\n",
              "      <td>252.000000</td>\n",
              "      <td>22.000000</td>\n",
              "      <td>1298.000000</td>\n",
              "      <td>1014.000000</td>\n",
              "      <td>77.000000</td>\n",
              "      <td>576.000000</td>\n",
              "      <td>25.000000</td>\n",
              "      <td>1.0</td>\n",
              "      <td>19.000000</td>\n",
              "      <td>176.000000</td>\n",
              "      <td>177.000000</td>\n",
              "      <td>2450.000000</td>\n",
              "      <td>18.000000</td>\n",
              "      <td>2806.000000</td>\n",
              "      <td>2248.000000</td>\n",
              "    </tr>\n",
              "    <tr>\n",
              "      <td>mean</td>\n",
              "      <td>1624.383509</td>\n",
              "      <td>39.242063</td>\n",
              "      <td>253.045455</td>\n",
              "      <td>113.879045</td>\n",
              "      <td>104.394477</td>\n",
              "      <td>107.025974</td>\n",
              "      <td>118.925347</td>\n",
              "      <td>305.600000</td>\n",
              "      <td>49.0</td>\n",
              "      <td>76.315789</td>\n",
              "      <td>83.284091</td>\n",
              "      <td>76.819209</td>\n",
              "      <td>260.471020</td>\n",
              "      <td>181.111111</td>\n",
              "      <td>170.284747</td>\n",
              "      <td>160.513345</td>\n",
              "    </tr>\n",
              "    <tr>\n",
              "      <td>std</td>\n",
              "      <td>933.337642</td>\n",
              "      <td>18.277654</td>\n",
              "      <td>21.180578</td>\n",
              "      <td>75.483494</td>\n",
              "      <td>48.184126</td>\n",
              "      <td>81.790646</td>\n",
              "      <td>72.057776</td>\n",
              "      <td>191.022904</td>\n",
              "      <td>NaN</td>\n",
              "      <td>21.720581</td>\n",
              "      <td>26.060347</td>\n",
              "      <td>59.655365</td>\n",
              "      <td>120.649269</td>\n",
              "      <td>46.088009</td>\n",
              "      <td>65.868652</td>\n",
              "      <td>51.765319</td>\n",
              "    </tr>\n",
              "    <tr>\n",
              "      <td>min</td>\n",
              "      <td>1.000000</td>\n",
              "      <td>10.000000</td>\n",
              "      <td>228.000000</td>\n",
              "      <td>6.000000</td>\n",
              "      <td>12.000000</td>\n",
              "      <td>11.000000</td>\n",
              "      <td>17.000000</td>\n",
              "      <td>47.000000</td>\n",
              "      <td>49.0</td>\n",
              "      <td>63.000000</td>\n",
              "      <td>24.000000</td>\n",
              "      <td>8.000000</td>\n",
              "      <td>53.000000</td>\n",
              "      <td>151.000000</td>\n",
              "      <td>16.000000</td>\n",
              "      <td>1.000000</td>\n",
              "    </tr>\n",
              "    <tr>\n",
              "      <td>25%</td>\n",
              "      <td>816.000000</td>\n",
              "      <td>27.000000</td>\n",
              "      <td>242.000000</td>\n",
              "      <td>58.000000</td>\n",
              "      <td>72.000000</td>\n",
              "      <td>70.000000</td>\n",
              "      <td>69.750000</td>\n",
              "      <td>155.000000</td>\n",
              "      <td>49.0</td>\n",
              "      <td>66.000000</td>\n",
              "      <td>64.000000</td>\n",
              "      <td>25.000000</td>\n",
              "      <td>204.000000</td>\n",
              "      <td>153.250000</td>\n",
              "      <td>119.000000</td>\n",
              "      <td>105.000000</td>\n",
              "    </tr>\n",
              "    <tr>\n",
              "      <td>50%</td>\n",
              "      <td>1622.000000</td>\n",
              "      <td>31.000000</td>\n",
              "      <td>251.500000</td>\n",
              "      <td>97.500000</td>\n",
              "      <td>102.000000</td>\n",
              "      <td>86.000000</td>\n",
              "      <td>100.000000</td>\n",
              "      <td>298.000000</td>\n",
              "      <td>49.0</td>\n",
              "      <td>68.000000</td>\n",
              "      <td>86.500000</td>\n",
              "      <td>64.000000</td>\n",
              "      <td>208.000000</td>\n",
              "      <td>155.500000</td>\n",
              "      <td>151.000000</td>\n",
              "      <td>160.000000</td>\n",
              "    </tr>\n",
              "    <tr>\n",
              "      <td>75%</td>\n",
              "      <td>2431.000000</td>\n",
              "      <td>46.000000</td>\n",
              "      <td>257.750000</td>\n",
              "      <td>152.000000</td>\n",
              "      <td>133.000000</td>\n",
              "      <td>132.000000</td>\n",
              "      <td>157.000000</td>\n",
              "      <td>406.000000</td>\n",
              "      <td>49.0</td>\n",
              "      <td>70.500000</td>\n",
              "      <td>102.000000</td>\n",
              "      <td>106.000000</td>\n",
              "      <td>316.000000</td>\n",
              "      <td>203.500000</td>\n",
              "      <td>205.750000</td>\n",
              "      <td>205.000000</td>\n",
              "    </tr>\n",
              "    <tr>\n",
              "      <td>max</td>\n",
              "      <td>3241.000000</td>\n",
              "      <td>185.000000</td>\n",
              "      <td>325.000000</td>\n",
              "      <td>454.000000</td>\n",
              "      <td>281.000000</td>\n",
              "      <td>603.000000</td>\n",
              "      <td>503.000000</td>\n",
              "      <td>772.000000</td>\n",
              "      <td>49.0</td>\n",
              "      <td>147.000000</td>\n",
              "      <td>159.000000</td>\n",
              "      <td>313.000000</td>\n",
              "      <td>1849.000000</td>\n",
              "      <td>305.000000</td>\n",
              "      <td>636.000000</td>\n",
              "      <td>405.000000</td>\n",
              "    </tr>\n",
              "  </tbody>\n",
              "</table>\n",
              "</div>"
            ],
            "text/plain": [
              "               key      Bulk 1      Bulk 2       Bulk 3       Bulk 4  \\\n",
              "count  3129.000000  252.000000   22.000000  1298.000000  1014.000000   \n",
              "mean   1624.383509   39.242063  253.045455   113.879045   104.394477   \n",
              "std     933.337642   18.277654   21.180578    75.483494    48.184126   \n",
              "min       1.000000   10.000000  228.000000     6.000000    12.000000   \n",
              "25%     816.000000   27.000000  242.000000    58.000000    72.000000   \n",
              "50%    1622.000000   31.000000  251.500000    97.500000   102.000000   \n",
              "75%    2431.000000   46.000000  257.750000   152.000000   133.000000   \n",
              "max    3241.000000  185.000000  325.000000   454.000000   281.000000   \n",
              "\n",
              "           Bulk 5      Bulk 6      Bulk 7  Bulk 8      Bulk 9     Bulk 10  \\\n",
              "count   77.000000  576.000000   25.000000     1.0   19.000000  176.000000   \n",
              "mean   107.025974  118.925347  305.600000    49.0   76.315789   83.284091   \n",
              "std     81.790646   72.057776  191.022904     NaN   21.720581   26.060347   \n",
              "min     11.000000   17.000000   47.000000    49.0   63.000000   24.000000   \n",
              "25%     70.000000   69.750000  155.000000    49.0   66.000000   64.000000   \n",
              "50%     86.000000  100.000000  298.000000    49.0   68.000000   86.500000   \n",
              "75%    132.000000  157.000000  406.000000    49.0   70.500000  102.000000   \n",
              "max    603.000000  503.000000  772.000000    49.0  147.000000  159.000000   \n",
              "\n",
              "          Bulk 11      Bulk 12     Bulk 13      Bulk 14      Bulk 15  \n",
              "count  177.000000  2450.000000   18.000000  2806.000000  2248.000000  \n",
              "mean    76.819209   260.471020  181.111111   170.284747   160.513345  \n",
              "std     59.655365   120.649269   46.088009    65.868652    51.765319  \n",
              "min      8.000000    53.000000  151.000000    16.000000     1.000000  \n",
              "25%     25.000000   204.000000  153.250000   119.000000   105.000000  \n",
              "50%     64.000000   208.000000  155.500000   151.000000   160.000000  \n",
              "75%    106.000000   316.000000  203.500000   205.750000   205.000000  \n",
              "max    313.000000  1849.000000  305.000000   636.000000   405.000000  "
            ]
          },
          "metadata": {
            "tags": []
          },
          "execution_count": 21
        }
      ]
    },
    {
      "cell_type": "code",
      "metadata": {
        "id": "uPefyOs31Nqe",
        "outputId": "52a2ffaa-82ab-4a9b-941c-674538a5c54e"
      },
      "source": [
        "missing_keys_bulk = []\n",
        "\n",
        "for i in range(1, 3242):\n",
        "    if i not in df_bulk['key'].unique():\n",
        "        missing_keys_bulk.append(i)\n",
        "len(missing_keys_bulk)"
      ],
      "execution_count": null,
      "outputs": [
        {
          "output_type": "execute_result",
          "data": {
            "text/plain": [
              "112"
            ]
          },
          "metadata": {
            "tags": []
          },
          "execution_count": 22
        }
      ]
    },
    {
      "cell_type": "code",
      "metadata": {
        "id": "coprx40h1Nqe",
        "outputId": "35d46251-49ce-417f-fa21-7e903f3b008c"
      },
      "source": [
        "print(missing_keys_bulk)"
      ],
      "execution_count": null,
      "outputs": [
        {
          "output_type": "stream",
          "text": [
            "[41, 42, 51, 52, 53, 54, 55, 56, 72, 80, 81, 110, 151, 188, 195, 225, 269, 302, 330, 331, 332, 343, 350, 355, 382, 506, 529, 540, 607, 661, 683, 710, 766, 830, 874, 931, 933, 934, 960, 961, 964, 966, 983, 984, 1062, 1105, 1133, 1221, 1268, 1300, 1334, 1402, 1437, 1517, 1518, 1535, 1566, 1623, 1656, 1783, 1818, 1911, 1959, 1974, 1979, 2009, 2010, 2031, 2043, 2056, 2103, 2195, 2196, 2197, 2198, 2216, 2217, 2231, 2278, 2310, 2356, 2373, 2390, 2408, 2434, 2446, 2460, 2468, 2469, 2471, 2491, 2595, 2599, 2600, 2608, 2625, 2628, 2683, 2738, 2739, 2816, 2821, 2863, 2884, 2891, 3018, 3026, 3047, 3182, 3200, 3207, 3216]\n"
          ],
          "name": "stdout"
        }
      ]
    },
    {
      "cell_type": "code",
      "metadata": {
        "id": "o--aCcZT1Nqe",
        "outputId": "3cfea1c3-3444-4f9c-c85e-50bdf5d6f965"
      },
      "source": [
        "df_bulk.duplicated().sum()"
      ],
      "execution_count": null,
      "outputs": [
        {
          "output_type": "execute_result",
          "data": {
            "text/plain": [
              "0"
            ]
          },
          "metadata": {
            "tags": []
          },
          "execution_count": 24
        }
      ]
    },
    {
      "cell_type": "markdown",
      "metadata": {
        "id": "PzJpoi-K1Nqf"
      },
      "source": [
        "There are many null values in `df_bulk`. The null values possibly represent instances where 0 of the respective bulk material was used, since the minimum values for each column is all greater than 0.\n",
        "\n",
        "112 keys also do not exist in `df_bulk`.\n",
        "\n",
        "No duplicates were found."
      ]
    },
    {
      "cell_type": "markdown",
      "metadata": {
        "id": "-2kkF8_Y1Nqf"
      },
      "source": [
        "### `df_bulk_time`: bulk material delivery data (time)"
      ]
    },
    {
      "cell_type": "code",
      "metadata": {
        "id": "JsUfjv-t1Nqf",
        "outputId": "d122fe8b-5795-491c-940d-7a24bed9874c"
      },
      "source": [
        "df_bulk_time.head()"
      ],
      "execution_count": null,
      "outputs": [
        {
          "output_type": "execute_result",
          "data": {
            "text/html": [
              "<div>\n",
              "<style scoped>\n",
              "    .dataframe tbody tr th:only-of-type {\n",
              "        vertical-align: middle;\n",
              "    }\n",
              "\n",
              "    .dataframe tbody tr th {\n",
              "        vertical-align: top;\n",
              "    }\n",
              "\n",
              "    .dataframe thead th {\n",
              "        text-align: right;\n",
              "    }\n",
              "</style>\n",
              "<table border=\"1\" class=\"dataframe\">\n",
              "  <thead>\n",
              "    <tr style=\"text-align: right;\">\n",
              "      <th></th>\n",
              "      <th>key</th>\n",
              "      <th>Bulk 1</th>\n",
              "      <th>Bulk 2</th>\n",
              "      <th>Bulk 3</th>\n",
              "      <th>Bulk 4</th>\n",
              "      <th>Bulk 5</th>\n",
              "      <th>Bulk 6</th>\n",
              "      <th>Bulk 7</th>\n",
              "      <th>Bulk 8</th>\n",
              "      <th>Bulk 9</th>\n",
              "      <th>Bulk 10</th>\n",
              "      <th>Bulk 11</th>\n",
              "      <th>Bulk 12</th>\n",
              "      <th>Bulk 13</th>\n",
              "      <th>Bulk 14</th>\n",
              "      <th>Bulk 15</th>\n",
              "    </tr>\n",
              "  </thead>\n",
              "  <tbody>\n",
              "    <tr>\n",
              "      <td>0</td>\n",
              "      <td>1</td>\n",
              "      <td>NaN</td>\n",
              "      <td>NaN</td>\n",
              "      <td>NaN</td>\n",
              "      <td>2019-05-03 11:21:30</td>\n",
              "      <td>NaN</td>\n",
              "      <td>NaN</td>\n",
              "      <td>NaN</td>\n",
              "      <td>NaN</td>\n",
              "      <td>NaN</td>\n",
              "      <td>NaN</td>\n",
              "      <td>NaN</td>\n",
              "      <td>2019-05-03 11:03:52</td>\n",
              "      <td>NaN</td>\n",
              "      <td>2019-05-03 11:03:52</td>\n",
              "      <td>2019-05-03 11:03:52</td>\n",
              "    </tr>\n",
              "    <tr>\n",
              "      <td>1</td>\n",
              "      <td>2</td>\n",
              "      <td>NaN</td>\n",
              "      <td>NaN</td>\n",
              "      <td>NaN</td>\n",
              "      <td>2019-05-03 11:46:38</td>\n",
              "      <td>NaN</td>\n",
              "      <td>NaN</td>\n",
              "      <td>NaN</td>\n",
              "      <td>NaN</td>\n",
              "      <td>NaN</td>\n",
              "      <td>NaN</td>\n",
              "      <td>NaN</td>\n",
              "      <td>2019-05-03 11:40:20</td>\n",
              "      <td>NaN</td>\n",
              "      <td>2019-05-03 11:40:20</td>\n",
              "      <td>2019-05-03 11:40:20</td>\n",
              "    </tr>\n",
              "    <tr>\n",
              "      <td>2</td>\n",
              "      <td>3</td>\n",
              "      <td>NaN</td>\n",
              "      <td>NaN</td>\n",
              "      <td>NaN</td>\n",
              "      <td>2019-05-03 12:31:06</td>\n",
              "      <td>NaN</td>\n",
              "      <td>NaN</td>\n",
              "      <td>NaN</td>\n",
              "      <td>NaN</td>\n",
              "      <td>NaN</td>\n",
              "      <td>NaN</td>\n",
              "      <td>NaN</td>\n",
              "      <td>2019-05-03 12:09:40</td>\n",
              "      <td>NaN</td>\n",
              "      <td>2019-05-03 12:09:40</td>\n",
              "      <td>2019-05-03 12:09:40</td>\n",
              "    </tr>\n",
              "    <tr>\n",
              "      <td>3</td>\n",
              "      <td>4</td>\n",
              "      <td>NaN</td>\n",
              "      <td>NaN</td>\n",
              "      <td>NaN</td>\n",
              "      <td>2019-05-03 12:48:43</td>\n",
              "      <td>NaN</td>\n",
              "      <td>NaN</td>\n",
              "      <td>NaN</td>\n",
              "      <td>NaN</td>\n",
              "      <td>NaN</td>\n",
              "      <td>NaN</td>\n",
              "      <td>NaN</td>\n",
              "      <td>2019-05-03 12:41:24</td>\n",
              "      <td>NaN</td>\n",
              "      <td>2019-05-03 12:41:24</td>\n",
              "      <td>2019-05-03 12:41:24</td>\n",
              "    </tr>\n",
              "    <tr>\n",
              "      <td>4</td>\n",
              "      <td>5</td>\n",
              "      <td>NaN</td>\n",
              "      <td>NaN</td>\n",
              "      <td>NaN</td>\n",
              "      <td>2019-05-03 13:18:50</td>\n",
              "      <td>NaN</td>\n",
              "      <td>NaN</td>\n",
              "      <td>NaN</td>\n",
              "      <td>NaN</td>\n",
              "      <td>NaN</td>\n",
              "      <td>NaN</td>\n",
              "      <td>NaN</td>\n",
              "      <td>2019-05-03 13:12:56</td>\n",
              "      <td>NaN</td>\n",
              "      <td>2019-05-03 13:12:56</td>\n",
              "      <td>2019-05-03 13:12:56</td>\n",
              "    </tr>\n",
              "  </tbody>\n",
              "</table>\n",
              "</div>"
            ],
            "text/plain": [
              "   key Bulk 1 Bulk 2 Bulk 3               Bulk 4 Bulk 5 Bulk 6 Bulk 7 Bulk 8  \\\n",
              "0    1    NaN    NaN    NaN  2019-05-03 11:21:30    NaN    NaN    NaN    NaN   \n",
              "1    2    NaN    NaN    NaN  2019-05-03 11:46:38    NaN    NaN    NaN    NaN   \n",
              "2    3    NaN    NaN    NaN  2019-05-03 12:31:06    NaN    NaN    NaN    NaN   \n",
              "3    4    NaN    NaN    NaN  2019-05-03 12:48:43    NaN    NaN    NaN    NaN   \n",
              "4    5    NaN    NaN    NaN  2019-05-03 13:18:50    NaN    NaN    NaN    NaN   \n",
              "\n",
              "  Bulk 9 Bulk 10 Bulk 11              Bulk 12 Bulk 13              Bulk 14  \\\n",
              "0    NaN     NaN     NaN  2019-05-03 11:03:52     NaN  2019-05-03 11:03:52   \n",
              "1    NaN     NaN     NaN  2019-05-03 11:40:20     NaN  2019-05-03 11:40:20   \n",
              "2    NaN     NaN     NaN  2019-05-03 12:09:40     NaN  2019-05-03 12:09:40   \n",
              "3    NaN     NaN     NaN  2019-05-03 12:41:24     NaN  2019-05-03 12:41:24   \n",
              "4    NaN     NaN     NaN  2019-05-03 13:12:56     NaN  2019-05-03 13:12:56   \n",
              "\n",
              "               Bulk 15  \n",
              "0  2019-05-03 11:03:52  \n",
              "1  2019-05-03 11:40:20  \n",
              "2  2019-05-03 12:09:40  \n",
              "3  2019-05-03 12:41:24  \n",
              "4  2019-05-03 13:12:56  "
            ]
          },
          "metadata": {
            "tags": []
          },
          "execution_count": 25
        }
      ]
    },
    {
      "cell_type": "code",
      "metadata": {
        "id": "hERdBlUS1Nqg",
        "outputId": "d03aa6b1-4a1e-4e93-c702-833df460ef17"
      },
      "source": [
        "df_bulk_time.tail()"
      ],
      "execution_count": null,
      "outputs": [
        {
          "output_type": "execute_result",
          "data": {
            "text/html": [
              "<div>\n",
              "<style scoped>\n",
              "    .dataframe tbody tr th:only-of-type {\n",
              "        vertical-align: middle;\n",
              "    }\n",
              "\n",
              "    .dataframe tbody tr th {\n",
              "        vertical-align: top;\n",
              "    }\n",
              "\n",
              "    .dataframe thead th {\n",
              "        text-align: right;\n",
              "    }\n",
              "</style>\n",
              "<table border=\"1\" class=\"dataframe\">\n",
              "  <thead>\n",
              "    <tr style=\"text-align: right;\">\n",
              "      <th></th>\n",
              "      <th>key</th>\n",
              "      <th>Bulk 1</th>\n",
              "      <th>Bulk 2</th>\n",
              "      <th>Bulk 3</th>\n",
              "      <th>Bulk 4</th>\n",
              "      <th>Bulk 5</th>\n",
              "      <th>Bulk 6</th>\n",
              "      <th>Bulk 7</th>\n",
              "      <th>Bulk 8</th>\n",
              "      <th>Bulk 9</th>\n",
              "      <th>Bulk 10</th>\n",
              "      <th>Bulk 11</th>\n",
              "      <th>Bulk 12</th>\n",
              "      <th>Bulk 13</th>\n",
              "      <th>Bulk 14</th>\n",
              "      <th>Bulk 15</th>\n",
              "    </tr>\n",
              "  </thead>\n",
              "  <tbody>\n",
              "    <tr>\n",
              "      <td>3124</td>\n",
              "      <td>3237</td>\n",
              "      <td>NaN</td>\n",
              "      <td>NaN</td>\n",
              "      <td>2019-08-31 22:51:28</td>\n",
              "      <td>NaN</td>\n",
              "      <td>NaN</td>\n",
              "      <td>NaN</td>\n",
              "      <td>NaN</td>\n",
              "      <td>NaN</td>\n",
              "      <td>NaN</td>\n",
              "      <td>NaN</td>\n",
              "      <td>NaN</td>\n",
              "      <td>2019-08-31 22:46:52</td>\n",
              "      <td>NaN</td>\n",
              "      <td>2019-08-31 22:46:52</td>\n",
              "      <td>2019-08-31 22:46:52</td>\n",
              "    </tr>\n",
              "    <tr>\n",
              "      <td>3125</td>\n",
              "      <td>3238</td>\n",
              "      <td>NaN</td>\n",
              "      <td>NaN</td>\n",
              "      <td>2019-08-31 23:39:11</td>\n",
              "      <td>NaN</td>\n",
              "      <td>NaN</td>\n",
              "      <td>NaN</td>\n",
              "      <td>NaN</td>\n",
              "      <td>NaN</td>\n",
              "      <td>NaN</td>\n",
              "      <td>NaN</td>\n",
              "      <td>NaN</td>\n",
              "      <td>2019-08-31 23:33:09</td>\n",
              "      <td>NaN</td>\n",
              "      <td>2019-08-31 23:33:09</td>\n",
              "      <td>2019-08-31 23:33:09</td>\n",
              "    </tr>\n",
              "    <tr>\n",
              "      <td>3126</td>\n",
              "      <td>3239</td>\n",
              "      <td>NaN</td>\n",
              "      <td>NaN</td>\n",
              "      <td>NaN</td>\n",
              "      <td>NaN</td>\n",
              "      <td>NaN</td>\n",
              "      <td>2019-09-01 01:51:58</td>\n",
              "      <td>NaN</td>\n",
              "      <td>NaN</td>\n",
              "      <td>NaN</td>\n",
              "      <td>NaN</td>\n",
              "      <td>NaN</td>\n",
              "      <td>2019-09-01 01:39:41</td>\n",
              "      <td>NaN</td>\n",
              "      <td>2019-09-01 01:33:25</td>\n",
              "      <td>2019-09-01 01:33:25</td>\n",
              "    </tr>\n",
              "    <tr>\n",
              "      <td>3127</td>\n",
              "      <td>3240</td>\n",
              "      <td>NaN</td>\n",
              "      <td>NaN</td>\n",
              "      <td>NaN</td>\n",
              "      <td>NaN</td>\n",
              "      <td>NaN</td>\n",
              "      <td>2019-09-01 03:12:40</td>\n",
              "      <td>NaN</td>\n",
              "      <td>NaN</td>\n",
              "      <td>NaN</td>\n",
              "      <td>NaN</td>\n",
              "      <td>NaN</td>\n",
              "      <td>NaN</td>\n",
              "      <td>NaN</td>\n",
              "      <td>2019-09-01 02:41:27</td>\n",
              "      <td>2019-09-01 02:41:27</td>\n",
              "    </tr>\n",
              "    <tr>\n",
              "      <td>3128</td>\n",
              "      <td>3241</td>\n",
              "      <td>NaN</td>\n",
              "      <td>NaN</td>\n",
              "      <td>NaN</td>\n",
              "      <td>NaN</td>\n",
              "      <td>NaN</td>\n",
              "      <td>NaN</td>\n",
              "      <td>NaN</td>\n",
              "      <td>NaN</td>\n",
              "      <td>NaN</td>\n",
              "      <td>NaN</td>\n",
              "      <td>NaN</td>\n",
              "      <td>NaN</td>\n",
              "      <td>NaN</td>\n",
              "      <td>2019-09-01 04:05:34</td>\n",
              "      <td>2019-09-01 04:05:34</td>\n",
              "    </tr>\n",
              "  </tbody>\n",
              "</table>\n",
              "</div>"
            ],
            "text/plain": [
              "       key Bulk 1 Bulk 2               Bulk 3 Bulk 4 Bulk 5  \\\n",
              "3124  3237    NaN    NaN  2019-08-31 22:51:28    NaN    NaN   \n",
              "3125  3238    NaN    NaN  2019-08-31 23:39:11    NaN    NaN   \n",
              "3126  3239    NaN    NaN                  NaN    NaN    NaN   \n",
              "3127  3240    NaN    NaN                  NaN    NaN    NaN   \n",
              "3128  3241    NaN    NaN                  NaN    NaN    NaN   \n",
              "\n",
              "                   Bulk 6 Bulk 7 Bulk 8 Bulk 9 Bulk 10 Bulk 11  \\\n",
              "3124                  NaN    NaN    NaN    NaN     NaN     NaN   \n",
              "3125                  NaN    NaN    NaN    NaN     NaN     NaN   \n",
              "3126  2019-09-01 01:51:58    NaN    NaN    NaN     NaN     NaN   \n",
              "3127  2019-09-01 03:12:40    NaN    NaN    NaN     NaN     NaN   \n",
              "3128                  NaN    NaN    NaN    NaN     NaN     NaN   \n",
              "\n",
              "                  Bulk 12 Bulk 13              Bulk 14              Bulk 15  \n",
              "3124  2019-08-31 22:46:52     NaN  2019-08-31 22:46:52  2019-08-31 22:46:52  \n",
              "3125  2019-08-31 23:33:09     NaN  2019-08-31 23:33:09  2019-08-31 23:33:09  \n",
              "3126  2019-09-01 01:39:41     NaN  2019-09-01 01:33:25  2019-09-01 01:33:25  \n",
              "3127                  NaN     NaN  2019-09-01 02:41:27  2019-09-01 02:41:27  \n",
              "3128                  NaN     NaN  2019-09-01 04:05:34  2019-09-01 04:05:34  "
            ]
          },
          "metadata": {
            "tags": []
          },
          "execution_count": 26
        }
      ]
    },
    {
      "cell_type": "code",
      "metadata": {
        "id": "vNppQIMn1Nqg",
        "outputId": "5e22779b-8866-44e3-ecf4-6af7504a38ab"
      },
      "source": [
        "df_bulk_time.info()"
      ],
      "execution_count": null,
      "outputs": [
        {
          "output_type": "stream",
          "text": [
            "<class 'pandas.core.frame.DataFrame'>\n",
            "RangeIndex: 3129 entries, 0 to 3128\n",
            "Data columns (total 16 columns):\n",
            "key        3129 non-null int64\n",
            "Bulk 1     252 non-null object\n",
            "Bulk 2     22 non-null object\n",
            "Bulk 3     1298 non-null object\n",
            "Bulk 4     1014 non-null object\n",
            "Bulk 5     77 non-null object\n",
            "Bulk 6     576 non-null object\n",
            "Bulk 7     25 non-null object\n",
            "Bulk 8     1 non-null object\n",
            "Bulk 9     19 non-null object\n",
            "Bulk 10    176 non-null object\n",
            "Bulk 11    177 non-null object\n",
            "Bulk 12    2450 non-null object\n",
            "Bulk 13    18 non-null object\n",
            "Bulk 14    2806 non-null object\n",
            "Bulk 15    2248 non-null object\n",
            "dtypes: int64(1), object(15)\n",
            "memory usage: 391.2+ KB\n"
          ],
          "name": "stdout"
        }
      ]
    },
    {
      "cell_type": "code",
      "metadata": {
        "id": "hKpGeFQ21Nqh",
        "outputId": "9b175860-a7bf-4efe-88df-21270179262b"
      },
      "source": [
        "df_bulk_time.describe()"
      ],
      "execution_count": null,
      "outputs": [
        {
          "output_type": "execute_result",
          "data": {
            "text/html": [
              "<div>\n",
              "<style scoped>\n",
              "    .dataframe tbody tr th:only-of-type {\n",
              "        vertical-align: middle;\n",
              "    }\n",
              "\n",
              "    .dataframe tbody tr th {\n",
              "        vertical-align: top;\n",
              "    }\n",
              "\n",
              "    .dataframe thead th {\n",
              "        text-align: right;\n",
              "    }\n",
              "</style>\n",
              "<table border=\"1\" class=\"dataframe\">\n",
              "  <thead>\n",
              "    <tr style=\"text-align: right;\">\n",
              "      <th></th>\n",
              "      <th>key</th>\n",
              "    </tr>\n",
              "  </thead>\n",
              "  <tbody>\n",
              "    <tr>\n",
              "      <td>count</td>\n",
              "      <td>3129.000000</td>\n",
              "    </tr>\n",
              "    <tr>\n",
              "      <td>mean</td>\n",
              "      <td>1624.383509</td>\n",
              "    </tr>\n",
              "    <tr>\n",
              "      <td>std</td>\n",
              "      <td>933.337642</td>\n",
              "    </tr>\n",
              "    <tr>\n",
              "      <td>min</td>\n",
              "      <td>1.000000</td>\n",
              "    </tr>\n",
              "    <tr>\n",
              "      <td>25%</td>\n",
              "      <td>816.000000</td>\n",
              "    </tr>\n",
              "    <tr>\n",
              "      <td>50%</td>\n",
              "      <td>1622.000000</td>\n",
              "    </tr>\n",
              "    <tr>\n",
              "      <td>75%</td>\n",
              "      <td>2431.000000</td>\n",
              "    </tr>\n",
              "    <tr>\n",
              "      <td>max</td>\n",
              "      <td>3241.000000</td>\n",
              "    </tr>\n",
              "  </tbody>\n",
              "</table>\n",
              "</div>"
            ],
            "text/plain": [
              "               key\n",
              "count  3129.000000\n",
              "mean   1624.383509\n",
              "std     933.337642\n",
              "min       1.000000\n",
              "25%     816.000000\n",
              "50%    1622.000000\n",
              "75%    2431.000000\n",
              "max    3241.000000"
            ]
          },
          "metadata": {
            "tags": []
          },
          "execution_count": 28
        }
      ]
    },
    {
      "cell_type": "code",
      "metadata": {
        "id": "_jabx17i1Nqh",
        "outputId": "37fe0e08-dd27-4913-a6d0-fcad0431b4a2"
      },
      "source": [
        "df_bulk_time.describe(include='object')"
      ],
      "execution_count": null,
      "outputs": [
        {
          "output_type": "execute_result",
          "data": {
            "text/html": [
              "<div>\n",
              "<style scoped>\n",
              "    .dataframe tbody tr th:only-of-type {\n",
              "        vertical-align: middle;\n",
              "    }\n",
              "\n",
              "    .dataframe tbody tr th {\n",
              "        vertical-align: top;\n",
              "    }\n",
              "\n",
              "    .dataframe thead th {\n",
              "        text-align: right;\n",
              "    }\n",
              "</style>\n",
              "<table border=\"1\" class=\"dataframe\">\n",
              "  <thead>\n",
              "    <tr style=\"text-align: right;\">\n",
              "      <th></th>\n",
              "      <th>Bulk 1</th>\n",
              "      <th>Bulk 2</th>\n",
              "      <th>Bulk 3</th>\n",
              "      <th>Bulk 4</th>\n",
              "      <th>Bulk 5</th>\n",
              "      <th>Bulk 6</th>\n",
              "      <th>Bulk 7</th>\n",
              "      <th>Bulk 8</th>\n",
              "      <th>Bulk 9</th>\n",
              "      <th>Bulk 10</th>\n",
              "      <th>Bulk 11</th>\n",
              "      <th>Bulk 12</th>\n",
              "      <th>Bulk 13</th>\n",
              "      <th>Bulk 14</th>\n",
              "      <th>Bulk 15</th>\n",
              "    </tr>\n",
              "  </thead>\n",
              "  <tbody>\n",
              "    <tr>\n",
              "      <td>count</td>\n",
              "      <td>252</td>\n",
              "      <td>22</td>\n",
              "      <td>1298</td>\n",
              "      <td>1014</td>\n",
              "      <td>77</td>\n",
              "      <td>576</td>\n",
              "      <td>25</td>\n",
              "      <td>1</td>\n",
              "      <td>19</td>\n",
              "      <td>176</td>\n",
              "      <td>177</td>\n",
              "      <td>2450</td>\n",
              "      <td>18</td>\n",
              "      <td>2806</td>\n",
              "      <td>2248</td>\n",
              "    </tr>\n",
              "    <tr>\n",
              "      <td>unique</td>\n",
              "      <td>252</td>\n",
              "      <td>22</td>\n",
              "      <td>1298</td>\n",
              "      <td>1014</td>\n",
              "      <td>77</td>\n",
              "      <td>576</td>\n",
              "      <td>25</td>\n",
              "      <td>1</td>\n",
              "      <td>19</td>\n",
              "      <td>176</td>\n",
              "      <td>177</td>\n",
              "      <td>2450</td>\n",
              "      <td>18</td>\n",
              "      <td>2806</td>\n",
              "      <td>2248</td>\n",
              "    </tr>\n",
              "    <tr>\n",
              "      <td>top</td>\n",
              "      <td>2019-06-07 01:29:04</td>\n",
              "      <td>2019-07-23 14:35:55</td>\n",
              "      <td>2019-08-29 00:16:34</td>\n",
              "      <td>2019-08-29 00:16:34</td>\n",
              "      <td>2019-07-01 22:19:07</td>\n",
              "      <td>2019-05-10 05:30:27</td>\n",
              "      <td>2019-08-08 08:46:28</td>\n",
              "      <td>2019-07-05 17:46:11</td>\n",
              "      <td>2019-05-14 04:38:14</td>\n",
              "      <td>2019-08-16 03:05:53</td>\n",
              "      <td>2019-08-08 23:47:00</td>\n",
              "      <td>2019-06-25 17:10:43</td>\n",
              "      <td>2019-08-24 11:33:10</td>\n",
              "      <td>2019-06-13 07:35:15</td>\n",
              "      <td>2019-06-25 17:10:43</td>\n",
              "    </tr>\n",
              "    <tr>\n",
              "      <td>freq</td>\n",
              "      <td>1</td>\n",
              "      <td>1</td>\n",
              "      <td>1</td>\n",
              "      <td>1</td>\n",
              "      <td>1</td>\n",
              "      <td>1</td>\n",
              "      <td>1</td>\n",
              "      <td>1</td>\n",
              "      <td>1</td>\n",
              "      <td>1</td>\n",
              "      <td>1</td>\n",
              "      <td>1</td>\n",
              "      <td>1</td>\n",
              "      <td>1</td>\n",
              "      <td>1</td>\n",
              "    </tr>\n",
              "  </tbody>\n",
              "</table>\n",
              "</div>"
            ],
            "text/plain": [
              "                     Bulk 1               Bulk 2               Bulk 3  \\\n",
              "count                   252                   22                 1298   \n",
              "unique                  252                   22                 1298   \n",
              "top     2019-06-07 01:29:04  2019-07-23 14:35:55  2019-08-29 00:16:34   \n",
              "freq                      1                    1                    1   \n",
              "\n",
              "                     Bulk 4               Bulk 5               Bulk 6  \\\n",
              "count                  1014                   77                  576   \n",
              "unique                 1014                   77                  576   \n",
              "top     2019-08-29 00:16:34  2019-07-01 22:19:07  2019-05-10 05:30:27   \n",
              "freq                      1                    1                    1   \n",
              "\n",
              "                     Bulk 7               Bulk 8               Bulk 9  \\\n",
              "count                    25                    1                   19   \n",
              "unique                   25                    1                   19   \n",
              "top     2019-08-08 08:46:28  2019-07-05 17:46:11  2019-05-14 04:38:14   \n",
              "freq                      1                    1                    1   \n",
              "\n",
              "                    Bulk 10              Bulk 11              Bulk 12  \\\n",
              "count                   176                  177                 2450   \n",
              "unique                  176                  177                 2450   \n",
              "top     2019-08-16 03:05:53  2019-08-08 23:47:00  2019-06-25 17:10:43   \n",
              "freq                      1                    1                    1   \n",
              "\n",
              "                    Bulk 13              Bulk 14              Bulk 15  \n",
              "count                    18                 2806                 2248  \n",
              "unique                   18                 2806                 2248  \n",
              "top     2019-08-24 11:33:10  2019-06-13 07:35:15  2019-06-25 17:10:43  \n",
              "freq                      1                    1                    1  "
            ]
          },
          "metadata": {
            "tags": []
          },
          "execution_count": 29
        }
      ]
    },
    {
      "cell_type": "code",
      "metadata": {
        "id": "nY1MT-kI1Nqi",
        "outputId": "07ed48fd-5652-4461-d56f-1a2e39625950"
      },
      "source": [
        "missing_keys_bulk_time = []\n",
        "\n",
        "for i in range(1, 3242):\n",
        "    if i not in df_bulk_time['key'].unique():\n",
        "        missing_keys_bulk_time.append(i)\n",
        "len(missing_keys_bulk_time)"
      ],
      "execution_count": null,
      "outputs": [
        {
          "output_type": "execute_result",
          "data": {
            "text/plain": [
              "112"
            ]
          },
          "metadata": {
            "tags": []
          },
          "execution_count": 30
        }
      ]
    },
    {
      "cell_type": "code",
      "metadata": {
        "id": "dan8mXqm1Nqj",
        "outputId": "9884948b-68ea-41f2-bfd5-272687ef5548"
      },
      "source": [
        "print(missing_keys_bulk_time)"
      ],
      "execution_count": null,
      "outputs": [
        {
          "output_type": "stream",
          "text": [
            "[41, 42, 51, 52, 53, 54, 55, 56, 72, 80, 81, 110, 151, 188, 195, 225, 269, 302, 330, 331, 332, 343, 350, 355, 382, 506, 529, 540, 607, 661, 683, 710, 766, 830, 874, 931, 933, 934, 960, 961, 964, 966, 983, 984, 1062, 1105, 1133, 1221, 1268, 1300, 1334, 1402, 1437, 1517, 1518, 1535, 1566, 1623, 1656, 1783, 1818, 1911, 1959, 1974, 1979, 2009, 2010, 2031, 2043, 2056, 2103, 2195, 2196, 2197, 2198, 2216, 2217, 2231, 2278, 2310, 2356, 2373, 2390, 2408, 2434, 2446, 2460, 2468, 2469, 2471, 2491, 2595, 2599, 2600, 2608, 2625, 2628, 2683, 2738, 2739, 2816, 2821, 2863, 2884, 2891, 3018, 3026, 3047, 3182, 3200, 3207, 3216]\n"
          ],
          "name": "stdout"
        }
      ]
    },
    {
      "cell_type": "code",
      "metadata": {
        "id": "wvvGlkB-1Nqj",
        "outputId": "b273a216-e9b3-408a-bb89-29a5159346aa"
      },
      "source": [
        "df_bulk_time.duplicated().sum()"
      ],
      "execution_count": null,
      "outputs": [
        {
          "output_type": "execute_result",
          "data": {
            "text/plain": [
              "0"
            ]
          },
          "metadata": {
            "tags": []
          },
          "execution_count": 32
        }
      ]
    },
    {
      "cell_type": "markdown",
      "metadata": {
        "id": "_ZZW1_V91Nqk"
      },
      "source": [
        "It looks like the null values in `df_bulk_time` match the null values in `df_bulk`.\n",
        "\n",
        "The columns can be converted into datatime columns.\n",
        "\n",
        "112 keys do not exist in `df_bulk_time`.\n",
        "\n",
        "Duplicate entries were not found."
      ]
    },
    {
      "cell_type": "markdown",
      "metadata": {
        "id": "IT47vTUU1Nqk"
      },
      "source": [
        "### `df_gas`: gas purge data"
      ]
    },
    {
      "cell_type": "code",
      "metadata": {
        "id": "ENo1U18U1Nqk",
        "outputId": "85a7f5ba-6a66-4812-923e-a4933efeaec4"
      },
      "source": [
        "df_gas.head()"
      ],
      "execution_count": null,
      "outputs": [
        {
          "output_type": "execute_result",
          "data": {
            "text/html": [
              "<div>\n",
              "<style scoped>\n",
              "    .dataframe tbody tr th:only-of-type {\n",
              "        vertical-align: middle;\n",
              "    }\n",
              "\n",
              "    .dataframe tbody tr th {\n",
              "        vertical-align: top;\n",
              "    }\n",
              "\n",
              "    .dataframe thead th {\n",
              "        text-align: right;\n",
              "    }\n",
              "</style>\n",
              "<table border=\"1\" class=\"dataframe\">\n",
              "  <thead>\n",
              "    <tr style=\"text-align: right;\">\n",
              "      <th></th>\n",
              "      <th>key</th>\n",
              "      <th>Gas 1</th>\n",
              "    </tr>\n",
              "  </thead>\n",
              "  <tbody>\n",
              "    <tr>\n",
              "      <td>0</td>\n",
              "      <td>1</td>\n",
              "      <td>29.749986</td>\n",
              "    </tr>\n",
              "    <tr>\n",
              "      <td>1</td>\n",
              "      <td>2</td>\n",
              "      <td>12.555561</td>\n",
              "    </tr>\n",
              "    <tr>\n",
              "      <td>2</td>\n",
              "      <td>3</td>\n",
              "      <td>28.554793</td>\n",
              "    </tr>\n",
              "    <tr>\n",
              "      <td>3</td>\n",
              "      <td>4</td>\n",
              "      <td>18.841219</td>\n",
              "    </tr>\n",
              "    <tr>\n",
              "      <td>4</td>\n",
              "      <td>5</td>\n",
              "      <td>5.413692</td>\n",
              "    </tr>\n",
              "  </tbody>\n",
              "</table>\n",
              "</div>"
            ],
            "text/plain": [
              "   key      Gas 1\n",
              "0    1  29.749986\n",
              "1    2  12.555561\n",
              "2    3  28.554793\n",
              "3    4  18.841219\n",
              "4    5   5.413692"
            ]
          },
          "metadata": {
            "tags": []
          },
          "execution_count": 33
        }
      ]
    },
    {
      "cell_type": "code",
      "metadata": {
        "id": "nFydrN1c1Nqk",
        "outputId": "00791a1e-4d2e-44b9-c480-1759bc26af47"
      },
      "source": [
        "df_gas.tail()"
      ],
      "execution_count": null,
      "outputs": [
        {
          "output_type": "execute_result",
          "data": {
            "text/html": [
              "<div>\n",
              "<style scoped>\n",
              "    .dataframe tbody tr th:only-of-type {\n",
              "        vertical-align: middle;\n",
              "    }\n",
              "\n",
              "    .dataframe tbody tr th {\n",
              "        vertical-align: top;\n",
              "    }\n",
              "\n",
              "    .dataframe thead th {\n",
              "        text-align: right;\n",
              "    }\n",
              "</style>\n",
              "<table border=\"1\" class=\"dataframe\">\n",
              "  <thead>\n",
              "    <tr style=\"text-align: right;\">\n",
              "      <th></th>\n",
              "      <th>key</th>\n",
              "      <th>Gas 1</th>\n",
              "    </tr>\n",
              "  </thead>\n",
              "  <tbody>\n",
              "    <tr>\n",
              "      <td>3234</td>\n",
              "      <td>3237</td>\n",
              "      <td>5.543905</td>\n",
              "    </tr>\n",
              "    <tr>\n",
              "      <td>3235</td>\n",
              "      <td>3238</td>\n",
              "      <td>6.745669</td>\n",
              "    </tr>\n",
              "    <tr>\n",
              "      <td>3236</td>\n",
              "      <td>3239</td>\n",
              "      <td>16.023518</td>\n",
              "    </tr>\n",
              "    <tr>\n",
              "      <td>3237</td>\n",
              "      <td>3240</td>\n",
              "      <td>11.863103</td>\n",
              "    </tr>\n",
              "    <tr>\n",
              "      <td>3238</td>\n",
              "      <td>3241</td>\n",
              "      <td>12.680959</td>\n",
              "    </tr>\n",
              "  </tbody>\n",
              "</table>\n",
              "</div>"
            ],
            "text/plain": [
              "       key      Gas 1\n",
              "3234  3237   5.543905\n",
              "3235  3238   6.745669\n",
              "3236  3239  16.023518\n",
              "3237  3240  11.863103\n",
              "3238  3241  12.680959"
            ]
          },
          "metadata": {
            "tags": []
          },
          "execution_count": 34
        }
      ]
    },
    {
      "cell_type": "code",
      "metadata": {
        "id": "Z5pACXsP1Nql",
        "outputId": "16e4fe1d-a1ea-4c37-c1cb-bb5ea2ce9374"
      },
      "source": [
        "df_gas.info()"
      ],
      "execution_count": null,
      "outputs": [
        {
          "output_type": "stream",
          "text": [
            "<class 'pandas.core.frame.DataFrame'>\n",
            "RangeIndex: 3239 entries, 0 to 3238\n",
            "Data columns (total 2 columns):\n",
            "key      3239 non-null int64\n",
            "Gas 1    3239 non-null float64\n",
            "dtypes: float64(1), int64(1)\n",
            "memory usage: 50.7 KB\n"
          ],
          "name": "stdout"
        }
      ]
    },
    {
      "cell_type": "code",
      "metadata": {
        "id": "yu_a2wd41Nql",
        "outputId": "2b406e4a-9ed9-42e6-97af-53c1974d6bc2"
      },
      "source": [
        "df_gas.describe()"
      ],
      "execution_count": null,
      "outputs": [
        {
          "output_type": "execute_result",
          "data": {
            "text/html": [
              "<div>\n",
              "<style scoped>\n",
              "    .dataframe tbody tr th:only-of-type {\n",
              "        vertical-align: middle;\n",
              "    }\n",
              "\n",
              "    .dataframe tbody tr th {\n",
              "        vertical-align: top;\n",
              "    }\n",
              "\n",
              "    .dataframe thead th {\n",
              "        text-align: right;\n",
              "    }\n",
              "</style>\n",
              "<table border=\"1\" class=\"dataframe\">\n",
              "  <thead>\n",
              "    <tr style=\"text-align: right;\">\n",
              "      <th></th>\n",
              "      <th>key</th>\n",
              "      <th>Gas 1</th>\n",
              "    </tr>\n",
              "  </thead>\n",
              "  <tbody>\n",
              "    <tr>\n",
              "      <td>count</td>\n",
              "      <td>3239.000000</td>\n",
              "      <td>3239.000000</td>\n",
              "    </tr>\n",
              "    <tr>\n",
              "      <td>mean</td>\n",
              "      <td>1621.861377</td>\n",
              "      <td>11.002062</td>\n",
              "    </tr>\n",
              "    <tr>\n",
              "      <td>std</td>\n",
              "      <td>935.386334</td>\n",
              "      <td>6.220327</td>\n",
              "    </tr>\n",
              "    <tr>\n",
              "      <td>min</td>\n",
              "      <td>1.000000</td>\n",
              "      <td>0.008399</td>\n",
              "    </tr>\n",
              "    <tr>\n",
              "      <td>25%</td>\n",
              "      <td>812.500000</td>\n",
              "      <td>7.043089</td>\n",
              "    </tr>\n",
              "    <tr>\n",
              "      <td>50%</td>\n",
              "      <td>1622.000000</td>\n",
              "      <td>9.836267</td>\n",
              "    </tr>\n",
              "    <tr>\n",
              "      <td>75%</td>\n",
              "      <td>2431.500000</td>\n",
              "      <td>13.769915</td>\n",
              "    </tr>\n",
              "    <tr>\n",
              "      <td>max</td>\n",
              "      <td>3241.000000</td>\n",
              "      <td>77.995040</td>\n",
              "    </tr>\n",
              "  </tbody>\n",
              "</table>\n",
              "</div>"
            ],
            "text/plain": [
              "               key        Gas 1\n",
              "count  3239.000000  3239.000000\n",
              "mean   1621.861377    11.002062\n",
              "std     935.386334     6.220327\n",
              "min       1.000000     0.008399\n",
              "25%     812.500000     7.043089\n",
              "50%    1622.000000     9.836267\n",
              "75%    2431.500000    13.769915\n",
              "max    3241.000000    77.995040"
            ]
          },
          "metadata": {
            "tags": []
          },
          "execution_count": 36
        }
      ]
    },
    {
      "cell_type": "code",
      "metadata": {
        "id": "NJzQD_ln1Nqm",
        "outputId": "c3225342-1fc7-4713-c2c1-d1f21f41dbb5"
      },
      "source": [
        "missing_keys_gas = []\n",
        "\n",
        "for i in range(1, 3242):\n",
        "    if i not in df_gas['key'].unique():\n",
        "        missing_keys_gas.append(i)\n",
        "len(missing_keys_gas)"
      ],
      "execution_count": null,
      "outputs": [
        {
          "output_type": "execute_result",
          "data": {
            "text/plain": [
              "2"
            ]
          },
          "metadata": {
            "tags": []
          },
          "execution_count": 37
        }
      ]
    },
    {
      "cell_type": "code",
      "metadata": {
        "id": "dCZZy7AT1Nqn",
        "outputId": "f57c8c95-8750-4025-e2a0-11987123c8dc"
      },
      "source": [
        "print(missing_keys_gas)"
      ],
      "execution_count": null,
      "outputs": [
        {
          "output_type": "stream",
          "text": [
            "[193, 259]\n"
          ],
          "name": "stdout"
        }
      ]
    },
    {
      "cell_type": "code",
      "metadata": {
        "id": "CSVSNYWm1Nqn",
        "outputId": "880fd4bd-5f6e-4d22-fcbe-fae12ec5de79"
      },
      "source": [
        "df_gas.duplicated().sum()"
      ],
      "execution_count": null,
      "outputs": [
        {
          "output_type": "execute_result",
          "data": {
            "text/plain": [
              "0"
            ]
          },
          "metadata": {
            "tags": []
          },
          "execution_count": 39
        }
      ]
    },
    {
      "cell_type": "markdown",
      "metadata": {
        "id": "0U3LbNHJ1Nqo"
      },
      "source": [
        "There are 2 keys missing from `df_gas`.\n",
        "\n",
        "No null values exist for the keys that are in the dataset.\n",
        "\n",
        "Duplicate entries were not found."
      ]
    },
    {
      "cell_type": "markdown",
      "metadata": {
        "id": "UdhngEAp1Nqo"
      },
      "source": [
        "### `df_temp`: temperature measurement results"
      ]
    },
    {
      "cell_type": "code",
      "metadata": {
        "id": "mh0UnstC1Nqp",
        "outputId": "9ea6a7bf-db8b-48a8-b217-f140076a30c0"
      },
      "source": [
        "df_temp.head(15)"
      ],
      "execution_count": null,
      "outputs": [
        {
          "output_type": "execute_result",
          "data": {
            "text/html": [
              "<div>\n",
              "<style scoped>\n",
              "    .dataframe tbody tr th:only-of-type {\n",
              "        vertical-align: middle;\n",
              "    }\n",
              "\n",
              "    .dataframe tbody tr th {\n",
              "        vertical-align: top;\n",
              "    }\n",
              "\n",
              "    .dataframe thead th {\n",
              "        text-align: right;\n",
              "    }\n",
              "</style>\n",
              "<table border=\"1\" class=\"dataframe\">\n",
              "  <thead>\n",
              "    <tr style=\"text-align: right;\">\n",
              "      <th></th>\n",
              "      <th>key</th>\n",
              "      <th>Sampling time</th>\n",
              "      <th>Temperature</th>\n",
              "    </tr>\n",
              "  </thead>\n",
              "  <tbody>\n",
              "    <tr>\n",
              "      <td>0</td>\n",
              "      <td>1</td>\n",
              "      <td>2019-05-03 11:16:18</td>\n",
              "      <td>1571.0</td>\n",
              "    </tr>\n",
              "    <tr>\n",
              "      <td>1</td>\n",
              "      <td>1</td>\n",
              "      <td>2019-05-03 11:25:53</td>\n",
              "      <td>1604.0</td>\n",
              "    </tr>\n",
              "    <tr>\n",
              "      <td>2</td>\n",
              "      <td>1</td>\n",
              "      <td>2019-05-03 11:29:11</td>\n",
              "      <td>1618.0</td>\n",
              "    </tr>\n",
              "    <tr>\n",
              "      <td>3</td>\n",
              "      <td>1</td>\n",
              "      <td>2019-05-03 11:30:01</td>\n",
              "      <td>1601.0</td>\n",
              "    </tr>\n",
              "    <tr>\n",
              "      <td>4</td>\n",
              "      <td>1</td>\n",
              "      <td>2019-05-03 11:30:39</td>\n",
              "      <td>1613.0</td>\n",
              "    </tr>\n",
              "    <tr>\n",
              "      <td>5</td>\n",
              "      <td>2</td>\n",
              "      <td>2019-05-03 11:37:27</td>\n",
              "      <td>1581.0</td>\n",
              "    </tr>\n",
              "    <tr>\n",
              "      <td>6</td>\n",
              "      <td>2</td>\n",
              "      <td>2019-05-03 11:38:00</td>\n",
              "      <td>1577.0</td>\n",
              "    </tr>\n",
              "    <tr>\n",
              "      <td>7</td>\n",
              "      <td>2</td>\n",
              "      <td>2019-05-03 11:49:38</td>\n",
              "      <td>1589.0</td>\n",
              "    </tr>\n",
              "    <tr>\n",
              "      <td>8</td>\n",
              "      <td>2</td>\n",
              "      <td>2019-05-03 11:55:50</td>\n",
              "      <td>1604.0</td>\n",
              "    </tr>\n",
              "    <tr>\n",
              "      <td>9</td>\n",
              "      <td>2</td>\n",
              "      <td>2019-05-03 11:58:24</td>\n",
              "      <td>1608.0</td>\n",
              "    </tr>\n",
              "    <tr>\n",
              "      <td>10</td>\n",
              "      <td>2</td>\n",
              "      <td>2019-05-03 11:59:12</td>\n",
              "      <td>1602.0</td>\n",
              "    </tr>\n",
              "    <tr>\n",
              "      <td>11</td>\n",
              "      <td>3</td>\n",
              "      <td>2019-05-03 12:13:17</td>\n",
              "      <td>1596.0</td>\n",
              "    </tr>\n",
              "    <tr>\n",
              "      <td>12</td>\n",
              "      <td>3</td>\n",
              "      <td>2019-05-03 12:18:36</td>\n",
              "      <td>1597.0</td>\n",
              "    </tr>\n",
              "    <tr>\n",
              "      <td>13</td>\n",
              "      <td>3</td>\n",
              "      <td>2019-05-03 12:25:06</td>\n",
              "      <td>1598.0</td>\n",
              "    </tr>\n",
              "    <tr>\n",
              "      <td>14</td>\n",
              "      <td>3</td>\n",
              "      <td>2019-05-03 12:30:48</td>\n",
              "      <td>1599.0</td>\n",
              "    </tr>\n",
              "  </tbody>\n",
              "</table>\n",
              "</div>"
            ],
            "text/plain": [
              "    key        Sampling time  Temperature\n",
              "0     1  2019-05-03 11:16:18       1571.0\n",
              "1     1  2019-05-03 11:25:53       1604.0\n",
              "2     1  2019-05-03 11:29:11       1618.0\n",
              "3     1  2019-05-03 11:30:01       1601.0\n",
              "4     1  2019-05-03 11:30:39       1613.0\n",
              "5     2  2019-05-03 11:37:27       1581.0\n",
              "6     2  2019-05-03 11:38:00       1577.0\n",
              "7     2  2019-05-03 11:49:38       1589.0\n",
              "8     2  2019-05-03 11:55:50       1604.0\n",
              "9     2  2019-05-03 11:58:24       1608.0\n",
              "10    2  2019-05-03 11:59:12       1602.0\n",
              "11    3  2019-05-03 12:13:17       1596.0\n",
              "12    3  2019-05-03 12:18:36       1597.0\n",
              "13    3  2019-05-03 12:25:06       1598.0\n",
              "14    3  2019-05-03 12:30:48       1599.0"
            ]
          },
          "metadata": {
            "tags": []
          },
          "execution_count": 40
        }
      ]
    },
    {
      "cell_type": "code",
      "metadata": {
        "id": "QNWp1dl21Nqp",
        "outputId": "92fe85e3-03cf-4155-e8d9-ed59836b6a2d"
      },
      "source": [
        "df_temp.tail(15)"
      ],
      "execution_count": null,
      "outputs": [
        {
          "output_type": "execute_result",
          "data": {
            "text/html": [
              "<div>\n",
              "<style scoped>\n",
              "    .dataframe tbody tr th:only-of-type {\n",
              "        vertical-align: middle;\n",
              "    }\n",
              "\n",
              "    .dataframe tbody tr th {\n",
              "        vertical-align: top;\n",
              "    }\n",
              "\n",
              "    .dataframe thead th {\n",
              "        text-align: right;\n",
              "    }\n",
              "</style>\n",
              "<table border=\"1\" class=\"dataframe\">\n",
              "  <thead>\n",
              "    <tr style=\"text-align: right;\">\n",
              "      <th></th>\n",
              "      <th>key</th>\n",
              "      <th>Sampling time</th>\n",
              "      <th>Temperature</th>\n",
              "    </tr>\n",
              "  </thead>\n",
              "  <tbody>\n",
              "    <tr>\n",
              "      <td>15892</td>\n",
              "      <td>3239</td>\n",
              "      <td>2019-09-01 02:23:02</td>\n",
              "      <td>NaN</td>\n",
              "    </tr>\n",
              "    <tr>\n",
              "      <td>15893</td>\n",
              "      <td>3239</td>\n",
              "      <td>2019-09-01 02:24:15</td>\n",
              "      <td>NaN</td>\n",
              "    </tr>\n",
              "    <tr>\n",
              "      <td>15894</td>\n",
              "      <td>3240</td>\n",
              "      <td>2019-09-01 02:39:01</td>\n",
              "      <td>1617.0</td>\n",
              "    </tr>\n",
              "    <tr>\n",
              "      <td>15895</td>\n",
              "      <td>3240</td>\n",
              "      <td>2019-09-01 02:48:33</td>\n",
              "      <td>NaN</td>\n",
              "    </tr>\n",
              "    <tr>\n",
              "      <td>15896</td>\n",
              "      <td>3240</td>\n",
              "      <td>2019-09-01 03:03:21</td>\n",
              "      <td>NaN</td>\n",
              "    </tr>\n",
              "    <tr>\n",
              "      <td>15897</td>\n",
              "      <td>3240</td>\n",
              "      <td>2019-09-01 03:12:19</td>\n",
              "      <td>NaN</td>\n",
              "    </tr>\n",
              "    <tr>\n",
              "      <td>15898</td>\n",
              "      <td>3240</td>\n",
              "      <td>2019-09-01 03:19:09</td>\n",
              "      <td>NaN</td>\n",
              "    </tr>\n",
              "    <tr>\n",
              "      <td>15899</td>\n",
              "      <td>3240</td>\n",
              "      <td>2019-09-01 03:31:27</td>\n",
              "      <td>NaN</td>\n",
              "    </tr>\n",
              "    <tr>\n",
              "      <td>15900</td>\n",
              "      <td>3240</td>\n",
              "      <td>2019-09-01 03:34:31</td>\n",
              "      <td>NaN</td>\n",
              "    </tr>\n",
              "    <tr>\n",
              "      <td>15901</td>\n",
              "      <td>3240</td>\n",
              "      <td>2019-09-01 03:35:16</td>\n",
              "      <td>NaN</td>\n",
              "    </tr>\n",
              "    <tr>\n",
              "      <td>15902</td>\n",
              "      <td>3241</td>\n",
              "      <td>2019-09-01 04:03:30</td>\n",
              "      <td>1586.0</td>\n",
              "    </tr>\n",
              "    <tr>\n",
              "      <td>15903</td>\n",
              "      <td>3241</td>\n",
              "      <td>2019-09-01 04:16:12</td>\n",
              "      <td>NaN</td>\n",
              "    </tr>\n",
              "    <tr>\n",
              "      <td>15904</td>\n",
              "      <td>3241</td>\n",
              "      <td>2019-09-01 04:22:39</td>\n",
              "      <td>NaN</td>\n",
              "    </tr>\n",
              "    <tr>\n",
              "      <td>15905</td>\n",
              "      <td>3241</td>\n",
              "      <td>2019-09-01 04:33:42</td>\n",
              "      <td>NaN</td>\n",
              "    </tr>\n",
              "    <tr>\n",
              "      <td>15906</td>\n",
              "      <td>3241</td>\n",
              "      <td>2019-09-01 04:38:08</td>\n",
              "      <td>NaN</td>\n",
              "    </tr>\n",
              "  </tbody>\n",
              "</table>\n",
              "</div>"
            ],
            "text/plain": [
              "        key        Sampling time  Temperature\n",
              "15892  3239  2019-09-01 02:23:02          NaN\n",
              "15893  3239  2019-09-01 02:24:15          NaN\n",
              "15894  3240  2019-09-01 02:39:01       1617.0\n",
              "15895  3240  2019-09-01 02:48:33          NaN\n",
              "15896  3240  2019-09-01 03:03:21          NaN\n",
              "15897  3240  2019-09-01 03:12:19          NaN\n",
              "15898  3240  2019-09-01 03:19:09          NaN\n",
              "15899  3240  2019-09-01 03:31:27          NaN\n",
              "15900  3240  2019-09-01 03:34:31          NaN\n",
              "15901  3240  2019-09-01 03:35:16          NaN\n",
              "15902  3241  2019-09-01 04:03:30       1586.0\n",
              "15903  3241  2019-09-01 04:16:12          NaN\n",
              "15904  3241  2019-09-01 04:22:39          NaN\n",
              "15905  3241  2019-09-01 04:33:42          NaN\n",
              "15906  3241  2019-09-01 04:38:08          NaN"
            ]
          },
          "metadata": {
            "tags": []
          },
          "execution_count": 41
        }
      ]
    },
    {
      "cell_type": "code",
      "metadata": {
        "id": "kdqjf3Mc1Nqp",
        "outputId": "094669a4-9389-4ae2-e091-321c63e54346"
      },
      "source": [
        "df_temp.info()"
      ],
      "execution_count": null,
      "outputs": [
        {
          "output_type": "stream",
          "text": [
            "<class 'pandas.core.frame.DataFrame'>\n",
            "RangeIndex: 15907 entries, 0 to 15906\n",
            "Data columns (total 3 columns):\n",
            "key              15907 non-null int64\n",
            "Sampling time    15907 non-null object\n",
            "Temperature      13006 non-null float64\n",
            "dtypes: float64(1), int64(1), object(1)\n",
            "memory usage: 372.9+ KB\n"
          ],
          "name": "stdout"
        }
      ]
    },
    {
      "cell_type": "code",
      "metadata": {
        "id": "WHsn29Ye1Nqq",
        "outputId": "95a58c1e-1eaf-4ed7-ddf0-33ce5a687d69"
      },
      "source": [
        "df_temp.describe()"
      ],
      "execution_count": null,
      "outputs": [
        {
          "output_type": "execute_result",
          "data": {
            "text/html": [
              "<div>\n",
              "<style scoped>\n",
              "    .dataframe tbody tr th:only-of-type {\n",
              "        vertical-align: middle;\n",
              "    }\n",
              "\n",
              "    .dataframe tbody tr th {\n",
              "        vertical-align: top;\n",
              "    }\n",
              "\n",
              "    .dataframe thead th {\n",
              "        text-align: right;\n",
              "    }\n",
              "</style>\n",
              "<table border=\"1\" class=\"dataframe\">\n",
              "  <thead>\n",
              "    <tr style=\"text-align: right;\">\n",
              "      <th></th>\n",
              "      <th>key</th>\n",
              "      <th>Temperature</th>\n",
              "    </tr>\n",
              "  </thead>\n",
              "  <tbody>\n",
              "    <tr>\n",
              "      <td>count</td>\n",
              "      <td>15907.000000</td>\n",
              "      <td>13006.000000</td>\n",
              "    </tr>\n",
              "    <tr>\n",
              "      <td>mean</td>\n",
              "      <td>1607.880870</td>\n",
              "      <td>1591.840920</td>\n",
              "    </tr>\n",
              "    <tr>\n",
              "      <td>std</td>\n",
              "      <td>942.212073</td>\n",
              "      <td>21.375851</td>\n",
              "    </tr>\n",
              "    <tr>\n",
              "      <td>min</td>\n",
              "      <td>1.000000</td>\n",
              "      <td>1191.000000</td>\n",
              "    </tr>\n",
              "    <tr>\n",
              "      <td>25%</td>\n",
              "      <td>790.000000</td>\n",
              "      <td>1581.000000</td>\n",
              "    </tr>\n",
              "    <tr>\n",
              "      <td>50%</td>\n",
              "      <td>1618.000000</td>\n",
              "      <td>1591.000000</td>\n",
              "    </tr>\n",
              "    <tr>\n",
              "      <td>75%</td>\n",
              "      <td>2427.000000</td>\n",
              "      <td>1601.000000</td>\n",
              "    </tr>\n",
              "    <tr>\n",
              "      <td>max</td>\n",
              "      <td>3241.000000</td>\n",
              "      <td>1705.000000</td>\n",
              "    </tr>\n",
              "  </tbody>\n",
              "</table>\n",
              "</div>"
            ],
            "text/plain": [
              "                key   Temperature\n",
              "count  15907.000000  13006.000000\n",
              "mean    1607.880870   1591.840920\n",
              "std      942.212073     21.375851\n",
              "min        1.000000   1191.000000\n",
              "25%      790.000000   1581.000000\n",
              "50%     1618.000000   1591.000000\n",
              "75%     2427.000000   1601.000000\n",
              "max     3241.000000   1705.000000"
            ]
          },
          "metadata": {
            "tags": []
          },
          "execution_count": 43
        }
      ]
    },
    {
      "cell_type": "code",
      "metadata": {
        "id": "H9MwANpN1Nqq",
        "outputId": "5f295b07-5cab-4176-bb73-1f0c8f497086"
      },
      "source": [
        "df_temp.describe(include='object')"
      ],
      "execution_count": null,
      "outputs": [
        {
          "output_type": "execute_result",
          "data": {
            "text/html": [
              "<div>\n",
              "<style scoped>\n",
              "    .dataframe tbody tr th:only-of-type {\n",
              "        vertical-align: middle;\n",
              "    }\n",
              "\n",
              "    .dataframe tbody tr th {\n",
              "        vertical-align: top;\n",
              "    }\n",
              "\n",
              "    .dataframe thead th {\n",
              "        text-align: right;\n",
              "    }\n",
              "</style>\n",
              "<table border=\"1\" class=\"dataframe\">\n",
              "  <thead>\n",
              "    <tr style=\"text-align: right;\">\n",
              "      <th></th>\n",
              "      <th>Sampling time</th>\n",
              "    </tr>\n",
              "  </thead>\n",
              "  <tbody>\n",
              "    <tr>\n",
              "      <td>count</td>\n",
              "      <td>15907</td>\n",
              "    </tr>\n",
              "    <tr>\n",
              "      <td>unique</td>\n",
              "      <td>15907</td>\n",
              "    </tr>\n",
              "    <tr>\n",
              "      <td>top</td>\n",
              "      <td>2019-07-01 14:19:51</td>\n",
              "    </tr>\n",
              "    <tr>\n",
              "      <td>freq</td>\n",
              "      <td>1</td>\n",
              "    </tr>\n",
              "  </tbody>\n",
              "</table>\n",
              "</div>"
            ],
            "text/plain": [
              "              Sampling time\n",
              "count                 15907\n",
              "unique                15907\n",
              "top     2019-07-01 14:19:51\n",
              "freq                      1"
            ]
          },
          "metadata": {
            "tags": []
          },
          "execution_count": 44
        }
      ]
    },
    {
      "cell_type": "code",
      "metadata": {
        "id": "WTJtnVZh1Nqq",
        "outputId": "65ed5222-1576-4c5b-d784-a39fc70b293c"
      },
      "source": [
        "df_temp[df_temp['Temperature'].isnull()]"
      ],
      "execution_count": null,
      "outputs": [
        {
          "output_type": "execute_result",
          "data": {
            "text/html": [
              "<div>\n",
              "<style scoped>\n",
              "    .dataframe tbody tr th:only-of-type {\n",
              "        vertical-align: middle;\n",
              "    }\n",
              "\n",
              "    .dataframe tbody tr th {\n",
              "        vertical-align: top;\n",
              "    }\n",
              "\n",
              "    .dataframe thead th {\n",
              "        text-align: right;\n",
              "    }\n",
              "</style>\n",
              "<table border=\"1\" class=\"dataframe\">\n",
              "  <thead>\n",
              "    <tr style=\"text-align: right;\">\n",
              "      <th></th>\n",
              "      <th>key</th>\n",
              "      <th>Sampling time</th>\n",
              "      <th>Temperature</th>\n",
              "    </tr>\n",
              "  </thead>\n",
              "  <tbody>\n",
              "    <tr>\n",
              "      <td>12268</td>\n",
              "      <td>2500</td>\n",
              "      <td>2019-08-06 03:24:43</td>\n",
              "      <td>NaN</td>\n",
              "    </tr>\n",
              "    <tr>\n",
              "      <td>12269</td>\n",
              "      <td>2500</td>\n",
              "      <td>2019-08-06 03:25:16</td>\n",
              "      <td>NaN</td>\n",
              "    </tr>\n",
              "    <tr>\n",
              "      <td>12270</td>\n",
              "      <td>2500</td>\n",
              "      <td>2019-08-06 03:28:21</td>\n",
              "      <td>NaN</td>\n",
              "    </tr>\n",
              "    <tr>\n",
              "      <td>12272</td>\n",
              "      <td>2501</td>\n",
              "      <td>2019-08-06 04:01:59</td>\n",
              "      <td>NaN</td>\n",
              "    </tr>\n",
              "    <tr>\n",
              "      <td>12273</td>\n",
              "      <td>2501</td>\n",
              "      <td>2019-08-06 04:14:35</td>\n",
              "      <td>NaN</td>\n",
              "    </tr>\n",
              "    <tr>\n",
              "      <td>...</td>\n",
              "      <td>...</td>\n",
              "      <td>...</td>\n",
              "      <td>...</td>\n",
              "    </tr>\n",
              "    <tr>\n",
              "      <td>15901</td>\n",
              "      <td>3240</td>\n",
              "      <td>2019-09-01 03:35:16</td>\n",
              "      <td>NaN</td>\n",
              "    </tr>\n",
              "    <tr>\n",
              "      <td>15903</td>\n",
              "      <td>3241</td>\n",
              "      <td>2019-09-01 04:16:12</td>\n",
              "      <td>NaN</td>\n",
              "    </tr>\n",
              "    <tr>\n",
              "      <td>15904</td>\n",
              "      <td>3241</td>\n",
              "      <td>2019-09-01 04:22:39</td>\n",
              "      <td>NaN</td>\n",
              "    </tr>\n",
              "    <tr>\n",
              "      <td>15905</td>\n",
              "      <td>3241</td>\n",
              "      <td>2019-09-01 04:33:42</td>\n",
              "      <td>NaN</td>\n",
              "    </tr>\n",
              "    <tr>\n",
              "      <td>15906</td>\n",
              "      <td>3241</td>\n",
              "      <td>2019-09-01 04:38:08</td>\n",
              "      <td>NaN</td>\n",
              "    </tr>\n",
              "  </tbody>\n",
              "</table>\n",
              "<p>2901 rows × 3 columns</p>\n",
              "</div>"
            ],
            "text/plain": [
              "        key        Sampling time  Temperature\n",
              "12268  2500  2019-08-06 03:24:43          NaN\n",
              "12269  2500  2019-08-06 03:25:16          NaN\n",
              "12270  2500  2019-08-06 03:28:21          NaN\n",
              "12272  2501  2019-08-06 04:01:59          NaN\n",
              "12273  2501  2019-08-06 04:14:35          NaN\n",
              "...     ...                  ...          ...\n",
              "15901  3240  2019-09-01 03:35:16          NaN\n",
              "15903  3241  2019-09-01 04:16:12          NaN\n",
              "15904  3241  2019-09-01 04:22:39          NaN\n",
              "15905  3241  2019-09-01 04:33:42          NaN\n",
              "15906  3241  2019-09-01 04:38:08          NaN\n",
              "\n",
              "[2901 rows x 3 columns]"
            ]
          },
          "metadata": {
            "tags": []
          },
          "execution_count": 45
        }
      ]
    },
    {
      "cell_type": "code",
      "metadata": {
        "id": "RcDHx7qW1Nqr",
        "outputId": "357b98ff-8061-436b-8cba-9fec3b2cf517"
      },
      "source": [
        "missing_keys_temp = []\n",
        "for i in range(1, 3242):\n",
        "    if i not in df_temp['key'].unique():\n",
        "        missing_keys_temp.append(i)\n",
        "len(missing_keys_temp)"
      ],
      "execution_count": null,
      "outputs": [
        {
          "output_type": "execute_result",
          "data": {
            "text/plain": [
              "25"
            ]
          },
          "metadata": {
            "tags": []
          },
          "execution_count": 46
        }
      ]
    },
    {
      "cell_type": "code",
      "metadata": {
        "id": "QzWaoP6K1Nqr",
        "outputId": "11a8b779-dab0-455d-f86d-10792da015a6"
      },
      "source": [
        "print(missing_keys_temp)"
      ],
      "execution_count": null,
      "outputs": [
        {
          "output_type": "stream",
          "text": [
            "[41, 42, 355, 382, 506, 529, 540, 607, 683, 710, 766, 1133, 1300, 1437, 2031, 2103, 2278, 2356, 2373, 2446, 2469, 2491, 2683, 3200, 3207]\n"
          ],
          "name": "stdout"
        }
      ]
    },
    {
      "cell_type": "code",
      "metadata": {
        "id": "r9--grBe1Nqs",
        "outputId": "b0646530-f9d3-41be-898c-6efb846fefee"
      },
      "source": [
        "df_temp.duplicated().sum()"
      ],
      "execution_count": null,
      "outputs": [
        {
          "output_type": "execute_result",
          "data": {
            "text/plain": [
              "0"
            ]
          },
          "metadata": {
            "tags": []
          },
          "execution_count": 48
        }
      ]
    },
    {
      "cell_type": "markdown",
      "metadata": {
        "id": "-23-9yw81Nqs"
      },
      "source": [
        "There are 2901 null values in the `Temperature` column, starting with entries that have the 2500 key and up.\n",
        "\n",
        "`Sampling time` column is better as a datetime column dataype.\n",
        "\n",
        "25 keys are missing in `df_temp`.\n",
        "\n",
        "Duplicate entries were not found."
      ]
    },
    {
      "cell_type": "markdown",
      "metadata": {
        "id": "OFYSQtYt1Nqs"
      },
      "source": [
        "### `df_wire`: wire materials data (volume)"
      ]
    },
    {
      "cell_type": "code",
      "metadata": {
        "id": "TmGUZPA-1Nqt",
        "outputId": "bd4bfb94-cb27-49fd-cbe1-3e9c06f449b0"
      },
      "source": [
        "df_wire.head()"
      ],
      "execution_count": null,
      "outputs": [
        {
          "output_type": "execute_result",
          "data": {
            "text/html": [
              "<div>\n",
              "<style scoped>\n",
              "    .dataframe tbody tr th:only-of-type {\n",
              "        vertical-align: middle;\n",
              "    }\n",
              "\n",
              "    .dataframe tbody tr th {\n",
              "        vertical-align: top;\n",
              "    }\n",
              "\n",
              "    .dataframe thead th {\n",
              "        text-align: right;\n",
              "    }\n",
              "</style>\n",
              "<table border=\"1\" class=\"dataframe\">\n",
              "  <thead>\n",
              "    <tr style=\"text-align: right;\">\n",
              "      <th></th>\n",
              "      <th>key</th>\n",
              "      <th>Wire 1</th>\n",
              "      <th>Wire 2</th>\n",
              "      <th>Wire 3</th>\n",
              "      <th>Wire 4</th>\n",
              "      <th>Wire 5</th>\n",
              "      <th>Wire 6</th>\n",
              "      <th>Wire 7</th>\n",
              "      <th>Wire 8</th>\n",
              "      <th>Wire 9</th>\n",
              "    </tr>\n",
              "  </thead>\n",
              "  <tbody>\n",
              "    <tr>\n",
              "      <td>0</td>\n",
              "      <td>1</td>\n",
              "      <td>60.059998</td>\n",
              "      <td>NaN</td>\n",
              "      <td>NaN</td>\n",
              "      <td>NaN</td>\n",
              "      <td>NaN</td>\n",
              "      <td>NaN</td>\n",
              "      <td>NaN</td>\n",
              "      <td>NaN</td>\n",
              "      <td>NaN</td>\n",
              "    </tr>\n",
              "    <tr>\n",
              "      <td>1</td>\n",
              "      <td>2</td>\n",
              "      <td>96.052315</td>\n",
              "      <td>NaN</td>\n",
              "      <td>NaN</td>\n",
              "      <td>NaN</td>\n",
              "      <td>NaN</td>\n",
              "      <td>NaN</td>\n",
              "      <td>NaN</td>\n",
              "      <td>NaN</td>\n",
              "      <td>NaN</td>\n",
              "    </tr>\n",
              "    <tr>\n",
              "      <td>2</td>\n",
              "      <td>3</td>\n",
              "      <td>91.160157</td>\n",
              "      <td>NaN</td>\n",
              "      <td>NaN</td>\n",
              "      <td>NaN</td>\n",
              "      <td>NaN</td>\n",
              "      <td>NaN</td>\n",
              "      <td>NaN</td>\n",
              "      <td>NaN</td>\n",
              "      <td>NaN</td>\n",
              "    </tr>\n",
              "    <tr>\n",
              "      <td>3</td>\n",
              "      <td>4</td>\n",
              "      <td>89.063515</td>\n",
              "      <td>NaN</td>\n",
              "      <td>NaN</td>\n",
              "      <td>NaN</td>\n",
              "      <td>NaN</td>\n",
              "      <td>NaN</td>\n",
              "      <td>NaN</td>\n",
              "      <td>NaN</td>\n",
              "      <td>NaN</td>\n",
              "    </tr>\n",
              "    <tr>\n",
              "      <td>4</td>\n",
              "      <td>5</td>\n",
              "      <td>89.238236</td>\n",
              "      <td>9.11456</td>\n",
              "      <td>NaN</td>\n",
              "      <td>NaN</td>\n",
              "      <td>NaN</td>\n",
              "      <td>NaN</td>\n",
              "      <td>NaN</td>\n",
              "      <td>NaN</td>\n",
              "      <td>NaN</td>\n",
              "    </tr>\n",
              "  </tbody>\n",
              "</table>\n",
              "</div>"
            ],
            "text/plain": [
              "   key     Wire 1   Wire 2  Wire 3  Wire 4  Wire 5  Wire 6  Wire 7  Wire 8  \\\n",
              "0    1  60.059998      NaN     NaN     NaN     NaN     NaN     NaN     NaN   \n",
              "1    2  96.052315      NaN     NaN     NaN     NaN     NaN     NaN     NaN   \n",
              "2    3  91.160157      NaN     NaN     NaN     NaN     NaN     NaN     NaN   \n",
              "3    4  89.063515      NaN     NaN     NaN     NaN     NaN     NaN     NaN   \n",
              "4    5  89.238236  9.11456     NaN     NaN     NaN     NaN     NaN     NaN   \n",
              "\n",
              "   Wire 9  \n",
              "0     NaN  \n",
              "1     NaN  \n",
              "2     NaN  \n",
              "3     NaN  \n",
              "4     NaN  "
            ]
          },
          "metadata": {
            "tags": []
          },
          "execution_count": 49
        }
      ]
    },
    {
      "cell_type": "code",
      "metadata": {
        "id": "lXN07t-C1Nqu",
        "outputId": "c49d0f45-38a0-496c-a750-32c2bff285e2"
      },
      "source": [
        "df_wire.tail()"
      ],
      "execution_count": null,
      "outputs": [
        {
          "output_type": "execute_result",
          "data": {
            "text/html": [
              "<div>\n",
              "<style scoped>\n",
              "    .dataframe tbody tr th:only-of-type {\n",
              "        vertical-align: middle;\n",
              "    }\n",
              "\n",
              "    .dataframe tbody tr th {\n",
              "        vertical-align: top;\n",
              "    }\n",
              "\n",
              "    .dataframe thead th {\n",
              "        text-align: right;\n",
              "    }\n",
              "</style>\n",
              "<table border=\"1\" class=\"dataframe\">\n",
              "  <thead>\n",
              "    <tr style=\"text-align: right;\">\n",
              "      <th></th>\n",
              "      <th>key</th>\n",
              "      <th>Wire 1</th>\n",
              "      <th>Wire 2</th>\n",
              "      <th>Wire 3</th>\n",
              "      <th>Wire 4</th>\n",
              "      <th>Wire 5</th>\n",
              "      <th>Wire 6</th>\n",
              "      <th>Wire 7</th>\n",
              "      <th>Wire 8</th>\n",
              "      <th>Wire 9</th>\n",
              "    </tr>\n",
              "  </thead>\n",
              "  <tbody>\n",
              "    <tr>\n",
              "      <td>3076</td>\n",
              "      <td>3237</td>\n",
              "      <td>38.088959</td>\n",
              "      <td>NaN</td>\n",
              "      <td>NaN</td>\n",
              "      <td>NaN</td>\n",
              "      <td>NaN</td>\n",
              "      <td>NaN</td>\n",
              "      <td>NaN</td>\n",
              "      <td>NaN</td>\n",
              "      <td>NaN</td>\n",
              "    </tr>\n",
              "    <tr>\n",
              "      <td>3077</td>\n",
              "      <td>3238</td>\n",
              "      <td>56.128799</td>\n",
              "      <td>NaN</td>\n",
              "      <td>NaN</td>\n",
              "      <td>NaN</td>\n",
              "      <td>NaN</td>\n",
              "      <td>NaN</td>\n",
              "      <td>NaN</td>\n",
              "      <td>NaN</td>\n",
              "      <td>NaN</td>\n",
              "    </tr>\n",
              "    <tr>\n",
              "      <td>3078</td>\n",
              "      <td>3239</td>\n",
              "      <td>143.357761</td>\n",
              "      <td>NaN</td>\n",
              "      <td>NaN</td>\n",
              "      <td>NaN</td>\n",
              "      <td>NaN</td>\n",
              "      <td>NaN</td>\n",
              "      <td>NaN</td>\n",
              "      <td>NaN</td>\n",
              "      <td>NaN</td>\n",
              "    </tr>\n",
              "    <tr>\n",
              "      <td>3079</td>\n",
              "      <td>3240</td>\n",
              "      <td>34.070400</td>\n",
              "      <td>NaN</td>\n",
              "      <td>NaN</td>\n",
              "      <td>NaN</td>\n",
              "      <td>NaN</td>\n",
              "      <td>NaN</td>\n",
              "      <td>NaN</td>\n",
              "      <td>NaN</td>\n",
              "      <td>NaN</td>\n",
              "    </tr>\n",
              "    <tr>\n",
              "      <td>3080</td>\n",
              "      <td>3241</td>\n",
              "      <td>63.117595</td>\n",
              "      <td>NaN</td>\n",
              "      <td>NaN</td>\n",
              "      <td>NaN</td>\n",
              "      <td>NaN</td>\n",
              "      <td>NaN</td>\n",
              "      <td>NaN</td>\n",
              "      <td>NaN</td>\n",
              "      <td>NaN</td>\n",
              "    </tr>\n",
              "  </tbody>\n",
              "</table>\n",
              "</div>"
            ],
            "text/plain": [
              "       key      Wire 1  Wire 2  Wire 3  Wire 4  Wire 5  Wire 6  Wire 7  \\\n",
              "3076  3237   38.088959     NaN     NaN     NaN     NaN     NaN     NaN   \n",
              "3077  3238   56.128799     NaN     NaN     NaN     NaN     NaN     NaN   \n",
              "3078  3239  143.357761     NaN     NaN     NaN     NaN     NaN     NaN   \n",
              "3079  3240   34.070400     NaN     NaN     NaN     NaN     NaN     NaN   \n",
              "3080  3241   63.117595     NaN     NaN     NaN     NaN     NaN     NaN   \n",
              "\n",
              "      Wire 8  Wire 9  \n",
              "3076     NaN     NaN  \n",
              "3077     NaN     NaN  \n",
              "3078     NaN     NaN  \n",
              "3079     NaN     NaN  \n",
              "3080     NaN     NaN  "
            ]
          },
          "metadata": {
            "tags": []
          },
          "execution_count": 50
        }
      ]
    },
    {
      "cell_type": "code",
      "metadata": {
        "id": "0aurQuK51Nqu",
        "outputId": "c5152aaa-a128-4bbf-ec39-70f5dd57c6c2"
      },
      "source": [
        "df_wire.info()"
      ],
      "execution_count": null,
      "outputs": [
        {
          "output_type": "stream",
          "text": [
            "<class 'pandas.core.frame.DataFrame'>\n",
            "RangeIndex: 3081 entries, 0 to 3080\n",
            "Data columns (total 10 columns):\n",
            "key       3081 non-null int64\n",
            "Wire 1    3055 non-null float64\n",
            "Wire 2    1079 non-null float64\n",
            "Wire 3    63 non-null float64\n",
            "Wire 4    14 non-null float64\n",
            "Wire 5    1 non-null float64\n",
            "Wire 6    73 non-null float64\n",
            "Wire 7    11 non-null float64\n",
            "Wire 8    19 non-null float64\n",
            "Wire 9    29 non-null float64\n",
            "dtypes: float64(9), int64(1)\n",
            "memory usage: 240.8 KB\n"
          ],
          "name": "stdout"
        }
      ]
    },
    {
      "cell_type": "code",
      "metadata": {
        "id": "MSpJGuaw1Nqu",
        "outputId": "79f18cb2-de30-47bc-e8ae-c9d909b8c9d0"
      },
      "source": [
        "df_wire.describe()"
      ],
      "execution_count": null,
      "outputs": [
        {
          "output_type": "execute_result",
          "data": {
            "text/html": [
              "<div>\n",
              "<style scoped>\n",
              "    .dataframe tbody tr th:only-of-type {\n",
              "        vertical-align: middle;\n",
              "    }\n",
              "\n",
              "    .dataframe tbody tr th {\n",
              "        vertical-align: top;\n",
              "    }\n",
              "\n",
              "    .dataframe thead th {\n",
              "        text-align: right;\n",
              "    }\n",
              "</style>\n",
              "<table border=\"1\" class=\"dataframe\">\n",
              "  <thead>\n",
              "    <tr style=\"text-align: right;\">\n",
              "      <th></th>\n",
              "      <th>key</th>\n",
              "      <th>Wire 1</th>\n",
              "      <th>Wire 2</th>\n",
              "      <th>Wire 3</th>\n",
              "      <th>Wire 4</th>\n",
              "      <th>Wire 5</th>\n",
              "      <th>Wire 6</th>\n",
              "      <th>Wire 7</th>\n",
              "      <th>Wire 8</th>\n",
              "      <th>Wire 9</th>\n",
              "    </tr>\n",
              "  </thead>\n",
              "  <tbody>\n",
              "    <tr>\n",
              "      <td>count</td>\n",
              "      <td>3081.000000</td>\n",
              "      <td>3055.000000</td>\n",
              "      <td>1079.000000</td>\n",
              "      <td>63.000000</td>\n",
              "      <td>14.000000</td>\n",
              "      <td>1.000</td>\n",
              "      <td>73.000000</td>\n",
              "      <td>11.000000</td>\n",
              "      <td>19.000000</td>\n",
              "      <td>29.000000</td>\n",
              "    </tr>\n",
              "    <tr>\n",
              "      <td>mean</td>\n",
              "      <td>1623.426485</td>\n",
              "      <td>100.895853</td>\n",
              "      <td>50.577323</td>\n",
              "      <td>189.482681</td>\n",
              "      <td>57.442841</td>\n",
              "      <td>15.132</td>\n",
              "      <td>48.016974</td>\n",
              "      <td>10.039007</td>\n",
              "      <td>53.625193</td>\n",
              "      <td>34.155752</td>\n",
              "    </tr>\n",
              "    <tr>\n",
              "      <td>std</td>\n",
              "      <td>932.996726</td>\n",
              "      <td>42.012518</td>\n",
              "      <td>39.320216</td>\n",
              "      <td>99.513444</td>\n",
              "      <td>28.824667</td>\n",
              "      <td>NaN</td>\n",
              "      <td>33.919845</td>\n",
              "      <td>8.610584</td>\n",
              "      <td>16.881728</td>\n",
              "      <td>19.931616</td>\n",
              "    </tr>\n",
              "    <tr>\n",
              "      <td>min</td>\n",
              "      <td>1.000000</td>\n",
              "      <td>1.918800</td>\n",
              "      <td>0.030160</td>\n",
              "      <td>0.144144</td>\n",
              "      <td>24.148801</td>\n",
              "      <td>15.132</td>\n",
              "      <td>0.034320</td>\n",
              "      <td>0.234208</td>\n",
              "      <td>45.076721</td>\n",
              "      <td>4.622800</td>\n",
              "    </tr>\n",
              "    <tr>\n",
              "      <td>25%</td>\n",
              "      <td>823.000000</td>\n",
              "      <td>72.115684</td>\n",
              "      <td>20.193680</td>\n",
              "      <td>95.135044</td>\n",
              "      <td>40.807002</td>\n",
              "      <td>15.132</td>\n",
              "      <td>25.053600</td>\n",
              "      <td>6.762756</td>\n",
              "      <td>46.094879</td>\n",
              "      <td>22.058401</td>\n",
              "    </tr>\n",
              "    <tr>\n",
              "      <td>50%</td>\n",
              "      <td>1619.000000</td>\n",
              "      <td>100.158234</td>\n",
              "      <td>40.142956</td>\n",
              "      <td>235.194977</td>\n",
              "      <td>45.234282</td>\n",
              "      <td>15.132</td>\n",
              "      <td>42.076324</td>\n",
              "      <td>9.017009</td>\n",
              "      <td>46.279999</td>\n",
              "      <td>30.066399</td>\n",
              "    </tr>\n",
              "    <tr>\n",
              "      <td>75%</td>\n",
              "      <td>2434.000000</td>\n",
              "      <td>126.060484</td>\n",
              "      <td>70.227558</td>\n",
              "      <td>276.252014</td>\n",
              "      <td>76.124619</td>\n",
              "      <td>15.132</td>\n",
              "      <td>64.212723</td>\n",
              "      <td>11.886057</td>\n",
              "      <td>48.089603</td>\n",
              "      <td>43.862003</td>\n",
              "    </tr>\n",
              "    <tr>\n",
              "      <td>max</td>\n",
              "      <td>3241.000000</td>\n",
              "      <td>330.314424</td>\n",
              "      <td>282.780152</td>\n",
              "      <td>385.008668</td>\n",
              "      <td>113.231044</td>\n",
              "      <td>15.132</td>\n",
              "      <td>180.454575</td>\n",
              "      <td>32.847674</td>\n",
              "      <td>102.762401</td>\n",
              "      <td>90.053604</td>\n",
              "    </tr>\n",
              "  </tbody>\n",
              "</table>\n",
              "</div>"
            ],
            "text/plain": [
              "               key       Wire 1       Wire 2      Wire 3      Wire 4  Wire 5  \\\n",
              "count  3081.000000  3055.000000  1079.000000   63.000000   14.000000   1.000   \n",
              "mean   1623.426485   100.895853    50.577323  189.482681   57.442841  15.132   \n",
              "std     932.996726    42.012518    39.320216   99.513444   28.824667     NaN   \n",
              "min       1.000000     1.918800     0.030160    0.144144   24.148801  15.132   \n",
              "25%     823.000000    72.115684    20.193680   95.135044   40.807002  15.132   \n",
              "50%    1619.000000   100.158234    40.142956  235.194977   45.234282  15.132   \n",
              "75%    2434.000000   126.060484    70.227558  276.252014   76.124619  15.132   \n",
              "max    3241.000000   330.314424   282.780152  385.008668  113.231044  15.132   \n",
              "\n",
              "           Wire 6     Wire 7      Wire 8     Wire 9  \n",
              "count   73.000000  11.000000   19.000000  29.000000  \n",
              "mean    48.016974  10.039007   53.625193  34.155752  \n",
              "std     33.919845   8.610584   16.881728  19.931616  \n",
              "min      0.034320   0.234208   45.076721   4.622800  \n",
              "25%     25.053600   6.762756   46.094879  22.058401  \n",
              "50%     42.076324   9.017009   46.279999  30.066399  \n",
              "75%     64.212723  11.886057   48.089603  43.862003  \n",
              "max    180.454575  32.847674  102.762401  90.053604  "
            ]
          },
          "metadata": {
            "tags": []
          },
          "execution_count": 52
        }
      ]
    },
    {
      "cell_type": "code",
      "metadata": {
        "id": "foo4SIgm1Nqw",
        "outputId": "b011f473-1dac-442a-8b4d-90584d7d5d38"
      },
      "source": [
        "missing_keys_wire = []\n",
        "\n",
        "for i in range(1, 3242):\n",
        "    if i not in df_wire['key'].unique():\n",
        "        missing_keys_wire.append(i)\n",
        "len(missing_keys_wire)"
      ],
      "execution_count": null,
      "outputs": [
        {
          "output_type": "execute_result",
          "data": {
            "text/plain": [
              "160"
            ]
          },
          "metadata": {
            "tags": []
          },
          "execution_count": 53
        }
      ]
    },
    {
      "cell_type": "code",
      "metadata": {
        "id": "PyODt8eP1Nqw",
        "outputId": "8108605f-5098-47dd-c68e-c43460bb5639"
      },
      "source": [
        "print(missing_keys_wire)"
      ],
      "execution_count": null,
      "outputs": [
        {
          "output_type": "stream",
          "text": [
            "[41, 42, 51, 52, 53, 54, 55, 56, 81, 82, 83, 84, 85, 88, 109, 195, 197, 209, 210, 211, 212, 269, 330, 331, 332, 355, 375, 376, 377, 378, 382, 506, 529, 540, 607, 683, 710, 711, 712, 713, 714, 715, 744, 748, 754, 755, 766, 796, 797, 798, 799, 800, 841, 929, 930, 931, 932, 933, 934, 1102, 1103, 1104, 1105, 1106, 1107, 1133, 1184, 1300, 1379, 1380, 1437, 1525, 1526, 1527, 1528, 1564, 1565, 1566, 1646, 1743, 1744, 1745, 1746, 1747, 1748, 1758, 1817, 1818, 1836, 1946, 1977, 1978, 1979, 2010, 2031, 2043, 2103, 2195, 2196, 2197, 2198, 2214, 2215, 2216, 2217, 2218, 2219, 2236, 2238, 2278, 2356, 2360, 2367, 2368, 2369, 2370, 2373, 2388, 2389, 2390, 2391, 2392, 2393, 2446, 2469, 2491, 2624, 2625, 2626, 2627, 2628, 2629, 2683, 2788, 2789, 2790, 2791, 2792, 2814, 2815, 2846, 2847, 2848, 2849, 2850, 2863, 2871, 2872, 2873, 2874, 2875, 2876, 3035, 3036, 3037, 3038, 3039, 3040, 3200, 3207]\n"
          ],
          "name": "stdout"
        }
      ]
    },
    {
      "cell_type": "code",
      "metadata": {
        "id": "Y3FEoSru1Nqx",
        "outputId": "0b1828ee-d243-4669-c7d2-786043566541"
      },
      "source": [
        "df_wire.duplicated().sum()"
      ],
      "execution_count": null,
      "outputs": [
        {
          "output_type": "execute_result",
          "data": {
            "text/plain": [
              "0"
            ]
          },
          "metadata": {
            "tags": []
          },
          "execution_count": 55
        }
      ]
    },
    {
      "cell_type": "markdown",
      "metadata": {
        "id": "l536m0rg1Nqx"
      },
      "source": [
        "Just like in the `df_bulk` dataset, the null values present in `df_wire` likely represent instances where 0 of the respective wire material was used.\n",
        "\n",
        "160 keys are missing from `df_wire`.\n",
        "\n",
        "Duplicated entries were not found."
      ]
    },
    {
      "cell_type": "markdown",
      "metadata": {
        "id": "EJwEWPZg1Nqx"
      },
      "source": [
        "### `df_wire_time`: wire materials data (time)"
      ]
    },
    {
      "cell_type": "code",
      "metadata": {
        "id": "7dNcaStY1Nqx",
        "outputId": "3aacb41f-09ea-4e87-c17c-625996605bc4"
      },
      "source": [
        "df_wire_time.head()"
      ],
      "execution_count": null,
      "outputs": [
        {
          "output_type": "execute_result",
          "data": {
            "text/html": [
              "<div>\n",
              "<style scoped>\n",
              "    .dataframe tbody tr th:only-of-type {\n",
              "        vertical-align: middle;\n",
              "    }\n",
              "\n",
              "    .dataframe tbody tr th {\n",
              "        vertical-align: top;\n",
              "    }\n",
              "\n",
              "    .dataframe thead th {\n",
              "        text-align: right;\n",
              "    }\n",
              "</style>\n",
              "<table border=\"1\" class=\"dataframe\">\n",
              "  <thead>\n",
              "    <tr style=\"text-align: right;\">\n",
              "      <th></th>\n",
              "      <th>key</th>\n",
              "      <th>Wire 1</th>\n",
              "      <th>Wire 2</th>\n",
              "      <th>Wire 3</th>\n",
              "      <th>Wire 4</th>\n",
              "      <th>Wire 5</th>\n",
              "      <th>Wire 6</th>\n",
              "      <th>Wire 7</th>\n",
              "      <th>Wire 8</th>\n",
              "      <th>Wire 9</th>\n",
              "    </tr>\n",
              "  </thead>\n",
              "  <tbody>\n",
              "    <tr>\n",
              "      <td>0</td>\n",
              "      <td>1</td>\n",
              "      <td>2019-05-03 11:11:41</td>\n",
              "      <td>NaN</td>\n",
              "      <td>NaN</td>\n",
              "      <td>NaN</td>\n",
              "      <td>NaN</td>\n",
              "      <td>NaN</td>\n",
              "      <td>NaN</td>\n",
              "      <td>NaN</td>\n",
              "      <td>NaN</td>\n",
              "    </tr>\n",
              "    <tr>\n",
              "      <td>1</td>\n",
              "      <td>2</td>\n",
              "      <td>2019-05-03 11:46:10</td>\n",
              "      <td>NaN</td>\n",
              "      <td>NaN</td>\n",
              "      <td>NaN</td>\n",
              "      <td>NaN</td>\n",
              "      <td>NaN</td>\n",
              "      <td>NaN</td>\n",
              "      <td>NaN</td>\n",
              "      <td>NaN</td>\n",
              "    </tr>\n",
              "    <tr>\n",
              "      <td>2</td>\n",
              "      <td>3</td>\n",
              "      <td>2019-05-03 12:13:47</td>\n",
              "      <td>NaN</td>\n",
              "      <td>NaN</td>\n",
              "      <td>NaN</td>\n",
              "      <td>NaN</td>\n",
              "      <td>NaN</td>\n",
              "      <td>NaN</td>\n",
              "      <td>NaN</td>\n",
              "      <td>NaN</td>\n",
              "    </tr>\n",
              "    <tr>\n",
              "      <td>3</td>\n",
              "      <td>4</td>\n",
              "      <td>2019-05-03 12:48:05</td>\n",
              "      <td>NaN</td>\n",
              "      <td>NaN</td>\n",
              "      <td>NaN</td>\n",
              "      <td>NaN</td>\n",
              "      <td>NaN</td>\n",
              "      <td>NaN</td>\n",
              "      <td>NaN</td>\n",
              "      <td>NaN</td>\n",
              "    </tr>\n",
              "    <tr>\n",
              "      <td>4</td>\n",
              "      <td>5</td>\n",
              "      <td>2019-05-03 13:18:15</td>\n",
              "      <td>2019-05-03 13:32:06</td>\n",
              "      <td>NaN</td>\n",
              "      <td>NaN</td>\n",
              "      <td>NaN</td>\n",
              "      <td>NaN</td>\n",
              "      <td>NaN</td>\n",
              "      <td>NaN</td>\n",
              "      <td>NaN</td>\n",
              "    </tr>\n",
              "  </tbody>\n",
              "</table>\n",
              "</div>"
            ],
            "text/plain": [
              "   key               Wire 1               Wire 2 Wire 3 Wire 4 Wire 5 Wire 6  \\\n",
              "0    1  2019-05-03 11:11:41                  NaN    NaN    NaN    NaN    NaN   \n",
              "1    2  2019-05-03 11:46:10                  NaN    NaN    NaN    NaN    NaN   \n",
              "2    3  2019-05-03 12:13:47                  NaN    NaN    NaN    NaN    NaN   \n",
              "3    4  2019-05-03 12:48:05                  NaN    NaN    NaN    NaN    NaN   \n",
              "4    5  2019-05-03 13:18:15  2019-05-03 13:32:06    NaN    NaN    NaN    NaN   \n",
              "\n",
              "  Wire 7 Wire 8 Wire 9  \n",
              "0    NaN    NaN    NaN  \n",
              "1    NaN    NaN    NaN  \n",
              "2    NaN    NaN    NaN  \n",
              "3    NaN    NaN    NaN  \n",
              "4    NaN    NaN    NaN  "
            ]
          },
          "metadata": {
            "tags": []
          },
          "execution_count": 56
        }
      ]
    },
    {
      "cell_type": "code",
      "metadata": {
        "id": "XZmK0BPW1Nqy",
        "outputId": "20936594-0d77-4230-fab2-d46f250997b6"
      },
      "source": [
        "df_wire_time.info()"
      ],
      "execution_count": null,
      "outputs": [
        {
          "output_type": "stream",
          "text": [
            "<class 'pandas.core.frame.DataFrame'>\n",
            "RangeIndex: 3081 entries, 0 to 3080\n",
            "Data columns (total 10 columns):\n",
            "key       3081 non-null int64\n",
            "Wire 1    3055 non-null object\n",
            "Wire 2    1079 non-null object\n",
            "Wire 3    63 non-null object\n",
            "Wire 4    14 non-null object\n",
            "Wire 5    1 non-null object\n",
            "Wire 6    73 non-null object\n",
            "Wire 7    11 non-null object\n",
            "Wire 8    19 non-null object\n",
            "Wire 9    29 non-null object\n",
            "dtypes: int64(1), object(9)\n",
            "memory usage: 240.8+ KB\n"
          ],
          "name": "stdout"
        }
      ]
    },
    {
      "cell_type": "code",
      "metadata": {
        "id": "Glj9uzSX1Nqy",
        "outputId": "cb0567b0-96e2-457f-a975-499bc35c643e"
      },
      "source": [
        "df_wire_time.describe()"
      ],
      "execution_count": null,
      "outputs": [
        {
          "output_type": "execute_result",
          "data": {
            "text/html": [
              "<div>\n",
              "<style scoped>\n",
              "    .dataframe tbody tr th:only-of-type {\n",
              "        vertical-align: middle;\n",
              "    }\n",
              "\n",
              "    .dataframe tbody tr th {\n",
              "        vertical-align: top;\n",
              "    }\n",
              "\n",
              "    .dataframe thead th {\n",
              "        text-align: right;\n",
              "    }\n",
              "</style>\n",
              "<table border=\"1\" class=\"dataframe\">\n",
              "  <thead>\n",
              "    <tr style=\"text-align: right;\">\n",
              "      <th></th>\n",
              "      <th>key</th>\n",
              "    </tr>\n",
              "  </thead>\n",
              "  <tbody>\n",
              "    <tr>\n",
              "      <td>count</td>\n",
              "      <td>3081.000000</td>\n",
              "    </tr>\n",
              "    <tr>\n",
              "      <td>mean</td>\n",
              "      <td>1623.426485</td>\n",
              "    </tr>\n",
              "    <tr>\n",
              "      <td>std</td>\n",
              "      <td>932.996726</td>\n",
              "    </tr>\n",
              "    <tr>\n",
              "      <td>min</td>\n",
              "      <td>1.000000</td>\n",
              "    </tr>\n",
              "    <tr>\n",
              "      <td>25%</td>\n",
              "      <td>823.000000</td>\n",
              "    </tr>\n",
              "    <tr>\n",
              "      <td>50%</td>\n",
              "      <td>1619.000000</td>\n",
              "    </tr>\n",
              "    <tr>\n",
              "      <td>75%</td>\n",
              "      <td>2434.000000</td>\n",
              "    </tr>\n",
              "    <tr>\n",
              "      <td>max</td>\n",
              "      <td>3241.000000</td>\n",
              "    </tr>\n",
              "  </tbody>\n",
              "</table>\n",
              "</div>"
            ],
            "text/plain": [
              "               key\n",
              "count  3081.000000\n",
              "mean   1623.426485\n",
              "std     932.996726\n",
              "min       1.000000\n",
              "25%     823.000000\n",
              "50%    1619.000000\n",
              "75%    2434.000000\n",
              "max    3241.000000"
            ]
          },
          "metadata": {
            "tags": []
          },
          "execution_count": 58
        }
      ]
    },
    {
      "cell_type": "code",
      "metadata": {
        "id": "YIkW-den1Nqy",
        "outputId": "597555ca-38a6-45f1-ca62-021a9c9d8f0c"
      },
      "source": [
        "df_wire_time.describe(include='object')"
      ],
      "execution_count": null,
      "outputs": [
        {
          "output_type": "execute_result",
          "data": {
            "text/html": [
              "<div>\n",
              "<style scoped>\n",
              "    .dataframe tbody tr th:only-of-type {\n",
              "        vertical-align: middle;\n",
              "    }\n",
              "\n",
              "    .dataframe tbody tr th {\n",
              "        vertical-align: top;\n",
              "    }\n",
              "\n",
              "    .dataframe thead th {\n",
              "        text-align: right;\n",
              "    }\n",
              "</style>\n",
              "<table border=\"1\" class=\"dataframe\">\n",
              "  <thead>\n",
              "    <tr style=\"text-align: right;\">\n",
              "      <th></th>\n",
              "      <th>Wire 1</th>\n",
              "      <th>Wire 2</th>\n",
              "      <th>Wire 3</th>\n",
              "      <th>Wire 4</th>\n",
              "      <th>Wire 5</th>\n",
              "      <th>Wire 6</th>\n",
              "      <th>Wire 7</th>\n",
              "      <th>Wire 8</th>\n",
              "      <th>Wire 9</th>\n",
              "    </tr>\n",
              "  </thead>\n",
              "  <tbody>\n",
              "    <tr>\n",
              "      <td>count</td>\n",
              "      <td>3055</td>\n",
              "      <td>1079</td>\n",
              "      <td>63</td>\n",
              "      <td>14</td>\n",
              "      <td>1</td>\n",
              "      <td>73</td>\n",
              "      <td>11</td>\n",
              "      <td>19</td>\n",
              "      <td>29</td>\n",
              "    </tr>\n",
              "    <tr>\n",
              "      <td>unique</td>\n",
              "      <td>3055</td>\n",
              "      <td>1079</td>\n",
              "      <td>63</td>\n",
              "      <td>14</td>\n",
              "      <td>1</td>\n",
              "      <td>73</td>\n",
              "      <td>11</td>\n",
              "      <td>19</td>\n",
              "      <td>29</td>\n",
              "    </tr>\n",
              "    <tr>\n",
              "      <td>top</td>\n",
              "      <td>2019-08-05 22:06:31</td>\n",
              "      <td>2019-05-22 00:29:24</td>\n",
              "      <td>2019-07-23 18:07:01</td>\n",
              "      <td>2019-07-23 18:09:32</td>\n",
              "      <td>2019-08-08 16:01:07</td>\n",
              "      <td>2019-05-08 18:52:53</td>\n",
              "      <td>2019-08-08 18:27:34</td>\n",
              "      <td>2019-07-18 18:58:07</td>\n",
              "      <td>2019-07-02 08:17:45</td>\n",
              "    </tr>\n",
              "    <tr>\n",
              "      <td>freq</td>\n",
              "      <td>1</td>\n",
              "      <td>1</td>\n",
              "      <td>1</td>\n",
              "      <td>1</td>\n",
              "      <td>1</td>\n",
              "      <td>1</td>\n",
              "      <td>1</td>\n",
              "      <td>1</td>\n",
              "      <td>1</td>\n",
              "    </tr>\n",
              "  </tbody>\n",
              "</table>\n",
              "</div>"
            ],
            "text/plain": [
              "                     Wire 1               Wire 2               Wire 3  \\\n",
              "count                  3055                 1079                   63   \n",
              "unique                 3055                 1079                   63   \n",
              "top     2019-08-05 22:06:31  2019-05-22 00:29:24  2019-07-23 18:07:01   \n",
              "freq                      1                    1                    1   \n",
              "\n",
              "                     Wire 4               Wire 5               Wire 6  \\\n",
              "count                    14                    1                   73   \n",
              "unique                   14                    1                   73   \n",
              "top     2019-07-23 18:09:32  2019-08-08 16:01:07  2019-05-08 18:52:53   \n",
              "freq                      1                    1                    1   \n",
              "\n",
              "                     Wire 7               Wire 8               Wire 9  \n",
              "count                    11                   19                   29  \n",
              "unique                   11                   19                   29  \n",
              "top     2019-08-08 18:27:34  2019-07-18 18:58:07  2019-07-02 08:17:45  \n",
              "freq                      1                    1                    1  "
            ]
          },
          "metadata": {
            "tags": []
          },
          "execution_count": 59
        }
      ]
    },
    {
      "cell_type": "code",
      "metadata": {
        "id": "EvqN8fwU1Nqz",
        "outputId": "05c87af7-b2f7-498b-b26f-d3ba0129e25c"
      },
      "source": [
        "missing_keys_wire_time = []\n",
        "\n",
        "for i in range(1, 3242):\n",
        "    if i not in df_wire_time['key'].unique():\n",
        "        missing_keys_wire_time.append(i)\n",
        "len(missing_keys_wire_time)"
      ],
      "execution_count": null,
      "outputs": [
        {
          "output_type": "execute_result",
          "data": {
            "text/plain": [
              "160"
            ]
          },
          "metadata": {
            "tags": []
          },
          "execution_count": 60
        }
      ]
    },
    {
      "cell_type": "code",
      "metadata": {
        "id": "nUjQDL3a1Nqz",
        "outputId": "66b1dd16-aa9f-4aaf-cab9-0c41d73f181f"
      },
      "source": [
        "print(missing_keys_wire_time)"
      ],
      "execution_count": null,
      "outputs": [
        {
          "output_type": "stream",
          "text": [
            "[41, 42, 51, 52, 53, 54, 55, 56, 81, 82, 83, 84, 85, 88, 109, 195, 197, 209, 210, 211, 212, 269, 330, 331, 332, 355, 375, 376, 377, 378, 382, 506, 529, 540, 607, 683, 710, 711, 712, 713, 714, 715, 744, 748, 754, 755, 766, 796, 797, 798, 799, 800, 841, 929, 930, 931, 932, 933, 934, 1102, 1103, 1104, 1105, 1106, 1107, 1133, 1184, 1300, 1379, 1380, 1437, 1525, 1526, 1527, 1528, 1564, 1565, 1566, 1646, 1743, 1744, 1745, 1746, 1747, 1748, 1758, 1817, 1818, 1836, 1946, 1977, 1978, 1979, 2010, 2031, 2043, 2103, 2195, 2196, 2197, 2198, 2214, 2215, 2216, 2217, 2218, 2219, 2236, 2238, 2278, 2356, 2360, 2367, 2368, 2369, 2370, 2373, 2388, 2389, 2390, 2391, 2392, 2393, 2446, 2469, 2491, 2624, 2625, 2626, 2627, 2628, 2629, 2683, 2788, 2789, 2790, 2791, 2792, 2814, 2815, 2846, 2847, 2848, 2849, 2850, 2863, 2871, 2872, 2873, 2874, 2875, 2876, 3035, 3036, 3037, 3038, 3039, 3040, 3200, 3207]\n"
          ],
          "name": "stdout"
        }
      ]
    },
    {
      "cell_type": "code",
      "metadata": {
        "id": "BT0ECj9F1Nq0",
        "outputId": "616a4e16-b300-4a5b-8653-40a675998f7a"
      },
      "source": [
        "df_wire_time.duplicated().sum()"
      ],
      "execution_count": null,
      "outputs": [
        {
          "output_type": "execute_result",
          "data": {
            "text/plain": [
              "0"
            ]
          },
          "metadata": {
            "tags": []
          },
          "execution_count": 62
        }
      ]
    },
    {
      "cell_type": "markdown",
      "metadata": {
        "id": "EA5QOGRT1Nq0"
      },
      "source": [
        "The null values in `df_wire_time` appear to match the null values in `df_wire`.\n",
        "\n",
        "The columns can also be converted into datatime columns.\n",
        "\n",
        "160 keys are missing from `df_wire_time`.\n",
        "\n",
        "No duplicates were found."
      ]
    },
    {
      "cell_type": "markdown",
      "metadata": {
        "id": "U2cImxAT1Nq0"
      },
      "source": [
        "## Conclusion"
      ]
    },
    {
      "cell_type": "markdown",
      "metadata": {
        "id": "qFJPPz481Nq0"
      },
      "source": [
        "7 files were opened and examined:\n",
        "\n",
        "- `data_arc_en.csv` — electrode data\n",
        "- `data_bulk_en.csv` — bulk material supply data (volume)\n",
        "- `data_bulk_time_en.csv` — bulk material delivery data (time)\n",
        "- `data_gas_en.csv` — gas purge data\n",
        "- `data_temp_en.csv` — temperature measurement results\n",
        "- `data_wire_en.csv` — wire materials data (volume)\n",
        "- `data_wire_time_en.csv` — wire materials data (time)\n",
        "\n",
        "In each file, the `key` column contains the batch number.\n",
        "\n",
        "Within these datasets, several things were noticed:\n",
        "\n",
        "Regarding null values,\n",
        "\n",
        "- There are no null values found in `df_arc`.\n",
        "- There are many null values in `df_bulk`. The null values possibly represent instances where 0 of the respective bulk material was used, since the minimum values for each column is all greater than 0.\n",
        "- It looks like the null values in `df_bulk_time` match the null values in `df_bulk`.\n",
        "- No null values exist for the keys that are in `df_gas`.\n",
        "- There are 2901 null values in the `Temperature` column in `df_temp`, starting with entries that have the 2500 key and up.\n",
        "- Just like in the `df_bulk` dataset, the null values present in `df_wire` likely represent instances where 0 of the respective wire material was used.\n",
        "- The null values in `df_wire_time` appear to match the null values in `df_wire`.\n",
        "\n",
        "\n",
        "Regarding missing keys,\n",
        "\n",
        "- 27 keys are missing from `df_arc`.\n",
        "- 112 keys do not exist in `df_bulk`.\n",
        "- 112 keys do not exist in `df_bulk_time`.\n",
        "- There are 2 keys missing from `df_gas`.\n",
        "- 25 keys are missing in `df_temp`.\n",
        "- 160 keys are missing from `df_wire`.\n",
        "- 160 keys are missing from `df_wire_time`.\n",
        "\n",
        "\n",
        "Some columns in the provided datasets are better suited as `datetime` column datatypes:\n",
        "\n",
        "- `Arc heating start` and `Arc heating end` in `df_arc`\n",
        "- All columns in `df_bulk_time`\n",
        "- `Sampling time` in `df_temp`\n",
        "- All columns in `df_wire_time`\n",
        "\n",
        "\n",
        "There is one negative value in `Reactive power` for the `df_arc` dataset.\n",
        "\n",
        "No duplicates were found for all 7 datasets."
      ]
    },
    {
      "cell_type": "markdown",
      "metadata": {
        "id": "LgvUjOlo1Nq2"
      },
      "source": [
        "## Plan for solving the task"
      ]
    },
    {
      "cell_type": "markdown",
      "metadata": {
        "id": "kFVK_9PH1Nq2"
      },
      "source": [
        "1. Handle the null values and consider the effect of the missing keys from the datasets\n",
        "2. Convert columns into the appropriate datatypes\n",
        "3. Combine the data into one dataset and possibly create new features\n",
        "4. Split the data into train, valid, and test\n",
        "5. Build models and choose the best one based on MAE"
      ]
    },
    {
      "cell_type": "markdown",
      "metadata": {
        "id": "o4aMESbM1Nq2"
      },
      "source": [
        "## Data Preprocessing"
      ]
    },
    {
      "cell_type": "code",
      "metadata": {
        "id": "kcDRII7e1Nq3",
        "outputId": "dd536b53-663a-4d60-fd37-a79607249008"
      },
      "source": [
        "for df, name in [(df_arc, 'df_arc'), \n",
        "                 (df_bulk, 'df_bulk'), \n",
        "                 (df_bulk_time, 'df_bulk_time'), \n",
        "                 (df_gas, 'df_gas'), \n",
        "                 (df_temp, 'df_temp'), \n",
        "                 (df_wire, 'df_wire'), \n",
        "                 (df_wire_time, 'df_wire_time')]:\n",
        "    print(\"% removed from\", name, \":\",  len(df[df['key'] >= 2500].index) / len(df.index))\n",
        "    df.drop(df[df['key'] >= 2500].index, inplace = True)"
      ],
      "execution_count": null,
      "outputs": [
        {
          "output_type": "stream",
          "text": [
            "% removed from df_arc : 0.2303710674912611\n",
            "% removed from df_bulk : 0.23042505592841164\n",
            "% removed from df_bulk_time : 0.23042505592841164\n",
            "% removed from df_gas : 0.22908305032417411\n",
            "% removed from df_temp : 0.22883007480983214\n",
            "% removed from df_wire : 0.22979552093476144\n",
            "% removed from df_wire_time : 0.22979552093476144\n"
          ],
          "name": "stdout"
        }
      ]
    },
    {
      "cell_type": "markdown",
      "metadata": {
        "id": "NOcW-ZPF1Nq3"
      },
      "source": [
        "We are dropping entries with a key of 2500 and up because they are lacking a high number of temperature values, which is our target in this study. It appears that only the first temperature measurement has been saved for iterations 2500 and up."
      ]
    },
    {
      "cell_type": "code",
      "metadata": {
        "id": "olAbTMhp1Nq3"
      },
      "source": [
        "df_bulk = df_bulk.fillna(0)"
      ],
      "execution_count": null,
      "outputs": []
    },
    {
      "cell_type": "code",
      "metadata": {
        "id": "-hepV5qV1Nq4"
      },
      "source": [
        "df_wire = df_wire.fillna(0)"
      ],
      "execution_count": null,
      "outputs": []
    },
    {
      "cell_type": "markdown",
      "metadata": {
        "id": "M1Yrf87o1Nq4"
      },
      "source": [
        "NA values in `df_bulk` and `df_wire` were filled in with 0's, since these are likely instances where 0 of the respective material was used."
      ]
    },
    {
      "cell_type": "markdown",
      "metadata": {
        "id": "4pKq6lOn1Nq4"
      },
      "source": [
        "The NA values in `df_bulk_time` and `df_wire_time` will be left alone because they appear irrelevant to the target result."
      ]
    },
    {
      "cell_type": "markdown",
      "metadata": {
        "id": "m0Jb5oO31Nq4"
      },
      "source": [
        "### Handling the missing keys"
      ]
    },
    {
      "cell_type": "code",
      "metadata": {
        "id": "39KtP6EA1Nq5",
        "outputId": "da005984-dce3-461f-a572-e1ff1b28af28"
      },
      "source": [
        "missing_keys_all = list(set(missing_keys_arc + missing_keys_bulk + missing_keys_gas + missing_keys_temp + missing_keys_wire))\n",
        "missing_keys_filtered = []\n",
        "\n",
        "for num in missing_keys_all:\n",
        "    if num < 2500:\n",
        "        missing_keys_filtered.append(num)\n",
        "\n",
        "print(len(missing_keys_filtered), 'keys under 2500 are missing data.')"
      ],
      "execution_count": null,
      "outputs": [
        {
          "output_type": "stream",
          "text": [
            "170 keys under 2500 are missing data.\n"
          ],
          "name": "stdout"
        }
      ]
    },
    {
      "cell_type": "code",
      "metadata": {
        "id": "hbud3CXt1NrM"
      },
      "source": [
        "for df in [df_arc, df_bulk, df_gas, df_temp, df_wire]:\n",
        "    for num in missing_keys_filtered:\n",
        "        df.drop(df[df['key'] == num].index, inplace = True)"
      ],
      "execution_count": null,
      "outputs": []
    },
    {
      "cell_type": "markdown",
      "metadata": {
        "id": "Vdqvwuyc1NrN"
      },
      "source": [
        "170 keys that are not present across all five datasets were removed, since these keys may be missing measurements that could have an effect on the final result."
      ]
    },
    {
      "cell_type": "markdown",
      "metadata": {
        "id": "mN3Im0hu1NrO"
      },
      "source": [
        "### Converting columns to the appropriate datatypes"
      ]
    },
    {
      "cell_type": "code",
      "metadata": {
        "id": "2gIT-smd1NrO"
      },
      "source": [
        "df_arc['Arc heating start'] = pd.to_datetime(df_arc['Arc heating start'])"
      ],
      "execution_count": null,
      "outputs": []
    },
    {
      "cell_type": "code",
      "metadata": {
        "id": "0MjhCnd21NrP"
      },
      "source": [
        "df_arc['Arc heating end'] = pd.to_datetime(df_arc['Arc heating end'])"
      ],
      "execution_count": null,
      "outputs": []
    },
    {
      "cell_type": "code",
      "metadata": {
        "id": "3ThEsGf41NrP"
      },
      "source": [
        "df_temp['Sampling time'] = pd.to_datetime(df_temp['Sampling time'])"
      ],
      "execution_count": null,
      "outputs": []
    },
    {
      "cell_type": "markdown",
      "metadata": {
        "id": "9BnVlEvL1NrP"
      },
      "source": [
        "### Handing negative values in `df_arc`"
      ]
    },
    {
      "cell_type": "code",
      "metadata": {
        "id": "sTfH7VPE1NrQ",
        "outputId": "3aeed152-0743-45db-9152-099f88fe6afc"
      },
      "source": [
        "df_arc[df_arc['Reactive power'] < 0]"
      ],
      "execution_count": null,
      "outputs": [
        {
          "output_type": "execute_result",
          "data": {
            "text/html": [
              "<div>\n",
              "<style scoped>\n",
              "    .dataframe tbody tr th:only-of-type {\n",
              "        vertical-align: middle;\n",
              "    }\n",
              "\n",
              "    .dataframe tbody tr th {\n",
              "        vertical-align: top;\n",
              "    }\n",
              "\n",
              "    .dataframe thead th {\n",
              "        text-align: right;\n",
              "    }\n",
              "</style>\n",
              "<table border=\"1\" class=\"dataframe\">\n",
              "  <thead>\n",
              "    <tr style=\"text-align: right;\">\n",
              "      <th></th>\n",
              "      <th>key</th>\n",
              "      <th>Arc heating start</th>\n",
              "      <th>Arc heating end</th>\n",
              "      <th>Active power</th>\n",
              "      <th>Reactive power</th>\n",
              "    </tr>\n",
              "  </thead>\n",
              "  <tbody>\n",
              "    <tr>\n",
              "      <td>9780</td>\n",
              "      <td>2116</td>\n",
              "      <td>2019-07-24 00:44:48</td>\n",
              "      <td>2019-07-24 00:46:37</td>\n",
              "      <td>0.495782</td>\n",
              "      <td>-715.504924</td>\n",
              "    </tr>\n",
              "  </tbody>\n",
              "</table>\n",
              "</div>"
            ],
            "text/plain": [
              "       key   Arc heating start     Arc heating end  Active power  \\\n",
              "9780  2116 2019-07-24 00:44:48 2019-07-24 00:46:37      0.495782   \n",
              "\n",
              "      Reactive power  \n",
              "9780     -715.504924  "
            ]
          },
          "metadata": {
            "tags": []
          },
          "execution_count": 71
        }
      ]
    },
    {
      "cell_type": "code",
      "metadata": {
        "id": "SkIw5ibd1NrQ"
      },
      "source": [
        "for df in [df_arc, df_bulk, df_gas, df_temp, df_wire]:\n",
        "    df.drop(df[df['key'] == 2116].index, inplace = True)"
      ],
      "execution_count": null,
      "outputs": []
    },
    {
      "cell_type": "markdown",
      "metadata": {
        "id": "1mlBk59H1NrR"
      },
      "source": [
        "Iteration 2116 contains a negative value for `Reactive power`, possibly due to a mistake in measurement. This is removed from the data to avoid any possible conflicts."
      ]
    },
    {
      "cell_type": "code",
      "metadata": {
        "id": "-KbLn0Pi1NrR",
        "outputId": "b5e4736d-7c88-4d02-f7a7-7ba897bd3be3"
      },
      "source": [
        "len(pd.unique(df_temp['key']))"
      ],
      "execution_count": null,
      "outputs": [
        {
          "output_type": "execute_result",
          "data": {
            "text/plain": [
              "2328"
            ]
          },
          "metadata": {
            "tags": []
          },
          "execution_count": 73
        }
      ]
    },
    {
      "cell_type": "markdown",
      "metadata": {
        "id": "CUAJxAfz1NrR"
      },
      "source": [
        "2328 iterations remain after handling the missing data."
      ]
    },
    {
      "cell_type": "markdown",
      "metadata": {
        "id": "SYrbhTpX1NrS"
      },
      "source": [
        "### Consolidating the data"
      ]
    },
    {
      "cell_type": "code",
      "metadata": {
        "id": "ERptvkbm1NrS"
      },
      "source": [
        "df = pd.DataFrame({'key': pd.unique(df_temp['key'])})\n",
        "df.set_index('key', inplace=True)"
      ],
      "execution_count": null,
      "outputs": []
    },
    {
      "cell_type": "code",
      "metadata": {
        "id": "JVt5QTsO1NrS"
      },
      "source": [
        "df['Initial Temperature'] = df_temp.pivot_table(index='key', values='Temperature', aggfunc='first')\n",
        "df['Final Temperature'] = df_temp.pivot_table(index='key', values='Temperature', aggfunc='last')\n",
        "\n",
        "df['Active Power'] = df_arc.pivot_table(index='key', values='Active power', aggfunc='sum')\n",
        "df['Reactive Power'] = df_arc.pivot_table(index='key', values='Reactive power', aggfunc='sum')"
      ],
      "execution_count": null,
      "outputs": []
    },
    {
      "cell_type": "code",
      "metadata": {
        "id": "a-ZX6Gqz1NrS"
      },
      "source": [
        "df = df.merge(df_bulk, on='key')\n",
        "df = df.merge(df_gas, on='key')\n",
        "df = df.merge(df_wire, on='key')"
      ],
      "execution_count": null,
      "outputs": []
    },
    {
      "cell_type": "code",
      "metadata": {
        "id": "Q3-1YbVR1NrT",
        "outputId": "52312879-ba19-4dba-d86c-c235ced4cc9e"
      },
      "source": [
        "df.head()"
      ],
      "execution_count": null,
      "outputs": [
        {
          "output_type": "execute_result",
          "data": {
            "text/html": [
              "<div>\n",
              "<style scoped>\n",
              "    .dataframe tbody tr th:only-of-type {\n",
              "        vertical-align: middle;\n",
              "    }\n",
              "\n",
              "    .dataframe tbody tr th {\n",
              "        vertical-align: top;\n",
              "    }\n",
              "\n",
              "    .dataframe thead th {\n",
              "        text-align: right;\n",
              "    }\n",
              "</style>\n",
              "<table border=\"1\" class=\"dataframe\">\n",
              "  <thead>\n",
              "    <tr style=\"text-align: right;\">\n",
              "      <th></th>\n",
              "      <th>key</th>\n",
              "      <th>Initial Temperature</th>\n",
              "      <th>Final Temperature</th>\n",
              "      <th>Active Power</th>\n",
              "      <th>Reactive Power</th>\n",
              "      <th>Bulk 1</th>\n",
              "      <th>Bulk 2</th>\n",
              "      <th>Bulk 3</th>\n",
              "      <th>Bulk 4</th>\n",
              "      <th>Bulk 5</th>\n",
              "      <th>...</th>\n",
              "      <th>Gas 1</th>\n",
              "      <th>Wire 1</th>\n",
              "      <th>Wire 2</th>\n",
              "      <th>Wire 3</th>\n",
              "      <th>Wire 4</th>\n",
              "      <th>Wire 5</th>\n",
              "      <th>Wire 6</th>\n",
              "      <th>Wire 7</th>\n",
              "      <th>Wire 8</th>\n",
              "      <th>Wire 9</th>\n",
              "    </tr>\n",
              "  </thead>\n",
              "  <tbody>\n",
              "    <tr>\n",
              "      <td>0</td>\n",
              "      <td>1</td>\n",
              "      <td>1571.0</td>\n",
              "      <td>1613.0</td>\n",
              "      <td>4.878147</td>\n",
              "      <td>3.183241</td>\n",
              "      <td>0.0</td>\n",
              "      <td>0.0</td>\n",
              "      <td>0.0</td>\n",
              "      <td>43.0</td>\n",
              "      <td>0.0</td>\n",
              "      <td>...</td>\n",
              "      <td>29.749986</td>\n",
              "      <td>60.059998</td>\n",
              "      <td>0.00000</td>\n",
              "      <td>0.0</td>\n",
              "      <td>0.0</td>\n",
              "      <td>0.0</td>\n",
              "      <td>0.0</td>\n",
              "      <td>0.0</td>\n",
              "      <td>0.0</td>\n",
              "      <td>0.0</td>\n",
              "    </tr>\n",
              "    <tr>\n",
              "      <td>1</td>\n",
              "      <td>2</td>\n",
              "      <td>1581.0</td>\n",
              "      <td>1602.0</td>\n",
              "      <td>3.052598</td>\n",
              "      <td>1.998112</td>\n",
              "      <td>0.0</td>\n",
              "      <td>0.0</td>\n",
              "      <td>0.0</td>\n",
              "      <td>73.0</td>\n",
              "      <td>0.0</td>\n",
              "      <td>...</td>\n",
              "      <td>12.555561</td>\n",
              "      <td>96.052315</td>\n",
              "      <td>0.00000</td>\n",
              "      <td>0.0</td>\n",
              "      <td>0.0</td>\n",
              "      <td>0.0</td>\n",
              "      <td>0.0</td>\n",
              "      <td>0.0</td>\n",
              "      <td>0.0</td>\n",
              "      <td>0.0</td>\n",
              "    </tr>\n",
              "    <tr>\n",
              "      <td>2</td>\n",
              "      <td>3</td>\n",
              "      <td>1596.0</td>\n",
              "      <td>1599.0</td>\n",
              "      <td>2.525882</td>\n",
              "      <td>1.599076</td>\n",
              "      <td>0.0</td>\n",
              "      <td>0.0</td>\n",
              "      <td>0.0</td>\n",
              "      <td>34.0</td>\n",
              "      <td>0.0</td>\n",
              "      <td>...</td>\n",
              "      <td>28.554793</td>\n",
              "      <td>91.160157</td>\n",
              "      <td>0.00000</td>\n",
              "      <td>0.0</td>\n",
              "      <td>0.0</td>\n",
              "      <td>0.0</td>\n",
              "      <td>0.0</td>\n",
              "      <td>0.0</td>\n",
              "      <td>0.0</td>\n",
              "      <td>0.0</td>\n",
              "    </tr>\n",
              "    <tr>\n",
              "      <td>3</td>\n",
              "      <td>4</td>\n",
              "      <td>1601.0</td>\n",
              "      <td>1625.0</td>\n",
              "      <td>3.209250</td>\n",
              "      <td>2.060298</td>\n",
              "      <td>0.0</td>\n",
              "      <td>0.0</td>\n",
              "      <td>0.0</td>\n",
              "      <td>81.0</td>\n",
              "      <td>0.0</td>\n",
              "      <td>...</td>\n",
              "      <td>18.841219</td>\n",
              "      <td>89.063515</td>\n",
              "      <td>0.00000</td>\n",
              "      <td>0.0</td>\n",
              "      <td>0.0</td>\n",
              "      <td>0.0</td>\n",
              "      <td>0.0</td>\n",
              "      <td>0.0</td>\n",
              "      <td>0.0</td>\n",
              "      <td>0.0</td>\n",
              "    </tr>\n",
              "    <tr>\n",
              "      <td>4</td>\n",
              "      <td>5</td>\n",
              "      <td>1576.0</td>\n",
              "      <td>1602.0</td>\n",
              "      <td>3.347173</td>\n",
              "      <td>2.252643</td>\n",
              "      <td>0.0</td>\n",
              "      <td>0.0</td>\n",
              "      <td>0.0</td>\n",
              "      <td>78.0</td>\n",
              "      <td>0.0</td>\n",
              "      <td>...</td>\n",
              "      <td>5.413692</td>\n",
              "      <td>89.238236</td>\n",
              "      <td>9.11456</td>\n",
              "      <td>0.0</td>\n",
              "      <td>0.0</td>\n",
              "      <td>0.0</td>\n",
              "      <td>0.0</td>\n",
              "      <td>0.0</td>\n",
              "      <td>0.0</td>\n",
              "      <td>0.0</td>\n",
              "    </tr>\n",
              "  </tbody>\n",
              "</table>\n",
              "<p>5 rows × 30 columns</p>\n",
              "</div>"
            ],
            "text/plain": [
              "   key  Initial Temperature  Final Temperature  Active Power  Reactive Power  \\\n",
              "0    1               1571.0             1613.0      4.878147        3.183241   \n",
              "1    2               1581.0             1602.0      3.052598        1.998112   \n",
              "2    3               1596.0             1599.0      2.525882        1.599076   \n",
              "3    4               1601.0             1625.0      3.209250        2.060298   \n",
              "4    5               1576.0             1602.0      3.347173        2.252643   \n",
              "\n",
              "   Bulk 1  Bulk 2  Bulk 3  Bulk 4  Bulk 5  ...      Gas 1     Wire 1   Wire 2  \\\n",
              "0     0.0     0.0     0.0    43.0     0.0  ...  29.749986  60.059998  0.00000   \n",
              "1     0.0     0.0     0.0    73.0     0.0  ...  12.555561  96.052315  0.00000   \n",
              "2     0.0     0.0     0.0    34.0     0.0  ...  28.554793  91.160157  0.00000   \n",
              "3     0.0     0.0     0.0    81.0     0.0  ...  18.841219  89.063515  0.00000   \n",
              "4     0.0     0.0     0.0    78.0     0.0  ...   5.413692  89.238236  9.11456   \n",
              "\n",
              "   Wire 3  Wire 4  Wire 5  Wire 6  Wire 7  Wire 8  Wire 9  \n",
              "0     0.0     0.0     0.0     0.0     0.0     0.0     0.0  \n",
              "1     0.0     0.0     0.0     0.0     0.0     0.0     0.0  \n",
              "2     0.0     0.0     0.0     0.0     0.0     0.0     0.0  \n",
              "3     0.0     0.0     0.0     0.0     0.0     0.0     0.0  \n",
              "4     0.0     0.0     0.0     0.0     0.0     0.0     0.0  \n",
              "\n",
              "[5 rows x 30 columns]"
            ]
          },
          "metadata": {
            "tags": []
          },
          "execution_count": 77
        }
      ]
    },
    {
      "cell_type": "code",
      "metadata": {
        "id": "_oOjdb7U1NrT",
        "outputId": "4199a47b-4a18-45be-eef6-06b3c519bd37"
      },
      "source": [
        "df.tail()"
      ],
      "execution_count": null,
      "outputs": [
        {
          "output_type": "execute_result",
          "data": {
            "text/html": [
              "<div>\n",
              "<style scoped>\n",
              "    .dataframe tbody tr th:only-of-type {\n",
              "        vertical-align: middle;\n",
              "    }\n",
              "\n",
              "    .dataframe tbody tr th {\n",
              "        vertical-align: top;\n",
              "    }\n",
              "\n",
              "    .dataframe thead th {\n",
              "        text-align: right;\n",
              "    }\n",
              "</style>\n",
              "<table border=\"1\" class=\"dataframe\">\n",
              "  <thead>\n",
              "    <tr style=\"text-align: right;\">\n",
              "      <th></th>\n",
              "      <th>key</th>\n",
              "      <th>Initial Temperature</th>\n",
              "      <th>Final Temperature</th>\n",
              "      <th>Active Power</th>\n",
              "      <th>Reactive Power</th>\n",
              "      <th>Bulk 1</th>\n",
              "      <th>Bulk 2</th>\n",
              "      <th>Bulk 3</th>\n",
              "      <th>Bulk 4</th>\n",
              "      <th>Bulk 5</th>\n",
              "      <th>...</th>\n",
              "      <th>Gas 1</th>\n",
              "      <th>Wire 1</th>\n",
              "      <th>Wire 2</th>\n",
              "      <th>Wire 3</th>\n",
              "      <th>Wire 4</th>\n",
              "      <th>Wire 5</th>\n",
              "      <th>Wire 6</th>\n",
              "      <th>Wire 7</th>\n",
              "      <th>Wire 8</th>\n",
              "      <th>Wire 9</th>\n",
              "    </tr>\n",
              "  </thead>\n",
              "  <tbody>\n",
              "    <tr>\n",
              "      <td>2323</td>\n",
              "      <td>2495</td>\n",
              "      <td>1570.0</td>\n",
              "      <td>1591.0</td>\n",
              "      <td>3.210690</td>\n",
              "      <td>2.360777</td>\n",
              "      <td>0.0</td>\n",
              "      <td>0.0</td>\n",
              "      <td>21.0</td>\n",
              "      <td>0.0</td>\n",
              "      <td>0.0</td>\n",
              "      <td>...</td>\n",
              "      <td>7.125735</td>\n",
              "      <td>89.150879</td>\n",
              "      <td>0.00000</td>\n",
              "      <td>0.0</td>\n",
              "      <td>0.0</td>\n",
              "      <td>0.0</td>\n",
              "      <td>0.0</td>\n",
              "      <td>0.0</td>\n",
              "      <td>0.0</td>\n",
              "      <td>0.0</td>\n",
              "    </tr>\n",
              "    <tr>\n",
              "      <td>2324</td>\n",
              "      <td>2496</td>\n",
              "      <td>1554.0</td>\n",
              "      <td>1591.0</td>\n",
              "      <td>4.203064</td>\n",
              "      <td>2.810185</td>\n",
              "      <td>0.0</td>\n",
              "      <td>0.0</td>\n",
              "      <td>0.0</td>\n",
              "      <td>63.0</td>\n",
              "      <td>0.0</td>\n",
              "      <td>...</td>\n",
              "      <td>9.412616</td>\n",
              "      <td>114.179527</td>\n",
              "      <td>0.00000</td>\n",
              "      <td>0.0</td>\n",
              "      <td>0.0</td>\n",
              "      <td>0.0</td>\n",
              "      <td>0.0</td>\n",
              "      <td>0.0</td>\n",
              "      <td>0.0</td>\n",
              "      <td>0.0</td>\n",
              "    </tr>\n",
              "    <tr>\n",
              "      <td>2325</td>\n",
              "      <td>2497</td>\n",
              "      <td>1571.0</td>\n",
              "      <td>1589.0</td>\n",
              "      <td>2.212379</td>\n",
              "      <td>1.851269</td>\n",
              "      <td>0.0</td>\n",
              "      <td>0.0</td>\n",
              "      <td>0.0</td>\n",
              "      <td>85.0</td>\n",
              "      <td>0.0</td>\n",
              "      <td>...</td>\n",
              "      <td>6.271699</td>\n",
              "      <td>94.086723</td>\n",
              "      <td>9.04800</td>\n",
              "      <td>0.0</td>\n",
              "      <td>0.0</td>\n",
              "      <td>0.0</td>\n",
              "      <td>0.0</td>\n",
              "      <td>0.0</td>\n",
              "      <td>0.0</td>\n",
              "      <td>0.0</td>\n",
              "    </tr>\n",
              "    <tr>\n",
              "      <td>2326</td>\n",
              "      <td>2498</td>\n",
              "      <td>1591.0</td>\n",
              "      <td>1594.0</td>\n",
              "      <td>3.408725</td>\n",
              "      <td>2.355428</td>\n",
              "      <td>0.0</td>\n",
              "      <td>0.0</td>\n",
              "      <td>90.0</td>\n",
              "      <td>0.0</td>\n",
              "      <td>0.0</td>\n",
              "      <td>...</td>\n",
              "      <td>14.953657</td>\n",
              "      <td>118.110717</td>\n",
              "      <td>0.00000</td>\n",
              "      <td>0.0</td>\n",
              "      <td>0.0</td>\n",
              "      <td>0.0</td>\n",
              "      <td>0.0</td>\n",
              "      <td>0.0</td>\n",
              "      <td>0.0</td>\n",
              "      <td>0.0</td>\n",
              "    </tr>\n",
              "    <tr>\n",
              "      <td>2327</td>\n",
              "      <td>2499</td>\n",
              "      <td>1569.0</td>\n",
              "      <td>1603.0</td>\n",
              "      <td>4.098431</td>\n",
              "      <td>2.777865</td>\n",
              "      <td>0.0</td>\n",
              "      <td>0.0</td>\n",
              "      <td>47.0</td>\n",
              "      <td>0.0</td>\n",
              "      <td>0.0</td>\n",
              "      <td>...</td>\n",
              "      <td>11.336151</td>\n",
              "      <td>110.160958</td>\n",
              "      <td>50.00528</td>\n",
              "      <td>0.0</td>\n",
              "      <td>0.0</td>\n",
              "      <td>0.0</td>\n",
              "      <td>0.0</td>\n",
              "      <td>0.0</td>\n",
              "      <td>0.0</td>\n",
              "      <td>0.0</td>\n",
              "    </tr>\n",
              "  </tbody>\n",
              "</table>\n",
              "<p>5 rows × 30 columns</p>\n",
              "</div>"
            ],
            "text/plain": [
              "       key  Initial Temperature  Final Temperature  Active Power  \\\n",
              "2323  2495               1570.0             1591.0      3.210690   \n",
              "2324  2496               1554.0             1591.0      4.203064   \n",
              "2325  2497               1571.0             1589.0      2.212379   \n",
              "2326  2498               1591.0             1594.0      3.408725   \n",
              "2327  2499               1569.0             1603.0      4.098431   \n",
              "\n",
              "      Reactive Power  Bulk 1  Bulk 2  Bulk 3  Bulk 4  Bulk 5  ...      Gas 1  \\\n",
              "2323        2.360777     0.0     0.0    21.0     0.0     0.0  ...   7.125735   \n",
              "2324        2.810185     0.0     0.0     0.0    63.0     0.0  ...   9.412616   \n",
              "2325        1.851269     0.0     0.0     0.0    85.0     0.0  ...   6.271699   \n",
              "2326        2.355428     0.0     0.0    90.0     0.0     0.0  ...  14.953657   \n",
              "2327        2.777865     0.0     0.0    47.0     0.0     0.0  ...  11.336151   \n",
              "\n",
              "          Wire 1    Wire 2  Wire 3  Wire 4  Wire 5  Wire 6  Wire 7  Wire 8  \\\n",
              "2323   89.150879   0.00000     0.0     0.0     0.0     0.0     0.0     0.0   \n",
              "2324  114.179527   0.00000     0.0     0.0     0.0     0.0     0.0     0.0   \n",
              "2325   94.086723   9.04800     0.0     0.0     0.0     0.0     0.0     0.0   \n",
              "2326  118.110717   0.00000     0.0     0.0     0.0     0.0     0.0     0.0   \n",
              "2327  110.160958  50.00528     0.0     0.0     0.0     0.0     0.0     0.0   \n",
              "\n",
              "      Wire 9  \n",
              "2323     0.0  \n",
              "2324     0.0  \n",
              "2325     0.0  \n",
              "2326     0.0  \n",
              "2327     0.0  \n",
              "\n",
              "[5 rows x 30 columns]"
            ]
          },
          "metadata": {
            "tags": []
          },
          "execution_count": 78
        }
      ]
    },
    {
      "cell_type": "code",
      "metadata": {
        "id": "rCS-4xUo1NrT",
        "outputId": "45e47ed7-bd5a-4b8e-a233-cf7dc9ca1d62"
      },
      "source": [
        "df.info()"
      ],
      "execution_count": null,
      "outputs": [
        {
          "output_type": "stream",
          "text": [
            "<class 'pandas.core.frame.DataFrame'>\n",
            "Int64Index: 2328 entries, 0 to 2327\n",
            "Data columns (total 30 columns):\n",
            "key                    2328 non-null int64\n",
            "Initial Temperature    2328 non-null float64\n",
            "Final Temperature      2328 non-null float64\n",
            "Active Power           2328 non-null float64\n",
            "Reactive Power         2328 non-null float64\n",
            "Bulk 1                 2328 non-null float64\n",
            "Bulk 2                 2328 non-null float64\n",
            "Bulk 3                 2328 non-null float64\n",
            "Bulk 4                 2328 non-null float64\n",
            "Bulk 5                 2328 non-null float64\n",
            "Bulk 6                 2328 non-null float64\n",
            "Bulk 7                 2328 non-null float64\n",
            "Bulk 8                 2328 non-null float64\n",
            "Bulk 9                 2328 non-null float64\n",
            "Bulk 10                2328 non-null float64\n",
            "Bulk 11                2328 non-null float64\n",
            "Bulk 12                2328 non-null float64\n",
            "Bulk 13                2328 non-null float64\n",
            "Bulk 14                2328 non-null float64\n",
            "Bulk 15                2328 non-null float64\n",
            "Gas 1                  2328 non-null float64\n",
            "Wire 1                 2328 non-null float64\n",
            "Wire 2                 2328 non-null float64\n",
            "Wire 3                 2328 non-null float64\n",
            "Wire 4                 2328 non-null float64\n",
            "Wire 5                 2328 non-null float64\n",
            "Wire 6                 2328 non-null float64\n",
            "Wire 7                 2328 non-null float64\n",
            "Wire 8                 2328 non-null float64\n",
            "Wire 9                 2328 non-null float64\n",
            "dtypes: float64(29), int64(1)\n",
            "memory usage: 563.8 KB\n"
          ],
          "name": "stdout"
        }
      ]
    },
    {
      "cell_type": "markdown",
      "metadata": {
        "id": "j8zyXR2p1NrU"
      },
      "source": [
        "### Creating the target and features"
      ]
    },
    {
      "cell_type": "code",
      "metadata": {
        "id": "gMrUMHkQ1NrU"
      },
      "source": [
        "target = df['Final Temperature']\n",
        "features = df.drop(['Final Temperature', 'key'], axis=1)"
      ],
      "execution_count": null,
      "outputs": []
    },
    {
      "cell_type": "code",
      "metadata": {
        "id": "GoQyB32P1NrU",
        "outputId": "1682e425-8ff7-40e9-ea39-2ab3927929db"
      },
      "source": [
        "features.head()"
      ],
      "execution_count": null,
      "outputs": [
        {
          "output_type": "execute_result",
          "data": {
            "text/html": [
              "<div>\n",
              "<style scoped>\n",
              "    .dataframe tbody tr th:only-of-type {\n",
              "        vertical-align: middle;\n",
              "    }\n",
              "\n",
              "    .dataframe tbody tr th {\n",
              "        vertical-align: top;\n",
              "    }\n",
              "\n",
              "    .dataframe thead th {\n",
              "        text-align: right;\n",
              "    }\n",
              "</style>\n",
              "<table border=\"1\" class=\"dataframe\">\n",
              "  <thead>\n",
              "    <tr style=\"text-align: right;\">\n",
              "      <th></th>\n",
              "      <th>Initial Temperature</th>\n",
              "      <th>Active Power</th>\n",
              "      <th>Reactive Power</th>\n",
              "      <th>Bulk 1</th>\n",
              "      <th>Bulk 2</th>\n",
              "      <th>Bulk 3</th>\n",
              "      <th>Bulk 4</th>\n",
              "      <th>Bulk 5</th>\n",
              "      <th>Bulk 6</th>\n",
              "      <th>Bulk 7</th>\n",
              "      <th>...</th>\n",
              "      <th>Gas 1</th>\n",
              "      <th>Wire 1</th>\n",
              "      <th>Wire 2</th>\n",
              "      <th>Wire 3</th>\n",
              "      <th>Wire 4</th>\n",
              "      <th>Wire 5</th>\n",
              "      <th>Wire 6</th>\n",
              "      <th>Wire 7</th>\n",
              "      <th>Wire 8</th>\n",
              "      <th>Wire 9</th>\n",
              "    </tr>\n",
              "  </thead>\n",
              "  <tbody>\n",
              "    <tr>\n",
              "      <td>0</td>\n",
              "      <td>1571.0</td>\n",
              "      <td>4.878147</td>\n",
              "      <td>3.183241</td>\n",
              "      <td>0.0</td>\n",
              "      <td>0.0</td>\n",
              "      <td>0.0</td>\n",
              "      <td>43.0</td>\n",
              "      <td>0.0</td>\n",
              "      <td>0.0</td>\n",
              "      <td>0.0</td>\n",
              "      <td>...</td>\n",
              "      <td>29.749986</td>\n",
              "      <td>60.059998</td>\n",
              "      <td>0.00000</td>\n",
              "      <td>0.0</td>\n",
              "      <td>0.0</td>\n",
              "      <td>0.0</td>\n",
              "      <td>0.0</td>\n",
              "      <td>0.0</td>\n",
              "      <td>0.0</td>\n",
              "      <td>0.0</td>\n",
              "    </tr>\n",
              "    <tr>\n",
              "      <td>1</td>\n",
              "      <td>1581.0</td>\n",
              "      <td>3.052598</td>\n",
              "      <td>1.998112</td>\n",
              "      <td>0.0</td>\n",
              "      <td>0.0</td>\n",
              "      <td>0.0</td>\n",
              "      <td>73.0</td>\n",
              "      <td>0.0</td>\n",
              "      <td>0.0</td>\n",
              "      <td>0.0</td>\n",
              "      <td>...</td>\n",
              "      <td>12.555561</td>\n",
              "      <td>96.052315</td>\n",
              "      <td>0.00000</td>\n",
              "      <td>0.0</td>\n",
              "      <td>0.0</td>\n",
              "      <td>0.0</td>\n",
              "      <td>0.0</td>\n",
              "      <td>0.0</td>\n",
              "      <td>0.0</td>\n",
              "      <td>0.0</td>\n",
              "    </tr>\n",
              "    <tr>\n",
              "      <td>2</td>\n",
              "      <td>1596.0</td>\n",
              "      <td>2.525882</td>\n",
              "      <td>1.599076</td>\n",
              "      <td>0.0</td>\n",
              "      <td>0.0</td>\n",
              "      <td>0.0</td>\n",
              "      <td>34.0</td>\n",
              "      <td>0.0</td>\n",
              "      <td>0.0</td>\n",
              "      <td>0.0</td>\n",
              "      <td>...</td>\n",
              "      <td>28.554793</td>\n",
              "      <td>91.160157</td>\n",
              "      <td>0.00000</td>\n",
              "      <td>0.0</td>\n",
              "      <td>0.0</td>\n",
              "      <td>0.0</td>\n",
              "      <td>0.0</td>\n",
              "      <td>0.0</td>\n",
              "      <td>0.0</td>\n",
              "      <td>0.0</td>\n",
              "    </tr>\n",
              "    <tr>\n",
              "      <td>3</td>\n",
              "      <td>1601.0</td>\n",
              "      <td>3.209250</td>\n",
              "      <td>2.060298</td>\n",
              "      <td>0.0</td>\n",
              "      <td>0.0</td>\n",
              "      <td>0.0</td>\n",
              "      <td>81.0</td>\n",
              "      <td>0.0</td>\n",
              "      <td>0.0</td>\n",
              "      <td>0.0</td>\n",
              "      <td>...</td>\n",
              "      <td>18.841219</td>\n",
              "      <td>89.063515</td>\n",
              "      <td>0.00000</td>\n",
              "      <td>0.0</td>\n",
              "      <td>0.0</td>\n",
              "      <td>0.0</td>\n",
              "      <td>0.0</td>\n",
              "      <td>0.0</td>\n",
              "      <td>0.0</td>\n",
              "      <td>0.0</td>\n",
              "    </tr>\n",
              "    <tr>\n",
              "      <td>4</td>\n",
              "      <td>1576.0</td>\n",
              "      <td>3.347173</td>\n",
              "      <td>2.252643</td>\n",
              "      <td>0.0</td>\n",
              "      <td>0.0</td>\n",
              "      <td>0.0</td>\n",
              "      <td>78.0</td>\n",
              "      <td>0.0</td>\n",
              "      <td>0.0</td>\n",
              "      <td>0.0</td>\n",
              "      <td>...</td>\n",
              "      <td>5.413692</td>\n",
              "      <td>89.238236</td>\n",
              "      <td>9.11456</td>\n",
              "      <td>0.0</td>\n",
              "      <td>0.0</td>\n",
              "      <td>0.0</td>\n",
              "      <td>0.0</td>\n",
              "      <td>0.0</td>\n",
              "      <td>0.0</td>\n",
              "      <td>0.0</td>\n",
              "    </tr>\n",
              "  </tbody>\n",
              "</table>\n",
              "<p>5 rows × 28 columns</p>\n",
              "</div>"
            ],
            "text/plain": [
              "   Initial Temperature  Active Power  Reactive Power  Bulk 1  Bulk 2  Bulk 3  \\\n",
              "0               1571.0      4.878147        3.183241     0.0     0.0     0.0   \n",
              "1               1581.0      3.052598        1.998112     0.0     0.0     0.0   \n",
              "2               1596.0      2.525882        1.599076     0.0     0.0     0.0   \n",
              "3               1601.0      3.209250        2.060298     0.0     0.0     0.0   \n",
              "4               1576.0      3.347173        2.252643     0.0     0.0     0.0   \n",
              "\n",
              "   Bulk 4  Bulk 5  Bulk 6  Bulk 7  ...      Gas 1     Wire 1   Wire 2  Wire 3  \\\n",
              "0    43.0     0.0     0.0     0.0  ...  29.749986  60.059998  0.00000     0.0   \n",
              "1    73.0     0.0     0.0     0.0  ...  12.555561  96.052315  0.00000     0.0   \n",
              "2    34.0     0.0     0.0     0.0  ...  28.554793  91.160157  0.00000     0.0   \n",
              "3    81.0     0.0     0.0     0.0  ...  18.841219  89.063515  0.00000     0.0   \n",
              "4    78.0     0.0     0.0     0.0  ...   5.413692  89.238236  9.11456     0.0   \n",
              "\n",
              "   Wire 4  Wire 5  Wire 6  Wire 7  Wire 8  Wire 9  \n",
              "0     0.0     0.0     0.0     0.0     0.0     0.0  \n",
              "1     0.0     0.0     0.0     0.0     0.0     0.0  \n",
              "2     0.0     0.0     0.0     0.0     0.0     0.0  \n",
              "3     0.0     0.0     0.0     0.0     0.0     0.0  \n",
              "4     0.0     0.0     0.0     0.0     0.0     0.0  \n",
              "\n",
              "[5 rows x 28 columns]"
            ]
          },
          "metadata": {
            "tags": []
          },
          "execution_count": 81
        }
      ]
    },
    {
      "cell_type": "markdown",
      "metadata": {
        "id": "sOS0spYZ1NrV"
      },
      "source": [
        "### Splitting the data into a 3:1:1 ratio"
      ]
    },
    {
      "cell_type": "code",
      "metadata": {
        "id": "oo-Y13wA1NrV"
      },
      "source": [
        "features_train, features_valid, target_train, target_valid = train_test_split(features, target, test_size=0.4, random_state = 12345)\n",
        "features_valid, features_test, target_valid, target_test = train_test_split(features_valid, target_valid, test_size=0.5, shuffle = False)"
      ],
      "execution_count": null,
      "outputs": []
    },
    {
      "cell_type": "code",
      "metadata": {
        "id": "ByXZ0Ns11NrV",
        "outputId": "93e82d77-2263-4f69-df15-d86079730e0f"
      },
      "source": [
        "print(\"--- Train Sizes (Rows, Columns) ---\")\n",
        "print(\"target_train:\", target_train.shape)\n",
        "print(\"features_train:\", features_train.shape)\n",
        "print(\"\")\n",
        "print(\"--- Valid Sizes (Rows, Columns) ---\")\n",
        "print(\"target_valid:\", target_valid.shape)\n",
        "print(\"features_valid:\", features_valid.shape)\n",
        "print(\"\")\n",
        "print(\"--- Test Sizes (Rows, Columns) ---\")\n",
        "print(\"target_test:\", target_test.shape)\n",
        "print(\"features_test:\", features_test.shape)"
      ],
      "execution_count": null,
      "outputs": [
        {
          "output_type": "stream",
          "text": [
            "--- Train Sizes (Rows, Columns) ---\n",
            "target_train: (1396,)\n",
            "features_train: (1396, 28)\n",
            "\n",
            "--- Valid Sizes (Rows, Columns) ---\n",
            "target_valid: (466,)\n",
            "features_valid: (466, 28)\n",
            "\n",
            "--- Test Sizes (Rows, Columns) ---\n",
            "target_test: (466,)\n",
            "features_test: (466, 28)\n"
          ],
          "name": "stdout"
        }
      ]
    },
    {
      "cell_type": "markdown",
      "metadata": {
        "id": "OU90OTZZ1NrW"
      },
      "source": [
        "## Model Training"
      ]
    },
    {
      "cell_type": "markdown",
      "metadata": {
        "id": "7UOefdo11NrW"
      },
      "source": [
        "#### Linear Regression"
      ]
    },
    {
      "cell_type": "code",
      "metadata": {
        "id": "bQPBy5TS1NrX",
        "outputId": "56b13b15-6055-419b-9044-d72a5964fd5d"
      },
      "source": [
        "lr_model = LinearRegression()\n",
        "lr_model.fit(features_train, target_train)\n",
        "predicted_valid = lr_model.predict(features_valid)\n",
        "print('MAE:', mean_absolute_error(target_valid, predicted_valid))"
      ],
      "execution_count": null,
      "outputs": [
        {
          "output_type": "stream",
          "text": [
            "MAE: 6.511423291455314\n"
          ],
          "name": "stdout"
        }
      ]
    },
    {
      "cell_type": "markdown",
      "metadata": {
        "id": "WVAJmG1r1NrX"
      },
      "source": [
        "#### Random Forest Regressor"
      ]
    },
    {
      "cell_type": "code",
      "metadata": {
        "id": "SerZcide1NrX",
        "outputId": "5db34fd9-18bd-45db-e24c-a0c4defef597"
      },
      "source": [
        "for num in range(1, 20, 5):\n",
        "    rf_model = RandomForestRegressor(n_estimators=num, random_state=99)\n",
        "    rf_model.fit(features_train, target_train)\n",
        "    predicted_valid = rf_model.predict(features_valid)\n",
        "    print('--- n_estimators:', num, '---')\n",
        "    print('MAE:', mean_absolute_error(target_valid, predicted_valid))\n",
        "    print('')"
      ],
      "execution_count": null,
      "outputs": [
        {
          "output_type": "stream",
          "text": [
            "--- n_estimators: 1 ---\n",
            "MAE: 8.581545064377682\n",
            "\n",
            "--- n_estimators: 6 ---\n",
            "MAE: 6.539699570815449\n",
            "\n",
            "--- n_estimators: 11 ---\n",
            "MAE: 6.317986734295744\n",
            "\n",
            "--- n_estimators: 16 ---\n",
            "MAE: 6.180391630901288\n",
            "\n"
          ],
          "name": "stdout"
        }
      ]
    },
    {
      "cell_type": "markdown",
      "metadata": {
        "id": "0ye5M6Ac1NrY"
      },
      "source": [
        "#### LightGBM Regressor"
      ]
    },
    {
      "cell_type": "code",
      "metadata": {
        "id": "-PcZrLbD1NrZ",
        "outputId": "abd3cb3d-7c43-45c4-c50b-8a2531b82afc"
      },
      "source": [
        "for num in range(50, 150, 25):\n",
        "    for rate in [.25, .5, .75]:\n",
        "        lg_model = lgb.LGBMRegressor(n_estimators=num, learning_rate=rate, random_state=99)\n",
        "        lg_model.fit(features_train, target_train)\n",
        "        predicted_valid = lg_model.predict(features_valid)\n",
        "        print('--- n_estimators:', num, '| learning_rate:', rate, '---')\n",
        "        print('MAE:', mean_absolute_error(target_valid, predicted_valid))\n",
        "        print('')"
      ],
      "execution_count": null,
      "outputs": [
        {
          "output_type": "stream",
          "text": [
            "--- n_estimators: 50 | learning_rate: 0.25 ---\n",
            "MAE: 6.487968532513309\n",
            "\n",
            "--- n_estimators: 50 | learning_rate: 0.5 ---\n",
            "MAE: 7.04129788729827\n",
            "\n",
            "--- n_estimators: 50 | learning_rate: 0.75 ---\n",
            "MAE: 7.4861533853318\n",
            "\n",
            "--- n_estimators: 75 | learning_rate: 0.25 ---\n",
            "MAE: 6.604644851032791\n",
            "\n",
            "--- n_estimators: 75 | learning_rate: 0.5 ---\n",
            "MAE: 7.091468223351901\n",
            "\n",
            "--- n_estimators: 75 | learning_rate: 0.75 ---\n",
            "MAE: 7.5230490971111905\n",
            "\n",
            "--- n_estimators: 100 | learning_rate: 0.25 ---\n",
            "MAE: 6.6571988136924265\n",
            "\n",
            "--- n_estimators: 100 | learning_rate: 0.5 ---\n",
            "MAE: 7.080274841940039\n",
            "\n",
            "--- n_estimators: 100 | learning_rate: 0.75 ---\n",
            "MAE: 7.538509846036559\n",
            "\n",
            "--- n_estimators: 125 | learning_rate: 0.25 ---\n",
            "MAE: 6.698095815014557\n",
            "\n",
            "--- n_estimators: 125 | learning_rate: 0.5 ---\n",
            "MAE: 7.089066179657614\n",
            "\n",
            "--- n_estimators: 125 | learning_rate: 0.75 ---\n",
            "MAE: 7.535745699323372\n",
            "\n"
          ],
          "name": "stdout"
        }
      ]
    },
    {
      "cell_type": "markdown",
      "metadata": {
        "id": "L4Fv_oIH1NrZ"
      },
      "source": [
        "#### CatBoost Regressor"
      ]
    },
    {
      "cell_type": "code",
      "metadata": {
        "id": "8X88ynHW1NrZ",
        "outputId": "dc324b69-6dad-4ca3-bc75-cc7351a2278f"
      },
      "source": [
        "for num in range(50, 150, 25):\n",
        "    for rate in [.25, .5, .75]:\n",
        "        cb_model = CatBoostRegressor(n_estimators=num, learning_rate=rate, random_state=99)\n",
        "        cb_model.fit(features_train, target_train)\n",
        "        predicted_valid = cb_model.predict(features_valid)\n",
        "        print('--- n_estimators:', num, '| learning_rate:', rate, '---')\n",
        "        print('MAE:', mean_absolute_error(target_valid, predicted_valid))\n",
        "        print('')"
      ],
      "execution_count": null,
      "outputs": [
        {
          "output_type": "stream",
          "text": [
            "0:\tlearn: 10.4448476\ttotal: 49.5ms\tremaining: 2.42s\n",
            "1:\tlearn: 9.8545054\ttotal: 51.9ms\tremaining: 1.25s\n",
            "2:\tlearn: 9.3295637\ttotal: 53.8ms\tremaining: 844ms\n",
            "3:\tlearn: 9.0061328\ttotal: 57.4ms\tremaining: 661ms\n",
            "4:\tlearn: 8.7320155\ttotal: 123ms\tremaining: 1.11s\n",
            "5:\tlearn: 8.5639072\ttotal: 126ms\tremaining: 922ms\n",
            "6:\tlearn: 8.3749868\ttotal: 128ms\tremaining: 784ms\n",
            "7:\tlearn: 8.2289666\ttotal: 129ms\tremaining: 680ms\n",
            "8:\tlearn: 8.0914192\ttotal: 131ms\tremaining: 598ms\n",
            "9:\tlearn: 7.9459908\ttotal: 133ms\tremaining: 532ms\n",
            "10:\tlearn: 7.8465215\ttotal: 221ms\tremaining: 784ms\n",
            "11:\tlearn: 7.7647353\ttotal: 223ms\tremaining: 706ms\n",
            "12:\tlearn: 7.6471075\ttotal: 225ms\tremaining: 641ms\n",
            "13:\tlearn: 7.5694267\ttotal: 227ms\tremaining: 583ms\n",
            "14:\tlearn: 7.4822021\ttotal: 229ms\tremaining: 535ms\n",
            "15:\tlearn: 7.4594873\ttotal: 232ms\tremaining: 493ms\n",
            "16:\tlearn: 7.3920524\ttotal: 319ms\tremaining: 620ms\n",
            "17:\tlearn: 7.3445014\ttotal: 322ms\tremaining: 572ms\n",
            "18:\tlearn: 7.2595547\ttotal: 323ms\tremaining: 528ms\n",
            "19:\tlearn: 7.2123486\ttotal: 325ms\tremaining: 488ms\n",
            "20:\tlearn: 7.1415751\ttotal: 327ms\tremaining: 452ms\n",
            "21:\tlearn: 7.0931951\ttotal: 334ms\tremaining: 425ms\n",
            "22:\tlearn: 7.0589087\ttotal: 416ms\tremaining: 489ms\n",
            "23:\tlearn: 7.0280481\ttotal: 418ms\tremaining: 453ms\n",
            "24:\tlearn: 6.9884381\ttotal: 420ms\tremaining: 420ms\n",
            "25:\tlearn: 6.9178526\ttotal: 423ms\tremaining: 391ms\n",
            "26:\tlearn: 6.8576948\ttotal: 425ms\tremaining: 362ms\n",
            "27:\tlearn: 6.8202168\ttotal: 428ms\tremaining: 336ms\n",
            "28:\tlearn: 6.7631950\ttotal: 514ms\tremaining: 372ms\n",
            "29:\tlearn: 6.7106729\ttotal: 518ms\tremaining: 346ms\n",
            "30:\tlearn: 6.6626333\ttotal: 520ms\tremaining: 319ms\n",
            "31:\tlearn: 6.6001634\ttotal: 522ms\tremaining: 294ms\n",
            "32:\tlearn: 6.5766673\ttotal: 524ms\tremaining: 270ms\n",
            "33:\tlearn: 6.5326572\ttotal: 531ms\tremaining: 250ms\n",
            "34:\tlearn: 6.5018584\ttotal: 612ms\tremaining: 262ms\n",
            "35:\tlearn: 6.4425404\ttotal: 615ms\tremaining: 239ms\n",
            "36:\tlearn: 6.4010040\ttotal: 617ms\tremaining: 217ms\n",
            "37:\tlearn: 6.3525592\ttotal: 619ms\tremaining: 195ms\n",
            "38:\tlearn: 6.3075653\ttotal: 621ms\tremaining: 175ms\n",
            "39:\tlearn: 6.2619594\ttotal: 628ms\tremaining: 157ms\n",
            "40:\tlearn: 6.2184431\ttotal: 709ms\tremaining: 156ms\n",
            "41:\tlearn: 6.1541084\ttotal: 711ms\tremaining: 135ms\n",
            "42:\tlearn: 6.1335786\ttotal: 713ms\tremaining: 116ms\n",
            "43:\tlearn: 6.0940055\ttotal: 716ms\tremaining: 97.7ms\n",
            "44:\tlearn: 6.0647686\ttotal: 719ms\tremaining: 79.9ms\n",
            "45:\tlearn: 6.0139808\ttotal: 807ms\tremaining: 70.1ms\n",
            "46:\tlearn: 5.9733952\ttotal: 809ms\tremaining: 51.6ms\n",
            "47:\tlearn: 5.9396721\ttotal: 811ms\tremaining: 33.8ms\n",
            "48:\tlearn: 5.8868371\ttotal: 813ms\tremaining: 16.6ms\n",
            "49:\tlearn: 5.8762179\ttotal: 814ms\tremaining: 0us\n",
            "--- n_estimators: 50 | learning_rate: 0.25 ---\n",
            "MAE: 6.170983632200913\n",
            "\n",
            "0:\tlearn: 9.8623079\ttotal: 2.34ms\tremaining: 115ms\n",
            "1:\tlearn: 9.0113666\ttotal: 4.29ms\tremaining: 103ms\n",
            "2:\tlearn: 8.5122767\ttotal: 6.17ms\tremaining: 96.7ms\n",
            "3:\tlearn: 8.3547638\ttotal: 7.98ms\tremaining: 91.8ms\n",
            "4:\tlearn: 8.0826846\ttotal: 15ms\tremaining: 135ms\n",
            "5:\tlearn: 7.7897863\ttotal: 67.5ms\tremaining: 495ms\n",
            "6:\tlearn: 7.6489649\ttotal: 69.5ms\tremaining: 427ms\n",
            "7:\tlearn: 7.5733970\ttotal: 71.4ms\tremaining: 375ms\n",
            "8:\tlearn: 7.4644127\ttotal: 73.1ms\tremaining: 333ms\n",
            "9:\tlearn: 7.3290433\ttotal: 75.9ms\tremaining: 304ms\n",
            "10:\tlearn: 7.2265294\ttotal: 82.9ms\tremaining: 294ms\n",
            "11:\tlearn: 7.1334735\ttotal: 165ms\tremaining: 523ms\n",
            "12:\tlearn: 7.0759962\ttotal: 167ms\tremaining: 476ms\n",
            "13:\tlearn: 7.0107741\ttotal: 169ms\tremaining: 435ms\n",
            "14:\tlearn: 6.7951302\ttotal: 171ms\tremaining: 399ms\n",
            "15:\tlearn: 6.7506077\ttotal: 173ms\tremaining: 367ms\n",
            "16:\tlearn: 6.6557850\ttotal: 180ms\tremaining: 349ms\n",
            "17:\tlearn: 6.5081089\ttotal: 263ms\tremaining: 467ms\n",
            "18:\tlearn: 6.4166643\ttotal: 265ms\tremaining: 432ms\n",
            "19:\tlearn: 6.3793299\ttotal: 267ms\tremaining: 400ms\n",
            "20:\tlearn: 6.2556601\ttotal: 269ms\tremaining: 371ms\n",
            "21:\tlearn: 6.1505987\ttotal: 275ms\tremaining: 350ms\n",
            "22:\tlearn: 6.0594945\ttotal: 288ms\tremaining: 338ms\n",
            "23:\tlearn: 6.0398852\ttotal: 359ms\tremaining: 389ms\n",
            "24:\tlearn: 5.9433587\ttotal: 361ms\tremaining: 361ms\n",
            "25:\tlearn: 5.8810444\ttotal: 363ms\tremaining: 335ms\n",
            "26:\tlearn: 5.8291471\ttotal: 365ms\tremaining: 311ms\n",
            "27:\tlearn: 5.8100784\ttotal: 367ms\tremaining: 288ms\n",
            "28:\tlearn: 5.6892287\ttotal: 374ms\tremaining: 270ms\n",
            "29:\tlearn: 5.6410127\ttotal: 456ms\tremaining: 304ms\n",
            "30:\tlearn: 5.5859990\ttotal: 458ms\tremaining: 281ms\n",
            "31:\tlearn: 5.5291132\ttotal: 461ms\tremaining: 259ms\n",
            "32:\tlearn: 5.4377114\ttotal: 462ms\tremaining: 238ms\n",
            "33:\tlearn: 5.3617961\ttotal: 465ms\tremaining: 219ms\n",
            "34:\tlearn: 5.3399668\ttotal: 553ms\tremaining: 237ms\n",
            "35:\tlearn: 5.2563598\ttotal: 556ms\tremaining: 216ms\n",
            "36:\tlearn: 5.1977090\ttotal: 558ms\tremaining: 196ms\n",
            "37:\tlearn: 5.1705990\ttotal: 560ms\tremaining: 177ms\n",
            "38:\tlearn: 5.1082274\ttotal: 561ms\tremaining: 158ms\n",
            "39:\tlearn: 5.0137283\ttotal: 564ms\tremaining: 141ms\n",
            "40:\tlearn: 4.9865926\ttotal: 651ms\tremaining: 143ms\n",
            "41:\tlearn: 4.9378337\ttotal: 653ms\tremaining: 124ms\n",
            "42:\tlearn: 4.8944574\ttotal: 656ms\tremaining: 107ms\n",
            "43:\tlearn: 4.7988715\ttotal: 658ms\tremaining: 89.7ms\n",
            "44:\tlearn: 4.7758183\ttotal: 661ms\tremaining: 73.4ms\n",
            "45:\tlearn: 4.7433580\ttotal: 668ms\tremaining: 58.1ms\n",
            "46:\tlearn: 4.6887952\ttotal: 749ms\tremaining: 47.8ms\n",
            "47:\tlearn: 4.6347441\ttotal: 751ms\tremaining: 31.3ms\n",
            "48:\tlearn: 4.5787885\ttotal: 754ms\tremaining: 15.4ms\n",
            "49:\tlearn: 4.5244483\ttotal: 756ms\tremaining: 0us\n",
            "--- n_estimators: 50 | learning_rate: 0.5 ---\n",
            "MAE: 6.713327420682292\n",
            "\n",
            "0:\tlearn: 9.4480674\ttotal: 2.57ms\tremaining: 126ms\n",
            "1:\tlearn: 8.6597243\ttotal: 5.15ms\tremaining: 124ms\n",
            "2:\tlearn: 8.2278282\ttotal: 6.98ms\tremaining: 109ms\n",
            "3:\tlearn: 8.0841156\ttotal: 8.8ms\tremaining: 101ms\n",
            "4:\tlearn: 7.7942556\ttotal: 15.9ms\tremaining: 143ms\n",
            "5:\tlearn: 7.5923642\ttotal: 26.6ms\tremaining: 195ms\n",
            "6:\tlearn: 7.4118184\ttotal: 28.4ms\tremaining: 175ms\n",
            "7:\tlearn: 7.2621442\ttotal: 30.2ms\tremaining: 159ms\n",
            "8:\tlearn: 7.1922587\ttotal: 31.9ms\tremaining: 146ms\n",
            "9:\tlearn: 7.0468558\ttotal: 33.8ms\tremaining: 135ms\n",
            "10:\tlearn: 6.9371119\ttotal: 40.7ms\tremaining: 144ms\n",
            "11:\tlearn: 6.8570680\ttotal: 124ms\tremaining: 394ms\n",
            "12:\tlearn: 6.7125721\ttotal: 126ms\tremaining: 360ms\n",
            "13:\tlearn: 6.6102596\ttotal: 128ms\tremaining: 329ms\n",
            "14:\tlearn: 6.5816737\ttotal: 130ms\tremaining: 303ms\n",
            "15:\tlearn: 6.4229799\ttotal: 132ms\tremaining: 280ms\n",
            "16:\tlearn: 6.3247801\ttotal: 139ms\tremaining: 269ms\n",
            "17:\tlearn: 6.2388191\ttotal: 222ms\tremaining: 395ms\n",
            "18:\tlearn: 6.1493953\ttotal: 224ms\tremaining: 366ms\n",
            "19:\tlearn: 6.0014958\ttotal: 226ms\tremaining: 339ms\n",
            "20:\tlearn: 5.9460031\ttotal: 228ms\tremaining: 315ms\n",
            "21:\tlearn: 5.8255457\ttotal: 230ms\tremaining: 293ms\n",
            "22:\tlearn: 5.7688810\ttotal: 319ms\tremaining: 375ms\n",
            "23:\tlearn: 5.6996912\ttotal: 323ms\tremaining: 350ms\n",
            "24:\tlearn: 5.5743732\ttotal: 329ms\tremaining: 329ms\n",
            "25:\tlearn: 5.4355152\ttotal: 332ms\tremaining: 306ms\n",
            "26:\tlearn: 5.3565605\ttotal: 334ms\tremaining: 284ms\n",
            "27:\tlearn: 5.2199123\ttotal: 342ms\tremaining: 269ms\n",
            "28:\tlearn: 5.1105258\ttotal: 417ms\tremaining: 302ms\n",
            "29:\tlearn: 4.9996158\ttotal: 420ms\tremaining: 280ms\n",
            "30:\tlearn: 4.9433336\ttotal: 422ms\tremaining: 259ms\n",
            "31:\tlearn: 4.8666063\ttotal: 424ms\tremaining: 239ms\n",
            "32:\tlearn: 4.7380060\ttotal: 432ms\tremaining: 222ms\n",
            "33:\tlearn: 4.6869380\ttotal: 515ms\tremaining: 243ms\n",
            "34:\tlearn: 4.6023038\ttotal: 518ms\tremaining: 222ms\n",
            "35:\tlearn: 4.5346404\ttotal: 522ms\tremaining: 203ms\n",
            "36:\tlearn: 4.4635956\ttotal: 524ms\tremaining: 184ms\n",
            "37:\tlearn: 4.4525246\ttotal: 532ms\tremaining: 168ms\n",
            "38:\tlearn: 4.3683727\ttotal: 611ms\tremaining: 172ms\n",
            "39:\tlearn: 4.2837058\ttotal: 613ms\tremaining: 153ms\n",
            "40:\tlearn: 4.2175627\ttotal: 615ms\tremaining: 135ms\n",
            "41:\tlearn: 4.1091104\ttotal: 618ms\tremaining: 118ms\n",
            "42:\tlearn: 4.0812909\ttotal: 620ms\tremaining: 101ms\n",
            "43:\tlearn: 4.0425914\ttotal: 627ms\tremaining: 85.5ms\n",
            "44:\tlearn: 4.0196335\ttotal: 710ms\tremaining: 78.9ms\n",
            "45:\tlearn: 3.9800205\ttotal: 712ms\tremaining: 61.9ms\n",
            "46:\tlearn: 3.8770553\ttotal: 714ms\tremaining: 45.6ms\n",
            "47:\tlearn: 3.8622113\ttotal: 715ms\tremaining: 29.8ms\n",
            "48:\tlearn: 3.7935186\ttotal: 723ms\tremaining: 14.7ms\n",
            "49:\tlearn: 3.7266622\ttotal: 806ms\tremaining: 0us\n",
            "--- n_estimators: 50 | learning_rate: 0.75 ---\n",
            "MAE: 6.8595861241176745\n",
            "\n",
            "0:\tlearn: 10.4448476\ttotal: 2.03ms\tremaining: 150ms\n",
            "1:\tlearn: 9.8545054\ttotal: 4.11ms\tremaining: 150ms\n",
            "2:\tlearn: 9.3295637\ttotal: 6.02ms\tremaining: 144ms\n",
            "3:\tlearn: 9.0061328\ttotal: 7.86ms\tremaining: 139ms\n",
            "4:\tlearn: 8.7320155\ttotal: 11.8ms\tremaining: 165ms\n",
            "5:\tlearn: 8.5639072\ttotal: 50.4ms\tremaining: 580ms\n",
            "6:\tlearn: 8.3749868\ttotal: 53.8ms\tremaining: 522ms\n",
            "7:\tlearn: 8.2289666\ttotal: 55.5ms\tremaining: 465ms\n",
            "8:\tlearn: 8.0914192\ttotal: 57.4ms\tremaining: 421ms\n",
            "9:\tlearn: 7.9459908\ttotal: 59ms\tremaining: 384ms\n",
            "10:\tlearn: 7.8465215\ttotal: 66ms\tremaining: 384ms\n",
            "11:\tlearn: 7.7647353\ttotal: 148ms\tremaining: 775ms\n",
            "12:\tlearn: 7.6471075\ttotal: 150ms\tremaining: 714ms\n",
            "13:\tlearn: 7.5694267\ttotal: 152ms\tremaining: 660ms\n",
            "14:\tlearn: 7.4822021\ttotal: 153ms\tremaining: 614ms\n",
            "15:\tlearn: 7.4594873\ttotal: 155ms\tremaining: 572ms\n",
            "16:\tlearn: 7.3920524\ttotal: 163ms\tremaining: 555ms\n",
            "17:\tlearn: 7.3445014\ttotal: 246ms\tremaining: 778ms\n",
            "18:\tlearn: 7.2595547\ttotal: 248ms\tremaining: 732ms\n",
            "19:\tlearn: 7.2123486\ttotal: 250ms\tremaining: 688ms\n",
            "20:\tlearn: 7.1415751\ttotal: 253ms\tremaining: 650ms\n",
            "21:\tlearn: 7.0931951\ttotal: 254ms\tremaining: 613ms\n",
            "22:\tlearn: 7.0589087\ttotal: 262ms\tremaining: 591ms\n",
            "23:\tlearn: 7.0280481\ttotal: 343ms\tremaining: 729ms\n",
            "24:\tlearn: 6.9884381\ttotal: 345ms\tremaining: 690ms\n",
            "25:\tlearn: 6.9178526\ttotal: 347ms\tremaining: 654ms\n",
            "26:\tlearn: 6.8576948\ttotal: 349ms\tremaining: 620ms\n",
            "27:\tlearn: 6.8202168\ttotal: 351ms\tremaining: 588ms\n",
            "28:\tlearn: 6.7631950\ttotal: 358ms\tremaining: 567ms\n",
            "29:\tlearn: 6.7106729\ttotal: 441ms\tremaining: 661ms\n",
            "30:\tlearn: 6.6626333\ttotal: 444ms\tremaining: 630ms\n",
            "31:\tlearn: 6.6001634\ttotal: 446ms\tremaining: 599ms\n",
            "32:\tlearn: 6.5766673\ttotal: 447ms\tremaining: 569ms\n",
            "33:\tlearn: 6.5326572\ttotal: 450ms\tremaining: 542ms\n",
            "34:\tlearn: 6.5018584\ttotal: 537ms\tremaining: 614ms\n",
            "35:\tlearn: 6.4425404\ttotal: 541ms\tremaining: 586ms\n",
            "36:\tlearn: 6.4010040\ttotal: 543ms\tremaining: 557ms\n",
            "37:\tlearn: 6.3525592\ttotal: 544ms\tremaining: 530ms\n",
            "38:\tlearn: 6.3075653\ttotal: 546ms\tremaining: 504ms\n",
            "39:\tlearn: 6.2619594\ttotal: 553ms\tremaining: 484ms\n",
            "40:\tlearn: 6.2184431\ttotal: 635ms\tremaining: 527ms\n",
            "41:\tlearn: 6.1541084\ttotal: 637ms\tremaining: 500ms\n",
            "42:\tlearn: 6.1335786\ttotal: 639ms\tremaining: 475ms\n",
            "43:\tlearn: 6.0940055\ttotal: 643ms\tremaining: 453ms\n",
            "44:\tlearn: 6.0647686\ttotal: 645ms\tremaining: 430ms\n",
            "45:\tlearn: 6.0139808\ttotal: 732ms\tremaining: 461ms\n",
            "46:\tlearn: 5.9733952\ttotal: 734ms\tremaining: 437ms\n",
            "47:\tlearn: 5.9396721\ttotal: 735ms\tremaining: 414ms\n",
            "48:\tlearn: 5.8868371\ttotal: 737ms\tremaining: 391ms\n",
            "49:\tlearn: 5.8762179\ttotal: 739ms\tremaining: 370ms\n",
            "50:\tlearn: 5.7968056\ttotal: 747ms\tremaining: 352ms\n",
            "51:\tlearn: 5.7652174\ttotal: 830ms\tremaining: 367ms\n",
            "52:\tlearn: 5.7186583\ttotal: 832ms\tremaining: 345ms\n",
            "53:\tlearn: 5.6677007\ttotal: 833ms\tremaining: 324ms\n",
            "54:\tlearn: 5.6498641\ttotal: 836ms\tremaining: 304ms\n",
            "55:\tlearn: 5.5979390\ttotal: 837ms\tremaining: 284ms\n",
            "56:\tlearn: 5.5594738\ttotal: 845ms\tremaining: 267ms\n",
            "57:\tlearn: 5.5316201\ttotal: 928ms\tremaining: 272ms\n",
            "58:\tlearn: 5.5053405\ttotal: 930ms\tremaining: 252ms\n",
            "59:\tlearn: 5.4880473\ttotal: 932ms\tremaining: 233ms\n",
            "60:\tlearn: 5.4645121\ttotal: 933ms\tremaining: 214ms\n",
            "61:\tlearn: 5.4537301\ttotal: 940ms\tremaining: 197ms\n",
            "62:\tlearn: 5.4178364\ttotal: 948ms\tremaining: 181ms\n",
            "63:\tlearn: 5.3597320\ttotal: 1.02s\tremaining: 176ms\n",
            "64:\tlearn: 5.3333359\ttotal: 1.03s\tremaining: 158ms\n",
            "65:\tlearn: 5.2663543\ttotal: 1.03s\tremaining: 140ms\n",
            "66:\tlearn: 5.2613768\ttotal: 1.03s\tremaining: 123ms\n",
            "67:\tlearn: 5.2385591\ttotal: 1.03s\tremaining: 106ms\n",
            "68:\tlearn: 5.2131276\ttotal: 1.04s\tremaining: 90.4ms\n",
            "69:\tlearn: 5.1911678\ttotal: 1.12s\tremaining: 80.3ms\n",
            "70:\tlearn: 5.1568973\ttotal: 1.13s\tremaining: 63.4ms\n",
            "71:\tlearn: 5.1398684\ttotal: 1.13s\tremaining: 47ms\n",
            "72:\tlearn: 5.0901662\ttotal: 1.13s\tremaining: 30.9ms\n",
            "73:\tlearn: 5.0873045\ttotal: 1.13s\tremaining: 15.3ms\n",
            "74:\tlearn: 5.0762132\ttotal: 1.14s\tremaining: 0us\n",
            "--- n_estimators: 75 | learning_rate: 0.25 ---\n",
            "MAE: 6.126754024203109\n",
            "\n",
            "0:\tlearn: 9.8623079\ttotal: 2.12ms\tremaining: 157ms\n",
            "1:\tlearn: 9.0113666\ttotal: 4.12ms\tremaining: 150ms\n",
            "2:\tlearn: 8.5122767\ttotal: 6.38ms\tremaining: 153ms\n",
            "3:\tlearn: 8.3547638\ttotal: 8.18ms\tremaining: 145ms\n",
            "4:\tlearn: 8.0826846\ttotal: 15.3ms\tremaining: 214ms\n",
            "5:\tlearn: 7.7897863\ttotal: 22.6ms\tremaining: 259ms\n",
            "6:\tlearn: 7.6489649\ttotal: 32ms\tremaining: 311ms\n",
            "7:\tlearn: 7.5733970\ttotal: 33.9ms\tremaining: 284ms\n",
            "8:\tlearn: 7.4644127\ttotal: 35.6ms\tremaining: 261ms\n",
            "9:\tlearn: 7.3290433\ttotal: 39.1ms\tremaining: 254ms\n",
            "10:\tlearn: 7.2265294\ttotal: 41.3ms\tremaining: 240ms\n",
            "11:\tlearn: 7.1334735\ttotal: 48.5ms\tremaining: 255ms\n",
            "12:\tlearn: 7.0759962\ttotal: 129ms\tremaining: 616ms\n",
            "13:\tlearn: 7.0107741\ttotal: 131ms\tremaining: 572ms\n",
            "14:\tlearn: 6.7951302\ttotal: 133ms\tremaining: 533ms\n",
            "15:\tlearn: 6.7506077\ttotal: 135ms\tremaining: 497ms\n",
            "16:\tlearn: 6.6557850\ttotal: 142ms\tremaining: 484ms\n",
            "17:\tlearn: 6.5081089\ttotal: 149ms\tremaining: 473ms\n",
            "18:\tlearn: 6.4166643\ttotal: 228ms\tremaining: 673ms\n",
            "19:\tlearn: 6.3793299\ttotal: 230ms\tremaining: 633ms\n",
            "20:\tlearn: 6.2556601\ttotal: 232ms\tremaining: 597ms\n",
            "21:\tlearn: 6.1505987\ttotal: 234ms\tremaining: 563ms\n",
            "22:\tlearn: 6.0594945\ttotal: 241ms\tremaining: 545ms\n",
            "23:\tlearn: 6.0398852\ttotal: 324ms\tremaining: 688ms\n",
            "24:\tlearn: 5.9433587\ttotal: 327ms\tremaining: 655ms\n",
            "25:\tlearn: 5.8810444\ttotal: 329ms\tremaining: 620ms\n",
            "26:\tlearn: 5.8291471\ttotal: 331ms\tremaining: 588ms\n",
            "27:\tlearn: 5.8100784\ttotal: 338ms\tremaining: 567ms\n",
            "28:\tlearn: 5.6892287\ttotal: 345ms\tremaining: 547ms\n",
            "29:\tlearn: 5.6410127\ttotal: 421ms\tremaining: 632ms\n",
            "30:\tlearn: 5.5859990\ttotal: 423ms\tremaining: 601ms\n",
            "31:\tlearn: 5.5291132\ttotal: 426ms\tremaining: 572ms\n",
            "32:\tlearn: 5.4377114\ttotal: 428ms\tremaining: 545ms\n",
            "33:\tlearn: 5.3617961\ttotal: 435ms\tremaining: 525ms\n",
            "34:\tlearn: 5.3399668\ttotal: 518ms\tremaining: 592ms\n",
            "35:\tlearn: 5.2563598\ttotal: 520ms\tremaining: 564ms\n",
            "36:\tlearn: 5.1977090\ttotal: 522ms\tremaining: 536ms\n",
            "37:\tlearn: 5.1705990\ttotal: 524ms\tremaining: 510ms\n",
            "38:\tlearn: 5.1082274\ttotal: 526ms\tremaining: 485ms\n",
            "39:\tlearn: 5.0137283\ttotal: 533ms\tremaining: 466ms\n",
            "40:\tlearn: 4.9865926\ttotal: 616ms\tremaining: 511ms\n",
            "41:\tlearn: 4.9378337\ttotal: 618ms\tremaining: 486ms\n",
            "42:\tlearn: 4.8944574\ttotal: 620ms\tremaining: 462ms\n",
            "43:\tlearn: 4.7988715\ttotal: 622ms\tremaining: 439ms\n",
            "44:\tlearn: 4.7758183\ttotal: 630ms\tremaining: 420ms\n",
            "45:\tlearn: 4.7433580\ttotal: 713ms\tremaining: 450ms\n",
            "46:\tlearn: 4.6887952\ttotal: 715ms\tremaining: 426ms\n",
            "47:\tlearn: 4.6347441\ttotal: 717ms\tremaining: 403ms\n",
            "48:\tlearn: 4.5787885\ttotal: 719ms\tremaining: 381ms\n",
            "49:\tlearn: 4.5244483\ttotal: 720ms\tremaining: 360ms\n",
            "50:\tlearn: 4.4998692\ttotal: 727ms\tremaining: 342ms\n",
            "51:\tlearn: 4.4641758\ttotal: 818ms\tremaining: 362ms\n",
            "52:\tlearn: 4.4193471\ttotal: 822ms\tremaining: 341ms\n",
            "53:\tlearn: 4.3623412\ttotal: 824ms\tremaining: 321ms\n",
            "54:\tlearn: 4.3413811\ttotal: 827ms\tremaining: 301ms\n",
            "55:\tlearn: 4.3088867\ttotal: 829ms\tremaining: 281ms\n",
            "56:\tlearn: 4.2613604\ttotal: 907ms\tremaining: 286ms\n",
            "57:\tlearn: 4.2253703\ttotal: 909ms\tremaining: 266ms\n",
            "58:\tlearn: 4.1930011\ttotal: 911ms\tremaining: 247ms\n",
            "59:\tlearn: 4.1374643\ttotal: 914ms\tremaining: 229ms\n",
            "60:\tlearn: 4.0948867\ttotal: 917ms\tremaining: 210ms\n",
            "61:\tlearn: 4.0484707\ttotal: 1s\tremaining: 210ms\n",
            "62:\tlearn: 4.0441332\ttotal: 1s\tremaining: 191ms\n",
            "63:\tlearn: 4.0254096\ttotal: 1.01s\tremaining: 173ms\n",
            "64:\tlearn: 3.9901070\ttotal: 1.01s\tremaining: 155ms\n",
            "65:\tlearn: 3.9872285\ttotal: 1.01s\tremaining: 138ms\n",
            "66:\tlearn: 3.9492365\ttotal: 1.1s\tremaining: 131ms\n",
            "67:\tlearn: 3.8885941\ttotal: 1.1s\tremaining: 113ms\n",
            "68:\tlearn: 3.8668776\ttotal: 1.1s\tremaining: 96ms\n",
            "69:\tlearn: 3.8081810\ttotal: 1.1s\tremaining: 78.9ms\n",
            "70:\tlearn: 3.7749457\ttotal: 1.11s\tremaining: 62.4ms\n",
            "71:\tlearn: 3.7698616\ttotal: 1.11s\tremaining: 46.2ms\n",
            "72:\tlearn: 3.7162810\ttotal: 1.2s\tremaining: 32.8ms\n",
            "73:\tlearn: 3.6805275\ttotal: 1.2s\tremaining: 16.2ms\n",
            "74:\tlearn: 3.6695465\ttotal: 1.2s\tremaining: 0us\n",
            "--- n_estimators: 75 | learning_rate: 0.5 ---\n",
            "MAE: 6.823790955362388\n",
            "\n",
            "0:\tlearn: 9.4480674\ttotal: 2.03ms\tremaining: 150ms\n",
            "1:\tlearn: 8.6597243\ttotal: 3.94ms\tremaining: 144ms\n",
            "2:\tlearn: 8.2278282\ttotal: 5.76ms\tremaining: 138ms\n",
            "3:\tlearn: 8.0841156\ttotal: 7.54ms\tremaining: 134ms\n",
            "4:\tlearn: 7.7942556\ttotal: 9.36ms\tremaining: 131ms\n",
            "5:\tlearn: 7.5923642\ttotal: 53.5ms\tremaining: 615ms\n",
            "6:\tlearn: 7.4118184\ttotal: 55.6ms\tremaining: 540ms\n",
            "7:\tlearn: 7.2621442\ttotal: 57.5ms\tremaining: 482ms\n",
            "8:\tlearn: 7.1922587\ttotal: 59.2ms\tremaining: 434ms\n",
            "9:\tlearn: 7.0468558\ttotal: 61ms\tremaining: 397ms\n",
            "10:\tlearn: 6.9371119\ttotal: 68.1ms\tremaining: 396ms\n",
            "11:\tlearn: 6.8570680\ttotal: 151ms\tremaining: 795ms\n",
            "12:\tlearn: 6.7125721\ttotal: 153ms\tremaining: 731ms\n",
            "13:\tlearn: 6.6102596\ttotal: 155ms\tremaining: 677ms\n",
            "14:\tlearn: 6.5816737\ttotal: 157ms\tremaining: 628ms\n",
            "15:\tlearn: 6.4229799\ttotal: 159ms\tremaining: 586ms\n",
            "16:\tlearn: 6.3247801\ttotal: 161ms\tremaining: 549ms\n",
            "17:\tlearn: 6.2388191\ttotal: 250ms\tremaining: 791ms\n",
            "18:\tlearn: 6.1493953\ttotal: 252ms\tremaining: 743ms\n",
            "19:\tlearn: 6.0014958\ttotal: 254ms\tremaining: 699ms\n",
            "20:\tlearn: 5.9460031\ttotal: 256ms\tremaining: 658ms\n",
            "21:\tlearn: 5.8255457\ttotal: 258ms\tremaining: 621ms\n",
            "22:\tlearn: 5.7688810\ttotal: 265ms\tremaining: 598ms\n",
            "23:\tlearn: 5.6996912\ttotal: 347ms\tremaining: 737ms\n",
            "24:\tlearn: 5.5743732\ttotal: 349ms\tremaining: 698ms\n",
            "25:\tlearn: 5.4355152\ttotal: 351ms\tremaining: 661ms\n",
            "26:\tlearn: 5.3565605\ttotal: 353ms\tremaining: 628ms\n",
            "27:\tlearn: 5.2199123\ttotal: 360ms\tremaining: 605ms\n",
            "28:\tlearn: 5.1105258\ttotal: 444ms\tremaining: 704ms\n",
            "29:\tlearn: 4.9996158\ttotal: 446ms\tremaining: 670ms\n",
            "30:\tlearn: 4.9433336\ttotal: 450ms\tremaining: 639ms\n",
            "31:\tlearn: 4.8666063\ttotal: 452ms\tremaining: 607ms\n",
            "32:\tlearn: 4.7380060\ttotal: 459ms\tremaining: 584ms\n",
            "33:\tlearn: 4.6869380\ttotal: 541ms\tremaining: 653ms\n",
            "34:\tlearn: 4.6023038\ttotal: 543ms\tremaining: 621ms\n",
            "35:\tlearn: 4.5346404\ttotal: 545ms\tremaining: 591ms\n",
            "36:\tlearn: 4.4635956\ttotal: 547ms\tremaining: 562ms\n",
            "37:\tlearn: 4.4525246\ttotal: 549ms\tremaining: 535ms\n",
            "38:\tlearn: 4.3683727\ttotal: 556ms\tremaining: 514ms\n",
            "39:\tlearn: 4.2837058\ttotal: 639ms\tremaining: 559ms\n",
            "40:\tlearn: 4.2175627\ttotal: 642ms\tremaining: 532ms\n",
            "41:\tlearn: 4.1091104\ttotal: 645ms\tremaining: 507ms\n",
            "42:\tlearn: 4.0812909\ttotal: 647ms\tremaining: 482ms\n",
            "43:\tlearn: 4.0425914\ttotal: 649ms\tremaining: 457ms\n",
            "44:\tlearn: 4.0196335\ttotal: 736ms\tremaining: 491ms\n",
            "45:\tlearn: 3.9800205\ttotal: 738ms\tremaining: 465ms\n",
            "46:\tlearn: 3.8770553\ttotal: 740ms\tremaining: 441ms\n",
            "47:\tlearn: 3.8622113\ttotal: 742ms\tremaining: 417ms\n",
            "48:\tlearn: 3.7935186\ttotal: 744ms\tremaining: 395ms\n",
            "49:\tlearn: 3.7266622\ttotal: 751ms\tremaining: 375ms\n",
            "50:\tlearn: 3.6957582\ttotal: 834ms\tremaining: 392ms\n",
            "51:\tlearn: 3.6543415\ttotal: 836ms\tremaining: 370ms\n",
            "52:\tlearn: 3.6054386\ttotal: 838ms\tremaining: 348ms\n",
            "53:\tlearn: 3.5544905\ttotal: 840ms\tremaining: 327ms\n",
            "54:\tlearn: 3.5433676\ttotal: 842ms\tremaining: 306ms\n",
            "55:\tlearn: 3.5257506\ttotal: 932ms\tremaining: 316ms\n",
            "56:\tlearn: 3.4949107\ttotal: 933ms\tremaining: 295ms\n",
            "57:\tlearn: 3.4380995\ttotal: 935ms\tremaining: 274ms\n",
            "58:\tlearn: 3.3968686\ttotal: 937ms\tremaining: 254ms\n",
            "59:\tlearn: 3.3541284\ttotal: 939ms\tremaining: 235ms\n",
            "60:\tlearn: 3.3198178\ttotal: 1.03s\tremaining: 236ms\n",
            "61:\tlearn: 3.2660420\ttotal: 1.03s\tremaining: 216ms\n",
            "62:\tlearn: 3.2289757\ttotal: 1.03s\tremaining: 197ms\n",
            "63:\tlearn: 3.1724113\ttotal: 1.03s\tremaining: 178ms\n",
            "64:\tlearn: 3.1687467\ttotal: 1.04s\tremaining: 159ms\n",
            "65:\tlearn: 3.1311252\ttotal: 1.04s\tremaining: 143ms\n",
            "66:\tlearn: 3.1132690\ttotal: 1.13s\tremaining: 135ms\n",
            "67:\tlearn: 3.0609049\ttotal: 1.13s\tremaining: 116ms\n",
            "68:\tlearn: 3.0239916\ttotal: 1.13s\tremaining: 98.4ms\n",
            "69:\tlearn: 3.0214847\ttotal: 1.13s\tremaining: 80.9ms\n",
            "70:\tlearn: 2.9726072\ttotal: 1.13s\tremaining: 63.9ms\n",
            "71:\tlearn: 2.8995329\ttotal: 1.22s\tremaining: 51ms\n",
            "72:\tlearn: 2.8550081\ttotal: 1.23s\tremaining: 33.6ms\n",
            "73:\tlearn: 2.8431673\ttotal: 1.23s\tremaining: 16.6ms\n",
            "74:\tlearn: 2.8211431\ttotal: 1.23s\tremaining: 0us\n",
            "--- n_estimators: 75 | learning_rate: 0.75 ---\n",
            "MAE: 7.000114521470946\n",
            "\n",
            "0:\tlearn: 10.4448476\ttotal: 2.33ms\tremaining: 231ms\n",
            "1:\tlearn: 9.8545054\ttotal: 4.39ms\tremaining: 215ms\n",
            "2:\tlearn: 9.3295637\ttotal: 6.17ms\tremaining: 200ms\n",
            "3:\tlearn: 9.0061328\ttotal: 8.04ms\tremaining: 193ms\n",
            "4:\tlearn: 8.7320155\ttotal: 9.83ms\tremaining: 187ms\n",
            "5:\tlearn: 8.5639072\ttotal: 12ms\tremaining: 189ms\n",
            "6:\tlearn: 8.3749868\ttotal: 14.3ms\tremaining: 190ms\n",
            "7:\tlearn: 8.2289666\ttotal: 103ms\tremaining: 1.18s\n",
            "8:\tlearn: 8.0914192\ttotal: 105ms\tremaining: 1.06s\n",
            "9:\tlearn: 7.9459908\ttotal: 107ms\tremaining: 960ms\n",
            "10:\tlearn: 7.8465215\ttotal: 109ms\tremaining: 879ms\n",
            "11:\tlearn: 7.7647353\ttotal: 111ms\tremaining: 812ms\n",
            "12:\tlearn: 7.6471075\ttotal: 112ms\tremaining: 753ms\n",
            "13:\tlearn: 7.5694267\ttotal: 201ms\tremaining: 1.24s\n",
            "14:\tlearn: 7.4822021\ttotal: 204ms\tremaining: 1.15s\n",
            "15:\tlearn: 7.4594873\ttotal: 205ms\tremaining: 1.08s\n",
            "16:\tlearn: 7.3920524\ttotal: 207ms\tremaining: 1.01s\n",
            "17:\tlearn: 7.3445014\ttotal: 209ms\tremaining: 953ms\n",
            "18:\tlearn: 7.2595547\ttotal: 216ms\tremaining: 922ms\n",
            "19:\tlearn: 7.2123486\ttotal: 300ms\tremaining: 1.2s\n",
            "20:\tlearn: 7.1415751\ttotal: 302ms\tremaining: 1.14s\n",
            "21:\tlearn: 7.0931951\ttotal: 304ms\tremaining: 1.08s\n",
            "22:\tlearn: 7.0589087\ttotal: 305ms\tremaining: 1.02s\n",
            "23:\tlearn: 7.0280481\ttotal: 307ms\tremaining: 972ms\n",
            "24:\tlearn: 6.9884381\ttotal: 395ms\tremaining: 1.18s\n",
            "25:\tlearn: 6.9178526\ttotal: 398ms\tremaining: 1.13s\n",
            "26:\tlearn: 6.8576948\ttotal: 401ms\tremaining: 1.08s\n",
            "27:\tlearn: 6.8202168\ttotal: 402ms\tremaining: 1.03s\n",
            "28:\tlearn: 6.7631950\ttotal: 404ms\tremaining: 989ms\n",
            "29:\tlearn: 6.7106729\ttotal: 406ms\tremaining: 947ms\n",
            "30:\tlearn: 6.6626333\ttotal: 493ms\tremaining: 1.1s\n",
            "31:\tlearn: 6.6001634\ttotal: 495ms\tremaining: 1.05s\n",
            "32:\tlearn: 6.5766673\ttotal: 497ms\tremaining: 1.01s\n",
            "33:\tlearn: 6.5326572\ttotal: 498ms\tremaining: 968ms\n",
            "34:\tlearn: 6.5018584\ttotal: 500ms\tremaining: 929ms\n",
            "35:\tlearn: 6.4425404\ttotal: 502ms\tremaining: 893ms\n",
            "36:\tlearn: 6.4010040\ttotal: 590ms\tremaining: 1s\n",
            "37:\tlearn: 6.3525592\ttotal: 592ms\tremaining: 966ms\n",
            "38:\tlearn: 6.3075653\ttotal: 597ms\tremaining: 933ms\n",
            "39:\tlearn: 6.2619594\ttotal: 599ms\tremaining: 898ms\n",
            "40:\tlearn: 6.2184431\ttotal: 600ms\tremaining: 864ms\n",
            "41:\tlearn: 6.1541084\ttotal: 607ms\tremaining: 839ms\n",
            "42:\tlearn: 6.1335786\ttotal: 688ms\tremaining: 911ms\n",
            "43:\tlearn: 6.0940055\ttotal: 690ms\tremaining: 878ms\n",
            "44:\tlearn: 6.0647686\ttotal: 691ms\tremaining: 845ms\n",
            "45:\tlearn: 6.0139808\ttotal: 693ms\tremaining: 814ms\n",
            "46:\tlearn: 5.9733952\ttotal: 695ms\tremaining: 784ms\n",
            "47:\tlearn: 5.9396721\ttotal: 702ms\tremaining: 761ms\n",
            "48:\tlearn: 5.8868371\ttotal: 786ms\tremaining: 818ms\n",
            "49:\tlearn: 5.8762179\ttotal: 788ms\tremaining: 788ms\n",
            "50:\tlearn: 5.7968056\ttotal: 790ms\tremaining: 759ms\n",
            "51:\tlearn: 5.7652174\ttotal: 792ms\tremaining: 731ms\n",
            "52:\tlearn: 5.7186583\ttotal: 794ms\tremaining: 704ms\n",
            "53:\tlearn: 5.6677007\ttotal: 882ms\tremaining: 751ms\n",
            "54:\tlearn: 5.6498641\ttotal: 884ms\tremaining: 723ms\n",
            "55:\tlearn: 5.5979390\ttotal: 886ms\tremaining: 696ms\n",
            "56:\tlearn: 5.5594738\ttotal: 887ms\tremaining: 669ms\n",
            "57:\tlearn: 5.5316201\ttotal: 890ms\tremaining: 644ms\n",
            "58:\tlearn: 5.5053405\ttotal: 897ms\tremaining: 623ms\n",
            "59:\tlearn: 5.4880473\ttotal: 980ms\tremaining: 653ms\n",
            "60:\tlearn: 5.4645121\ttotal: 982ms\tremaining: 628ms\n",
            "61:\tlearn: 5.4537301\ttotal: 984ms\tremaining: 603ms\n",
            "62:\tlearn: 5.4178364\ttotal: 986ms\tremaining: 579ms\n",
            "63:\tlearn: 5.3597320\ttotal: 988ms\tremaining: 556ms\n",
            "64:\tlearn: 5.3333359\ttotal: 1.08s\tremaining: 579ms\n",
            "65:\tlearn: 5.2663543\ttotal: 1.08s\tremaining: 555ms\n",
            "66:\tlearn: 5.2613768\ttotal: 1.08s\tremaining: 532ms\n",
            "67:\tlearn: 5.2385591\ttotal: 1.08s\tremaining: 509ms\n",
            "68:\tlearn: 5.2131276\ttotal: 1.08s\tremaining: 487ms\n",
            "69:\tlearn: 5.1911678\ttotal: 1.08s\tremaining: 465ms\n",
            "70:\tlearn: 5.1568973\ttotal: 1.17s\tremaining: 479ms\n",
            "71:\tlearn: 5.1398684\ttotal: 1.18s\tremaining: 457ms\n",
            "72:\tlearn: 5.0901662\ttotal: 1.18s\tremaining: 435ms\n",
            "73:\tlearn: 5.0873045\ttotal: 1.18s\tremaining: 414ms\n",
            "74:\tlearn: 5.0762132\ttotal: 1.18s\tremaining: 394ms\n",
            "75:\tlearn: 5.0591745\ttotal: 1.19s\tremaining: 376ms\n",
            "76:\tlearn: 5.0301150\ttotal: 1.27s\tremaining: 380ms\n",
            "77:\tlearn: 5.0127068\ttotal: 1.27s\tremaining: 359ms\n",
            "78:\tlearn: 4.9800861\ttotal: 1.27s\tremaining: 339ms\n",
            "79:\tlearn: 4.9551295\ttotal: 1.28s\tremaining: 319ms\n",
            "80:\tlearn: 4.9178651\ttotal: 1.28s\tremaining: 300ms\n",
            "81:\tlearn: 4.8912162\ttotal: 1.37s\tremaining: 300ms\n",
            "82:\tlearn: 4.8551925\ttotal: 1.37s\tremaining: 281ms\n",
            "83:\tlearn: 4.8366460\ttotal: 1.37s\tremaining: 261ms\n",
            "84:\tlearn: 4.7987143\ttotal: 1.37s\tremaining: 242ms\n",
            "85:\tlearn: 4.7835322\ttotal: 1.38s\tremaining: 224ms\n",
            "86:\tlearn: 4.7499806\ttotal: 1.38s\tremaining: 206ms\n",
            "87:\tlearn: 4.7225689\ttotal: 1.47s\tremaining: 200ms\n",
            "88:\tlearn: 4.6911818\ttotal: 1.47s\tremaining: 182ms\n",
            "89:\tlearn: 4.6646222\ttotal: 1.47s\tremaining: 163ms\n",
            "90:\tlearn: 4.6430838\ttotal: 1.47s\tremaining: 146ms\n",
            "91:\tlearn: 4.6203763\ttotal: 1.48s\tremaining: 128ms\n",
            "92:\tlearn: 4.5921439\ttotal: 1.48s\tremaining: 112ms\n",
            "93:\tlearn: 4.5598030\ttotal: 1.56s\tremaining: 99.8ms\n",
            "94:\tlearn: 4.5497556\ttotal: 1.56s\tremaining: 82.4ms\n",
            "95:\tlearn: 4.5289608\ttotal: 1.57s\tremaining: 65.3ms\n",
            "96:\tlearn: 4.4996969\ttotal: 1.57s\tremaining: 48.5ms\n",
            "97:\tlearn: 4.4782857\ttotal: 1.57s\tremaining: 32.1ms\n",
            "98:\tlearn: 4.4647891\ttotal: 1.58s\tremaining: 15.9ms\n",
            "99:\tlearn: 4.4613103\ttotal: 1.66s\tremaining: 0us\n",
            "--- n_estimators: 100 | learning_rate: 0.25 ---\n",
            "MAE: 6.167217210907902\n",
            "\n",
            "0:\tlearn: 9.8623079\ttotal: 2ms\tremaining: 198ms\n",
            "1:\tlearn: 9.0113666\ttotal: 4.04ms\tremaining: 198ms\n",
            "2:\tlearn: 8.5122767\ttotal: 6.2ms\tremaining: 200ms\n",
            "3:\tlearn: 8.3547638\ttotal: 7.95ms\tremaining: 191ms\n",
            "4:\tlearn: 8.0826846\ttotal: 9.82ms\tremaining: 187ms\n",
            "5:\tlearn: 7.7897863\ttotal: 74.2ms\tremaining: 1.16s\n",
            "6:\tlearn: 7.6489649\ttotal: 77ms\tremaining: 1.02s\n",
            "7:\tlearn: 7.5733970\ttotal: 78.9ms\tremaining: 907ms\n",
            "8:\tlearn: 7.4644127\ttotal: 80.8ms\tremaining: 817ms\n",
            "9:\tlearn: 7.3290433\ttotal: 82.7ms\tremaining: 744ms\n",
            "10:\tlearn: 7.2265294\ttotal: 89.8ms\tremaining: 726ms\n",
            "11:\tlearn: 7.1334735\ttotal: 172ms\tremaining: 1.26s\n",
            "12:\tlearn: 7.0759962\ttotal: 174ms\tremaining: 1.17s\n",
            "13:\tlearn: 7.0107741\ttotal: 176ms\tremaining: 1.08s\n",
            "14:\tlearn: 6.7951302\ttotal: 178ms\tremaining: 1.01s\n",
            "15:\tlearn: 6.7506077\ttotal: 185ms\tremaining: 971ms\n",
            "16:\tlearn: 6.6557850\ttotal: 269ms\tremaining: 1.31s\n",
            "17:\tlearn: 6.5081089\ttotal: 272ms\tremaining: 1.24s\n",
            "18:\tlearn: 6.4166643\ttotal: 274ms\tremaining: 1.17s\n",
            "19:\tlearn: 6.3793299\ttotal: 275ms\tremaining: 1.1s\n",
            "20:\tlearn: 6.2556601\ttotal: 277ms\tremaining: 1.04s\n",
            "21:\tlearn: 6.1505987\ttotal: 284ms\tremaining: 1.01s\n",
            "22:\tlearn: 6.0594945\ttotal: 367ms\tremaining: 1.23s\n",
            "23:\tlearn: 6.0398852\ttotal: 369ms\tremaining: 1.17s\n",
            "24:\tlearn: 5.9433587\ttotal: 371ms\tremaining: 1.11s\n",
            "25:\tlearn: 5.8810444\ttotal: 373ms\tremaining: 1.06s\n",
            "26:\tlearn: 5.8291471\ttotal: 375ms\tremaining: 1.01s\n",
            "27:\tlearn: 5.8100784\ttotal: 382ms\tremaining: 981ms\n",
            "28:\tlearn: 5.6892287\ttotal: 468ms\tremaining: 1.15s\n",
            "29:\tlearn: 5.6410127\ttotal: 470ms\tremaining: 1.1s\n",
            "30:\tlearn: 5.5859990\ttotal: 472ms\tremaining: 1.05s\n",
            "31:\tlearn: 5.5291132\ttotal: 475ms\tremaining: 1.01s\n",
            "32:\tlearn: 5.4377114\ttotal: 477ms\tremaining: 968ms\n",
            "33:\tlearn: 5.3617961\ttotal: 561ms\tremaining: 1.09s\n",
            "34:\tlearn: 5.3399668\ttotal: 563ms\tremaining: 1.04s\n",
            "35:\tlearn: 5.2563598\ttotal: 565ms\tremaining: 1s\n",
            "36:\tlearn: 5.1977090\ttotal: 567ms\tremaining: 965ms\n",
            "37:\tlearn: 5.1705990\ttotal: 568ms\tremaining: 927ms\n",
            "38:\tlearn: 5.1082274\ttotal: 570ms\tremaining: 892ms\n",
            "39:\tlearn: 5.0137283\ttotal: 577ms\tremaining: 866ms\n",
            "40:\tlearn: 4.9865926\ttotal: 659ms\tremaining: 948ms\n",
            "41:\tlearn: 4.9378337\ttotal: 662ms\tremaining: 914ms\n",
            "42:\tlearn: 4.8944574\ttotal: 664ms\tremaining: 881ms\n",
            "43:\tlearn: 4.7988715\ttotal: 667ms\tremaining: 849ms\n",
            "44:\tlearn: 4.7758183\ttotal: 674ms\tremaining: 824ms\n",
            "45:\tlearn: 4.7433580\ttotal: 757ms\tremaining: 888ms\n",
            "46:\tlearn: 4.6887952\ttotal: 759ms\tremaining: 855ms\n",
            "47:\tlearn: 4.6347441\ttotal: 760ms\tremaining: 824ms\n",
            "48:\tlearn: 4.5787885\ttotal: 762ms\tremaining: 794ms\n",
            "49:\tlearn: 4.5244483\ttotal: 764ms\tremaining: 764ms\n",
            "50:\tlearn: 4.4998692\ttotal: 771ms\tremaining: 741ms\n",
            "51:\tlearn: 4.4641758\ttotal: 853ms\tremaining: 787ms\n",
            "52:\tlearn: 4.4193471\ttotal: 855ms\tremaining: 758ms\n",
            "53:\tlearn: 4.3623412\ttotal: 857ms\tremaining: 730ms\n",
            "54:\tlearn: 4.3413811\ttotal: 859ms\tremaining: 702ms\n",
            "55:\tlearn: 4.3088867\ttotal: 863ms\tremaining: 678ms\n",
            "56:\tlearn: 4.2613604\ttotal: 870ms\tremaining: 656ms\n",
            "57:\tlearn: 4.2253703\ttotal: 951ms\tremaining: 689ms\n",
            "58:\tlearn: 4.1930011\ttotal: 953ms\tremaining: 662ms\n",
            "59:\tlearn: 4.1374643\ttotal: 955ms\tremaining: 637ms\n",
            "60:\tlearn: 4.0948867\ttotal: 957ms\tremaining: 612ms\n",
            "61:\tlearn: 4.0484707\ttotal: 959ms\tremaining: 588ms\n",
            "62:\tlearn: 4.0441332\ttotal: 1.05s\tremaining: 615ms\n",
            "63:\tlearn: 4.0254096\ttotal: 1.05s\tremaining: 590ms\n",
            "64:\tlearn: 3.9901070\ttotal: 1.05s\tremaining: 566ms\n",
            "65:\tlearn: 3.9872285\ttotal: 1.05s\tremaining: 542ms\n",
            "66:\tlearn: 3.9492365\ttotal: 1.05s\tremaining: 520ms\n",
            "67:\tlearn: 3.8885941\ttotal: 1.06s\tremaining: 500ms\n",
            "68:\tlearn: 3.8668776\ttotal: 1.15s\tremaining: 515ms\n",
            "69:\tlearn: 3.8081810\ttotal: 1.15s\tremaining: 492ms\n",
            "70:\tlearn: 3.7749457\ttotal: 1.15s\tremaining: 470ms\n",
            "71:\tlearn: 3.7698616\ttotal: 1.15s\tremaining: 448ms\n",
            "72:\tlearn: 3.7162810\ttotal: 1.15s\tremaining: 426ms\n",
            "73:\tlearn: 3.6805275\ttotal: 1.16s\tremaining: 408ms\n",
            "74:\tlearn: 3.6695465\ttotal: 1.24s\tremaining: 415ms\n",
            "75:\tlearn: 3.6278490\ttotal: 1.25s\tremaining: 394ms\n",
            "76:\tlearn: 3.6009554\ttotal: 1.26s\tremaining: 377ms\n",
            "77:\tlearn: 3.5444142\ttotal: 1.26s\tremaining: 357ms\n",
            "78:\tlearn: 3.5414401\ttotal: 1.34s\tremaining: 356ms\n",
            "79:\tlearn: 3.5161810\ttotal: 1.35s\tremaining: 337ms\n",
            "80:\tlearn: 3.4855720\ttotal: 1.35s\tremaining: 317ms\n",
            "81:\tlearn: 3.4417892\ttotal: 1.35s\tremaining: 297ms\n",
            "82:\tlearn: 3.3871359\ttotal: 1.36s\tremaining: 278ms\n",
            "83:\tlearn: 3.3453872\ttotal: 1.44s\tremaining: 274ms\n",
            "84:\tlearn: 3.3060595\ttotal: 1.44s\tremaining: 254ms\n",
            "85:\tlearn: 3.2533694\ttotal: 1.44s\tremaining: 235ms\n",
            "86:\tlearn: 3.2272877\ttotal: 1.45s\tremaining: 216ms\n",
            "87:\tlearn: 3.1979939\ttotal: 1.45s\tremaining: 198ms\n",
            "88:\tlearn: 3.1697729\ttotal: 1.53s\tremaining: 190ms\n",
            "89:\tlearn: 3.1406030\ttotal: 1.54s\tremaining: 171ms\n",
            "90:\tlearn: 3.1164322\ttotal: 1.54s\tremaining: 152ms\n",
            "91:\tlearn: 3.0908036\ttotal: 1.54s\tremaining: 134ms\n",
            "92:\tlearn: 3.0679093\ttotal: 1.54s\tremaining: 116ms\n",
            "93:\tlearn: 3.0341826\ttotal: 1.63s\tremaining: 104ms\n",
            "94:\tlearn: 3.0208845\ttotal: 1.64s\tremaining: 86.1ms\n",
            "95:\tlearn: 3.0081584\ttotal: 1.64s\tremaining: 68.3ms\n",
            "96:\tlearn: 2.9828695\ttotal: 1.64s\tremaining: 50.8ms\n",
            "97:\tlearn: 2.9743763\ttotal: 1.64s\tremaining: 33.5ms\n",
            "98:\tlearn: 2.9697290\ttotal: 1.65s\tremaining: 16.7ms\n",
            "99:\tlearn: 2.9408533\ttotal: 1.73s\tremaining: 0us\n",
            "--- n_estimators: 100 | learning_rate: 0.5 ---\n",
            "MAE: 6.861030946350997\n",
            "\n",
            "0:\tlearn: 9.4480674\ttotal: 2.06ms\tremaining: 204ms\n",
            "1:\tlearn: 8.6597243\ttotal: 4.07ms\tremaining: 199ms\n",
            "2:\tlearn: 8.2278282\ttotal: 5.93ms\tremaining: 192ms\n",
            "3:\tlearn: 8.0841156\ttotal: 8.33ms\tremaining: 200ms\n",
            "4:\tlearn: 7.7942556\ttotal: 15.4ms\tremaining: 292ms\n",
            "5:\tlearn: 7.5923642\ttotal: 28.1ms\tremaining: 440ms\n",
            "6:\tlearn: 7.4118184\ttotal: 30.6ms\tremaining: 407ms\n",
            "7:\tlearn: 7.2621442\ttotal: 32.4ms\tremaining: 373ms\n",
            "8:\tlearn: 7.1922587\ttotal: 34.4ms\tremaining: 348ms\n",
            "9:\tlearn: 7.0468558\ttotal: 36.2ms\tremaining: 326ms\n",
            "10:\tlearn: 6.9371119\ttotal: 43.3ms\tremaining: 350ms\n",
            "11:\tlearn: 6.8570680\ttotal: 126ms\tremaining: 922ms\n",
            "12:\tlearn: 6.7125721\ttotal: 128ms\tremaining: 855ms\n",
            "13:\tlearn: 6.6102596\ttotal: 129ms\tremaining: 795ms\n",
            "14:\tlearn: 6.5816737\ttotal: 131ms\tremaining: 744ms\n",
            "15:\tlearn: 6.4229799\ttotal: 133ms\tremaining: 698ms\n",
            "16:\tlearn: 6.3247801\ttotal: 140ms\tremaining: 684ms\n",
            "17:\tlearn: 6.2388191\ttotal: 223ms\tremaining: 1.02s\n",
            "18:\tlearn: 6.1493953\ttotal: 226ms\tremaining: 963ms\n",
            "19:\tlearn: 6.0014958\ttotal: 228ms\tremaining: 911ms\n",
            "20:\tlearn: 5.9460031\ttotal: 231ms\tremaining: 868ms\n",
            "21:\tlearn: 5.8255457\ttotal: 238ms\tremaining: 844ms\n",
            "22:\tlearn: 5.7688810\ttotal: 321ms\tremaining: 1.07s\n",
            "23:\tlearn: 5.6996912\ttotal: 323ms\tremaining: 1.02s\n",
            "24:\tlearn: 5.5743732\ttotal: 325ms\tremaining: 974ms\n",
            "25:\tlearn: 5.4355152\ttotal: 327ms\tremaining: 930ms\n",
            "26:\tlearn: 5.3565605\ttotal: 329ms\tremaining: 891ms\n",
            "27:\tlearn: 5.2199123\ttotal: 418ms\tremaining: 1.07s\n",
            "28:\tlearn: 5.1105258\ttotal: 420ms\tremaining: 1.03s\n",
            "29:\tlearn: 4.9996158\ttotal: 422ms\tremaining: 986ms\n",
            "30:\tlearn: 4.9433336\ttotal: 425ms\tremaining: 945ms\n",
            "31:\tlearn: 4.8666063\ttotal: 427ms\tremaining: 908ms\n",
            "32:\tlearn: 4.7380060\ttotal: 515ms\tremaining: 1.04s\n",
            "33:\tlearn: 4.6869380\ttotal: 517ms\tremaining: 1s\n",
            "34:\tlearn: 4.6023038\ttotal: 519ms\tremaining: 963ms\n",
            "35:\tlearn: 4.5346404\ttotal: 520ms\tremaining: 925ms\n",
            "36:\tlearn: 4.4635956\ttotal: 522ms\tremaining: 889ms\n",
            "37:\tlearn: 4.4525246\ttotal: 525ms\tremaining: 856ms\n",
            "38:\tlearn: 4.3683727\ttotal: 612ms\tremaining: 957ms\n",
            "39:\tlearn: 4.2837058\ttotal: 614ms\tremaining: 921ms\n",
            "40:\tlearn: 4.2175627\ttotal: 619ms\tremaining: 890ms\n",
            "41:\tlearn: 4.1091104\ttotal: 621ms\tremaining: 857ms\n",
            "42:\tlearn: 4.0812909\ttotal: 622ms\tremaining: 825ms\n",
            "43:\tlearn: 4.0425914\ttotal: 629ms\tremaining: 801ms\n",
            "44:\tlearn: 4.0196335\ttotal: 710ms\tremaining: 868ms\n",
            "45:\tlearn: 3.9800205\ttotal: 712ms\tremaining: 836ms\n",
            "46:\tlearn: 3.8770553\ttotal: 715ms\tremaining: 806ms\n",
            "47:\tlearn: 3.8622113\ttotal: 716ms\tremaining: 776ms\n",
            "48:\tlearn: 3.7935186\ttotal: 718ms\tremaining: 747ms\n",
            "49:\tlearn: 3.7266622\ttotal: 807ms\tremaining: 807ms\n",
            "50:\tlearn: 3.6957582\ttotal: 809ms\tremaining: 777ms\n",
            "51:\tlearn: 3.6543415\ttotal: 811ms\tremaining: 748ms\n",
            "52:\tlearn: 3.6054386\ttotal: 812ms\tremaining: 720ms\n",
            "53:\tlearn: 3.5544905\ttotal: 814ms\tremaining: 694ms\n",
            "54:\tlearn: 3.5433676\ttotal: 818ms\tremaining: 670ms\n",
            "55:\tlearn: 3.5257506\ttotal: 904ms\tremaining: 711ms\n",
            "56:\tlearn: 3.4949107\ttotal: 907ms\tremaining: 684ms\n",
            "57:\tlearn: 3.4380995\ttotal: 909ms\tremaining: 658ms\n",
            "58:\tlearn: 3.3968686\ttotal: 911ms\tremaining: 633ms\n",
            "59:\tlearn: 3.3541284\ttotal: 912ms\tremaining: 608ms\n",
            "60:\tlearn: 3.3198178\ttotal: 920ms\tremaining: 588ms\n",
            "61:\tlearn: 3.2660420\ttotal: 1s\tremaining: 615ms\n",
            "62:\tlearn: 3.2289757\ttotal: 1s\tremaining: 590ms\n",
            "63:\tlearn: 3.1724113\ttotal: 1.01s\tremaining: 566ms\n",
            "64:\tlearn: 3.1687467\ttotal: 1.01s\tremaining: 543ms\n",
            "65:\tlearn: 3.1311252\ttotal: 1.01s\tremaining: 521ms\n",
            "66:\tlearn: 3.1132690\ttotal: 1.02s\tremaining: 504ms\n",
            "67:\tlearn: 3.0609049\ttotal: 1.1s\tremaining: 518ms\n",
            "68:\tlearn: 3.0239916\ttotal: 1.1s\tremaining: 495ms\n",
            "69:\tlearn: 3.0214847\ttotal: 1.1s\tremaining: 473ms\n",
            "70:\tlearn: 2.9726072\ttotal: 1.11s\tremaining: 452ms\n",
            "71:\tlearn: 2.8995329\ttotal: 1.11s\tremaining: 433ms\n",
            "72:\tlearn: 2.8550081\ttotal: 1.2s\tremaining: 443ms\n",
            "73:\tlearn: 2.8431673\ttotal: 1.2s\tremaining: 421ms\n",
            "74:\tlearn: 2.8211431\ttotal: 1.2s\tremaining: 400ms\n",
            "75:\tlearn: 2.8167842\ttotal: 1.2s\tremaining: 380ms\n",
            "76:\tlearn: 2.7795816\ttotal: 1.2s\tremaining: 360ms\n",
            "77:\tlearn: 2.7525252\ttotal: 1.21s\tremaining: 342ms\n",
            "78:\tlearn: 2.7413026\ttotal: 1.29s\tremaining: 344ms\n",
            "79:\tlearn: 2.7219866\ttotal: 1.3s\tremaining: 324ms\n",
            "80:\tlearn: 2.7152473\ttotal: 1.3s\tremaining: 305ms\n",
            "81:\tlearn: 2.6913418\ttotal: 1.3s\tremaining: 286ms\n",
            "82:\tlearn: 2.6621633\ttotal: 1.3s\tremaining: 267ms\n",
            "83:\tlearn: 2.6188386\ttotal: 1.31s\tremaining: 250ms\n",
            "84:\tlearn: 2.5928388\ttotal: 1.39s\tremaining: 246ms\n",
            "85:\tlearn: 2.5688571\ttotal: 1.39s\tremaining: 227ms\n",
            "86:\tlearn: 2.5543093\ttotal: 1.4s\tremaining: 209ms\n",
            "87:\tlearn: 2.5103404\ttotal: 1.4s\tremaining: 191ms\n",
            "88:\tlearn: 2.4862307\ttotal: 1.4s\tremaining: 173ms\n",
            "89:\tlearn: 2.4482424\ttotal: 1.49s\tremaining: 165ms\n",
            "90:\tlearn: 2.4072223\ttotal: 1.49s\tremaining: 147ms\n",
            "91:\tlearn: 2.3685760\ttotal: 1.49s\tremaining: 130ms\n",
            "92:\tlearn: 2.3446567\ttotal: 1.5s\tremaining: 113ms\n",
            "93:\tlearn: 2.3287130\ttotal: 1.5s\tremaining: 95.7ms\n",
            "94:\tlearn: 2.2996833\ttotal: 1.59s\tremaining: 83.5ms\n",
            "95:\tlearn: 2.2779365\ttotal: 1.59s\tremaining: 66.2ms\n",
            "96:\tlearn: 2.2440537\ttotal: 1.59s\tremaining: 49.2ms\n",
            "97:\tlearn: 2.2155650\ttotal: 1.59s\tremaining: 32.5ms\n",
            "98:\tlearn: 2.2038306\ttotal: 1.59s\tremaining: 16.1ms\n",
            "99:\tlearn: 2.1594445\ttotal: 1.6s\tremaining: 0us\n",
            "--- n_estimators: 100 | learning_rate: 0.75 ---\n",
            "MAE: 7.19787572763662\n",
            "\n",
            "0:\tlearn: 10.4448476\ttotal: 1.95ms\tremaining: 242ms\n",
            "1:\tlearn: 9.8545054\ttotal: 3.94ms\tremaining: 243ms\n",
            "2:\tlearn: 9.3295637\ttotal: 5.68ms\tremaining: 231ms\n",
            "3:\tlearn: 9.0061328\ttotal: 7.55ms\tremaining: 228ms\n",
            "4:\tlearn: 8.7320155\ttotal: 10.2ms\tremaining: 245ms\n",
            "5:\tlearn: 8.5639072\ttotal: 11.9ms\tremaining: 236ms\n",
            "6:\tlearn: 8.3749868\ttotal: 13.7ms\tremaining: 231ms\n",
            "7:\tlearn: 8.2289666\ttotal: 15.5ms\tremaining: 227ms\n",
            "8:\tlearn: 8.0914192\ttotal: 17.3ms\tremaining: 223ms\n",
            "9:\tlearn: 7.9459908\ttotal: 19ms\tremaining: 219ms\n",
            "10:\tlearn: 7.8465215\ttotal: 26.1ms\tremaining: 271ms\n",
            "11:\tlearn: 7.7647353\ttotal: 109ms\tremaining: 1.02s\n",
            "12:\tlearn: 7.6471075\ttotal: 112ms\tremaining: 965ms\n",
            "13:\tlearn: 7.5694267\ttotal: 114ms\tremaining: 903ms\n",
            "14:\tlearn: 7.4822021\ttotal: 116ms\tremaining: 849ms\n",
            "15:\tlearn: 7.4594873\ttotal: 118ms\tremaining: 802ms\n",
            "16:\tlearn: 7.3920524\ttotal: 207ms\tremaining: 1.31s\n",
            "17:\tlearn: 7.3445014\ttotal: 209ms\tremaining: 1.24s\n",
            "18:\tlearn: 7.2595547\ttotal: 211ms\tremaining: 1.17s\n",
            "19:\tlearn: 7.2123486\ttotal: 212ms\tremaining: 1.11s\n",
            "20:\tlearn: 7.1415751\ttotal: 219ms\tremaining: 1.09s\n",
            "21:\tlearn: 7.0931951\ttotal: 303ms\tremaining: 1.42s\n",
            "22:\tlearn: 7.0589087\ttotal: 305ms\tremaining: 1.35s\n",
            "23:\tlearn: 7.0280481\ttotal: 307ms\tremaining: 1.29s\n",
            "24:\tlearn: 6.9884381\ttotal: 309ms\tremaining: 1.24s\n",
            "25:\tlearn: 6.9178526\ttotal: 311ms\tremaining: 1.18s\n",
            "26:\tlearn: 6.8576948\ttotal: 318ms\tremaining: 1.16s\n",
            "27:\tlearn: 6.8202168\ttotal: 401ms\tremaining: 1.39s\n",
            "28:\tlearn: 6.7631950\ttotal: 403ms\tremaining: 1.33s\n",
            "29:\tlearn: 6.7106729\ttotal: 405ms\tremaining: 1.28s\n",
            "30:\tlearn: 6.6626333\ttotal: 407ms\tremaining: 1.24s\n",
            "31:\tlearn: 6.6001634\ttotal: 415ms\tremaining: 1.2s\n",
            "32:\tlearn: 6.5766673\ttotal: 498ms\tremaining: 1.39s\n",
            "33:\tlearn: 6.5326572\ttotal: 500ms\tremaining: 1.34s\n",
            "34:\tlearn: 6.5018584\ttotal: 502ms\tremaining: 1.29s\n",
            "35:\tlearn: 6.4425404\ttotal: 504ms\tremaining: 1.25s\n",
            "36:\tlearn: 6.4010040\ttotal: 506ms\tremaining: 1.2s\n",
            "37:\tlearn: 6.3525592\ttotal: 514ms\tremaining: 1.18s\n",
            "38:\tlearn: 6.3075653\ttotal: 596ms\tremaining: 1.31s\n",
            "39:\tlearn: 6.2619594\ttotal: 598ms\tremaining: 1.27s\n",
            "40:\tlearn: 6.2184431\ttotal: 599ms\tremaining: 1.23s\n",
            "41:\tlearn: 6.1541084\ttotal: 603ms\tremaining: 1.19s\n",
            "42:\tlearn: 6.1335786\ttotal: 610ms\tremaining: 1.16s\n",
            "43:\tlearn: 6.0940055\ttotal: 693ms\tremaining: 1.27s\n",
            "44:\tlearn: 6.0647686\ttotal: 695ms\tremaining: 1.24s\n",
            "45:\tlearn: 6.0139808\ttotal: 697ms\tremaining: 1.2s\n",
            "46:\tlearn: 5.9733952\ttotal: 699ms\tremaining: 1.16s\n",
            "47:\tlearn: 5.9396721\ttotal: 702ms\tremaining: 1.13s\n",
            "48:\tlearn: 5.8868371\ttotal: 709ms\tremaining: 1.1s\n",
            "49:\tlearn: 5.8762179\ttotal: 791ms\tremaining: 1.19s\n",
            "50:\tlearn: 5.7968056\ttotal: 793ms\tremaining: 1.15s\n",
            "51:\tlearn: 5.7652174\ttotal: 795ms\tremaining: 1.11s\n",
            "52:\tlearn: 5.7186583\ttotal: 797ms\tremaining: 1.08s\n",
            "53:\tlearn: 5.6677007\ttotal: 802ms\tremaining: 1.05s\n",
            "54:\tlearn: 5.6498641\ttotal: 887ms\tremaining: 1.13s\n",
            "55:\tlearn: 5.5979390\ttotal: 889ms\tremaining: 1.09s\n",
            "56:\tlearn: 5.5594738\ttotal: 891ms\tremaining: 1.06s\n",
            "57:\tlearn: 5.5316201\ttotal: 893ms\tremaining: 1.03s\n",
            "58:\tlearn: 5.5053405\ttotal: 895ms\tremaining: 1s\n",
            "59:\tlearn: 5.4880473\ttotal: 902ms\tremaining: 978ms\n",
            "60:\tlearn: 5.4645121\ttotal: 985ms\tremaining: 1.03s\n",
            "61:\tlearn: 5.4537301\ttotal: 987ms\tremaining: 1s\n",
            "62:\tlearn: 5.4178364\ttotal: 989ms\tremaining: 973ms\n",
            "63:\tlearn: 5.3597320\ttotal: 991ms\tremaining: 945ms\n",
            "64:\tlearn: 5.3333359\ttotal: 993ms\tremaining: 916ms\n",
            "65:\tlearn: 5.2663543\ttotal: 1s\tremaining: 895ms\n",
            "66:\tlearn: 5.2613768\ttotal: 1.08s\tremaining: 937ms\n",
            "67:\tlearn: 5.2385591\ttotal: 1.08s\tremaining: 910ms\n",
            "68:\tlearn: 5.2131276\ttotal: 1.09s\tremaining: 882ms\n",
            "69:\tlearn: 5.1911678\ttotal: 1.09s\tremaining: 856ms\n",
            "70:\tlearn: 5.1568973\ttotal: 1.1s\tremaining: 834ms\n",
            "71:\tlearn: 5.1398684\ttotal: 1.18s\tremaining: 868ms\n",
            "72:\tlearn: 5.0901662\ttotal: 1.18s\tremaining: 842ms\n",
            "73:\tlearn: 5.0873045\ttotal: 1.18s\tremaining: 816ms\n",
            "74:\tlearn: 5.0762132\ttotal: 1.19s\tremaining: 790ms\n",
            "75:\tlearn: 5.0591745\ttotal: 1.19s\tremaining: 765ms\n",
            "76:\tlearn: 5.0301150\ttotal: 1.19s\tremaining: 744ms\n",
            "77:\tlearn: 5.0127068\ttotal: 1.28s\tremaining: 769ms\n",
            "78:\tlearn: 4.9800861\ttotal: 1.28s\tremaining: 745ms\n",
            "79:\tlearn: 4.9551295\ttotal: 1.28s\tremaining: 721ms\n",
            "80:\tlearn: 4.9178651\ttotal: 1.28s\tremaining: 697ms\n",
            "81:\tlearn: 4.8912162\ttotal: 1.28s\tremaining: 674ms\n",
            "82:\tlearn: 4.8551925\ttotal: 1.29s\tremaining: 654ms\n",
            "83:\tlearn: 4.8366460\ttotal: 1.37s\tremaining: 671ms\n",
            "84:\tlearn: 4.7987143\ttotal: 1.38s\tremaining: 648ms\n",
            "85:\tlearn: 4.7835322\ttotal: 1.38s\tremaining: 625ms\n",
            "86:\tlearn: 4.7499806\ttotal: 1.38s\tremaining: 603ms\n",
            "87:\tlearn: 4.7225689\ttotal: 1.38s\tremaining: 581ms\n",
            "88:\tlearn: 4.6911818\ttotal: 1.39s\tremaining: 562ms\n",
            "89:\tlearn: 4.6646222\ttotal: 1.47s\tremaining: 573ms\n",
            "90:\tlearn: 4.6430838\ttotal: 1.48s\tremaining: 551ms\n",
            "91:\tlearn: 4.6203763\ttotal: 1.48s\tremaining: 530ms\n",
            "92:\tlearn: 4.5921439\ttotal: 1.48s\tremaining: 509ms\n",
            "93:\tlearn: 4.5598030\ttotal: 1.49s\tremaining: 490ms\n",
            "94:\tlearn: 4.5497556\ttotal: 1.57s\tremaining: 495ms\n",
            "95:\tlearn: 4.5289608\ttotal: 1.57s\tremaining: 475ms\n",
            "96:\tlearn: 4.4996969\ttotal: 1.57s\tremaining: 454ms\n",
            "97:\tlearn: 4.4782857\ttotal: 1.57s\tremaining: 434ms\n",
            "98:\tlearn: 4.4647891\ttotal: 1.58s\tremaining: 414ms\n",
            "99:\tlearn: 4.4613103\ttotal: 1.58s\tremaining: 396ms\n",
            "100:\tlearn: 4.4594876\ttotal: 1.67s\tremaining: 396ms\n",
            "101:\tlearn: 4.4439250\ttotal: 1.67s\tremaining: 376ms\n",
            "102:\tlearn: 4.4427636\ttotal: 1.67s\tremaining: 357ms\n",
            "103:\tlearn: 4.4179680\ttotal: 1.67s\tremaining: 338ms\n",
            "104:\tlearn: 4.4060581\ttotal: 1.68s\tremaining: 319ms\n",
            "105:\tlearn: 4.3871235\ttotal: 1.76s\tremaining: 316ms\n",
            "106:\tlearn: 4.3685725\ttotal: 1.76s\tremaining: 297ms\n",
            "107:\tlearn: 4.3637429\ttotal: 1.77s\tremaining: 278ms\n",
            "108:\tlearn: 4.3380654\ttotal: 1.77s\tremaining: 260ms\n",
            "109:\tlearn: 4.3315892\ttotal: 1.77s\tremaining: 241ms\n",
            "110:\tlearn: 4.3081379\ttotal: 1.77s\tremaining: 224ms\n",
            "111:\tlearn: 4.2895989\ttotal: 1.86s\tremaining: 216ms\n",
            "112:\tlearn: 4.2829180\ttotal: 1.86s\tremaining: 198ms\n",
            "113:\tlearn: 4.2601718\ttotal: 1.86s\tremaining: 180ms\n",
            "114:\tlearn: 4.2136286\ttotal: 1.87s\tremaining: 162ms\n",
            "115:\tlearn: 4.2041619\ttotal: 1.87s\tremaining: 145ms\n",
            "116:\tlearn: 4.1926196\ttotal: 1.88s\tremaining: 128ms\n",
            "117:\tlearn: 4.1734762\ttotal: 1.96s\tremaining: 116ms\n",
            "118:\tlearn: 4.1591307\ttotal: 1.96s\tremaining: 98.8ms\n",
            "119:\tlearn: 4.1467470\ttotal: 1.96s\tremaining: 81.8ms\n",
            "120:\tlearn: 4.1262209\ttotal: 1.96s\tremaining: 64.9ms\n",
            "121:\tlearn: 4.1071458\ttotal: 1.97s\tremaining: 48.3ms\n",
            "122:\tlearn: 4.0851358\ttotal: 1.97s\tremaining: 32.1ms\n",
            "123:\tlearn: 4.0596036\ttotal: 2.06s\tremaining: 16.6ms\n",
            "124:\tlearn: 4.0452747\ttotal: 2.06s\tremaining: 0us\n",
            "--- n_estimators: 125 | learning_rate: 0.25 ---\n",
            "MAE: 6.196631857953686\n",
            "\n",
            "0:\tlearn: 9.8623079\ttotal: 2.37ms\tremaining: 294ms\n",
            "1:\tlearn: 9.0113666\ttotal: 4.98ms\tremaining: 306ms\n",
            "2:\tlearn: 8.5122767\ttotal: 8.15ms\tremaining: 331ms\n",
            "3:\tlearn: 8.3547638\ttotal: 10.9ms\tremaining: 331ms\n",
            "4:\tlearn: 8.0826846\ttotal: 18.6ms\tremaining: 447ms\n",
            "5:\tlearn: 7.7897863\ttotal: 90.1ms\tremaining: 1.79s\n",
            "6:\tlearn: 7.6489649\ttotal: 92.1ms\tremaining: 1.55s\n",
            "7:\tlearn: 7.5733970\ttotal: 93.8ms\tremaining: 1.37s\n",
            "8:\tlearn: 7.4644127\ttotal: 95.9ms\tremaining: 1.24s\n",
            "9:\tlearn: 7.3290433\ttotal: 97.7ms\tremaining: 1.12s\n",
            "10:\tlearn: 7.2265294\ttotal: 105ms\tremaining: 1.09s\n",
            "11:\tlearn: 7.1334735\ttotal: 189ms\tremaining: 1.77s\n",
            "12:\tlearn: 7.0759962\ttotal: 191ms\tremaining: 1.64s\n",
            "13:\tlearn: 7.0107741\ttotal: 193ms\tremaining: 1.53s\n",
            "14:\tlearn: 6.7951302\ttotal: 196ms\tremaining: 1.44s\n",
            "15:\tlearn: 6.7506077\ttotal: 205ms\tremaining: 1.4s\n",
            "16:\tlearn: 6.6557850\ttotal: 285ms\tremaining: 1.81s\n",
            "17:\tlearn: 6.5081089\ttotal: 287ms\tremaining: 1.71s\n",
            "18:\tlearn: 6.4166643\ttotal: 289ms\tremaining: 1.61s\n",
            "19:\tlearn: 6.3793299\ttotal: 291ms\tremaining: 1.53s\n",
            "20:\tlearn: 6.2556601\ttotal: 293ms\tremaining: 1.45s\n",
            "21:\tlearn: 6.1505987\ttotal: 300ms\tremaining: 1.4s\n",
            "22:\tlearn: 6.0594945\ttotal: 383ms\tremaining: 1.7s\n",
            "23:\tlearn: 6.0398852\ttotal: 385ms\tremaining: 1.62s\n",
            "24:\tlearn: 5.9433587\ttotal: 387ms\tremaining: 1.55s\n",
            "25:\tlearn: 5.8810444\ttotal: 389ms\tremaining: 1.48s\n",
            "26:\tlearn: 5.8291471\ttotal: 390ms\tremaining: 1.42s\n",
            "27:\tlearn: 5.8100784\ttotal: 397ms\tremaining: 1.38s\n",
            "28:\tlearn: 5.6892287\ttotal: 481ms\tremaining: 1.59s\n",
            "29:\tlearn: 5.6410127\ttotal: 483ms\tremaining: 1.53s\n",
            "30:\tlearn: 5.5859990\ttotal: 485ms\tremaining: 1.47s\n",
            "31:\tlearn: 5.5291132\ttotal: 487ms\tremaining: 1.41s\n",
            "32:\tlearn: 5.4377114\ttotal: 489ms\tremaining: 1.36s\n",
            "33:\tlearn: 5.3617961\ttotal: 496ms\tremaining: 1.33s\n",
            "34:\tlearn: 5.3399668\ttotal: 577ms\tremaining: 1.48s\n",
            "35:\tlearn: 5.2563598\ttotal: 579ms\tremaining: 1.43s\n",
            "36:\tlearn: 5.1977090\ttotal: 581ms\tremaining: 1.38s\n",
            "37:\tlearn: 5.1705990\ttotal: 583ms\tremaining: 1.33s\n",
            "38:\tlearn: 5.1082274\ttotal: 585ms\tremaining: 1.29s\n",
            "39:\tlearn: 5.0137283\ttotal: 592ms\tremaining: 1.26s\n",
            "40:\tlearn: 4.9865926\ttotal: 675ms\tremaining: 1.38s\n",
            "41:\tlearn: 4.9378337\ttotal: 677ms\tremaining: 1.34s\n",
            "42:\tlearn: 4.8944574\ttotal: 680ms\tremaining: 1.3s\n",
            "43:\tlearn: 4.7988715\ttotal: 682ms\tremaining: 1.25s\n",
            "44:\tlearn: 4.7758183\ttotal: 690ms\tremaining: 1.23s\n",
            "45:\tlearn: 4.7433580\ttotal: 772ms\tremaining: 1.32s\n",
            "46:\tlearn: 4.6887952\ttotal: 774ms\tremaining: 1.28s\n",
            "47:\tlearn: 4.6347441\ttotal: 775ms\tremaining: 1.24s\n",
            "48:\tlearn: 4.5787885\ttotal: 777ms\tremaining: 1.21s\n",
            "49:\tlearn: 4.5244483\ttotal: 779ms\tremaining: 1.17s\n",
            "50:\tlearn: 4.4998692\ttotal: 786ms\tremaining: 1.14s\n",
            "51:\tlearn: 4.4641758\ttotal: 869ms\tremaining: 1.22s\n",
            "52:\tlearn: 4.4193471\ttotal: 871ms\tremaining: 1.18s\n",
            "53:\tlearn: 4.3623412\ttotal: 873ms\tremaining: 1.15s\n",
            "54:\tlearn: 4.3413811\ttotal: 876ms\tremaining: 1.11s\n",
            "55:\tlearn: 4.3088867\ttotal: 878ms\tremaining: 1.08s\n",
            "56:\tlearn: 4.2613604\ttotal: 880ms\tremaining: 1.05s\n",
            "57:\tlearn: 4.2253703\ttotal: 966ms\tremaining: 1.12s\n",
            "58:\tlearn: 4.1930011\ttotal: 969ms\tremaining: 1.08s\n",
            "59:\tlearn: 4.1374643\ttotal: 971ms\tremaining: 1.05s\n",
            "60:\tlearn: 4.0948867\ttotal: 973ms\tremaining: 1.02s\n",
            "61:\tlearn: 4.0484707\ttotal: 975ms\tremaining: 991ms\n",
            "62:\tlearn: 4.0441332\ttotal: 982ms\tremaining: 966ms\n",
            "63:\tlearn: 4.0254096\ttotal: 1.06s\tremaining: 1.01s\n",
            "64:\tlearn: 3.9901070\ttotal: 1.06s\tremaining: 983ms\n",
            "65:\tlearn: 3.9872285\ttotal: 1.07s\tremaining: 954ms\n",
            "66:\tlearn: 3.9492365\ttotal: 1.07s\tremaining: 925ms\n",
            "67:\tlearn: 3.8885941\ttotal: 1.07s\tremaining: 899ms\n",
            "68:\tlearn: 3.8668776\ttotal: 1.08s\tremaining: 876ms\n",
            "69:\tlearn: 3.8081810\ttotal: 1.16s\tremaining: 912ms\n",
            "70:\tlearn: 3.7749457\ttotal: 1.16s\tremaining: 885ms\n",
            "71:\tlearn: 3.7698616\ttotal: 1.17s\tremaining: 859ms\n",
            "72:\tlearn: 3.7162810\ttotal: 1.17s\tremaining: 832ms\n",
            "73:\tlearn: 3.6805275\ttotal: 1.18s\tremaining: 810ms\n",
            "74:\tlearn: 3.6695465\ttotal: 1.26s\tremaining: 839ms\n",
            "75:\tlearn: 3.6278490\ttotal: 1.26s\tremaining: 812ms\n",
            "76:\tlearn: 3.6009554\ttotal: 1.26s\tremaining: 787ms\n",
            "77:\tlearn: 3.5444142\ttotal: 1.26s\tremaining: 761ms\n",
            "78:\tlearn: 3.5414401\ttotal: 1.26s\tremaining: 737ms\n",
            "79:\tlearn: 3.5161810\ttotal: 1.35s\tremaining: 762ms\n",
            "80:\tlearn: 3.4855720\ttotal: 1.36s\tremaining: 737ms\n",
            "81:\tlearn: 3.4417892\ttotal: 1.36s\tremaining: 712ms\n",
            "82:\tlearn: 3.3871359\ttotal: 1.36s\tremaining: 688ms\n",
            "83:\tlearn: 3.3453872\ttotal: 1.36s\tremaining: 665ms\n",
            "84:\tlearn: 3.3060595\ttotal: 1.37s\tremaining: 645ms\n",
            "85:\tlearn: 3.2533694\ttotal: 1.45s\tremaining: 659ms\n",
            "86:\tlearn: 3.2272877\ttotal: 1.45s\tremaining: 635ms\n",
            "87:\tlearn: 3.1979939\ttotal: 1.46s\tremaining: 612ms\n",
            "88:\tlearn: 3.1697729\ttotal: 1.46s\tremaining: 590ms\n",
            "89:\tlearn: 3.1406030\ttotal: 1.46s\tremaining: 568ms\n",
            "90:\tlearn: 3.1164322\ttotal: 1.47s\tremaining: 549ms\n",
            "91:\tlearn: 3.0908036\ttotal: 1.55s\tremaining: 556ms\n",
            "92:\tlearn: 3.0679093\ttotal: 1.55s\tremaining: 534ms\n",
            "93:\tlearn: 3.0341826\ttotal: 1.55s\tremaining: 512ms\n",
            "94:\tlearn: 3.0208845\ttotal: 1.56s\tremaining: 492ms\n",
            "95:\tlearn: 3.0081584\ttotal: 1.56s\tremaining: 471ms\n",
            "96:\tlearn: 2.9828695\ttotal: 1.65s\tremaining: 475ms\n",
            "97:\tlearn: 2.9743763\ttotal: 1.65s\tremaining: 454ms\n",
            "98:\tlearn: 2.9697290\ttotal: 1.65s\tremaining: 433ms\n",
            "99:\tlearn: 2.9408533\ttotal: 1.65s\tremaining: 413ms\n",
            "100:\tlearn: 2.8960262\ttotal: 1.65s\tremaining: 393ms\n",
            "101:\tlearn: 2.8874542\ttotal: 1.66s\tremaining: 375ms\n",
            "102:\tlearn: 2.8680732\ttotal: 1.74s\tremaining: 373ms\n",
            "103:\tlearn: 2.8447126\ttotal: 1.75s\tremaining: 353ms\n",
            "104:\tlearn: 2.8152952\ttotal: 1.75s\tremaining: 333ms\n",
            "105:\tlearn: 2.8104239\ttotal: 1.75s\tremaining: 314ms\n",
            "106:\tlearn: 2.8014184\ttotal: 1.75s\tremaining: 295ms\n",
            "107:\tlearn: 2.7762577\ttotal: 1.76s\tremaining: 277ms\n",
            "108:\tlearn: 2.7552602\ttotal: 1.84s\tremaining: 270ms\n",
            "109:\tlearn: 2.7447054\ttotal: 1.84s\tremaining: 251ms\n",
            "110:\tlearn: 2.7099887\ttotal: 1.84s\tremaining: 233ms\n",
            "111:\tlearn: 2.7079543\ttotal: 1.85s\tremaining: 214ms\n",
            "112:\tlearn: 2.7066020\ttotal: 1.85s\tremaining: 196ms\n",
            "113:\tlearn: 2.7050373\ttotal: 1.94s\tremaining: 187ms\n",
            "114:\tlearn: 2.6873349\ttotal: 1.94s\tremaining: 169ms\n",
            "115:\tlearn: 2.6755492\ttotal: 1.94s\tremaining: 151ms\n",
            "116:\tlearn: 2.6585107\ttotal: 1.95s\tremaining: 133ms\n",
            "117:\tlearn: 2.6221251\ttotal: 1.95s\tremaining: 116ms\n",
            "118:\tlearn: 2.6015792\ttotal: 1.96s\tremaining: 98.6ms\n",
            "119:\tlearn: 2.5773668\ttotal: 2.04s\tremaining: 84.8ms\n",
            "120:\tlearn: 2.5654985\ttotal: 2.04s\tremaining: 67.3ms\n",
            "121:\tlearn: 2.5523876\ttotal: 2.04s\tremaining: 50.1ms\n",
            "122:\tlearn: 2.5340110\ttotal: 2.04s\tremaining: 33.2ms\n",
            "123:\tlearn: 2.5133936\ttotal: 2.04s\tremaining: 16.5ms\n",
            "124:\tlearn: 2.4962126\ttotal: 2.05s\tremaining: 0us\n",
            "--- n_estimators: 125 | learning_rate: 0.5 ---\n",
            "MAE: 6.901765113451881\n",
            "\n",
            "0:\tlearn: 9.4480674\ttotal: 2.27ms\tremaining: 282ms\n",
            "1:\tlearn: 8.6597243\ttotal: 4.12ms\tremaining: 254ms\n",
            "2:\tlearn: 8.2278282\ttotal: 5.96ms\tremaining: 242ms\n",
            "3:\tlearn: 8.0841156\ttotal: 7.8ms\tremaining: 236ms\n",
            "4:\tlearn: 7.7942556\ttotal: 9.75ms\tremaining: 234ms\n",
            "5:\tlearn: 7.5923642\ttotal: 16.9ms\tremaining: 335ms\n",
            "6:\tlearn: 7.4118184\ttotal: 53.4ms\tremaining: 900ms\n",
            "7:\tlearn: 7.2621442\ttotal: 55.3ms\tremaining: 808ms\n",
            "8:\tlearn: 7.1922587\ttotal: 57ms\tremaining: 735ms\n",
            "9:\tlearn: 7.0468558\ttotal: 58.9ms\tremaining: 677ms\n",
            "10:\tlearn: 6.9371119\ttotal: 60.7ms\tremaining: 629ms\n",
            "11:\tlearn: 6.8570680\ttotal: 67.9ms\tremaining: 639ms\n",
            "12:\tlearn: 6.7125721\ttotal: 151ms\tremaining: 1.3s\n",
            "13:\tlearn: 6.6102596\ttotal: 153ms\tremaining: 1.21s\n",
            "14:\tlearn: 6.5816737\ttotal: 155ms\tremaining: 1.14s\n",
            "15:\tlearn: 6.4229799\ttotal: 157ms\tremaining: 1.07s\n",
            "16:\tlearn: 6.3247801\ttotal: 164ms\tremaining: 1.04s\n",
            "17:\tlearn: 6.2388191\ttotal: 171ms\tremaining: 1.02s\n",
            "18:\tlearn: 6.1493953\ttotal: 249ms\tremaining: 1.39s\n",
            "19:\tlearn: 6.0014958\ttotal: 251ms\tremaining: 1.32s\n",
            "20:\tlearn: 5.9460031\ttotal: 254ms\tremaining: 1.26s\n",
            "21:\tlearn: 5.8255457\ttotal: 256ms\tremaining: 1.2s\n",
            "22:\tlearn: 5.7688810\ttotal: 259ms\tremaining: 1.15s\n",
            "23:\tlearn: 5.6996912\ttotal: 266ms\tremaining: 1.12s\n",
            "24:\tlearn: 5.5743732\ttotal: 345ms\tremaining: 1.38s\n",
            "25:\tlearn: 5.4355152\ttotal: 347ms\tremaining: 1.32s\n",
            "26:\tlearn: 5.3565605\ttotal: 350ms\tremaining: 1.27s\n",
            "27:\tlearn: 5.2199123\ttotal: 351ms\tremaining: 1.22s\n",
            "28:\tlearn: 5.1105258\ttotal: 353ms\tremaining: 1.17s\n",
            "29:\tlearn: 4.9996158\ttotal: 360ms\tremaining: 1.14s\n",
            "30:\tlearn: 4.9433336\ttotal: 443ms\tremaining: 1.34s\n",
            "31:\tlearn: 4.8666063\ttotal: 448ms\tremaining: 1.3s\n",
            "32:\tlearn: 4.7380060\ttotal: 451ms\tremaining: 1.26s\n",
            "33:\tlearn: 4.6869380\ttotal: 453ms\tremaining: 1.21s\n",
            "34:\tlearn: 4.6023038\ttotal: 460ms\tremaining: 1.18s\n",
            "35:\tlearn: 4.5346404\ttotal: 540ms\tremaining: 1.33s\n",
            "36:\tlearn: 4.4635956\ttotal: 542ms\tremaining: 1.29s\n",
            "37:\tlearn: 4.4525246\ttotal: 544ms\tremaining: 1.25s\n",
            "38:\tlearn: 4.3683727\ttotal: 546ms\tremaining: 1.2s\n",
            "39:\tlearn: 4.2837058\ttotal: 548ms\tremaining: 1.16s\n",
            "40:\tlearn: 4.2175627\ttotal: 636ms\tremaining: 1.3s\n",
            "41:\tlearn: 4.1091104\ttotal: 638ms\tremaining: 1.26s\n",
            "42:\tlearn: 4.0812909\ttotal: 640ms\tremaining: 1.22s\n",
            "43:\tlearn: 4.0425914\ttotal: 642ms\tremaining: 1.18s\n",
            "44:\tlearn: 4.0196335\ttotal: 644ms\tremaining: 1.14s\n",
            "45:\tlearn: 3.9800205\ttotal: 647ms\tremaining: 1.11s\n",
            "46:\tlearn: 3.8770553\ttotal: 735ms\tremaining: 1.22s\n",
            "47:\tlearn: 3.8622113\ttotal: 737ms\tremaining: 1.18s\n",
            "48:\tlearn: 3.7935186\ttotal: 739ms\tremaining: 1.15s\n",
            "49:\tlearn: 3.7266622\ttotal: 741ms\tremaining: 1.11s\n",
            "50:\tlearn: 3.6957582\ttotal: 743ms\tremaining: 1.08s\n",
            "51:\tlearn: 3.6543415\ttotal: 751ms\tremaining: 1.05s\n",
            "52:\tlearn: 3.6054386\ttotal: 832ms\tremaining: 1.13s\n",
            "53:\tlearn: 3.5544905\ttotal: 834ms\tremaining: 1.1s\n",
            "54:\tlearn: 3.5433676\ttotal: 836ms\tremaining: 1.06s\n",
            "55:\tlearn: 3.5257506\ttotal: 838ms\tremaining: 1.03s\n",
            "56:\tlearn: 3.4949107\ttotal: 842ms\tremaining: 1s\n",
            "57:\tlearn: 3.4380995\ttotal: 928ms\tremaining: 1.07s\n",
            "58:\tlearn: 3.3968686\ttotal: 930ms\tremaining: 1.04s\n",
            "59:\tlearn: 3.3541284\ttotal: 932ms\tremaining: 1.01s\n",
            "60:\tlearn: 3.3198178\ttotal: 934ms\tremaining: 980ms\n",
            "61:\tlearn: 3.2660420\ttotal: 936ms\tremaining: 951ms\n",
            "62:\tlearn: 3.2289757\ttotal: 943ms\tremaining: 928ms\n",
            "63:\tlearn: 3.1724113\ttotal: 1.02s\tremaining: 977ms\n",
            "64:\tlearn: 3.1687467\ttotal: 1.03s\tremaining: 948ms\n",
            "65:\tlearn: 3.1311252\ttotal: 1.03s\tremaining: 920ms\n",
            "66:\tlearn: 3.1132690\ttotal: 1.03s\tremaining: 892ms\n",
            "67:\tlearn: 3.0609049\ttotal: 1.03s\tremaining: 866ms\n",
            "68:\tlearn: 3.0239916\ttotal: 1.03s\tremaining: 840ms\n",
            "69:\tlearn: 3.0214847\ttotal: 1.12s\tremaining: 882ms\n",
            "70:\tlearn: 2.9726072\ttotal: 1.12s\tremaining: 855ms\n",
            "71:\tlearn: 2.8995329\ttotal: 1.13s\tremaining: 829ms\n",
            "72:\tlearn: 2.8550081\ttotal: 1.13s\tremaining: 804ms\n",
            "73:\tlearn: 2.8431673\ttotal: 1.13s\tremaining: 779ms\n",
            "74:\tlearn: 2.8211431\ttotal: 1.13s\tremaining: 755ms\n",
            "75:\tlearn: 2.8167842\ttotal: 1.22s\tremaining: 787ms\n",
            "76:\tlearn: 2.7795816\ttotal: 1.22s\tremaining: 762ms\n",
            "77:\tlearn: 2.7525252\ttotal: 1.22s\tremaining: 738ms\n",
            "78:\tlearn: 2.7413026\ttotal: 1.23s\tremaining: 714ms\n",
            "79:\tlearn: 2.7219866\ttotal: 1.23s\tremaining: 691ms\n",
            "80:\tlearn: 2.7152473\ttotal: 1.24s\tremaining: 671ms\n",
            "81:\tlearn: 2.6913418\ttotal: 1.32s\tremaining: 691ms\n",
            "82:\tlearn: 2.6621633\ttotal: 1.32s\tremaining: 669ms\n",
            "83:\tlearn: 2.6188386\ttotal: 1.32s\tremaining: 646ms\n",
            "84:\tlearn: 2.5928388\ttotal: 1.32s\tremaining: 624ms\n",
            "85:\tlearn: 2.5688571\ttotal: 1.33s\tremaining: 604ms\n",
            "86:\tlearn: 2.5543093\ttotal: 1.42s\tremaining: 618ms\n",
            "87:\tlearn: 2.5103404\ttotal: 1.42s\tremaining: 596ms\n",
            "88:\tlearn: 2.4862307\ttotal: 1.42s\tremaining: 574ms\n",
            "89:\tlearn: 2.4482424\ttotal: 1.42s\tremaining: 553ms\n",
            "90:\tlearn: 2.4072223\ttotal: 1.42s\tremaining: 532ms\n",
            "91:\tlearn: 2.3685760\ttotal: 1.43s\tremaining: 513ms\n",
            "92:\tlearn: 2.3446567\ttotal: 1.51s\tremaining: 521ms\n",
            "93:\tlearn: 2.3287130\ttotal: 1.52s\tremaining: 500ms\n",
            "94:\tlearn: 2.2996833\ttotal: 1.52s\tremaining: 480ms\n",
            "95:\tlearn: 2.2779365\ttotal: 1.52s\tremaining: 460ms\n",
            "96:\tlearn: 2.2440537\ttotal: 1.53s\tremaining: 441ms\n",
            "97:\tlearn: 2.2155650\ttotal: 1.61s\tremaining: 444ms\n",
            "98:\tlearn: 2.2038306\ttotal: 1.61s\tremaining: 424ms\n",
            "99:\tlearn: 2.1594445\ttotal: 1.61s\tremaining: 404ms\n",
            "100:\tlearn: 2.1502146\ttotal: 1.62s\tremaining: 384ms\n",
            "101:\tlearn: 2.1282570\ttotal: 1.62s\tremaining: 366ms\n",
            "102:\tlearn: 2.0917550\ttotal: 1.64s\tremaining: 349ms\n",
            "103:\tlearn: 2.0620662\ttotal: 1.71s\tremaining: 345ms\n",
            "104:\tlearn: 2.0440484\ttotal: 1.71s\tremaining: 326ms\n",
            "105:\tlearn: 2.0389499\ttotal: 1.71s\tremaining: 307ms\n",
            "106:\tlearn: 2.0154577\ttotal: 1.71s\tremaining: 288ms\n",
            "107:\tlearn: 2.0108322\ttotal: 1.72s\tremaining: 270ms\n",
            "108:\tlearn: 1.9805341\ttotal: 1.8s\tremaining: 265ms\n",
            "109:\tlearn: 1.9745729\ttotal: 1.81s\tremaining: 246ms\n",
            "110:\tlearn: 1.9570957\ttotal: 1.81s\tremaining: 228ms\n",
            "111:\tlearn: 1.9443770\ttotal: 1.81s\tremaining: 210ms\n",
            "112:\tlearn: 1.9377201\ttotal: 1.81s\tremaining: 192ms\n",
            "113:\tlearn: 1.9248615\ttotal: 1.82s\tremaining: 176ms\n",
            "114:\tlearn: 1.9074783\ttotal: 1.9s\tremaining: 165ms\n",
            "115:\tlearn: 1.8976733\ttotal: 1.9s\tremaining: 148ms\n",
            "116:\tlearn: 1.8800306\ttotal: 1.91s\tremaining: 130ms\n",
            "117:\tlearn: 1.8616150\ttotal: 1.91s\tremaining: 113ms\n",
            "118:\tlearn: 1.8508259\ttotal: 1.91s\tremaining: 96.3ms\n",
            "119:\tlearn: 1.8268854\ttotal: 1.93s\tremaining: 80.3ms\n",
            "120:\tlearn: 1.8117662\ttotal: 2s\tremaining: 66.1ms\n",
            "121:\tlearn: 1.7987406\ttotal: 2s\tremaining: 49.2ms\n",
            "122:\tlearn: 1.7761485\ttotal: 2s\tremaining: 32.6ms\n",
            "123:\tlearn: 1.7515014\ttotal: 2s\tremaining: 16.2ms\n",
            "124:\tlearn: 1.7366667\ttotal: 2.01s\tremaining: 0us\n",
            "--- n_estimators: 125 | learning_rate: 0.75 ---\n",
            "MAE: 7.229791824745756\n",
            "\n"
          ],
          "name": "stdout"
        }
      ]
    },
    {
      "cell_type": "markdown",
      "metadata": {
        "id": "WIWU2t941Nra"
      },
      "source": [
        "In this section, I compared the MAE of 4 models while tuning hyperparameters:\n",
        "\n",
        "1. `LinearRegression` - MAE: 6.51\n",
        "2. `RandomForestRegressor` - MAE: 6.18, with n_estimators=16\n",
        "3. `LightGBM Regressor` - MAE: 6.48, with n_estimators=50 and learning_rate=0.25\n",
        "4. `CatBoost Regressor` - MAE: 6.13, with n_estimators=75 and learning_rate=0.25\n",
        "\n",
        "The CatBoost Regressor model performed the best, with a MAE of 6.13. The best parameters that were found will be used for the final model."
      ]
    },
    {
      "cell_type": "markdown",
      "metadata": {
        "id": "doL3fCVp1Nra"
      },
      "source": [
        "## Training the Final Model"
      ]
    },
    {
      "cell_type": "code",
      "metadata": {
        "id": "rhPAwWKJ1Nra",
        "outputId": "a06da4fa-19af-46a8-9b03-5a888ad819c0"
      },
      "source": [
        "cb_final = CatBoostRegressor(n_estimators=75, learning_rate=0.25, random_state=99)\n",
        "cb_final.fit(pd.concat([features_train, features_valid]), pd.concat([target_train, target_valid]))\n",
        "predicted_test = cb_final.predict(features_test)\n",
        "print('Final MAE:', mean_absolute_error(target_test, predicted_test))"
      ],
      "execution_count": null,
      "outputs": [
        {
          "output_type": "stream",
          "text": [
            "0:\tlearn: 10.4459480\ttotal: 2.59ms\tremaining: 192ms\n",
            "1:\tlearn: 10.0122318\ttotal: 4.55ms\tremaining: 166ms\n",
            "2:\tlearn: 9.6156969\ttotal: 6.81ms\tremaining: 163ms\n",
            "3:\tlearn: 9.2223687\ttotal: 9.11ms\tremaining: 162ms\n",
            "4:\tlearn: 8.9764495\ttotal: 11ms\tremaining: 154ms\n",
            "5:\tlearn: 8.7698758\ttotal: 13ms\tremaining: 149ms\n",
            "6:\tlearn: 8.6063244\ttotal: 20.3ms\tremaining: 197ms\n",
            "7:\tlearn: 8.4340449\ttotal: 108ms\tremaining: 901ms\n",
            "8:\tlearn: 8.2865830\ttotal: 111ms\tremaining: 811ms\n",
            "9:\tlearn: 8.2186542\ttotal: 113ms\tremaining: 737ms\n",
            "10:\tlearn: 8.0917731\ttotal: 118ms\tremaining: 689ms\n",
            "11:\tlearn: 7.9759391\ttotal: 202ms\tremaining: 1.06s\n",
            "12:\tlearn: 7.9192583\ttotal: 205ms\tremaining: 978ms\n",
            "13:\tlearn: 7.8543223\ttotal: 209ms\tremaining: 911ms\n",
            "14:\tlearn: 7.7626233\ttotal: 213ms\tremaining: 850ms\n",
            "15:\tlearn: 7.7002757\ttotal: 216ms\tremaining: 795ms\n",
            "16:\tlearn: 7.6299608\ttotal: 303ms\tremaining: 1.03s\n",
            "17:\tlearn: 7.5767137\ttotal: 307ms\tremaining: 972ms\n",
            "18:\tlearn: 7.5402073\ttotal: 311ms\tremaining: 916ms\n",
            "19:\tlearn: 7.4888793\ttotal: 314ms\tremaining: 864ms\n",
            "20:\tlearn: 7.4477036\ttotal: 318ms\tremaining: 818ms\n",
            "21:\tlearn: 7.4215482\ttotal: 398ms\tremaining: 959ms\n",
            "22:\tlearn: 7.3839224\ttotal: 403ms\tremaining: 911ms\n",
            "23:\tlearn: 7.3598697\ttotal: 407ms\tremaining: 865ms\n",
            "24:\tlearn: 7.2954311\ttotal: 410ms\tremaining: 820ms\n",
            "25:\tlearn: 7.2466959\ttotal: 493ms\tremaining: 930ms\n",
            "26:\tlearn: 7.1793140\ttotal: 496ms\tremaining: 882ms\n",
            "27:\tlearn: 7.1614664\ttotal: 499ms\tremaining: 838ms\n",
            "28:\tlearn: 7.1118652\ttotal: 502ms\tremaining: 797ms\n",
            "29:\tlearn: 7.0547161\ttotal: 505ms\tremaining: 757ms\n",
            "30:\tlearn: 7.0245021\ttotal: 592ms\tremaining: 840ms\n",
            "31:\tlearn: 6.9697099\ttotal: 597ms\tremaining: 802ms\n",
            "32:\tlearn: 6.9290215\ttotal: 602ms\tremaining: 766ms\n",
            "33:\tlearn: 6.8749503\ttotal: 606ms\tremaining: 730ms\n",
            "34:\tlearn: 6.8555774\ttotal: 609ms\tremaining: 696ms\n",
            "35:\tlearn: 6.8079775\ttotal: 690ms\tremaining: 748ms\n",
            "36:\tlearn: 6.7959545\ttotal: 694ms\tremaining: 713ms\n",
            "37:\tlearn: 6.7633839\ttotal: 697ms\tremaining: 679ms\n",
            "38:\tlearn: 6.7203608\ttotal: 703ms\tremaining: 649ms\n",
            "39:\tlearn: 6.6983955\ttotal: 711ms\tremaining: 622ms\n",
            "40:\tlearn: 6.6895646\ttotal: 791ms\tremaining: 656ms\n",
            "41:\tlearn: 6.6799033\ttotal: 796ms\tremaining: 625ms\n",
            "42:\tlearn: 6.6431259\ttotal: 798ms\tremaining: 594ms\n",
            "43:\tlearn: 6.5799034\ttotal: 802ms\tremaining: 565ms\n",
            "44:\tlearn: 6.5322310\ttotal: 886ms\tremaining: 591ms\n",
            "45:\tlearn: 6.4988156\ttotal: 891ms\tremaining: 562ms\n",
            "46:\tlearn: 6.4877445\ttotal: 894ms\tremaining: 532ms\n",
            "47:\tlearn: 6.4369598\ttotal: 896ms\tremaining: 504ms\n",
            "48:\tlearn: 6.3809144\ttotal: 982ms\tremaining: 521ms\n",
            "49:\tlearn: 6.3233259\ttotal: 985ms\tremaining: 492ms\n",
            "50:\tlearn: 6.2934090\ttotal: 988ms\tremaining: 465ms\n",
            "51:\tlearn: 6.2819177\ttotal: 991ms\tremaining: 438ms\n",
            "52:\tlearn: 6.2555054\ttotal: 998ms\tremaining: 414ms\n",
            "53:\tlearn: 6.2495801\ttotal: 1.08s\tremaining: 420ms\n",
            "54:\tlearn: 6.2178405\ttotal: 1.08s\tremaining: 394ms\n",
            "55:\tlearn: 6.1987886\ttotal: 1.09s\tremaining: 370ms\n",
            "56:\tlearn: 6.1879617\ttotal: 1.09s\tremaining: 345ms\n",
            "57:\tlearn: 6.1595294\ttotal: 1.18s\tremaining: 345ms\n",
            "58:\tlearn: 6.1318783\ttotal: 1.18s\tremaining: 320ms\n",
            "59:\tlearn: 6.1051460\ttotal: 1.18s\tremaining: 296ms\n",
            "60:\tlearn: 6.0932031\ttotal: 1.19s\tremaining: 272ms\n",
            "61:\tlearn: 6.0646925\ttotal: 1.19s\tremaining: 250ms\n",
            "62:\tlearn: 6.0598201\ttotal: 1.28s\tremaining: 243ms\n",
            "63:\tlearn: 6.0416928\ttotal: 1.28s\tremaining: 220ms\n",
            "64:\tlearn: 5.9805936\ttotal: 1.28s\tremaining: 198ms\n",
            "65:\tlearn: 5.9390192\ttotal: 1.29s\tremaining: 176ms\n",
            "66:\tlearn: 5.9196854\ttotal: 1.3s\tremaining: 156ms\n",
            "67:\tlearn: 5.8965758\ttotal: 1.37s\tremaining: 141ms\n",
            "68:\tlearn: 5.8822262\ttotal: 1.37s\tremaining: 120ms\n",
            "69:\tlearn: 5.8404094\ttotal: 1.38s\tremaining: 98.4ms\n",
            "70:\tlearn: 5.8170174\ttotal: 1.38s\tremaining: 77.7ms\n",
            "71:\tlearn: 5.7994747\ttotal: 1.38s\tremaining: 57.6ms\n",
            "72:\tlearn: 5.7613981\ttotal: 1.48s\tremaining: 40.4ms\n",
            "73:\tlearn: 5.7046598\ttotal: 1.48s\tremaining: 20ms\n",
            "74:\tlearn: 5.6844427\ttotal: 1.48s\tremaining: 0us\n",
            "Final MAE: 5.7851849553436665\n"
          ],
          "name": "stdout"
        }
      ]
    },
    {
      "cell_type": "markdown",
      "metadata": {
        "id": "J6DnzNY21Nrb"
      },
      "source": [
        "The MAE for the final CatBoostRegressor model with hyperparameters `n_estimators=75` and `learning_rate=0.25` is 5.785."
      ]
    },
    {
      "cell_type": "markdown",
      "metadata": {
        "id": "5GCX4RTj1Nrb"
      },
      "source": [
        "## Solution Report"
      ]
    },
    {
      "cell_type": "markdown",
      "metadata": {
        "id": "5z3aZWQt1Nrb"
      },
      "source": [
        "### What steps of the plan were performed and what steps were skipped (explain why)?"
      ]
    },
    {
      "cell_type": "markdown",
      "metadata": {
        "id": "h5tLPT5g1Nrb"
      },
      "source": [
        "The plan was as follows:\n",
        "\n",
        "1. Handle the null values and consider the effect of the missing keys from the datasets\n",
        "2. Convert columns into the appropriate datatypes\n",
        "3. Combine the data into one dataset and possibly create new features\n",
        "4. Split the data into train, valid, and test\n",
        "5. Build models and choose the best one based on MAE\n",
        "\n",
        "No steps were skipped."
      ]
    },
    {
      "cell_type": "markdown",
      "metadata": {
        "id": "HBnVJGx01Nrc"
      },
      "source": [
        "### What difficulties did you encounter and how did you manage to solve them?"
      ]
    },
    {
      "cell_type": "markdown",
      "metadata": {
        "id": "fMk8S-AX1Nrc"
      },
      "source": [
        "The part that took me the longest was the data preprocessing section. It took time to really understand the data in each table and figure out how to preprocess them properly. Aditionally, the target temperature was mixed in with the feature temperatures. I was able to extract the target using the pivot table function."
      ]
    },
    {
      "cell_type": "markdown",
      "metadata": {
        "id": "8DgcJ37F1Nrc"
      },
      "source": [
        "### What were some of the key steps to solving the task?"
      ]
    },
    {
      "cell_type": "markdown",
      "metadata": {
        "id": "h5hVmAyN1Nrc"
      },
      "source": [
        "First, I familiarized myself with the project goal and what the provided data was. Next, I formulated a plan for the project. The data was preprocessed as thoroughly as possible in order to achieve good results. All of the necessary data was combined into a single dataset, which was then split into train, valid, and test sets. A few models were explored and the best one was chosen in order to solve the task."
      ]
    },
    {
      "cell_type": "markdown",
      "metadata": {
        "id": "oydJ-p031Nrd"
      },
      "source": [
        "### What is your final model and what quality score does it have?"
      ]
    },
    {
      "cell_type": "markdown",
      "metadata": {
        "id": "BRqO30gF1Nrd"
      },
      "source": [
        "The MAE for the final CatBoostRegressor model with hyperparameters `n_estimators=75` and `learning_rate=0.25` is 5.785."
      ]
    }
  ]
}