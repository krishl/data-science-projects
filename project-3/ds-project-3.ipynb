{
  "nbformat": 4,
  "nbformat_minor": 0,
  "metadata": {
    "kernelspec": {
      "display_name": "Python 3",
      "language": "python",
      "name": "python3"
    },
    "language_info": {
      "codemirror_mode": {
        "name": "ipython",
        "version": 3
      },
      "file_extension": ".py",
      "mimetype": "text/x-python",
      "name": "python",
      "nbconvert_exporter": "python",
      "pygments_lexer": "ipython3",
      "version": "3.7.6"
    },
    "colab": {
      "name": "ds-project-3.ipynb",
      "provenance": []
    }
  },
  "cells": [
    {
      "cell_type": "markdown",
      "metadata": {
        "id": "A7kIywWtX6qa"
      },
      "source": [
        "## Analyzing profiltability of mobile prepaid plans"
      ]
    },
    {
      "cell_type": "markdown",
      "metadata": {
        "id": "EmEZqdDqX6qj"
      },
      "source": [
        "Two prepaid plans offered by a state mobile operator will be analyzed to determine which of the two plans is more profitable. The results will be based on the behavior data of 500 clients."
      ]
    },
    {
      "cell_type": "markdown",
      "metadata": {
        "id": "vNwwTvi7X6qv"
      },
      "source": [
        "### Step 1. Open the data file and study the general information."
      ]
    },
    {
      "cell_type": "code",
      "metadata": {
        "id": "I0vY8CPYX6qx"
      },
      "source": [
        "import pandas as pd"
      ],
      "execution_count": null,
      "outputs": []
    },
    {
      "cell_type": "code",
      "metadata": {
        "id": "jTNwZwi8X6rB"
      },
      "source": [
        "import numpy as np"
      ],
      "execution_count": null,
      "outputs": []
    },
    {
      "cell_type": "code",
      "metadata": {
        "id": "6PeBZE_JX6rO"
      },
      "source": [
        "from scipy import stats as st"
      ],
      "execution_count": null,
      "outputs": []
    },
    {
      "cell_type": "code",
      "metadata": {
        "id": "hKchJcl9X6rX"
      },
      "source": [
        "df_calls = pd.read_csv('/datasets/megaline_calls.csv')"
      ],
      "execution_count": null,
      "outputs": []
    },
    {
      "cell_type": "code",
      "metadata": {
        "id": "0OGHotRPX6re"
      },
      "source": [
        "df_internet = pd.read_csv('/datasets/megaline_internet.csv')"
      ],
      "execution_count": null,
      "outputs": []
    },
    {
      "cell_type": "code",
      "metadata": {
        "id": "IZcZWXOiX6rm"
      },
      "source": [
        "df_messages = pd.read_csv('/datasets/megaline_messages.csv')"
      ],
      "execution_count": null,
      "outputs": []
    },
    {
      "cell_type": "code",
      "metadata": {
        "id": "pxtkYJI3X6rt"
      },
      "source": [
        "df_tariffs = pd.read_csv('/datasets/megaline_tariffs.csv')"
      ],
      "execution_count": null,
      "outputs": []
    },
    {
      "cell_type": "code",
      "metadata": {
        "id": "lBwKEImYX6rz"
      },
      "source": [
        "df_users = pd.read_csv('/datasets/megaline_users.csv')"
      ],
      "execution_count": null,
      "outputs": []
    },
    {
      "cell_type": "code",
      "metadata": {
        "id": "wTLFtwMBX6r4",
        "outputId": "0dcf6dab-77bf-411a-97da-d0d884e25459"
      },
      "source": [
        "df_calls.head()"
      ],
      "execution_count": null,
      "outputs": [
        {
          "output_type": "execute_result",
          "data": {
            "text/html": [
              "<div>\n",
              "<style scoped>\n",
              "    .dataframe tbody tr th:only-of-type {\n",
              "        vertical-align: middle;\n",
              "    }\n",
              "\n",
              "    .dataframe tbody tr th {\n",
              "        vertical-align: top;\n",
              "    }\n",
              "\n",
              "    .dataframe thead th {\n",
              "        text-align: right;\n",
              "    }\n",
              "</style>\n",
              "<table border=\"1\" class=\"dataframe\">\n",
              "  <thead>\n",
              "    <tr style=\"text-align: right;\">\n",
              "      <th></th>\n",
              "      <th>id</th>\n",
              "      <th>user_id</th>\n",
              "      <th>call_date</th>\n",
              "      <th>duration</th>\n",
              "    </tr>\n",
              "  </thead>\n",
              "  <tbody>\n",
              "    <tr>\n",
              "      <td>0</td>\n",
              "      <td>1000_93</td>\n",
              "      <td>1000</td>\n",
              "      <td>2018-12-27</td>\n",
              "      <td>8.52</td>\n",
              "    </tr>\n",
              "    <tr>\n",
              "      <td>1</td>\n",
              "      <td>1000_145</td>\n",
              "      <td>1000</td>\n",
              "      <td>2018-12-27</td>\n",
              "      <td>13.66</td>\n",
              "    </tr>\n",
              "    <tr>\n",
              "      <td>2</td>\n",
              "      <td>1000_247</td>\n",
              "      <td>1000</td>\n",
              "      <td>2018-12-27</td>\n",
              "      <td>14.48</td>\n",
              "    </tr>\n",
              "    <tr>\n",
              "      <td>3</td>\n",
              "      <td>1000_309</td>\n",
              "      <td>1000</td>\n",
              "      <td>2018-12-28</td>\n",
              "      <td>5.76</td>\n",
              "    </tr>\n",
              "    <tr>\n",
              "      <td>4</td>\n",
              "      <td>1000_380</td>\n",
              "      <td>1000</td>\n",
              "      <td>2018-12-30</td>\n",
              "      <td>4.22</td>\n",
              "    </tr>\n",
              "  </tbody>\n",
              "</table>\n",
              "</div>"
            ],
            "text/plain": [
              "         id  user_id   call_date  duration\n",
              "0   1000_93     1000  2018-12-27      8.52\n",
              "1  1000_145     1000  2018-12-27     13.66\n",
              "2  1000_247     1000  2018-12-27     14.48\n",
              "3  1000_309     1000  2018-12-28      5.76\n",
              "4  1000_380     1000  2018-12-30      4.22"
            ]
          },
          "metadata": {
            "tags": []
          },
          "execution_count": 9
        }
      ]
    },
    {
      "cell_type": "code",
      "metadata": {
        "id": "DETw9cxZX6r_",
        "outputId": "f115dd42-d8f8-4b09-c4d5-bbccfa816fe9"
      },
      "source": [
        "df_calls.info()"
      ],
      "execution_count": null,
      "outputs": [
        {
          "output_type": "stream",
          "text": [
            "<class 'pandas.core.frame.DataFrame'>\n",
            "RangeIndex: 137735 entries, 0 to 137734\n",
            "Data columns (total 4 columns):\n",
            "id           137735 non-null object\n",
            "user_id      137735 non-null int64\n",
            "call_date    137735 non-null object\n",
            "duration     137735 non-null float64\n",
            "dtypes: float64(1), int64(1), object(2)\n",
            "memory usage: 4.2+ MB\n"
          ],
          "name": "stdout"
        }
      ]
    },
    {
      "cell_type": "markdown",
      "metadata": {
        "id": "BW3bdxb2X6sF"
      },
      "source": [
        "`call_date` would be better suited as a datetime column instead of an object column, since the column only contains dates."
      ]
    },
    {
      "cell_type": "code",
      "metadata": {
        "id": "THf7joKSX6sI",
        "outputId": "a1264d75-f7c5-42fe-e8d2-213ec6dc098c"
      },
      "source": [
        "df_internet.head()"
      ],
      "execution_count": null,
      "outputs": [
        {
          "output_type": "execute_result",
          "data": {
            "text/html": [
              "<div>\n",
              "<style scoped>\n",
              "    .dataframe tbody tr th:only-of-type {\n",
              "        vertical-align: middle;\n",
              "    }\n",
              "\n",
              "    .dataframe tbody tr th {\n",
              "        vertical-align: top;\n",
              "    }\n",
              "\n",
              "    .dataframe thead th {\n",
              "        text-align: right;\n",
              "    }\n",
              "</style>\n",
              "<table border=\"1\" class=\"dataframe\">\n",
              "  <thead>\n",
              "    <tr style=\"text-align: right;\">\n",
              "      <th></th>\n",
              "      <th>id</th>\n",
              "      <th>user_id</th>\n",
              "      <th>session_date</th>\n",
              "      <th>mb_used</th>\n",
              "    </tr>\n",
              "  </thead>\n",
              "  <tbody>\n",
              "    <tr>\n",
              "      <td>0</td>\n",
              "      <td>1000_13</td>\n",
              "      <td>1000</td>\n",
              "      <td>2018-12-29</td>\n",
              "      <td>89.86</td>\n",
              "    </tr>\n",
              "    <tr>\n",
              "      <td>1</td>\n",
              "      <td>1000_204</td>\n",
              "      <td>1000</td>\n",
              "      <td>2018-12-31</td>\n",
              "      <td>0.00</td>\n",
              "    </tr>\n",
              "    <tr>\n",
              "      <td>2</td>\n",
              "      <td>1000_379</td>\n",
              "      <td>1000</td>\n",
              "      <td>2018-12-28</td>\n",
              "      <td>660.40</td>\n",
              "    </tr>\n",
              "    <tr>\n",
              "      <td>3</td>\n",
              "      <td>1000_413</td>\n",
              "      <td>1000</td>\n",
              "      <td>2018-12-26</td>\n",
              "      <td>270.99</td>\n",
              "    </tr>\n",
              "    <tr>\n",
              "      <td>4</td>\n",
              "      <td>1000_442</td>\n",
              "      <td>1000</td>\n",
              "      <td>2018-12-27</td>\n",
              "      <td>880.22</td>\n",
              "    </tr>\n",
              "  </tbody>\n",
              "</table>\n",
              "</div>"
            ],
            "text/plain": [
              "         id  user_id session_date  mb_used\n",
              "0   1000_13     1000   2018-12-29    89.86\n",
              "1  1000_204     1000   2018-12-31     0.00\n",
              "2  1000_379     1000   2018-12-28   660.40\n",
              "3  1000_413     1000   2018-12-26   270.99\n",
              "4  1000_442     1000   2018-12-27   880.22"
            ]
          },
          "metadata": {
            "tags": []
          },
          "execution_count": 11
        }
      ]
    },
    {
      "cell_type": "code",
      "metadata": {
        "id": "e5Cv7FotX6sO",
        "outputId": "92c2d3de-4641-4e41-865f-34775b449048"
      },
      "source": [
        "df_internet.info()"
      ],
      "execution_count": null,
      "outputs": [
        {
          "output_type": "stream",
          "text": [
            "<class 'pandas.core.frame.DataFrame'>\n",
            "RangeIndex: 104825 entries, 0 to 104824\n",
            "Data columns (total 4 columns):\n",
            "id              104825 non-null object\n",
            "user_id         104825 non-null int64\n",
            "session_date    104825 non-null object\n",
            "mb_used         104825 non-null float64\n",
            "dtypes: float64(1), int64(1), object(2)\n",
            "memory usage: 3.2+ MB\n"
          ],
          "name": "stdout"
        }
      ]
    },
    {
      "cell_type": "markdown",
      "metadata": {
        "id": "HpSLao00X6sU"
      },
      "source": [
        "Since `session_date` only contains dates, it would be better if it were converted into a datetime column."
      ]
    },
    {
      "cell_type": "code",
      "metadata": {
        "id": "kRZbmQ-cX6sV",
        "outputId": "bef396fa-8df7-4bd4-985f-823af174a141"
      },
      "source": [
        "df_messages.head()"
      ],
      "execution_count": null,
      "outputs": [
        {
          "output_type": "execute_result",
          "data": {
            "text/html": [
              "<div>\n",
              "<style scoped>\n",
              "    .dataframe tbody tr th:only-of-type {\n",
              "        vertical-align: middle;\n",
              "    }\n",
              "\n",
              "    .dataframe tbody tr th {\n",
              "        vertical-align: top;\n",
              "    }\n",
              "\n",
              "    .dataframe thead th {\n",
              "        text-align: right;\n",
              "    }\n",
              "</style>\n",
              "<table border=\"1\" class=\"dataframe\">\n",
              "  <thead>\n",
              "    <tr style=\"text-align: right;\">\n",
              "      <th></th>\n",
              "      <th>id</th>\n",
              "      <th>user_id</th>\n",
              "      <th>message_date</th>\n",
              "    </tr>\n",
              "  </thead>\n",
              "  <tbody>\n",
              "    <tr>\n",
              "      <td>0</td>\n",
              "      <td>1000_125</td>\n",
              "      <td>1000</td>\n",
              "      <td>2018-12-27</td>\n",
              "    </tr>\n",
              "    <tr>\n",
              "      <td>1</td>\n",
              "      <td>1000_160</td>\n",
              "      <td>1000</td>\n",
              "      <td>2018-12-31</td>\n",
              "    </tr>\n",
              "    <tr>\n",
              "      <td>2</td>\n",
              "      <td>1000_223</td>\n",
              "      <td>1000</td>\n",
              "      <td>2018-12-31</td>\n",
              "    </tr>\n",
              "    <tr>\n",
              "      <td>3</td>\n",
              "      <td>1000_251</td>\n",
              "      <td>1000</td>\n",
              "      <td>2018-12-27</td>\n",
              "    </tr>\n",
              "    <tr>\n",
              "      <td>4</td>\n",
              "      <td>1000_255</td>\n",
              "      <td>1000</td>\n",
              "      <td>2018-12-26</td>\n",
              "    </tr>\n",
              "  </tbody>\n",
              "</table>\n",
              "</div>"
            ],
            "text/plain": [
              "         id  user_id message_date\n",
              "0  1000_125     1000   2018-12-27\n",
              "1  1000_160     1000   2018-12-31\n",
              "2  1000_223     1000   2018-12-31\n",
              "3  1000_251     1000   2018-12-27\n",
              "4  1000_255     1000   2018-12-26"
            ]
          },
          "metadata": {
            "tags": []
          },
          "execution_count": 13
        }
      ]
    },
    {
      "cell_type": "code",
      "metadata": {
        "id": "WKlm9hUVX6se",
        "outputId": "ee23f40f-d021-4bea-fae8-ca45cb5939af"
      },
      "source": [
        "df_messages.info()"
      ],
      "execution_count": null,
      "outputs": [
        {
          "output_type": "stream",
          "text": [
            "<class 'pandas.core.frame.DataFrame'>\n",
            "RangeIndex: 76051 entries, 0 to 76050\n",
            "Data columns (total 3 columns):\n",
            "id              76051 non-null object\n",
            "user_id         76051 non-null int64\n",
            "message_date    76051 non-null object\n",
            "dtypes: int64(1), object(2)\n",
            "memory usage: 1.7+ MB\n"
          ],
          "name": "stdout"
        }
      ]
    },
    {
      "cell_type": "markdown",
      "metadata": {
        "id": "3TmhVhLXX6sk"
      },
      "source": [
        "Column `message_date` is better as a datetime column instead of an object column."
      ]
    },
    {
      "cell_type": "code",
      "metadata": {
        "id": "xO5UjI3GX6sl",
        "outputId": "46e12b0d-5b99-4187-ac2b-01f6d8153fda"
      },
      "source": [
        "df_tariffs.head()"
      ],
      "execution_count": null,
      "outputs": [
        {
          "output_type": "execute_result",
          "data": {
            "text/html": [
              "<div>\n",
              "<style scoped>\n",
              "    .dataframe tbody tr th:only-of-type {\n",
              "        vertical-align: middle;\n",
              "    }\n",
              "\n",
              "    .dataframe tbody tr th {\n",
              "        vertical-align: top;\n",
              "    }\n",
              "\n",
              "    .dataframe thead th {\n",
              "        text-align: right;\n",
              "    }\n",
              "</style>\n",
              "<table border=\"1\" class=\"dataframe\">\n",
              "  <thead>\n",
              "    <tr style=\"text-align: right;\">\n",
              "      <th></th>\n",
              "      <th>messages_included</th>\n",
              "      <th>mb_per_month_included</th>\n",
              "      <th>minutes_included</th>\n",
              "      <th>usd_monthly_pay</th>\n",
              "      <th>usd_per_gb</th>\n",
              "      <th>usd_per_message</th>\n",
              "      <th>usd_per_minute</th>\n",
              "      <th>tariff_name</th>\n",
              "    </tr>\n",
              "  </thead>\n",
              "  <tbody>\n",
              "    <tr>\n",
              "      <td>0</td>\n",
              "      <td>50</td>\n",
              "      <td>15360</td>\n",
              "      <td>500</td>\n",
              "      <td>20</td>\n",
              "      <td>10</td>\n",
              "      <td>0.03</td>\n",
              "      <td>0.03</td>\n",
              "      <td>surf</td>\n",
              "    </tr>\n",
              "    <tr>\n",
              "      <td>1</td>\n",
              "      <td>1000</td>\n",
              "      <td>30720</td>\n",
              "      <td>3000</td>\n",
              "      <td>70</td>\n",
              "      <td>7</td>\n",
              "      <td>0.01</td>\n",
              "      <td>0.01</td>\n",
              "      <td>ultimate</td>\n",
              "    </tr>\n",
              "  </tbody>\n",
              "</table>\n",
              "</div>"
            ],
            "text/plain": [
              "   messages_included  mb_per_month_included  minutes_included  \\\n",
              "0                 50                  15360               500   \n",
              "1               1000                  30720              3000   \n",
              "\n",
              "   usd_monthly_pay  usd_per_gb  usd_per_message  usd_per_minute tariff_name  \n",
              "0               20          10             0.03            0.03        surf  \n",
              "1               70           7             0.01            0.01    ultimate  "
            ]
          },
          "metadata": {
            "tags": []
          },
          "execution_count": 15
        }
      ]
    },
    {
      "cell_type": "code",
      "metadata": {
        "id": "j32vCK-IX6sr",
        "outputId": "a8f89982-9800-4153-dc90-b9af4b76f632"
      },
      "source": [
        "df_tariffs.info()"
      ],
      "execution_count": null,
      "outputs": [
        {
          "output_type": "stream",
          "text": [
            "<class 'pandas.core.frame.DataFrame'>\n",
            "RangeIndex: 2 entries, 0 to 1\n",
            "Data columns (total 8 columns):\n",
            "messages_included        2 non-null int64\n",
            "mb_per_month_included    2 non-null int64\n",
            "minutes_included         2 non-null int64\n",
            "usd_monthly_pay          2 non-null int64\n",
            "usd_per_gb               2 non-null int64\n",
            "usd_per_message          2 non-null float64\n",
            "usd_per_minute           2 non-null float64\n",
            "tariff_name              2 non-null object\n",
            "dtypes: float64(2), int64(5), object(1)\n",
            "memory usage: 256.0+ bytes\n"
          ],
          "name": "stdout"
        }
      ]
    },
    {
      "cell_type": "code",
      "metadata": {
        "id": "FJKOZet_X6sv",
        "outputId": "368de59d-e848-4a76-ec70-f64af0fe9c2f"
      },
      "source": [
        "df_users.head()"
      ],
      "execution_count": null,
      "outputs": [
        {
          "output_type": "execute_result",
          "data": {
            "text/html": [
              "<div>\n",
              "<style scoped>\n",
              "    .dataframe tbody tr th:only-of-type {\n",
              "        vertical-align: middle;\n",
              "    }\n",
              "\n",
              "    .dataframe tbody tr th {\n",
              "        vertical-align: top;\n",
              "    }\n",
              "\n",
              "    .dataframe thead th {\n",
              "        text-align: right;\n",
              "    }\n",
              "</style>\n",
              "<table border=\"1\" class=\"dataframe\">\n",
              "  <thead>\n",
              "    <tr style=\"text-align: right;\">\n",
              "      <th></th>\n",
              "      <th>user_id</th>\n",
              "      <th>first_name</th>\n",
              "      <th>last_name</th>\n",
              "      <th>age</th>\n",
              "      <th>city</th>\n",
              "      <th>reg_date</th>\n",
              "      <th>tariff</th>\n",
              "      <th>churn_date</th>\n",
              "    </tr>\n",
              "  </thead>\n",
              "  <tbody>\n",
              "    <tr>\n",
              "      <td>0</td>\n",
              "      <td>1000</td>\n",
              "      <td>Anamaria</td>\n",
              "      <td>Bauer</td>\n",
              "      <td>45</td>\n",
              "      <td>Atlanta-Sandy Springs-Roswell, GA MSA</td>\n",
              "      <td>2018-12-24</td>\n",
              "      <td>ultimate</td>\n",
              "      <td>NaN</td>\n",
              "    </tr>\n",
              "    <tr>\n",
              "      <td>1</td>\n",
              "      <td>1001</td>\n",
              "      <td>Mickey</td>\n",
              "      <td>Wilkerson</td>\n",
              "      <td>28</td>\n",
              "      <td>Seattle-Tacoma-Bellevue, WA MSA</td>\n",
              "      <td>2018-08-13</td>\n",
              "      <td>surf</td>\n",
              "      <td>NaN</td>\n",
              "    </tr>\n",
              "    <tr>\n",
              "      <td>2</td>\n",
              "      <td>1002</td>\n",
              "      <td>Carlee</td>\n",
              "      <td>Hoffman</td>\n",
              "      <td>36</td>\n",
              "      <td>Las Vegas-Henderson-Paradise, NV MSA</td>\n",
              "      <td>2018-10-21</td>\n",
              "      <td>surf</td>\n",
              "      <td>NaN</td>\n",
              "    </tr>\n",
              "    <tr>\n",
              "      <td>3</td>\n",
              "      <td>1003</td>\n",
              "      <td>Reynaldo</td>\n",
              "      <td>Jenkins</td>\n",
              "      <td>52</td>\n",
              "      <td>Tulsa, OK MSA</td>\n",
              "      <td>2018-01-28</td>\n",
              "      <td>surf</td>\n",
              "      <td>NaN</td>\n",
              "    </tr>\n",
              "    <tr>\n",
              "      <td>4</td>\n",
              "      <td>1004</td>\n",
              "      <td>Leonila</td>\n",
              "      <td>Thompson</td>\n",
              "      <td>40</td>\n",
              "      <td>Seattle-Tacoma-Bellevue, WA MSA</td>\n",
              "      <td>2018-05-23</td>\n",
              "      <td>surf</td>\n",
              "      <td>NaN</td>\n",
              "    </tr>\n",
              "  </tbody>\n",
              "</table>\n",
              "</div>"
            ],
            "text/plain": [
              "   user_id first_name  last_name  age                                   city  \\\n",
              "0     1000   Anamaria      Bauer   45  Atlanta-Sandy Springs-Roswell, GA MSA   \n",
              "1     1001     Mickey  Wilkerson   28        Seattle-Tacoma-Bellevue, WA MSA   \n",
              "2     1002     Carlee    Hoffman   36   Las Vegas-Henderson-Paradise, NV MSA   \n",
              "3     1003   Reynaldo    Jenkins   52                          Tulsa, OK MSA   \n",
              "4     1004    Leonila   Thompson   40        Seattle-Tacoma-Bellevue, WA MSA   \n",
              "\n",
              "     reg_date    tariff churn_date  \n",
              "0  2018-12-24  ultimate        NaN  \n",
              "1  2018-08-13      surf        NaN  \n",
              "2  2018-10-21      surf        NaN  \n",
              "3  2018-01-28      surf        NaN  \n",
              "4  2018-05-23      surf        NaN  "
            ]
          },
          "metadata": {
            "tags": []
          },
          "execution_count": 17
        }
      ]
    },
    {
      "cell_type": "code",
      "metadata": {
        "id": "yYViEmEJX6sz",
        "outputId": "a2ff3e9c-a41a-482e-e2f0-b59c37d80b8f"
      },
      "source": [
        "df_users.info()"
      ],
      "execution_count": null,
      "outputs": [
        {
          "output_type": "stream",
          "text": [
            "<class 'pandas.core.frame.DataFrame'>\n",
            "RangeIndex: 500 entries, 0 to 499\n",
            "Data columns (total 8 columns):\n",
            "user_id       500 non-null int64\n",
            "first_name    500 non-null object\n",
            "last_name     500 non-null object\n",
            "age           500 non-null int64\n",
            "city          500 non-null object\n",
            "reg_date      500 non-null object\n",
            "tariff        500 non-null object\n",
            "churn_date    34 non-null object\n",
            "dtypes: int64(2), object(6)\n",
            "memory usage: 31.4+ KB\n"
          ],
          "name": "stdout"
        }
      ]
    },
    {
      "cell_type": "markdown",
      "metadata": {
        "id": "4-QtBRihX6s4"
      },
      "source": [
        "Columns `reg_date` and `churn_date` is better converted from an object datatype to a datetime datatype.\n",
        "\n",
        "Null values in `churn_date` indicate that the calling plan was active at the moment of data extraction and should be filled with a placeholder value."
      ]
    },
    {
      "cell_type": "markdown",
      "metadata": {
        "id": "i5xQnl0mX6s5"
      },
      "source": [
        "### Conclusion"
      ]
    },
    {
      "cell_type": "markdown",
      "metadata": {
        "id": "qDRzdpBdX6s5"
      },
      "source": [
        "5 datasets were opened and analyzed for general information. 5 necessary datatype conversions were found.\n",
        "\n",
        "In the `df_calls` dataset, `call_date` would be better suited as a datetime column instead of an object column, since the column only contains dates.\n",
        "\n",
        "In the `df_internet` dataset, `session_date` also only contains dates. It would be better if it were converted into a datetime column.\n",
        "\n",
        "In the `df_messages` dataset, `message_date` is better as a datetime column instead of as an object column.\n",
        "\n",
        "No initial changes can be seen for the `df_tariffs` dataset for now.\n",
        "\n",
        "In the `df_users` dataset, `reg_date` and `churn_date` is better converted from an object datatype to a datetime datatype. Null values in `churn_date` indicate that the calling plan was active at the moment of data extraction."
      ]
    },
    {
      "cell_type": "markdown",
      "metadata": {
        "id": "cvNBKxYJX6s7"
      },
      "source": [
        "### Step 2. Data preprocessing"
      ]
    },
    {
      "cell_type": "markdown",
      "metadata": {
        "id": "IfFUTwRhX6s8"
      },
      "source": [
        "#### Converting the data to the necessary types"
      ]
    },
    {
      "cell_type": "code",
      "metadata": {
        "id": "7EkDjLWSX6s9"
      },
      "source": [
        "df_calls['call_date'] = pd.to_datetime(df_calls['call_date'], format='%Y-%m-%d')"
      ],
      "execution_count": null,
      "outputs": []
    },
    {
      "cell_type": "code",
      "metadata": {
        "id": "pfyCqS9vX6tC"
      },
      "source": [
        "df_internet['session_date'] = pd.to_datetime(df_internet['session_date'], format='%Y-%m-%d')"
      ],
      "execution_count": null,
      "outputs": []
    },
    {
      "cell_type": "code",
      "metadata": {
        "id": "MigXnNEQX6tF"
      },
      "source": [
        "df_messages['message_date'] = pd.to_datetime(df_messages['message_date'], format='%Y-%m-%d')"
      ],
      "execution_count": null,
      "outputs": []
    },
    {
      "cell_type": "code",
      "metadata": {
        "id": "z_sOKvmwX6tM"
      },
      "source": [
        "df_users['reg_date'] = pd.to_datetime(df_users['reg_date'], format='%Y-%m-%d')"
      ],
      "execution_count": null,
      "outputs": []
    },
    {
      "cell_type": "code",
      "metadata": {
        "id": "b34Ld_S9X6tQ"
      },
      "source": [
        "df_users['churn_date'] = pd.to_datetime(df_users['churn_date'], format='%Y-%m-%d')"
      ],
      "execution_count": null,
      "outputs": []
    },
    {
      "cell_type": "markdown",
      "metadata": {
        "id": "m02JGemUX6tU"
      },
      "source": [
        "#### Finding and removing errors in the data"
      ]
    },
    {
      "cell_type": "code",
      "metadata": {
        "id": "E3-hMtwCX6tU",
        "outputId": "7ad3ed16-5732-4710-feae-ea7a22bd1150"
      },
      "source": [
        "df_calls['duration'].hist()"
      ],
      "execution_count": null,
      "outputs": [
        {
          "output_type": "execute_result",
          "data": {
            "text/plain": [
              "<matplotlib.axes._subplots.AxesSubplot at 0x7fcaa3bb6750>"
            ]
          },
          "metadata": {
            "tags": []
          },
          "execution_count": 24
        },
        {
          "output_type": "display_data",
          "data": {
            "image/png": "[encoded data removed]",
            "text/plain": [
              "<Figure size 432x288 with 1 Axes>"
            ]
          },
          "metadata": {
            "tags": [],
            "needs_background": "light"
          }
        }
      ]
    },
    {
      "cell_type": "code",
      "metadata": {
        "id": "2gT-k9eQX6tb",
        "outputId": "ff3f92af-0473-4bc5-c149-3dd12f33d511"
      },
      "source": [
        "df_calls['duration'].describe()"
      ],
      "execution_count": null,
      "outputs": [
        {
          "output_type": "execute_result",
          "data": {
            "text/plain": [
              "count    137735.000000\n",
              "mean          6.745927\n",
              "std           5.839241\n",
              "min           0.000000\n",
              "25%           1.290000\n",
              "50%           5.980000\n",
              "75%          10.690000\n",
              "max          37.600000\n",
              "Name: duration, dtype: float64"
            ]
          },
          "metadata": {
            "tags": []
          },
          "execution_count": 25
        }
      ]
    },
    {
      "cell_type": "code",
      "metadata": {
        "id": "J4b0hmxMX6te",
        "outputId": "67eb0eb6-b45d-490a-ef87-604dc2428432"
      },
      "source": [
        "df_calls['duration'].value_counts()"
      ],
      "execution_count": null,
      "outputs": [
        {
          "output_type": "execute_result",
          "data": {
            "text/plain": [
              "0.00     26834\n",
              "8.37       102\n",
              "4.02       102\n",
              "3.91       101\n",
              "7.61       100\n",
              "         ...  \n",
              "25.53        1\n",
              "29.34        1\n",
              "26.05        1\n",
              "36.24        1\n",
              "27.16        1\n",
              "Name: duration, Length: 2802, dtype: int64"
            ]
          },
          "metadata": {
            "tags": []
          },
          "execution_count": 26
        }
      ]
    },
    {
      "cell_type": "code",
      "metadata": {
        "id": "-e96NRR-X6th",
        "outputId": "ed72f22a-6484-4441-825f-ba435247fd87"
      },
      "source": [
        "df_calls.loc[df_calls['duration'] == 0].head()"
      ],
      "execution_count": null,
      "outputs": [
        {
          "output_type": "execute_result",
          "data": {
            "text/html": [
              "<div>\n",
              "<style scoped>\n",
              "    .dataframe tbody tr th:only-of-type {\n",
              "        vertical-align: middle;\n",
              "    }\n",
              "\n",
              "    .dataframe tbody tr th {\n",
              "        vertical-align: top;\n",
              "    }\n",
              "\n",
              "    .dataframe thead th {\n",
              "        text-align: right;\n",
              "    }\n",
              "</style>\n",
              "<table border=\"1\" class=\"dataframe\">\n",
              "  <thead>\n",
              "    <tr style=\"text-align: right;\">\n",
              "      <th></th>\n",
              "      <th>id</th>\n",
              "      <th>user_id</th>\n",
              "      <th>call_date</th>\n",
              "      <th>duration</th>\n",
              "    </tr>\n",
              "  </thead>\n",
              "  <tbody>\n",
              "    <tr>\n",
              "      <td>19</td>\n",
              "      <td>1001_4</td>\n",
              "      <td>1001</td>\n",
              "      <td>2018-12-05</td>\n",
              "      <td>0.0</td>\n",
              "    </tr>\n",
              "    <tr>\n",
              "      <td>25</td>\n",
              "      <td>1001_13</td>\n",
              "      <td>1001</td>\n",
              "      <td>2018-12-24</td>\n",
              "      <td>0.0</td>\n",
              "    </tr>\n",
              "    <tr>\n",
              "      <td>31</td>\n",
              "      <td>1001_30</td>\n",
              "      <td>1001</td>\n",
              "      <td>2018-10-17</td>\n",
              "      <td>0.0</td>\n",
              "    </tr>\n",
              "    <tr>\n",
              "      <td>32</td>\n",
              "      <td>1001_31</td>\n",
              "      <td>1001</td>\n",
              "      <td>2018-11-03</td>\n",
              "      <td>0.0</td>\n",
              "    </tr>\n",
              "    <tr>\n",
              "      <td>34</td>\n",
              "      <td>1001_35</td>\n",
              "      <td>1001</td>\n",
              "      <td>2018-12-21</td>\n",
              "      <td>0.0</td>\n",
              "    </tr>\n",
              "  </tbody>\n",
              "</table>\n",
              "</div>"
            ],
            "text/plain": [
              "         id  user_id  call_date  duration\n",
              "19   1001_4     1001 2018-12-05       0.0\n",
              "25  1001_13     1001 2018-12-24       0.0\n",
              "31  1001_30     1001 2018-10-17       0.0\n",
              "32  1001_31     1001 2018-11-03       0.0\n",
              "34  1001_35     1001 2018-12-21       0.0"
            ]
          },
          "metadata": {
            "tags": []
          },
          "execution_count": 27
        }
      ]
    },
    {
      "cell_type": "code",
      "metadata": {
        "id": "iOE4ZuysX6tl",
        "outputId": "21e62d98-afd9-427e-c2a7-c978c5389666"
      },
      "source": [
        "df_calls.loc[df_calls['duration'] == 0].tail()"
      ],
      "execution_count": null,
      "outputs": [
        {
          "output_type": "execute_result",
          "data": {
            "text/html": [
              "<div>\n",
              "<style scoped>\n",
              "    .dataframe tbody tr th:only-of-type {\n",
              "        vertical-align: middle;\n",
              "    }\n",
              "\n",
              "    .dataframe tbody tr th {\n",
              "        vertical-align: top;\n",
              "    }\n",
              "\n",
              "    .dataframe thead th {\n",
              "        text-align: right;\n",
              "    }\n",
              "</style>\n",
              "<table border=\"1\" class=\"dataframe\">\n",
              "  <thead>\n",
              "    <tr style=\"text-align: right;\">\n",
              "      <th></th>\n",
              "      <th>id</th>\n",
              "      <th>user_id</th>\n",
              "      <th>call_date</th>\n",
              "      <th>duration</th>\n",
              "    </tr>\n",
              "  </thead>\n",
              "  <tbody>\n",
              "    <tr>\n",
              "      <td>137714</td>\n",
              "      <td>1499_183</td>\n",
              "      <td>1499</td>\n",
              "      <td>2018-11-10</td>\n",
              "      <td>0.0</td>\n",
              "    </tr>\n",
              "    <tr>\n",
              "      <td>137715</td>\n",
              "      <td>1499_184</td>\n",
              "      <td>1499</td>\n",
              "      <td>2018-09-15</td>\n",
              "      <td>0.0</td>\n",
              "    </tr>\n",
              "    <tr>\n",
              "      <td>137720</td>\n",
              "      <td>1499_189</td>\n",
              "      <td>1499</td>\n",
              "      <td>2018-12-27</td>\n",
              "      <td>0.0</td>\n",
              "    </tr>\n",
              "    <tr>\n",
              "      <td>137722</td>\n",
              "      <td>1499_191</td>\n",
              "      <td>1499</td>\n",
              "      <td>2018-12-24</td>\n",
              "      <td>0.0</td>\n",
              "    </tr>\n",
              "    <tr>\n",
              "      <td>137725</td>\n",
              "      <td>1499_194</td>\n",
              "      <td>1499</td>\n",
              "      <td>2018-10-31</td>\n",
              "      <td>0.0</td>\n",
              "    </tr>\n",
              "  </tbody>\n",
              "</table>\n",
              "</div>"
            ],
            "text/plain": [
              "              id  user_id  call_date  duration\n",
              "137714  1499_183     1499 2018-11-10       0.0\n",
              "137715  1499_184     1499 2018-09-15       0.0\n",
              "137720  1499_189     1499 2018-12-27       0.0\n",
              "137722  1499_191     1499 2018-12-24       0.0\n",
              "137725  1499_194     1499 2018-10-31       0.0"
            ]
          },
          "metadata": {
            "tags": []
          },
          "execution_count": 28
        }
      ]
    },
    {
      "cell_type": "markdown",
      "metadata": {
        "id": "T4syxYcwX6to"
      },
      "source": [
        "Records containing 0 duration calls comprise 19.48% of the df_calls dataset. There does not appear to be a common secondary attribute between all of the 0 duration records."
      ]
    },
    {
      "cell_type": "code",
      "metadata": {
        "id": "e0EhY_WRX6tp",
        "outputId": "f8af7fb8-758a-460a-9049-0cec878ac274"
      },
      "source": [
        "df_calls.pivot_table(index='user_id', values='duration', aggfunc='median').sort_values(by='duration')"
      ],
      "execution_count": null,
      "outputs": [
        {
          "output_type": "execute_result",
          "data": {
            "text/html": [
              "<div>\n",
              "<style scoped>\n",
              "    .dataframe tbody tr th:only-of-type {\n",
              "        vertical-align: middle;\n",
              "    }\n",
              "\n",
              "    .dataframe tbody tr th {\n",
              "        vertical-align: top;\n",
              "    }\n",
              "\n",
              "    .dataframe thead th {\n",
              "        text-align: right;\n",
              "    }\n",
              "</style>\n",
              "<table border=\"1\" class=\"dataframe\">\n",
              "  <thead>\n",
              "    <tr style=\"text-align: right;\">\n",
              "      <th></th>\n",
              "      <th>duration</th>\n",
              "    </tr>\n",
              "    <tr>\n",
              "      <th>user_id</th>\n",
              "      <th></th>\n",
              "    </tr>\n",
              "  </thead>\n",
              "  <tbody>\n",
              "    <tr>\n",
              "      <td>1104</td>\n",
              "      <td>1.160</td>\n",
              "    </tr>\n",
              "    <tr>\n",
              "      <td>1306</td>\n",
              "      <td>2.230</td>\n",
              "    </tr>\n",
              "    <tr>\n",
              "      <td>1034</td>\n",
              "      <td>2.655</td>\n",
              "    </tr>\n",
              "    <tr>\n",
              "      <td>1286</td>\n",
              "      <td>3.630</td>\n",
              "    </tr>\n",
              "    <tr>\n",
              "      <td>1186</td>\n",
              "      <td>3.680</td>\n",
              "    </tr>\n",
              "    <tr>\n",
              "      <td>...</td>\n",
              "      <td>...</td>\n",
              "    </tr>\n",
              "    <tr>\n",
              "      <td>1484</td>\n",
              "      <td>8.440</td>\n",
              "    </tr>\n",
              "    <tr>\n",
              "      <td>1260</td>\n",
              "      <td>8.475</td>\n",
              "    </tr>\n",
              "    <tr>\n",
              "      <td>1135</td>\n",
              "      <td>8.550</td>\n",
              "    </tr>\n",
              "    <tr>\n",
              "      <td>1452</td>\n",
              "      <td>10.620</td>\n",
              "    </tr>\n",
              "    <tr>\n",
              "      <td>1323</td>\n",
              "      <td>11.150</td>\n",
              "    </tr>\n",
              "  </tbody>\n",
              "</table>\n",
              "<p>481 rows × 1 columns</p>\n",
              "</div>"
            ],
            "text/plain": [
              "         duration\n",
              "user_id          \n",
              "1104        1.160\n",
              "1306        2.230\n",
              "1034        2.655\n",
              "1286        3.630\n",
              "1186        3.680\n",
              "...           ...\n",
              "1484        8.440\n",
              "1260        8.475\n",
              "1135        8.550\n",
              "1452       10.620\n",
              "1323       11.150\n",
              "\n",
              "[481 rows x 1 columns]"
            ]
          },
          "metadata": {
            "tags": []
          },
          "execution_count": 29
        }
      ]
    },
    {
      "cell_type": "code",
      "metadata": {
        "id": "uI2oZFcwX6tv"
      },
      "source": [
        "for user in df_calls['user_id'].unique():\n",
        "    df_calls.loc[df_calls['user_id'] == user, 'duration'] = df_calls.loc[df_calls['user_id'] == user, 'duration'].replace(0, df_calls.loc[df_calls['user_id'] == user, 'duration'].median())"
      ],
      "execution_count": null,
      "outputs": []
    },
    {
      "cell_type": "markdown",
      "metadata": {
        "id": "kivSQeWXX6ty"
      },
      "source": [
        "Since phone usage may vary by user due to reasons such as occupation (for example, salespeople may have higher phone usage than retail associates), 0 duration values have been replaced with the median duration value based on each individual user."
      ]
    },
    {
      "cell_type": "code",
      "metadata": {
        "id": "ozKLDj5JX6t1",
        "outputId": "a9aa58e2-ce21-417b-8944-8bd18e5ea1b4"
      },
      "source": [
        "df_internet['mb_used'].hist()"
      ],
      "execution_count": null,
      "outputs": [
        {
          "output_type": "execute_result",
          "data": {
            "text/plain": [
              "<matplotlib.axes._subplots.AxesSubplot at 0x7fca5bbcba50>"
            ]
          },
          "metadata": {
            "tags": []
          },
          "execution_count": 31
        },
        {
          "output_type": "display_data",
          "data": {
            "image/png": "[encoded data removed]",
            "text/plain": [
              "<Figure size 432x288 with 1 Axes>"
            ]
          },
          "metadata": {
            "tags": [],
            "needs_background": "light"
          }
        }
      ]
    },
    {
      "cell_type": "code",
      "metadata": {
        "id": "EQD0-YSiX6t4",
        "outputId": "3284bd9e-e4a0-40ed-e08b-be89d2d10263"
      },
      "source": [
        "df_internet['mb_used'].describe()"
      ],
      "execution_count": null,
      "outputs": [
        {
          "output_type": "execute_result",
          "data": {
            "text/plain": [
              "count    104825.000000\n",
              "mean        366.713701\n",
              "std         277.170542\n",
              "min           0.000000\n",
              "25%         136.080000\n",
              "50%         343.980000\n",
              "75%         554.610000\n",
              "max        1693.470000\n",
              "Name: mb_used, dtype: float64"
            ]
          },
          "metadata": {
            "tags": []
          },
          "execution_count": 32
        }
      ]
    },
    {
      "cell_type": "code",
      "metadata": {
        "id": "i05sPM7HX6t-",
        "outputId": "03b450ac-8e70-44c0-ace9-48e748449ab3"
      },
      "source": [
        "df_internet['mb_used'].value_counts()"
      ],
      "execution_count": null,
      "outputs": [
        {
          "output_type": "execute_result",
          "data": {
            "text/plain": [
              "0.00      13747\n",
              "414.46        8\n",
              "435.77        8\n",
              "417.46        7\n",
              "313.79        7\n",
              "          ...  \n",
              "638.12        1\n",
              "217.39        1\n",
              "683.90        1\n",
              "243.97        1\n",
              "563.11        1\n",
              "Name: mb_used, Length: 57624, dtype: int64"
            ]
          },
          "metadata": {
            "tags": []
          },
          "execution_count": 33
        }
      ]
    },
    {
      "cell_type": "code",
      "metadata": {
        "id": "LTGC9c8qX6uC",
        "outputId": "275f961a-04ee-4ab0-f7e4-1c5d95f5b024"
      },
      "source": [
        "df_internet.loc[df_internet['mb_used'] == 0].head()"
      ],
      "execution_count": null,
      "outputs": [
        {
          "output_type": "execute_result",
          "data": {
            "text/html": [
              "<div>\n",
              "<style scoped>\n",
              "    .dataframe tbody tr th:only-of-type {\n",
              "        vertical-align: middle;\n",
              "    }\n",
              "\n",
              "    .dataframe tbody tr th {\n",
              "        vertical-align: top;\n",
              "    }\n",
              "\n",
              "    .dataframe thead th {\n",
              "        text-align: right;\n",
              "    }\n",
              "</style>\n",
              "<table border=\"1\" class=\"dataframe\">\n",
              "  <thead>\n",
              "    <tr style=\"text-align: right;\">\n",
              "      <th></th>\n",
              "      <th>id</th>\n",
              "      <th>user_id</th>\n",
              "      <th>session_date</th>\n",
              "      <th>mb_used</th>\n",
              "    </tr>\n",
              "  </thead>\n",
              "  <tbody>\n",
              "    <tr>\n",
              "      <td>1</td>\n",
              "      <td>1000_204</td>\n",
              "      <td>1000</td>\n",
              "      <td>2018-12-31</td>\n",
              "      <td>0.0</td>\n",
              "    </tr>\n",
              "    <tr>\n",
              "      <td>14</td>\n",
              "      <td>1001_26</td>\n",
              "      <td>1001</td>\n",
              "      <td>2018-09-17</td>\n",
              "      <td>0.0</td>\n",
              "    </tr>\n",
              "    <tr>\n",
              "      <td>16</td>\n",
              "      <td>1001_28</td>\n",
              "      <td>1001</td>\n",
              "      <td>2018-10-17</td>\n",
              "      <td>0.0</td>\n",
              "    </tr>\n",
              "    <tr>\n",
              "      <td>34</td>\n",
              "      <td>1001_54</td>\n",
              "      <td>1001</td>\n",
              "      <td>2018-09-02</td>\n",
              "      <td>0.0</td>\n",
              "    </tr>\n",
              "    <tr>\n",
              "      <td>43</td>\n",
              "      <td>1001_77</td>\n",
              "      <td>1001</td>\n",
              "      <td>2018-10-31</td>\n",
              "      <td>0.0</td>\n",
              "    </tr>\n",
              "  </tbody>\n",
              "</table>\n",
              "</div>"
            ],
            "text/plain": [
              "          id  user_id session_date  mb_used\n",
              "1   1000_204     1000   2018-12-31      0.0\n",
              "14   1001_26     1001   2018-09-17      0.0\n",
              "16   1001_28     1001   2018-10-17      0.0\n",
              "34   1001_54     1001   2018-09-02      0.0\n",
              "43   1001_77     1001   2018-10-31      0.0"
            ]
          },
          "metadata": {
            "tags": []
          },
          "execution_count": 34
        }
      ]
    },
    {
      "cell_type": "markdown",
      "metadata": {
        "id": "Grh77U_CX6uF"
      },
      "source": [
        "Records containing 0 megabytes used comprise 13.11% of the df_internet dataset. There does not appear to be a common secondary attribute between the 0 megabyte records."
      ]
    },
    {
      "cell_type": "code",
      "metadata": {
        "id": "G6S4A2D-X6uG",
        "outputId": "b460bb6f-47c9-4b33-e1ad-3d074492c8f4"
      },
      "source": [
        "df_internet.pivot_table(index='user_id', values='mb_used', aggfunc='median').sort_values(by='mb_used', ascending=False)"
      ],
      "execution_count": null,
      "outputs": [
        {
          "output_type": "execute_result",
          "data": {
            "text/html": [
              "<div>\n",
              "<style scoped>\n",
              "    .dataframe tbody tr th:only-of-type {\n",
              "        vertical-align: middle;\n",
              "    }\n",
              "\n",
              "    .dataframe tbody tr th {\n",
              "        vertical-align: top;\n",
              "    }\n",
              "\n",
              "    .dataframe thead th {\n",
              "        text-align: right;\n",
              "    }\n",
              "</style>\n",
              "<table border=\"1\" class=\"dataframe\">\n",
              "  <thead>\n",
              "    <tr style=\"text-align: right;\">\n",
              "      <th></th>\n",
              "      <th>mb_used</th>\n",
              "    </tr>\n",
              "    <tr>\n",
              "      <th>user_id</th>\n",
              "      <th></th>\n",
              "    </tr>\n",
              "  </thead>\n",
              "  <tbody>\n",
              "    <tr>\n",
              "      <td>1340</td>\n",
              "      <td>777.970</td>\n",
              "    </tr>\n",
              "    <tr>\n",
              "      <td>1124</td>\n",
              "      <td>697.610</td>\n",
              "    </tr>\n",
              "    <tr>\n",
              "      <td>1429</td>\n",
              "      <td>612.430</td>\n",
              "    </tr>\n",
              "    <tr>\n",
              "      <td>1479</td>\n",
              "      <td>590.555</td>\n",
              "    </tr>\n",
              "    <tr>\n",
              "      <td>1360</td>\n",
              "      <td>587.480</td>\n",
              "    </tr>\n",
              "    <tr>\n",
              "      <td>...</td>\n",
              "      <td>...</td>\n",
              "    </tr>\n",
              "    <tr>\n",
              "      <td>1344</td>\n",
              "      <td>169.530</td>\n",
              "    </tr>\n",
              "    <tr>\n",
              "      <td>1372</td>\n",
              "      <td>163.610</td>\n",
              "    </tr>\n",
              "    <tr>\n",
              "      <td>1108</td>\n",
              "      <td>116.585</td>\n",
              "    </tr>\n",
              "    <tr>\n",
              "      <td>1452</td>\n",
              "      <td>92.680</td>\n",
              "    </tr>\n",
              "    <tr>\n",
              "      <td>1234</td>\n",
              "      <td>87.420</td>\n",
              "    </tr>\n",
              "  </tbody>\n",
              "</table>\n",
              "<p>489 rows × 1 columns</p>\n",
              "</div>"
            ],
            "text/plain": [
              "         mb_used\n",
              "user_id         \n",
              "1340     777.970\n",
              "1124     697.610\n",
              "1429     612.430\n",
              "1479     590.555\n",
              "1360     587.480\n",
              "...          ...\n",
              "1344     169.530\n",
              "1372     163.610\n",
              "1108     116.585\n",
              "1452      92.680\n",
              "1234      87.420\n",
              "\n",
              "[489 rows x 1 columns]"
            ]
          },
          "metadata": {
            "tags": []
          },
          "execution_count": 35
        }
      ]
    },
    {
      "cell_type": "code",
      "metadata": {
        "id": "-zG1JI5RX6uJ"
      },
      "source": [
        "for user in df_internet['user_id'].unique():\n",
        "    df_internet.loc[df_internet['user_id'] == user, 'mb_used'] = df_internet.loc[df_internet['user_id'] == user, 'mb_used'].replace(0, df_internet.loc[df_internet['user_id'] == user, 'mb_used'].median())"
      ],
      "execution_count": null,
      "outputs": []
    },
    {
      "cell_type": "markdown",
      "metadata": {
        "id": "fhRy98JAX6uN"
      },
      "source": [
        "Since data usage may vary by user due to reasons such as occupation or entertainment preferences (some users may enjoy streaming videos on their phones or play online mobile games more than others), 0 duration values have been replaced with the median duration value based on each individual user."
      ]
    },
    {
      "cell_type": "markdown",
      "metadata": {
        "id": "SqFcrv8sX6uN"
      },
      "source": [
        "#### Determining user activity"
      ]
    },
    {
      "cell_type": "code",
      "metadata": {
        "id": "OidF24-9X6uN",
        "outputId": "a5c0c9b5-b4bb-4c11-e581-a069dc1b9520"
      },
      "source": [
        "df_calls['call_date'].max()"
      ],
      "execution_count": null,
      "outputs": [
        {
          "output_type": "execute_result",
          "data": {
            "text/plain": [
              "Timestamp('2018-12-31 00:00:00')"
            ]
          },
          "metadata": {
            "tags": []
          },
          "execution_count": 37
        }
      ]
    },
    {
      "cell_type": "code",
      "metadata": {
        "id": "wkK-BGmmX6uQ",
        "outputId": "bd8dad93-ef8a-4565-bc18-2c6782e886ff"
      },
      "source": [
        "df_messages['message_date'].max()"
      ],
      "execution_count": null,
      "outputs": [
        {
          "output_type": "execute_result",
          "data": {
            "text/plain": [
              "Timestamp('2018-12-31 00:00:00')"
            ]
          },
          "metadata": {
            "tags": []
          },
          "execution_count": 38
        }
      ]
    },
    {
      "cell_type": "code",
      "metadata": {
        "id": "tOiJI-ZhX6uU",
        "outputId": "54a48f44-0e7b-417a-8c6a-f19c9369fb18"
      },
      "source": [
        "df_internet['session_date'].max()"
      ],
      "execution_count": null,
      "outputs": [
        {
          "output_type": "execute_result",
          "data": {
            "text/plain": [
              "Timestamp('2018-12-31 00:00:00')"
            ]
          },
          "metadata": {
            "tags": []
          },
          "execution_count": 39
        }
      ]
    },
    {
      "cell_type": "markdown",
      "metadata": {
        "id": "myic9Nq0X6uX"
      },
      "source": [
        "The latest record in the provided datasets take place on December 31, 2018."
      ]
    },
    {
      "cell_type": "code",
      "metadata": {
        "id": "TywbRDblX6uX"
      },
      "source": [
        "df_users['end_date'] = df_users['churn_date'].fillna(pd.to_datetime('2018-12-31'))"
      ],
      "execution_count": null,
      "outputs": []
    },
    {
      "cell_type": "code",
      "metadata": {
        "id": "TRIWuxuiX6ua"
      },
      "source": [
        "df_users['months_active'] = np.ceil((df_users['end_date'] - df_users['reg_date']).dt.days / 30).astype(int)"
      ],
      "execution_count": null,
      "outputs": []
    },
    {
      "cell_type": "markdown",
      "metadata": {
        "id": "lGPjYp1fX6ud"
      },
      "source": [
        "`months_active` is rounded up because users typically pay for plans by whole month."
      ]
    },
    {
      "cell_type": "code",
      "metadata": {
        "id": "hxGX4pj0X6ue",
        "outputId": "ff40026c-0fb0-4555-b730-b66eace770b9"
      },
      "source": [
        "df_users.head()"
      ],
      "execution_count": null,
      "outputs": [
        {
          "output_type": "execute_result",
          "data": {
            "text/html": [
              "<div>\n",
              "<style scoped>\n",
              "    .dataframe tbody tr th:only-of-type {\n",
              "        vertical-align: middle;\n",
              "    }\n",
              "\n",
              "    .dataframe tbody tr th {\n",
              "        vertical-align: top;\n",
              "    }\n",
              "\n",
              "    .dataframe thead th {\n",
              "        text-align: right;\n",
              "    }\n",
              "</style>\n",
              "<table border=\"1\" class=\"dataframe\">\n",
              "  <thead>\n",
              "    <tr style=\"text-align: right;\">\n",
              "      <th></th>\n",
              "      <th>user_id</th>\n",
              "      <th>first_name</th>\n",
              "      <th>last_name</th>\n",
              "      <th>age</th>\n",
              "      <th>city</th>\n",
              "      <th>reg_date</th>\n",
              "      <th>tariff</th>\n",
              "      <th>churn_date</th>\n",
              "      <th>end_date</th>\n",
              "      <th>months_active</th>\n",
              "    </tr>\n",
              "  </thead>\n",
              "  <tbody>\n",
              "    <tr>\n",
              "      <td>0</td>\n",
              "      <td>1000</td>\n",
              "      <td>Anamaria</td>\n",
              "      <td>Bauer</td>\n",
              "      <td>45</td>\n",
              "      <td>Atlanta-Sandy Springs-Roswell, GA MSA</td>\n",
              "      <td>2018-12-24</td>\n",
              "      <td>ultimate</td>\n",
              "      <td>NaT</td>\n",
              "      <td>2018-12-31</td>\n",
              "      <td>1</td>\n",
              "    </tr>\n",
              "    <tr>\n",
              "      <td>1</td>\n",
              "      <td>1001</td>\n",
              "      <td>Mickey</td>\n",
              "      <td>Wilkerson</td>\n",
              "      <td>28</td>\n",
              "      <td>Seattle-Tacoma-Bellevue, WA MSA</td>\n",
              "      <td>2018-08-13</td>\n",
              "      <td>surf</td>\n",
              "      <td>NaT</td>\n",
              "      <td>2018-12-31</td>\n",
              "      <td>5</td>\n",
              "    </tr>\n",
              "    <tr>\n",
              "      <td>2</td>\n",
              "      <td>1002</td>\n",
              "      <td>Carlee</td>\n",
              "      <td>Hoffman</td>\n",
              "      <td>36</td>\n",
              "      <td>Las Vegas-Henderson-Paradise, NV MSA</td>\n",
              "      <td>2018-10-21</td>\n",
              "      <td>surf</td>\n",
              "      <td>NaT</td>\n",
              "      <td>2018-12-31</td>\n",
              "      <td>3</td>\n",
              "    </tr>\n",
              "    <tr>\n",
              "      <td>3</td>\n",
              "      <td>1003</td>\n",
              "      <td>Reynaldo</td>\n",
              "      <td>Jenkins</td>\n",
              "      <td>52</td>\n",
              "      <td>Tulsa, OK MSA</td>\n",
              "      <td>2018-01-28</td>\n",
              "      <td>surf</td>\n",
              "      <td>NaT</td>\n",
              "      <td>2018-12-31</td>\n",
              "      <td>12</td>\n",
              "    </tr>\n",
              "    <tr>\n",
              "      <td>4</td>\n",
              "      <td>1004</td>\n",
              "      <td>Leonila</td>\n",
              "      <td>Thompson</td>\n",
              "      <td>40</td>\n",
              "      <td>Seattle-Tacoma-Bellevue, WA MSA</td>\n",
              "      <td>2018-05-23</td>\n",
              "      <td>surf</td>\n",
              "      <td>NaT</td>\n",
              "      <td>2018-12-31</td>\n",
              "      <td>8</td>\n",
              "    </tr>\n",
              "  </tbody>\n",
              "</table>\n",
              "</div>"
            ],
            "text/plain": [
              "   user_id first_name  last_name  age                                   city  \\\n",
              "0     1000   Anamaria      Bauer   45  Atlanta-Sandy Springs-Roswell, GA MSA   \n",
              "1     1001     Mickey  Wilkerson   28        Seattle-Tacoma-Bellevue, WA MSA   \n",
              "2     1002     Carlee    Hoffman   36   Las Vegas-Henderson-Paradise, NV MSA   \n",
              "3     1003   Reynaldo    Jenkins   52                          Tulsa, OK MSA   \n",
              "4     1004    Leonila   Thompson   40        Seattle-Tacoma-Bellevue, WA MSA   \n",
              "\n",
              "    reg_date    tariff churn_date   end_date  months_active  \n",
              "0 2018-12-24  ultimate        NaT 2018-12-31              1  \n",
              "1 2018-08-13      surf        NaT 2018-12-31              5  \n",
              "2 2018-10-21      surf        NaT 2018-12-31              3  \n",
              "3 2018-01-28      surf        NaT 2018-12-31             12  \n",
              "4 2018-05-23      surf        NaT 2018-12-31              8  "
            ]
          },
          "metadata": {
            "tags": []
          },
          "execution_count": 42
        }
      ]
    },
    {
      "cell_type": "markdown",
      "metadata": {
        "id": "dkwwYqVjX6ui"
      },
      "source": [
        "#### Determining the number of calls made and minutes spent per month, per user"
      ]
    },
    {
      "cell_type": "code",
      "metadata": {
        "id": "DGT5Ge-UX6uk"
      },
      "source": [
        "df_calls['month'] = df_calls['call_date'].dt.month"
      ],
      "execution_count": null,
      "outputs": []
    },
    {
      "cell_type": "code",
      "metadata": {
        "id": "E1SVQ_AOX6un"
      },
      "source": [
        "calls_count = df_calls.pivot_table(index=['user_id', 'month'], values='duration', aggfunc='count').rename(columns={'duration':'call_count'})"
      ],
      "execution_count": null,
      "outputs": []
    },
    {
      "cell_type": "code",
      "metadata": {
        "id": "zPiWqDFFX6uq",
        "outputId": "3042b248-de30-43cf-9dea-9a47b46d3f26"
      },
      "source": [
        "calls_count.head()"
      ],
      "execution_count": null,
      "outputs": [
        {
          "output_type": "execute_result",
          "data": {
            "text/html": [
              "<div>\n",
              "<style scoped>\n",
              "    .dataframe tbody tr th:only-of-type {\n",
              "        vertical-align: middle;\n",
              "    }\n",
              "\n",
              "    .dataframe tbody tr th {\n",
              "        vertical-align: top;\n",
              "    }\n",
              "\n",
              "    .dataframe thead th {\n",
              "        text-align: right;\n",
              "    }\n",
              "</style>\n",
              "<table border=\"1\" class=\"dataframe\">\n",
              "  <thead>\n",
              "    <tr style=\"text-align: right;\">\n",
              "      <th></th>\n",
              "      <th></th>\n",
              "      <th>call_count</th>\n",
              "    </tr>\n",
              "    <tr>\n",
              "      <th>user_id</th>\n",
              "      <th>month</th>\n",
              "      <th></th>\n",
              "    </tr>\n",
              "  </thead>\n",
              "  <tbody>\n",
              "    <tr>\n",
              "      <td>1000</td>\n",
              "      <td>12</td>\n",
              "      <td>16</td>\n",
              "    </tr>\n",
              "    <tr>\n",
              "      <td rowspan=\"4\" valign=\"top\">1001</td>\n",
              "      <td>8</td>\n",
              "      <td>27</td>\n",
              "    </tr>\n",
              "    <tr>\n",
              "      <td>9</td>\n",
              "      <td>49</td>\n",
              "    </tr>\n",
              "    <tr>\n",
              "      <td>10</td>\n",
              "      <td>65</td>\n",
              "    </tr>\n",
              "    <tr>\n",
              "      <td>11</td>\n",
              "      <td>64</td>\n",
              "    </tr>\n",
              "  </tbody>\n",
              "</table>\n",
              "</div>"
            ],
            "text/plain": [
              "               call_count\n",
              "user_id month            \n",
              "1000    12             16\n",
              "1001    8              27\n",
              "        9              49\n",
              "        10             65\n",
              "        11             64"
            ]
          },
          "metadata": {
            "tags": []
          },
          "execution_count": 45
        }
      ]
    },
    {
      "cell_type": "code",
      "metadata": {
        "id": "6vidvXysX6u3"
      },
      "source": [
        "calls_minutes = df_calls.pivot_table(index=['user_id', 'month'], values='duration', aggfunc='sum').rename(columns={'duration':'call_minutes'})"
      ],
      "execution_count": null,
      "outputs": []
    },
    {
      "cell_type": "code",
      "metadata": {
        "id": "xG4yZf5kX6u8",
        "outputId": "c2b5a8bd-7792-4f2d-a396-9670c2a5cbf2"
      },
      "source": [
        "calls_minutes.head()"
      ],
      "execution_count": null,
      "outputs": [
        {
          "output_type": "execute_result",
          "data": {
            "text/html": [
              "<div>\n",
              "<style scoped>\n",
              "    .dataframe tbody tr th:only-of-type {\n",
              "        vertical-align: middle;\n",
              "    }\n",
              "\n",
              "    .dataframe tbody tr th {\n",
              "        vertical-align: top;\n",
              "    }\n",
              "\n",
              "    .dataframe thead th {\n",
              "        text-align: right;\n",
              "    }\n",
              "</style>\n",
              "<table border=\"1\" class=\"dataframe\">\n",
              "  <thead>\n",
              "    <tr style=\"text-align: right;\">\n",
              "      <th></th>\n",
              "      <th></th>\n",
              "      <th>call_minutes</th>\n",
              "    </tr>\n",
              "    <tr>\n",
              "      <th>user_id</th>\n",
              "      <th>month</th>\n",
              "      <th></th>\n",
              "    </tr>\n",
              "  </thead>\n",
              "  <tbody>\n",
              "    <tr>\n",
              "      <td>1000</td>\n",
              "      <td>12</td>\n",
              "      <td>116.83</td>\n",
              "    </tr>\n",
              "    <tr>\n",
              "      <td rowspan=\"4\" valign=\"top\">1001</td>\n",
              "      <td>8</td>\n",
              "      <td>199.89</td>\n",
              "    </tr>\n",
              "    <tr>\n",
              "      <td>9</td>\n",
              "      <td>360.94</td>\n",
              "    </tr>\n",
              "    <tr>\n",
              "      <td>10</td>\n",
              "      <td>477.61</td>\n",
              "    </tr>\n",
              "    <tr>\n",
              "      <td>11</td>\n",
              "      <td>490.84</td>\n",
              "    </tr>\n",
              "  </tbody>\n",
              "</table>\n",
              "</div>"
            ],
            "text/plain": [
              "               call_minutes\n",
              "user_id month              \n",
              "1000    12           116.83\n",
              "1001    8            199.89\n",
              "        9            360.94\n",
              "        10           477.61\n",
              "        11           490.84"
            ]
          },
          "metadata": {
            "tags": []
          },
          "execution_count": 47
        }
      ]
    },
    {
      "cell_type": "markdown",
      "metadata": {
        "id": "VLv9YT-_X6u_"
      },
      "source": [
        "#### Determining the number of SMS sent per month, per user"
      ]
    },
    {
      "cell_type": "code",
      "metadata": {
        "id": "l1VCYPqPX6vA"
      },
      "source": [
        "df_messages['month'] = df_messages['message_date'].dt.month"
      ],
      "execution_count": null,
      "outputs": []
    },
    {
      "cell_type": "code",
      "metadata": {
        "id": "Y2rxHktBX6vD"
      },
      "source": [
        "messages = df_messages.pivot_table(index=['user_id', 'month'], values='id', aggfunc='count').rename(columns={'id':'message_count'})"
      ],
      "execution_count": null,
      "outputs": []
    },
    {
      "cell_type": "code",
      "metadata": {
        "id": "BpL94YycX6vF",
        "outputId": "8c338e63-1372-47cf-e6ee-ff65755a1d81"
      },
      "source": [
        "messages.head()"
      ],
      "execution_count": null,
      "outputs": [
        {
          "output_type": "execute_result",
          "data": {
            "text/html": [
              "<div>\n",
              "<style scoped>\n",
              "    .dataframe tbody tr th:only-of-type {\n",
              "        vertical-align: middle;\n",
              "    }\n",
              "\n",
              "    .dataframe tbody tr th {\n",
              "        vertical-align: top;\n",
              "    }\n",
              "\n",
              "    .dataframe thead th {\n",
              "        text-align: right;\n",
              "    }\n",
              "</style>\n",
              "<table border=\"1\" class=\"dataframe\">\n",
              "  <thead>\n",
              "    <tr style=\"text-align: right;\">\n",
              "      <th></th>\n",
              "      <th></th>\n",
              "      <th>message_count</th>\n",
              "    </tr>\n",
              "    <tr>\n",
              "      <th>user_id</th>\n",
              "      <th>month</th>\n",
              "      <th></th>\n",
              "    </tr>\n",
              "  </thead>\n",
              "  <tbody>\n",
              "    <tr>\n",
              "      <td>1000</td>\n",
              "      <td>12</td>\n",
              "      <td>11</td>\n",
              "    </tr>\n",
              "    <tr>\n",
              "      <td rowspan=\"4\" valign=\"top\">1001</td>\n",
              "      <td>8</td>\n",
              "      <td>30</td>\n",
              "    </tr>\n",
              "    <tr>\n",
              "      <td>9</td>\n",
              "      <td>44</td>\n",
              "    </tr>\n",
              "    <tr>\n",
              "      <td>10</td>\n",
              "      <td>53</td>\n",
              "    </tr>\n",
              "    <tr>\n",
              "      <td>11</td>\n",
              "      <td>36</td>\n",
              "    </tr>\n",
              "  </tbody>\n",
              "</table>\n",
              "</div>"
            ],
            "text/plain": [
              "               message_count\n",
              "user_id month               \n",
              "1000    12                11\n",
              "1001    8                 30\n",
              "        9                 44\n",
              "        10                53\n",
              "        11                36"
            ]
          },
          "metadata": {
            "tags": []
          },
          "execution_count": 50
        }
      ]
    },
    {
      "cell_type": "markdown",
      "metadata": {
        "id": "065-FvS_X6vJ"
      },
      "source": [
        "#### Determining the volume of web traffic per month, per user"
      ]
    },
    {
      "cell_type": "code",
      "metadata": {
        "id": "63_HKgxRX6vK"
      },
      "source": [
        "df_internet['month'] = df_internet['session_date'].dt.month"
      ],
      "execution_count": null,
      "outputs": []
    },
    {
      "cell_type": "code",
      "metadata": {
        "id": "pGzf_yvZX6vN"
      },
      "source": [
        "internet = df_internet.pivot_table(index=['user_id', 'month'], values='mb_used', aggfunc='sum')"
      ],
      "execution_count": null,
      "outputs": []
    },
    {
      "cell_type": "code",
      "metadata": {
        "id": "JOaMYszwX6vR",
        "outputId": "99f77579-284d-4d5c-9853-0eae2fa02fcf"
      },
      "source": [
        "internet.head()"
      ],
      "execution_count": null,
      "outputs": [
        {
          "output_type": "execute_result",
          "data": {
            "text/html": [
              "<div>\n",
              "<style scoped>\n",
              "    .dataframe tbody tr th:only-of-type {\n",
              "        vertical-align: middle;\n",
              "    }\n",
              "\n",
              "    .dataframe tbody tr th {\n",
              "        vertical-align: top;\n",
              "    }\n",
              "\n",
              "    .dataframe thead th {\n",
              "        text-align: right;\n",
              "    }\n",
              "</style>\n",
              "<table border=\"1\" class=\"dataframe\">\n",
              "  <thead>\n",
              "    <tr style=\"text-align: right;\">\n",
              "      <th></th>\n",
              "      <th></th>\n",
              "      <th>mb_used</th>\n",
              "    </tr>\n",
              "    <tr>\n",
              "      <th>user_id</th>\n",
              "      <th>month</th>\n",
              "      <th></th>\n",
              "    </tr>\n",
              "  </thead>\n",
              "  <tbody>\n",
              "    <tr>\n",
              "      <td>1000</td>\n",
              "      <td>12</td>\n",
              "      <td>2172.46</td>\n",
              "    </tr>\n",
              "    <tr>\n",
              "      <td rowspan=\"4\" valign=\"top\">1001</td>\n",
              "      <td>8</td>\n",
              "      <td>8099.79</td>\n",
              "    </tr>\n",
              "    <tr>\n",
              "      <td>9</td>\n",
              "      <td>17151.90</td>\n",
              "    </tr>\n",
              "    <tr>\n",
              "      <td>10</td>\n",
              "      <td>24691.77</td>\n",
              "    </tr>\n",
              "    <tr>\n",
              "      <td>11</td>\n",
              "      <td>19389.78</td>\n",
              "    </tr>\n",
              "  </tbody>\n",
              "</table>\n",
              "</div>"
            ],
            "text/plain": [
              "                mb_used\n",
              "user_id month          \n",
              "1000    12      2172.46\n",
              "1001    8       8099.79\n",
              "        9      17151.90\n",
              "        10     24691.77\n",
              "        11     19389.78"
            ]
          },
          "metadata": {
            "tags": []
          },
          "execution_count": 53
        }
      ]
    },
    {
      "cell_type": "markdown",
      "metadata": {
        "id": "yvt-h9glX6vT"
      },
      "source": [
        "#### Determining the monthly profit from each of the users"
      ]
    },
    {
      "cell_type": "code",
      "metadata": {
        "id": "yhH7lDNMX6vT"
      },
      "source": [
        "breakdown = pd.concat([calls_count, calls_minutes, messages, internet], axis=1).reset_index()"
      ],
      "execution_count": null,
      "outputs": []
    },
    {
      "cell_type": "markdown",
      "metadata": {
        "id": "2OfNWl9-X6vW"
      },
      "source": [
        "`calls_count`, `calls_minutes`, `message_count`, `mb_used` are combined to create a new dataframe called `breakdown`."
      ]
    },
    {
      "cell_type": "code",
      "metadata": {
        "id": "gGvukcGnX6vW",
        "outputId": "5d9b7045-20b4-4d69-f5e7-caac8cecf4bb"
      },
      "source": [
        "breakdown.isna().sum()"
      ],
      "execution_count": null,
      "outputs": [
        {
          "output_type": "execute_result",
          "data": {
            "text/plain": [
              "user_id            0\n",
              "month              0\n",
              "call_count        35\n",
              "call_minutes      35\n",
              "message_count    487\n",
              "mb_used           16\n",
              "dtype: int64"
            ]
          },
          "metadata": {
            "tags": []
          },
          "execution_count": 55
        }
      ]
    },
    {
      "cell_type": "code",
      "metadata": {
        "id": "9FHgs8rmX6vY"
      },
      "source": [
        "breakdown.fillna(0, inplace=True)"
      ],
      "execution_count": null,
      "outputs": []
    },
    {
      "cell_type": "markdown",
      "metadata": {
        "id": "ORTSZmq5X6vb"
      },
      "source": [
        "Null values in `call_count`, `call_minutes`, `message_count`, and `mb_used` indicate that the users involved have no such usage records for a specific month. These null values are replaced with 0's to make the data clearer."
      ]
    },
    {
      "cell_type": "code",
      "metadata": {
        "id": "Wskw7Dw5X6vc"
      },
      "source": [
        "plan_dict = df_users[['user_id', 'tariff']].set_index('user_id')\n",
        "plan_dict = plan_dict['tariff'].to_dict()"
      ],
      "execution_count": null,
      "outputs": []
    },
    {
      "cell_type": "code",
      "metadata": {
        "id": "QNy_g2GDX6vf"
      },
      "source": [
        "def apply_plan(row):\n",
        "    return plan_dict[row['user_id']]\n",
        "\n",
        "breakdown['plan'] = breakdown.apply(apply_plan, axis=1)"
      ],
      "execution_count": null,
      "outputs": []
    },
    {
      "cell_type": "markdown",
      "metadata": {
        "id": "f_QijyHSX6vh"
      },
      "source": [
        "`breakdown['plan']` is created based on a dictionary of all users and their plans obtained from `df_users`."
      ]
    },
    {
      "cell_type": "code",
      "metadata": {
        "id": "UUKn6ePpX6vj"
      },
      "source": [
        "def month_profit(row):\n",
        "    if row['plan'] == \"surf\":\n",
        "        return calculate(row, 0)\n",
        "    else:\n",
        "        return calculate(row, 1)\n",
        "\n",
        "def calculate(row, plan):\n",
        "    total = df_tariffs.loc[plan, 'usd_monthly_pay']\n",
        "        \n",
        "    minutes = row['call_minutes'] - df_tariffs.loc[plan, 'minutes_included']\n",
        "    messages = row['message_count'] - df_tariffs.loc[plan, 'messages_included']\n",
        "    data = row['mb_used'] - df_tariffs.loc[plan, 'mb_per_month_included']\n",
        "        \n",
        "    if minutes > 0:\n",
        "        total += minutes * df_tariffs.loc[plan, 'usd_per_minute']\n",
        "            \n",
        "    if messages > 0:\n",
        "        total += messages * df_tariffs.loc[plan, 'usd_per_message']\n",
        "            \n",
        "    if data > 0:\n",
        "        total += data / 1024 * df_tariffs.loc[plan, 'usd_per_gb']\n",
        "            \n",
        "    return total\n",
        "\n",
        "breakdown['profit'] = breakdown.apply(month_profit, axis=1)"
      ],
      "execution_count": null,
      "outputs": []
    },
    {
      "cell_type": "code",
      "metadata": {
        "id": "ynup3CjzX6vk"
      },
      "source": [
        "breakdown['profit'] = breakdown['profit'].astype(float).round(2)"
      ],
      "execution_count": null,
      "outputs": []
    },
    {
      "cell_type": "markdown",
      "metadata": {
        "id": "HLzQoW91X6vn"
      },
      "source": [
        "`breakdown['profit']` is calculated by taking each user's base plan cost and adding any overages to it. The result is rounded to the nearest cent."
      ]
    },
    {
      "cell_type": "markdown",
      "metadata": {
        "id": "lHYp09yXX6vn"
      },
      "source": [
        "#### Determining amount of months where a user has paid for a plan but did not use it for the month"
      ]
    },
    {
      "cell_type": "code",
      "metadata": {
        "id": "l9apWXz8X6vo"
      },
      "source": [
        "user_dict = breakdown['user_id'].value_counts().to_dict()"
      ],
      "execution_count": null,
      "outputs": []
    },
    {
      "cell_type": "markdown",
      "metadata": {
        "id": "L6qXgeeJX6vq"
      },
      "source": [
        "Transforms user_id value counts into a dictionary"
      ]
    },
    {
      "cell_type": "code",
      "metadata": {
        "id": "WDeTmuOeX6vr"
      },
      "source": [
        "def find_unaccounted(row):\n",
        "    if row['user_id'] in user_dict.keys():\n",
        "        return row['months_active'] - user_dict[row['user_id']]\n",
        "    else:\n",
        "        return row['months_active']\n",
        "\n",
        "df_users['unaccounted_months'] = df_users.apply(find_unaccounted, axis=1)"
      ],
      "execution_count": null,
      "outputs": []
    },
    {
      "cell_type": "code",
      "metadata": {
        "id": "s_oV6RLlX6vu",
        "outputId": "49c12d3f-b074-4ea4-c948-2e6090776dfb"
      },
      "source": [
        "df_users.head()"
      ],
      "execution_count": null,
      "outputs": [
        {
          "output_type": "execute_result",
          "data": {
            "text/html": [
              "<div>\n",
              "<style scoped>\n",
              "    .dataframe tbody tr th:only-of-type {\n",
              "        vertical-align: middle;\n",
              "    }\n",
              "\n",
              "    .dataframe tbody tr th {\n",
              "        vertical-align: top;\n",
              "    }\n",
              "\n",
              "    .dataframe thead th {\n",
              "        text-align: right;\n",
              "    }\n",
              "</style>\n",
              "<table border=\"1\" class=\"dataframe\">\n",
              "  <thead>\n",
              "    <tr style=\"text-align: right;\">\n",
              "      <th></th>\n",
              "      <th>user_id</th>\n",
              "      <th>first_name</th>\n",
              "      <th>last_name</th>\n",
              "      <th>age</th>\n",
              "      <th>city</th>\n",
              "      <th>reg_date</th>\n",
              "      <th>tariff</th>\n",
              "      <th>churn_date</th>\n",
              "      <th>end_date</th>\n",
              "      <th>months_active</th>\n",
              "      <th>unaccounted_months</th>\n",
              "    </tr>\n",
              "  </thead>\n",
              "  <tbody>\n",
              "    <tr>\n",
              "      <td>0</td>\n",
              "      <td>1000</td>\n",
              "      <td>Anamaria</td>\n",
              "      <td>Bauer</td>\n",
              "      <td>45</td>\n",
              "      <td>Atlanta-Sandy Springs-Roswell, GA MSA</td>\n",
              "      <td>2018-12-24</td>\n",
              "      <td>ultimate</td>\n",
              "      <td>NaT</td>\n",
              "      <td>2018-12-31</td>\n",
              "      <td>1</td>\n",
              "      <td>0</td>\n",
              "    </tr>\n",
              "    <tr>\n",
              "      <td>1</td>\n",
              "      <td>1001</td>\n",
              "      <td>Mickey</td>\n",
              "      <td>Wilkerson</td>\n",
              "      <td>28</td>\n",
              "      <td>Seattle-Tacoma-Bellevue, WA MSA</td>\n",
              "      <td>2018-08-13</td>\n",
              "      <td>surf</td>\n",
              "      <td>NaT</td>\n",
              "      <td>2018-12-31</td>\n",
              "      <td>5</td>\n",
              "      <td>0</td>\n",
              "    </tr>\n",
              "    <tr>\n",
              "      <td>2</td>\n",
              "      <td>1002</td>\n",
              "      <td>Carlee</td>\n",
              "      <td>Hoffman</td>\n",
              "      <td>36</td>\n",
              "      <td>Las Vegas-Henderson-Paradise, NV MSA</td>\n",
              "      <td>2018-10-21</td>\n",
              "      <td>surf</td>\n",
              "      <td>NaT</td>\n",
              "      <td>2018-12-31</td>\n",
              "      <td>3</td>\n",
              "      <td>0</td>\n",
              "    </tr>\n",
              "    <tr>\n",
              "      <td>3</td>\n",
              "      <td>1003</td>\n",
              "      <td>Reynaldo</td>\n",
              "      <td>Jenkins</td>\n",
              "      <td>52</td>\n",
              "      <td>Tulsa, OK MSA</td>\n",
              "      <td>2018-01-28</td>\n",
              "      <td>surf</td>\n",
              "      <td>NaT</td>\n",
              "      <td>2018-12-31</td>\n",
              "      <td>12</td>\n",
              "      <td>11</td>\n",
              "    </tr>\n",
              "    <tr>\n",
              "      <td>4</td>\n",
              "      <td>1004</td>\n",
              "      <td>Leonila</td>\n",
              "      <td>Thompson</td>\n",
              "      <td>40</td>\n",
              "      <td>Seattle-Tacoma-Bellevue, WA MSA</td>\n",
              "      <td>2018-05-23</td>\n",
              "      <td>surf</td>\n",
              "      <td>NaT</td>\n",
              "      <td>2018-12-31</td>\n",
              "      <td>8</td>\n",
              "      <td>0</td>\n",
              "    </tr>\n",
              "  </tbody>\n",
              "</table>\n",
              "</div>"
            ],
            "text/plain": [
              "   user_id first_name  last_name  age                                   city  \\\n",
              "0     1000   Anamaria      Bauer   45  Atlanta-Sandy Springs-Roswell, GA MSA   \n",
              "1     1001     Mickey  Wilkerson   28        Seattle-Tacoma-Bellevue, WA MSA   \n",
              "2     1002     Carlee    Hoffman   36   Las Vegas-Henderson-Paradise, NV MSA   \n",
              "3     1003   Reynaldo    Jenkins   52                          Tulsa, OK MSA   \n",
              "4     1004    Leonila   Thompson   40        Seattle-Tacoma-Bellevue, WA MSA   \n",
              "\n",
              "    reg_date    tariff churn_date   end_date  months_active  \\\n",
              "0 2018-12-24  ultimate        NaT 2018-12-31              1   \n",
              "1 2018-08-13      surf        NaT 2018-12-31              5   \n",
              "2 2018-10-21      surf        NaT 2018-12-31              3   \n",
              "3 2018-01-28      surf        NaT 2018-12-31             12   \n",
              "4 2018-05-23      surf        NaT 2018-12-31              8   \n",
              "\n",
              "   unaccounted_months  \n",
              "0                   0  \n",
              "1                   0  \n",
              "2                   0  \n",
              "3                  11  \n",
              "4                   0  "
            ]
          },
          "metadata": {
            "tags": []
          },
          "execution_count": 63
        }
      ]
    },
    {
      "cell_type": "markdown",
      "metadata": {
        "id": "PpPry2tjX6vx"
      },
      "source": [
        "`df_users['unaccounted_months']` contains the amount of months a user has paid for a plan but did not make any phone calls, send any SMS, or use the plan's internet."
      ]
    },
    {
      "cell_type": "markdown",
      "metadata": {
        "id": "CHui80OTX6vy"
      },
      "source": [
        "#### Adding paid, unused months into `breakdown`"
      ]
    },
    {
      "cell_type": "code",
      "metadata": {
        "id": "wKddQHbfX6vy"
      },
      "source": [
        "def list_months(row):\n",
        "    if row['unaccounted_months'] > 0:\n",
        "        months = []\n",
        "        current_month = row['reg_date'].month\n",
        "        unaccounted_counter = row['unaccounted_months']\n",
        "\n",
        "        while (unaccounted_counter > 0) & (current_month < 13):\n",
        "            if breakdown.loc[(breakdown['user_id'] == row['user_id']) & (breakdown['month'] == current_month)].empty:\n",
        "                months.append(current_month)\n",
        "                unaccounted_counter -= 1\n",
        "            \n",
        "            current_month += 1\n",
        "        \n",
        "        return months if months else None\n",
        "    else:\n",
        "        return None\n",
        "    \n",
        "\n",
        "df_users['unacc_list'] = df_users.apply(list_months, axis=1)"
      ],
      "execution_count": null,
      "outputs": []
    },
    {
      "cell_type": "code",
      "metadata": {
        "id": "E8bw780aX6v6",
        "outputId": "d1392be3-48bc-46b8-a6a1-9f16e569c2eb"
      },
      "source": [
        "df_users.head()"
      ],
      "execution_count": null,
      "outputs": [
        {
          "output_type": "execute_result",
          "data": {
            "text/html": [
              "<div>\n",
              "<style scoped>\n",
              "    .dataframe tbody tr th:only-of-type {\n",
              "        vertical-align: middle;\n",
              "    }\n",
              "\n",
              "    .dataframe tbody tr th {\n",
              "        vertical-align: top;\n",
              "    }\n",
              "\n",
              "    .dataframe thead th {\n",
              "        text-align: right;\n",
              "    }\n",
              "</style>\n",
              "<table border=\"1\" class=\"dataframe\">\n",
              "  <thead>\n",
              "    <tr style=\"text-align: right;\">\n",
              "      <th></th>\n",
              "      <th>user_id</th>\n",
              "      <th>first_name</th>\n",
              "      <th>last_name</th>\n",
              "      <th>age</th>\n",
              "      <th>city</th>\n",
              "      <th>reg_date</th>\n",
              "      <th>tariff</th>\n",
              "      <th>churn_date</th>\n",
              "      <th>end_date</th>\n",
              "      <th>months_active</th>\n",
              "      <th>unaccounted_months</th>\n",
              "      <th>unacc_list</th>\n",
              "    </tr>\n",
              "  </thead>\n",
              "  <tbody>\n",
              "    <tr>\n",
              "      <td>0</td>\n",
              "      <td>1000</td>\n",
              "      <td>Anamaria</td>\n",
              "      <td>Bauer</td>\n",
              "      <td>45</td>\n",
              "      <td>Atlanta-Sandy Springs-Roswell, GA MSA</td>\n",
              "      <td>2018-12-24</td>\n",
              "      <td>ultimate</td>\n",
              "      <td>NaT</td>\n",
              "      <td>2018-12-31</td>\n",
              "      <td>1</td>\n",
              "      <td>0</td>\n",
              "      <td>None</td>\n",
              "    </tr>\n",
              "    <tr>\n",
              "      <td>1</td>\n",
              "      <td>1001</td>\n",
              "      <td>Mickey</td>\n",
              "      <td>Wilkerson</td>\n",
              "      <td>28</td>\n",
              "      <td>Seattle-Tacoma-Bellevue, WA MSA</td>\n",
              "      <td>2018-08-13</td>\n",
              "      <td>surf</td>\n",
              "      <td>NaT</td>\n",
              "      <td>2018-12-31</td>\n",
              "      <td>5</td>\n",
              "      <td>0</td>\n",
              "      <td>None</td>\n",
              "    </tr>\n",
              "    <tr>\n",
              "      <td>2</td>\n",
              "      <td>1002</td>\n",
              "      <td>Carlee</td>\n",
              "      <td>Hoffman</td>\n",
              "      <td>36</td>\n",
              "      <td>Las Vegas-Henderson-Paradise, NV MSA</td>\n",
              "      <td>2018-10-21</td>\n",
              "      <td>surf</td>\n",
              "      <td>NaT</td>\n",
              "      <td>2018-12-31</td>\n",
              "      <td>3</td>\n",
              "      <td>0</td>\n",
              "      <td>None</td>\n",
              "    </tr>\n",
              "    <tr>\n",
              "      <td>3</td>\n",
              "      <td>1003</td>\n",
              "      <td>Reynaldo</td>\n",
              "      <td>Jenkins</td>\n",
              "      <td>52</td>\n",
              "      <td>Tulsa, OK MSA</td>\n",
              "      <td>2018-01-28</td>\n",
              "      <td>surf</td>\n",
              "      <td>NaT</td>\n",
              "      <td>2018-12-31</td>\n",
              "      <td>12</td>\n",
              "      <td>11</td>\n",
              "      <td>[1, 2, 3, 4, 5, 6, 7, 8, 9, 10, 11]</td>\n",
              "    </tr>\n",
              "    <tr>\n",
              "      <td>4</td>\n",
              "      <td>1004</td>\n",
              "      <td>Leonila</td>\n",
              "      <td>Thompson</td>\n",
              "      <td>40</td>\n",
              "      <td>Seattle-Tacoma-Bellevue, WA MSA</td>\n",
              "      <td>2018-05-23</td>\n",
              "      <td>surf</td>\n",
              "      <td>NaT</td>\n",
              "      <td>2018-12-31</td>\n",
              "      <td>8</td>\n",
              "      <td>0</td>\n",
              "      <td>None</td>\n",
              "    </tr>\n",
              "  </tbody>\n",
              "</table>\n",
              "</div>"
            ],
            "text/plain": [
              "   user_id first_name  last_name  age                                   city  \\\n",
              "0     1000   Anamaria      Bauer   45  Atlanta-Sandy Springs-Roswell, GA MSA   \n",
              "1     1001     Mickey  Wilkerson   28        Seattle-Tacoma-Bellevue, WA MSA   \n",
              "2     1002     Carlee    Hoffman   36   Las Vegas-Henderson-Paradise, NV MSA   \n",
              "3     1003   Reynaldo    Jenkins   52                          Tulsa, OK MSA   \n",
              "4     1004    Leonila   Thompson   40        Seattle-Tacoma-Bellevue, WA MSA   \n",
              "\n",
              "    reg_date    tariff churn_date   end_date  months_active  \\\n",
              "0 2018-12-24  ultimate        NaT 2018-12-31              1   \n",
              "1 2018-08-13      surf        NaT 2018-12-31              5   \n",
              "2 2018-10-21      surf        NaT 2018-12-31              3   \n",
              "3 2018-01-28      surf        NaT 2018-12-31             12   \n",
              "4 2018-05-23      surf        NaT 2018-12-31              8   \n",
              "\n",
              "   unaccounted_months                           unacc_list  \n",
              "0                   0                                 None  \n",
              "1                   0                                 None  \n",
              "2                   0                                 None  \n",
              "3                  11  [1, 2, 3, 4, 5, 6, 7, 8, 9, 10, 11]  \n",
              "4                   0                                 None  "
            ]
          },
          "metadata": {
            "tags": []
          },
          "execution_count": 65
        }
      ]
    },
    {
      "cell_type": "markdown",
      "metadata": {
        "id": "Avv75qt4X6v8"
      },
      "source": [
        "`df_users['unacc_list']` is created, containing the exact months where a user has paid for a plan but did not make any phone calls, send any SMS, or use the plan's internet."
      ]
    },
    {
      "cell_type": "code",
      "metadata": {
        "id": "YiuW1VpQX6v9"
      },
      "source": [
        "for index, row in df_users.iterrows():\n",
        "    if row['unacc_list']:\n",
        "        if row['tariff'] == \"surf\":\n",
        "            plan = df_tariffs.loc[0, 'usd_monthly_pay']\n",
        "        else:\n",
        "            plan = df_tariffs.loc[1, 'usd_monthly_pay']\n",
        "            \n",
        "        for month in row['unacc_list']:\n",
        "            breakdown = breakdown.append({'user_id': row['user_id'],\n",
        "                                          'month': month,\n",
        "                                          'call_count': 0,\n",
        "                                          'call_minutes': 0,\n",
        "                                          'message_count': 0,\n",
        "                                          'mb_used': 0,\n",
        "                                          'plan': row['tariff'],\n",
        "                                          'profit': plan}, ignore_index=True)"
      ],
      "execution_count": null,
      "outputs": []
    },
    {
      "cell_type": "markdown",
      "metadata": {
        "id": "6Sd5mlwrX6wA"
      },
      "source": [
        "Data for unused, paid months are added into breakdown."
      ]
    },
    {
      "cell_type": "code",
      "metadata": {
        "id": "q9Asj79oX6wA",
        "outputId": "960f482d-09cf-4811-debe-f1b0cbd4f46c"
      },
      "source": [
        "breakdown.head()"
      ],
      "execution_count": null,
      "outputs": [
        {
          "output_type": "execute_result",
          "data": {
            "text/html": [
              "<div>\n",
              "<style scoped>\n",
              "    .dataframe tbody tr th:only-of-type {\n",
              "        vertical-align: middle;\n",
              "    }\n",
              "\n",
              "    .dataframe tbody tr th {\n",
              "        vertical-align: top;\n",
              "    }\n",
              "\n",
              "    .dataframe thead th {\n",
              "        text-align: right;\n",
              "    }\n",
              "</style>\n",
              "<table border=\"1\" class=\"dataframe\">\n",
              "  <thead>\n",
              "    <tr style=\"text-align: right;\">\n",
              "      <th></th>\n",
              "      <th>user_id</th>\n",
              "      <th>month</th>\n",
              "      <th>call_count</th>\n",
              "      <th>call_minutes</th>\n",
              "      <th>message_count</th>\n",
              "      <th>mb_used</th>\n",
              "      <th>plan</th>\n",
              "      <th>profit</th>\n",
              "    </tr>\n",
              "  </thead>\n",
              "  <tbody>\n",
              "    <tr>\n",
              "      <td>0</td>\n",
              "      <td>1000</td>\n",
              "      <td>12</td>\n",
              "      <td>16.0</td>\n",
              "      <td>116.83</td>\n",
              "      <td>11.0</td>\n",
              "      <td>2172.46</td>\n",
              "      <td>ultimate</td>\n",
              "      <td>70.00</td>\n",
              "    </tr>\n",
              "    <tr>\n",
              "      <td>1</td>\n",
              "      <td>1001</td>\n",
              "      <td>8</td>\n",
              "      <td>27.0</td>\n",
              "      <td>199.89</td>\n",
              "      <td>30.0</td>\n",
              "      <td>8099.79</td>\n",
              "      <td>surf</td>\n",
              "      <td>20.00</td>\n",
              "    </tr>\n",
              "    <tr>\n",
              "      <td>2</td>\n",
              "      <td>1001</td>\n",
              "      <td>9</td>\n",
              "      <td>49.0</td>\n",
              "      <td>360.94</td>\n",
              "      <td>44.0</td>\n",
              "      <td>17151.90</td>\n",
              "      <td>surf</td>\n",
              "      <td>37.50</td>\n",
              "    </tr>\n",
              "    <tr>\n",
              "      <td>3</td>\n",
              "      <td>1001</td>\n",
              "      <td>10</td>\n",
              "      <td>65.0</td>\n",
              "      <td>477.61</td>\n",
              "      <td>53.0</td>\n",
              "      <td>24691.77</td>\n",
              "      <td>surf</td>\n",
              "      <td>111.22</td>\n",
              "    </tr>\n",
              "    <tr>\n",
              "      <td>4</td>\n",
              "      <td>1001</td>\n",
              "      <td>11</td>\n",
              "      <td>64.0</td>\n",
              "      <td>490.84</td>\n",
              "      <td>36.0</td>\n",
              "      <td>19389.78</td>\n",
              "      <td>surf</td>\n",
              "      <td>59.35</td>\n",
              "    </tr>\n",
              "  </tbody>\n",
              "</table>\n",
              "</div>"
            ],
            "text/plain": [
              "   user_id  month  call_count  call_minutes  message_count   mb_used  \\\n",
              "0     1000     12        16.0        116.83           11.0   2172.46   \n",
              "1     1001      8        27.0        199.89           30.0   8099.79   \n",
              "2     1001      9        49.0        360.94           44.0  17151.90   \n",
              "3     1001     10        65.0        477.61           53.0  24691.77   \n",
              "4     1001     11        64.0        490.84           36.0  19389.78   \n",
              "\n",
              "       plan  profit  \n",
              "0  ultimate   70.00  \n",
              "1      surf   20.00  \n",
              "2      surf   37.50  \n",
              "3      surf  111.22  \n",
              "4      surf   59.35  "
            ]
          },
          "metadata": {
            "tags": []
          },
          "execution_count": 67
        }
      ]
    },
    {
      "cell_type": "code",
      "metadata": {
        "id": "FCOkq0dYX6wE",
        "outputId": "70ded570-84c6-4980-e605-0b3708697a8d"
      },
      "source": [
        "breakdown.tail()"
      ],
      "execution_count": null,
      "outputs": [
        {
          "output_type": "execute_result",
          "data": {
            "text/html": [
              "<div>\n",
              "<style scoped>\n",
              "    .dataframe tbody tr th:only-of-type {\n",
              "        vertical-align: middle;\n",
              "    }\n",
              "\n",
              "    .dataframe tbody tr th {\n",
              "        vertical-align: top;\n",
              "    }\n",
              "\n",
              "    .dataframe thead th {\n",
              "        text-align: right;\n",
              "    }\n",
              "</style>\n",
              "<table border=\"1\" class=\"dataframe\">\n",
              "  <thead>\n",
              "    <tr style=\"text-align: right;\">\n",
              "      <th></th>\n",
              "      <th>user_id</th>\n",
              "      <th>month</th>\n",
              "      <th>call_count</th>\n",
              "      <th>call_minutes</th>\n",
              "      <th>message_count</th>\n",
              "      <th>mb_used</th>\n",
              "      <th>plan</th>\n",
              "      <th>profit</th>\n",
              "    </tr>\n",
              "  </thead>\n",
              "  <tbody>\n",
              "    <tr>\n",
              "      <td>3316</td>\n",
              "      <td>1496</td>\n",
              "      <td>7</td>\n",
              "      <td>0.0</td>\n",
              "      <td>0.0</td>\n",
              "      <td>0.0</td>\n",
              "      <td>0.0</td>\n",
              "      <td>surf</td>\n",
              "      <td>20.0</td>\n",
              "    </tr>\n",
              "    <tr>\n",
              "      <td>3317</td>\n",
              "      <td>1499</td>\n",
              "      <td>5</td>\n",
              "      <td>0.0</td>\n",
              "      <td>0.0</td>\n",
              "      <td>0.0</td>\n",
              "      <td>0.0</td>\n",
              "      <td>surf</td>\n",
              "      <td>20.0</td>\n",
              "    </tr>\n",
              "    <tr>\n",
              "      <td>3318</td>\n",
              "      <td>1499</td>\n",
              "      <td>6</td>\n",
              "      <td>0.0</td>\n",
              "      <td>0.0</td>\n",
              "      <td>0.0</td>\n",
              "      <td>0.0</td>\n",
              "      <td>surf</td>\n",
              "      <td>20.0</td>\n",
              "    </tr>\n",
              "    <tr>\n",
              "      <td>3319</td>\n",
              "      <td>1499</td>\n",
              "      <td>7</td>\n",
              "      <td>0.0</td>\n",
              "      <td>0.0</td>\n",
              "      <td>0.0</td>\n",
              "      <td>0.0</td>\n",
              "      <td>surf</td>\n",
              "      <td>20.0</td>\n",
              "    </tr>\n",
              "    <tr>\n",
              "      <td>3320</td>\n",
              "      <td>1499</td>\n",
              "      <td>8</td>\n",
              "      <td>0.0</td>\n",
              "      <td>0.0</td>\n",
              "      <td>0.0</td>\n",
              "      <td>0.0</td>\n",
              "      <td>surf</td>\n",
              "      <td>20.0</td>\n",
              "    </tr>\n",
              "  </tbody>\n",
              "</table>\n",
              "</div>"
            ],
            "text/plain": [
              "      user_id  month  call_count  call_minutes  message_count  mb_used  plan  \\\n",
              "3316     1496      7         0.0           0.0            0.0      0.0  surf   \n",
              "3317     1499      5         0.0           0.0            0.0      0.0  surf   \n",
              "3318     1499      6         0.0           0.0            0.0      0.0  surf   \n",
              "3319     1499      7         0.0           0.0            0.0      0.0  surf   \n",
              "3320     1499      8         0.0           0.0            0.0      0.0  surf   \n",
              "\n",
              "      profit  \n",
              "3316    20.0  \n",
              "3317    20.0  \n",
              "3318    20.0  \n",
              "3319    20.0  \n",
              "3320    20.0  "
            ]
          },
          "metadata": {
            "tags": []
          },
          "execution_count": 68
        }
      ]
    },
    {
      "cell_type": "markdown",
      "metadata": {
        "id": "U2dF3CbhX6wG"
      },
      "source": [
        "### Conclusion"
      ]
    },
    {
      "cell_type": "markdown",
      "metadata": {
        "id": "E1NMu4nuX6wH"
      },
      "source": [
        "5 columns - `df_calls['call_date']`, `df_internet['session_date']`, `df_messages['message_date']`, `df_users['reg_date']`, and `df_users['churn_date']` were converted from an object column datatype to a datetime column datatype.\n",
        "\n",
        "19.48% of `df_calls['duration']` and 13.11% of `df_internet['mb_used']` contained values with the number 0 which were replaced with the median value based on each individual user, since users may have different lifestyles and preferences that can influence the way they use their phones.\n",
        "\n",
        "Null values in `df_users['end_date']` indicate that the plan was active at the moment of data extraction, and are filled in with the latest recorded date fron the dataset records.\n",
        "\n",
        "`df_users['months_active']` was created to determine the amount of months the user has been active on the plan. The values were rounded up because customers typically pay for plans by whole month.\n",
        "\n",
        "Pivot tables were created to determine:\n",
        "1. The number of calls made, for each user\n",
        "2. The number of minutes spent per month, for each user\n",
        "3. The number of SMS sent per month, for each user\n",
        "4. The volume of web traffic per month, for each user\n",
        "\n",
        "The resulting tables - `calls_count`, `calls_minutes`, `messages`, `internet` were then consolidated into a new dataframe called `breakdown`. Null values in `call_count`, `call_minutes`, `message_count`, and `mb_used` indicate that the users involved have no such usage records for a specific month. These null values were replaced with 0's to make the data clearer.\n",
        "\n",
        "`breakdown['plan']` was created based on a dictionary of all users and their phone plans obtained from `df_users`. Values from `breakdown` and `df_tariffs` were used to calculate the monthly profit for each user, which are saved into `breakdown['profit']` rounded to the nearest cent.\n",
        "\n",
        "Next, records where the user has paid for a plan but did not use it for the according month were determined and added into `breakdown`. Two columns were added to `df_users` in order to make the process smoother:\n",
        "\n",
        "`df_users['unaccounted_months']` contains the amount of months a user has paid for a plan but did not make any phone calls, send any SMS, or use the plan's internet.\n",
        "\n",
        "`df_users['unacc_list']` contains the exact months where a user has paid for a plan but did not make any phone calls, send any SMS, or use the plan's internet."
      ]
    },
    {
      "cell_type": "markdown",
      "metadata": {
        "id": "z-ePR5goX6wI"
      },
      "source": [
        "### Step 3. Analyzing the data"
      ]
    },
    {
      "cell_type": "markdown",
      "metadata": {
        "id": "gBtX3KgkX6wI"
      },
      "source": [
        "#### Analyzing the number of minutes required per month for users of each plan: Surf"
      ]
    },
    {
      "cell_type": "code",
      "metadata": {
        "id": "6Gmpyxf1X6wJ"
      },
      "source": [
        "surf_minutes = breakdown.loc[breakdown['plan'] == 'surf'].pivot_table(index='month', values='call_minutes', aggfunc='mean').rename(columns={'call_minutes':'surf_minutes_mean'})"
      ],
      "execution_count": null,
      "outputs": []
    },
    {
      "cell_type": "code",
      "metadata": {
        "id": "s6gjkxr1X6wM",
        "outputId": "9cf44e43-d8b0-4d34-b6e3-f99ebffee831"
      },
      "source": [
        "np.mean(surf_minutes)"
      ],
      "execution_count": null,
      "outputs": [
        {
          "output_type": "execute_result",
          "data": {
            "text/plain": [
              "surf_minutes_mean    256.998312\n",
              "dtype: float64"
            ]
          },
          "metadata": {
            "tags": []
          },
          "execution_count": 70
        }
      ]
    },
    {
      "cell_type": "code",
      "metadata": {
        "id": "o_m7parXX6wO",
        "outputId": "ce7daee2-1b73-4688-92f5-6dfec4c81832"
      },
      "source": [
        "np.var(surf_minutes)"
      ],
      "execution_count": null,
      "outputs": [
        {
          "output_type": "execute_result",
          "data": {
            "text/plain": [
              "surf_minutes_mean    21330.67613\n",
              "dtype: float64"
            ]
          },
          "metadata": {
            "tags": []
          },
          "execution_count": 71
        }
      ]
    },
    {
      "cell_type": "code",
      "metadata": {
        "id": "VviKldS2X6wQ",
        "outputId": "013be857-e2e9-4330-ac95-676e627110a6"
      },
      "source": [
        "np.std(surf_minutes)"
      ],
      "execution_count": null,
      "outputs": [
        {
          "output_type": "execute_result",
          "data": {
            "text/plain": [
              "surf_minutes_mean    146.050252\n",
              "dtype: float64"
            ]
          },
          "metadata": {
            "tags": []
          },
          "execution_count": 72
        }
      ]
    },
    {
      "cell_type": "code",
      "metadata": {
        "id": "m5ia_fMdX6wS"
      },
      "source": [
        "surf_minutes['variance'] = breakdown.loc[breakdown['plan'] == 'surf'].groupby('month')['call_minutes'].var()"
      ],
      "execution_count": null,
      "outputs": []
    },
    {
      "cell_type": "code",
      "metadata": {
        "id": "sYphW5t1X6wU"
      },
      "source": [
        "surf_minutes['std'] = breakdown.loc[breakdown['plan'] == 'surf'].groupby('month')['call_minutes'].std()"
      ],
      "execution_count": null,
      "outputs": []
    },
    {
      "cell_type": "code",
      "metadata": {
        "id": "VwicFclnX6wY",
        "outputId": "5303e4cd-5afc-4781-a3aa-a7f44724b5cc"
      },
      "source": [
        "surf_minutes"
      ],
      "execution_count": null,
      "outputs": [
        {
          "output_type": "execute_result",
          "data": {
            "text/html": [
              "<div>\n",
              "<style scoped>\n",
              "    .dataframe tbody tr th:only-of-type {\n",
              "        vertical-align: middle;\n",
              "    }\n",
              "\n",
              "    .dataframe tbody tr th {\n",
              "        vertical-align: top;\n",
              "    }\n",
              "\n",
              "    .dataframe thead th {\n",
              "        text-align: right;\n",
              "    }\n",
              "</style>\n",
              "<table border=\"1\" class=\"dataframe\">\n",
              "  <thead>\n",
              "    <tr style=\"text-align: right;\">\n",
              "      <th></th>\n",
              "      <th>surf_minutes_mean</th>\n",
              "      <th>variance</th>\n",
              "      <th>std</th>\n",
              "    </tr>\n",
              "    <tr>\n",
              "      <th>month</th>\n",
              "      <th></th>\n",
              "      <th></th>\n",
              "      <th></th>\n",
              "    </tr>\n",
              "  </thead>\n",
              "  <tbody>\n",
              "    <tr>\n",
              "      <td>1</td>\n",
              "      <td>15.747586</td>\n",
              "      <td>4119.511019</td>\n",
              "      <td>64.183417</td>\n",
              "    </tr>\n",
              "    <tr>\n",
              "      <td>2</td>\n",
              "      <td>49.687119</td>\n",
              "      <td>21727.083677</td>\n",
              "      <td>147.401098</td>\n",
              "    </tr>\n",
              "    <tr>\n",
              "      <td>3</td>\n",
              "      <td>93.652022</td>\n",
              "      <td>35403.128788</td>\n",
              "      <td>188.157192</td>\n",
              "    </tr>\n",
              "    <tr>\n",
              "      <td>4</td>\n",
              "      <td>158.949713</td>\n",
              "      <td>60409.202122</td>\n",
              "      <td>245.782835</td>\n",
              "    </tr>\n",
              "    <tr>\n",
              "      <td>5</td>\n",
              "      <td>230.546993</td>\n",
              "      <td>87067.605828</td>\n",
              "      <td>295.072204</td>\n",
              "    </tr>\n",
              "    <tr>\n",
              "      <td>6</td>\n",
              "      <td>255.944778</td>\n",
              "      <td>85139.391363</td>\n",
              "      <td>291.786551</td>\n",
              "    </tr>\n",
              "    <tr>\n",
              "      <td>7</td>\n",
              "      <td>296.443990</td>\n",
              "      <td>104086.083491</td>\n",
              "      <td>322.623749</td>\n",
              "    </tr>\n",
              "    <tr>\n",
              "      <td>8</td>\n",
              "      <td>315.255171</td>\n",
              "      <td>91115.799918</td>\n",
              "      <td>301.853938</td>\n",
              "    </tr>\n",
              "    <tr>\n",
              "      <td>9</td>\n",
              "      <td>353.151190</td>\n",
              "      <td>81028.572757</td>\n",
              "      <td>284.655182</td>\n",
              "    </tr>\n",
              "    <tr>\n",
              "      <td>10</td>\n",
              "      <td>394.678077</td>\n",
              "      <td>85270.938825</td>\n",
              "      <td>292.011881</td>\n",
              "    </tr>\n",
              "    <tr>\n",
              "      <td>11</td>\n",
              "      <td>426.399065</td>\n",
              "      <td>73920.692841</td>\n",
              "      <td>271.883602</td>\n",
              "    </tr>\n",
              "    <tr>\n",
              "      <td>12</td>\n",
              "      <td>493.524036</td>\n",
              "      <td>87196.465951</td>\n",
              "      <td>295.290477</td>\n",
              "    </tr>\n",
              "  </tbody>\n",
              "</table>\n",
              "</div>"
            ],
            "text/plain": [
              "       surf_minutes_mean       variance         std\n",
              "month                                              \n",
              "1              15.747586    4119.511019   64.183417\n",
              "2              49.687119   21727.083677  147.401098\n",
              "3              93.652022   35403.128788  188.157192\n",
              "4             158.949713   60409.202122  245.782835\n",
              "5             230.546993   87067.605828  295.072204\n",
              "6             255.944778   85139.391363  291.786551\n",
              "7             296.443990  104086.083491  322.623749\n",
              "8             315.255171   91115.799918  301.853938\n",
              "9             353.151190   81028.572757  284.655182\n",
              "10            394.678077   85270.938825  292.011881\n",
              "11            426.399065   73920.692841  271.883602\n",
              "12            493.524036   87196.465951  295.290477"
            ]
          },
          "metadata": {
            "tags": []
          },
          "execution_count": 75
        }
      ]
    },
    {
      "cell_type": "code",
      "metadata": {
        "id": "DKFvZrbvX6wb",
        "outputId": "58290e41-4f23-4480-fcf7-ef901779ec03"
      },
      "source": [
        "surf_minutes['surf_minutes_mean'].hist()"
      ],
      "execution_count": null,
      "outputs": [
        {
          "output_type": "execute_result",
          "data": {
            "text/plain": [
              "<matplotlib.axes._subplots.AxesSubplot at 0x7fca5b1ebcd0>"
            ]
          },
          "metadata": {
            "tags": []
          },
          "execution_count": 76
        },
        {
          "output_type": "display_data",
          "data": {
            "image/png": "[encoded data removed]",
            "text/plain": [
              "<Figure size 432x288 with 1 Axes>"
            ]
          },
          "metadata": {
            "tags": [],
            "needs_background": "light"
          }
        }
      ]
    },
    {
      "cell_type": "code",
      "metadata": {
        "id": "DYfxMmn1X6we",
        "outputId": "e4854256-182d-47d0-bf66-55d7512df16c"
      },
      "source": [
        "surf_minutes['surf_minutes_mean'].skew()"
      ],
      "execution_count": null,
      "outputs": [
        {
          "output_type": "execute_result",
          "data": {
            "text/plain": [
              "-0.19727743416554788"
            ]
          },
          "metadata": {
            "tags": []
          },
          "execution_count": 77
        }
      ]
    },
    {
      "cell_type": "markdown",
      "metadata": {
        "id": "kohFMehFX6wg"
      },
      "source": [
        "The mean, variance, and standard deviation for users on the \"surf\" plan were calculated by month and also by overall year based on monthly data. The distribution is not strongly skewed."
      ]
    },
    {
      "cell_type": "markdown",
      "metadata": {
        "id": "xUinYuUGX6wh"
      },
      "source": [
        "#### Analyzing the number of minutes required per month for users of each plan: Ultimate"
      ]
    },
    {
      "cell_type": "code",
      "metadata": {
        "id": "CWDMhhk_X6wi"
      },
      "source": [
        "ultimate_minutes = breakdown.loc[breakdown['plan'] == 'ultimate'].pivot_table(index='month', values='call_minutes', aggfunc='mean').rename(columns={'call_minutes':'ultimate_minutes_mean'})"
      ],
      "execution_count": null,
      "outputs": []
    },
    {
      "cell_type": "code",
      "metadata": {
        "id": "ndrPXaI1X6wk",
        "outputId": "7183ca5a-c9c6-44ca-9d2b-b0a4d2f1d4b2"
      },
      "source": [
        "np.mean(ultimate_minutes)"
      ],
      "execution_count": null,
      "outputs": [
        {
          "output_type": "execute_result",
          "data": {
            "text/plain": [
              "ultimate_minutes_mean    252.644449\n",
              "dtype: float64"
            ]
          },
          "metadata": {
            "tags": []
          },
          "execution_count": 79
        }
      ]
    },
    {
      "cell_type": "code",
      "metadata": {
        "id": "pM-PjGAjX6wm",
        "outputId": "7d15f00e-027c-4296-d97c-d00d571e3227"
      },
      "source": [
        "np.var(ultimate_minutes)"
      ],
      "execution_count": null,
      "outputs": [
        {
          "output_type": "execute_result",
          "data": {
            "text/plain": [
              "ultimate_minutes_mean    17151.551791\n",
              "dtype: float64"
            ]
          },
          "metadata": {
            "tags": []
          },
          "execution_count": 80
        }
      ]
    },
    {
      "cell_type": "code",
      "metadata": {
        "id": "Cmes_tBBX6wp",
        "outputId": "50429230-46b6-4ee9-879f-c25eb79381d8"
      },
      "source": [
        "np.std(ultimate_minutes)"
      ],
      "execution_count": null,
      "outputs": [
        {
          "output_type": "execute_result",
          "data": {
            "text/plain": [
              "ultimate_minutes_mean    130.963933\n",
              "dtype: float64"
            ]
          },
          "metadata": {
            "tags": []
          },
          "execution_count": 81
        }
      ]
    },
    {
      "cell_type": "code",
      "metadata": {
        "id": "d-CXHHaJX6wq"
      },
      "source": [
        "ultimate_minutes['variance'] = breakdown.loc[breakdown['plan'] == 'ultimate'].groupby('month')['call_minutes'].var()"
      ],
      "execution_count": null,
      "outputs": []
    },
    {
      "cell_type": "code",
      "metadata": {
        "id": "2iqg3IsqX6ws"
      },
      "source": [
        "ultimate_minutes['std'] = breakdown.loc[breakdown['plan'] == 'ultimate'].groupby('month')['call_minutes'].std()"
      ],
      "execution_count": null,
      "outputs": []
    },
    {
      "cell_type": "code",
      "metadata": {
        "id": "56gigaqsX6w0",
        "outputId": "fe39432c-5e1a-4980-a4f1-b15c03ea2fbf"
      },
      "source": [
        "ultimate_minutes"
      ],
      "execution_count": null,
      "outputs": [
        {
          "output_type": "execute_result",
          "data": {
            "text/html": [
              "<div>\n",
              "<style scoped>\n",
              "    .dataframe tbody tr th:only-of-type {\n",
              "        vertical-align: middle;\n",
              "    }\n",
              "\n",
              "    .dataframe tbody tr th {\n",
              "        vertical-align: top;\n",
              "    }\n",
              "\n",
              "    .dataframe thead th {\n",
              "        text-align: right;\n",
              "    }\n",
              "</style>\n",
              "<table border=\"1\" class=\"dataframe\">\n",
              "  <thead>\n",
              "    <tr style=\"text-align: right;\">\n",
              "      <th></th>\n",
              "      <th>ultimate_minutes_mean</th>\n",
              "      <th>variance</th>\n",
              "      <th>std</th>\n",
              "    </tr>\n",
              "    <tr>\n",
              "      <th>month</th>\n",
              "      <th></th>\n",
              "      <th></th>\n",
              "      <th></th>\n",
              "    </tr>\n",
              "  </thead>\n",
              "  <tbody>\n",
              "    <tr>\n",
              "      <td>1</td>\n",
              "      <td>49.434444</td>\n",
              "      <td>12544.934911</td>\n",
              "      <td>112.004174</td>\n",
              "    </tr>\n",
              "    <tr>\n",
              "      <td>2</td>\n",
              "      <td>103.654333</td>\n",
              "      <td>56145.574212</td>\n",
              "      <td>236.950573</td>\n",
              "    </tr>\n",
              "    <tr>\n",
              "      <td>3</td>\n",
              "      <td>102.407500</td>\n",
              "      <td>45539.754674</td>\n",
              "      <td>213.400456</td>\n",
              "    </tr>\n",
              "    <tr>\n",
              "      <td>4</td>\n",
              "      <td>150.997647</td>\n",
              "      <td>50139.550063</td>\n",
              "      <td>223.918624</td>\n",
              "    </tr>\n",
              "    <tr>\n",
              "      <td>5</td>\n",
              "      <td>204.880938</td>\n",
              "      <td>75112.261214</td>\n",
              "      <td>274.066162</td>\n",
              "    </tr>\n",
              "    <tr>\n",
              "      <td>6</td>\n",
              "      <td>223.499419</td>\n",
              "      <td>70395.322389</td>\n",
              "      <td>265.321168</td>\n",
              "    </tr>\n",
              "    <tr>\n",
              "      <td>7</td>\n",
              "      <td>289.005417</td>\n",
              "      <td>106483.553239</td>\n",
              "      <td>326.318178</td>\n",
              "    </tr>\n",
              "    <tr>\n",
              "      <td>8</td>\n",
              "      <td>291.589430</td>\n",
              "      <td>92824.242211</td>\n",
              "      <td>304.670711</td>\n",
              "    </tr>\n",
              "    <tr>\n",
              "      <td>9</td>\n",
              "      <td>328.299528</td>\n",
              "      <td>98959.683755</td>\n",
              "      <td>314.578581</td>\n",
              "    </tr>\n",
              "    <tr>\n",
              "      <td>10</td>\n",
              "      <td>392.815630</td>\n",
              "      <td>94892.669124</td>\n",
              "      <td>308.046537</td>\n",
              "    </tr>\n",
              "    <tr>\n",
              "      <td>11</td>\n",
              "      <td>415.276788</td>\n",
              "      <td>95103.238439</td>\n",
              "      <td>308.388130</td>\n",
              "    </tr>\n",
              "    <tr>\n",
              "      <td>12</td>\n",
              "      <td>479.872312</td>\n",
              "      <td>85079.702831</td>\n",
              "      <td>291.684252</td>\n",
              "    </tr>\n",
              "  </tbody>\n",
              "</table>\n",
              "</div>"
            ],
            "text/plain": [
              "       ultimate_minutes_mean       variance         std\n",
              "month                                                  \n",
              "1                  49.434444   12544.934911  112.004174\n",
              "2                 103.654333   56145.574212  236.950573\n",
              "3                 102.407500   45539.754674  213.400456\n",
              "4                 150.997647   50139.550063  223.918624\n",
              "5                 204.880938   75112.261214  274.066162\n",
              "6                 223.499419   70395.322389  265.321168\n",
              "7                 289.005417  106483.553239  326.318178\n",
              "8                 291.589430   92824.242211  304.670711\n",
              "9                 328.299528   98959.683755  314.578581\n",
              "10                392.815630   94892.669124  308.046537\n",
              "11                415.276788   95103.238439  308.388130\n",
              "12                479.872312   85079.702831  291.684252"
            ]
          },
          "metadata": {
            "tags": []
          },
          "execution_count": 84
        }
      ]
    },
    {
      "cell_type": "code",
      "metadata": {
        "id": "VSPgfBCIX6w2",
        "outputId": "b91b57d1-aab4-4986-c1d5-42dcd811b96a"
      },
      "source": [
        "ultimate_minutes['ultimate_minutes_mean'].hist()"
      ],
      "execution_count": null,
      "outputs": [
        {
          "output_type": "execute_result",
          "data": {
            "text/plain": [
              "<matplotlib.axes._subplots.AxesSubplot at 0x7fca5a7023d0>"
            ]
          },
          "metadata": {
            "tags": []
          },
          "execution_count": 85
        },
        {
          "output_type": "display_data",
          "data": {
            "image/png": "[encoded data removed]",
            "text/plain": [
              "<Figure size 432x288 with 1 Axes>"
            ]
          },
          "metadata": {
            "tags": [],
            "needs_background": "light"
          }
        }
      ]
    },
    {
      "cell_type": "code",
      "metadata": {
        "id": "EDIpU4rzX6w4",
        "outputId": "fa37b681-5688-49db-bf31-c3f2b2088552"
      },
      "source": [
        "ultimate_minutes['ultimate_minutes_mean'].skew()"
      ],
      "execution_count": null,
      "outputs": [
        {
          "output_type": "execute_result",
          "data": {
            "text/plain": [
              "0.13019079617826648"
            ]
          },
          "metadata": {
            "tags": []
          },
          "execution_count": 86
        }
      ]
    },
    {
      "cell_type": "markdown",
      "metadata": {
        "id": "rx7q6Cc2X6w6"
      },
      "source": [
        "The mean, variance, and standard deviation for users on the \"ultimate\" plan were calculated by month and also by overall year based on monthly data. Like the minutes data for the \"surf\" plan, the minutes data for the \"ultimate\" plan is not strongly skewed."
      ]
    },
    {
      "cell_type": "markdown",
      "metadata": {
        "id": "zIMyE51hX6w6"
      },
      "source": [
        "#### Analyzing the number of SMS required per month for users of each plan: Surf"
      ]
    },
    {
      "cell_type": "code",
      "metadata": {
        "id": "jsgqiTTFX6w7"
      },
      "source": [
        "surf_sms = breakdown.loc[breakdown['plan'] == 'surf'].pivot_table(index='month', values='message_count', aggfunc='mean').rename(columns={'message_count':'message_count_mean'})"
      ],
      "execution_count": null,
      "outputs": []
    },
    {
      "cell_type": "code",
      "metadata": {
        "id": "_mPzlYGGX6xI",
        "outputId": "3d47bf0f-ee3d-493c-b302-46ac97d96362"
      },
      "source": [
        "np.mean(surf_sms)"
      ],
      "execution_count": null,
      "outputs": [
        {
          "output_type": "execute_result",
          "data": {
            "text/plain": [
              "message_count_mean    16.125493\n",
              "dtype: float64"
            ]
          },
          "metadata": {
            "tags": []
          },
          "execution_count": 88
        }
      ]
    },
    {
      "cell_type": "code",
      "metadata": {
        "id": "PkrARjJFX6xK",
        "outputId": "f9df2b6c-0bbb-4f3b-8d0c-5df68a53d9ff"
      },
      "source": [
        "np.var(surf_sms)"
      ],
      "execution_count": null,
      "outputs": [
        {
          "output_type": "execute_result",
          "data": {
            "text/plain": [
              "message_count_mean    124.702244\n",
              "dtype: float64"
            ]
          },
          "metadata": {
            "tags": []
          },
          "execution_count": 89
        }
      ]
    },
    {
      "cell_type": "code",
      "metadata": {
        "id": "hn3IMPZIX6xM",
        "outputId": "aa0615f7-f553-46f9-e4b6-cb255d85acd3"
      },
      "source": [
        "np.std(surf_sms)"
      ],
      "execution_count": null,
      "outputs": [
        {
          "output_type": "execute_result",
          "data": {
            "text/plain": [
              "message_count_mean    11.167016\n",
              "dtype: float64"
            ]
          },
          "metadata": {
            "tags": []
          },
          "execution_count": 90
        }
      ]
    },
    {
      "cell_type": "code",
      "metadata": {
        "id": "05W9-FdAX6xO"
      },
      "source": [
        "surf_sms['variance'] = breakdown.loc[breakdown['plan'] == 'surf'].groupby('month')['message_count'].var()"
      ],
      "execution_count": null,
      "outputs": []
    },
    {
      "cell_type": "code",
      "metadata": {
        "id": "myMgBumqX6xQ"
      },
      "source": [
        "surf_sms['std'] = breakdown.loc[breakdown['plan'] == 'surf'].groupby('month')['message_count'].std()"
      ],
      "execution_count": null,
      "outputs": []
    },
    {
      "cell_type": "code",
      "metadata": {
        "id": "BSiPRGGCX6xS",
        "outputId": "47393a70-5c38-468a-989e-7e4fa035f927"
      },
      "source": [
        "surf_sms"
      ],
      "execution_count": null,
      "outputs": [
        {
          "output_type": "execute_result",
          "data": {
            "text/html": [
              "<div>\n",
              "<style scoped>\n",
              "    .dataframe tbody tr th:only-of-type {\n",
              "        vertical-align: middle;\n",
              "    }\n",
              "\n",
              "    .dataframe tbody tr th {\n",
              "        vertical-align: top;\n",
              "    }\n",
              "\n",
              "    .dataframe thead th {\n",
              "        text-align: right;\n",
              "    }\n",
              "</style>\n",
              "<table border=\"1\" class=\"dataframe\">\n",
              "  <thead>\n",
              "    <tr style=\"text-align: right;\">\n",
              "      <th></th>\n",
              "      <th>message_count_mean</th>\n",
              "      <th>variance</th>\n",
              "      <th>std</th>\n",
              "    </tr>\n",
              "    <tr>\n",
              "      <th>month</th>\n",
              "      <th></th>\n",
              "      <th></th>\n",
              "      <th></th>\n",
              "    </tr>\n",
              "  </thead>\n",
              "  <tbody>\n",
              "    <tr>\n",
              "      <td>1</td>\n",
              "      <td>0.724138</td>\n",
              "      <td>15.206897</td>\n",
              "      <td>3.899602</td>\n",
              "    </tr>\n",
              "    <tr>\n",
              "      <td>2</td>\n",
              "      <td>1.830508</td>\n",
              "      <td>72.177674</td>\n",
              "      <td>8.495744</td>\n",
              "    </tr>\n",
              "    <tr>\n",
              "      <td>3</td>\n",
              "      <td>3.943820</td>\n",
              "      <td>131.780899</td>\n",
              "      <td>11.479586</td>\n",
              "    </tr>\n",
              "    <tr>\n",
              "      <td>4</td>\n",
              "      <td>7.131148</td>\n",
              "      <td>276.957865</td>\n",
              "      <td>16.642051</td>\n",
              "    </tr>\n",
              "    <tr>\n",
              "      <td>5</td>\n",
              "      <td>12.493243</td>\n",
              "      <td>582.904716</td>\n",
              "      <td>24.143420</td>\n",
              "    </tr>\n",
              "    <tr>\n",
              "      <td>6</td>\n",
              "      <td>13.633333</td>\n",
              "      <td>650.613408</td>\n",
              "      <td>25.507125</td>\n",
              "    </tr>\n",
              "    <tr>\n",
              "      <td>7</td>\n",
              "      <td>16.113300</td>\n",
              "      <td>725.685119</td>\n",
              "      <td>26.938543</td>\n",
              "    </tr>\n",
              "    <tr>\n",
              "      <td>8</td>\n",
              "      <td>19.923077</td>\n",
              "      <td>888.551997</td>\n",
              "      <td>29.808589</td>\n",
              "    </tr>\n",
              "    <tr>\n",
              "      <td>9</td>\n",
              "      <td>23.682540</td>\n",
              "      <td>940.217543</td>\n",
              "      <td>30.662967</td>\n",
              "    </tr>\n",
              "    <tr>\n",
              "      <td>10</td>\n",
              "      <td>28.041958</td>\n",
              "      <td>1219.324549</td>\n",
              "      <td>34.918828</td>\n",
              "    </tr>\n",
              "    <tr>\n",
              "      <td>11</td>\n",
              "      <td>29.564516</td>\n",
              "      <td>1055.916536</td>\n",
              "      <td>32.494869</td>\n",
              "    </tr>\n",
              "    <tr>\n",
              "      <td>12</td>\n",
              "      <td>36.424332</td>\n",
              "      <td>1455.209287</td>\n",
              "      <td>38.147205</td>\n",
              "    </tr>\n",
              "  </tbody>\n",
              "</table>\n",
              "</div>"
            ],
            "text/plain": [
              "       message_count_mean     variance        std\n",
              "month                                            \n",
              "1                0.724138    15.206897   3.899602\n",
              "2                1.830508    72.177674   8.495744\n",
              "3                3.943820   131.780899  11.479586\n",
              "4                7.131148   276.957865  16.642051\n",
              "5               12.493243   582.904716  24.143420\n",
              "6               13.633333   650.613408  25.507125\n",
              "7               16.113300   725.685119  26.938543\n",
              "8               19.923077   888.551997  29.808589\n",
              "9               23.682540   940.217543  30.662967\n",
              "10              28.041958  1219.324549  34.918828\n",
              "11              29.564516  1055.916536  32.494869\n",
              "12              36.424332  1455.209287  38.147205"
            ]
          },
          "metadata": {
            "tags": []
          },
          "execution_count": 93
        }
      ]
    },
    {
      "cell_type": "code",
      "metadata": {
        "id": "7YSYoSErX6xV",
        "outputId": "b619a0b7-9bd9-4545-ab07-b1875dcc86a5"
      },
      "source": [
        "surf_sms['message_count_mean'].hist()"
      ],
      "execution_count": null,
      "outputs": [
        {
          "output_type": "execute_result",
          "data": {
            "text/plain": [
              "<matplotlib.axes._subplots.AxesSubplot at 0x7fca5a6832d0>"
            ]
          },
          "metadata": {
            "tags": []
          },
          "execution_count": 94
        },
        {
          "output_type": "display_data",
          "data": {
            "image/png": "[encoded data removed]",
            "text/plain": [
              "<Figure size 432x288 with 1 Axes>"
            ]
          },
          "metadata": {
            "tags": [],
            "needs_background": "light"
          }
        }
      ]
    },
    {
      "cell_type": "code",
      "metadata": {
        "id": "_AprtfiwX6xW",
        "outputId": "151744da-10bd-4336-fe85-70738f4292d3"
      },
      "source": [
        "surf_sms['message_count_mean'].skew()"
      ],
      "execution_count": null,
      "outputs": [
        {
          "output_type": "execute_result",
          "data": {
            "text/plain": [
              "0.26103077997970114"
            ]
          },
          "metadata": {
            "tags": []
          },
          "execution_count": 95
        }
      ]
    },
    {
      "cell_type": "markdown",
      "metadata": {
        "id": "A_EBcl_EX6xY"
      },
      "source": [
        "Users on the surf plan tend to use a low amount of text messages per month. The data has a very low positive skew."
      ]
    },
    {
      "cell_type": "markdown",
      "metadata": {
        "id": "3zP3tR1bX6xa"
      },
      "source": [
        "#### Finding the number of SMS required per month for users of each plan: Ultimate"
      ]
    },
    {
      "cell_type": "code",
      "metadata": {
        "id": "FaLdm9Q-X6xa"
      },
      "source": [
        "ultimate_sms = breakdown.loc[breakdown['plan'] == 'ultimate'].pivot_table(index='month', values='message_count', aggfunc='mean').rename(columns={'message_count':'message_count_mean'})"
      ],
      "execution_count": null,
      "outputs": []
    },
    {
      "cell_type": "code",
      "metadata": {
        "id": "4DrNTn-iX6xc",
        "outputId": "08c1b351-9ec1-4206-bcf3-0c48106fbfa1"
      },
      "source": [
        "np.mean(ultimate_sms)"
      ],
      "execution_count": null,
      "outputs": [
        {
          "output_type": "execute_result",
          "data": {
            "text/plain": [
              "message_count_mean    19.160996\n",
              "dtype: float64"
            ]
          },
          "metadata": {
            "tags": []
          },
          "execution_count": 97
        }
      ]
    },
    {
      "cell_type": "code",
      "metadata": {
        "id": "6_YnZWDRX6xe",
        "outputId": "35417a0e-1fba-4a4f-fe97-67e67893cab2"
      },
      "source": [
        "np.var(ultimate_sms)"
      ],
      "execution_count": null,
      "outputs": [
        {
          "output_type": "execute_result",
          "data": {
            "text/plain": [
              "message_count_mean    139.755787\n",
              "dtype: float64"
            ]
          },
          "metadata": {
            "tags": []
          },
          "execution_count": 98
        }
      ]
    },
    {
      "cell_type": "code",
      "metadata": {
        "id": "e2YQ4gz8X6xg",
        "outputId": "d6e75b71-2b42-44e5-c5af-0a01d5570f24"
      },
      "source": [
        "np.std(ultimate_sms)"
      ],
      "execution_count": null,
      "outputs": [
        {
          "output_type": "execute_result",
          "data": {
            "text/plain": [
              "message_count_mean    11.821835\n",
              "dtype: float64"
            ]
          },
          "metadata": {
            "tags": []
          },
          "execution_count": 99
        }
      ]
    },
    {
      "cell_type": "code",
      "metadata": {
        "id": "naI2bUfZX6xi"
      },
      "source": [
        "ultimate_sms['variance'] = breakdown.loc[breakdown['plan'] == 'ultimate'].groupby('month')['message_count'].var()"
      ],
      "execution_count": null,
      "outputs": []
    },
    {
      "cell_type": "code",
      "metadata": {
        "id": "JaiBWxdbX6xm"
      },
      "source": [
        "ultimate_sms['std'] = breakdown.loc[breakdown['plan'] == 'ultimate'].groupby('month')['message_count'].std()"
      ],
      "execution_count": null,
      "outputs": []
    },
    {
      "cell_type": "code",
      "metadata": {
        "id": "bMEvyn5VX6xq",
        "outputId": "e21e3cbf-b9a9-48bb-bde7-2faac8272a1c"
      },
      "source": [
        "ultimate_sms"
      ],
      "execution_count": null,
      "outputs": [
        {
          "output_type": "execute_result",
          "data": {
            "text/html": [
              "<div>\n",
              "<style scoped>\n",
              "    .dataframe tbody tr th:only-of-type {\n",
              "        vertical-align: middle;\n",
              "    }\n",
              "\n",
              "    .dataframe tbody tr th {\n",
              "        vertical-align: top;\n",
              "    }\n",
              "\n",
              "    .dataframe thead th {\n",
              "        text-align: right;\n",
              "    }\n",
              "</style>\n",
              "<table border=\"1\" class=\"dataframe\">\n",
              "  <thead>\n",
              "    <tr style=\"text-align: right;\">\n",
              "      <th></th>\n",
              "      <th>message_count_mean</th>\n",
              "      <th>variance</th>\n",
              "      <th>std</th>\n",
              "    </tr>\n",
              "    <tr>\n",
              "      <th>month</th>\n",
              "      <th></th>\n",
              "      <th></th>\n",
              "      <th></th>\n",
              "    </tr>\n",
              "  </thead>\n",
              "  <tbody>\n",
              "    <tr>\n",
              "      <td>1</td>\n",
              "      <td>3.444444</td>\n",
              "      <td>99.320261</td>\n",
              "      <td>9.965955</td>\n",
              "    </tr>\n",
              "    <tr>\n",
              "      <td>2</td>\n",
              "      <td>5.033333</td>\n",
              "      <td>185.067816</td>\n",
              "      <td>13.603963</td>\n",
              "    </tr>\n",
              "    <tr>\n",
              "      <td>3</td>\n",
              "      <td>6.075000</td>\n",
              "      <td>272.891667</td>\n",
              "      <td>16.519433</td>\n",
              "    </tr>\n",
              "    <tr>\n",
              "      <td>4</td>\n",
              "      <td>9.078431</td>\n",
              "      <td>337.753725</td>\n",
              "      <td>18.378077</td>\n",
              "    </tr>\n",
              "    <tr>\n",
              "      <td>5</td>\n",
              "      <td>14.546875</td>\n",
              "      <td>836.029514</td>\n",
              "      <td>28.914175</td>\n",
              "    </tr>\n",
              "    <tr>\n",
              "      <td>6</td>\n",
              "      <td>16.034884</td>\n",
              "      <td>679.987004</td>\n",
              "      <td>26.076560</td>\n",
              "    </tr>\n",
              "    <tr>\n",
              "      <td>7</td>\n",
              "      <td>20.177083</td>\n",
              "      <td>844.399890</td>\n",
              "      <td>29.058560</td>\n",
              "    </tr>\n",
              "    <tr>\n",
              "      <td>8</td>\n",
              "      <td>23.964912</td>\n",
              "      <td>1092.016457</td>\n",
              "      <td>33.045672</td>\n",
              "    </tr>\n",
              "    <tr>\n",
              "      <td>9</td>\n",
              "      <td>25.661417</td>\n",
              "      <td>1025.384452</td>\n",
              "      <td>32.021625</td>\n",
              "    </tr>\n",
              "    <tr>\n",
              "      <td>10</td>\n",
              "      <td>30.970370</td>\n",
              "      <td>1221.208071</td>\n",
              "      <td>34.945788</td>\n",
              "    </tr>\n",
              "    <tr>\n",
              "      <td>11</td>\n",
              "      <td>32.470199</td>\n",
              "      <td>1236.010773</td>\n",
              "      <td>35.156945</td>\n",
              "    </tr>\n",
              "    <tr>\n",
              "      <td>12</td>\n",
              "      <td>42.475000</td>\n",
              "      <td>1569.923899</td>\n",
              "      <td>39.622265</td>\n",
              "    </tr>\n",
              "  </tbody>\n",
              "</table>\n",
              "</div>"
            ],
            "text/plain": [
              "       message_count_mean     variance        std\n",
              "month                                            \n",
              "1                3.444444    99.320261   9.965955\n",
              "2                5.033333   185.067816  13.603963\n",
              "3                6.075000   272.891667  16.519433\n",
              "4                9.078431   337.753725  18.378077\n",
              "5               14.546875   836.029514  28.914175\n",
              "6               16.034884   679.987004  26.076560\n",
              "7               20.177083   844.399890  29.058560\n",
              "8               23.964912  1092.016457  33.045672\n",
              "9               25.661417  1025.384452  32.021625\n",
              "10              30.970370  1221.208071  34.945788\n",
              "11              32.470199  1236.010773  35.156945\n",
              "12              42.475000  1569.923899  39.622265"
            ]
          },
          "metadata": {
            "tags": []
          },
          "execution_count": 102
        }
      ]
    },
    {
      "cell_type": "code",
      "metadata": {
        "id": "XzKhHdLyX6xt",
        "outputId": "18d045fe-e7f1-4fca-e70e-eec0241c5404"
      },
      "source": [
        "ultimate_sms['message_count_mean'].hist()"
      ],
      "execution_count": null,
      "outputs": [
        {
          "output_type": "execute_result",
          "data": {
            "text/plain": [
              "<matplotlib.axes._subplots.AxesSubplot at 0x7fca5a59c990>"
            ]
          },
          "metadata": {
            "tags": []
          },
          "execution_count": 103
        },
        {
          "output_type": "display_data",
          "data": {
            "image/png": "[encoded data removed]",
            "text/plain": [
              "<Figure size 432x288 with 1 Axes>"
            ]
          },
          "metadata": {
            "tags": [],
            "needs_background": "light"
          }
        }
      ]
    },
    {
      "cell_type": "code",
      "metadata": {
        "id": "J4DagmyyX6xw",
        "outputId": "57f8ade1-b8bb-4cde-cb8f-e054412ae8da"
      },
      "source": [
        "ultimate_sms['message_count_mean'].skew()"
      ],
      "execution_count": null,
      "outputs": [
        {
          "output_type": "execute_result",
          "data": {
            "text/plain": [
              "0.40371676803156614"
            ]
          },
          "metadata": {
            "tags": []
          },
          "execution_count": 104
        }
      ]
    },
    {
      "cell_type": "markdown",
      "metadata": {
        "id": "bbUIevX5X6xx"
      },
      "source": [
        "Like users on the surf plan, the data has a very low positive skew."
      ]
    },
    {
      "cell_type": "markdown",
      "metadata": {
        "id": "uND4oBLHX6xy"
      },
      "source": [
        "#### Finding the volume of web traffic required per month for users of each plan: Surf"
      ]
    },
    {
      "cell_type": "code",
      "metadata": {
        "id": "tOItjXD-X6xy"
      },
      "source": [
        "surf_traffic = breakdown.loc[breakdown['plan'] == 'surf'].pivot_table(index='month', values='mb_used', aggfunc='mean').rename(columns={'mb_used':'mb_used_mean'})"
      ],
      "execution_count": null,
      "outputs": []
    },
    {
      "cell_type": "code",
      "metadata": {
        "id": "6Y3u6VclX6x0",
        "outputId": "f1231251-0574-4c94-91d0-f9ed8a171823"
      },
      "source": [
        "np.mean(surf_traffic)"
      ],
      "execution_count": null,
      "outputs": [
        {
          "output_type": "execute_result",
          "data": {
            "text/plain": [
              "mb_used_mean    9931.479085\n",
              "dtype: float64"
            ]
          },
          "metadata": {
            "tags": []
          },
          "execution_count": 106
        }
      ]
    },
    {
      "cell_type": "code",
      "metadata": {
        "id": "tK-gQBTQX6x3",
        "outputId": "32839dcc-fd7d-444c-9154-f789ee2d8802"
      },
      "source": [
        "np.var(surf_traffic)"
      ],
      "execution_count": null,
      "outputs": [
        {
          "output_type": "execute_result",
          "data": {
            "text/plain": [
              "mb_used_mean    3.388502e+07\n",
              "dtype: float64"
            ]
          },
          "metadata": {
            "tags": []
          },
          "execution_count": 107
        }
      ]
    },
    {
      "cell_type": "code",
      "metadata": {
        "id": "Yb84V0NgX6x4",
        "outputId": "50a06a1b-52a5-469b-87dd-7810fc78b866"
      },
      "source": [
        "np.std(surf_traffic)"
      ],
      "execution_count": null,
      "outputs": [
        {
          "output_type": "execute_result",
          "data": {
            "text/plain": [
              "mb_used_mean    5821.08449\n",
              "dtype: float64"
            ]
          },
          "metadata": {
            "tags": []
          },
          "execution_count": 108
        }
      ]
    },
    {
      "cell_type": "code",
      "metadata": {
        "id": "SxUIvpQAX6x7"
      },
      "source": [
        "surf_traffic['variance'] = breakdown.loc[breakdown['plan'] == 'surf'].groupby('month')['mb_used'].var()"
      ],
      "execution_count": null,
      "outputs": []
    },
    {
      "cell_type": "code",
      "metadata": {
        "id": "423b9JtfX6x8"
      },
      "source": [
        "surf_traffic['std'] = breakdown.loc[breakdown['plan'] == 'surf'].groupby('month')['mb_used'].std()"
      ],
      "execution_count": null,
      "outputs": []
    },
    {
      "cell_type": "code",
      "metadata": {
        "id": "XQs-TyBsX6x-",
        "outputId": "bce309be-5fe2-4901-e2a8-b1b708765bd9"
      },
      "source": [
        "surf_traffic"
      ],
      "execution_count": null,
      "outputs": [
        {
          "output_type": "execute_result",
          "data": {
            "text/html": [
              "<div>\n",
              "<style scoped>\n",
              "    .dataframe tbody tr th:only-of-type {\n",
              "        vertical-align: middle;\n",
              "    }\n",
              "\n",
              "    .dataframe tbody tr th {\n",
              "        vertical-align: top;\n",
              "    }\n",
              "\n",
              "    .dataframe thead th {\n",
              "        text-align: right;\n",
              "    }\n",
              "</style>\n",
              "<table border=\"1\" class=\"dataframe\">\n",
              "  <thead>\n",
              "    <tr style=\"text-align: right;\">\n",
              "      <th></th>\n",
              "      <th>mb_used_mean</th>\n",
              "      <th>variance</th>\n",
              "      <th>std</th>\n",
              "    </tr>\n",
              "    <tr>\n",
              "      <th>month</th>\n",
              "      <th></th>\n",
              "      <th></th>\n",
              "      <th></th>\n",
              "    </tr>\n",
              "  </thead>\n",
              "  <tbody>\n",
              "    <tr>\n",
              "      <td>1</td>\n",
              "      <td>385.031379</td>\n",
              "      <td>2.840298e+06</td>\n",
              "      <td>1685.318381</td>\n",
              "    </tr>\n",
              "    <tr>\n",
              "      <td>2</td>\n",
              "      <td>2098.898983</td>\n",
              "      <td>3.269737e+07</td>\n",
              "      <td>5718.160997</td>\n",
              "    </tr>\n",
              "    <tr>\n",
              "      <td>3</td>\n",
              "      <td>3861.898090</td>\n",
              "      <td>6.429100e+07</td>\n",
              "      <td>8018.166894</td>\n",
              "    </tr>\n",
              "    <tr>\n",
              "      <td>4</td>\n",
              "      <td>5523.853402</td>\n",
              "      <td>7.405106e+07</td>\n",
              "      <td>8605.292636</td>\n",
              "    </tr>\n",
              "    <tr>\n",
              "      <td>5</td>\n",
              "      <td>8151.732838</td>\n",
              "      <td>9.886711e+07</td>\n",
              "      <td>9943.194146</td>\n",
              "    </tr>\n",
              "    <tr>\n",
              "      <td>6</td>\n",
              "      <td>9239.654056</td>\n",
              "      <td>1.037270e+08</td>\n",
              "      <td>10184.643005</td>\n",
              "    </tr>\n",
              "    <tr>\n",
              "      <td>7</td>\n",
              "      <td>11092.395567</td>\n",
              "      <td>1.270390e+08</td>\n",
              "      <td>11271.157424</td>\n",
              "    </tr>\n",
              "    <tr>\n",
              "      <td>8</td>\n",
              "      <td>12873.853248</td>\n",
              "      <td>1.326761e+08</td>\n",
              "      <td>11518.512712</td>\n",
              "    </tr>\n",
              "    <tr>\n",
              "      <td>9</td>\n",
              "      <td>14237.066627</td>\n",
              "      <td>1.051061e+08</td>\n",
              "      <td>10252.127462</td>\n",
              "    </tr>\n",
              "    <tr>\n",
              "      <td>10</td>\n",
              "      <td>15937.800892</td>\n",
              "      <td>1.112790e+08</td>\n",
              "      <td>10548.887316</td>\n",
              "    </tr>\n",
              "    <tr>\n",
              "      <td>11</td>\n",
              "      <td>16663.356613</td>\n",
              "      <td>8.715937e+07</td>\n",
              "      <td>9335.918302</td>\n",
              "    </tr>\n",
              "    <tr>\n",
              "      <td>12</td>\n",
              "      <td>19112.207329</td>\n",
              "      <td>1.013109e+08</td>\n",
              "      <td>10065.330884</td>\n",
              "    </tr>\n",
              "  </tbody>\n",
              "</table>\n",
              "</div>"
            ],
            "text/plain": [
              "       mb_used_mean      variance           std\n",
              "month                                          \n",
              "1        385.031379  2.840298e+06   1685.318381\n",
              "2       2098.898983  3.269737e+07   5718.160997\n",
              "3       3861.898090  6.429100e+07   8018.166894\n",
              "4       5523.853402  7.405106e+07   8605.292636\n",
              "5       8151.732838  9.886711e+07   9943.194146\n",
              "6       9239.654056  1.037270e+08  10184.643005\n",
              "7      11092.395567  1.270390e+08  11271.157424\n",
              "8      12873.853248  1.326761e+08  11518.512712\n",
              "9      14237.066627  1.051061e+08  10252.127462\n",
              "10     15937.800892  1.112790e+08  10548.887316\n",
              "11     16663.356613  8.715937e+07   9335.918302\n",
              "12     19112.207329  1.013109e+08  10065.330884"
            ]
          },
          "metadata": {
            "tags": []
          },
          "execution_count": 111
        }
      ]
    },
    {
      "cell_type": "code",
      "metadata": {
        "id": "Q35I_F4YX6yA",
        "outputId": "b01c116b-3089-4d1a-cd90-f88067d8ee63"
      },
      "source": [
        "surf_traffic['mb_used_mean'].hist()"
      ],
      "execution_count": null,
      "outputs": [
        {
          "output_type": "execute_result",
          "data": {
            "text/plain": [
              "<matplotlib.axes._subplots.AxesSubplot at 0x7fca5a512f90>"
            ]
          },
          "metadata": {
            "tags": []
          },
          "execution_count": 112
        },
        {
          "output_type": "display_data",
          "data": {
            "image/png": "[encoded data removed]",
            "text/plain": [
              "<Figure size 432x288 with 1 Axes>"
            ]
          },
          "metadata": {
            "tags": [],
            "needs_background": "light"
          }
        }
      ]
    },
    {
      "cell_type": "code",
      "metadata": {
        "id": "r29CKqxOX6yD",
        "outputId": "c4f039a3-58d7-4ace-eda8-8cd60ae1aca4"
      },
      "source": [
        "surf_traffic['mb_used_mean'].skew()"
      ],
      "execution_count": null,
      "outputs": [
        {
          "output_type": "execute_result",
          "data": {
            "text/plain": [
              "-0.1278107644409718"
            ]
          },
          "metadata": {
            "tags": []
          },
          "execution_count": 113
        }
      ]
    },
    {
      "cell_type": "markdown",
      "metadata": {
        "id": "8HSXErIzX6yE"
      },
      "source": [
        "The data does not have a strong skew."
      ]
    },
    {
      "cell_type": "markdown",
      "metadata": {
        "id": "oB8XMHA2X6yE"
      },
      "source": [
        "#### Finding the volume of web traffic required per month for users of each plan: Ultimate"
      ]
    },
    {
      "cell_type": "code",
      "metadata": {
        "id": "C6Nl2RmMX6yF"
      },
      "source": [
        "ultimate_traffic = breakdown.loc[breakdown['plan'] == 'ultimate'].pivot_table(index='month', values='mb_used', aggfunc='mean').rename(columns={'mb_used':'mb_used_mean'})"
      ],
      "execution_count": null,
      "outputs": []
    },
    {
      "cell_type": "code",
      "metadata": {
        "id": "xzrISGyDX6yH",
        "outputId": "6f71c525-cb0c-4d9c-e635-afaa5d22cf2e"
      },
      "source": [
        "np.mean(ultimate_traffic)"
      ],
      "execution_count": null,
      "outputs": [
        {
          "output_type": "execute_result",
          "data": {
            "text/plain": [
              "mb_used_mean    10283.077846\n",
              "dtype: float64"
            ]
          },
          "metadata": {
            "tags": []
          },
          "execution_count": 115
        }
      ]
    },
    {
      "cell_type": "code",
      "metadata": {
        "id": "5awMU_2JX6yJ",
        "outputId": "16f6a6fc-591b-4e24-b7fa-6d5f98da4c0f"
      },
      "source": [
        "np.var(ultimate_traffic)"
      ],
      "execution_count": null,
      "outputs": [
        {
          "output_type": "execute_result",
          "data": {
            "text/plain": [
              "mb_used_mean    2.413547e+07\n",
              "dtype: float64"
            ]
          },
          "metadata": {
            "tags": []
          },
          "execution_count": 116
        }
      ]
    },
    {
      "cell_type": "code",
      "metadata": {
        "id": "3mi3_mVaX6yL",
        "outputId": "9233cb51-5d9c-4996-a8b1-b7d03be7ba5a"
      },
      "source": [
        "np.std(ultimate_traffic)"
      ],
      "execution_count": null,
      "outputs": [
        {
          "output_type": "execute_result",
          "data": {
            "text/plain": [
              "mb_used_mean    4912.786276\n",
              "dtype: float64"
            ]
          },
          "metadata": {
            "tags": []
          },
          "execution_count": 117
        }
      ]
    },
    {
      "cell_type": "code",
      "metadata": {
        "id": "LMQRz7c8X6yN"
      },
      "source": [
        "ultimate_traffic['variance'] = breakdown.loc[breakdown['plan'] == 'ultimate'].groupby('month')['mb_used'].var()"
      ],
      "execution_count": null,
      "outputs": []
    },
    {
      "cell_type": "code",
      "metadata": {
        "id": "wcLXl1c0X6yO"
      },
      "source": [
        "ultimate_traffic['std'] = breakdown.loc[breakdown['plan'] == 'ultimate'].groupby('month')['mb_used'].std()"
      ],
      "execution_count": null,
      "outputs": []
    },
    {
      "cell_type": "code",
      "metadata": {
        "id": "wy4yfYvFX6yQ",
        "outputId": "281dc4e9-18ae-48da-85d1-0e4e267d8996"
      },
      "source": [
        "ultimate_traffic"
      ],
      "execution_count": null,
      "outputs": [
        {
          "output_type": "execute_result",
          "data": {
            "text/html": [
              "<div>\n",
              "<style scoped>\n",
              "    .dataframe tbody tr th:only-of-type {\n",
              "        vertical-align: middle;\n",
              "    }\n",
              "\n",
              "    .dataframe tbody tr th {\n",
              "        vertical-align: top;\n",
              "    }\n",
              "\n",
              "    .dataframe thead th {\n",
              "        text-align: right;\n",
              "    }\n",
              "</style>\n",
              "<table border=\"1\" class=\"dataframe\">\n",
              "  <thead>\n",
              "    <tr style=\"text-align: right;\">\n",
              "      <th></th>\n",
              "      <th>mb_used_mean</th>\n",
              "      <th>variance</th>\n",
              "      <th>std</th>\n",
              "    </tr>\n",
              "    <tr>\n",
              "      <th>month</th>\n",
              "      <th></th>\n",
              "      <th></th>\n",
              "      <th></th>\n",
              "    </tr>\n",
              "  </thead>\n",
              "  <tbody>\n",
              "    <tr>\n",
              "      <td>1</td>\n",
              "      <td>1664.065833</td>\n",
              "      <td>1.352242e+07</td>\n",
              "      <td>3677.283966</td>\n",
              "    </tr>\n",
              "    <tr>\n",
              "      <td>2</td>\n",
              "      <td>4283.795000</td>\n",
              "      <td>7.152056e+07</td>\n",
              "      <td>8456.982740</td>\n",
              "    </tr>\n",
              "    <tr>\n",
              "      <td>3</td>\n",
              "      <td>5943.752625</td>\n",
              "      <td>1.312880e+08</td>\n",
              "      <td>11458.095642</td>\n",
              "    </tr>\n",
              "    <tr>\n",
              "      <td>4</td>\n",
              "      <td>7311.618529</td>\n",
              "      <td>1.178821e+08</td>\n",
              "      <td>10857.354606</td>\n",
              "    </tr>\n",
              "    <tr>\n",
              "      <td>5</td>\n",
              "      <td>8443.907344</td>\n",
              "      <td>1.164963e+08</td>\n",
              "      <td>10793.345032</td>\n",
              "    </tr>\n",
              "    <tr>\n",
              "      <td>6</td>\n",
              "      <td>9315.256047</td>\n",
              "      <td>1.162491e+08</td>\n",
              "      <td>10781.888653</td>\n",
              "    </tr>\n",
              "    <tr>\n",
              "      <td>7</td>\n",
              "      <td>11058.745521</td>\n",
              "      <td>1.235789e+08</td>\n",
              "      <td>11116.606867</td>\n",
              "    </tr>\n",
              "    <tr>\n",
              "      <td>8</td>\n",
              "      <td>12251.649649</td>\n",
              "      <td>1.312887e+08</td>\n",
              "      <td>11458.127606</td>\n",
              "    </tr>\n",
              "    <tr>\n",
              "      <td>9</td>\n",
              "      <td>12671.668110</td>\n",
              "      <td>1.127332e+08</td>\n",
              "      <td>10617.589962</td>\n",
              "    </tr>\n",
              "    <tr>\n",
              "      <td>10</td>\n",
              "      <td>15334.013556</td>\n",
              "      <td>1.126192e+08</td>\n",
              "      <td>10612.220404</td>\n",
              "    </tr>\n",
              "    <tr>\n",
              "      <td>11</td>\n",
              "      <td>15857.868974</td>\n",
              "      <td>1.022743e+08</td>\n",
              "      <td>10113.077047</td>\n",
              "    </tr>\n",
              "    <tr>\n",
              "      <td>12</td>\n",
              "      <td>19260.592969</td>\n",
              "      <td>8.623136e+07</td>\n",
              "      <td>9286.084345</td>\n",
              "    </tr>\n",
              "  </tbody>\n",
              "</table>\n",
              "</div>"
            ],
            "text/plain": [
              "       mb_used_mean      variance           std\n",
              "month                                          \n",
              "1       1664.065833  1.352242e+07   3677.283966\n",
              "2       4283.795000  7.152056e+07   8456.982740\n",
              "3       5943.752625  1.312880e+08  11458.095642\n",
              "4       7311.618529  1.178821e+08  10857.354606\n",
              "5       8443.907344  1.164963e+08  10793.345032\n",
              "6       9315.256047  1.162491e+08  10781.888653\n",
              "7      11058.745521  1.235789e+08  11116.606867\n",
              "8      12251.649649  1.312887e+08  11458.127606\n",
              "9      12671.668110  1.127332e+08  10617.589962\n",
              "10     15334.013556  1.126192e+08  10612.220404\n",
              "11     15857.868974  1.022743e+08  10113.077047\n",
              "12     19260.592969  8.623136e+07   9286.084345"
            ]
          },
          "metadata": {
            "tags": []
          },
          "execution_count": 120
        }
      ]
    },
    {
      "cell_type": "code",
      "metadata": {
        "id": "_tUp9VgjX6yS",
        "outputId": "d640f0f9-4971-417b-aa46-6ab3c38a2698"
      },
      "source": [
        "ultimate_traffic['mb_used_mean'].hist()"
      ],
      "execution_count": null,
      "outputs": [
        {
          "output_type": "execute_result",
          "data": {
            "text/plain": [
              "<matplotlib.axes._subplots.AxesSubplot at 0x7fca5a4585d0>"
            ]
          },
          "metadata": {
            "tags": []
          },
          "execution_count": 121
        },
        {
          "output_type": "display_data",
          "data": {
            "image/png": "[encoded data removed]",
            "text/plain": [
              "<Figure size 432x288 with 1 Axes>"
            ]
          },
          "metadata": {
            "tags": [],
            "needs_background": "light"
          }
        }
      ]
    },
    {
      "cell_type": "code",
      "metadata": {
        "id": "9okQceFcX6yU",
        "outputId": "272f227e-4576-460d-c6b1-f65dbffce257"
      },
      "source": [
        "ultimate_traffic['mb_used_mean'].skew()"
      ],
      "execution_count": null,
      "outputs": [
        {
          "output_type": "execute_result",
          "data": {
            "text/plain": [
              "0.06145455046314724"
            ]
          },
          "metadata": {
            "tags": []
          },
          "execution_count": 122
        }
      ]
    },
    {
      "cell_type": "markdown",
      "metadata": {
        "id": "ko7SnUiiX6yX"
      },
      "source": [
        "Like the data from users on the surf plane, the traffic usage of ultimate users does not have a strong skew."
      ]
    },
    {
      "cell_type": "markdown",
      "metadata": {
        "id": "y3YJ0Ej5X6yZ"
      },
      "source": [
        "### Conclusion"
      ]
    },
    {
      "cell_type": "markdown",
      "metadata": {
        "id": "NaVDnLnvX6ya"
      },
      "source": [
        "In terms of the number of minutes used per month, users on both plans use about the same amount of minutes, when comparing their means. \n",
        "\n",
        "When comparing the number of SMS used, users on the \"ultimate\" plan send slightly more than users on the \"surf\" plan possibly due to the greater plan allowance.\n",
        "\n",
        "When comparing the amount of web usage per month, users on the \"ultimate\" plan send slightly more than users on the \"surf\" plan possibly due to the greater plan allowance.\n",
        "\n",
        "Usage levels for all three indicators generally increased as the year progressed.\n",
        "\n",
        "The resulting histograms all resulted in either no skew or a very low skew. "
      ]
    },
    {
      "cell_type": "markdown",
      "metadata": {
        "id": "Wm0ws-S6X6yb"
      },
      "source": [
        "### Step 4. Testing the hypothesis"
      ]
    },
    {
      "cell_type": "markdown",
      "metadata": {
        "id": "z_knpOerX6yb"
      },
      "source": [
        "#### Test 1. The company earns different amounts from the Ultimate and Surf plans (measured in terms of average monthly revenue)"
      ]
    },
    {
      "cell_type": "code",
      "metadata": {
        "id": "nnUPoqH9X6yc"
      },
      "source": [
        "surf_profit = breakdown.loc[breakdown['plan'] == 'surf'].pivot_table(index='month', values='profit', aggfunc='mean').rename(columns={'profit':'surf_profit_mean'})"
      ],
      "execution_count": null,
      "outputs": []
    },
    {
      "cell_type": "code",
      "metadata": {
        "id": "FcAa6cjTX6yf",
        "outputId": "8d52b9f8-1ca9-4e81-b2e3-e7d8f8c0251c"
      },
      "source": [
        "surf_profit"
      ],
      "execution_count": null,
      "outputs": [
        {
          "output_type": "execute_result",
          "data": {
            "text/html": [
              "<div>\n",
              "<style scoped>\n",
              "    .dataframe tbody tr th:only-of-type {\n",
              "        vertical-align: middle;\n",
              "    }\n",
              "\n",
              "    .dataframe tbody tr th {\n",
              "        vertical-align: top;\n",
              "    }\n",
              "\n",
              "    .dataframe thead th {\n",
              "        text-align: right;\n",
              "    }\n",
              "</style>\n",
              "<table border=\"1\" class=\"dataframe\">\n",
              "  <thead>\n",
              "    <tr style=\"text-align: right;\">\n",
              "      <th></th>\n",
              "      <th>surf_profit_mean</th>\n",
              "    </tr>\n",
              "    <tr>\n",
              "      <th>month</th>\n",
              "      <th></th>\n",
              "    </tr>\n",
              "  </thead>\n",
              "  <tbody>\n",
              "    <tr>\n",
              "      <td>1</td>\n",
              "      <td>20.000000</td>\n",
              "    </tr>\n",
              "    <tr>\n",
              "      <td>2</td>\n",
              "      <td>23.473559</td>\n",
              "    </tr>\n",
              "    <tr>\n",
              "      <td>3</td>\n",
              "      <td>29.064270</td>\n",
              "    </tr>\n",
              "    <tr>\n",
              "      <td>4</td>\n",
              "      <td>31.715082</td>\n",
              "    </tr>\n",
              "    <tr>\n",
              "      <td>5</td>\n",
              "      <td>39.686486</td>\n",
              "    </tr>\n",
              "    <tr>\n",
              "      <td>6</td>\n",
              "      <td>41.664222</td>\n",
              "    </tr>\n",
              "    <tr>\n",
              "      <td>7</td>\n",
              "      <td>52.821773</td>\n",
              "    </tr>\n",
              "    <tr>\n",
              "      <td>8</td>\n",
              "      <td>58.771838</td>\n",
              "    </tr>\n",
              "    <tr>\n",
              "      <td>9</td>\n",
              "      <td>58.530317</td>\n",
              "    </tr>\n",
              "    <tr>\n",
              "      <td>10</td>\n",
              "      <td>67.954790</td>\n",
              "    </tr>\n",
              "    <tr>\n",
              "      <td>11</td>\n",
              "      <td>65.901161</td>\n",
              "    </tr>\n",
              "    <tr>\n",
              "      <td>12</td>\n",
              "      <td>81.444926</td>\n",
              "    </tr>\n",
              "  </tbody>\n",
              "</table>\n",
              "</div>"
            ],
            "text/plain": [
              "       surf_profit_mean\n",
              "month                  \n",
              "1             20.000000\n",
              "2             23.473559\n",
              "3             29.064270\n",
              "4             31.715082\n",
              "5             39.686486\n",
              "6             41.664222\n",
              "7             52.821773\n",
              "8             58.771838\n",
              "9             58.530317\n",
              "10            67.954790\n",
              "11            65.901161\n",
              "12            81.444926"
            ]
          },
          "metadata": {
            "tags": []
          },
          "execution_count": 124
        }
      ]
    },
    {
      "cell_type": "code",
      "metadata": {
        "id": "yxvZvrwxX6yh",
        "outputId": "a9a4dec6-4c00-4bc8-8039-378516cd03ff"
      },
      "source": [
        "np.mean(surf_profit)[0]"
      ],
      "execution_count": null,
      "outputs": [
        {
          "output_type": "execute_result",
          "data": {
            "text/plain": [
              "47.585702120265275"
            ]
          },
          "metadata": {
            "tags": []
          },
          "execution_count": 125
        }
      ]
    },
    {
      "cell_type": "code",
      "metadata": {
        "id": "8mFZY90oX6yj"
      },
      "source": [
        "ultimate_profit = breakdown.loc[breakdown['plan'] == 'ultimate'].pivot_table(index='month', values='profit', aggfunc='mean').rename(columns={'profit':'ultimate_profit_mean'})"
      ],
      "execution_count": null,
      "outputs": []
    },
    {
      "cell_type": "code",
      "metadata": {
        "id": "o9IF823lX6yn",
        "outputId": "d2bef072-deb5-4ee1-cffd-081ca3363cbe"
      },
      "source": [
        "ultimate_profit"
      ],
      "execution_count": null,
      "outputs": [
        {
          "output_type": "execute_result",
          "data": {
            "text/html": [
              "<div>\n",
              "<style scoped>\n",
              "    .dataframe tbody tr th:only-of-type {\n",
              "        vertical-align: middle;\n",
              "    }\n",
              "\n",
              "    .dataframe tbody tr th {\n",
              "        vertical-align: top;\n",
              "    }\n",
              "\n",
              "    .dataframe thead th {\n",
              "        text-align: right;\n",
              "    }\n",
              "</style>\n",
              "<table border=\"1\" class=\"dataframe\">\n",
              "  <thead>\n",
              "    <tr style=\"text-align: right;\">\n",
              "      <th></th>\n",
              "      <th>ultimate_profit_mean</th>\n",
              "    </tr>\n",
              "    <tr>\n",
              "      <th>month</th>\n",
              "      <th></th>\n",
              "    </tr>\n",
              "  </thead>\n",
              "  <tbody>\n",
              "    <tr>\n",
              "      <td>1</td>\n",
              "      <td>70.000000</td>\n",
              "    </tr>\n",
              "    <tr>\n",
              "      <td>2</td>\n",
              "      <td>70.000000</td>\n",
              "    </tr>\n",
              "    <tr>\n",
              "      <td>3</td>\n",
              "      <td>72.385250</td>\n",
              "    </tr>\n",
              "    <tr>\n",
              "      <td>4</td>\n",
              "      <td>71.751961</td>\n",
              "    </tr>\n",
              "    <tr>\n",
              "      <td>5</td>\n",
              "      <td>70.615156</td>\n",
              "    </tr>\n",
              "    <tr>\n",
              "      <td>6</td>\n",
              "      <td>70.966395</td>\n",
              "    </tr>\n",
              "    <tr>\n",
              "      <td>7</td>\n",
              "      <td>71.476250</td>\n",
              "    </tr>\n",
              "    <tr>\n",
              "      <td>8</td>\n",
              "      <td>72.195000</td>\n",
              "    </tr>\n",
              "    <tr>\n",
              "      <td>9</td>\n",
              "      <td>71.517874</td>\n",
              "    </tr>\n",
              "    <tr>\n",
              "      <td>10</td>\n",
              "      <td>72.248444</td>\n",
              "    </tr>\n",
              "    <tr>\n",
              "      <td>11</td>\n",
              "      <td>71.801126</td>\n",
              "    </tr>\n",
              "    <tr>\n",
              "      <td>12</td>\n",
              "      <td>74.217062</td>\n",
              "    </tr>\n",
              "  </tbody>\n",
              "</table>\n",
              "</div>"
            ],
            "text/plain": [
              "       ultimate_profit_mean\n",
              "month                      \n",
              "1                 70.000000\n",
              "2                 70.000000\n",
              "3                 72.385250\n",
              "4                 71.751961\n",
              "5                 70.615156\n",
              "6                 70.966395\n",
              "7                 71.476250\n",
              "8                 72.195000\n",
              "9                 71.517874\n",
              "10                72.248444\n",
              "11                71.801126\n",
              "12                74.217062"
            ]
          },
          "metadata": {
            "tags": []
          },
          "execution_count": 127
        }
      ]
    },
    {
      "cell_type": "code",
      "metadata": {
        "id": "mwN0D-uHX6yp",
        "outputId": "24f84c1b-b617-4fa4-bc6e-3c8dd99920c9"
      },
      "source": [
        "np.mean(ultimate_profit)"
      ],
      "execution_count": null,
      "outputs": [
        {
          "output_type": "execute_result",
          "data": {
            "text/plain": [
              "ultimate_profit_mean    71.597877\n",
              "dtype: float64"
            ]
          },
          "metadata": {
            "tags": []
          },
          "execution_count": 128
        }
      ]
    },
    {
      "cell_type": "code",
      "metadata": {
        "id": "kd2xmL2RX6yr",
        "outputId": "77aa0327-7309-4c9d-979a-0a4790df5e36"
      },
      "source": [
        "plan_results = st.ttest_ind(surf_profit['surf_profit_mean'], ultimate_profit['ultimate_profit_mean'], equal_var = False)\n",
        "\n",
        "alpha = .05\n",
        "\n",
        "print('p-value: ', plan_results.pvalue)\n",
        "\n",
        "if (plan_results.pvalue < alpha):\n",
        "        print(\"We reject the null hypothesis\")\n",
        "else:\n",
        "        print(\"We fail to reject the null hypothesis\")"
      ],
      "execution_count": null,
      "outputs": [
        {
          "output_type": "stream",
          "text": [
            "p-value:  0.0013504006855838307\n",
            "We reject the null hypothesis\n"
          ],
          "name": "stdout"
        }
      ]
    },
    {
      "cell_type": "markdown",
      "metadata": {
        "id": "UPMzZq20X6yt"
      },
      "source": [
        "H0: The company earns the same amount from the Ultimate and Surf plans, in terms of average monthly revenue.\n",
        "\n",
        "H1: The company earns different amounts from the Ultimate and Surf plans, in terms of average monthly revenue.\n",
        "\n",
        "`equal_var` is set to False here because those on the Ultimate plan are likely to have a higher variance due to the higher plan allowance per month.\n",
        "\n",
        "The p-value is less than 0.05, so we reject the null hypothesis. Therefore, the company earns different amounts from the Ultimate and Surf plans, in terms of average monthly revenue."
      ]
    },
    {
      "cell_type": "markdown",
      "metadata": {
        "id": "0b4UpZNMX6yu"
      },
      "source": [
        "#### Test 2. The average monthly revenue from users in the NY-NJ area differs from that in other regions"
      ]
    },
    {
      "cell_type": "code",
      "metadata": {
        "id": "3TIWMz-gX6yu"
      },
      "source": [
        "def set_location(row):\n",
        "    if df_users.loc[df_users['user_id'] == row['user_id'], 'city'].values[0] == 'New York-Newark-Jersey City, NY-NJ-PA MSA':\n",
        "        return 1\n",
        "    else:\n",
        "        return 0\n",
        "\n",
        "breakdown['ny_nj_area'] = breakdown.apply(set_location, axis=1)"
      ],
      "execution_count": null,
      "outputs": []
    },
    {
      "cell_type": "markdown",
      "metadata": {
        "id": "bldjw9NDX6yw"
      },
      "source": [
        "`breakdown['ny_nj_area']` is created, containing a 1 for users in the NY-NJ area and a 0 for those who are not."
      ]
    },
    {
      "cell_type": "code",
      "metadata": {
        "id": "uu7BrqLGX6y7"
      },
      "source": [
        "ny_profit = breakdown.loc[breakdown['ny_nj_area'] == 1].pivot_table(index='month', values='profit', aggfunc='mean').rename(columns={'profit':'ny_mean'})"
      ],
      "execution_count": null,
      "outputs": []
    },
    {
      "cell_type": "code",
      "metadata": {
        "id": "EB71AERPX6y9",
        "outputId": "c1146114-e9d9-4ef9-dfa8-4dfc7c258de3"
      },
      "source": [
        "ny_profit"
      ],
      "execution_count": null,
      "outputs": [
        {
          "output_type": "execute_result",
          "data": {
            "text/html": [
              "<div>\n",
              "<style scoped>\n",
              "    .dataframe tbody tr th:only-of-type {\n",
              "        vertical-align: middle;\n",
              "    }\n",
              "\n",
              "    .dataframe tbody tr th {\n",
              "        vertical-align: top;\n",
              "    }\n",
              "\n",
              "    .dataframe thead th {\n",
              "        text-align: right;\n",
              "    }\n",
              "</style>\n",
              "<table border=\"1\" class=\"dataframe\">\n",
              "  <thead>\n",
              "    <tr style=\"text-align: right;\">\n",
              "      <th></th>\n",
              "      <th>ny_mean</th>\n",
              "    </tr>\n",
              "    <tr>\n",
              "      <th>month</th>\n",
              "      <th></th>\n",
              "    </tr>\n",
              "  </thead>\n",
              "  <tbody>\n",
              "    <tr>\n",
              "      <td>1</td>\n",
              "      <td>31.111111</td>\n",
              "    </tr>\n",
              "    <tr>\n",
              "      <td>2</td>\n",
              "      <td>32.391111</td>\n",
              "    </tr>\n",
              "    <tr>\n",
              "      <td>3</td>\n",
              "      <td>37.135909</td>\n",
              "    </tr>\n",
              "    <tr>\n",
              "      <td>4</td>\n",
              "      <td>38.975333</td>\n",
              "    </tr>\n",
              "    <tr>\n",
              "      <td>5</td>\n",
              "      <td>47.772857</td>\n",
              "    </tr>\n",
              "    <tr>\n",
              "      <td>6</td>\n",
              "      <td>46.758333</td>\n",
              "    </tr>\n",
              "    <tr>\n",
              "      <td>7</td>\n",
              "      <td>54.802692</td>\n",
              "    </tr>\n",
              "    <tr>\n",
              "      <td>8</td>\n",
              "      <td>62.670000</td>\n",
              "    </tr>\n",
              "    <tr>\n",
              "      <td>9</td>\n",
              "      <td>64.619672</td>\n",
              "    </tr>\n",
              "    <tr>\n",
              "      <td>10</td>\n",
              "      <td>73.153636</td>\n",
              "    </tr>\n",
              "    <tr>\n",
              "      <td>11</td>\n",
              "      <td>73.610274</td>\n",
              "    </tr>\n",
              "    <tr>\n",
              "      <td>12</td>\n",
              "      <td>73.124375</td>\n",
              "    </tr>\n",
              "  </tbody>\n",
              "</table>\n",
              "</div>"
            ],
            "text/plain": [
              "         ny_mean\n",
              "month           \n",
              "1      31.111111\n",
              "2      32.391111\n",
              "3      37.135909\n",
              "4      38.975333\n",
              "5      47.772857\n",
              "6      46.758333\n",
              "7      54.802692\n",
              "8      62.670000\n",
              "9      64.619672\n",
              "10     73.153636\n",
              "11     73.610274\n",
              "12     73.124375"
            ]
          },
          "metadata": {
            "tags": []
          },
          "execution_count": 132
        }
      ]
    },
    {
      "cell_type": "code",
      "metadata": {
        "id": "fqTNIzRgX6zA",
        "outputId": "6ab17180-1bc1-4d3c-9c94-ca5a4f12b557"
      },
      "source": [
        "np.mean(ny_profit)"
      ],
      "execution_count": null,
      "outputs": [
        {
          "output_type": "execute_result",
          "data": {
            "text/plain": [
              "ny_mean    53.010442\n",
              "dtype: float64"
            ]
          },
          "metadata": {
            "tags": []
          },
          "execution_count": 133
        }
      ]
    },
    {
      "cell_type": "code",
      "metadata": {
        "id": "m8EAAa4NX6zB"
      },
      "source": [
        "non_ny_profit = breakdown.loc[breakdown['ny_nj_area'] == 0].pivot_table(index='month', values='profit', aggfunc='mean').rename(columns={'profit':'non_ny_mean'})"
      ],
      "execution_count": null,
      "outputs": []
    },
    {
      "cell_type": "code",
      "metadata": {
        "id": "8uEmjavUX6zG",
        "outputId": "43cdf6b6-5e49-4275-89c0-425de414da80"
      },
      "source": [
        "non_ny_profit"
      ],
      "execution_count": null,
      "outputs": [
        {
          "output_type": "execute_result",
          "data": {
            "text/html": [
              "<div>\n",
              "<style scoped>\n",
              "    .dataframe tbody tr th:only-of-type {\n",
              "        vertical-align: middle;\n",
              "    }\n",
              "\n",
              "    .dataframe tbody tr th {\n",
              "        vertical-align: top;\n",
              "    }\n",
              "\n",
              "    .dataframe thead th {\n",
              "        text-align: right;\n",
              "    }\n",
              "</style>\n",
              "<table border=\"1\" class=\"dataframe\">\n",
              "  <thead>\n",
              "    <tr style=\"text-align: right;\">\n",
              "      <th></th>\n",
              "      <th>non_ny_mean</th>\n",
              "    </tr>\n",
              "    <tr>\n",
              "      <th>month</th>\n",
              "      <th></th>\n",
              "    </tr>\n",
              "  </thead>\n",
              "  <tbody>\n",
              "    <tr>\n",
              "      <td>1</td>\n",
              "      <td>41.052632</td>\n",
              "    </tr>\n",
              "    <tr>\n",
              "      <td>2</td>\n",
              "      <td>40.871831</td>\n",
              "    </tr>\n",
              "    <tr>\n",
              "      <td>3</td>\n",
              "      <td>43.599439</td>\n",
              "    </tr>\n",
              "    <tr>\n",
              "      <td>4</td>\n",
              "      <td>44.470839</td>\n",
              "    </tr>\n",
              "    <tr>\n",
              "      <td>5</td>\n",
              "      <td>49.270734</td>\n",
              "    </tr>\n",
              "    <tr>\n",
              "      <td>6</td>\n",
              "      <td>52.102156</td>\n",
              "    </tr>\n",
              "    <tr>\n",
              "      <td>7</td>\n",
              "      <td>59.655061</td>\n",
              "    </tr>\n",
              "    <tr>\n",
              "      <td>8</td>\n",
              "      <td>63.266838</td>\n",
              "    </tr>\n",
              "    <tr>\n",
              "      <td>9</td>\n",
              "      <td>62.549088</td>\n",
              "    </tr>\n",
              "    <tr>\n",
              "      <td>10</td>\n",
              "      <td>68.621042</td>\n",
              "    </tr>\n",
              "    <tr>\n",
              "      <td>11</td>\n",
              "      <td>66.746856</td>\n",
              "    </tr>\n",
              "    <tr>\n",
              "      <td>12</td>\n",
              "      <td>80.267914</td>\n",
              "    </tr>\n",
              "  </tbody>\n",
              "</table>\n",
              "</div>"
            ],
            "text/plain": [
              "       non_ny_mean\n",
              "month             \n",
              "1        41.052632\n",
              "2        40.871831\n",
              "3        43.599439\n",
              "4        44.470839\n",
              "5        49.270734\n",
              "6        52.102156\n",
              "7        59.655061\n",
              "8        63.266838\n",
              "9        62.549088\n",
              "10       68.621042\n",
              "11       66.746856\n",
              "12       80.267914"
            ]
          },
          "metadata": {
            "tags": []
          },
          "execution_count": 135
        }
      ]
    },
    {
      "cell_type": "code",
      "metadata": {
        "id": "nJl7olP1X6zJ",
        "outputId": "bf16a3b2-9f98-4f32-b87f-923699c0d866"
      },
      "source": [
        "np.mean(non_ny_profit)"
      ],
      "execution_count": null,
      "outputs": [
        {
          "output_type": "execute_result",
          "data": {
            "text/plain": [
              "non_ny_mean    56.039536\n",
              "dtype: float64"
            ]
          },
          "metadata": {
            "tags": []
          },
          "execution_count": 136
        }
      ]
    },
    {
      "cell_type": "code",
      "metadata": {
        "id": "Mgx5svB3X6zL",
        "outputId": "aa9a8af1-7ee2-4245-c3dd-9cdd4388fe2c"
      },
      "source": [
        "ny_results = st.ttest_ind(ny_profit['ny_mean'], non_ny_profit['non_ny_mean'])\n",
        "\n",
        "alpha = .05\n",
        "\n",
        "print('p-value: ', ny_results.pvalue)\n",
        "\n",
        "if (ny_results.pvalue < alpha):\n",
        "        print(\"We reject the null hypothesis\")\n",
        "else:\n",
        "        print(\"We fail to reject the null hypothesis\")"
      ],
      "execution_count": null,
      "outputs": [
        {
          "output_type": "stream",
          "text": [
            "p-value:  0.6152028363865003\n",
            "We fail to reject the null hypothesis\n"
          ],
          "name": "stdout"
        }
      ]
    },
    {
      "cell_type": "markdown",
      "metadata": {
        "id": "QebQfCAAX6zN"
      },
      "source": [
        "H0: The average monthly revenue from users in the NY-NJ area equals that in other regions\n",
        "\n",
        "H1: The average monthly revenue from users in the NY-NJ area differs from that in other regions\n",
        "\n",
        "`equal_var` is remains as True here because the samples are taken from populations with similar parameters\n",
        "\n",
        "The p-value is greater than 0.05, so we fail to reject the null hypothesis. Therefore, the average monthly revenue from users in the NY-NJ area equals the average monthly revenue in other regions."
      ]
    },
    {
      "cell_type": "markdown",
      "metadata": {
        "id": "mbHKUQiSX6zN"
      },
      "source": [
        "### Conclusion"
      ]
    },
    {
      "cell_type": "markdown",
      "metadata": {
        "id": "-HoiKBvbX6zO"
      },
      "source": [
        "The SciPy library was imported to help test two hypotheses.\n",
        "\n",
        "For the first hypothesis test, the average monthly profit for both \"ultimate\" and \"surf\" plans were compiled using the pivot table function to form the two data sets. `st.ttest_ind` was used on these two independent statistical populations to test the null hypothesis. The resulting p-value is less than 0.05, so we reject the null hypothesis. Therefore, the company earns different amounts from the Ultimate and Surf plans, in terms of average monthly revenue.\n",
        "\n",
        "For the second hypothesis test, `breakdown['ny_nj_area']` is created to help differentiate users who are in the NY-NJ area from the rest of the population. The average monthly revenue from both populations were calculated using pivot tables and `st.ttest_ind()` was used on these two independent statistical populations to test the null hypothesis. The resulting p-value is greater than 0.05, so we fail to reject the null hypothesis. Therefore, the average monthly revenue from users in the NY-NJ area  roughly equals the average monthly revenue in other regions."
      ]
    },
    {
      "cell_type": "markdown",
      "metadata": {
        "id": "Mk5RiW8RX6zO"
      },
      "source": [
        "### Step 5. Overall conclusion"
      ]
    },
    {
      "cell_type": "markdown",
      "metadata": {
        "id": "cPkvbukGX6zP"
      },
      "source": [
        "5 datasets were incorporated in this project. Necessary column datatype conversions were performed and gaps in the data were filled in accordingly.\n",
        "\n",
        "`breakdown` was created, containing monthly metrics for each user such as the number of calls made, the number of call minutes spent, the number of SMS sent, the volumne of web traffic, the calculated monthly profit, the phone plan they are subscribed to, and the profit by month.\n",
        "\n",
        "It was found that although users on both plans spent the same amount of call minutes on average monthly, users on the \"Ultimate\" plan send more SMS and use more internet traffic, possibly due to the greater monthly plan allowance. Usage levels for all three indicators generally increased as the year progressed.\n",
        "\n",
        "Hypothesis tests revealed that the company earns different amounts from the Ultimate and Surf plans in terms of average monthly revenue and that the average monthly revenue from users in the NY-NJ area equals the average monthly revenue in other regions.\n",
        "\n",
        "The overall plan usage is lower for customers on the \"Surf\" plan, and has not been great enough to incur too many overuse charges to exceed the profit from users of the \"Ultimate\" plan. There is greater and more consistent profit to be gained from the \"Ultimate\" plan, which requires a higher monthly charge."
      ]
    }
  ]
}