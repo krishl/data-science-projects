{
  "nbformat": 4,
  "nbformat_minor": 0,
  "metadata": {
    "kernelspec": {
      "display_name": "Python 3",
      "language": "python",
      "name": "python3"
    },
    "language_info": {
      "codemirror_mode": {
        "name": "ipython",
        "version": 3
      },
      "file_extension": ".py",
      "mimetype": "text/x-python",
      "name": "python",
      "nbconvert_exporter": "python",
      "pygments_lexer": "ipython3",
      "version": "3.7.6"
    },
    "colab": {
      "name": "ds-project-5.ipynb",
      "provenance": []
    }
  },
  "cells": [
    {
      "cell_type": "markdown",
      "metadata": {
        "id": "IuH1239hhqYN"
      },
      "source": [
        "## Analyzing ride-sharing patterns"
      ]
    },
    {
      "cell_type": "markdown",
      "metadata": {
        "id": "UVmdOEVWhqYV"
      },
      "source": [
        "Ride-sharing data on multiple ride-sharing companies will be analyzed to find patterns, understand passenger preferences, and gain insight into the impact of external factors on rides."
      ]
    },
    {
      "cell_type": "markdown",
      "metadata": {
        "id": "0Li31uJ-hqYZ"
      },
      "source": [
        "### Exploratory data analysis (Python)"
      ]
    },
    {
      "cell_type": "code",
      "metadata": {
        "id": "caSB3x7lhqYb"
      },
      "source": [
        "import pandas as pd"
      ],
      "execution_count": null,
      "outputs": []
    },
    {
      "cell_type": "code",
      "metadata": {
        "id": "HVXQiTHPhqYs"
      },
      "source": [
        "from scipy import stats as st"
      ],
      "execution_count": null,
      "outputs": []
    },
    {
      "cell_type": "code",
      "metadata": {
        "id": "Jb7WWZRShqYz"
      },
      "source": [
        "df1 = pd.read_csv('/datasets/project_sql_result_01.csv')"
      ],
      "execution_count": null,
      "outputs": []
    },
    {
      "cell_type": "code",
      "metadata": {
        "id": "Zy7SxwdzhqY9"
      },
      "source": [
        "df2 = pd.read_csv('/datasets/project_sql_result_04.csv')"
      ],
      "execution_count": null,
      "outputs": []
    },
    {
      "cell_type": "code",
      "metadata": {
        "id": "PxUjru88hqZD",
        "outputId": "2a5a1fdc-0dc9-461b-ace1-662df394ddd4"
      },
      "source": [
        "df1.head()"
      ],
      "execution_count": null,
      "outputs": [
        {
          "output_type": "execute_result",
          "data": {
            "text/html": [
              "<div>\n",
              "<style scoped>\n",
              "    .dataframe tbody tr th:only-of-type {\n",
              "        vertical-align: middle;\n",
              "    }\n",
              "\n",
              "    .dataframe tbody tr th {\n",
              "        vertical-align: top;\n",
              "    }\n",
              "\n",
              "    .dataframe thead th {\n",
              "        text-align: right;\n",
              "    }\n",
              "</style>\n",
              "<table border=\"1\" class=\"dataframe\">\n",
              "  <thead>\n",
              "    <tr style=\"text-align: right;\">\n",
              "      <th></th>\n",
              "      <th>company_name</th>\n",
              "      <th>trips_amount</th>\n",
              "    </tr>\n",
              "  </thead>\n",
              "  <tbody>\n",
              "    <tr>\n",
              "      <td>0</td>\n",
              "      <td>Flash Cab</td>\n",
              "      <td>19558</td>\n",
              "    </tr>\n",
              "    <tr>\n",
              "      <td>1</td>\n",
              "      <td>Taxi Affiliation Services</td>\n",
              "      <td>11422</td>\n",
              "    </tr>\n",
              "    <tr>\n",
              "      <td>2</td>\n",
              "      <td>Medallion Leasing</td>\n",
              "      <td>10367</td>\n",
              "    </tr>\n",
              "    <tr>\n",
              "      <td>3</td>\n",
              "      <td>Yellow Cab</td>\n",
              "      <td>9888</td>\n",
              "    </tr>\n",
              "    <tr>\n",
              "      <td>4</td>\n",
              "      <td>Taxi Affiliation Service Yellow</td>\n",
              "      <td>9299</td>\n",
              "    </tr>\n",
              "  </tbody>\n",
              "</table>\n",
              "</div>"
            ],
            "text/plain": [
              "                      company_name  trips_amount\n",
              "0                        Flash Cab         19558\n",
              "1        Taxi Affiliation Services         11422\n",
              "2                Medallion Leasing         10367\n",
              "3                       Yellow Cab          9888\n",
              "4  Taxi Affiliation Service Yellow          9299"
            ]
          },
          "metadata": {
            "tags": []
          },
          "execution_count": 5
        }
      ]
    },
    {
      "cell_type": "code",
      "metadata": {
        "id": "VTZ7WNhjhqZM",
        "outputId": "6269c2c6-d918-4e0d-96d9-41a225596c34"
      },
      "source": [
        "df1.info()"
      ],
      "execution_count": null,
      "outputs": [
        {
          "output_type": "stream",
          "text": [
            "<class 'pandas.core.frame.DataFrame'>\n",
            "RangeIndex: 64 entries, 0 to 63\n",
            "Data columns (total 2 columns):\n",
            "company_name    64 non-null object\n",
            "trips_amount    64 non-null int64\n",
            "dtypes: int64(1), object(1)\n",
            "memory usage: 1.1+ KB\n"
          ],
          "name": "stdout"
        }
      ]
    },
    {
      "cell_type": "code",
      "metadata": {
        "id": "VR536tsghqZX",
        "outputId": "691b470b-5543-4266-f78c-c65cd7e2b5bc"
      },
      "source": [
        "df2.head()"
      ],
      "execution_count": null,
      "outputs": [
        {
          "output_type": "execute_result",
          "data": {
            "text/html": [
              "<div>\n",
              "<style scoped>\n",
              "    .dataframe tbody tr th:only-of-type {\n",
              "        vertical-align: middle;\n",
              "    }\n",
              "\n",
              "    .dataframe tbody tr th {\n",
              "        vertical-align: top;\n",
              "    }\n",
              "\n",
              "    .dataframe thead th {\n",
              "        text-align: right;\n",
              "    }\n",
              "</style>\n",
              "<table border=\"1\" class=\"dataframe\">\n",
              "  <thead>\n",
              "    <tr style=\"text-align: right;\">\n",
              "      <th></th>\n",
              "      <th>dropoff_location_name</th>\n",
              "      <th>average_trips</th>\n",
              "    </tr>\n",
              "  </thead>\n",
              "  <tbody>\n",
              "    <tr>\n",
              "      <td>0</td>\n",
              "      <td>Loop</td>\n",
              "      <td>10727.466667</td>\n",
              "    </tr>\n",
              "    <tr>\n",
              "      <td>1</td>\n",
              "      <td>River North</td>\n",
              "      <td>9523.666667</td>\n",
              "    </tr>\n",
              "    <tr>\n",
              "      <td>2</td>\n",
              "      <td>Streeterville</td>\n",
              "      <td>6664.666667</td>\n",
              "    </tr>\n",
              "    <tr>\n",
              "      <td>3</td>\n",
              "      <td>West Loop</td>\n",
              "      <td>5163.666667</td>\n",
              "    </tr>\n",
              "    <tr>\n",
              "      <td>4</td>\n",
              "      <td>O'Hare</td>\n",
              "      <td>2546.900000</td>\n",
              "    </tr>\n",
              "  </tbody>\n",
              "</table>\n",
              "</div>"
            ],
            "text/plain": [
              "  dropoff_location_name  average_trips\n",
              "0                  Loop   10727.466667\n",
              "1           River North    9523.666667\n",
              "2         Streeterville    6664.666667\n",
              "3             West Loop    5163.666667\n",
              "4                O'Hare    2546.900000"
            ]
          },
          "metadata": {
            "tags": []
          },
          "execution_count": 7
        }
      ]
    },
    {
      "cell_type": "code",
      "metadata": {
        "scrolled": true,
        "id": "2wOau_90hqZe",
        "outputId": "d51406b3-5f31-4a01-b46d-1cf5c248ab1c"
      },
      "source": [
        "df2.info()"
      ],
      "execution_count": null,
      "outputs": [
        {
          "output_type": "stream",
          "text": [
            "<class 'pandas.core.frame.DataFrame'>\n",
            "RangeIndex: 94 entries, 0 to 93\n",
            "Data columns (total 2 columns):\n",
            "dropoff_location_name    94 non-null object\n",
            "average_trips            94 non-null float64\n",
            "dtypes: float64(1), object(1)\n",
            "memory usage: 1.6+ KB\n"
          ],
          "name": "stdout"
        }
      ]
    },
    {
      "cell_type": "markdown",
      "metadata": {
        "id": "BjjTnwJahqZk"
      },
      "source": [
        "#### Identifying the top 10 neighborhoods in terms of drop-offs"
      ]
    },
    {
      "cell_type": "code",
      "metadata": {
        "id": "pGuxzMlchqZl"
      },
      "source": [
        "top_10 = df2.sort_values(by='average_trips', ascending=False).head(10)"
      ],
      "execution_count": null,
      "outputs": []
    },
    {
      "cell_type": "code",
      "metadata": {
        "id": "Squ8hT2zhqZs",
        "outputId": "85d5d673-6009-4a3d-836e-33a5217cdd89"
      },
      "source": [
        "top_10"
      ],
      "execution_count": null,
      "outputs": [
        {
          "output_type": "execute_result",
          "data": {
            "text/html": [
              "<div>\n",
              "<style scoped>\n",
              "    .dataframe tbody tr th:only-of-type {\n",
              "        vertical-align: middle;\n",
              "    }\n",
              "\n",
              "    .dataframe tbody tr th {\n",
              "        vertical-align: top;\n",
              "    }\n",
              "\n",
              "    .dataframe thead th {\n",
              "        text-align: right;\n",
              "    }\n",
              "</style>\n",
              "<table border=\"1\" class=\"dataframe\">\n",
              "  <thead>\n",
              "    <tr style=\"text-align: right;\">\n",
              "      <th></th>\n",
              "      <th>dropoff_location_name</th>\n",
              "      <th>average_trips</th>\n",
              "    </tr>\n",
              "  </thead>\n",
              "  <tbody>\n",
              "    <tr>\n",
              "      <td>0</td>\n",
              "      <td>Loop</td>\n",
              "      <td>10727.466667</td>\n",
              "    </tr>\n",
              "    <tr>\n",
              "      <td>1</td>\n",
              "      <td>River North</td>\n",
              "      <td>9523.666667</td>\n",
              "    </tr>\n",
              "    <tr>\n",
              "      <td>2</td>\n",
              "      <td>Streeterville</td>\n",
              "      <td>6664.666667</td>\n",
              "    </tr>\n",
              "    <tr>\n",
              "      <td>3</td>\n",
              "      <td>West Loop</td>\n",
              "      <td>5163.666667</td>\n",
              "    </tr>\n",
              "    <tr>\n",
              "      <td>4</td>\n",
              "      <td>O'Hare</td>\n",
              "      <td>2546.900000</td>\n",
              "    </tr>\n",
              "    <tr>\n",
              "      <td>5</td>\n",
              "      <td>Lake View</td>\n",
              "      <td>2420.966667</td>\n",
              "    </tr>\n",
              "    <tr>\n",
              "      <td>6</td>\n",
              "      <td>Grant Park</td>\n",
              "      <td>2068.533333</td>\n",
              "    </tr>\n",
              "    <tr>\n",
              "      <td>7</td>\n",
              "      <td>Museum Campus</td>\n",
              "      <td>1510.000000</td>\n",
              "    </tr>\n",
              "    <tr>\n",
              "      <td>8</td>\n",
              "      <td>Gold Coast</td>\n",
              "      <td>1364.233333</td>\n",
              "    </tr>\n",
              "    <tr>\n",
              "      <td>9</td>\n",
              "      <td>Sheffield &amp; DePaul</td>\n",
              "      <td>1259.766667</td>\n",
              "    </tr>\n",
              "  </tbody>\n",
              "</table>\n",
              "</div>"
            ],
            "text/plain": [
              "  dropoff_location_name  average_trips\n",
              "0                  Loop   10727.466667\n",
              "1           River North    9523.666667\n",
              "2         Streeterville    6664.666667\n",
              "3             West Loop    5163.666667\n",
              "4                O'Hare    2546.900000\n",
              "5             Lake View    2420.966667\n",
              "6            Grant Park    2068.533333\n",
              "7         Museum Campus    1510.000000\n",
              "8            Gold Coast    1364.233333\n",
              "9    Sheffield & DePaul    1259.766667"
            ]
          },
          "metadata": {
            "tags": []
          },
          "execution_count": 10
        }
      ]
    },
    {
      "cell_type": "markdown",
      "metadata": {
        "id": "S721nmx8hqZy"
      },
      "source": [
        "#### Graph 1: Taxi Companies and Number of Rides"
      ]
    },
    {
      "cell_type": "code",
      "metadata": {
        "id": "qU-oflsQhqZy",
        "outputId": "cafd9fc1-644b-4b8f-aa59-cd992bec427e"
      },
      "source": [
        "df1.plot(kind='bar', x='company_name', title=\"Taxi Companies vs. Number of Rides\", figsize=(16,5)).set(xlabel=\"Taxi Companies\", ylabel=\"Number of Rides\")"
      ],
      "execution_count": null,
      "outputs": [
        {
          "output_type": "execute_result",
          "data": {
            "text/plain": [
              "[Text(0, 0.5, 'Number of Rides'), Text(0.5, 0, 'Taxi Companies')]"
            ]
          },
          "metadata": {
            "tags": []
          },
          "execution_count": 11
        },
        {
          "output_type": "display_data",
          "data": {
            "image/png": "[encoded data removed]",
            "text/plain": [
              "<Figure size 1152x360 with 1 Axes>"
            ]
          },
          "metadata": {
            "tags": [],
            "needs_background": "light"
          }
        }
      ]
    },
    {
      "cell_type": "markdown",
      "metadata": {
        "id": "8tDyM_7OhqZ5"
      },
      "source": [
        "#### Graph 2: Top 10 Neighborhoods by Number of Drop-offs"
      ]
    },
    {
      "cell_type": "code",
      "metadata": {
        "id": "9tb4iOZKhqZ5",
        "outputId": "b9ae7220-f86c-4eb7-a609-0739d954124f"
      },
      "source": [
        "top_10.plot(kind='bar', x='dropoff_location_name', title=\"Top 10 Neighborhoods vs. Number of Drop-offs\", figsize=(16,5)).set(xlabel=\"Neighborhoods\", ylabel=\"Number of Drop-offs\")"
      ],
      "execution_count": null,
      "outputs": [
        {
          "output_type": "execute_result",
          "data": {
            "text/plain": [
              "[Text(0, 0.5, 'Number of Drop-offs'), Text(0.5, 0, 'Neighborhoods')]"
            ]
          },
          "metadata": {
            "tags": []
          },
          "execution_count": 12
        },
        {
          "output_type": "display_data",
          "data": {
            "image/png": "[encoded data removed]",
            "text/plain": [
              "<Figure size 1152x360 with 1 Axes>"
            ]
          },
          "metadata": {
            "tags": [],
            "needs_background": "light"
          }
        }
      ]
    },
    {
      "cell_type": "markdown",
      "metadata": {
        "id": "6Hk83KmYhqaA"
      },
      "source": [
        "### Conclusion"
      ]
    },
    {
      "cell_type": "markdown",
      "metadata": {
        "id": "9-9lRzVbhqaB"
      },
      "source": [
        "2 files were imported.\n",
        "\n",
        "The first file, `df1`, contains taxi company names and the number of rides for each taxi company from November 15-16, 2017. The second file, `df2`, contains dropoff location names and the average number of rides that ended in each neighborhood in November 2017.\n",
        "\n",
        "The initial datatypes on both files are correct.\n",
        "\n",
        "\"Flash Cab\" is the dominant taxi company in the first dataset, having completed 19,558 rides on November 15-16, 2017. \"Taxi Affiliation Services\" follows at 11,422 rides, and \"Medallion Leasing\" at 10,367 rides. About half of the companies on the first dataset had little to no rides completed for November 15-16, 2017.\n",
        "\n",
        "The top 10 neighborhoods in terms of drop-offs are, in decreasing order: Loop, River North, Streeterville, West Loop, O'Hare, Lake View, Grant Park, Museum Campus, Gold Coast, and Sheffield & DePaul."
      ]
    },
    {
      "cell_type": "markdown",
      "metadata": {
        "id": "Gb0DWRo7hqaD"
      },
      "source": [
        "### Testing hypotheses (Python)"
      ]
    },
    {
      "cell_type": "code",
      "metadata": {
        "id": "j2Vh3hS1hqaE"
      },
      "source": [
        "df3 = pd.read_csv('/datasets/project_sql_result_07.csv')"
      ],
      "execution_count": null,
      "outputs": []
    },
    {
      "cell_type": "code",
      "metadata": {
        "id": "WIiD6EgrhqaK",
        "outputId": "94559d88-04a4-4ffc-e28a-72f3caca4739"
      },
      "source": [
        "df3.head()"
      ],
      "execution_count": null,
      "outputs": [
        {
          "output_type": "execute_result",
          "data": {
            "text/html": [
              "<div>\n",
              "<style scoped>\n",
              "    .dataframe tbody tr th:only-of-type {\n",
              "        vertical-align: middle;\n",
              "    }\n",
              "\n",
              "    .dataframe tbody tr th {\n",
              "        vertical-align: top;\n",
              "    }\n",
              "\n",
              "    .dataframe thead th {\n",
              "        text-align: right;\n",
              "    }\n",
              "</style>\n",
              "<table border=\"1\" class=\"dataframe\">\n",
              "  <thead>\n",
              "    <tr style=\"text-align: right;\">\n",
              "      <th></th>\n",
              "      <th>start_ts</th>\n",
              "      <th>weather_conditions</th>\n",
              "      <th>duration_seconds</th>\n",
              "    </tr>\n",
              "  </thead>\n",
              "  <tbody>\n",
              "    <tr>\n",
              "      <td>0</td>\n",
              "      <td>2017-11-25 16:00:00</td>\n",
              "      <td>Good</td>\n",
              "      <td>2410.0</td>\n",
              "    </tr>\n",
              "    <tr>\n",
              "      <td>1</td>\n",
              "      <td>2017-11-25 14:00:00</td>\n",
              "      <td>Good</td>\n",
              "      <td>1920.0</td>\n",
              "    </tr>\n",
              "    <tr>\n",
              "      <td>2</td>\n",
              "      <td>2017-11-25 12:00:00</td>\n",
              "      <td>Good</td>\n",
              "      <td>1543.0</td>\n",
              "    </tr>\n",
              "    <tr>\n",
              "      <td>3</td>\n",
              "      <td>2017-11-04 10:00:00</td>\n",
              "      <td>Good</td>\n",
              "      <td>2512.0</td>\n",
              "    </tr>\n",
              "    <tr>\n",
              "      <td>4</td>\n",
              "      <td>2017-11-11 07:00:00</td>\n",
              "      <td>Good</td>\n",
              "      <td>1440.0</td>\n",
              "    </tr>\n",
              "  </tbody>\n",
              "</table>\n",
              "</div>"
            ],
            "text/plain": [
              "              start_ts weather_conditions  duration_seconds\n",
              "0  2017-11-25 16:00:00               Good            2410.0\n",
              "1  2017-11-25 14:00:00               Good            1920.0\n",
              "2  2017-11-25 12:00:00               Good            1543.0\n",
              "3  2017-11-04 10:00:00               Good            2512.0\n",
              "4  2017-11-11 07:00:00               Good            1440.0"
            ]
          },
          "metadata": {
            "tags": []
          },
          "execution_count": 14
        }
      ]
    },
    {
      "cell_type": "code",
      "metadata": {
        "id": "UvKeyhrAhqaQ",
        "outputId": "21390303-0833-4b94-bee9-8b6fb56a7ac8"
      },
      "source": [
        "df3.info()"
      ],
      "execution_count": null,
      "outputs": [
        {
          "output_type": "stream",
          "text": [
            "<class 'pandas.core.frame.DataFrame'>\n",
            "RangeIndex: 1068 entries, 0 to 1067\n",
            "Data columns (total 3 columns):\n",
            "start_ts              1068 non-null object\n",
            "weather_conditions    1068 non-null object\n",
            "duration_seconds      1068 non-null float64\n",
            "dtypes: float64(1), object(2)\n",
            "memory usage: 25.2+ KB\n"
          ],
          "name": "stdout"
        }
      ]
    },
    {
      "cell_type": "code",
      "metadata": {
        "id": "Ry2Zb_eZhqaT"
      },
      "source": [
        "df3['start_ts'] = pd.to_datetime(df3['start_ts'])"
      ],
      "execution_count": null,
      "outputs": []
    },
    {
      "cell_type": "markdown",
      "metadata": {
        "id": "reBmmHQrhqaY"
      },
      "source": [
        "`df3` contains data on Saturday rides from the Loop to O'Hare International Airport.\n",
        "\n",
        "`start_ts` is converted from an object datatype into a datetime column to better suit the data contained in the column."
      ]
    },
    {
      "cell_type": "markdown",
      "metadata": {
        "id": "hKoWL7mthqaa"
      },
      "source": [
        "#### Hypothesis: The average duration of rides from the Loop to O'Hare International Airport changes on rainy Saturdays."
      ]
    },
    {
      "cell_type": "code",
      "metadata": {
        "id": "g0E3qcFmhqab",
        "outputId": "0d55ad50-0037-48ba-c460-b8b21459be5f"
      },
      "source": [
        "st.levene(df3.loc[df3['weather_conditions'] == 'Good', 'duration_seconds'], df3.loc[df3['weather_conditions'] == 'Bad', 'duration_seconds'])"
      ],
      "execution_count": null,
      "outputs": [
        {
          "output_type": "execute_result",
          "data": {
            "text/plain": [
              "LeveneResult(statistic=0.38853489683656073, pvalue=0.5332038671974493)"
            ]
          },
          "metadata": {
            "tags": []
          },
          "execution_count": 17
        }
      ]
    },
    {
      "cell_type": "code",
      "metadata": {
        "id": "riKiVMd0hqah",
        "outputId": "f5115c80-76f4-4559-e866-b1b6c9b5b4b7"
      },
      "source": [
        "saturday_rides = st.ttest_ind(df3.loc[df3['weather_conditions'] == 'Good', 'duration_seconds'], df3.loc[df3['weather_conditions'] == 'Bad', 'duration_seconds'])\n",
        "\n",
        "alpha = .05\n",
        "\n",
        "print('p-value: ', saturday_rides.pvalue)\n",
        "\n",
        "if (saturday_rides.pvalue < alpha):\n",
        "        print(\"We reject the null hypothesis\")\n",
        "else:\n",
        "        print(\"We fail to reject the null hypothesis\")"
      ],
      "execution_count": null,
      "outputs": [
        {
          "output_type": "stream",
          "text": [
            "p-value:  6.517970327099473e-12\n",
            "We reject the null hypothesis\n"
          ],
          "name": "stdout"
        }
      ]
    },
    {
      "cell_type": "markdown",
      "metadata": {
        "id": "xf7vUQRThqao"
      },
      "source": [
        "### Conclusion"
      ]
    },
    {
      "cell_type": "markdown",
      "metadata": {
        "id": "jkZEFm-ahqaq"
      },
      "source": [
        "H0: The average duration of rides from the Loop to O'Hare International Airport is the same in all types of weather on Saturdays\n",
        "\n",
        "H1: The average duration of rides from the Loop to O'Hare International Airport changes on rainy Saturdays\n",
        "\n",
        "`st.ttest_ind()` from the SciPy library is used to test this hypothesis because we are analyzing the means of two independent statistical populations. `equal_var` is kept as True here because the p-value returned from Levene's test is greater than 0.05. \n",
        "\n",
        "The resulting p-value of this hypothesis test is less than 0.05, so we reject the null hypothesis. Therefore, the average duration of rides from the Loop to O'Hare International Airport changes on rainy Saturdays."
      ]
    },
    {
      "cell_type": "code",
      "metadata": {
        "id": "ToD5A-VRhqas"
      },
      "source": [
        ""
      ],
      "execution_count": null,
      "outputs": []
    }
  ]
}