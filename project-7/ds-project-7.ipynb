{
  "nbformat": 4,
  "nbformat_minor": 0,
  "metadata": {
    "kernelspec": {
      "display_name": "Python 3",
      "language": "python",
      "name": "python3"
    },
    "language_info": {
      "codemirror_mode": {
        "name": "ipython",
        "version": 3
      },
      "file_extension": ".py",
      "mimetype": "text/x-python",
      "name": "python",
      "nbconvert_exporter": "python",
      "pygments_lexer": "ipython3",
      "version": "3.7.6"
    },
    "colab": {
      "name": "ds-project-7.ipynb",
      "provenance": []
    }
  },
  "cells": [
    {
      "cell_type": "markdown",
      "metadata": {
        "id": "0zWten_9kXte"
      },
      "source": [
        "## Predicting customer behavior"
      ]
    },
    {
      "cell_type": "markdown",
      "metadata": {
        "id": "UMNnbicQkXtg"
      },
      "source": [
        "Data on clients’ past behavior and termination of contracts with a bank will be used to predict is a customer will leave the bank soon. A model with the maximum possible F1 score will be built."
      ]
    },
    {
      "cell_type": "markdown",
      "metadata": {
        "id": "C1-EX6vTkXti"
      },
      "source": [
        "### Step 1. Downloading and preparing the data"
      ]
    },
    {
      "cell_type": "code",
      "metadata": {
        "id": "2_yUIB6SkXtl"
      },
      "source": [
        "import pandas as pd\n",
        "from sklearn.model_selection import train_test_split\n",
        "from sklearn.tree import DecisionTreeClassifier\n",
        "from sklearn.ensemble import RandomForestClassifier\n",
        "from sklearn.metrics import f1_score\n",
        "from sklearn.utils import shuffle\n",
        "from sklearn.metrics import roc_auc_score"
      ],
      "execution_count": null,
      "outputs": []
    },
    {
      "cell_type": "code",
      "metadata": {
        "id": "TV3bozPvkXtz"
      },
      "source": [
        "df = pd.read_csv('/datasets/Churn.csv')"
      ],
      "execution_count": null,
      "outputs": []
    },
    {
      "cell_type": "code",
      "metadata": {
        "id": "UiHiMeoukXt-",
        "outputId": "a88acf1b-cc31-4bb6-c1b3-89dda93d5983"
      },
      "source": [
        "df.head()"
      ],
      "execution_count": null,
      "outputs": [
        {
          "output_type": "execute_result",
          "data": {
            "text/html": [
              "<div>\n",
              "<style scoped>\n",
              "    .dataframe tbody tr th:only-of-type {\n",
              "        vertical-align: middle;\n",
              "    }\n",
              "\n",
              "    .dataframe tbody tr th {\n",
              "        vertical-align: top;\n",
              "    }\n",
              "\n",
              "    .dataframe thead th {\n",
              "        text-align: right;\n",
              "    }\n",
              "</style>\n",
              "<table border=\"1\" class=\"dataframe\">\n",
              "  <thead>\n",
              "    <tr style=\"text-align: right;\">\n",
              "      <th></th>\n",
              "      <th>RowNumber</th>\n",
              "      <th>CustomerId</th>\n",
              "      <th>Surname</th>\n",
              "      <th>CreditScore</th>\n",
              "      <th>Geography</th>\n",
              "      <th>Gender</th>\n",
              "      <th>Age</th>\n",
              "      <th>Tenure</th>\n",
              "      <th>Balance</th>\n",
              "      <th>NumOfProducts</th>\n",
              "      <th>HasCrCard</th>\n",
              "      <th>IsActiveMember</th>\n",
              "      <th>EstimatedSalary</th>\n",
              "      <th>Exited</th>\n",
              "    </tr>\n",
              "  </thead>\n",
              "  <tbody>\n",
              "    <tr>\n",
              "      <td>0</td>\n",
              "      <td>1</td>\n",
              "      <td>15634602</td>\n",
              "      <td>Hargrave</td>\n",
              "      <td>619</td>\n",
              "      <td>France</td>\n",
              "      <td>Female</td>\n",
              "      <td>42</td>\n",
              "      <td>2.0</td>\n",
              "      <td>0.00</td>\n",
              "      <td>1</td>\n",
              "      <td>1</td>\n",
              "      <td>1</td>\n",
              "      <td>101348.88</td>\n",
              "      <td>1</td>\n",
              "    </tr>\n",
              "    <tr>\n",
              "      <td>1</td>\n",
              "      <td>2</td>\n",
              "      <td>15647311</td>\n",
              "      <td>Hill</td>\n",
              "      <td>608</td>\n",
              "      <td>Spain</td>\n",
              "      <td>Female</td>\n",
              "      <td>41</td>\n",
              "      <td>1.0</td>\n",
              "      <td>83807.86</td>\n",
              "      <td>1</td>\n",
              "      <td>0</td>\n",
              "      <td>1</td>\n",
              "      <td>112542.58</td>\n",
              "      <td>0</td>\n",
              "    </tr>\n",
              "    <tr>\n",
              "      <td>2</td>\n",
              "      <td>3</td>\n",
              "      <td>15619304</td>\n",
              "      <td>Onio</td>\n",
              "      <td>502</td>\n",
              "      <td>France</td>\n",
              "      <td>Female</td>\n",
              "      <td>42</td>\n",
              "      <td>8.0</td>\n",
              "      <td>159660.80</td>\n",
              "      <td>3</td>\n",
              "      <td>1</td>\n",
              "      <td>0</td>\n",
              "      <td>113931.57</td>\n",
              "      <td>1</td>\n",
              "    </tr>\n",
              "    <tr>\n",
              "      <td>3</td>\n",
              "      <td>4</td>\n",
              "      <td>15701354</td>\n",
              "      <td>Boni</td>\n",
              "      <td>699</td>\n",
              "      <td>France</td>\n",
              "      <td>Female</td>\n",
              "      <td>39</td>\n",
              "      <td>1.0</td>\n",
              "      <td>0.00</td>\n",
              "      <td>2</td>\n",
              "      <td>0</td>\n",
              "      <td>0</td>\n",
              "      <td>93826.63</td>\n",
              "      <td>0</td>\n",
              "    </tr>\n",
              "    <tr>\n",
              "      <td>4</td>\n",
              "      <td>5</td>\n",
              "      <td>15737888</td>\n",
              "      <td>Mitchell</td>\n",
              "      <td>850</td>\n",
              "      <td>Spain</td>\n",
              "      <td>Female</td>\n",
              "      <td>43</td>\n",
              "      <td>2.0</td>\n",
              "      <td>125510.82</td>\n",
              "      <td>1</td>\n",
              "      <td>1</td>\n",
              "      <td>1</td>\n",
              "      <td>79084.10</td>\n",
              "      <td>0</td>\n",
              "    </tr>\n",
              "  </tbody>\n",
              "</table>\n",
              "</div>"
            ],
            "text/plain": [
              "   RowNumber  CustomerId   Surname  CreditScore Geography  Gender  Age  \\\n",
              "0          1    15634602  Hargrave          619    France  Female   42   \n",
              "1          2    15647311      Hill          608     Spain  Female   41   \n",
              "2          3    15619304      Onio          502    France  Female   42   \n",
              "3          4    15701354      Boni          699    France  Female   39   \n",
              "4          5    15737888  Mitchell          850     Spain  Female   43   \n",
              "\n",
              "   Tenure    Balance  NumOfProducts  HasCrCard  IsActiveMember  \\\n",
              "0     2.0       0.00              1          1               1   \n",
              "1     1.0   83807.86              1          0               1   \n",
              "2     8.0  159660.80              3          1               0   \n",
              "3     1.0       0.00              2          0               0   \n",
              "4     2.0  125510.82              1          1               1   \n",
              "\n",
              "   EstimatedSalary  Exited  \n",
              "0        101348.88       1  \n",
              "1        112542.58       0  \n",
              "2        113931.57       1  \n",
              "3         93826.63       0  \n",
              "4         79084.10       0  "
            ]
          },
          "metadata": {
            "tags": []
          },
          "execution_count": 3
        }
      ]
    },
    {
      "cell_type": "code",
      "metadata": {
        "id": "XDF3sa2AkXuG",
        "outputId": "6b0b5962-2908-42d5-c834-42ac31951f06"
      },
      "source": [
        "df.info()"
      ],
      "execution_count": null,
      "outputs": [
        {
          "output_type": "stream",
          "text": [
            "<class 'pandas.core.frame.DataFrame'>\n",
            "RangeIndex: 10000 entries, 0 to 9999\n",
            "Data columns (total 14 columns):\n",
            "RowNumber          10000 non-null int64\n",
            "CustomerId         10000 non-null int64\n",
            "Surname            10000 non-null object\n",
            "CreditScore        10000 non-null int64\n",
            "Geography          10000 non-null object\n",
            "Gender             10000 non-null object\n",
            "Age                10000 non-null int64\n",
            "Tenure             9091 non-null float64\n",
            "Balance            10000 non-null float64\n",
            "NumOfProducts      10000 non-null int64\n",
            "HasCrCard          10000 non-null int64\n",
            "IsActiveMember     10000 non-null int64\n",
            "EstimatedSalary    10000 non-null float64\n",
            "Exited             10000 non-null int64\n",
            "dtypes: float64(3), int64(8), object(3)\n",
            "memory usage: 1.1+ MB\n"
          ],
          "name": "stdout"
        }
      ]
    },
    {
      "cell_type": "markdown",
      "metadata": {
        "id": "fYPQDa_8kXuR"
      },
      "source": [
        "All data columns except for `Tenure` appear to have the correct datatypes. The `Tenure` column in this dataset is counted in whole years, so it is better to convert this column into an `int` datatype. `Tenure` also has 909 null values which should be inspected further.\n",
        "\n",
        "`EstimatedSalary` can also be changed from a `float` datatype into a `int` datatype since annual salaries are normally thought of as whole numbers, but this will be left unchanged to preserve accuracy.\n",
        "\n",
        "`Geography` and `Gender` are two non-numeric features that should be converted. `Gender` can be converted into 1/0 (binary) values. `Geography` likely has more than 2 different values, so the column should be converted into dummy variables."
      ]
    },
    {
      "cell_type": "code",
      "metadata": {
        "id": "3os9xGY0kXuS",
        "outputId": "9eb7438e-e6ca-4b83-ae34-72e121dddf89"
      },
      "source": [
        "df.describe()"
      ],
      "execution_count": null,
      "outputs": [
        {
          "output_type": "execute_result",
          "data": {
            "text/html": [
              "<div>\n",
              "<style scoped>\n",
              "    .dataframe tbody tr th:only-of-type {\n",
              "        vertical-align: middle;\n",
              "    }\n",
              "\n",
              "    .dataframe tbody tr th {\n",
              "        vertical-align: top;\n",
              "    }\n",
              "\n",
              "    .dataframe thead th {\n",
              "        text-align: right;\n",
              "    }\n",
              "</style>\n",
              "<table border=\"1\" class=\"dataframe\">\n",
              "  <thead>\n",
              "    <tr style=\"text-align: right;\">\n",
              "      <th></th>\n",
              "      <th>RowNumber</th>\n",
              "      <th>CustomerId</th>\n",
              "      <th>CreditScore</th>\n",
              "      <th>Age</th>\n",
              "      <th>Tenure</th>\n",
              "      <th>Balance</th>\n",
              "      <th>NumOfProducts</th>\n",
              "      <th>HasCrCard</th>\n",
              "      <th>IsActiveMember</th>\n",
              "      <th>EstimatedSalary</th>\n",
              "      <th>Exited</th>\n",
              "    </tr>\n",
              "  </thead>\n",
              "  <tbody>\n",
              "    <tr>\n",
              "      <td>count</td>\n",
              "      <td>10000.00000</td>\n",
              "      <td>1.000000e+04</td>\n",
              "      <td>10000.000000</td>\n",
              "      <td>10000.000000</td>\n",
              "      <td>9091.000000</td>\n",
              "      <td>10000.000000</td>\n",
              "      <td>10000.000000</td>\n",
              "      <td>10000.00000</td>\n",
              "      <td>10000.000000</td>\n",
              "      <td>10000.000000</td>\n",
              "      <td>10000.000000</td>\n",
              "    </tr>\n",
              "    <tr>\n",
              "      <td>mean</td>\n",
              "      <td>5000.50000</td>\n",
              "      <td>1.569094e+07</td>\n",
              "      <td>650.528800</td>\n",
              "      <td>38.921800</td>\n",
              "      <td>4.997690</td>\n",
              "      <td>76485.889288</td>\n",
              "      <td>1.530200</td>\n",
              "      <td>0.70550</td>\n",
              "      <td>0.515100</td>\n",
              "      <td>100090.239881</td>\n",
              "      <td>0.203700</td>\n",
              "    </tr>\n",
              "    <tr>\n",
              "      <td>std</td>\n",
              "      <td>2886.89568</td>\n",
              "      <td>7.193619e+04</td>\n",
              "      <td>96.653299</td>\n",
              "      <td>10.487806</td>\n",
              "      <td>2.894723</td>\n",
              "      <td>62397.405202</td>\n",
              "      <td>0.581654</td>\n",
              "      <td>0.45584</td>\n",
              "      <td>0.499797</td>\n",
              "      <td>57510.492818</td>\n",
              "      <td>0.402769</td>\n",
              "    </tr>\n",
              "    <tr>\n",
              "      <td>min</td>\n",
              "      <td>1.00000</td>\n",
              "      <td>1.556570e+07</td>\n",
              "      <td>350.000000</td>\n",
              "      <td>18.000000</td>\n",
              "      <td>0.000000</td>\n",
              "      <td>0.000000</td>\n",
              "      <td>1.000000</td>\n",
              "      <td>0.00000</td>\n",
              "      <td>0.000000</td>\n",
              "      <td>11.580000</td>\n",
              "      <td>0.000000</td>\n",
              "    </tr>\n",
              "    <tr>\n",
              "      <td>25%</td>\n",
              "      <td>2500.75000</td>\n",
              "      <td>1.562853e+07</td>\n",
              "      <td>584.000000</td>\n",
              "      <td>32.000000</td>\n",
              "      <td>2.000000</td>\n",
              "      <td>0.000000</td>\n",
              "      <td>1.000000</td>\n",
              "      <td>0.00000</td>\n",
              "      <td>0.000000</td>\n",
              "      <td>51002.110000</td>\n",
              "      <td>0.000000</td>\n",
              "    </tr>\n",
              "    <tr>\n",
              "      <td>50%</td>\n",
              "      <td>5000.50000</td>\n",
              "      <td>1.569074e+07</td>\n",
              "      <td>652.000000</td>\n",
              "      <td>37.000000</td>\n",
              "      <td>5.000000</td>\n",
              "      <td>97198.540000</td>\n",
              "      <td>1.000000</td>\n",
              "      <td>1.00000</td>\n",
              "      <td>1.000000</td>\n",
              "      <td>100193.915000</td>\n",
              "      <td>0.000000</td>\n",
              "    </tr>\n",
              "    <tr>\n",
              "      <td>75%</td>\n",
              "      <td>7500.25000</td>\n",
              "      <td>1.575323e+07</td>\n",
              "      <td>718.000000</td>\n",
              "      <td>44.000000</td>\n",
              "      <td>7.000000</td>\n",
              "      <td>127644.240000</td>\n",
              "      <td>2.000000</td>\n",
              "      <td>1.00000</td>\n",
              "      <td>1.000000</td>\n",
              "      <td>149388.247500</td>\n",
              "      <td>0.000000</td>\n",
              "    </tr>\n",
              "    <tr>\n",
              "      <td>max</td>\n",
              "      <td>10000.00000</td>\n",
              "      <td>1.581569e+07</td>\n",
              "      <td>850.000000</td>\n",
              "      <td>92.000000</td>\n",
              "      <td>10.000000</td>\n",
              "      <td>250898.090000</td>\n",
              "      <td>4.000000</td>\n",
              "      <td>1.00000</td>\n",
              "      <td>1.000000</td>\n",
              "      <td>199992.480000</td>\n",
              "      <td>1.000000</td>\n",
              "    </tr>\n",
              "  </tbody>\n",
              "</table>\n",
              "</div>"
            ],
            "text/plain": [
              "         RowNumber    CustomerId   CreditScore           Age       Tenure  \\\n",
              "count  10000.00000  1.000000e+04  10000.000000  10000.000000  9091.000000   \n",
              "mean    5000.50000  1.569094e+07    650.528800     38.921800     4.997690   \n",
              "std     2886.89568  7.193619e+04     96.653299     10.487806     2.894723   \n",
              "min        1.00000  1.556570e+07    350.000000     18.000000     0.000000   \n",
              "25%     2500.75000  1.562853e+07    584.000000     32.000000     2.000000   \n",
              "50%     5000.50000  1.569074e+07    652.000000     37.000000     5.000000   \n",
              "75%     7500.25000  1.575323e+07    718.000000     44.000000     7.000000   \n",
              "max    10000.00000  1.581569e+07    850.000000     92.000000    10.000000   \n",
              "\n",
              "             Balance  NumOfProducts    HasCrCard  IsActiveMember  \\\n",
              "count   10000.000000   10000.000000  10000.00000    10000.000000   \n",
              "mean    76485.889288       1.530200      0.70550        0.515100   \n",
              "std     62397.405202       0.581654      0.45584        0.499797   \n",
              "min         0.000000       1.000000      0.00000        0.000000   \n",
              "25%         0.000000       1.000000      0.00000        0.000000   \n",
              "50%     97198.540000       1.000000      1.00000        1.000000   \n",
              "75%    127644.240000       2.000000      1.00000        1.000000   \n",
              "max    250898.090000       4.000000      1.00000        1.000000   \n",
              "\n",
              "       EstimatedSalary        Exited  \n",
              "count     10000.000000  10000.000000  \n",
              "mean     100090.239881      0.203700  \n",
              "std       57510.492818      0.402769  \n",
              "min          11.580000      0.000000  \n",
              "25%       51002.110000      0.000000  \n",
              "50%      100193.915000      0.000000  \n",
              "75%      149388.247500      0.000000  \n",
              "max      199992.480000      1.000000  "
            ]
          },
          "metadata": {
            "tags": []
          },
          "execution_count": 5
        }
      ]
    },
    {
      "cell_type": "markdown",
      "metadata": {
        "id": "lOg1qR43kXuc"
      },
      "source": [
        "#### Inspecting the contents of each column"
      ]
    },
    {
      "cell_type": "markdown",
      "metadata": {
        "id": "qBMNw83lkXue"
      },
      "source": [
        "Each column will be reviewed to check the values it contains and to make sure there are no unusual values."
      ]
    },
    {
      "cell_type": "code",
      "metadata": {
        "id": "nBJPOB2HkXug",
        "outputId": "19db5103-efbc-4fd0-865a-0bda7f0bd3be"
      },
      "source": [
        "df['RowNumber'].value_counts()"
      ],
      "execution_count": null,
      "outputs": [
        {
          "output_type": "execute_result",
          "data": {
            "text/plain": [
              "2047    1\n",
              "5424    1\n",
              "1338    1\n",
              "7481    1\n",
              "5432    1\n",
              "       ..\n",
              "2716    1\n",
              "8857    1\n",
              "4759    1\n",
              "6806    1\n",
              "2049    1\n",
              "Name: RowNumber, Length: 10000, dtype: int64"
            ]
          },
          "metadata": {
            "tags": []
          },
          "execution_count": 6
        }
      ]
    },
    {
      "cell_type": "markdown",
      "metadata": {
        "id": "cJmXasUEkXum"
      },
      "source": [
        "The `RowNumber` column indicates the index number of each customer, with the index number starting at 1."
      ]
    },
    {
      "cell_type": "code",
      "metadata": {
        "id": "nYBVTHCikXun",
        "outputId": "6d367bc5-088e-493f-c5dd-917145c1ae09"
      },
      "source": [
        "df['CustomerId'].value_counts()"
      ],
      "execution_count": null,
      "outputs": [
        {
          "output_type": "execute_result",
          "data": {
            "text/plain": [
              "15812607    1\n",
              "15741078    1\n",
              "15635776    1\n",
              "15740223    1\n",
              "15738174    1\n",
              "           ..\n",
              "15743714    1\n",
              "15639265    1\n",
              "15641312    1\n",
              "15684319    1\n",
              "15695872    1\n",
              "Name: CustomerId, Length: 10000, dtype: int64"
            ]
          },
          "metadata": {
            "tags": []
          },
          "execution_count": 7
        }
      ]
    },
    {
      "cell_type": "markdown",
      "metadata": {
        "id": "X8cdj0fVkXuu"
      },
      "source": [
        "The `CustomerId` column indicates the unique customer identifier."
      ]
    },
    {
      "cell_type": "code",
      "metadata": {
        "id": "EoH4UB0okXuv",
        "outputId": "308ba548-439b-4714-bce4-3c9dd02752ce"
      },
      "source": [
        "df['Surname'].value_counts()"
      ],
      "execution_count": null,
      "outputs": [
        {
          "output_type": "execute_result",
          "data": {
            "text/plain": [
              "Smith        32\n",
              "Scott        29\n",
              "Martin       29\n",
              "Walker       28\n",
              "Brown        26\n",
              "             ..\n",
              "Hodge         1\n",
              "Peyser        1\n",
              "Darling       1\n",
              "Sheffield     1\n",
              "Steere        1\n",
              "Name: Surname, Length: 2932, dtype: int64"
            ]
          },
          "metadata": {
            "tags": []
          },
          "execution_count": 8
        }
      ]
    },
    {
      "cell_type": "markdown",
      "metadata": {
        "id": "Bd9lQqFAkXu3"
      },
      "source": [
        "The `Surname` column indicates the customer's surname."
      ]
    },
    {
      "cell_type": "code",
      "metadata": {
        "id": "icxFHJDZkXu3",
        "outputId": "95e2a3fc-7f26-4d1b-9cff-a2587fd71aab"
      },
      "source": [
        "df['CreditScore'].value_counts()"
      ],
      "execution_count": null,
      "outputs": [
        {
          "output_type": "execute_result",
          "data": {
            "text/plain": [
              "850    233\n",
              "678     63\n",
              "655     54\n",
              "705     53\n",
              "667     53\n",
              "      ... \n",
              "419      1\n",
              "417      1\n",
              "373      1\n",
              "365      1\n",
              "401      1\n",
              "Name: CreditScore, Length: 460, dtype: int64"
            ]
          },
          "metadata": {
            "tags": []
          },
          "execution_count": 9
        }
      ]
    },
    {
      "cell_type": "markdown",
      "metadata": {
        "id": "OIvb8aM9kXvA"
      },
      "source": [
        "The `CreditScore` column indicates the customer's credit score."
      ]
    },
    {
      "cell_type": "code",
      "metadata": {
        "id": "NGSp7XsakXvC",
        "outputId": "1de00de6-2e48-4989-cfbc-271a0372c584"
      },
      "source": [
        "df['Geography'].value_counts()"
      ],
      "execution_count": null,
      "outputs": [
        {
          "output_type": "execute_result",
          "data": {
            "text/plain": [
              "France     5014\n",
              "Germany    2509\n",
              "Spain      2477\n",
              "Name: Geography, dtype: int64"
            ]
          },
          "metadata": {
            "tags": []
          },
          "execution_count": 10
        }
      ]
    },
    {
      "cell_type": "markdown",
      "metadata": {
        "id": "wOi2dP5_kXvH"
      },
      "source": [
        "The `Geography` column indicates the customer's country of residence."
      ]
    },
    {
      "cell_type": "code",
      "metadata": {
        "id": "UpDcYL_okXvJ",
        "outputId": "f276ae96-d11b-4adc-cbc1-f8e798911aa0"
      },
      "source": [
        "df['Gender'].value_counts()"
      ],
      "execution_count": null,
      "outputs": [
        {
          "output_type": "execute_result",
          "data": {
            "text/plain": [
              "Male      5457\n",
              "Female    4543\n",
              "Name: Gender, dtype: int64"
            ]
          },
          "metadata": {
            "tags": []
          },
          "execution_count": 11
        }
      ]
    },
    {
      "cell_type": "markdown",
      "metadata": {
        "id": "-PZ1kywnkXvR"
      },
      "source": [
        "The `Gender` column indicates the customer's gender."
      ]
    },
    {
      "cell_type": "code",
      "metadata": {
        "id": "RBviEDXDkXvS",
        "outputId": "7863820d-ec43-4e43-efe2-33d9c5152299"
      },
      "source": [
        "df['Age'].value_counts()"
      ],
      "execution_count": null,
      "outputs": [
        {
          "output_type": "execute_result",
          "data": {
            "text/plain": [
              "37    478\n",
              "38    477\n",
              "35    474\n",
              "36    456\n",
              "34    447\n",
              "     ... \n",
              "92      2\n",
              "88      1\n",
              "82      1\n",
              "85      1\n",
              "83      1\n",
              "Name: Age, Length: 70, dtype: int64"
            ]
          },
          "metadata": {
            "tags": []
          },
          "execution_count": 12
        }
      ]
    },
    {
      "cell_type": "markdown",
      "metadata": {
        "id": "QEgYTO3ikXvX"
      },
      "source": [
        "The `Age` column indicates the customer's age."
      ]
    },
    {
      "cell_type": "code",
      "metadata": {
        "id": "DJb9SCz5kXvY",
        "outputId": "145d2023-6176-473b-f536-91509c44042c"
      },
      "source": [
        "df['Tenure'].value_counts()"
      ],
      "execution_count": null,
      "outputs": [
        {
          "output_type": "execute_result",
          "data": {
            "text/plain": [
              "1.0     952\n",
              "2.0     950\n",
              "8.0     933\n",
              "3.0     928\n",
              "5.0     927\n",
              "7.0     925\n",
              "4.0     885\n",
              "9.0     882\n",
              "6.0     881\n",
              "10.0    446\n",
              "0.0     382\n",
              "Name: Tenure, dtype: int64"
            ]
          },
          "metadata": {
            "tags": []
          },
          "execution_count": 13
        }
      ]
    },
    {
      "cell_type": "markdown",
      "metadata": {
        "id": "TOQvtKr-kXvg"
      },
      "source": [
        "The `Tenure` column indicates the period of maturation for a customer’s fixed deposit in years."
      ]
    },
    {
      "cell_type": "code",
      "metadata": {
        "id": "5z4KR1_1kXvi",
        "outputId": "71d66c48-447f-4d10-c256-3d0337525946"
      },
      "source": [
        "df['Balance'].value_counts()"
      ],
      "execution_count": null,
      "outputs": [
        {
          "output_type": "execute_result",
          "data": {
            "text/plain": [
              "0.00         3617\n",
              "105473.74       2\n",
              "130170.82       2\n",
              "113063.83       1\n",
              "80242.37        1\n",
              "             ... \n",
              "183555.24       1\n",
              "137648.41       1\n",
              "112689.95       1\n",
              "115465.28       1\n",
              "74681.90        1\n",
              "Name: Balance, Length: 6382, dtype: int64"
            ]
          },
          "metadata": {
            "tags": []
          },
          "execution_count": 14
        }
      ]
    },
    {
      "cell_type": "markdown",
      "metadata": {
        "id": "nwQb9-6SkXvm"
      },
      "source": [
        "The `Balance` column indicates the account balance on the customer's account."
      ]
    },
    {
      "cell_type": "code",
      "metadata": {
        "id": "uZ_loKDZkXvo",
        "outputId": "86402aa4-7a9d-4da0-f233-c4740f4afb23"
      },
      "source": [
        "df['NumOfProducts'].value_counts()"
      ],
      "execution_count": null,
      "outputs": [
        {
          "output_type": "execute_result",
          "data": {
            "text/plain": [
              "1    5084\n",
              "2    4590\n",
              "3     266\n",
              "4      60\n",
              "Name: NumOfProducts, dtype: int64"
            ]
          },
          "metadata": {
            "tags": []
          },
          "execution_count": 15
        }
      ]
    },
    {
      "cell_type": "markdown",
      "metadata": {
        "id": "D7qnnHhWkXvs"
      },
      "source": [
        "The `NumOfProducts` column indicates the number of banking products used by the customer."
      ]
    },
    {
      "cell_type": "code",
      "metadata": {
        "id": "VW9DsuKykXvt",
        "outputId": "f470d5f0-e7c7-486d-fdc5-0464a4cdc3aa"
      },
      "source": [
        "df['HasCrCard'].value_counts()"
      ],
      "execution_count": null,
      "outputs": [
        {
          "output_type": "execute_result",
          "data": {
            "text/plain": [
              "1    7055\n",
              "0    2945\n",
              "Name: HasCrCard, dtype: int64"
            ]
          },
          "metadata": {
            "tags": []
          },
          "execution_count": 16
        }
      ]
    },
    {
      "cell_type": "markdown",
      "metadata": {
        "id": "d4VIcaSSkXv2"
      },
      "source": [
        "The `HasCrCard` column indicates if the customer has a credit card."
      ]
    },
    {
      "cell_type": "code",
      "metadata": {
        "id": "wZT_2gRAkXv2",
        "outputId": "bf560b01-3882-48e7-8111-2fb099a5e467"
      },
      "source": [
        "df['IsActiveMember'].value_counts()"
      ],
      "execution_count": null,
      "outputs": [
        {
          "output_type": "execute_result",
          "data": {
            "text/plain": [
              "1    5151\n",
              "0    4849\n",
              "Name: IsActiveMember, dtype: int64"
            ]
          },
          "metadata": {
            "tags": []
          },
          "execution_count": 17
        }
      ]
    },
    {
      "cell_type": "markdown",
      "metadata": {
        "id": "l7YiEKUckXv7"
      },
      "source": [
        "The `IsActiveMember` column indicates the customer's activeness."
      ]
    },
    {
      "cell_type": "code",
      "metadata": {
        "id": "L5SsITxikXv7",
        "outputId": "3bf3bc86-efcf-46f5-dd84-1e5284c8dbf3"
      },
      "source": [
        "df['EstimatedSalary'].value_counts()"
      ],
      "execution_count": null,
      "outputs": [
        {
          "output_type": "execute_result",
          "data": {
            "text/plain": [
              "24924.92     2\n",
              "109029.72    1\n",
              "182025.95    1\n",
              "82820.85     1\n",
              "30314.04     1\n",
              "            ..\n",
              "158302.59    1\n",
              "171037.63    1\n",
              "43036.60     1\n",
              "55034.02     1\n",
              "104181.78    1\n",
              "Name: EstimatedSalary, Length: 9999, dtype: int64"
            ]
          },
          "metadata": {
            "tags": []
          },
          "execution_count": 18
        }
      ]
    },
    {
      "cell_type": "markdown",
      "metadata": {
        "id": "iGj10ZFfkXwC"
      },
      "source": [
        "The `EstimatedSalary` column indicates the customer's estimated salary."
      ]
    },
    {
      "cell_type": "code",
      "metadata": {
        "id": "FcaIpJjpkXwF",
        "outputId": "27d9a6b1-bbe2-4cab-9d62-3af63ee2a4b4"
      },
      "source": [
        "df['Exited'].value_counts()"
      ],
      "execution_count": null,
      "outputs": [
        {
          "output_type": "execute_result",
          "data": {
            "text/plain": [
              "0    7963\n",
              "1    2037\n",
              "Name: Exited, dtype: int64"
            ]
          },
          "metadata": {
            "tags": []
          },
          "execution_count": 19
        }
      ]
    },
    {
      "cell_type": "markdown",
      "metadata": {
        "id": "gBqQXkNMkXwJ"
      },
      "source": [
        "The `Exited` column indicates if the customer has left the bank."
      ]
    },
    {
      "cell_type": "markdown",
      "metadata": {
        "id": "NKXn_NERkXwM"
      },
      "source": [
        "#### Dealing with missing values"
      ]
    },
    {
      "cell_type": "code",
      "metadata": {
        "id": "9aonEW17kXwO",
        "outputId": "d8b1d5d2-defa-4241-9fa5-cdfc1c4a9a52"
      },
      "source": [
        "df.isna().sum()"
      ],
      "execution_count": null,
      "outputs": [
        {
          "output_type": "execute_result",
          "data": {
            "text/plain": [
              "RowNumber            0\n",
              "CustomerId           0\n",
              "Surname              0\n",
              "CreditScore          0\n",
              "Geography            0\n",
              "Gender               0\n",
              "Age                  0\n",
              "Tenure             909\n",
              "Balance              0\n",
              "NumOfProducts        0\n",
              "HasCrCard            0\n",
              "IsActiveMember       0\n",
              "EstimatedSalary      0\n",
              "Exited               0\n",
              "dtype: int64"
            ]
          },
          "metadata": {
            "tags": []
          },
          "execution_count": 20
        }
      ]
    },
    {
      "cell_type": "code",
      "metadata": {
        "id": "zSGZOUQ_kXwU",
        "outputId": "0ab5655b-21ee-4aa4-d6b2-14c6d7293d22"
      },
      "source": [
        "df.loc[df['Tenure'].isna()]"
      ],
      "execution_count": null,
      "outputs": [
        {
          "output_type": "execute_result",
          "data": {
            "text/html": [
              "<div>\n",
              "<style scoped>\n",
              "    .dataframe tbody tr th:only-of-type {\n",
              "        vertical-align: middle;\n",
              "    }\n",
              "\n",
              "    .dataframe tbody tr th {\n",
              "        vertical-align: top;\n",
              "    }\n",
              "\n",
              "    .dataframe thead th {\n",
              "        text-align: right;\n",
              "    }\n",
              "</style>\n",
              "<table border=\"1\" class=\"dataframe\">\n",
              "  <thead>\n",
              "    <tr style=\"text-align: right;\">\n",
              "      <th></th>\n",
              "      <th>RowNumber</th>\n",
              "      <th>CustomerId</th>\n",
              "      <th>Surname</th>\n",
              "      <th>CreditScore</th>\n",
              "      <th>Geography</th>\n",
              "      <th>Gender</th>\n",
              "      <th>Age</th>\n",
              "      <th>Tenure</th>\n",
              "      <th>Balance</th>\n",
              "      <th>NumOfProducts</th>\n",
              "      <th>HasCrCard</th>\n",
              "      <th>IsActiveMember</th>\n",
              "      <th>EstimatedSalary</th>\n",
              "      <th>Exited</th>\n",
              "    </tr>\n",
              "  </thead>\n",
              "  <tbody>\n",
              "    <tr>\n",
              "      <td>30</td>\n",
              "      <td>31</td>\n",
              "      <td>15589475</td>\n",
              "      <td>Azikiwe</td>\n",
              "      <td>591</td>\n",
              "      <td>Spain</td>\n",
              "      <td>Female</td>\n",
              "      <td>39</td>\n",
              "      <td>NaN</td>\n",
              "      <td>0.00</td>\n",
              "      <td>3</td>\n",
              "      <td>1</td>\n",
              "      <td>0</td>\n",
              "      <td>140469.38</td>\n",
              "      <td>1</td>\n",
              "    </tr>\n",
              "    <tr>\n",
              "      <td>48</td>\n",
              "      <td>49</td>\n",
              "      <td>15766205</td>\n",
              "      <td>Yin</td>\n",
              "      <td>550</td>\n",
              "      <td>Germany</td>\n",
              "      <td>Male</td>\n",
              "      <td>38</td>\n",
              "      <td>NaN</td>\n",
              "      <td>103391.38</td>\n",
              "      <td>1</td>\n",
              "      <td>0</td>\n",
              "      <td>1</td>\n",
              "      <td>90878.13</td>\n",
              "      <td>0</td>\n",
              "    </tr>\n",
              "    <tr>\n",
              "      <td>51</td>\n",
              "      <td>52</td>\n",
              "      <td>15768193</td>\n",
              "      <td>Trevisani</td>\n",
              "      <td>585</td>\n",
              "      <td>Germany</td>\n",
              "      <td>Male</td>\n",
              "      <td>36</td>\n",
              "      <td>NaN</td>\n",
              "      <td>146050.97</td>\n",
              "      <td>2</td>\n",
              "      <td>0</td>\n",
              "      <td>0</td>\n",
              "      <td>86424.57</td>\n",
              "      <td>0</td>\n",
              "    </tr>\n",
              "    <tr>\n",
              "      <td>53</td>\n",
              "      <td>54</td>\n",
              "      <td>15702298</td>\n",
              "      <td>Parkhill</td>\n",
              "      <td>655</td>\n",
              "      <td>Germany</td>\n",
              "      <td>Male</td>\n",
              "      <td>41</td>\n",
              "      <td>NaN</td>\n",
              "      <td>125561.97</td>\n",
              "      <td>1</td>\n",
              "      <td>0</td>\n",
              "      <td>0</td>\n",
              "      <td>164040.94</td>\n",
              "      <td>1</td>\n",
              "    </tr>\n",
              "    <tr>\n",
              "      <td>60</td>\n",
              "      <td>61</td>\n",
              "      <td>15651280</td>\n",
              "      <td>Hunter</td>\n",
              "      <td>742</td>\n",
              "      <td>Germany</td>\n",
              "      <td>Male</td>\n",
              "      <td>35</td>\n",
              "      <td>NaN</td>\n",
              "      <td>136857.00</td>\n",
              "      <td>1</td>\n",
              "      <td>0</td>\n",
              "      <td>0</td>\n",
              "      <td>84509.57</td>\n",
              "      <td>0</td>\n",
              "    </tr>\n",
              "    <tr>\n",
              "      <td>...</td>\n",
              "      <td>...</td>\n",
              "      <td>...</td>\n",
              "      <td>...</td>\n",
              "      <td>...</td>\n",
              "      <td>...</td>\n",
              "      <td>...</td>\n",
              "      <td>...</td>\n",
              "      <td>...</td>\n",
              "      <td>...</td>\n",
              "      <td>...</td>\n",
              "      <td>...</td>\n",
              "      <td>...</td>\n",
              "      <td>...</td>\n",
              "      <td>...</td>\n",
              "    </tr>\n",
              "    <tr>\n",
              "      <td>9944</td>\n",
              "      <td>9945</td>\n",
              "      <td>15703923</td>\n",
              "      <td>Cameron</td>\n",
              "      <td>744</td>\n",
              "      <td>Germany</td>\n",
              "      <td>Male</td>\n",
              "      <td>41</td>\n",
              "      <td>NaN</td>\n",
              "      <td>190409.34</td>\n",
              "      <td>2</td>\n",
              "      <td>1</td>\n",
              "      <td>1</td>\n",
              "      <td>138361.48</td>\n",
              "      <td>0</td>\n",
              "    </tr>\n",
              "    <tr>\n",
              "      <td>9956</td>\n",
              "      <td>9957</td>\n",
              "      <td>15707861</td>\n",
              "      <td>Nucci</td>\n",
              "      <td>520</td>\n",
              "      <td>France</td>\n",
              "      <td>Female</td>\n",
              "      <td>46</td>\n",
              "      <td>NaN</td>\n",
              "      <td>85216.61</td>\n",
              "      <td>1</td>\n",
              "      <td>1</td>\n",
              "      <td>0</td>\n",
              "      <td>117369.52</td>\n",
              "      <td>1</td>\n",
              "    </tr>\n",
              "    <tr>\n",
              "      <td>9964</td>\n",
              "      <td>9965</td>\n",
              "      <td>15642785</td>\n",
              "      <td>Douglas</td>\n",
              "      <td>479</td>\n",
              "      <td>France</td>\n",
              "      <td>Male</td>\n",
              "      <td>34</td>\n",
              "      <td>NaN</td>\n",
              "      <td>117593.48</td>\n",
              "      <td>2</td>\n",
              "      <td>0</td>\n",
              "      <td>0</td>\n",
              "      <td>113308.29</td>\n",
              "      <td>0</td>\n",
              "    </tr>\n",
              "    <tr>\n",
              "      <td>9985</td>\n",
              "      <td>9986</td>\n",
              "      <td>15586914</td>\n",
              "      <td>Nepean</td>\n",
              "      <td>659</td>\n",
              "      <td>France</td>\n",
              "      <td>Male</td>\n",
              "      <td>36</td>\n",
              "      <td>NaN</td>\n",
              "      <td>123841.49</td>\n",
              "      <td>2</td>\n",
              "      <td>1</td>\n",
              "      <td>0</td>\n",
              "      <td>96833.00</td>\n",
              "      <td>0</td>\n",
              "    </tr>\n",
              "    <tr>\n",
              "      <td>9999</td>\n",
              "      <td>10000</td>\n",
              "      <td>15628319</td>\n",
              "      <td>Walker</td>\n",
              "      <td>792</td>\n",
              "      <td>France</td>\n",
              "      <td>Female</td>\n",
              "      <td>28</td>\n",
              "      <td>NaN</td>\n",
              "      <td>130142.79</td>\n",
              "      <td>1</td>\n",
              "      <td>1</td>\n",
              "      <td>0</td>\n",
              "      <td>38190.78</td>\n",
              "      <td>0</td>\n",
              "    </tr>\n",
              "  </tbody>\n",
              "</table>\n",
              "<p>909 rows × 14 columns</p>\n",
              "</div>"
            ],
            "text/plain": [
              "      RowNumber  CustomerId    Surname  CreditScore Geography  Gender  Age  \\\n",
              "30           31    15589475    Azikiwe          591     Spain  Female   39   \n",
              "48           49    15766205        Yin          550   Germany    Male   38   \n",
              "51           52    15768193  Trevisani          585   Germany    Male   36   \n",
              "53           54    15702298   Parkhill          655   Germany    Male   41   \n",
              "60           61    15651280     Hunter          742   Germany    Male   35   \n",
              "...         ...         ...        ...          ...       ...     ...  ...   \n",
              "9944       9945    15703923    Cameron          744   Germany    Male   41   \n",
              "9956       9957    15707861      Nucci          520    France  Female   46   \n",
              "9964       9965    15642785    Douglas          479    France    Male   34   \n",
              "9985       9986    15586914     Nepean          659    France    Male   36   \n",
              "9999      10000    15628319     Walker          792    France  Female   28   \n",
              "\n",
              "      Tenure    Balance  NumOfProducts  HasCrCard  IsActiveMember  \\\n",
              "30       NaN       0.00              3          1               0   \n",
              "48       NaN  103391.38              1          0               1   \n",
              "51       NaN  146050.97              2          0               0   \n",
              "53       NaN  125561.97              1          0               0   \n",
              "60       NaN  136857.00              1          0               0   \n",
              "...      ...        ...            ...        ...             ...   \n",
              "9944     NaN  190409.34              2          1               1   \n",
              "9956     NaN   85216.61              1          1               0   \n",
              "9964     NaN  117593.48              2          0               0   \n",
              "9985     NaN  123841.49              2          1               0   \n",
              "9999     NaN  130142.79              1          1               0   \n",
              "\n",
              "      EstimatedSalary  Exited  \n",
              "30          140469.38       1  \n",
              "48           90878.13       0  \n",
              "51           86424.57       0  \n",
              "53          164040.94       1  \n",
              "60           84509.57       0  \n",
              "...               ...     ...  \n",
              "9944        138361.48       0  \n",
              "9956        117369.52       1  \n",
              "9964        113308.29       0  \n",
              "9985         96833.00       0  \n",
              "9999         38190.78       0  \n",
              "\n",
              "[909 rows x 14 columns]"
            ]
          },
          "metadata": {
            "tags": []
          },
          "execution_count": 21
        }
      ]
    },
    {
      "cell_type": "markdown",
      "metadata": {
        "id": "_1Yhwiz4kXwZ"
      },
      "source": [
        "A null `Tenure` value may indicate that the customer has not made any fixed deposits.\n",
        "\n",
        "Null values will be replaced with a -1 to denote this case, since a tenure with a value of 0 could indicate a fixed deposit with a period of maturation that is less than 1 year."
      ]
    },
    {
      "cell_type": "code",
      "metadata": {
        "id": "ugPMaCNQkXwb"
      },
      "source": [
        "df['Tenure'].fillna(-1, inplace=True)"
      ],
      "execution_count": null,
      "outputs": []
    },
    {
      "cell_type": "markdown",
      "metadata": {
        "id": "pfs6y-cekXwi"
      },
      "source": [
        "#### Converting the data to the necessary types"
      ]
    },
    {
      "cell_type": "code",
      "metadata": {
        "id": "t1ES_8phkXwl"
      },
      "source": [
        "df['Tenure'] = df['Tenure'].astype(int)"
      ],
      "execution_count": null,
      "outputs": []
    },
    {
      "cell_type": "markdown",
      "metadata": {
        "id": "VXnt8DR-kXwr"
      },
      "source": [
        "#### Checking for duplicate rows"
      ]
    },
    {
      "cell_type": "code",
      "metadata": {
        "id": "95ucqRSakXws"
      },
      "source": [
        "df['Surname'] = df['Surname'].str.lower()"
      ],
      "execution_count": null,
      "outputs": []
    },
    {
      "cell_type": "code",
      "metadata": {
        "id": "WhVP1eS4kXwz",
        "outputId": "65f5fdf5-e228-4d1c-91c1-deee498bbf64"
      },
      "source": [
        "df.duplicated().sum()"
      ],
      "execution_count": null,
      "outputs": [
        {
          "output_type": "execute_result",
          "data": {
            "text/plain": [
              "0"
            ]
          },
          "metadata": {
            "tags": []
          },
          "execution_count": 25
        }
      ]
    },
    {
      "cell_type": "markdown",
      "metadata": {
        "id": "XyTAjM5LkXw4"
      },
      "source": [
        "The letter casing for values in the `Surname` column have been changed to lowercase, in order to match any possible duplicated names that may have had different casing.\n",
        "\n",
        "No duplicate customer entries were found."
      ]
    },
    {
      "cell_type": "markdown",
      "metadata": {
        "id": "R7P3Is7hkXw5"
      },
      "source": [
        "#### Converting non-numeric features into numbers"
      ]
    },
    {
      "cell_type": "code",
      "metadata": {
        "id": "38szYXlMkXw6"
      },
      "source": [
        "df['Gender'] = df['Gender'].replace(['Male', 'Female'], [1, 0])"
      ],
      "execution_count": null,
      "outputs": []
    },
    {
      "cell_type": "markdown",
      "metadata": {
        "id": "asnKczRSkXw9"
      },
      "source": [
        "Here, the `Gender` column is made binary. `Male` is replaced with a `1` and `Female` is replaced with a `0`"
      ]
    },
    {
      "cell_type": "code",
      "metadata": {
        "id": "uf4Zb_10kXw-"
      },
      "source": [
        "df  = df.join(pd.get_dummies(df['Geography'], prefix = 'Geo', drop_first=True))"
      ],
      "execution_count": null,
      "outputs": []
    },
    {
      "cell_type": "markdown",
      "metadata": {
        "id": "gYsLfi7bkXxC"
      },
      "source": [
        "The `Geography` column has categorical values. These values are transformed into numerical features using the One-Hot Encoding method.\n",
        "\n",
        "`.get_dummies` is called with the `drop_first` parameter to avoid falling into the dummy feature trap."
      ]
    },
    {
      "cell_type": "code",
      "metadata": {
        "id": "c6qNoNVSkXxC",
        "outputId": "72622d82-c744-4871-ee3b-e3f4a4d53018"
      },
      "source": [
        "df.head()"
      ],
      "execution_count": null,
      "outputs": [
        {
          "output_type": "execute_result",
          "data": {
            "text/html": [
              "<div>\n",
              "<style scoped>\n",
              "    .dataframe tbody tr th:only-of-type {\n",
              "        vertical-align: middle;\n",
              "    }\n",
              "\n",
              "    .dataframe tbody tr th {\n",
              "        vertical-align: top;\n",
              "    }\n",
              "\n",
              "    .dataframe thead th {\n",
              "        text-align: right;\n",
              "    }\n",
              "</style>\n",
              "<table border=\"1\" class=\"dataframe\">\n",
              "  <thead>\n",
              "    <tr style=\"text-align: right;\">\n",
              "      <th></th>\n",
              "      <th>RowNumber</th>\n",
              "      <th>CustomerId</th>\n",
              "      <th>Surname</th>\n",
              "      <th>CreditScore</th>\n",
              "      <th>Geography</th>\n",
              "      <th>Gender</th>\n",
              "      <th>Age</th>\n",
              "      <th>Tenure</th>\n",
              "      <th>Balance</th>\n",
              "      <th>NumOfProducts</th>\n",
              "      <th>HasCrCard</th>\n",
              "      <th>IsActiveMember</th>\n",
              "      <th>EstimatedSalary</th>\n",
              "      <th>Exited</th>\n",
              "      <th>Geo_Germany</th>\n",
              "      <th>Geo_Spain</th>\n",
              "    </tr>\n",
              "  </thead>\n",
              "  <tbody>\n",
              "    <tr>\n",
              "      <td>0</td>\n",
              "      <td>1</td>\n",
              "      <td>15634602</td>\n",
              "      <td>hargrave</td>\n",
              "      <td>619</td>\n",
              "      <td>France</td>\n",
              "      <td>0</td>\n",
              "      <td>42</td>\n",
              "      <td>2</td>\n",
              "      <td>0.00</td>\n",
              "      <td>1</td>\n",
              "      <td>1</td>\n",
              "      <td>1</td>\n",
              "      <td>101348.88</td>\n",
              "      <td>1</td>\n",
              "      <td>0</td>\n",
              "      <td>0</td>\n",
              "    </tr>\n",
              "    <tr>\n",
              "      <td>1</td>\n",
              "      <td>2</td>\n",
              "      <td>15647311</td>\n",
              "      <td>hill</td>\n",
              "      <td>608</td>\n",
              "      <td>Spain</td>\n",
              "      <td>0</td>\n",
              "      <td>41</td>\n",
              "      <td>1</td>\n",
              "      <td>83807.86</td>\n",
              "      <td>1</td>\n",
              "      <td>0</td>\n",
              "      <td>1</td>\n",
              "      <td>112542.58</td>\n",
              "      <td>0</td>\n",
              "      <td>0</td>\n",
              "      <td>1</td>\n",
              "    </tr>\n",
              "    <tr>\n",
              "      <td>2</td>\n",
              "      <td>3</td>\n",
              "      <td>15619304</td>\n",
              "      <td>onio</td>\n",
              "      <td>502</td>\n",
              "      <td>France</td>\n",
              "      <td>0</td>\n",
              "      <td>42</td>\n",
              "      <td>8</td>\n",
              "      <td>159660.80</td>\n",
              "      <td>3</td>\n",
              "      <td>1</td>\n",
              "      <td>0</td>\n",
              "      <td>113931.57</td>\n",
              "      <td>1</td>\n",
              "      <td>0</td>\n",
              "      <td>0</td>\n",
              "    </tr>\n",
              "    <tr>\n",
              "      <td>3</td>\n",
              "      <td>4</td>\n",
              "      <td>15701354</td>\n",
              "      <td>boni</td>\n",
              "      <td>699</td>\n",
              "      <td>France</td>\n",
              "      <td>0</td>\n",
              "      <td>39</td>\n",
              "      <td>1</td>\n",
              "      <td>0.00</td>\n",
              "      <td>2</td>\n",
              "      <td>0</td>\n",
              "      <td>0</td>\n",
              "      <td>93826.63</td>\n",
              "      <td>0</td>\n",
              "      <td>0</td>\n",
              "      <td>0</td>\n",
              "    </tr>\n",
              "    <tr>\n",
              "      <td>4</td>\n",
              "      <td>5</td>\n",
              "      <td>15737888</td>\n",
              "      <td>mitchell</td>\n",
              "      <td>850</td>\n",
              "      <td>Spain</td>\n",
              "      <td>0</td>\n",
              "      <td>43</td>\n",
              "      <td>2</td>\n",
              "      <td>125510.82</td>\n",
              "      <td>1</td>\n",
              "      <td>1</td>\n",
              "      <td>1</td>\n",
              "      <td>79084.10</td>\n",
              "      <td>0</td>\n",
              "      <td>0</td>\n",
              "      <td>1</td>\n",
              "    </tr>\n",
              "  </tbody>\n",
              "</table>\n",
              "</div>"
            ],
            "text/plain": [
              "   RowNumber  CustomerId   Surname  CreditScore Geography  Gender  Age  \\\n",
              "0          1    15634602  hargrave          619    France       0   42   \n",
              "1          2    15647311      hill          608     Spain       0   41   \n",
              "2          3    15619304      onio          502    France       0   42   \n",
              "3          4    15701354      boni          699    France       0   39   \n",
              "4          5    15737888  mitchell          850     Spain       0   43   \n",
              "\n",
              "   Tenure    Balance  NumOfProducts  HasCrCard  IsActiveMember  \\\n",
              "0       2       0.00              1          1               1   \n",
              "1       1   83807.86              1          0               1   \n",
              "2       8  159660.80              3          1               0   \n",
              "3       1       0.00              2          0               0   \n",
              "4       2  125510.82              1          1               1   \n",
              "\n",
              "   EstimatedSalary  Exited  Geo_Germany  Geo_Spain  \n",
              "0        101348.88       1            0          0  \n",
              "1        112542.58       0            0          1  \n",
              "2        113931.57       1            0          0  \n",
              "3         93826.63       0            0          0  \n",
              "4         79084.10       0            0          1  "
            ]
          },
          "metadata": {
            "tags": []
          },
          "execution_count": 28
        }
      ]
    },
    {
      "cell_type": "markdown",
      "metadata": {
        "id": "yEzanBAZkXxI"
      },
      "source": [
        "#### Setting Target and Features"
      ]
    },
    {
      "cell_type": "code",
      "metadata": {
        "id": "23WYQcwZkXxK"
      },
      "source": [
        "target = df['Exited']\n",
        "features = df.drop(['Exited', 'Geography', 'RowNumber', 'CustomerId', 'Surname'], axis=1)"
      ],
      "execution_count": null,
      "outputs": []
    },
    {
      "cell_type": "markdown",
      "metadata": {
        "id": "VDyV6vQckXxQ"
      },
      "source": [
        "The target feature for this project is `Exited`, since we are trying to determine if a customer will leave the bank.\n",
        "\n",
        "The `Geography` column is dropped from the features variable because values contained in this column were converted into numerical values using the One-Hot Encoding method.\n",
        "\n",
        "The `RowNumber`, `CustomerId`, and `Surname` columns were not included in the features variable here because the values contained in these columns have no influence on whether a customer will leave the bank."
      ]
    },
    {
      "cell_type": "markdown",
      "metadata": {
        "id": "MphCfALWkXxS"
      },
      "source": [
        "### Conclusion"
      ]
    },
    {
      "cell_type": "markdown",
      "metadata": {
        "id": "meoVsbGYkXxT"
      },
      "source": [
        "`/datasets/Churn.csv` was opened and examined for general information.\n",
        "\n",
        "There are 14 columns in the file.\n",
        "\n",
        "The columns in this dataset are described as follows:\n",
        "\n",
        "    RowNumber — data string index\n",
        "    CustomerId — unique customer identifier\n",
        "    Surname — surname\n",
        "    CreditScore — credit score\n",
        "    Geography — country of residence\n",
        "    Gender — gender\n",
        "    Age — age\n",
        "    Tenure — period of maturation for a customer’s fixed deposit (years)\n",
        "    Balance — account balance\n",
        "    NumOfProducts — number of banking products used by the customer\n",
        "    HasCrCard — customer has a credit card\n",
        "    IsActiveMember — customer’s activeness\n",
        "    EstimatedSalary — estimated salary\n",
        "    Exited — сustomer has left\n",
        "\n",
        "The datatype for the `Tenure` column in this dataset was converted from float to int, since Tenure is counted in whole years. There were also null values found within this column. The null values were converted into `-1` since they may indicate a situation where the customer has never made a fixed deposit.\n",
        "\n",
        "The datatype for `EstimatedSalary` is kept as float type to preserve accuracy, even though annual salaries are normally thought of as whole numbers.\n",
        "\n",
        "Next, the values in each column were reviewed to check for anything unusual.\n",
        "\n",
        "The names in the `Surname` column were all lowercased to match any potential duplicates that may have originally had different casing.\n",
        "\n",
        "Duplicate rows were checked using `.duplicated()`.\n",
        "\n",
        "Non-numeric values in the `Gender` and `Geography` columns were converted into numbers.\n",
        "\n",
        "Lastly, appropriate contents for the target and features variables were set."
      ]
    },
    {
      "cell_type": "markdown",
      "metadata": {
        "id": "3lyU_pgckXxU"
      },
      "source": [
        "### Step 2. Examining the balance of classes and training the model without taking into account the imbalance"
      ]
    },
    {
      "cell_type": "code",
      "metadata": {
        "id": "xlGmIQNQkXxV",
        "outputId": "9da96938-c414-4545-a5ae-8a5076a5caad"
      },
      "source": [
        "df['Exited'].value_counts()"
      ],
      "execution_count": null,
      "outputs": [
        {
          "output_type": "execute_result",
          "data": {
            "text/plain": [
              "0    7963\n",
              "1    2037\n",
              "Name: Exited, dtype: int64"
            ]
          },
          "metadata": {
            "tags": []
          },
          "execution_count": 30
        }
      ]
    },
    {
      "cell_type": "code",
      "metadata": {
        "id": "iExYJVf6kXxZ",
        "outputId": "dfba9659-d706-44a6-f719-7b13ffa790f9"
      },
      "source": [
        "df['Exited'].mean()"
      ],
      "execution_count": null,
      "outputs": [
        {
          "output_type": "execute_result",
          "data": {
            "text/plain": [
              "0.2037"
            ]
          },
          "metadata": {
            "tags": []
          },
          "execution_count": 31
        }
      ]
    },
    {
      "cell_type": "markdown",
      "metadata": {
        "id": "yEYa6k9UkXxc"
      },
      "source": [
        "20.37% of `Exited` has the value `1`, meaning that the customer has left the bank.\n",
        "\n",
        "The remaining 79.63% has the value `0`, meaning that they are still current customers."
      ]
    },
    {
      "cell_type": "code",
      "metadata": {
        "id": "uFqguyLekXxd"
      },
      "source": [
        "features_train, features_valid, target_train, target_valid = train_test_split(features, target, test_size=0.4, random_state = 12345)\n",
        "features_valid, features_test, target_valid, target_test = train_test_split(features_valid, target_valid, test_size=0.5, shuffle = False)"
      ],
      "execution_count": null,
      "outputs": []
    },
    {
      "cell_type": "code",
      "metadata": {
        "id": "3YzLen9zkXxg",
        "outputId": "d2951578-3d7b-4e3f-ca18-e4097aa5865e"
      },
      "source": [
        "print(\"--- Train Sizes (Rows, Columns) ---\")\n",
        "print(\"target_train:\", target_train.shape)\n",
        "print(\"features_train:\", features_train.shape)\n",
        "print(\"\")\n",
        "print(\"--- Valid Sizes (Rows, Columns) ---\")\n",
        "print(\"target_valid:\", target_valid.shape)\n",
        "print(\"features_valid:\", features_valid.shape)\n",
        "print(\"\")\n",
        "print(\"--- Test Sizes (Rows, Columns) ---\")\n",
        "print(\"target_test:\", target_test.shape)\n",
        "print(\"features_test:\", features_test.shape)"
      ],
      "execution_count": null,
      "outputs": [
        {
          "output_type": "stream",
          "text": [
            "--- Train Sizes (Rows, Columns) ---\n",
            "target_train: (6000,)\n",
            "features_train: (6000, 11)\n",
            "\n",
            "--- Valid Sizes (Rows, Columns) ---\n",
            "target_valid: (2000,)\n",
            "features_valid: (2000, 11)\n",
            "\n",
            "--- Test Sizes (Rows, Columns) ---\n",
            "target_test: (2000,)\n",
            "features_test: (2000, 11)\n"
          ],
          "name": "stdout"
        }
      ]
    },
    {
      "cell_type": "markdown",
      "metadata": {
        "id": "_qS4AEwCkXxk"
      },
      "source": [
        "`train_test_split()` was imported from `sklearn.model_selection`, which splits any data set into two sets.\n",
        "\n",
        "The source data is split twice using `train_test_split()` into a 3:1:1 ratio: a training dataset (60%), validating dataset (20%), and test dataset (20%)."
      ]
    },
    {
      "cell_type": "code",
      "metadata": {
        "id": "VzALxGAxkXxm",
        "outputId": "426ecb08-f6fa-453f-e2a4-74d4ef5dc42f"
      },
      "source": [
        "dt_model = DecisionTreeClassifier(random_state=99)\n",
        "rf_model = RandomForestClassifier(random_state=99)\n",
        "\n",
        "dt_model.fit(features_train, target_train)\n",
        "rf_model.fit(features_train, target_train)\n",
        "\n",
        "dt_predictions_valid = dt_model.predict(features_valid)\n",
        "rf_predictions_valid = rf_model.predict(features_valid)\n",
        "\n",
        "print(\"--- F1 Scores ---\")\n",
        "print(\"Decision Tree:\", f1_score(target_valid, dt_predictions_valid))\n",
        "print(\"Random Forest:\", f1_score(target_valid, rf_predictions_valid))"
      ],
      "execution_count": null,
      "outputs": [
        {
          "output_type": "stream",
          "text": [
            "--- F1 Scores ---\n",
            "Decision Tree: 0.49514563106796117\n",
            "Random Forest: 0.5454545454545454\n"
          ],
          "name": "stdout"
        },
        {
          "output_type": "stream",
          "text": [
            "/opt/conda/lib/python3.7/site-packages/sklearn/ensemble/forest.py:245: FutureWarning: The default value of n_estimators will change from 10 in version 0.20 to 100 in 0.22.\n",
            "  \"10 in version 0.20 to 100 in 0.22.\", FutureWarning)\n"
          ],
          "name": "stderr"
        }
      ]
    },
    {
      "cell_type": "code",
      "metadata": {
        "id": "CX6bDN_IkXxq",
        "outputId": "f2ecba1e-e2ad-4f3f-bcfb-fadcdc79b793"
      },
      "source": [
        "dt_probabilities_valid = dt_model.predict_proba(features_valid)\n",
        "rf_probabilities_valid = rf_model.predict_proba(features_valid)\n",
        "\n",
        "dt_probabilities_one_valid = dt_probabilities_valid[:, 1]\n",
        "rf_probabilities_one_valid = rf_probabilities_valid[:, 1]\n",
        "\n",
        "print(\"--- AUC-ROC Scores ---\")\n",
        "print(\"Decision Tree:\", roc_auc_score(target_valid, dt_probabilities_one_valid))\n",
        "print(\"Random Forest:\", roc_auc_score(target_valid, rf_probabilities_one_valid))"
      ],
      "execution_count": null,
      "outputs": [
        {
          "output_type": "stream",
          "text": [
            "--- AUC-ROC Scores ---\n",
            "Decision Tree: 0.6775281350542155\n",
            "Random Forest: 0.8256199835931579\n"
          ],
          "name": "stdout"
        }
      ]
    },
    {
      "cell_type": "markdown",
      "metadata": {
        "id": "NwHTwGMXkXxv"
      },
      "source": [
        "### Conclusion"
      ]
    },
    {
      "cell_type": "markdown",
      "metadata": {
        "id": "vuG6TVzYkXxv"
      },
      "source": [
        "The class distribution of the target column, `Exited`, was examined. It was revealed that 20.37% of the set has the value 1, meaning that the customer has left the bank. The remaining 79.63% of the set has the value 0, meaning that they are still current customers.\n",
        "\n",
        "The source data was split twice using `train_test_split()` into a 3:1:1 ratio: a training dataset (60%), validating dataset (20%), and test dataset (20%).\n",
        "\n",
        "A Decision Tree model and a Random Forest model were trained using default hyperparameters without taking into account the class imbalance, and an F1 score and AUC-ROC score was obtained from each.\n",
        "\n",
        "The Random Forest model had a better F1 score and AUC-ROC score than the Decision Tree model in this step.\n",
        "\n",
        "For the Decision Tree model, the F1 score obtained was 0.495 and the AUC-ROC score was 0.678.\n",
        "\n",
        "In the Random Forest model, the F1 score was 0.545 and the AUC-ROC score was 0.826."
      ]
    },
    {
      "cell_type": "markdown",
      "metadata": {
        "id": "Lvxz8TIvkXxw"
      },
      "source": [
        "### Step 3. Improving the quality of the model"
      ]
    },
    {
      "cell_type": "markdown",
      "metadata": {
        "id": "LpIht_LJkXxx"
      },
      "source": [
        "#### 1. Upsampling method"
      ]
    },
    {
      "cell_type": "code",
      "metadata": {
        "id": "AQy6nSLTkXxx"
      },
      "source": [
        "def upsample(features, target, repeat):\n",
        "    features_zeros = features[target == 0]\n",
        "    features_ones = features[target == 1]\n",
        "    target_zeros = target[target == 0]\n",
        "    target_ones = target[target == 1]\n",
        "\n",
        "    features_upsampled = pd.concat([features_zeros] + [features_ones] * repeat)\n",
        "    target_upsampled = pd.concat([target_zeros] + [target_ones] * repeat)\n",
        "    \n",
        "    features_upsampled, target_upsampled = shuffle(\n",
        "        features_upsampled, target_upsampled, random_state=12345)\n",
        "    \n",
        "    return features_upsampled, target_upsampled"
      ],
      "execution_count": null,
      "outputs": []
    },
    {
      "cell_type": "code",
      "metadata": {
        "id": "J1jIYnZrkXx3"
      },
      "source": [
        "features_upsampled, target_upsampled = upsample(features_train, target_train, 4)"
      ],
      "execution_count": null,
      "outputs": []
    },
    {
      "cell_type": "code",
      "metadata": {
        "id": "8cVgdBdykXx6",
        "outputId": "d1a99859-bc98-4722-9911-6711b97c7c0d"
      },
      "source": [
        "target_upsampled.value_counts()"
      ],
      "execution_count": null,
      "outputs": [
        {
          "output_type": "execute_result",
          "data": {
            "text/plain": [
              "0    4804\n",
              "1    4784\n",
              "Name: Exited, dtype: int64"
            ]
          },
          "metadata": {
            "tags": []
          },
          "execution_count": 38
        }
      ]
    },
    {
      "cell_type": "code",
      "metadata": {
        "id": "kFKByPUhkXyA",
        "outputId": "4bca6433-40e2-486d-b5af-0fa020c209e6"
      },
      "source": [
        "for num in range(5, 16):\n",
        "    dt_balanced_model = DecisionTreeClassifier(random_state=99, max_depth=num)\n",
        "    rf_balanced_model = RandomForestClassifier(random_state=99, n_estimators=num, max_depth=11)\n",
        "\n",
        "    dt_balanced_model.fit(features_upsampled, target_upsampled)\n",
        "    rf_balanced_model.fit(features_upsampled, target_upsampled)\n",
        "\n",
        "    dt_b_predictions_valid = dt_balanced_model.predict(features_valid)\n",
        "    rf_b_predictions_valid = rf_balanced_model.predict(features_valid)\n",
        "    \n",
        "    dt_b_probabilities_valid = dt_balanced_model.predict_proba(features_valid)\n",
        "    rf_b_probabilities_valid = rf_balanced_model.predict_proba(features_valid)\n",
        "\n",
        "    dt_b_probabilities_one_valid = dt_b_probabilities_valid[:, 1]\n",
        "    rf_b_probabilities_one_valid = rf_b_probabilities_valid[:, 1]\n",
        "\n",
        "    print(\"\")\n",
        "    print(\"--- F1 Scores (\", num, \") ---\")\n",
        "    print(\"Decision Tree:\", f1_score(target_valid, dt_b_predictions_valid))\n",
        "    print(\"Random Forest:\", f1_score(target_valid, rf_b_predictions_valid))\n",
        "    \n",
        "    print(\"--- AUC-ROC Scores ---\")\n",
        "    print(\"Decision Tree:\", roc_auc_score(target_valid, dt_b_probabilities_one_valid))\n",
        "    print(\"Random Forest:\", roc_auc_score(target_valid, rf_b_probabilities_one_valid))"
      ],
      "execution_count": null,
      "outputs": [
        {
          "output_type": "stream",
          "text": [
            "\n",
            "--- F1 Scores ( 5 ) ---\n",
            "Decision Tree: 0.6043165467625898\n",
            "Random Forest: 0.5829042224510814\n",
            "--- AUC-ROC Scores ---\n",
            "Decision Tree: 0.8403898634897145\n",
            "Random Forest: 0.8229721098573557\n",
            "\n",
            "--- F1 Scores ( 6 ) ---\n",
            "Decision Tree: 0.5805860805860806\n",
            "Random Forest: 0.5972660357518401\n",
            "--- AUC-ROC Scores ---\n",
            "Decision Tree: 0.8170354235928006\n",
            "Random Forest: 0.8283891964964991\n",
            "\n",
            "--- F1 Scores ( 7 ) ---\n",
            "Decision Tree: 0.5766990291262135\n",
            "Random Forest: 0.6078639744952178\n",
            "--- AUC-ROC Scores ---\n",
            "Decision Tree: 0.809137955933783\n",
            "Random Forest: 0.8328802345195787\n",
            "\n",
            "--- F1 Scores ( 8 ) ---\n",
            "Decision Tree: 0.559694364851958\n",
            "Random Forest: 0.6047008547008547\n",
            "--- AUC-ROC Scores ---\n",
            "Decision Tree: 0.7784413797826615\n",
            "Random Forest: 0.8388854066946466\n",
            "\n",
            "--- F1 Scores ( 9 ) ---\n",
            "Decision Tree: 0.5678537054860443\n",
            "Random Forest: 0.6173913043478261\n",
            "--- AUC-ROC Scores ---\n",
            "Decision Tree: 0.7737694496263796\n",
            "Random Forest: 0.841899531169278\n",
            "\n",
            "--- F1 Scores ( 10 ) ---\n",
            "Decision Tree: 0.5333333333333334\n",
            "Random Forest: 0.6206896551724138\n",
            "--- AUC-ROC Scores ---\n",
            "Decision Tree: 0.756578741675612\n",
            "Random Forest: 0.8440099393899693\n",
            "\n",
            "--- F1 Scores ( 11 ) ---\n",
            "Decision Tree: 0.5474525474525475\n",
            "Random Forest: 0.6200873362445415\n",
            "--- AUC-ROC Scores ---\n",
            "Decision Tree: 0.751513017533882\n",
            "Random Forest: 0.8443330142286923\n",
            "\n",
            "--- F1 Scores ( 12 ) ---\n",
            "Decision Tree: 0.5341488277268094\n",
            "Random Forest: 0.6308871851040526\n",
            "--- AUC-ROC Scores ---\n",
            "Decision Tree: 0.7309218352437428\n",
            "Random Forest: 0.8442250744784277\n",
            "\n",
            "--- F1 Scores ( 13 ) ---\n",
            "Decision Tree: 0.5285412262156448\n",
            "Random Forest: 0.6194111232279171\n",
            "--- AUC-ROC Scores ---\n",
            "Decision Tree: 0.7251861402383012\n",
            "Random Forest: 0.8465893272152587\n",
            "\n",
            "--- F1 Scores ( 14 ) ---\n",
            "Decision Tree: 0.5065502183406114\n",
            "Random Forest: 0.6218302094818081\n",
            "--- AUC-ROC Scores ---\n",
            "Decision Tree: 0.6988332085202428\n",
            "Random Forest: 0.8484645012215801\n",
            "\n",
            "--- F1 Scores ( 15 ) ---\n",
            "Decision Tree: 0.4983012457531144\n",
            "Random Forest: 0.6236323851203501\n",
            "--- AUC-ROC Scores ---\n",
            "Decision Tree: 0.6854598456684894\n",
            "Random Forest: 0.8503128763933533\n"
          ],
          "name": "stdout"
        }
      ]
    },
    {
      "cell_type": "markdown",
      "metadata": {
        "id": "G6STx5CvkXyQ"
      },
      "source": [
        "For the upsampling method, the Random Forest model with `n_estimators = 12` and `max_depth = 11` resulted in an F1 score of 0.6309 and an AUC-ROC score of 0.8442."
      ]
    },
    {
      "cell_type": "markdown",
      "metadata": {
        "id": "CBXVjBwfkXyQ"
      },
      "source": [
        "#### 2. `class_weight = 'balanced'` method"
      ]
    },
    {
      "cell_type": "code",
      "metadata": {
        "id": "593uxwnfkXyQ",
        "outputId": "59698fa4-ce56-4d3d-f884-55564c4ebd46"
      },
      "source": [
        "for num in range(5, 16):\n",
        "    dt_balanced_model = DecisionTreeClassifier(random_state=99, class_weight='balanced', max_depth=num)\n",
        "    rf_balanced_model = RandomForestClassifier(random_state=99, class_weight='balanced', n_estimators=num, max_depth = 11)\n",
        "\n",
        "    dt_balanced_model.fit(features_train, target_train)\n",
        "    rf_balanced_model.fit(features_train, target_train)\n",
        "\n",
        "    dt_b_predictions_valid = dt_balanced_model.predict(features_valid)\n",
        "    rf_b_predictions_valid = rf_balanced_model.predict(features_valid)\n",
        "    \n",
        "    dt_b_probabilities_valid = dt_balanced_model.predict_proba(features_valid)\n",
        "    rf_b_probabilities_valid = rf_balanced_model.predict_proba(features_valid)\n",
        "\n",
        "    dt_b_probabilities_one_valid = dt_b_probabilities_valid[:, 1]\n",
        "    rf_b_probabilities_one_valid = rf_b_probabilities_valid[:, 1]\n",
        "\n",
        "    print(\"\")\n",
        "    print(\"--- F1 Scores (\", num, \") ---\")\n",
        "    print(\"Decision Tree:\", f1_score(target_valid, dt_b_predictions_valid))\n",
        "    print(\"Random Forest:\", f1_score(target_valid, rf_b_predictions_valid))\n",
        "    \n",
        "    print(\"--- AUC-ROC Scores ---\")\n",
        "    print(\"Decision Tree:\", roc_auc_score(target_valid, dt_b_probabilities_one_valid))\n",
        "    print(\"Random Forest:\", roc_auc_score(target_valid, rf_b_probabilities_one_valid))"
      ],
      "execution_count": null,
      "outputs": [
        {
          "output_type": "stream",
          "text": [
            "\n",
            "--- F1 Scores ( 5 ) ---\n",
            "Decision Tree: 0.6043165467625898\n",
            "Random Forest: 0.5549999999999999\n",
            "--- AUC-ROC Scores ---\n",
            "Decision Tree: 0.8403898634897145\n",
            "Random Forest: 0.815832453686403\n",
            "\n",
            "--- F1 Scores ( 6 ) ---\n",
            "Decision Tree: 0.5779816513761468\n",
            "Random Forest: 0.57\n",
            "--- AUC-ROC Scores ---\n",
            "Decision Tree: 0.8123917810952088\n",
            "Random Forest: 0.8235311633225195\n",
            "\n",
            "--- F1 Scores ( 7 ) ---\n",
            "Decision Tree: 0.5778210116731517\n",
            "Random Forest: 0.6079613992762364\n",
            "--- AUC-ROC Scores ---\n",
            "Decision Tree: 0.8084970171408323\n",
            "Random Forest: 0.8298378223862575\n",
            "\n",
            "--- F1 Scores ( 8 ) ---\n",
            "Decision Tree: 0.5605338417540515\n",
            "Random Forest: 0.6058394160583942\n",
            "--- AUC-ROC Scores ---\n",
            "Decision Tree: 0.7792877763071504\n",
            "Random Forest: 0.834454666049301\n",
            "\n",
            "--- F1 Scores ( 9 ) ---\n",
            "Decision Tree: 0.5717035611164581\n",
            "Random Forest: 0.6060606060606061\n",
            "--- AUC-ROC Scores ---\n",
            "Decision Tree: 0.778318551790981\n",
            "Random Forest: 0.8379072492336279\n",
            "\n",
            "--- F1 Scores ( 10 ) ---\n",
            "Decision Tree: 0.5343511450381679\n",
            "Random Forest: 0.5995145631067961\n",
            "--- AUC-ROC Scores ---\n",
            "Decision Tree: 0.7559914005517583\n",
            "Random Forest: 0.8427079626781565\n",
            "\n",
            "--- F1 Scores ( 11 ) ---\n",
            "Decision Tree: 0.5496489468405216\n",
            "Random Forest: 0.6049382716049382\n",
            "--- AUC-ROC Scores ---\n",
            "Decision Tree: 0.7520430389282848\n",
            "Random Forest: 0.846886347631504\n",
            "\n",
            "--- F1 Scores ( 12 ) ---\n",
            "Decision Tree: 0.5284552845528455\n",
            "Random Forest: 0.5997521685254027\n",
            "--- AUC-ROC Scores ---\n",
            "Decision Tree: 0.7265491587399188\n",
            "Random Forest: 0.84711785978552\n",
            "\n",
            "--- F1 Scores ( 13 ) ---\n",
            "Decision Tree: 0.5181236673773987\n",
            "Random Forest: 0.6063569682151589\n",
            "--- AUC-ROC Scores ---\n",
            "Decision Tree: 0.7141331098112021\n",
            "Random Forest: 0.846147146445209\n",
            "\n",
            "--- F1 Scores ( 14 ) ---\n",
            "Decision Tree: 0.5027322404371585\n",
            "Random Forest: 0.6027060270602707\n",
            "--- AUC-ROC Scores ---\n",
            "Decision Tree: 0.6977344563037559\n",
            "Random Forest: 0.8485337315441637\n",
            "\n",
            "--- F1 Scores ( 15 ) ---\n",
            "Decision Tree: 0.4881889763779528\n",
            "Random Forest: 0.6096654275092938\n",
            "--- AUC-ROC Scores ---\n",
            "Decision Tree: 0.6806092566152178\n",
            "Random Forest: 0.8489669793693639\n"
          ],
          "name": "stdout"
        }
      ]
    },
    {
      "cell_type": "markdown",
      "metadata": {
        "id": "g2NCNMdQkXyZ"
      },
      "source": [
        "For the `class_weight='balanced'` method, the Random Forest model with `n_estimators = 15` and `max_depth = 11` resulted in a F1 score of 0.6097 and an AUC-ROC score of 0.8490."
      ]
    },
    {
      "cell_type": "markdown",
      "metadata": {
        "id": "Wy4Di0ZwkXya"
      },
      "source": [
        "### Conclusion"
      ]
    },
    {
      "cell_type": "markdown",
      "metadata": {
        "id": "EkgPdQ5xkXya"
      },
      "source": [
        "In order to improve model quality, class imbalances were addressed. Two approaches were used:\n",
        "1. Upsampling so that the ratio of both classes in the target feature is more balanced, near 1:1\n",
        "2. Specifying the `class_weight='balanced'` argument to the Decision Tree and the Random Forest models\n",
        "    \n",
        "The Random Forest model using the upsampling method with `n_estimators = 12` and `max_depth = 11` yielded the best F1 score of 0.6309, which is a 0.0855 improvement from the previous step. The corresponding AUC-ROC score is 0.8442, meaning that there is a 84.42% chance that the model will be able to distinguish between positive class and negative class."
      ]
    },
    {
      "cell_type": "markdown",
      "metadata": {
        "id": "1W0o2Ya8kXyc"
      },
      "source": [
        "### Step 4. Perform the final testing."
      ]
    },
    {
      "cell_type": "code",
      "metadata": {
        "id": "VZJHyhOAkXyc"
      },
      "source": [
        "ftv = pd.concat([features_train, features_valid])"
      ],
      "execution_count": null,
      "outputs": []
    },
    {
      "cell_type": "code",
      "metadata": {
        "id": "bEozZywbkXyg"
      },
      "source": [
        "ttv = pd.concat([target_train, target_valid])"
      ],
      "execution_count": null,
      "outputs": []
    },
    {
      "cell_type": "code",
      "metadata": {
        "id": "OtoNjjDzkXyj"
      },
      "source": [
        "features_up, target_up = upsample(ftv, ttv, 4)"
      ],
      "execution_count": null,
      "outputs": []
    },
    {
      "cell_type": "code",
      "metadata": {
        "id": "S-wuioQpkXym",
        "outputId": "233418d6-368f-4486-88c6-0b54e896ab7e"
      },
      "source": [
        "print(target_up.value_counts())"
      ],
      "execution_count": null,
      "outputs": [
        {
          "output_type": "stream",
          "text": [
            "1    6492\n",
            "0    6377\n",
            "Name: Exited, dtype: int64\n"
          ],
          "name": "stdout"
        }
      ]
    },
    {
      "cell_type": "code",
      "metadata": {
        "id": "nayAJnAQkXyr",
        "outputId": "2a16c91d-7198-49cd-e4cb-2867ace10ed5"
      },
      "source": [
        "rf_final_model = RandomForestClassifier(random_state=99, n_estimators=12, max_depth=11)\n",
        "rf_final_model.fit(features_up, target_up)\n",
        "predictions_test = rf_final_model.predict(features_test)\n",
        "print(\"Random Forest F1 Score:\", f1_score(target_test, predictions_test))"
      ],
      "execution_count": null,
      "outputs": [
        {
          "output_type": "stream",
          "text": [
            "Random Forest F1 Score: 0.6035634743875279\n"
          ],
          "name": "stdout"
        }
      ]
    },
    {
      "cell_type": "code",
      "metadata": {
        "id": "ovov83r7kXyu",
        "outputId": "d44d734f-2dc0-4f36-96b0-2e4e7a200d11"
      },
      "source": [
        "rf_f_probabilities_test = rf_final_model.predict_proba(features_test)\n",
        "\n",
        "rf_f_probabilities_one_test = rf_f_probabilities_test[:, 1]\n",
        "\n",
        "print(\"Random Forest AUC-ROC Score:\", roc_auc_score(target_test, rf_f_probabilities_one_test))"
      ],
      "execution_count": null,
      "outputs": [
        {
          "output_type": "stream",
          "text": [
            "Random Forest AUC-ROC Score: 0.8350291804497079\n"
          ],
          "name": "stdout"
        }
      ]
    },
    {
      "cell_type": "markdown",
      "metadata": {
        "id": "AY-7mSPwkXyy"
      },
      "source": [
        "### Conclusion"
      ]
    },
    {
      "cell_type": "markdown",
      "metadata": {
        "id": "6IrbyLOskXyy"
      },
      "source": [
        "For the final test, the Random Forest model was used with the same hyperparameters and balancing procedure as in the previous step.\n",
        "\n",
        "The final model was trained with the training set and the valid set in order to improve quality.\n",
        "\n",
        "The final F1 score was 0.6036, and the final AUC-ROC score was 0.8350, meaning that there is a 83.50% chance that the model will be able to distinguish between positive class and negative class."
      ]
    },
    {
      "cell_type": "code",
      "metadata": {
        "id": "QwoKbzzxkXyz"
      },
      "source": [
        ""
      ],
      "execution_count": null,
      "outputs": []
    }
  ]
}