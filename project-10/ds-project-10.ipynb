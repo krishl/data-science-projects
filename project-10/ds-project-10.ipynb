{
  "nbformat": 4,
  "nbformat_minor": 0,
  "metadata": {
    "kernelspec": {
      "display_name": "Python 3",
      "language": "python",
      "name": "python3"
    },
    "language_info": {
      "codemirror_mode": {
        "name": "ipython",
        "version": 3
      },
      "file_extension": ".py",
      "mimetype": "text/x-python",
      "name": "python",
      "nbconvert_exporter": "python",
      "pygments_lexer": "ipython3",
      "version": "3.7.6"
    },
    "colab": {
      "name": "ds-project-10.ipynb",
      "provenance": []
    }
  },
  "cells": [
    {
      "cell_type": "markdown",
      "metadata": {
        "id": "Erih1--urEGt"
      },
      "source": [
        "# Creating a data transforming algorithm"
      ]
    },
    {
      "cell_type": "markdown",
      "metadata": {
        "id": "2auR2CDcq8rR"
      },
      "source": [
        "The Sure Tomorrow insurance company wants to protect its clients' data. The task is to develop a data transforming algorithm that would make it hard to recover personal information from the transformed data.\n",
        "\n",
        "The data should be protected in such a way that the quality of machine learning models doesn't suffer."
      ]
    },
    {
      "cell_type": "markdown",
      "metadata": {
        "id": "UBZsbn1nq8rU"
      },
      "source": [
        "## 1. Data downloading"
      ]
    },
    {
      "cell_type": "code",
      "metadata": {
        "id": "nsaQ9Eqtq8rX"
      },
      "source": [
        "import pandas as pd\n",
        "import numpy as np\n",
        "from numpy.linalg import inv\n",
        "from sklearn.model_selection import train_test_split\n",
        "from sklearn.linear_model import LinearRegression\n",
        "from sklearn.metrics import r2_score"
      ],
      "execution_count": null,
      "outputs": []
    },
    {
      "cell_type": "code",
      "metadata": {
        "id": "_AZ_JXCLq8rp"
      },
      "source": [
        "df = pd.read_csv('/datasets/insurance_us.csv')"
      ],
      "execution_count": null,
      "outputs": []
    },
    {
      "cell_type": "code",
      "metadata": {
        "id": "Lws2KKgYq8rz",
        "outputId": "7d9938b5-9e03-40f4-a451-69d5f02eb448"
      },
      "source": [
        "df.head()"
      ],
      "execution_count": null,
      "outputs": [
        {
          "output_type": "execute_result",
          "data": {
            "text/html": [
              "<div>\n",
              "<style scoped>\n",
              "    .dataframe tbody tr th:only-of-type {\n",
              "        vertical-align: middle;\n",
              "    }\n",
              "\n",
              "    .dataframe tbody tr th {\n",
              "        vertical-align: top;\n",
              "    }\n",
              "\n",
              "    .dataframe thead th {\n",
              "        text-align: right;\n",
              "    }\n",
              "</style>\n",
              "<table border=\"1\" class=\"dataframe\">\n",
              "  <thead>\n",
              "    <tr style=\"text-align: right;\">\n",
              "      <th></th>\n",
              "      <th>Gender</th>\n",
              "      <th>Age</th>\n",
              "      <th>Salary</th>\n",
              "      <th>Family members</th>\n",
              "      <th>Insurance benefits</th>\n",
              "    </tr>\n",
              "  </thead>\n",
              "  <tbody>\n",
              "    <tr>\n",
              "      <td>0</td>\n",
              "      <td>1</td>\n",
              "      <td>41.0</td>\n",
              "      <td>49600.0</td>\n",
              "      <td>1</td>\n",
              "      <td>0</td>\n",
              "    </tr>\n",
              "    <tr>\n",
              "      <td>1</td>\n",
              "      <td>0</td>\n",
              "      <td>46.0</td>\n",
              "      <td>38000.0</td>\n",
              "      <td>1</td>\n",
              "      <td>1</td>\n",
              "    </tr>\n",
              "    <tr>\n",
              "      <td>2</td>\n",
              "      <td>0</td>\n",
              "      <td>29.0</td>\n",
              "      <td>21000.0</td>\n",
              "      <td>0</td>\n",
              "      <td>0</td>\n",
              "    </tr>\n",
              "    <tr>\n",
              "      <td>3</td>\n",
              "      <td>0</td>\n",
              "      <td>21.0</td>\n",
              "      <td>41700.0</td>\n",
              "      <td>2</td>\n",
              "      <td>0</td>\n",
              "    </tr>\n",
              "    <tr>\n",
              "      <td>4</td>\n",
              "      <td>1</td>\n",
              "      <td>28.0</td>\n",
              "      <td>26100.0</td>\n",
              "      <td>0</td>\n",
              "      <td>0</td>\n",
              "    </tr>\n",
              "  </tbody>\n",
              "</table>\n",
              "</div>"
            ],
            "text/plain": [
              "   Gender   Age   Salary  Family members  Insurance benefits\n",
              "0       1  41.0  49600.0               1                   0\n",
              "1       0  46.0  38000.0               1                   1\n",
              "2       0  29.0  21000.0               0                   0\n",
              "3       0  21.0  41700.0               2                   0\n",
              "4       1  28.0  26100.0               0                   0"
            ]
          },
          "metadata": {
            "tags": []
          },
          "execution_count": 3
        }
      ]
    },
    {
      "cell_type": "code",
      "metadata": {
        "id": "tgg-4ijgq8r9",
        "outputId": "de5c0557-08e5-43c9-a23f-c051a97e45d0"
      },
      "source": [
        "df.describe()"
      ],
      "execution_count": null,
      "outputs": [
        {
          "output_type": "execute_result",
          "data": {
            "text/html": [
              "<div>\n",
              "<style scoped>\n",
              "    .dataframe tbody tr th:only-of-type {\n",
              "        vertical-align: middle;\n",
              "    }\n",
              "\n",
              "    .dataframe tbody tr th {\n",
              "        vertical-align: top;\n",
              "    }\n",
              "\n",
              "    .dataframe thead th {\n",
              "        text-align: right;\n",
              "    }\n",
              "</style>\n",
              "<table border=\"1\" class=\"dataframe\">\n",
              "  <thead>\n",
              "    <tr style=\"text-align: right;\">\n",
              "      <th></th>\n",
              "      <th>Gender</th>\n",
              "      <th>Age</th>\n",
              "      <th>Salary</th>\n",
              "      <th>Family members</th>\n",
              "      <th>Insurance benefits</th>\n",
              "    </tr>\n",
              "  </thead>\n",
              "  <tbody>\n",
              "    <tr>\n",
              "      <td>count</td>\n",
              "      <td>5000.000000</td>\n",
              "      <td>5000.000000</td>\n",
              "      <td>5000.000000</td>\n",
              "      <td>5000.000000</td>\n",
              "      <td>5000.000000</td>\n",
              "    </tr>\n",
              "    <tr>\n",
              "      <td>mean</td>\n",
              "      <td>0.499000</td>\n",
              "      <td>30.952800</td>\n",
              "      <td>39916.360000</td>\n",
              "      <td>1.194200</td>\n",
              "      <td>0.148000</td>\n",
              "    </tr>\n",
              "    <tr>\n",
              "      <td>std</td>\n",
              "      <td>0.500049</td>\n",
              "      <td>8.440807</td>\n",
              "      <td>9900.083569</td>\n",
              "      <td>1.091387</td>\n",
              "      <td>0.463183</td>\n",
              "    </tr>\n",
              "    <tr>\n",
              "      <td>min</td>\n",
              "      <td>0.000000</td>\n",
              "      <td>18.000000</td>\n",
              "      <td>5300.000000</td>\n",
              "      <td>0.000000</td>\n",
              "      <td>0.000000</td>\n",
              "    </tr>\n",
              "    <tr>\n",
              "      <td>25%</td>\n",
              "      <td>0.000000</td>\n",
              "      <td>24.000000</td>\n",
              "      <td>33300.000000</td>\n",
              "      <td>0.000000</td>\n",
              "      <td>0.000000</td>\n",
              "    </tr>\n",
              "    <tr>\n",
              "      <td>50%</td>\n",
              "      <td>0.000000</td>\n",
              "      <td>30.000000</td>\n",
              "      <td>40200.000000</td>\n",
              "      <td>1.000000</td>\n",
              "      <td>0.000000</td>\n",
              "    </tr>\n",
              "    <tr>\n",
              "      <td>75%</td>\n",
              "      <td>1.000000</td>\n",
              "      <td>37.000000</td>\n",
              "      <td>46600.000000</td>\n",
              "      <td>2.000000</td>\n",
              "      <td>0.000000</td>\n",
              "    </tr>\n",
              "    <tr>\n",
              "      <td>max</td>\n",
              "      <td>1.000000</td>\n",
              "      <td>65.000000</td>\n",
              "      <td>79000.000000</td>\n",
              "      <td>6.000000</td>\n",
              "      <td>5.000000</td>\n",
              "    </tr>\n",
              "  </tbody>\n",
              "</table>\n",
              "</div>"
            ],
            "text/plain": [
              "            Gender          Age        Salary  Family members  \\\n",
              "count  5000.000000  5000.000000   5000.000000     5000.000000   \n",
              "mean      0.499000    30.952800  39916.360000        1.194200   \n",
              "std       0.500049     8.440807   9900.083569        1.091387   \n",
              "min       0.000000    18.000000   5300.000000        0.000000   \n",
              "25%       0.000000    24.000000  33300.000000        0.000000   \n",
              "50%       0.000000    30.000000  40200.000000        1.000000   \n",
              "75%       1.000000    37.000000  46600.000000        2.000000   \n",
              "max       1.000000    65.000000  79000.000000        6.000000   \n",
              "\n",
              "       Insurance benefits  \n",
              "count         5000.000000  \n",
              "mean             0.148000  \n",
              "std              0.463183  \n",
              "min              0.000000  \n",
              "25%              0.000000  \n",
              "50%              0.000000  \n",
              "75%              0.000000  \n",
              "max              5.000000  "
            ]
          },
          "metadata": {
            "tags": []
          },
          "execution_count": 4
        }
      ]
    },
    {
      "cell_type": "code",
      "metadata": {
        "id": "oPeGM8Ltq8sE",
        "outputId": "c452ad52-6dd0-4c54-c98c-1169bb41bb0e"
      },
      "source": [
        "df.info()"
      ],
      "execution_count": null,
      "outputs": [
        {
          "output_type": "stream",
          "text": [
            "<class 'pandas.core.frame.DataFrame'>\n",
            "RangeIndex: 5000 entries, 0 to 4999\n",
            "Data columns (total 5 columns):\n",
            "Gender                5000 non-null int64\n",
            "Age                   5000 non-null float64\n",
            "Salary                5000 non-null float64\n",
            "Family members        5000 non-null int64\n",
            "Insurance benefits    5000 non-null int64\n",
            "dtypes: float64(2), int64(3)\n",
            "memory usage: 195.4 KB\n"
          ],
          "name": "stdout"
        }
      ]
    },
    {
      "cell_type": "markdown",
      "metadata": {
        "id": "GsA4cB16q8sL"
      },
      "source": [
        "#### Converting the data to the necessary types"
      ]
    },
    {
      "cell_type": "code",
      "metadata": {
        "id": "xsVKngK9q8sO"
      },
      "source": [
        "df['Age'] = df['Age'].astype('int')"
      ],
      "execution_count": null,
      "outputs": []
    },
    {
      "cell_type": "code",
      "metadata": {
        "id": "ukgrT4J-q8sV"
      },
      "source": [
        "df['Salary'] = df['Salary'].astype('int')"
      ],
      "execution_count": null,
      "outputs": []
    },
    {
      "cell_type": "markdown",
      "metadata": {
        "id": "Z-0bLkrnq8sa"
      },
      "source": [
        "#### Checking for duplicate rows"
      ]
    },
    {
      "cell_type": "code",
      "metadata": {
        "id": "A6yFOSwXq8sa",
        "outputId": "d38c58f5-636a-4874-b6b5-9ba02514dded"
      },
      "source": [
        "df.duplicated().sum()"
      ],
      "execution_count": null,
      "outputs": [
        {
          "output_type": "execute_result",
          "data": {
            "text/plain": [
              "153"
            ]
          },
          "metadata": {
            "tags": []
          },
          "execution_count": 8
        }
      ]
    },
    {
      "cell_type": "code",
      "metadata": {
        "id": "pbp38FJ_q8sh"
      },
      "source": [
        "df = df.drop_duplicates().reset_index(drop=True)"
      ],
      "execution_count": null,
      "outputs": []
    },
    {
      "cell_type": "code",
      "metadata": {
        "id": "1PMstDDZq8sn",
        "outputId": "e2237432-398d-4ffe-9147-482e681bbcb6"
      },
      "source": [
        "df.shape"
      ],
      "execution_count": null,
      "outputs": [
        {
          "output_type": "execute_result",
          "data": {
            "text/plain": [
              "(4847, 5)"
            ]
          },
          "metadata": {
            "tags": []
          },
          "execution_count": 10
        }
      ]
    },
    {
      "cell_type": "markdown",
      "metadata": {
        "id": "p-O8E-0Cq8ss"
      },
      "source": [
        "#### Setting target and features"
      ]
    },
    {
      "cell_type": "code",
      "metadata": {
        "id": "wKV0JIUXq8st"
      },
      "source": [
        "target = df['Insurance benefits']"
      ],
      "execution_count": null,
      "outputs": []
    },
    {
      "cell_type": "code",
      "metadata": {
        "id": "iiH6apLMq8s0"
      },
      "source": [
        "features = df.drop('Insurance benefits', axis=1)"
      ],
      "execution_count": null,
      "outputs": []
    },
    {
      "cell_type": "markdown",
      "metadata": {
        "id": "FR6CADDNq8s6"
      },
      "source": [
        "### Conclusion"
      ]
    },
    {
      "cell_type": "markdown",
      "metadata": {
        "id": "_XniuVbQq8s6"
      },
      "source": [
        "`datasets/insurance_us.csv` was opened and examined for general information.\n",
        "\n",
        "There are 5 columns and 5000 rows in the file.\n",
        "\n",
        "The datatype for the `Age` and the `Salary` columns in this dataset were converted from float to int, since both are counted in whole numbers.\n",
        "\n",
        "153 duplicated rows were found using `.duplicated()`. The `drop_duplicates()` and `reset_index` function was used to remove these rows.\n",
        "\n",
        "Lastly, the appropriate target and features were set in accordance to the project guidelines:\n",
        "- Features: insured person's gender, age, salary, and number of family members.\n",
        "- Target: number of insurance benefits received by the insured person over the last five years."
      ]
    },
    {
      "cell_type": "markdown",
      "metadata": {
        "id": "N98vsfYSq8s8"
      },
      "source": [
        "## 2. Multiplication of matrices"
      ]
    },
    {
      "cell_type": "markdown",
      "metadata": {
        "id": "gWYgpgf8q8s-"
      },
      "source": [
        "- $X$ — feature matrix (zero column consists of unities)\n",
        "\n",
        "- $y$ — target vector\n",
        "\n",
        "- $P$ — matrix by which the features are multiplied\n",
        "\n",
        "- $w$ — linear regression weight vector (zero element is equal to the shift)"
      ]
    },
    {
      "cell_type": "markdown",
      "metadata": {
        "id": "lza5zzllq8s_"
      },
      "source": [
        "Predictions:\n",
        "\n",
        "$$\n",
        "a = Xw\n",
        "$$\n",
        "\n",
        "Training objective:\n",
        "\n",
        "$$\n",
        "\\min_w d_2(Xw, y)\n",
        "$$\n",
        "\n",
        "Training formula:\n",
        "\n",
        "$$\n",
        "w = (X^T X)^{-1} X^T y\n",
        "$$"
      ]
    },
    {
      "cell_type": "markdown",
      "metadata": {
        "id": "YJv0W3bJq8tA"
      },
      "source": [
        "**Answer:**\n",
        "\n",
        "$$ X' = XP $$\n",
        "\n",
        "$$ w' = ((XP)^T XP)^{-1} (XP)^T y $$\n",
        "$$ = (P^T X^T (XP))^{-1} (XP)^T y $$\n",
        "$$ = (P^T(X^T X)P)^{-1} (XP)^T y $$\n",
        "$$ = P^{-1} (X^T  X)^{-1} (P^T)^{-1} (XP)^T y $$\n",
        "$$ = P^{-1} (X^T  X)^{-1} (P^T)^{-1} P^T X^T y $$\n",
        "$$ = P^{-1} (X^T X)^{-1} X^T y $$\n",
        "$$ = P^{-1} w $$\n",
        "\n",
        "**Justification:**\n",
        "\n",
        "$$ a = Xw $$\n",
        "\n",
        "$$ a' = X'w' $$\n",
        "$$ = XP P^{-1} w $$\n",
        "$$ = Xw $$\n",
        "$$ = a $$"
      ]
    },
    {
      "cell_type": "markdown",
      "metadata": {
        "id": "5G26Gqcqq8tE"
      },
      "source": [
        "## 3. Transformation algorithm"
      ]
    },
    {
      "cell_type": "markdown",
      "metadata": {
        "id": "jp9m51zXq8tF"
      },
      "source": [
        "1. Create an 4 x 4 invertible matrix.\n",
        "    - The dimensions are 4 x 4 because we are working with 4 features.\n",
        "2. Confirm invertibility using `numpy.linalg.inv()`.\n",
        "3. Transform the features by multiplying the features matrix with the invertible matrix.\n",
        "4. Run two linear regressions, one with untransformed features and the other with the transformed features.\n",
        "5. Compare the two linear regression qualities using the R2 metric.\n",
        "    - The qualities should be the same, as explained by the proof in step 2."
      ]
    },
    {
      "cell_type": "markdown",
      "metadata": {
        "id": "h0a3PoMlq8tH"
      },
      "source": [
        "## 4. Algorithm test"
      ]
    },
    {
      "cell_type": "markdown",
      "metadata": {
        "id": "CRidlRD3q8tJ"
      },
      "source": [
        "#### Create the invertible matrix"
      ]
    },
    {
      "cell_type": "code",
      "metadata": {
        "id": "MSwWN05jq8tL"
      },
      "source": [
        "np.random.seed(12345)\n",
        "P = np.random.normal(size=(features.shape[1], features.shape[1]))"
      ],
      "execution_count": null,
      "outputs": []
    },
    {
      "cell_type": "markdown",
      "metadata": {
        "id": "aoRZzI8bq8tP"
      },
      "source": [
        "#### Confirm invertibility"
      ]
    },
    {
      "cell_type": "code",
      "metadata": {
        "id": "XoRD2v-Wq8tQ",
        "outputId": "fb986484-e24a-4bcf-f5ce-d46fc89c79e0"
      },
      "source": [
        "inv(P)"
      ],
      "execution_count": null,
      "outputs": [
        {
          "output_type": "execute_result",
          "data": {
            "text/plain": [
              "array([[-1.31136747,  0.3921804 ,  0.18868055, -0.67088287],\n",
              "       [ 1.75872714,  0.14106138, -0.17773045,  0.79787127],\n",
              "       [-0.41702659, -0.22854768,  0.3550602 ,  0.33039819],\n",
              "       [ 0.58912996,  0.19073027, -0.5545481 ,  0.6259302 ]])"
            ]
          },
          "metadata": {
            "tags": []
          },
          "execution_count": 14
        }
      ]
    },
    {
      "cell_type": "markdown",
      "metadata": {
        "id": "8NhuwgZ8q8tW"
      },
      "source": [
        "`inv(P)` did not return an error here, so P is confirmed to be invertible."
      ]
    },
    {
      "cell_type": "markdown",
      "metadata": {
        "id": "dnV0Z0Isq8tX"
      },
      "source": [
        "#### Transform the features matrix with the invertible matrix"
      ]
    },
    {
      "cell_type": "code",
      "metadata": {
        "id": "8qKHTDGoq8tX"
      },
      "source": [
        "transformed_features = features @ P"
      ],
      "execution_count": null,
      "outputs": []
    },
    {
      "cell_type": "markdown",
      "metadata": {
        "id": "pI1pUtI5q8tb"
      },
      "source": [
        "#### Linear regression before transformation"
      ]
    },
    {
      "cell_type": "code",
      "metadata": {
        "id": "nwkYxkiRq8tc"
      },
      "source": [
        "features_train, features_test, target_train, target_test = train_test_split(features, target, test_size=0.25, random_state = 12345)"
      ],
      "execution_count": null,
      "outputs": []
    },
    {
      "cell_type": "code",
      "metadata": {
        "id": "jYjrAge4q8th",
        "outputId": "8b4827b8-08d3-49b5-96c2-89b824a4363b"
      },
      "source": [
        "print(\"--- Train Sizes (Rows, Columns) ---\")\n",
        "print(\"target_train:\", target_train.shape)\n",
        "print(\"features_train:\", features_train.shape)\n",
        "print(\"\")\n",
        "print(\"--- Test Sizes (Rows, Columns) ---\")\n",
        "print(\"target_test:\", target_test.shape)\n",
        "print(\"features_test:\", features_test.shape)"
      ],
      "execution_count": null,
      "outputs": [
        {
          "output_type": "stream",
          "text": [
            "--- Train Sizes (Rows, Columns) ---\n",
            "target_train: (3635,)\n",
            "features_train: (3635, 4)\n",
            "\n",
            "--- Test Sizes (Rows, Columns) ---\n",
            "target_test: (1212,)\n",
            "features_test: (1212, 4)\n"
          ],
          "name": "stdout"
        }
      ]
    },
    {
      "cell_type": "code",
      "metadata": {
        "id": "vVy7mnlcq8tm",
        "outputId": "54101ebd-49cb-48f1-802c-275c021143e0"
      },
      "source": [
        "model = LinearRegression()\n",
        "model.fit(features_train, target_train)\n",
        "predictions = model.predict(features_test)\n",
        "r2_score(target_test, predictions)"
      ],
      "execution_count": null,
      "outputs": [
        {
          "output_type": "execute_result",
          "data": {
            "text/plain": [
              "0.4230772761583642"
            ]
          },
          "metadata": {
            "tags": []
          },
          "execution_count": 18
        }
      ]
    },
    {
      "cell_type": "markdown",
      "metadata": {
        "id": "jAR1XPVnq8ts"
      },
      "source": [
        "#### Linear regression after transformation"
      ]
    },
    {
      "cell_type": "code",
      "metadata": {
        "id": "JCxsubbQq8tt"
      },
      "source": [
        "transformed_features_train, transformed_features_test = train_test_split(transformed_features, test_size=0.25, random_state = 12345)"
      ],
      "execution_count": null,
      "outputs": []
    },
    {
      "cell_type": "code",
      "metadata": {
        "id": "iYv7MI6Lq8ty",
        "outputId": "a4701256-bb2f-4df3-bcce-c69e033be76a"
      },
      "source": [
        "print(\"--- Train Size (Rows, Columns) ---\")\n",
        "print(\"transformed_features_train:\", transformed_features_train.shape)\n",
        "print(\"\")\n",
        "print(\"--- Test Size (Rows, Columns) ---\")\n",
        "print(\"transformed_features_test:\", transformed_features_test.shape)"
      ],
      "execution_count": null,
      "outputs": [
        {
          "output_type": "stream",
          "text": [
            "--- Train Size (Rows, Columns) ---\n",
            "transformed_features_train: (3635, 4)\n",
            "\n",
            "--- Test Size (Rows, Columns) ---\n",
            "transformed_features_test: (1212, 4)\n"
          ],
          "name": "stdout"
        }
      ]
    },
    {
      "cell_type": "code",
      "metadata": {
        "id": "HlohfSBRq8t8",
        "outputId": "ab7006fb-a6dc-4aa9-b764-b5c5e2e1a58b"
      },
      "source": [
        "transformed_model = LinearRegression()\n",
        "transformed_model.fit(transformed_features_train, target_train)\n",
        "transformed_predictions = transformed_model.predict(transformed_features_test)\n",
        "r2_score(target_test, transformed_predictions)"
      ],
      "execution_count": null,
      "outputs": [
        {
          "output_type": "execute_result",
          "data": {
            "text/plain": [
              "0.4230772761581383"
            ]
          },
          "metadata": {
            "tags": []
          },
          "execution_count": 21
        }
      ]
    },
    {
      "cell_type": "markdown",
      "metadata": {
        "id": "S6jgOzrEq8uB"
      },
      "source": [
        "### Conclusion"
      ]
    },
    {
      "cell_type": "markdown",
      "metadata": {
        "id": "pFmFbcLYq8uC"
      },
      "source": [
        "Both the linear regression models, with and without transformation, result in the same R2 score of `0.423`.\n",
        "\n",
        "Thus, we can conclude that the quality of the linear regression remains the same after transformation."
      ]
    },
    {
      "cell_type": "code",
      "metadata": {
        "id": "nvF8d8Idq8uG"
      },
      "source": [
        ""
      ],
      "execution_count": null,
      "outputs": []
    }
  ]
}