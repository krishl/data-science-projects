{
  "nbformat": 4,
  "nbformat_minor": 0,
  "metadata": {
    "kernelspec": {
      "display_name": "Python 3",
      "language": "python",
      "name": "python3"
    },
    "language_info": {
      "codemirror_mode": {
        "name": "ipython",
        "version": 3
      },
      "file_extension": ".py",
      "mimetype": "text/x-python",
      "name": "python",
      "nbconvert_exporter": "python",
      "pygments_lexer": "ipython3",
      "version": "3.7.6"
    },
    "colab": {
      "name": "ds-project-6.ipynb",
      "provenance": []
    }
  },
  "cells": [
    {
      "cell_type": "markdown",
      "metadata": {
        "id": "fPDkrBTRi_E3"
      },
      "source": [
        "## Classifying data plans"
      ]
    },
    {
      "cell_type": "markdown",
      "metadata": {
        "id": "iKS_-J4ji_FB"
      },
      "source": [
        "Different models are investigated in order to recommend the correct phone plan based on subscriber behavior with the highest possible accuracy."
      ]
    },
    {
      "cell_type": "markdown",
      "metadata": {
        "id": "rS64nQvFi_FE"
      },
      "source": [
        "### Step 1. Open and look through the data file. "
      ]
    },
    {
      "cell_type": "code",
      "metadata": {
        "id": "egyBVC6_i_FH"
      },
      "source": [
        "import pandas as pd"
      ],
      "execution_count": null,
      "outputs": []
    },
    {
      "cell_type": "code",
      "metadata": {
        "id": "YyxOijtci_FW"
      },
      "source": [
        "df = pd.read_csv('/datasets/users_behavior.csv')"
      ],
      "execution_count": null,
      "outputs": []
    },
    {
      "cell_type": "code",
      "metadata": {
        "id": "X0eORuZIi_Ff",
        "outputId": "1d6a7156-2cc5-436a-e6a9-7f8b2ee0603d"
      },
      "source": [
        "df.head()"
      ],
      "execution_count": null,
      "outputs": [
        {
          "output_type": "execute_result",
          "data": {
            "text/html": [
              "<div>\n",
              "<style scoped>\n",
              "    .dataframe tbody tr th:only-of-type {\n",
              "        vertical-align: middle;\n",
              "    }\n",
              "\n",
              "    .dataframe tbody tr th {\n",
              "        vertical-align: top;\n",
              "    }\n",
              "\n",
              "    .dataframe thead th {\n",
              "        text-align: right;\n",
              "    }\n",
              "</style>\n",
              "<table border=\"1\" class=\"dataframe\">\n",
              "  <thead>\n",
              "    <tr style=\"text-align: right;\">\n",
              "      <th></th>\n",
              "      <th>calls</th>\n",
              "      <th>minutes</th>\n",
              "      <th>messages</th>\n",
              "      <th>mb_used</th>\n",
              "      <th>is_ultra</th>\n",
              "    </tr>\n",
              "  </thead>\n",
              "  <tbody>\n",
              "    <tr>\n",
              "      <td>0</td>\n",
              "      <td>40.0</td>\n",
              "      <td>311.90</td>\n",
              "      <td>83.0</td>\n",
              "      <td>19915.42</td>\n",
              "      <td>0</td>\n",
              "    </tr>\n",
              "    <tr>\n",
              "      <td>1</td>\n",
              "      <td>85.0</td>\n",
              "      <td>516.75</td>\n",
              "      <td>56.0</td>\n",
              "      <td>22696.96</td>\n",
              "      <td>0</td>\n",
              "    </tr>\n",
              "    <tr>\n",
              "      <td>2</td>\n",
              "      <td>77.0</td>\n",
              "      <td>467.66</td>\n",
              "      <td>86.0</td>\n",
              "      <td>21060.45</td>\n",
              "      <td>0</td>\n",
              "    </tr>\n",
              "    <tr>\n",
              "      <td>3</td>\n",
              "      <td>106.0</td>\n",
              "      <td>745.53</td>\n",
              "      <td>81.0</td>\n",
              "      <td>8437.39</td>\n",
              "      <td>1</td>\n",
              "    </tr>\n",
              "    <tr>\n",
              "      <td>4</td>\n",
              "      <td>66.0</td>\n",
              "      <td>418.74</td>\n",
              "      <td>1.0</td>\n",
              "      <td>14502.75</td>\n",
              "      <td>0</td>\n",
              "    </tr>\n",
              "  </tbody>\n",
              "</table>\n",
              "</div>"
            ],
            "text/plain": [
              "   calls  minutes  messages   mb_used  is_ultra\n",
              "0   40.0   311.90      83.0  19915.42         0\n",
              "1   85.0   516.75      56.0  22696.96         0\n",
              "2   77.0   467.66      86.0  21060.45         0\n",
              "3  106.0   745.53      81.0   8437.39         1\n",
              "4   66.0   418.74       1.0  14502.75         0"
            ]
          },
          "metadata": {
            "tags": []
          },
          "execution_count": 3
        }
      ]
    },
    {
      "cell_type": "code",
      "metadata": {
        "id": "e5hfftHdi_Fr",
        "outputId": "9f1283f9-cb49-4054-ce16-b2473e2bfd81"
      },
      "source": [
        "df.info()"
      ],
      "execution_count": null,
      "outputs": [
        {
          "output_type": "stream",
          "text": [
            "<class 'pandas.core.frame.DataFrame'>\n",
            "RangeIndex: 3214 entries, 0 to 3213\n",
            "Data columns (total 5 columns):\n",
            "calls       3214 non-null float64\n",
            "minutes     3214 non-null float64\n",
            "messages    3214 non-null float64\n",
            "mb_used     3214 non-null float64\n",
            "is_ultra    3214 non-null int64\n",
            "dtypes: float64(4), int64(1)\n",
            "memory usage: 125.7 KB\n"
          ],
          "name": "stdout"
        }
      ]
    },
    {
      "cell_type": "code",
      "metadata": {
        "id": "hBgFY-Zei_Fy",
        "outputId": "d51aab93-2518-4ce7-a97d-0e59193a021f"
      },
      "source": [
        "df.describe()"
      ],
      "execution_count": null,
      "outputs": [
        {
          "output_type": "execute_result",
          "data": {
            "text/html": [
              "<div>\n",
              "<style scoped>\n",
              "    .dataframe tbody tr th:only-of-type {\n",
              "        vertical-align: middle;\n",
              "    }\n",
              "\n",
              "    .dataframe tbody tr th {\n",
              "        vertical-align: top;\n",
              "    }\n",
              "\n",
              "    .dataframe thead th {\n",
              "        text-align: right;\n",
              "    }\n",
              "</style>\n",
              "<table border=\"1\" class=\"dataframe\">\n",
              "  <thead>\n",
              "    <tr style=\"text-align: right;\">\n",
              "      <th></th>\n",
              "      <th>calls</th>\n",
              "      <th>minutes</th>\n",
              "      <th>messages</th>\n",
              "      <th>mb_used</th>\n",
              "      <th>is_ultra</th>\n",
              "    </tr>\n",
              "  </thead>\n",
              "  <tbody>\n",
              "    <tr>\n",
              "      <td>count</td>\n",
              "      <td>3214.000000</td>\n",
              "      <td>3214.000000</td>\n",
              "      <td>3214.000000</td>\n",
              "      <td>3214.000000</td>\n",
              "      <td>3214.000000</td>\n",
              "    </tr>\n",
              "    <tr>\n",
              "      <td>mean</td>\n",
              "      <td>63.038892</td>\n",
              "      <td>438.208787</td>\n",
              "      <td>38.281269</td>\n",
              "      <td>17207.673836</td>\n",
              "      <td>0.306472</td>\n",
              "    </tr>\n",
              "    <tr>\n",
              "      <td>std</td>\n",
              "      <td>33.236368</td>\n",
              "      <td>234.569872</td>\n",
              "      <td>36.148326</td>\n",
              "      <td>7570.968246</td>\n",
              "      <td>0.461100</td>\n",
              "    </tr>\n",
              "    <tr>\n",
              "      <td>min</td>\n",
              "      <td>0.000000</td>\n",
              "      <td>0.000000</td>\n",
              "      <td>0.000000</td>\n",
              "      <td>0.000000</td>\n",
              "      <td>0.000000</td>\n",
              "    </tr>\n",
              "    <tr>\n",
              "      <td>25%</td>\n",
              "      <td>40.000000</td>\n",
              "      <td>274.575000</td>\n",
              "      <td>9.000000</td>\n",
              "      <td>12491.902500</td>\n",
              "      <td>0.000000</td>\n",
              "    </tr>\n",
              "    <tr>\n",
              "      <td>50%</td>\n",
              "      <td>62.000000</td>\n",
              "      <td>430.600000</td>\n",
              "      <td>30.000000</td>\n",
              "      <td>16943.235000</td>\n",
              "      <td>0.000000</td>\n",
              "    </tr>\n",
              "    <tr>\n",
              "      <td>75%</td>\n",
              "      <td>82.000000</td>\n",
              "      <td>571.927500</td>\n",
              "      <td>57.000000</td>\n",
              "      <td>21424.700000</td>\n",
              "      <td>1.000000</td>\n",
              "    </tr>\n",
              "    <tr>\n",
              "      <td>max</td>\n",
              "      <td>244.000000</td>\n",
              "      <td>1632.060000</td>\n",
              "      <td>224.000000</td>\n",
              "      <td>49745.730000</td>\n",
              "      <td>1.000000</td>\n",
              "    </tr>\n",
              "  </tbody>\n",
              "</table>\n",
              "</div>"
            ],
            "text/plain": [
              "             calls      minutes     messages       mb_used     is_ultra\n",
              "count  3214.000000  3214.000000  3214.000000   3214.000000  3214.000000\n",
              "mean     63.038892   438.208787    38.281269  17207.673836     0.306472\n",
              "std      33.236368   234.569872    36.148326   7570.968246     0.461100\n",
              "min       0.000000     0.000000     0.000000      0.000000     0.000000\n",
              "25%      40.000000   274.575000     9.000000  12491.902500     0.000000\n",
              "50%      62.000000   430.600000    30.000000  16943.235000     0.000000\n",
              "75%      82.000000   571.927500    57.000000  21424.700000     1.000000\n",
              "max     244.000000  1632.060000   224.000000  49745.730000     1.000000"
            ]
          },
          "metadata": {
            "tags": []
          },
          "execution_count": 5
        }
      ]
    },
    {
      "cell_type": "markdown",
      "metadata": {
        "id": "QQUpvKL5i_F8"
      },
      "source": [
        "### Conclusion"
      ]
    },
    {
      "cell_type": "markdown",
      "metadata": {
        "id": "cRs7WMPTi_F9"
      },
      "source": [
        "`/datasets/users_behavior.csv` was opened and examined for general information.\n",
        "\n",
        "There are 5 columns in the file, each with 3,214 non-null entries. The features for each observation are described as follows:\n",
        "\n",
        "`сalls`: Number of calls\n",
        "\n",
        "`minutes`: Total call duration in minutes\n",
        "\n",
        "`messages`: Number of text messages\n",
        "\n",
        "`mb_used`: Internet traffic used in MB\n",
        "\n",
        "`is_ultra`: Plan for the current month (Ultra - 1, Smart - 0)"
      ]
    },
    {
      "cell_type": "markdown",
      "metadata": {
        "id": "cOWX602ii_GA"
      },
      "source": [
        "### Step 2. Split the source data into a training set, a validation set, and a test set."
      ]
    },
    {
      "cell_type": "code",
      "metadata": {
        "id": "tR778BEEi_GB"
      },
      "source": [
        "from sklearn.model_selection import train_test_split"
      ],
      "execution_count": null,
      "outputs": []
    },
    {
      "cell_type": "code",
      "metadata": {
        "id": "3qw_Q_vni_GI"
      },
      "source": [
        "target = df['is_ultra']\n",
        "features = df.drop('is_ultra', axis=1)"
      ],
      "execution_count": null,
      "outputs": []
    },
    {
      "cell_type": "code",
      "metadata": {
        "id": "G_hM_2oIi_GO"
      },
      "source": [
        "features_train, features_valid, target_train, target_valid = train_test_split(features, target, test_size=0.4, random_state = 12345)\n",
        "features_valid, features_test, target_valid, target_test = train_test_split(features_valid, target_valid, test_size=0.5, shuffle = False)"
      ],
      "execution_count": null,
      "outputs": []
    },
    {
      "cell_type": "markdown",
      "metadata": {
        "id": "s9T61FuHi_GT"
      },
      "source": [
        "### Conclusion"
      ]
    },
    {
      "cell_type": "markdown",
      "metadata": {
        "id": "1sXlqKOIi_GV"
      },
      "source": [
        "`train_test_split()` is imported from `sklearn.model_selection`, which splits any data set into two sets.\n",
        "\n",
        "The target feature here is `is_ultra`, since we are trying to determine which plan a subscriber should subscribe to.\n",
        "\n",
        "The source data is split twice using `train_test_split()` into a 3:1:1 ratio: a training dataset (60%), validating dataset (20%), and test dataset (20%)."
      ]
    },
    {
      "cell_type": "markdown",
      "metadata": {
        "id": "xzT5-PDYi_GX"
      },
      "source": [
        "### Step 3. Investigate the quality of different models by changing hyperparameters"
      ]
    },
    {
      "cell_type": "markdown",
      "metadata": {
        "id": "ATQV2Z9oi_GY"
      },
      "source": [
        "#### Decision Tree Model"
      ]
    },
    {
      "cell_type": "code",
      "metadata": {
        "id": "tnR1whLxi_Gb",
        "outputId": "76edd4cd-30b6-4ced-c747-8d27cd76b3e6"
      },
      "source": [
        "from sklearn.tree import DecisionTreeClassifier\n",
        "from sklearn.metrics import accuracy_score\n",
        "\n",
        "for depth in range(1, 20):\n",
        "    dt_model = DecisionTreeClassifier(random_state=99, max_depth=depth)\n",
        "    \n",
        "    # < train the model >\n",
        "    dt_model.fit(features_train, target_train)\n",
        "    \n",
        "    # < find the predictions using validation set >\n",
        "    predictions_valid = dt_model.predict(features_valid)\n",
        "\n",
        "    print(\"max_depth =\", depth, \":\", accuracy_score(target_valid, predictions_valid)*100.0)"
      ],
      "execution_count": null,
      "outputs": [
        {
          "output_type": "stream",
          "text": [
            "max_depth = 1 : 74.80559875583204\n",
            "max_depth = 2 : 78.38258164852256\n",
            "max_depth = 3 : 78.69362363919129\n",
            "max_depth = 4 : 78.38258164852256\n",
            "max_depth = 5 : 77.76049766718506\n",
            "max_depth = 6 : 78.38258164852256\n",
            "max_depth = 7 : 80.09331259720062\n",
            "max_depth = 8 : 78.22706065318819\n",
            "max_depth = 9 : 78.53810264385692\n",
            "max_depth = 10 : 78.22706065318819\n",
            "max_depth = 11 : 77.13841368584758\n",
            "max_depth = 12 : 77.44945567651634\n",
            "max_depth = 13 : 76.82737169517885\n",
            "max_depth = 14 : 75.73872472783826\n",
            "max_depth = 15 : 75.11664074650078\n",
            "max_depth = 16 : 73.56143079315707\n",
            "max_depth = 17 : 74.18351477449455\n",
            "max_depth = 18 : 73.40590979782272\n",
            "max_depth = 19 : 72.78382581648522\n"
          ],
          "name": "stdout"
        }
      ]
    },
    {
      "cell_type": "markdown",
      "metadata": {
        "id": "I6Z8_OVSi_Gh"
      },
      "source": [
        "`7` is the best value found for the `max_depth` hyperparameter in the Decision Tree Model, with an `accuracy_score` of `80.09%`."
      ]
    },
    {
      "cell_type": "markdown",
      "metadata": {
        "id": "J0Hx3wdXi_Gi"
      },
      "source": [
        "#### Random Forest Model"
      ]
    },
    {
      "cell_type": "code",
      "metadata": {
        "id": "Uni6q__1i_Gj",
        "outputId": "160b7290-fc99-4282-92ea-cfaec9e9fc93"
      },
      "source": [
        "from sklearn.ensemble import RandomForestClassifier\n",
        "\n",
        "for num in range(1, 20):\n",
        "    rf_model = RandomForestClassifier(random_state=99, n_estimators=num)\n",
        "\n",
        "    rf_model.fit(features_train, target_train)\n",
        "\n",
        "    predictions_valid = rf_model.predict(features_valid)\n",
        "\n",
        "    print(\"n_estimators =\", num, \":\", accuracy_score(target_valid, predictions_valid)*100.0)"
      ],
      "execution_count": null,
      "outputs": [
        {
          "output_type": "stream",
          "text": [
            "n_estimators = 1 : 72.00622083981337\n",
            "n_estimators = 2 : 76.98289269051321\n",
            "n_estimators = 3 : 75.89424572317263\n",
            "n_estimators = 4 : 78.0715396578538\n",
            "n_estimators = 5 : 76.36080870917574\n",
            "n_estimators = 6 : 78.22706065318819\n",
            "n_estimators = 7 : 76.51632970451011\n",
            "n_estimators = 8 : 77.76049766718506\n",
            "n_estimators = 9 : 77.44945567651634\n",
            "n_estimators = 10 : 77.76049766718506\n",
            "n_estimators = 11 : 77.60497667185071\n",
            "n_estimators = 12 : 77.76049766718506\n",
            "n_estimators = 13 : 77.29393468118197\n",
            "n_estimators = 14 : 77.44945567651634\n",
            "n_estimators = 15 : 77.13841368584758\n",
            "n_estimators = 16 : 77.44945567651634\n",
            "n_estimators = 17 : 77.29393468118197\n",
            "n_estimators = 18 : 77.44945567651634\n",
            "n_estimators = 19 : 77.76049766718506\n"
          ],
          "name": "stdout"
        }
      ]
    },
    {
      "cell_type": "markdown",
      "metadata": {
        "id": "7tWeHwFei_Gp"
      },
      "source": [
        "`6` is the best value found for the `n_estimators` hyperparameter in the Random Forest Model, with an `accuracy_score` of `78.23%`."
      ]
    },
    {
      "cell_type": "markdown",
      "metadata": {
        "id": "tIHNBljei_Gq"
      },
      "source": [
        "#### Logistic Regression"
      ]
    },
    {
      "cell_type": "code",
      "metadata": {
        "id": "E4V5K9lvi_Gs",
        "outputId": "c2187449-48dc-4fe5-f1ed-7b3807c60a88"
      },
      "source": [
        "from sklearn.linear_model import LogisticRegression\n",
        "\n",
        "for solver in ['liblinear', 'lbfgs', 'newton-cg']:\n",
        "    lr_model = LogisticRegression(random_state=99, solver=solver)\n",
        "    lr_model.fit(features_train, target_train)\n",
        "    \n",
        "    print(\"solver =\", solver, \":\", lr_model.score(features_valid, target_valid)*100.0)"
      ],
      "execution_count": null,
      "outputs": [
        {
          "output_type": "stream",
          "text": [
            "solver = liblinear : 76.049766718507\n",
            "solver = lbfgs : 70.13996889580093\n",
            "solver = newton-cg : 75.73872472783826\n"
          ],
          "name": "stdout"
        }
      ]
    },
    {
      "cell_type": "markdown",
      "metadata": {
        "id": "y2V0JrNTi_Gy"
      },
      "source": [
        "`liblinear` is the best value found for the `solver` hyperparameter in the Logistic Regression Model, with an `accuracy_score` of `76.05%`."
      ]
    },
    {
      "cell_type": "markdown",
      "metadata": {
        "id": "r1UzSVJ1i_G0"
      },
      "source": [
        "### Conclusion"
      ]
    },
    {
      "cell_type": "markdown",
      "metadata": {
        "id": "AzlkcmBKi_G2"
      },
      "source": [
        "3 models were used to compare quality: The Decision Tree Model, the Random Forest Model, and the Logistic Regression Model. The Decision Tree model resulted in the highest `accuracy_score`. Random Forest came in second, and Logistic Regression came in third place.\n",
        "\n",
        "`7` is the best value found for the `max_depth` hyperparameter in the **Decision Tree** model for the validation set, with an `accuracy_score` of `80.09%`.\n",
        "\n",
        "`6` is the best value found for the `n_estimators` hyperparameter in the **Random Forest** model for the validation set, with an `accuracy_score` of `78.23%`.\n",
        "\n",
        "`liblinear` is the best value found for the `solver` hyperparameter in the **Logistic Regression** model for the validation set, with an `accuracy_score` of `76.05%`."
      ]
    },
    {
      "cell_type": "markdown",
      "metadata": {
        "id": "RI_fvzlmi_G5"
      },
      "source": [
        "### Step 4. Check the quality of the model using the test set."
      ]
    },
    {
      "cell_type": "markdown",
      "metadata": {
        "id": "hezo7iVyi_G7"
      },
      "source": [
        "#### Decision Tree Model"
      ]
    },
    {
      "cell_type": "code",
      "metadata": {
        "id": "bYV9pp4ri_G9",
        "outputId": "3d2f1a18-0278-47ed-b1e5-af8b7e4aa0e4"
      },
      "source": [
        "dt_model = DecisionTreeClassifier(random_state=99, max_depth=7)\n",
        "dt_model.fit(pd.concat([features_train, features_valid]), pd.concat([target_train, target_valid]))\n",
        "predictions_test = dt_model.predict(features_test)\n",
        "print(\"max_depth = 7\", \":\", accuracy_score(target_test, predictions_test)*100.0)"
      ],
      "execution_count": null,
      "outputs": [
        {
          "output_type": "stream",
          "text": [
            "max_depth = 7 : 77.76049766718506\n"
          ],
          "name": "stdout"
        }
      ]
    },
    {
      "cell_type": "markdown",
      "metadata": {
        "id": "EMtln3l7i_HE"
      },
      "source": [
        "#### Random Forest Model"
      ]
    },
    {
      "cell_type": "code",
      "metadata": {
        "id": "93Gt5w_Oi_HF",
        "outputId": "a464e296-c72e-4567-fe53-56af49bc08ec"
      },
      "source": [
        "rf_model = RandomForestClassifier(random_state=99, n_estimators=6)\n",
        "rf_model.fit(pd.concat([features_train, features_valid]), pd.concat([target_train, target_valid]))\n",
        "predictions_test = rf_model.predict(features_test)\n",
        "print(\"n_estimators = 6\", \":\", accuracy_score(target_test, predictions_test)*100.0)"
      ],
      "execution_count": null,
      "outputs": [
        {
          "output_type": "stream",
          "text": [
            "n_estimators = 6 : 79.00466562986003\n"
          ],
          "name": "stdout"
        }
      ]
    },
    {
      "cell_type": "markdown",
      "metadata": {
        "id": "OiVE3E9yi_HL"
      },
      "source": [
        "#### Logistic Regression"
      ]
    },
    {
      "cell_type": "code",
      "metadata": {
        "id": "Hpswu7KKi_HM",
        "outputId": "51a5bded-2b96-48d2-8551-5e5545284d34"
      },
      "source": [
        "lr_model = LogisticRegression(random_state=99, solver='liblinear')\n",
        "lr_model.fit(pd.concat([features_train, features_valid]), pd.concat([target_train, target_valid]))\n",
        "    \n",
        "print(\"solver = liblinear\", \":\", lr_model.score(features_test, target_test)*100.0)"
      ],
      "execution_count": null,
      "outputs": [
        {
          "output_type": "stream",
          "text": [
            "solver = liblinear : 73.25038880248833\n"
          ],
          "name": "stdout"
        }
      ]
    },
    {
      "cell_type": "markdown",
      "metadata": {
        "id": "4hcinJKci_HR"
      },
      "source": [
        "### Conclusion"
      ]
    },
    {
      "cell_type": "markdown",
      "metadata": {
        "id": "KxG1tOW5i_HS"
      },
      "source": [
        "For this step, the model was retrained with both the training and valid set in order to achieve better quality. The best hyperparameter value found from Step 3 for each model was used.\n",
        "\n",
        "Of the three models, the **Random Forest** model displayed the highest `accuracy_score` of `79.00%` on the test set with the `n_estimators` hyperparameter set to `6`.\n",
        "\n",
        "The **Decision Tree** model came in second with an `accuracy_score` of `77.76%` on the test set with the `max_depth` hyperparameter set to `7`.\n",
        "\n",
        "Lastly, the **Logistic Regression** model had an `accuracy_score` of `73.25%` on the test set with the `solver` hyperparameter set as `liblinear`."
      ]
    },
    {
      "cell_type": "markdown",
      "metadata": {
        "id": "MdmncPY5i_HT"
      },
      "source": [
        "### Step 5. Sanity check the model."
      ]
    },
    {
      "cell_type": "code",
      "metadata": {
        "id": "AbeF8jOGi_HU",
        "outputId": "02afa04f-6585-42f6-9243-d55ade4dcbb0"
      },
      "source": [
        "target_test.value_counts()"
      ],
      "execution_count": null,
      "outputs": [
        {
          "output_type": "execute_result",
          "data": {
            "text/plain": [
              "0    447\n",
              "1    196\n",
              "Name: is_ultra, dtype: int64"
            ]
          },
          "metadata": {
            "tags": []
          },
          "execution_count": 15
        }
      ]
    },
    {
      "cell_type": "code",
      "metadata": {
        "id": "ls2gCEAti_Hb",
        "outputId": "a950c155-558f-4b03-dce3-b64dfc9a2e66"
      },
      "source": [
        "target_test.mean() # percentage of 1's in target_test"
      ],
      "execution_count": null,
      "outputs": [
        {
          "output_type": "execute_result",
          "data": {
            "text/plain": [
              "0.3048211508553655"
            ]
          },
          "metadata": {
            "tags": []
          },
          "execution_count": 16
        }
      ]
    },
    {
      "cell_type": "code",
      "metadata": {
        "id": "nL0FrgUii_Hf",
        "outputId": "3bac45ee-e4f4-4fe4-ef55-50737cbe3301"
      },
      "source": [
        "1 - target_test.mean() # percentage of 0's in target_test"
      ],
      "execution_count": null,
      "outputs": [
        {
          "output_type": "execute_result",
          "data": {
            "text/plain": [
              "0.6951788491446345"
            ]
          },
          "metadata": {
            "tags": []
          },
          "execution_count": 17
        }
      ]
    },
    {
      "cell_type": "markdown",
      "metadata": {
        "id": "RGx52PxBi_Hl"
      },
      "source": [
        "### Conclusion"
      ]
    },
    {
      "cell_type": "markdown",
      "metadata": {
        "id": "bQvf5nZbi_Hn"
      },
      "source": [
        "The class distribution of `target_test` was examined and has revealed that 30.48% of the set has the value `1` and 69.52% of the set has the value `0`.\n",
        "\n",
        "Therefore, a model that always predicts 0 would be correct 69.52% of the time. All of the models that were investigated earlier have resulted in a higher accuracy percentage with the highest being 79% from the Random Forest model, indicating an improvement over a \"dumb\" model."
      ]
    },
    {
      "cell_type": "code",
      "metadata": {
        "id": "2CTTsbwWi_Hp"
      },
      "source": [
        ""
      ],
      "execution_count": null,
      "outputs": []
    }
  ]
}
